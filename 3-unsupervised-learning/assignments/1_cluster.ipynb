{
 "cells": [
  {
   "cell_type": "markdown",
   "metadata": {},
   "source": [
    "# Assignment: Подробнее о методах кластеризации"
   ]
  },
  {
   "cell_type": "markdown",
   "metadata": {},
   "source": [
    "Представим, что международное круизное агентство \"Carnival Cruise Line\" решило себя разрекламировать с помощью баннеров и обратилось для этого к Вам. Чтобы протестировать, велика ли от таких баннеров польза, их будет размещено всего 20 штук по всему миру. Вам надо выбрать 20 таких локаций для размещения, чтобы польза была большой и агентство продолжило с Вами сотрудничать.\n",
    "\n",
    "Агентство крупное, и у него есть несколько офисов по всему миру. Вблизи этих офисов оно и хочет разместить баннеры - легче договариваться и проверять результат. Также эти места должны быть популярны среди туристов.\n",
    "\n",
    "Для поиска оптимальных мест воспользуемся базой данных крупнейшей социальной сети, основанной на локациях - Foursqare.\n",
    "\n",
    "Часть открытых данных есть, например, на сайте archive.org:\n",
    "\n",
    "https://archive.org/details/201309_foursquare_dataset_umn\n",
    "\n",
    "Скачаем любым удобным образом архив с этой страницы."
   ]
  },
  {
   "cell_type": "markdown",
   "metadata": {},
   "source": [
    "Нас будет интересовать файл `checkins.dat`. Открыв его, увидим следующую структуру:\n",
    "\n",
    "```\n",
    "id | user_id | venue_id | latitude | longitude | created_at\n",
    "\n",
    "---------+---------+----------+-------------------+-------------------+---------------------\n",
    "\n",
    "984301 | 2041916 | 5222 | | | 2012-04-21 17:39:01\n",
    "\n",
    "984222 | 15824 | 5222 | 38.8951118 | -77.0363658 | 2012-04-21 17:43:47\n",
    "\n",
    "984315 | 1764391 | 5222 | | | 2012-04-21 17:37:18\n",
    "\n",
    "984234 | 44652 | 5222 | 33.800745 | -84.41052 | 2012-04-21 17:43:43\n",
    "\n",
    "...\n",
    "```"
   ]
  },
  {
   "cell_type": "markdown",
   "metadata": {},
   "source": [
    "Для удобной работы с этим документом преобразуем его к формату csv, удалив строки не содержащие координат - они неинформативны для нас:\n",
    "\n",
    "```\n",
    "id,user_id,venue_id,latitude,longitude,created_at\n",
    "\n",
    "984222,15824,5222,38.8951118,-77.0363658,2012-04-21T17:43:47\n",
    "\n",
    "984234,44652,5222,33.800745,-84.41052,2012-04-21T17:43:43\n",
    "\n",
    "984291,105054,5222,45.5234515,-122.6762071,2012-04-21T17:39:22\n",
    "\n",
    "...\n",
    "```\n",
    "\n",
    "С помощью `pandas` построим DataFrame и убедимся, что все 396634 строк с координатами считаны успешно."
   ]
  },
  {
   "cell_type": "code",
   "execution_count": 8,
   "metadata": {
    "collapsed": true
   },
   "outputs": [],
   "source": [
    "import numpy as np\n",
    "import pandas as pd\n",
    "from sklearn.cluster import MeanShift"
   ]
  },
  {
   "cell_type": "code",
   "execution_count": 118,
   "metadata": {},
   "outputs": [
    {
     "name": "stdout",
     "output_type": "stream",
     "text": [
      "       id    user_id  venue_id   latitude   longitude            created_at\n",
      "0  984222    15824.0    5222.0  38.895112  -77.036366   2012-04-21 17:43:47\n",
      "1  984234    44652.0    5222.0  33.800745  -84.410520   2012-04-21 17:43:43\n",
      "2  984291   105054.0    5222.0  45.523452 -122.676207   2012-04-21 17:39:22\n",
      "3  984318  2146539.0    5222.0  40.764462 -111.904565   2012-04-21 17:35:46\n",
      "4  984232    93870.0  380645.0  33.448377 -112.074037   2012-04-21 17:38:18\n",
      "(396634, 6)\n"
     ]
    }
   ],
   "source": [
    "dat = pd.read_csv('data/checkins.csv')\n",
    "print dat.head()\n",
    "print dat.shape"
   ]
  },
  {
   "cell_type": "markdown",
   "metadata": {},
   "source": [
    "Теперь необходимо кластеризовать данные координаты, чтобы выявить центры скоплений туристов. Поскольку баннеры имеют сравнительно небольшую площадь действия, нам нужен алгоритм, позволяющий ограничить размер кластера и не зависящий от количества кластеров.\n",
    "\n",
    "Эта задача - хороший повод познакомиться с алгоритмом `MeanShift`, который мы обошли стороной в основной части лекций. Его описание при желании можно посмотреть в [sklearn user guide](http://scikit-learn.org/stable/modules/generated/sklearn.cluster.MeanShift.html), а чуть позже появится дополнительное видео с обзором этого и некоторых других алгоритмов кластеризации. Используйте `MeanShift`, указав `bandwidth=0.1`, что в переводе из градусов в метры колеблется примерно от 5 до 10 км в средних широтах."
   ]
  },
  {
   "cell_type": "markdown",
   "metadata": {},
   "source": [
    "**Примечание**: на 396634 строках, кластеризация будет работать долго. Для получения корректного ответа достаточно и 100000 (~2 минуты на \"среднем\" ноутбуке). Быть очень терпеливым не возбраняется - результат от этого только улучшится."
   ]
  },
  {
   "cell_type": "code",
   "execution_count": 119,
   "metadata": {},
   "outputs": [
    {
     "name": "stdout",
     "output_type": "stream",
     "text": [
      "    latitude   longitude\n",
      "0  38.895112  -77.036366\n",
      "1  33.800745  -84.410520\n",
      "2  45.523452 -122.676207\n",
      "3  40.764462 -111.904565\n",
      "4  33.448377 -112.074037\n",
      "(100000, 2)\n"
     ]
    }
   ],
   "source": [
    "# select first 100 000 rows and coordinates:\n",
    "dat_1 = dat.iloc[:100000,3:5]\n",
    "print dat_1.head()\n",
    "print dat_1.shape"
   ]
  },
  {
   "cell_type": "code",
   "execution_count": 120,
   "metadata": {},
   "outputs": [
    {
     "data": {
      "text/plain": [
       "MeanShift(bandwidth=0.1, bin_seeding=False, cluster_all=True, min_bin_freq=1,\n",
       "     n_jobs=1, seeds=None)"
      ]
     },
     "execution_count": 120,
     "metadata": {},
     "output_type": "execute_result"
    }
   ],
   "source": [
    "model_clust = MeanShift(bandwidth=0.1)\n",
    "model_clust.fit(dat_1)"
   ]
  },
  {
   "cell_type": "code",
   "execution_count": 140,
   "metadata": {},
   "outputs": [
    {
     "data": {
      "text/plain": [
       "array([   5,    7,   30, ...,  238, 1223,   98], dtype=int64)"
      ]
     },
     "execution_count": 140,
     "metadata": {},
     "output_type": "execute_result"
    }
   ],
   "source": [
    "# predictions on all dataset\n",
    "preds = model_clust.predict(dat.iloc[:,3:5])\n",
    "preds"
   ]
  },
  {
   "cell_type": "code",
   "execution_count": 141,
   "metadata": {
    "scrolled": false
   },
   "outputs": [
    {
     "name": "stdout",
     "output_type": "stream",
     "text": [
      "[[  4.07177164e+01  -7.39918354e+01   0.00000000e+00]\n",
      " [  3.34494381e+01  -1.12002140e+02   1.00000000e+00]\n",
      " [  3.34463803e+01  -1.11901888e+02   2.00000000e+00]\n",
      " ..., \n",
      " [  3.92190608e+01  -1.21061061e+02   3.22700000e+03]\n",
      " [  3.13787916e+01  -9.53213317e+01   3.22800000e+03]\n",
      " [  5.07194116e+01  -1.98112960e+00   3.22900000e+03]]\n",
      "(3230L, 3L)\n"
     ]
    }
   ],
   "source": [
    "# cluster centers:\n",
    "centers = model_clust.cluster_centers_\n",
    "centr = np.zeros((centers.shape[0], centers.shape[1]+1))\n",
    "centr[:, :-1] = centers\n",
    "centr[:, 2] = [i for i in range(len(centr))]\n",
    "del(centers)\n",
    "print centr\n",
    "print centr.shape"
   ]
  },
  {
   "cell_type": "code",
   "execution_count": 142,
   "metadata": {
    "scrolled": true
   },
   "outputs": [
    {
     "data": {
      "text/html": [
       "<div>\n",
       "<style>\n",
       "    .dataframe thead tr:only-child th {\n",
       "        text-align: right;\n",
       "    }\n",
       "\n",
       "    .dataframe thead th {\n",
       "        text-align: left;\n",
       "    }\n",
       "\n",
       "    .dataframe tbody tr th {\n",
       "        vertical-align: top;\n",
       "    }\n",
       "</style>\n",
       "<table border=\"1\" class=\"dataframe\">\n",
       "  <thead>\n",
       "    <tr style=\"text-align: right;\">\n",
       "      <th></th>\n",
       "      <th>id</th>\n",
       "      <th>user_id</th>\n",
       "      <th>venue_id</th>\n",
       "      <th>latitude</th>\n",
       "      <th>longitude</th>\n",
       "      <th>created_at</th>\n",
       "      <th>cluster</th>\n",
       "      <th>cnt_cluster</th>\n",
       "    </tr>\n",
       "  </thead>\n",
       "  <tbody>\n",
       "    <tr>\n",
       "      <th>0</th>\n",
       "      <td>984222</td>\n",
       "      <td>15824.0</td>\n",
       "      <td>5222.0</td>\n",
       "      <td>38.895112</td>\n",
       "      <td>-77.036366</td>\n",
       "      <td>2012-04-21 17:43:47</td>\n",
       "      <td>5</td>\n",
       "      <td>10959</td>\n",
       "    </tr>\n",
       "    <tr>\n",
       "      <th>1</th>\n",
       "      <td>984234</td>\n",
       "      <td>44652.0</td>\n",
       "      <td>5222.0</td>\n",
       "      <td>33.800745</td>\n",
       "      <td>-84.410520</td>\n",
       "      <td>2012-04-21 17:43:43</td>\n",
       "      <td>7</td>\n",
       "      <td>7159</td>\n",
       "    </tr>\n",
       "    <tr>\n",
       "      <th>2</th>\n",
       "      <td>984291</td>\n",
       "      <td>105054.0</td>\n",
       "      <td>5222.0</td>\n",
       "      <td>45.523452</td>\n",
       "      <td>-122.676207</td>\n",
       "      <td>2012-04-21 17:39:22</td>\n",
       "      <td>30</td>\n",
       "      <td>2275</td>\n",
       "    </tr>\n",
       "    <tr>\n",
       "      <th>3</th>\n",
       "      <td>984318</td>\n",
       "      <td>2146539.0</td>\n",
       "      <td>5222.0</td>\n",
       "      <td>40.764462</td>\n",
       "      <td>-111.904565</td>\n",
       "      <td>2012-04-21 17:35:46</td>\n",
       "      <td>66</td>\n",
       "      <td>582</td>\n",
       "    </tr>\n",
       "    <tr>\n",
       "      <th>4</th>\n",
       "      <td>984232</td>\n",
       "      <td>93870.0</td>\n",
       "      <td>380645.0</td>\n",
       "      <td>33.448377</td>\n",
       "      <td>-112.074037</td>\n",
       "      <td>2012-04-21 17:38:18</td>\n",
       "      <td>1</td>\n",
       "      <td>10895</td>\n",
       "    </tr>\n",
       "  </tbody>\n",
       "</table>\n",
       "</div>"
      ],
      "text/plain": [
       "       id    user_id  venue_id   latitude   longitude            created_at  \\\n",
       "0  984222    15824.0    5222.0  38.895112  -77.036366   2012-04-21 17:43:47   \n",
       "1  984234    44652.0    5222.0  33.800745  -84.410520   2012-04-21 17:43:43   \n",
       "2  984291   105054.0    5222.0  45.523452 -122.676207   2012-04-21 17:39:22   \n",
       "3  984318  2146539.0    5222.0  40.764462 -111.904565   2012-04-21 17:35:46   \n",
       "4  984232    93870.0  380645.0  33.448377 -112.074037   2012-04-21 17:38:18   \n",
       "\n",
       "   cluster  cnt_cluster  \n",
       "0        5        10959  \n",
       "1        7         7159  \n",
       "2       30         2275  \n",
       "3       66          582  \n",
       "4        1        10895  "
      ]
     },
     "execution_count": 142,
     "metadata": {},
     "output_type": "execute_result"
    }
   ],
   "source": [
    "dat['cluster'] = preds\n",
    "dat.head()"
   ]
  },
  {
   "cell_type": "markdown",
   "metadata": {},
   "source": [
    "Некоторые из получившихся кластеров содержат слишком мало точек - такие кластеры не интересны рекламодателям. Поэтому надо определить, какие из кластеров содержат, скажем, больше 15 элементов. Центры этих кластеров и являются оптимальными для размещения."
   ]
  },
  {
   "cell_type": "code",
   "execution_count": 143,
   "metadata": {
    "collapsed": true,
    "scrolled": true
   },
   "outputs": [],
   "source": [
    "# count observations per cluster and remove clusters with <= 15  obs\n",
    "tmp = dat.groupby('cluster', as_index=False)\\\n",
    "    .count()[['cluster', 'id']]\\\n",
    "    .rename(columns={'id': 'cnt_cluster'})\n",
    "    \n",
    "# use merge or suffix!    \n",
    "# df_a.join(df_b, on='mukey', how='left', lsuffix='_left', rsuffix='_right')\n",
    "#dat = dat.merge(tmp, how='left', on='cluster')"
   ]
  },
  {
   "cell_type": "code",
   "execution_count": 262,
   "metadata": {
    "scrolled": false
   },
   "outputs": [
    {
     "name": "stdout",
     "output_type": "stream",
     "text": [
      "         lat        lon cluster  cnt_cluster       dist\n",
      "0  40.717716 -73.991835       0        56450  84.693463\n"
     ]
    }
   ],
   "source": [
    "# DO NOT NEED THIS!\n",
    "# select cols and filter rows example\n",
    "# rows\n",
    "dat[dat['cnt_cluster'] > 15].head(1)\n",
    "# cols\n",
    "dat[dat.columns.difference(['created_at'])].head(1)\n",
    "dat.query('cnt_cluster > 15')\n",
    "print centr_1[centr_1['cnt_cluster'] > 15].head(1)"
   ]
  },
  {
   "cell_type": "code",
   "execution_count": 162,
   "metadata": {},
   "outputs": [
    {
     "data": {
      "text/plain": [
       "(1417, 4)"
      ]
     },
     "execution_count": 162,
     "metadata": {},
     "output_type": "execute_result"
    }
   ],
   "source": [
    "# join to centers cnt_cluster:\n",
    "centr_1 = pd.DataFrame( centr, \n",
    "                      #index = range(len(dat_1)),\n",
    "                      columns=['lat', 'lon', 'cluster'])\n",
    "#centr_1 = pd.DataFrame(centr).rename(columns={0:'lat', 1:'lon', 2:'cluster'})\n",
    "centr_1 = centr_1.merge(tmp, how='left', on = 'cluster')\n",
    "centr_filtered = centr_1[centr_1['cnt_cluster']>15]\n",
    "#centr_filtered.head()\n",
    "centr_filtered.shape"
   ]
  },
  {
   "cell_type": "markdown",
   "metadata": {},
   "source": [
    "При желании увидеть получившиеся результаты на карте, можно передать центры получившихся кластеров в один из инструментов визуализации. Например, сайт `mapcustomizer.com` имеет функцию Bulk Entry, куда можно вставить центры полученных кластеров в формате:\n",
    "\n",
    "```\n",
    "38.8951118,-77.0363658\n",
    "\n",
    "33.800745,-84.41052\n",
    "\n",
    "45.5234515,-122.6762071\n",
    "\n",
    "...\n",
    "```"
   ]
  },
  {
   "cell_type": "code",
   "execution_count": 172,
   "metadata": {
    "collapsed": true
   },
   "outputs": [],
   "source": [
    "# out\n",
    "centr_filtered.iloc[:,0:2].to_csv('data/cluster_centrs.csv', index=False)"
   ]
  },
  {
   "cell_type": "markdown",
   "metadata": {},
   "source": [
    "Как мы помним, 20 баннеров надо разместить близ офисов компании. Найдем на Google Maps по запросу \"Carnival Cruise Line\" адреса офисов:\n",
    "\n",
    "```\n",
    "33.751277, -118.188740 (Los Angeles)\n",
    "\n",
    "25.867736, -80.324116 (Miami)\n",
    "\n",
    "51.503016, -0.075479 (London)\n",
    "\n",
    "52.378894, 4.885084 (Amsterdam)\n",
    "\n",
    "39.366487, 117.036146 (Beijing)\n",
    "\n",
    "-33.868457, 151.205134 (Sydney)\n",
    "```\n",
    "\n",
    "Осталось определить 20 ближайших к ним центров кластеров. Т.е. посчитать дистанцию до ближайшего офиса для каждой точки и выбрать 20 с наименьшим значением.\n",
    "\n",
    "**Примечание**: при подсчете расстояний и в кластеризации можно пренебречь тем, что Земля круглая, так как в точках, расположенных близко друг к другу погрешность мала, а в остальных точках значение достаточно велико, чтобы не повлиять на кластеризацию или сортировку."
   ]
  },
  {
   "cell_type": "code",
   "execution_count": 176,
   "metadata": {
    "scrolled": false
   },
   "outputs": [
    {
     "data": {
      "text/html": [
       "<div>\n",
       "<style>\n",
       "    .dataframe thead tr:only-child th {\n",
       "        text-align: right;\n",
       "    }\n",
       "\n",
       "    .dataframe thead th {\n",
       "        text-align: left;\n",
       "    }\n",
       "\n",
       "    .dataframe tbody tr th {\n",
       "        vertical-align: top;\n",
       "    }\n",
       "</style>\n",
       "<table border=\"1\" class=\"dataframe\">\n",
       "  <thead>\n",
       "    <tr style=\"text-align: right;\">\n",
       "      <th></th>\n",
       "      <th>city</th>\n",
       "      <th>latitude</th>\n",
       "      <th>longitude</th>\n",
       "    </tr>\n",
       "  </thead>\n",
       "  <tbody>\n",
       "    <tr>\n",
       "      <th>0</th>\n",
       "      <td>Los Angeles</td>\n",
       "      <td>33.751277</td>\n",
       "      <td>-118.188740</td>\n",
       "    </tr>\n",
       "    <tr>\n",
       "      <th>1</th>\n",
       "      <td>Miami</td>\n",
       "      <td>25.867736</td>\n",
       "      <td>-80.324116</td>\n",
       "    </tr>\n",
       "    <tr>\n",
       "      <th>2</th>\n",
       "      <td>London</td>\n",
       "      <td>51.503016</td>\n",
       "      <td>-0.075479</td>\n",
       "    </tr>\n",
       "    <tr>\n",
       "      <th>3</th>\n",
       "      <td>Amsterdam</td>\n",
       "      <td>52.378894</td>\n",
       "      <td>4.885084</td>\n",
       "    </tr>\n",
       "    <tr>\n",
       "      <th>4</th>\n",
       "      <td>Beijing</td>\n",
       "      <td>39.366487</td>\n",
       "      <td>117.036146</td>\n",
       "    </tr>\n",
       "    <tr>\n",
       "      <th>5</th>\n",
       "      <td>Sydney</td>\n",
       "      <td>-33.868457</td>\n",
       "      <td>151.205134</td>\n",
       "    </tr>\n",
       "  </tbody>\n",
       "</table>\n",
       "</div>"
      ],
      "text/plain": [
       "          city   latitude   longitude\n",
       "0  Los Angeles  33.751277 -118.188740\n",
       "1        Miami  25.867736  -80.324116\n",
       "2       London  51.503016   -0.075479\n",
       "3    Amsterdam  52.378894    4.885084\n",
       "4      Beijing  39.366487  117.036146\n",
       "5       Sydney -33.868457  151.205134"
      ]
     },
     "execution_count": 176,
     "metadata": {},
     "output_type": "execute_result"
    }
   ],
   "source": [
    "offices = pd.DataFrame({'latitude':[33.751277,25.867736, 51.503016, 52.378894, 39.366487, -33.868457], \n",
    "                        'longitude': [-118.188740, -80.324116, -0.075479, 4.885084, 117.036146, 151.205134 ], \n",
    "                         'city' : ['Los Angeles', 'Miami', 'London', 'Amsterdam', 'Beijing', 'Sydney']})\n",
    "offices"
   ]
  },
  {
   "cell_type": "code",
   "execution_count": 199,
   "metadata": {
    "collapsed": true
   },
   "outputs": [],
   "source": [
    "#np.linalg.norm( a - offices.iloc[:,1:3])\n",
    "def nearest_point(point, others):\n",
    "    return np.min( np.array([ np.linalg.norm(point - p) for p in others]))"
   ]
  },
  {
   "cell_type": "code",
   "execution_count": 200,
   "metadata": {},
   "outputs": [
    {
     "data": {
      "text/plain": [
       "103.13375473005401"
      ]
     },
     "execution_count": 200,
     "metadata": {},
     "output_type": "execute_result"
    }
   ],
   "source": [
    "# test\n",
    "a = np.array(centr_filtered.iloc[1,0:2])\n",
    "nearest_point(point=a, others= np.array(offices.iloc[:,1:2]))"
   ]
  },
  {
   "cell_type": "code",
   "execution_count": 212,
   "metadata": {
    "collapsed": true
   },
   "outputs": [],
   "source": [
    "# for each cluster centr calculate distance to nearest office \n",
    "dist = np.zeros(len(centr_filtered))\n",
    "for i in range(len(centr_filtered)):\n",
    "    #print centr_filtered.iloc[i,0:2]\n",
    "    #print np.array(offices.iloc[:,1:2])\n",
    "    dist[i] = nearest_point( point=np.array(centr_filtered.iloc[i,0:2]), others=np.array(offices.iloc[:,1:2]) )\n",
    "    #print dist[i]"
   ]
  },
  {
   "cell_type": "code",
   "execution_count": 215,
   "metadata": {
    "scrolled": true
   },
   "outputs": [
    {
     "data": {
      "text/html": [
       "<div>\n",
       "<style>\n",
       "    .dataframe thead tr:only-child th {\n",
       "        text-align: right;\n",
       "    }\n",
       "\n",
       "    .dataframe thead th {\n",
       "        text-align: left;\n",
       "    }\n",
       "\n",
       "    .dataframe tbody tr th {\n",
       "        vertical-align: top;\n",
       "    }\n",
       "</style>\n",
       "<table border=\"1\" class=\"dataframe\">\n",
       "  <thead>\n",
       "    <tr style=\"text-align: right;\">\n",
       "      <th></th>\n",
       "      <th>lat</th>\n",
       "      <th>lon</th>\n",
       "      <th>cluster</th>\n",
       "      <th>cnt_cluster</th>\n",
       "      <th>dist</th>\n",
       "    </tr>\n",
       "  </thead>\n",
       "  <tbody>\n",
       "    <tr>\n",
       "      <th>0</th>\n",
       "      <td>40.717716</td>\n",
       "      <td>-73.991835</td>\n",
       "      <td>0</td>\n",
       "      <td>56450</td>\n",
       "      <td>84.693463</td>\n",
       "    </tr>\n",
       "    <tr>\n",
       "      <th>1</th>\n",
       "      <td>33.449438</td>\n",
       "      <td>-112.002140</td>\n",
       "      <td>1</td>\n",
       "      <td>10895</td>\n",
       "      <td>103.133755</td>\n",
       "    </tr>\n",
       "    <tr>\n",
       "      <th>2</th>\n",
       "      <td>33.446380</td>\n",
       "      <td>-111.901888</td>\n",
       "      <td>2</td>\n",
       "      <td>9175</td>\n",
       "      <td>103.055828</td>\n",
       "    </tr>\n",
       "    <tr>\n",
       "      <th>3</th>\n",
       "      <td>41.878244</td>\n",
       "      <td>-87.629843</td>\n",
       "      <td>3</td>\n",
       "      <td>15283</td>\n",
       "      <td>92.886217</td>\n",
       "    </tr>\n",
       "    <tr>\n",
       "      <th>4</th>\n",
       "      <td>37.688682</td>\n",
       "      <td>-122.409330</td>\n",
       "      <td>4</td>\n",
       "      <td>15099</td>\n",
       "      <td>113.841602</td>\n",
       "    </tr>\n",
       "  </tbody>\n",
       "</table>\n",
       "</div>"
      ],
      "text/plain": [
       "         lat         lon cluster  cnt_cluster        dist\n",
       "0  40.717716  -73.991835       0        56450   84.693463\n",
       "1  33.449438 -112.002140       1        10895  103.133755\n",
       "2  33.446380 -111.901888       2         9175  103.055828\n",
       "3  41.878244  -87.629843       3        15283   92.886217\n",
       "4  37.688682 -122.409330       4        15099  113.841602"
      ]
     },
     "execution_count": 215,
     "metadata": {},
     "output_type": "execute_result"
    }
   ],
   "source": [
    "# add dist column\n",
    "centr_1 = centr_filtered\n",
    "centr_1['dist'] = dist\n",
    "centr_1.head()"
   ]
  },
  {
   "cell_type": "code",
   "execution_count": 223,
   "metadata": {},
   "outputs": [
    {
     "data": {
      "text/html": [
       "<div>\n",
       "<style>\n",
       "    .dataframe thead tr:only-child th {\n",
       "        text-align: right;\n",
       "    }\n",
       "\n",
       "    .dataframe thead th {\n",
       "        text-align: left;\n",
       "    }\n",
       "\n",
       "    .dataframe tbody tr th {\n",
       "        vertical-align: top;\n",
       "    }\n",
       "</style>\n",
       "<table border=\"1\" class=\"dataframe\">\n",
       "  <thead>\n",
       "    <tr style=\"text-align: right;\">\n",
       "      <th></th>\n",
       "      <th>lat</th>\n",
       "      <th>lon</th>\n",
       "      <th>cluster</th>\n",
       "      <th>cnt_cluster</th>\n",
       "      <th>dist</th>\n",
       "    </tr>\n",
       "  </thead>\n",
       "  <tbody>\n",
       "    <tr>\n",
       "      <th>1049</th>\n",
       "      <td>33.888629</td>\n",
       "      <td>35.495479</td>\n",
       "      <td>1049</td>\n",
       "      <td>20</td>\n",
       "      <td>1.749602</td>\n",
       "    </tr>\n",
       "    <tr>\n",
       "      <th>3196</th>\n",
       "      <td>32.168200</td>\n",
       "      <td>34.812500</td>\n",
       "      <td>3196</td>\n",
       "      <td>25</td>\n",
       "      <td>1.905866</td>\n",
       "    </tr>\n",
       "    <tr>\n",
       "      <th>470</th>\n",
       "      <td>32.059502</td>\n",
       "      <td>34.788657</td>\n",
       "      <td>470</td>\n",
       "      <td>89</td>\n",
       "      <td>1.984505</td>\n",
       "    </tr>\n",
       "    <tr>\n",
       "      <th>1148</th>\n",
       "      <td>31.046051</td>\n",
       "      <td>34.851612</td>\n",
       "      <td>1148</td>\n",
       "      <td>35</td>\n",
       "      <td>2.920443</td>\n",
       "    </tr>\n",
       "    <tr>\n",
       "      <th>1468</th>\n",
       "      <td>30.064742</td>\n",
       "      <td>31.249509</td>\n",
       "      <td>1468</td>\n",
       "      <td>17</td>\n",
       "      <td>4.455265</td>\n",
       "    </tr>\n",
       "    <tr>\n",
       "      <th>475</th>\n",
       "      <td>41.005270</td>\n",
       "      <td>28.976960</td>\n",
       "      <td>475</td>\n",
       "      <td>74</td>\n",
       "      <td>8.684153</td>\n",
       "    </tr>\n",
       "    <tr>\n",
       "      <th>3067</th>\n",
       "      <td>36.418180</td>\n",
       "      <td>25.431150</td>\n",
       "      <td>3067</td>\n",
       "      <td>16</td>\n",
       "      <td>8.737098</td>\n",
       "    </tr>\n",
       "    <tr>\n",
       "      <th>2047</th>\n",
       "      <td>37.979180</td>\n",
       "      <td>23.716647</td>\n",
       "      <td>2047</td>\n",
       "      <td>44</td>\n",
       "      <td>10.888938</td>\n",
       "    </tr>\n",
       "    <tr>\n",
       "      <th>261</th>\n",
       "      <td>-22.903539</td>\n",
       "      <td>-43.209587</td>\n",
       "      <td>261</td>\n",
       "      <td>110</td>\n",
       "      <td>14.404379</td>\n",
       "    </tr>\n",
       "    <tr>\n",
       "      <th>278</th>\n",
       "      <td>55.748350</td>\n",
       "      <td>37.623850</td>\n",
       "      <td>278</td>\n",
       "      <td>115</td>\n",
       "      <td>14.513928</td>\n",
       "    </tr>\n",
       "    <tr>\n",
       "      <th>1557</th>\n",
       "      <td>-27.596904</td>\n",
       "      <td>-48.549454</td>\n",
       "      <td>1557</td>\n",
       "      <td>24</td>\n",
       "      <td>15.964463</td>\n",
       "    </tr>\n",
       "    <tr>\n",
       "      <th>2053</th>\n",
       "      <td>-23.655334</td>\n",
       "      <td>-46.567073</td>\n",
       "      <td>2053</td>\n",
       "      <td>21</td>\n",
       "      <td>16.296096</td>\n",
       "    </tr>\n",
       "    <tr>\n",
       "      <th>105</th>\n",
       "      <td>-23.549518</td>\n",
       "      <td>-46.638219</td>\n",
       "      <td>105</td>\n",
       "      <td>375</td>\n",
       "      <td>16.417896</td>\n",
       "    </tr>\n",
       "    <tr>\n",
       "      <th>1280</th>\n",
       "      <td>-22.906365</td>\n",
       "      <td>-47.061574</td>\n",
       "      <td>1280</td>\n",
       "      <td>18</td>\n",
       "      <td>17.153012</td>\n",
       "    </tr>\n",
       "    <tr>\n",
       "      <th>885</th>\n",
       "      <td>-25.428356</td>\n",
       "      <td>-49.273252</td>\n",
       "      <td>885</td>\n",
       "      <td>25</td>\n",
       "      <td>17.565392</td>\n",
       "    </tr>\n",
       "    <tr>\n",
       "      <th>1050</th>\n",
       "      <td>-30.027704</td>\n",
       "      <td>-51.228735</td>\n",
       "      <td>1050</td>\n",
       "      <td>32</td>\n",
       "      <td>17.780062</td>\n",
       "    </tr>\n",
       "    <tr>\n",
       "      <th>813</th>\n",
       "      <td>47.498406</td>\n",
       "      <td>19.040758</td>\n",
       "      <td>813</td>\n",
       "      <td>53</td>\n",
       "      <td>20.134123</td>\n",
       "    </tr>\n",
       "    <tr>\n",
       "      <th>663</th>\n",
       "      <td>41.900050</td>\n",
       "      <td>12.464518</td>\n",
       "      <td>663</td>\n",
       "      <td>30</td>\n",
       "      <td>20.896922</td>\n",
       "    </tr>\n",
       "    <tr>\n",
       "      <th>358</th>\n",
       "      <td>25.264444</td>\n",
       "      <td>55.311667</td>\n",
       "      <td>358</td>\n",
       "      <td>88</td>\n",
       "      <td>21.286530</td>\n",
       "    </tr>\n",
       "    <tr>\n",
       "      <th>3200</th>\n",
       "      <td>45.814912</td>\n",
       "      <td>15.978514</td>\n",
       "      <td>3200</td>\n",
       "      <td>16</td>\n",
       "      <td>21.480279</td>\n",
       "    </tr>\n",
       "  </tbody>\n",
       "</table>\n",
       "</div>"
      ],
      "text/plain": [
       "            lat        lon cluster  cnt_cluster       dist\n",
       "1049  33.888629  35.495479    1049           20   1.749602\n",
       "3196  32.168200  34.812500    3196           25   1.905866\n",
       "470   32.059502  34.788657     470           89   1.984505\n",
       "1148  31.046051  34.851612    1148           35   2.920443\n",
       "1468  30.064742  31.249509    1468           17   4.455265\n",
       "475   41.005270  28.976960     475           74   8.684153\n",
       "3067  36.418180  25.431150    3067           16   8.737098\n",
       "2047  37.979180  23.716647    2047           44  10.888938\n",
       "261  -22.903539 -43.209587     261          110  14.404379\n",
       "278   55.748350  37.623850     278          115  14.513928\n",
       "1557 -27.596904 -48.549454    1557           24  15.964463\n",
       "2053 -23.655334 -46.567073    2053           21  16.296096\n",
       "105  -23.549518 -46.638219     105          375  16.417896\n",
       "1280 -22.906365 -47.061574    1280           18  17.153012\n",
       "885  -25.428356 -49.273252     885           25  17.565392\n",
       "1050 -30.027704 -51.228735    1050           32  17.780062\n",
       "813   47.498406  19.040758     813           53  20.134123\n",
       "663   41.900050  12.464518     663           30  20.896922\n",
       "358   25.264444  55.311667     358           88  21.286530\n",
       "3200  45.814912  15.978514    3200           16  21.480279"
      ]
     },
     "execution_count": 223,
     "metadata": {},
     "output_type": "execute_result"
    }
   ],
   "source": [
    "# select top 20:\n",
    "top_20_clusters = centr_1.sort_values(by=['dist'], ascending=True).head(20)\n",
    "top_20_clusters"
   ]
  },
  {
   "cell_type": "markdown",
   "metadata": {},
   "source": [
    "Предположим, вы получили итоговые 20 точек в следующем виде:\n",
    "\n",
    "```\n",
    "latitude, longitude\n",
    "\n",
    "2.2,-2.2\n",
    "\n",
    "3.3,-3.3\n",
    "\n",
    "1.1,-0.1\n",
    "\n",
    "1.1,-1.1\n",
    "\n",
    "…\n",
    "\n",
    "19.19,-19.19\n",
    "```\n",
    "\n",
    "Отсортируйте полученный список пар (широта, долгота) по возрастанию (пары сравниваются сначала по первому элементу, затем по второму):\n",
    "\n",
    "```\n",
    "latitude, longitude\n",
    "\n",
    "1.1,-1.1\n",
    "\n",
    "1.1,-0.1\n",
    "\n",
    "2.2,-2.2\n",
    "\n",
    "3.3,-3.3\n",
    "\n",
    "…\n",
    "\n",
    "19.19,-19.19\n",
    "```"
   ]
  },
  {
   "cell_type": "code",
   "execution_count": 227,
   "metadata": {},
   "outputs": [
    {
     "data": {
      "text/html": [
       "<div>\n",
       "<style>\n",
       "    .dataframe thead tr:only-child th {\n",
       "        text-align: right;\n",
       "    }\n",
       "\n",
       "    .dataframe thead th {\n",
       "        text-align: left;\n",
       "    }\n",
       "\n",
       "    .dataframe tbody tr th {\n",
       "        vertical-align: top;\n",
       "    }\n",
       "</style>\n",
       "<table border=\"1\" class=\"dataframe\">\n",
       "  <thead>\n",
       "    <tr style=\"text-align: right;\">\n",
       "      <th></th>\n",
       "      <th>lat</th>\n",
       "      <th>lon</th>\n",
       "    </tr>\n",
       "  </thead>\n",
       "  <tbody>\n",
       "    <tr>\n",
       "      <th>1050</th>\n",
       "      <td>-30.027704</td>\n",
       "      <td>-51.228735</td>\n",
       "    </tr>\n",
       "    <tr>\n",
       "      <th>1557</th>\n",
       "      <td>-27.596904</td>\n",
       "      <td>-48.549454</td>\n",
       "    </tr>\n",
       "    <tr>\n",
       "      <th>885</th>\n",
       "      <td>-25.428356</td>\n",
       "      <td>-49.273252</td>\n",
       "    </tr>\n",
       "    <tr>\n",
       "      <th>2053</th>\n",
       "      <td>-23.655334</td>\n",
       "      <td>-46.567073</td>\n",
       "    </tr>\n",
       "    <tr>\n",
       "      <th>105</th>\n",
       "      <td>-23.549518</td>\n",
       "      <td>-46.638219</td>\n",
       "    </tr>\n",
       "    <tr>\n",
       "      <th>1280</th>\n",
       "      <td>-22.906365</td>\n",
       "      <td>-47.061574</td>\n",
       "    </tr>\n",
       "    <tr>\n",
       "      <th>261</th>\n",
       "      <td>-22.903539</td>\n",
       "      <td>-43.209587</td>\n",
       "    </tr>\n",
       "    <tr>\n",
       "      <th>358</th>\n",
       "      <td>25.264444</td>\n",
       "      <td>55.311667</td>\n",
       "    </tr>\n",
       "    <tr>\n",
       "      <th>1468</th>\n",
       "      <td>30.064742</td>\n",
       "      <td>31.249509</td>\n",
       "    </tr>\n",
       "    <tr>\n",
       "      <th>1148</th>\n",
       "      <td>31.046051</td>\n",
       "      <td>34.851612</td>\n",
       "    </tr>\n",
       "    <tr>\n",
       "      <th>470</th>\n",
       "      <td>32.059502</td>\n",
       "      <td>34.788657</td>\n",
       "    </tr>\n",
       "    <tr>\n",
       "      <th>3196</th>\n",
       "      <td>32.168200</td>\n",
       "      <td>34.812500</td>\n",
       "    </tr>\n",
       "    <tr>\n",
       "      <th>1049</th>\n",
       "      <td>33.888629</td>\n",
       "      <td>35.495479</td>\n",
       "    </tr>\n",
       "    <tr>\n",
       "      <th>3067</th>\n",
       "      <td>36.418180</td>\n",
       "      <td>25.431150</td>\n",
       "    </tr>\n",
       "    <tr>\n",
       "      <th>2047</th>\n",
       "      <td>37.979180</td>\n",
       "      <td>23.716647</td>\n",
       "    </tr>\n",
       "    <tr>\n",
       "      <th>475</th>\n",
       "      <td>41.005270</td>\n",
       "      <td>28.976960</td>\n",
       "    </tr>\n",
       "    <tr>\n",
       "      <th>663</th>\n",
       "      <td>41.900050</td>\n",
       "      <td>12.464518</td>\n",
       "    </tr>\n",
       "    <tr>\n",
       "      <th>3200</th>\n",
       "      <td>45.814912</td>\n",
       "      <td>15.978514</td>\n",
       "    </tr>\n",
       "    <tr>\n",
       "      <th>813</th>\n",
       "      <td>47.498406</td>\n",
       "      <td>19.040758</td>\n",
       "    </tr>\n",
       "    <tr>\n",
       "      <th>278</th>\n",
       "      <td>55.748350</td>\n",
       "      <td>37.623850</td>\n",
       "    </tr>\n",
       "  </tbody>\n",
       "</table>\n",
       "</div>"
      ],
      "text/plain": [
       "            lat        lon\n",
       "1050 -30.027704 -51.228735\n",
       "1557 -27.596904 -48.549454\n",
       "885  -25.428356 -49.273252\n",
       "2053 -23.655334 -46.567073\n",
       "105  -23.549518 -46.638219\n",
       "1280 -22.906365 -47.061574\n",
       "261  -22.903539 -43.209587\n",
       "358   25.264444  55.311667\n",
       "1468  30.064742  31.249509\n",
       "1148  31.046051  34.851612\n",
       "470   32.059502  34.788657\n",
       "3196  32.168200  34.812500\n",
       "1049  33.888629  35.495479\n",
       "3067  36.418180  25.431150\n",
       "2047  37.979180  23.716647\n",
       "475   41.005270  28.976960\n",
       "663   41.900050  12.464518\n",
       "3200  45.814912  15.978514\n",
       "813   47.498406  19.040758\n",
       "278   55.748350  37.623850"
      ]
     },
     "execution_count": 227,
     "metadata": {},
     "output_type": "execute_result"
    }
   ],
   "source": [
    "final_clusters = top_20_clusters[['lat','lon']].sort_values(['lat', 'lon'], ascending=True )\n",
    "final_clusters"
   ]
  },
  {
   "cell_type": "markdown",
   "metadata": {},
   "source": [
    "В итоговый файл с ответами выведите по очереди широту и долготу каждой точки (в том же порядке), получив одну строчку из 40 чисел, разделенных пробелами:\n",
    "\n",
    "`1.1 -1.1 1.1 -0.1 2.2 -2.2 3.3 -3.3 … 19.19 -19.19`"
   ]
  },
  {
   "cell_type": "code",
   "execution_count": 256,
   "metadata": {
    "collapsed": true
   },
   "outputs": [],
   "source": [
    "def write_ans(df):\n",
    "    str_tmp = \"\"\n",
    "    for i in range(len(df.iloc[:,0])):\n",
    "        for j in range(len(df.iloc[0,:])):\n",
    "            str_tmp = str_tmp + ' ' + str(df.iloc[i,j])\n",
    "            #print str_tmp\n",
    "    #return( str_tmp)\n",
    "    with open(\"Clustering_answer.txt\", \"w\") as f_out:\n",
    "        f_out.write(str_tmp.strip(' '))"
   ]
  },
  {
   "cell_type": "code",
   "execution_count": 257,
   "metadata": {
    "collapsed": true
   },
   "outputs": [],
   "source": [
    "write_ans(df=final_clusters)"
   ]
  },
  {
   "cell_type": "code",
   "execution_count": 261,
   "metadata": {},
   "outputs": [
    {
     "name": "stdout",
     "output_type": "stream",
     "text": [
      "['-30.0277041 -51.2287346 -27.5969039 -48.5494544 -25.4283563 -49.2732515 -23.65533385 -46.56707305 -23.5495183462 -46.6382188812 -22.9063648 -47.0615741 -22.9035393 -43.2095869 25.2644444 55.3116667 30.064742 31.249509 31.046051 34.851612 32.0595018783 34.788656713 32.1682 34.8125 33.8886289 35.4954794 36.41818 25.43115 37.97918 23.716647 41.00527 28.97696 41.9000504615 12.4645179615 45.814912 15.9785145 47.4984056 19.0407578 55.7483495182 37.6238504182']\n"
     ]
    }
   ],
   "source": [
    "# check:\n",
    "with open(\"Clustering_answer.txt\", \"r\") as f_in: \n",
    "    print f_in.readlines()"
   ]
  }
 ],
 "metadata": {
  "kernelspec": {
   "display_name": "Python 3",
   "language": "python",
   "name": "python3"
  },
  "language_info": {
   "codemirror_mode": {
    "name": "ipython",
    "version": 3
   },
   "file_extension": ".py",
   "mimetype": "text/x-python",
   "name": "python",
   "nbconvert_exporter": "python",
   "pygments_lexer": "ipython3",
   "version": "3.6.3"
  }
 },
 "nbformat": 4,
 "nbformat_minor": 1
}
