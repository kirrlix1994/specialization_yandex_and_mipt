{
 "cells": [
  {
   "cell_type": "markdown",
   "metadata": {},
   "source": [
    "# Градиентный бустинг своими руками\n",
    "\n",
    "**Внимание:** в тексте задания произошли изменения - поменялось число деревьев (теперь 50), правило изменения величины шага в задании 3 и добавился параметр `random_state` у решающего дерева. Правильные ответы не поменялись, но теперь их проще получить. Также исправлена опечатка в функции `gbm_predict`.\n",
    "\n",
    "В этом задании будет использоваться датасет `boston` из `sklearn.datasets`. Оставьте последние 25% объектов для контроля качества, разделив `X` и `y` на `X_train`, `y_train` и `X_test`, `y_test`.\n",
    "\n",
    "Целью задания будет реализовать простой вариант градиентного бустинга над регрессионными деревьями для случая квадратичной функции потерь."
   ]
  },
  {
   "cell_type": "code",
   "execution_count": 128,
   "metadata": {
    "collapsed": true
   },
   "outputs": [],
   "source": [
    "import sklearn \n",
    "from sklearn.datasets import load_boston\n",
    "from sklearn.tree import DecisionTreeRegressor\n",
    "from sklearn.cross_validation import train_test_split\n",
    "from sklearn.metrics import mean_squared_error\n",
    "from matplotlib import pyplot as plt"
   ]
  },
  {
   "cell_type": "code",
   "execution_count": 129,
   "metadata": {},
   "outputs": [
    {
     "data": {
      "text/plain": [
       "(506L, 13L)"
      ]
     },
     "execution_count": 129,
     "metadata": {},
     "output_type": "execute_result"
    }
   ],
   "source": [
    "# import data\n",
    "X,y = load_boston(return_X_y = True) \n",
    "#print X\n",
    "#print y\n",
    "X.shape"
   ]
  },
  {
   "cell_type": "code",
   "execution_count": 130,
   "metadata": {},
   "outputs": [
    {
     "name": "stdout",
     "output_type": "stream",
     "text": [
      "506\n"
     ]
    }
   ],
   "source": [
    "#(X_tr, X_ts, \n",
    "#y_tr, y_ts )  = train_test_split(X,y, test_size=0.25, random_state=0)\n",
    "L  = int(round(len(y)*0.75))\n",
    "train_ind =  range(L)\n",
    "test_ind = range(L, len(y))\n",
    "X_tr = X[train_ind,:]\n",
    "y_tr = y[train_ind]\n",
    "\n",
    "X_ts = X[test_ind,:]\n",
    "y_ts = y[test_ind]\n",
    "\n",
    "print len(train_ind) + len(test_ind)"
   ]
  },
  {
   "cell_type": "code",
   "execution_count": 131,
   "metadata": {},
   "outputs": [
    {
     "name": "stdout",
     "output_type": "stream",
     "text": [
      "(380L, 13L)\n",
      "(126L, 13L)\n"
     ]
    }
   ],
   "source": [
    "print X_tr.shape\n",
    "print X_ts.shape"
   ]
  },
  {
   "cell_type": "markdown",
   "metadata": {},
   "source": [
    "## Задание 1\n",
    "\n",
    "Как вы уже знаете из лекций, **бустинг** - это метод построения композиций базовых алгоритмов с помощью последовательного добавления к текущей композиции нового алгоритма с некоторым коэффициентом. \n",
    "\n",
    "Градиентный бустинг обучает каждый новый алгоритм так, чтобы он приближал антиградиент ошибки по ответам композиции на обучающей выборке. Аналогично минимизации функций методом градиентного спуска, в градиентном бустинге мы подправляем композицию, изменяя алгоритм в направлении антиградиента ошибки.\n",
    "\n",
    "Воспользуйтесь формулой из лекций, задающей ответы на обучающей выборке, на которые нужно обучать новый алгоритм (фактически это лишь чуть более подробно расписанный градиент от ошибки), и получите частный ее случай, если функция потерь `L` - квадрат отклонения ответа композиции `a(x)` от правильного ответа `y` на данном `x`.\n",
    "\n",
    "Если вы давно не считали производную самостоятельно, вам поможет таблица производных элементарных функций (которую несложно найти в интернете) и правило дифференцирования сложной функции. После дифференцирования квадрата у вас возникнет множитель 2 — т.к. нам все равно предстоит выбирать коэффициент, с которым будет добавлен новый базовый алгоритм, проигноируйте этот множитель при дальнейшем построении алгоритма."
   ]
  },
  {
   "cell_type": "code",
   "execution_count": null,
   "metadata": {
    "collapsed": true
   },
   "outputs": [],
   "source": []
  },
  {
   "cell_type": "markdown",
   "metadata": {},
   "source": [
    "## Задание 2\n",
    "\n",
    "Заведите массив для объектов `DecisionTreeRegressor` (будем их использовать в качестве базовых алгоритмов) и для вещественных чисел (это будут коэффициенты перед базовыми алгоритмами). \n",
    "\n",
    "В цикле от обучите последовательно 50 решающих деревьев с параметрами `max_depth=5` и `random_state=42` (остальные параметры - по умолчанию). В бустинге зачастую используются сотни и тысячи деревьев, но мы ограничимся 50, чтобы алгоритм работал быстрее, и его было проще отлаживать (т.к. цель задания разобраться, как работает метод). Каждое дерево должно обучаться на одном и том же множестве объектов, но ответы, которые учится прогнозировать дерево, будут меняться в соответствие с полученным в задании 1 правилом. \n",
    "\n",
    "Попробуйте для начала всегда брать коэффициент равным 0.9. Обычно оправдано выбирать коэффициент значительно меньшим - порядка 0.05 или 0.1, но т.к. в нашем учебном примере на стандартном датасете будет всего 50 деревьев, возьмем для начала шаг побольше.\n",
    "\n",
    "В процессе реализации обучения вам потребуется функция, которая будет вычислять прогноз построенной на данный момент композиции деревьев на выборке `X`:\n",
    "\n",
    "```\n",
    "def gbm_predict(X):\n",
    "    return [sum([coeff * algo.predict([x])[0] for algo, coeff in zip(base_algorithms_list, coefficients_list)]) for x in X]\n",
    "(считаем, что base_algorithms_list - список с базовыми алгоритмами, coefficients_list - список с коэффициентами перед алгоритмами)\n",
    "```\n",
    "\n",
    "Эта же функция поможет вам получить прогноз на контрольной выборке и оценить качество работы вашего алгоритма с помощью `mean_squared_error` в `sklearn.metrics`. \n",
    "\n",
    "Возведите результат в степень 0.5, чтобы получить `RMSE`. Полученное значение `RMSE` — **ответ в пункте 2**."
   ]
  },
  {
   "cell_type": "code",
   "execution_count": 132,
   "metadata": {
    "collapsed": true
   },
   "outputs": [],
   "source": [
    "def gbm_predict(X):\n",
    "    return [sum([coeff * algo.predict([x])[0] for algo, coeff in zip(base_algorithms_list, coefficients_list)]) for x in X]\n",
    "\n",
    "#def gbm_opt_shift(X,y,algo_list):\n",
    "#    A = gbm_predict(X)\n",
    "#    return  -[(A - y ) for A,y in zip() ]"
   ]
  },
  {
   "cell_type": "code",
   "execution_count": 166,
   "metadata": {
    "collapsed": true
   },
   "outputs": [],
   "source": [
    "base_algorithms_list = []\n",
    "rmse_error = []\n",
    "eta = 0.9\n",
    "coefficients_list = [eta]*50\n",
    "y_tmp = y_tr"
   ]
  },
  {
   "cell_type": "code",
   "execution_count": 172,
   "metadata": {},
   "outputs": [],
   "source": [
    "base_algorithms_list = []\n",
    "rmse_error_tr = []\n",
    "rmse_error_ts = []\n",
    "y_tmp = y_tr"
   ]
  },
  {
   "cell_type": "code",
   "execution_count": 175,
   "metadata": {
    "collapsed": true
   },
   "outputs": [],
   "source": [
    "def grad_boost(X_tr,y_tr,X_ts,y_ts, coefficients_list, verbose=True):  \n",
    "    y_tmp = y_tr\n",
    "    for i in range(50):\n",
    "        estimator = DecisionTreeRegressor(max_depth=5, random_state=42)\n",
    "        estimator.fit(X_tr, y_tmp)\n",
    "        base_algorithms_list.append(estimator)\n",
    "        prediction_tmp_tr = gbm_predict(X_tr)\n",
    "       # prediction_tmp_ts = gbm_predict(X_ts)\n",
    "        y_tmp =  y_tr - prediction_tmp_tr\n",
    "        rmse_error_step_tr = mean_squared_error(y_tr, prediction_tmp_tr)**0.5\n",
    "        #rmse_error_step_ts = mean_squared_error(y_ts, prediction_tmp_ts)**0.5\n",
    "        rmse_error_tr.append(rmse_error_step_tr)\n",
    "        #rmse_error_ts.append(rmse_error_step_ts)\n",
    "        if(verbose):\n",
    "            print    rmse_error_step_tr\n",
    "            #rmse_error_step_ts\n",
    "    return base_algorithms_list,  rmse_error_tr\n",
    "#rmse_error_ts        "
   ]
  },
  {
   "cell_type": "code",
   "execution_count": 176,
   "metadata": {},
   "outputs": [
    {
     "name": "stdout",
     "output_type": "stream",
     "text": [
      "3.51052685008\n",
      "1.77541763963\n",
      "1.44341825135\n",
      "1.21442736627\n",
      "1.04446413089\n",
      "0.893654627757\n",
      "0.735742815372\n",
      "0.661504084374\n",
      "0.597159377749\n",
      "0.541312561383\n",
      "0.484971168035\n",
      "0.415847710199\n",
      "0.340690605201\n",
      "0.283520524447\n",
      "0.261282327843\n",
      "0.215236137132\n",
      "0.180610911922\n",
      "0.150799215804\n",
      "0.127631180039\n",
      "0.116100156236\n",
      "0.0983047195767\n",
      "0.0938987122349\n",
      "0.0863095583741\n",
      "0.0726860519505\n",
      "0.0676163888066\n",
      "0.0608228564057\n",
      "0.0495643995155\n",
      "0.0464696384145\n",
      "0.0392283168081\n",
      "0.0340217416063\n",
      "0.0310640246755\n",
      "0.0279442683098\n",
      "0.0235759491188\n",
      "0.0206734212463\n",
      "0.0195864746285\n",
      "0.0156858984124\n",
      "0.0142758207583\n",
      "0.0116539960895\n",
      "0.011046007976\n",
      "0.0104612190388\n",
      "0.00890541691712\n",
      "0.00719676075409\n",
      "0.00610623981038\n",
      "0.00564624110608\n",
      "0.00526708429775\n",
      "0.00449445520551\n",
      "0.00405646027109\n",
      "0.00380500593098\n",
      "0.00344598787075\n",
      "0.00298380782469\n"
     ]
    }
   ],
   "source": [
    "base_algorithms_list1, rmse_error_tr1 = grad_boost(X_tr = X_tr,y_tr = y_tr,X_ts = X_ts,y_ts=y_ts,\n",
    "                                                    coefficients_list = [eta]*50, verbose=True)"
   ]
  },
  {
   "cell_type": "code",
   "execution_count": 167,
   "metadata": {},
   "outputs": [
    {
     "name": "stdout",
     "output_type": "stream",
     "text": [
      "3.51052685008\n",
      "1.77541763963\n",
      "1.44341825135\n",
      "1.21442736627\n",
      "1.04446413089\n",
      "0.893654627757\n",
      "0.735742815372\n",
      "0.661504084374\n",
      "0.597159377749\n",
      "0.541312561383\n",
      "0.484971168035\n",
      "0.415847710199\n",
      "0.340690605201\n",
      "0.283520524447\n",
      "0.261282327843\n",
      "0.215236137132\n",
      "0.180610911922\n",
      "0.150799215804\n",
      "0.127631180039\n",
      "0.116100156236\n",
      "0.0983047195767\n",
      "0.0938987122349\n",
      "0.0863095583741\n",
      "0.0726860519505\n",
      "0.0676163888066\n",
      "0.0608228564057\n",
      "0.0495643995155\n",
      "0.0464696384145\n",
      "0.0392283168081\n",
      "0.0340217416063\n",
      "0.0310640246755\n",
      "0.0279442683098\n",
      "0.0235759491188\n",
      "0.0206734212463\n",
      "0.0195864746285\n",
      "0.0156858984124\n",
      "0.0142758207583\n",
      "0.0116539960895\n",
      "0.011046007976\n",
      "0.0104612190388\n",
      "0.00890541691712\n",
      "0.00719676075409\n",
      "0.00610623981038\n",
      "0.00564624110608\n",
      "0.00526708429775\n",
      "0.00449445520551\n",
      "0.00405646027109\n",
      "0.00380500593098\n",
      "0.00344598787075\n",
      "0.00298380782469\n"
     ]
    }
   ],
   "source": [
    "for i in range(50):\n",
    "    estimator = DecisionTreeRegressor(max_depth=5, random_state=42)\n",
    "    estimator.fit(X_tr, y_tmp)\n",
    "    base_algorithms_list.append(estimator)\n",
    "    prediction_tmp = gbm_predict(X_tr)\n",
    "    y_tmp =  y_tr - prediction_tmp\n",
    "    rmse_error_step = mean_squared_error(y_tr, prediction_tmp)**0.5\n",
    "    rmse_error.append(rmse_error_step)\n",
    "    #print  \"RMSE train error on step:\" rmse_error_step \n",
    "    print  rmse_error_step "
   ]
  },
  {
   "cell_type": "code",
   "execution_count": 168,
   "metadata": {
    "scrolled": false
   },
   "outputs": [
    {
     "data": {
      "image/png": "[encoded data removed]",
      "text/plain": [
       "<matplotlib.figure.Figure at 0xa7ae5f8>"
      ]
     },
     "metadata": {},
     "output_type": "display_data"
    }
   ],
   "source": [
    "iter_ = range(50)\n",
    "plt.plot(rmse_error)\n",
    "plt.ylabel('Train RMSE')\n",
    "plt.show()"
   ]
  },
  {
   "cell_type": "code",
   "execution_count": 169,
   "metadata": {},
   "outputs": [
    {
     "name": "stdout",
     "output_type": "stream",
     "text": [
      "0.00298380782469\n",
      "5.45547207453\n"
     ]
    }
   ],
   "source": [
    "# FINAL TEST ERROR:\n",
    "y_pred_ts = gbm_predict(X=X_ts)\n",
    "y_pred_tr = gbm_predict(X=X_tr)\n",
    "\n",
    "train_final_RMSE = mean_squared_error(y_pred=y_pred_tr, y_true=y_tr)**0.5\n",
    "test_final_RMSE = mean_squared_error(y_pred=y_pred_ts, y_true=y_ts)**0.5\n",
    "print  train_final_RMSE \n",
    "print test_final_RMSE "
   ]
  },
  {
   "cell_type": "code",
   "execution_count": 148,
   "metadata": {
    "collapsed": true
   },
   "outputs": [],
   "source": [
    "def write_ans(ans, file_name):\n",
    "    with open(file_name, \"w\") as fout:\n",
    "        fout.write( str((ans)))"
   ]
  },
  {
   "cell_type": "code",
   "execution_count": 149,
   "metadata": {
    "collapsed": true
   },
   "outputs": [],
   "source": [
    "write_ans(file_name='grad_boosting_ans_1.txt', ans = test_final_RMSE)"
   ]
  },
  {
   "cell_type": "markdown",
   "metadata": {},
   "source": [
    "## Задание 3\n",
    "\n",
    "Вас может также беспокоить, что двигаясь с постоянным шагом, вблизи минимума ошибки ответы на обучающей выборке меняются слишком резко, перескакивая через минимум. \n",
    "\n",
    "Попробуйте уменьшать вес перед каждым алгоритмом с каждой следующей итерацией по формуле `0.9 / (1.0 + i)`, где `i` - номер итерации (от 0 до 49). Используйте качество работы алгоритма как **ответ в пункте 3**. \n",
    "\n",
    "В реальности часто применяется следующая стратегия выбора шага: как только выбран алгоритм, подберем коэффициент перед ним численным методом оптимизации таким образом, чтобы отклонение от правильных ответов было минимальным. Мы не будем предлагать вам реализовать это для выполнения задания, но рекомендуем попробовать разобраться с такой стратегией и реализовать ее при случае для себя."
   ]
  },
  {
   "cell_type": "code",
   "execution_count": null,
   "metadata": {
    "collapsed": true
   },
   "outputs": [],
   "source": []
  },
  {
   "cell_type": "markdown",
   "metadata": {},
   "source": [
    "## Задание 4\n",
    "\n",
    "Реализованный вами метод - градиентный бустинг над деревьями - очень популярен в машинном обучении. Он представлен как в самой библиотеке `sklearn`, так и в сторонней библиотеке `XGBoost`, которая имеет свой питоновский интерфейс. На практике `XGBoost` работает заметно лучше `GradientBoostingRegressor` из `sklearn`, но для этого задания вы можете использовать любую реализацию. \n",
    "\n",
    "Исследуйте, переобучается ли градиентный бустинг с ростом числа итераций (и подумайте, почему), а также с ростом глубины деревьев. На основе наблюдений выпишите через пробел номера правильных из приведенных ниже утверждений в порядке возрастания номера (это будет **ответ в п.4**):\n",
    "\n",
    "    1. С увеличением числа деревьев, начиная с некоторого момента, качество работы градиентного бустинга не меняется существенно.\n",
    "\n",
    "    2. С увеличением числа деревьев, начиная с некоторого момента, градиентный бустинг начинает переобучаться.\n",
    "\n",
    "    3. С ростом глубины деревьев, начиная с некоторого момента, качество работы градиентного бустинга на тестовой выборке начинает ухудшаться.\n",
    "\n",
    "    4. С ростом глубины деревьев, начиная с некоторого момента, качество работы градиентного бустинга перестает существенно изменяться"
   ]
  },
  {
   "cell_type": "code",
   "execution_count": null,
   "metadata": {
    "collapsed": true
   },
   "outputs": [],
   "source": []
  },
  {
   "cell_type": "markdown",
   "metadata": {},
   "source": [
    "## Задание 5\n",
    "\n",
    "Сравните получаемое с помощью градиентного бустинга качество с качеством работы линейной регрессии. \n",
    "\n",
    "Для этого обучите `LinearRegression` из `sklearn.linear_model` (с параметрами по умолчанию) на обучающей выборке и оцените для прогнозов полученного алгоритма на тестовой выборке `RMSE`. Полученное качество - ответ в **пункте 5**. \n",
    "\n",
    "В данном примере качество работы простой модели должно было оказаться хуже, но не стоит забывать, что так бывает не всегда. В заданиях к этому курсу вы еще встретите пример обратной ситуации."
   ]
  },
  {
   "cell_type": "code",
   "execution_count": null,
   "metadata": {
    "collapsed": true
   },
   "outputs": [],
   "source": []
  }
 ],
 "metadata": {
  "kernelspec": {
   "display_name": "Python 2",
   "language": "python",
   "name": "python2"
  },
  "language_info": {
   "codemirror_mode": {
    "name": "ipython",
    "version": 2
   },
   "file_extension": ".py",
   "mimetype": "text/x-python",
   "name": "python",
   "nbconvert_exporter": "python",
   "pygments_lexer": "ipython2",
   "version": "2.7.13"
  }
 },
 "nbformat": 4,
 "nbformat_minor": 1
}
