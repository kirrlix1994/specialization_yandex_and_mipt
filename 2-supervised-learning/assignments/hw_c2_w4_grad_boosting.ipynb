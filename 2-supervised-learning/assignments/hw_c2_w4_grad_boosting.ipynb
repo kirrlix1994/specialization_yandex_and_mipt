{
 "cells": [
  {
   "cell_type": "markdown",
   "metadata": {},
   "source": [
    "# Градиентный бустинг своими руками\n",
    "\n",
    "**Внимание:** в тексте задания произошли изменения - поменялось число деревьев (теперь 50), правило изменения величины шага в задании 3 и добавился параметр `random_state` у решающего дерева. Правильные ответы не поменялись, но теперь их проще получить. Также исправлена опечатка в функции `gbm_predict`.\n",
    "\n",
    "В этом задании будет использоваться датасет `boston` из `sklearn.datasets`. Оставьте последние 25% объектов для контроля качества, разделив `X` и `y` на `X_train`, `y_train` и `X_test`, `y_test`.\n",
    "\n",
    "Целью задания будет реализовать простой вариант градиентного бустинга над регрессионными деревьями для случая квадратичной функции потерь."
   ]
  },
  {
   "cell_type": "code",
   "execution_count": 308,
   "metadata": {},
   "outputs": [],
   "source": [
    "import sklearn \n",
    "from sklearn.datasets import load_boston\n",
    "from sklearn.tree import DecisionTreeRegressor\n",
    "from sklearn.cross_validation import train_test_split\n",
    "from sklearn.metrics import mean_squared_error\n",
    "from matplotlib import pyplot as plt\n",
    "from sklearn.ensemble import GradientBoostingRegressor\n",
    "from sklearn.linear_model import LinearRegression"
   ]
  },
  {
   "cell_type": "code",
   "execution_count": 309,
   "metadata": {},
   "outputs": [
    {
     "data": {
      "text/plain": [
       "(506L, 13L)"
      ]
     },
     "execution_count": 309,
     "metadata": {},
     "output_type": "execute_result"
    }
   ],
   "source": [
    "# import data\n",
    "X,y = load_boston(return_X_y = True) \n",
    "#print X\n",
    "#print y\n",
    "X.shape"
   ]
  },
  {
   "cell_type": "code",
   "execution_count": 63,
   "metadata": {
    "collapsed": true
   },
   "outputs": [],
   "source": [
    "# (X_tr, X_ts, \n",
    "# y_tr, y_ts )  = train_test_split(X,y, test_size=0.25, random_state=0)"
   ]
  },
  {
   "cell_type": "code",
   "execution_count": 318,
   "metadata": {},
   "outputs": [
    {
     "name": "stdout",
     "output_type": "stream",
     "text": [
      "506\n"
     ]
    }
   ],
   "source": [
    "#(X_tr, X_ts, \n",
    "#y_tr, y_ts )  = train_test_split(X,y, test_size=0.25, random_state=0)\n",
    "L  = int(round(len(y)*0.75))\n",
    "train_ind =  range(L)\n",
    "test_ind = range(L, len(y))\n",
    "X_tr = X[train_ind,:]\n",
    "y_tr = y[train_ind]\n",
    "\n",
    "X_ts = X[test_ind,:]\n",
    "y_ts = y[test_ind]\n",
    "\n",
    "print len(train_ind) + len(test_ind)"
   ]
  },
  {
   "cell_type": "code",
   "execution_count": 319,
   "metadata": {},
   "outputs": [
    {
     "name": "stdout",
     "output_type": "stream",
     "text": [
      "(380L, 13L)\n",
      "(126L, 13L)\n"
     ]
    }
   ],
   "source": [
    "print X_tr.shape\n",
    "print X_ts.shape"
   ]
  },
  {
   "cell_type": "markdown",
   "metadata": {},
   "source": [
    "## Задание 1\n",
    "\n",
    "Как вы уже знаете из лекций, **бустинг** - это метод построения композиций базовых алгоритмов с помощью последовательного добавления к текущей композиции нового алгоритма с некоторым коэффициентом. \n",
    "\n",
    "Градиентный бустинг обучает каждый новый алгоритм так, чтобы он приближал антиградиент ошибки по ответам композиции на обучающей выборке. Аналогично минимизации функций методом градиентного спуска, в градиентном бустинге мы подправляем композицию, изменяя алгоритм в направлении антиградиента ошибки.\n",
    "\n",
    "Воспользуйтесь формулой из лекций, задающей ответы на обучающей выборке, на которые нужно обучать новый алгоритм (фактически это лишь чуть более подробно расписанный градиент от ошибки), и получите частный ее случай, если функция потерь `L` - квадрат отклонения ответа композиции `a(x)` от правильного ответа `y` на данном `x`.\n",
    "\n",
    "Если вы давно не считали производную самостоятельно, вам поможет таблица производных элементарных функций (которую несложно найти в интернете) и правило дифференцирования сложной функции. После дифференцирования квадрата у вас возникнет множитель 2 — т.к. нам все равно предстоит выбирать коэффициент, с которым будет добавлен новый базовый алгоритм, проигноируйте этот множитель при дальнейшем построении алгоритма."
   ]
  },
  {
   "cell_type": "code",
   "execution_count": null,
   "metadata": {
    "collapsed": true
   },
   "outputs": [],
   "source": []
  },
  {
   "cell_type": "markdown",
   "metadata": {},
   "source": [
    "## Задание 2\n",
    "\n",
    "Заведите массив для объектов `DecisionTreeRegressor` (будем их использовать в качестве базовых алгоритмов) и для вещественных чисел (это будут коэффициенты перед базовыми алгоритмами). \n",
    "\n",
    "В цикле от обучите последовательно 50 решающих деревьев с параметрами `max_depth=5` и `random_state=42` (остальные параметры - по умолчанию). В бустинге зачастую используются сотни и тысячи деревьев, но мы ограничимся 50, чтобы алгоритм работал быстрее, и его было проще отлаживать (т.к. цель задания разобраться, как работает метод). Каждое дерево должно обучаться на одном и том же множестве объектов, но ответы, которые учится прогнозировать дерево, будут меняться в соответствие с полученным в задании 1 правилом. \n",
    "\n",
    "Попробуйте для начала всегда брать коэффициент равным 0.9. Обычно оправдано выбирать коэффициент значительно меньшим - порядка 0.05 или 0.1, но т.к. в нашем учебном примере на стандартном датасете будет всего 50 деревьев, возьмем для начала шаг побольше.\n",
    "\n",
    "В процессе реализации обучения вам потребуется функция, которая будет вычислять прогноз построенной на данный момент композиции деревьев на выборке `X`:\n",
    "\n",
    "```\n",
    "def gbm_predict(X):\n",
    "    return [sum([coeff * algo.predict([x])[0] for algo, coeff in zip(base_algorithms_list, coefficients_list)]) for x in X]\n",
    "(считаем, что base_algorithms_list - список с базовыми алгоритмами, coefficients_list - список с коэффициентами перед алгоритмами)\n",
    "```\n",
    "\n",
    "Эта же функция поможет вам получить прогноз на контрольной выборке и оценить качество работы вашего алгоритма с помощью `mean_squared_error` в `sklearn.metrics`. \n",
    "\n",
    "Возведите результат в степень 0.5, чтобы получить `RMSE`. Полученное значение `RMSE` — **ответ в пункте 2**."
   ]
  },
  {
   "cell_type": "code",
   "execution_count": 320,
   "metadata": {
    "collapsed": true
   },
   "outputs": [],
   "source": [
    "def gbm_predict(X, base_algorithms_list, coefficients_list):\n",
    "    return [sum([coeff * algo.predict([x])[0] for algo, coeff in zip(base_algorithms_list, coefficients_list)]) for x in X]\n",
    "\n",
    "#def gbm_opt_shift(X,y,algo_list):\n",
    "#    A = gbm_predict(X)\n",
    "#    return  -[(A - y ) for A,y in zip() ]"
   ]
  },
  {
   "cell_type": "markdown",
   "metadata": {},
   "source": [
    "Зададим параметры алгоритма"
   ]
  },
  {
   "cell_type": "code",
   "execution_count": 321,
   "metadata": {
    "collapsed": true
   },
   "outputs": [],
   "source": [
    "eta = 0.9\n",
    "coefficients_list = [eta]*50"
   ]
  },
  {
   "cell_type": "code",
   "execution_count": 322,
   "metadata": {
    "collapsed": true
   },
   "outputs": [],
   "source": [
    "def grad_boost(X_tr,y_tr,X_ts,y_ts, coefficients_list, verbose=True):  \n",
    "    y_tmp = y_tr\n",
    "    rmse_error_tr = []\n",
    "    rmse_error_ts = []\n",
    "    base_algorithms_list = []\n",
    "    for i in range(50):\n",
    "        estimator = DecisionTreeRegressor(max_depth=5, random_state=42)\n",
    "        estimator.fit(X_tr, y_tmp)\n",
    "        base_algorithms_list.append(estimator)\n",
    "        prediction_tmp_tr = gbm_predict(X_tr, base_algorithms_list, coefficients_list)\n",
    "        prediction_tmp_ts = gbm_predict(X_ts, base_algorithms_list, coefficients_list)\n",
    "        y_tmp =  y_tr - prediction_tmp_tr\n",
    "        rmse_error_step_tr = mean_squared_error(y_tr, prediction_tmp_tr)**0.5\n",
    "        rmse_error_step_ts = mean_squared_error(y_ts, prediction_tmp_ts)**0.5\n",
    "        rmse_error_tr.append(rmse_error_step_tr)\n",
    "        rmse_error_ts.append(rmse_error_step_ts)\n",
    "        if(verbose):\n",
    "            print    rmse_error_step_tr, rmse_error_step_ts\n",
    "    return base_algorithms_list,  rmse_error_tr, rmse_error_ts        "
   ]
  },
  {
   "cell_type": "code",
   "execution_count": 323,
   "metadata": {
    "scrolled": false
   },
   "outputs": [
    {
     "name": "stdout",
     "output_type": "stream",
     "text": [
      "3.51052685008 4.67447025248\n",
      "1.77541763963 5.14171794978\n",
      "1.44341825135 5.12404962608\n",
      "1.21442736627 5.24243748125\n",
      "1.04446413089 5.32808194527\n",
      "0.893654627757 5.4446917942\n",
      "0.735742815372 5.48442642692\n",
      "0.661504084374 5.50046001401\n",
      "0.597159377749 5.44555987898\n",
      "0.541312561383 5.46157639211\n",
      "0.484971168035 5.45852497354\n",
      "0.415847710199 5.46154965538\n",
      "0.340690605201 5.43699229982\n",
      "0.283520524447 5.42972271315\n",
      "0.261282327843 5.49271522038\n",
      "0.215236137132 5.48409393036\n",
      "0.180610911922 5.46378500846\n",
      "0.150799215804 5.46192886911\n",
      "0.127631180039 5.472856139\n",
      "0.116100156236 5.44282696117\n",
      "0.0983047195767 5.45470779343\n",
      "0.0938987122349 5.4560332266\n",
      "0.0863095583741 5.46211818938\n",
      "0.0726860519505 5.46812626981\n",
      "0.0676163888066 5.46597951535\n",
      "0.0608228564057 5.46310708588\n",
      "0.0495643995155 5.4653600629\n",
      "0.0464696384145 5.45667340379\n",
      "0.0392283168081 5.45897721573\n",
      "0.0340217416063 5.45922974567\n",
      "0.0310640246755 5.45954750611\n",
      "0.0279442683098 5.45966129375\n",
      "0.0235759491188 5.45802312575\n",
      "0.0206734212463 5.45908335959\n",
      "0.0195864746285 5.4539793577\n",
      "0.0156858984124 5.45413777425\n",
      "0.0142758207583 5.4541186761\n",
      "0.0116539960895 5.45408322254\n",
      "0.011046007976 5.45425947384\n",
      "0.0104612190388 5.45407630526\n",
      "0.00890541691712 5.45393659221\n",
      "0.00719676075409 5.45517548341\n",
      "0.00610623981038 5.45542153514\n",
      "0.00564624110608 5.45541450985\n",
      "0.00526708429775 5.45562108526\n",
      "0.00449445520551 5.45593640262\n",
      "0.00405646027109 5.45596545468\n",
      "0.00380500593098 5.45566957385\n",
      "0.00344598787075 5.45547642623\n",
      "0.00298380782469 5.45547207453\n"
     ]
    }
   ],
   "source": [
    "base_algorithms_list1, rmse_error_tr1, rmse_error_ts1 = grad_boost(X_tr = X_tr,y_tr = y_tr,X_ts = X_ts,y_ts=y_ts,\n",
    "                                                                   coefficients_list = coefficients_list, verbose=True)"
   ]
  },
  {
   "cell_type": "code",
   "execution_count": 324,
   "metadata": {
    "scrolled": false
   },
   "outputs": [
    {
     "data": {
      "image/png": "[encoded data removed]",
      "text/plain": [
       "<matplotlib.figure.Figure at 0x7f372f28>"
      ]
     },
     "metadata": {},
     "output_type": "display_data"
    }
   ],
   "source": [
    "iter_ = range(50)\n",
    "plt.plot(rmse_error_tr1)\n",
    "plt.ylabel('Train RMSE')\n",
    "plt.show()"
   ]
  },
  {
   "cell_type": "code",
   "execution_count": 325,
   "metadata": {},
   "outputs": [
    {
     "data": {
      "image/png": "[encoded data removed]",
      "text/plain": [
       "<matplotlib.figure.Figure at 0x7f461748>"
      ]
     },
     "metadata": {},
     "output_type": "display_data"
    }
   ],
   "source": [
    "iter_ = range(50)\n",
    "plt.plot(rmse_error_ts1)\n",
    "plt.ylabel('Test RMSE')\n",
    "plt.show()"
   ]
  },
  {
   "cell_type": "code",
   "execution_count": 326,
   "metadata": {},
   "outputs": [
    {
     "name": "stdout",
     "output_type": "stream",
     "text": [
      "0.00298380782469\n",
      "5.45547207453\n"
     ]
    }
   ],
   "source": [
    "# FINAL TEST ERROR:\n",
    "y_pred_ts = gbm_predict(X_ts, base_algorithms_list1, coefficients_list)\n",
    "y_pred_tr = gbm_predict(X_tr, base_algorithms_list1, coefficients_list)\n",
    "\n",
    "train_final_RMSE = mean_squared_error(y_pred=y_pred_tr, y_true=y_tr)**0.5\n",
    "test_final_RMSE = mean_squared_error(y_pred=y_pred_ts, y_true=y_ts)**0.5\n",
    "print  train_final_RMSE \n",
    "print test_final_RMSE "
   ]
  },
  {
   "cell_type": "code",
   "execution_count": 327,
   "metadata": {
    "collapsed": true
   },
   "outputs": [],
   "source": [
    "def write_ans(ans, file_name):\n",
    "    with open(file_name, \"w\") as fout:\n",
    "        fout.write( str((ans)))"
   ]
  },
  {
   "cell_type": "code",
   "execution_count": 328,
   "metadata": {
    "collapsed": true
   },
   "outputs": [],
   "source": [
    "write_ans(file_name='grad_boosting_ans_1.txt', ans = test_final_RMSE)"
   ]
  },
  {
   "cell_type": "markdown",
   "metadata": {},
   "source": [
    "## Задание 3\n",
    "\n",
    "Вас может также беспокоить, что двигаясь с постоянным шагом, вблизи минимума ошибки ответы на обучающей выборке меняются слишком резко, перескакивая через минимум. \n",
    "\n",
    "Попробуйте уменьшать вес перед каждым алгоритмом с каждой следующей итерацией по формуле `0.9 / (1.0 + i)`, где `i` - номер итерации (от 0 до 49). Используйте качество работы алгоритма как **ответ в пункте 3**. \n",
    "\n",
    "В реальности часто применяется следующая стратегия выбора шага: как только выбран алгоритм, подберем коэффициент перед ним численным методом оптимизации таким образом, чтобы отклонение от правильных ответов было минимальным. Мы не будем предлагать вам реализовать это для выполнения задания, но рекомендуем попробовать разобраться с такой стратегией и реализовать ее при случае для себя."
   ]
  },
  {
   "cell_type": "code",
   "execution_count": 329,
   "metadata": {
    "collapsed": true
   },
   "outputs": [],
   "source": [
    "coefficients_list1 = [ eta/(1+i) for i in range(50)] "
   ]
  },
  {
   "cell_type": "code",
   "execution_count": 330,
   "metadata": {
    "scrolled": false
   },
   "outputs": [
    {
     "name": "stdout",
     "output_type": "stream",
     "text": [
      "3.51052685008 4.67447025248\n",
      "2.42114137995 4.86124886819\n",
      "1.99495439876 4.96064637746\n",
      "1.80655247631 4.97899313606\n",
      "1.65997750001 5.0134998933\n",
      "1.54998444981 5.06974976936\n",
      "1.46484538679 5.0944008707\n",
      "1.40359897499 5.10277694843\n",
      "1.3674444824 5.10274256646\n",
      "1.32063433634 5.11264832211\n",
      "1.28183295098 5.12746453093\n",
      "1.25752224055 5.1351384707\n",
      "1.235430319 5.1394255782\n",
      "1.21823246105 5.14481579047\n",
      "1.20266462919 5.14903662533\n",
      "1.18668502213 5.15479476049\n",
      "1.17382763172 5.15520236452\n",
      "1.1473569012 5.16860679601\n",
      "1.13739872677 5.17474464089\n",
      "1.12843035654 5.1832079696\n",
      "1.11965914597 5.17746798175\n",
      "1.10027815628 5.18975711101\n",
      "1.09298503789 5.18628855935\n",
      "1.07647200925 5.19580404626\n",
      "1.07020335102 5.19901960689\n",
      "1.06082348803 5.20573062104\n",
      "1.05432061875 5.21024211709\n",
      "1.04943963915 5.20430009272\n",
      "1.04159037429 5.21003959873\n",
      "1.03795766785 5.21387263648\n",
      "1.03385847673 5.21138832051\n",
      "1.028944039 5.21812628035\n",
      "1.02616021061 5.22043566992\n",
      "1.02348008131 5.22128389616\n",
      "1.01985901413 5.2211913452\n",
      "1.01673708175 5.22435936534\n",
      "1.01350397494 5.22431715996\n",
      "1.00840016483 5.22845515795\n",
      "1.00497488185 5.23003485946\n",
      "1.00000487344 5.23028650088\n",
      "0.997809202431 5.23082453796\n",
      "0.992913013325 5.23241471498\n",
      "0.989969906088 5.2337839487\n",
      "0.987787675049 5.23413210254\n",
      "0.984780394512 5.23841228153\n",
      "0.980653640589 5.23839642882\n",
      "0.979004609418 5.23973519116\n",
      "0.975312599661 5.23988793017\n",
      "0.973371583851 5.23921218986\n",
      "0.970669985076 5.24074258415\n"
     ]
    }
   ],
   "source": [
    "base_algorithms_list2, rmse_error_tr2, rmse_error_ts2 = grad_boost(X_tr = X_tr,y_tr = y_tr,X_ts = X_ts,y_ts=y_ts,\n",
    "                                                                   coefficients_list = coefficients_list1, verbose=True)"
   ]
  },
  {
   "cell_type": "code",
   "execution_count": 333,
   "metadata": {},
   "outputs": [],
   "source": [
    "write_ans(file_name=\"grad_boost_ans_2.txt\", ans=mean_squared_error(gbm_predict(X_ts,base_algorithms_list2, \n",
    "                                                                              coefficients_list1),y_ts)**0.5)"
   ]
  },
  {
   "cell_type": "code",
   "execution_count": 334,
   "metadata": {},
   "outputs": [
    {
     "name": "stdout",
     "output_type": "stream",
     "text": [
      "5.24074258415\n"
     ]
    }
   ],
   "source": [
    "with open(\"grad_boost_ans_2.txt\") as f_in:\n",
    "    print f_in.readline()"
   ]
  },
  {
   "cell_type": "markdown",
   "metadata": {},
   "source": [
    "## Задание 4\n",
    "\n",
    "Реализованный вами метод - градиентный бустинг над деревьями - очень популярен в машинном обучении. Он представлен как в самой библиотеке `sklearn`, так и в сторонней библиотеке `XGBoost`, которая имеет свой питоновский интерфейс. На практике `XGBoost` работает заметно лучше `GradientBoostingRegressor` из `sklearn`, но для этого задания вы можете использовать любую реализацию. \n",
    "\n",
    "Исследуйте, переобучается ли градиентный бустинг с ростом числа итераций (и подумайте, почему), а также с ростом глубины деревьев. На основе наблюдений выпишите через пробел номера правильных из приведенных ниже утверждений в порядке возрастания номера (это будет **ответ в п.4**):\n",
    "\n",
    "    1. С увеличением числа деревьев, начиная с некоторого момента, качество работы градиентного бустинга не меняется существенно.\n",
    "\n",
    "    2. С увеличением числа деревьев, начиная с некоторого момента, градиентный бустинг начинает переобучаться.\n",
    "\n",
    "    3. С ростом глубины деревьев, начиная с некоторого момента, качество работы градиентного бустинга на тестовой выборке начинает ухудшаться.\n",
    "\n",
    "    4. С ростом глубины деревьев, начиная с некоторого момента, качество работы градиентного бустинга перестает существенно изменяться"
   ]
  },
  {
   "cell_type": "code",
   "execution_count": 335,
   "metadata": {},
   "outputs": [
    {
     "name": "stdout",
     "output_type": "stream",
     "text": [
      "      Iter       Train Loss   Remaining Time \n",
      "         1          63.9078            0.00s\n",
      "         2          52.7770            0.00s\n",
      "         3          43.7021            0.00s\n",
      "         4          36.3142            0.00s\n",
      "         5          30.2135            0.00s\n",
      "         6          25.2410            0.00s\n",
      "         7          21.1761            0.00s\n",
      "         8          17.7912            0.00s\n",
      "         9          15.0726            0.32s\n",
      "        10          12.7994            0.29s\n",
      "        20           3.3523            0.14s\n",
      "        30           1.4020            0.18s\n",
      "        40           0.7854            0.12s\n",
      "        50           0.4973            0.14s\n",
      "        60           0.3790            0.11s\n",
      "        70           0.3101            0.09s\n",
      "        80           0.2532            0.09s\n",
      "        90           0.1929            0.08s\n",
      "       100           0.1479            0.08s\n",
      "       200           0.0123            0.00s\n"
     ]
    },
    {
     "data": {
      "text/plain": [
       "GradientBoostingRegressor(alpha=0.9, criterion='friedman_mse', init=None,\n",
       "             learning_rate=0.1, loss='ls', max_depth=5, max_features=None,\n",
       "             max_leaf_nodes=None, min_impurity_split=1e-07,\n",
       "             min_samples_leaf=1, min_samples_split=2,\n",
       "             min_weight_fraction_leaf=0.0, n_estimators=200,\n",
       "             presort='auto', random_state=None, subsample=1.0,\n",
       "             verbose=True, warm_start=False)"
      ]
     },
     "execution_count": 335,
     "metadata": {},
     "output_type": "execute_result"
    }
   ],
   "source": [
    "model = GradientBoostingRegressor(max_depth=5, n_estimators=200, verbose = True)\n",
    "model.fit(X_tr, y_tr)"
   ]
  },
  {
   "cell_type": "code",
   "execution_count": 336,
   "metadata": {},
   "outputs": [
    {
     "name": "stdout",
     "output_type": "stream",
     "text": [
      "0.110825978943\n",
      "4.70083489814\n"
     ]
    }
   ],
   "source": [
    "rmse_tr  = mean_squared_error( model.predict(X_tr), y_tr)**0.5\n",
    "rmse_ts = mean_squared_error( model.predict(X_ts), y_ts)**0.5\n",
    "print rmse_tr\n",
    "print rmse_ts"
   ]
  },
  {
   "cell_type": "code",
   "execution_count": 337,
   "metadata": {
    "collapsed": true
   },
   "outputs": [],
   "source": [
    "write_ans(file_name=\"grad_boosting_ans_3.txt\", ans = str(\"1 3\"))"
   ]
  },
  {
   "cell_type": "markdown",
   "metadata": {},
   "source": [
    "## Задание 5\n",
    "\n",
    "Сравните получаемое с помощью градиентного бустинга качество с качеством работы линейной регрессии. \n",
    "\n",
    "Для этого обучите `LinearRegression` из `sklearn.linear_model` (с параметрами по умолчанию) на обучающей выборке и оцените для прогнозов полученного алгоритма на тестовой выборке `RMSE`. Полученное качество - ответ в **пункте 5**. \n",
    "\n",
    "В данном примере качество работы простой модели должно было оказаться хуже, но не стоит забывать, что так бывает не всегда. В заданиях к этому курсу вы еще встретите пример обратной ситуации."
   ]
  },
  {
   "cell_type": "code",
   "execution_count": 340,
   "metadata": {},
   "outputs": [
    {
     "data": {
      "text/plain": [
       "LinearRegression(copy_X=True, fit_intercept=True, n_jobs=1, normalize=False)"
      ]
     },
     "execution_count": 340,
     "metadata": {},
     "output_type": "execute_result"
    }
   ],
   "source": [
    "linear_model = LinearRegression()\n",
    "linear_model.fit(X_tr,y_tr)"
   ]
  },
  {
   "cell_type": "code",
   "execution_count": 341,
   "metadata": {},
   "outputs": [
    {
     "name": "stdout",
     "output_type": "stream",
     "text": [
      "4.60417357219\n",
      "7.84812179648\n"
     ]
    }
   ],
   "source": [
    "rmse_lin_tr  = mean_squared_error(linear_model.predict(X_tr), y_tr)**0.5\n",
    "rmse_lin_ts = mean_squared_error(linear_model.predict(X_ts), y_ts)**0.5\n",
    "print rmse_lin_tr\n",
    "print rmse_lin_ts"
   ]
  },
  {
   "cell_type": "markdown",
   "metadata": {},
   "source": [
    "Linear regression even worse!"
   ]
  },
  {
   "cell_type": "code",
   "execution_count": 342,
   "metadata": {
    "collapsed": true
   },
   "outputs": [],
   "source": [
    "write_ans(file_name=\"grad_boosting_ans_4.txt\", ans = rmse_lin_ts)"
   ]
  }
 ],
 "metadata": {
  "kernelspec": {
   "display_name": "Python 2",
   "language": "python",
   "name": "python2"
  },
  "language_info": {
   "codemirror_mode": {
    "name": "ipython",
    "version": 2
   },
   "file_extension": ".py",
   "mimetype": "text/x-python",
   "name": "python",
   "nbconvert_exporter": "python",
   "pygments_lexer": "ipython2",
   "version": "2.7.13"
  }
 },
 "nbformat": 4,
 "nbformat_minor": 1
}
