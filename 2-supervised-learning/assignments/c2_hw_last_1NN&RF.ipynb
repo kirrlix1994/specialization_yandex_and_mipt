{
 "cells": [
  {
   "cell_type": "markdown",
   "metadata": {},
   "source": [
    "## 1NN and random forest. Digits dataset."
   ]
  },
  {
   "cell_type": "code",
   "execution_count": 292,
   "metadata": {},
   "outputs": [],
   "source": [
    "import sklearn \n",
    "import numpy as np\n",
    "#from sklearn.cross_validation import train_test_split\n",
    "from sklearn.metrics import mean_squared_error\n",
    "from matplotlib import pyplot as plt\n",
    "from sklearn import metrics\n",
    "from sklearn.ensemble import RandomForestClassifier"
   ]
  },
  {
   "cell_type": "code",
   "execution_count": 186,
   "metadata": {},
   "outputs": [],
   "source": [
    "X, y = sklearn.datasets.load_digits(return_X_y = True)"
   ]
  },
  {
   "cell_type": "markdown",
   "metadata": {},
   "source": [
    "Train test split: first 75 % is train"
   ]
  },
  {
   "cell_type": "code",
   "execution_count": 187,
   "metadata": {},
   "outputs": [
    {
     "name": "stdout",
     "output_type": "stream",
     "text": [
      "1797\n",
      "1797\n"
     ]
    }
   ],
   "source": [
    "L = int(round(len(y)*0.75))\n",
    "X_tr = X[0:L,:]\n",
    "y_tr = y[0:L]\n",
    "\n",
    "X_ts = X[L:len(y),:]\n",
    "y_ts = y[L:len(y)]\n",
    "\n",
    "print len(y_tr) + len(y_ts)\n",
    "print len(y)"
   ]
  },
  {
   "cell_type": "code",
   "execution_count": 260,
   "metadata": {},
   "outputs": [],
   "source": [
    "def NN_1(X,y,x_new):\n",
    "    N = len(y)\n",
    "    dist_list = []\n",
    "    for i in range(N):\n",
    "        dist_tmp = np.linalg.norm(x_new- X[i,:])\n",
    "        dist_list.append( np.array([dist_tmp,y[i]]))\n",
    "    dist_list = np.array(dist_list)\n",
    "    return( dist_list[np.argmin(dist_list[:,0]),1])                                "
   ]
  },
  {
   "cell_type": "code",
   "execution_count": 261,
   "metadata": {},
   "outputs": [],
   "source": [
    "def NN_predict(X_tr, y_tr, X_new):\n",
    "    return( np.array([NN_1(X_tr, y_tr,x) for x in  list(X_new)]) )\n",
    "    #for i in range(len(y_ts)):     "
   ]
  },
  {
   "cell_type": "code",
   "execution_count": 278,
   "metadata": {},
   "outputs": [],
   "source": [
    "y_pred = NN_predict(X_tr, y_tr,X_ts)"
   ]
  },
  {
   "cell_type": "code",
   "execution_count": 280,
   "metadata": {},
   "outputs": [
    {
     "name": "stdout",
     "output_type": "stream",
     "text": [
      "0.962138084633\n",
      "0.961846792862\n"
     ]
    }
   ],
   "source": [
    "print metrics.accuracy_score(y_pred=y_pred, y_true=y_ts)\n",
    "print metrics.f1_score(y_pred=y_pred, y_true=y_ts, average='macro')\n",
    "#print metrics.roc_auc_score(y_pred=y_pred, y_true=y_ts, average='macro')"
   ]
  },
  {
   "cell_type": "code",
   "execution_count": 286,
   "metadata": {},
   "outputs": [
    {
     "data": {
      "text/plain": [
       "0.96214"
      ]
     },
     "execution_count": 286,
     "metadata": {},
     "output_type": "execute_result"
    }
   ],
   "source": [
    "# error perc on test:\n",
    "ts_NN_error  = round( round(np.sum(y_pred == y_ts),1)/len(y_ts),5)\n",
    "ts_NN_error"
   ]
  },
  {
   "cell_type": "code",
   "execution_count": 287,
   "metadata": {
    "collapsed": true
   },
   "outputs": [],
   "source": [
    "def write_ans(file_name,ans):\n",
    "    with open(file_name, \"w\") as f_out:\n",
    "        f_out.write(str(ans))"
   ]
  },
  {
   "cell_type": "code",
   "execution_count": 288,
   "metadata": {
    "collapsed": true
   },
   "outputs": [],
   "source": [
    "write_ans(file_name=\"c2_hw_last_NN_ans1.txt\", ans=ts_NN_error)"
   ]
  },
  {
   "cell_type": "markdown",
   "metadata": {},
   "source": [
    "### Compare with random forest results"
   ]
  },
  {
   "cell_type": "code",
   "execution_count": 293,
   "metadata": {},
   "outputs": [
    {
     "data": {
      "text/plain": [
       "RandomForestClassifier(bootstrap=True, class_weight=None, criterion='gini',\n",
       "            max_depth=None, max_features='auto', max_leaf_nodes=None,\n",
       "            min_impurity_split=1e-07, min_samples_leaf=1,\n",
       "            min_samples_split=2, min_weight_fraction_leaf=0.0,\n",
       "            n_estimators=1000, n_jobs=1, oob_score=False,\n",
       "            random_state=None, verbose=0, warm_start=False)"
      ]
     },
     "execution_count": 293,
     "metadata": {},
     "output_type": "execute_result"
    }
   ],
   "source": [
    "random_forest = RandomForestClassifier(n_estimators=1000)\n",
    "random_forest.fit(X_tr,y_tr)"
   ]
  },
  {
   "cell_type": "code",
   "execution_count": 294,
   "metadata": {
    "collapsed": true
   },
   "outputs": [],
   "source": [
    "y_pred_rf = random_forest.predict(X_ts)"
   ]
  },
  {
   "cell_type": "code",
   "execution_count": 295,
   "metadata": {},
   "outputs": [
    {
     "name": "stdout",
     "output_type": "stream",
     "text": [
      "0.933184855234\n",
      "0.932187712215\n"
     ]
    }
   ],
   "source": [
    "print metrics.accuracy_score(y_pred=y_pred_rf, y_true=y_ts)\n",
    "print metrics.f1_score(y_pred=y_pred_rf, y_true=y_ts, average='macro')"
   ]
  },
  {
   "cell_type": "code",
   "execution_count": 296,
   "metadata": {
    "collapsed": true
   },
   "outputs": [],
   "source": [
    "ts_rf_error = round( round(np.sum(y_pred_rf == y_ts),0)/len(y_ts),5)"
   ]
  },
  {
   "cell_type": "code",
   "execution_count": 297,
   "metadata": {},
   "outputs": [
    {
     "name": "stdout",
     "output_type": "stream",
     "text": [
      "0.96214\n",
      "0.93318\n"
     ]
    }
   ],
   "source": [
    "print ts_NN_error\n",
    "print ts_rf_error"
   ]
  },
  {
   "cell_type": "markdown",
   "metadata": {},
   "source": [
    "### 1 - neareat neighbor method is even better!"
   ]
  },
  {
   "cell_type": "code",
   "execution_count": 299,
   "metadata": {
    "collapsed": true
   },
   "outputs": [],
   "source": [
    "write_ans(file_name=\"c2_hw_last_NN_ans2.txt\", ans=ts_rf_error)"
   ]
  }
 ],
 "metadata": {
  "kernelspec": {
   "display_name": "Python 2",
   "language": "python",
   "name": "python2"
  },
  "language_info": {
   "codemirror_mode": {
    "name": "ipython",
    "version": 2
   },
   "file_extension": ".py",
   "mimetype": "text/x-python",
   "name": "python",
   "nbconvert_exporter": "python",
   "pygments_lexer": "ipython2",
   "version": "2.7.13"
  }
 },
 "nbformat": 4,
 "nbformat_minor": 2
}
