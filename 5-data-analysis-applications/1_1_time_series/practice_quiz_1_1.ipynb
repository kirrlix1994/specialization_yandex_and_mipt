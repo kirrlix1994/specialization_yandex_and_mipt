{
 "cells": [
  {
   "cell_type": "markdown",
   "metadata": {},
   "source": [
    "# Автокорреляция и стационарность\n",
    "\n",
    "## Вопрос 1.\n",
    "\n",
    "Перед вами ряд значений среднегодового объёма популяции рыси:\n",
    "\n",
    "<img src=\"https://d3c33hcgiwev3.cloudfront.net/imageAssetProxy.v1/jtOO7oMVEealOA67wFuqoQ_ab96c0da1bb953be03153e7e61dd0217_all7.png?expiry=1475107200000&hmac=dfLf1E-sIXdwDQ8cwvfddXfEn2DWVhHJxNylitGkcnI\" width = 400/>\n",
    "\n",
    "Какая из автокорреляционных функций соответствует этому ряду?\n",
    "\n",
    "* <img src=\"https://d3c33hcgiwev3.cloudfront.net/imageAssetProxy.v1/sT3fGYMWEeaQkhKk4jYr6Q_75f46bf2326da0fbdcec6b3cedf81322_acfeggs.png?expiry=1475107200000&hmac=N_MMR3mMuPAZVzvSeyCyffXc5z6Sws42-kG9PxYownc\" width = 400/>\n",
    "* <img src=\"https://d3c33hcgiwev3.cloudfront.net/imageAssetProxy.v1/cqFG1YMWEeam4BLcQYZr8Q_e4f3e0f8fb1b6500b17c860a0eed264b_acfbeer.png?expiry=1475107200000&hmac=VnY4mIhY-5TtBNz6fCXKqvqTlKZyIzq4oB0lOIILcMU\" width = 400/>\n",
    "* <img src=\"https://d3c33hcgiwev3.cloudfront.net/imageAssetProxy.v1/qSe2ZIMWEead-BJkoDOYOw_34d227d2304b2afcc4961f2cb4584a23_acflynx.png?expiry=1475107200000&hmac=Sewd38V-74oWZAq3yXnIVEGG1ALgECFn1uLHEME1hD8\" width = 400/>"
   ]
  },
  {
   "cell_type": "markdown",
   "metadata": {},
   "source": [
    "## Вопрос 2\n",
    "\n",
    "Перед вами ряд уровней среднемесячной номинальной заработной платы в России:\n",
    "\n",
    "<img src=\"https://d3c33hcgiwev3.cloudfront.net/imageAssetProxy.v1/LFqYh4MXEeazqQoyai5dlw_be032246383271c4bf5d355ef6a0d8b5_nomwage.png?expiry=1475107200000&hmac=kxfKw5p0fYrV9VymuQZj6xsELPGonibX2JMohcx2YkA\" width = 400/>\n",
    "\n",
    "* Стационарность\n",
    "* Автокоррелированность\n",
    "* Повышающийся тренд\n",
    "* Циклические колебания, соответствующие периодам активности в экономике\n",
    "* Выраженная годовая сезонность"
   ]
  },
  {
   "cell_type": "markdown",
   "metadata": {},
   "source": [
    "## Вопрос 3\n",
    "\n",
    "В приложенном файле — данные по ежемесячному уровню производства молока в фунтах на одну корову:\n",
    "\n",
    "`monthly-milk-production.csv`\n",
    "\n",
    "Загрузите ряд, например, так:\n",
    "\n",
    "```python\n",
    "milk = pd.read_csv('monthly-milk-production.csv',';', index_col=['month'], \n",
    "  parse_dates=['month'], dayfirst=True)\n",
    "```\n",
    "и постройте его график. Какой из приведённых ниже графиков у вас получился?"
   ]
  },
  {
   "cell_type": "markdown",
   "metadata": {},
   "source": [
    "## Вопрос 4\n",
    "\n",
    "Примените к ряду из предыдущего вопроса критерий Дики-Фуллера. Это делается так:\n",
    "\n",
    "```python\n",
    "import statsmodels.api as sm\n",
    "sm.tsa.stattools.adfuller(ряд)\n",
    "```\n",
    "\n",
    "Чему равен полученный достигаемый уровень значимости? Округлите до двух знаков после десятичной точки."
   ]
  },
  {
   "cell_type": "markdown",
   "metadata": {},
   "source": [
    "## Вопрос 5\n",
    "\n",
    " \n",
    "Часто, когда вы имеете дело с величинами, представляющими собой сумму значений показателя за каждый день или за каждый рабочий день, имеет смысл перед началом прогнозирования поделить весь ряд на число дней в периоде. Например, если поделить ряд с объёмом производства молока на одну корову на число дней в месяце, полученная величина будет меняться более плавно, и для неё легче будет построить прогнозирующую модель.\n",
    "\n",
    "Корректно определить число дней в месяце позволяет функция `monthrange` из пакета `calendar`. Используйте её для того, чтобы вычислить новый показатель — среднее дневное число полученного молока на одну корову. Постройте график этого ряда и убедитесь, что он стал более гладким.\n",
    "\n",
    "В качестве ответа введите сумму значений полученного показателя за весь период; округлите до двух знаков после десятичной точки."
   ]
  }
 ],
 "metadata": {
  "kernelspec": {
   "display_name": "Python 3",
   "language": "python",
   "name": "python3"
  },
  "language_info": {
   "codemirror_mode": {
    "name": "ipython",
    "version": 3
   },
   "file_extension": ".py",
   "mimetype": "text/x-python",
   "name": "python",
   "nbconvert_exporter": "python",
   "pygments_lexer": "ipython3",
   "version": "3.5.2"
  }
 },
 "nbformat": 4,
 "nbformat_minor": 1
}
