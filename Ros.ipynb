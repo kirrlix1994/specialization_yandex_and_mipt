{
 "cells": [
  {
   "cell_type": "markdown",
   "metadata": {},
   "source": [
    "### Росбанк соревнование на boosters."
   ]
  },
  {
   "cell_type": "markdown",
   "metadata": {},
   "source": [
    "Задачи:\n",
    "    - Предсказание оттока. Бинарная классификация. Метрика AUC.\n",
    "    - Предсказание суммы POS транзакций в последцющие 3 месяца для клиентов. Метрика - MSE на логарифмах"
   ]
  },
  {
   "cell_type": "code",
   "execution_count": 101,
   "metadata": {},
   "outputs": [],
   "source": [
    "import numpy as np\n",
    "import pandas as pd\n",
    "import xgboost as xgb\n",
    "import matplotlib.pyplot as plt\n",
    "\n",
    "\n",
    "from sklearn.model_selection import cross_val_score, train_test_split\n",
    "from sklearn.metrics import roc_auc_score\n",
    "\n",
    "%matplotlib inline"
   ]
  },
  {
   "cell_type": "code",
   "execution_count": 2,
   "metadata": {
    "collapsed": true
   },
   "outputs": [],
   "source": [
    "# PERIOD is parsed, 'TRDATETIME' - not\n",
    "train = pd.read_csv('train.csv', parse_dates = ['PERIOD'])\n",
    "test =  pd.read_csv('test.csv', parse_dates = ['PERIOD'])"
   ]
  },
  {
   "cell_type": "code",
   "execution_count": 3,
   "metadata": {
    "scrolled": true
   },
   "outputs": [
    {
     "name": "stdout",
     "output_type": "stream",
     "text": [
      "      PERIOD  cl_id   MCC channel_type  currency        TRDATETIME   amount  \\\n",
      "0 2017-01-10      0  5200          NaN       810  21OCT17:00:00:00   5023.0   \n",
      "1 2017-01-10      0  6011          NaN       810  12OCT17:12:24:07  20000.0   \n",
      "2 2017-01-12      0  5921          NaN       810  05DEC17:00:00:00    767.0   \n",
      "3 2017-01-10      0  5411          NaN       810  21OCT17:00:00:00   2031.0   \n",
      "4 2017-01-10      0  6012          NaN       810  24OCT17:13:14:24  36562.0   \n",
      "\n",
      "  trx_category  target_flag  target_sum  \n",
      "0          POS            0         0.0  \n",
      "1      DEPOSIT            0         0.0  \n",
      "2          POS            0         0.0  \n",
      "3          POS            0         0.0  \n",
      "4      C2C_OUT            0         0.0   \n",
      "\n",
      "      PERIOD  cl_id   MCC channel_type  currency        TRDATETIME  amount  \\\n",
      "0 2017-01-04      2  5814          NaN       810  18APR17:00:00:00  153.00   \n",
      "1 2017-01-03      2  5812          NaN       810  10MAR17:00:00:00  388.08   \n",
      "2 2017-01-02      2  5691          NaN       810  21FEB17:00:00:00  999.00   \n",
      "3 2017-01-04      2  5814          NaN       810  26APR17:00:00:00   90.00   \n",
      "4 2017-01-04      2  5814          NaN       810  08APR17:00:00:00  130.00   \n",
      "\n",
      "  trx_category  \n",
      "0          POS  \n",
      "1          POS  \n",
      "2          POS  \n",
      "3          POS  \n",
      "4          POS  \n"
     ]
    }
   ],
   "source": [
    "print(train.head(), \"\\n\")\n",
    "print(test.head())"
   ]
  },
  {
   "cell_type": "code",
   "execution_count": 6,
   "metadata": {
    "collapsed": true
   },
   "outputs": [],
   "source": [
    "#tmp.sort_values('amount', ascending=False)"
   ]
  },
  {
   "cell_type": "code",
   "execution_count": 4,
   "metadata": {
    "collapsed": true,
    "scrolled": false
   },
   "outputs": [],
   "source": [
    "np.log(train['amount']+1).hist(bins=50);"
   ]
  },
  {
   "cell_type": "code",
   "execution_count": 5,
   "metadata": {
    "collapsed": true
   },
   "outputs": [],
   "source": [
    "np.log(test['amount'] + 1).hist(bins=50);"
   ]
  },
  {
   "cell_type": "markdown",
   "metadata": {},
   "source": [
    "Outliyers!"
   ]
  },
  {
   "cell_type": "code",
   "execution_count": 6,
   "metadata": {},
   "outputs": [],
   "source": [
    "#train['channel_type'].value_counts()"
   ]
  },
  {
   "cell_type": "code",
   "execution_count": 7,
   "metadata": {},
   "outputs": [],
   "source": [
    "#train['trx_category'].value_counts()"
   ]
  },
  {
   "cell_type": "code",
   "execution_count": 73,
   "metadata": {},
   "outputs": [
    {
     "name": "stdout",
     "output_type": "stream",
     "text": [
      "(490513, 10)\n",
      "(518376, 8) \n",
      "\n",
      "5000\n",
      "5217\n"
     ]
    }
   ],
   "source": [
    "print(train.shape)\n",
    "print(test.shape, \"\\n\")\n",
    "print(len(np.unique(train['cl_id'])))\n",
    "print(len(np.unique(test['cl_id'])))"
   ]
  },
  {
   "cell_type": "code",
   "execution_count": null,
   "metadata": {
    "collapsed": true
   },
   "outputs": [],
   "source": [
    "# target для всех клиентов одинаковый, это хорошо"
   ]
  },
  {
   "cell_type": "code",
   "execution_count": 9,
   "metadata": {},
   "outputs": [
    {
     "name": "stdout",
     "output_type": "stream",
     "text": [
      "set()\n"
     ]
    }
   ],
   "source": [
    "print( set(train['cl_id']).intersection(set(test['cl_id'])) )"
   ]
  },
  {
   "cell_type": "code",
   "execution_count": 10,
   "metadata": {
    "scrolled": true
   },
   "outputs": [
    {
     "data": {
      "text/html": [
       "<div>\n",
       "<style>\n",
       "    .dataframe thead tr:only-child th {\n",
       "        text-align: right;\n",
       "    }\n",
       "\n",
       "    .dataframe thead th {\n",
       "        text-align: left;\n",
       "    }\n",
       "\n",
       "    .dataframe tbody tr th {\n",
       "        vertical-align: top;\n",
       "    }\n",
       "</style>\n",
       "<table border=\"1\" class=\"dataframe\">\n",
       "  <thead>\n",
       "    <tr style=\"text-align: right;\">\n",
       "      <th></th>\n",
       "      <th>PERIOD</th>\n",
       "      <th>cl_id</th>\n",
       "      <th>MCC</th>\n",
       "      <th>channel_type</th>\n",
       "      <th>currency</th>\n",
       "      <th>TRDATETIME</th>\n",
       "      <th>amount</th>\n",
       "      <th>trx_category</th>\n",
       "      <th>target_flag</th>\n",
       "      <th>target_sum</th>\n",
       "    </tr>\n",
       "  </thead>\n",
       "  <tbody>\n",
       "    <tr>\n",
       "      <th>0</th>\n",
       "      <td>2017-01-10</td>\n",
       "      <td>0</td>\n",
       "      <td>5200</td>\n",
       "      <td>NaN</td>\n",
       "      <td>810</td>\n",
       "      <td>21OCT17:00:00:00</td>\n",
       "      <td>5023.0</td>\n",
       "      <td>POS</td>\n",
       "      <td>0</td>\n",
       "      <td>0.0</td>\n",
       "    </tr>\n",
       "    <tr>\n",
       "      <th>1</th>\n",
       "      <td>2017-01-10</td>\n",
       "      <td>0</td>\n",
       "      <td>6011</td>\n",
       "      <td>NaN</td>\n",
       "      <td>810</td>\n",
       "      <td>12OCT17:12:24:07</td>\n",
       "      <td>20000.0</td>\n",
       "      <td>DEPOSIT</td>\n",
       "      <td>0</td>\n",
       "      <td>0.0</td>\n",
       "    </tr>\n",
       "  </tbody>\n",
       "</table>\n",
       "</div>"
      ],
      "text/plain": [
       "      PERIOD  cl_id   MCC channel_type  currency        TRDATETIME   amount  \\\n",
       "0 2017-01-10      0  5200          NaN       810  21OCT17:00:00:00   5023.0   \n",
       "1 2017-01-10      0  6011          NaN       810  12OCT17:12:24:07  20000.0   \n",
       "\n",
       "  trx_category  target_flag  target_sum  \n",
       "0          POS            0         0.0  \n",
       "1      DEPOSIT            0         0.0  "
      ]
     },
     "execution_count": 10,
     "metadata": {},
     "output_type": "execute_result"
    }
   ],
   "source": [
    "train.head(2)"
   ]
  },
  {
   "cell_type": "code",
   "execution_count": 11,
   "metadata": {},
   "outputs": [
    {
     "data": {
      "text/html": [
       "<div>\n",
       "<style>\n",
       "    .dataframe thead tr:only-child th {\n",
       "        text-align: right;\n",
       "    }\n",
       "\n",
       "    .dataframe thead th {\n",
       "        text-align: left;\n",
       "    }\n",
       "\n",
       "    .dataframe tbody tr th {\n",
       "        vertical-align: top;\n",
       "    }\n",
       "</style>\n",
       "<table border=\"1\" class=\"dataframe\">\n",
       "  <thead>\n",
       "    <tr style=\"text-align: right;\">\n",
       "      <th></th>\n",
       "      <th>PERIOD</th>\n",
       "      <th>cl_id</th>\n",
       "      <th>MCC</th>\n",
       "      <th>channel_type</th>\n",
       "      <th>currency</th>\n",
       "      <th>TRDATETIME</th>\n",
       "      <th>amount</th>\n",
       "      <th>trx_category</th>\n",
       "    </tr>\n",
       "  </thead>\n",
       "  <tbody>\n",
       "    <tr>\n",
       "      <th>0</th>\n",
       "      <td>2017-01-04</td>\n",
       "      <td>2</td>\n",
       "      <td>5814</td>\n",
       "      <td>NaN</td>\n",
       "      <td>810</td>\n",
       "      <td>18APR17:00:00:00</td>\n",
       "      <td>153.00</td>\n",
       "      <td>POS</td>\n",
       "    </tr>\n",
       "    <tr>\n",
       "      <th>1</th>\n",
       "      <td>2017-01-03</td>\n",
       "      <td>2</td>\n",
       "      <td>5812</td>\n",
       "      <td>NaN</td>\n",
       "      <td>810</td>\n",
       "      <td>10MAR17:00:00:00</td>\n",
       "      <td>388.08</td>\n",
       "      <td>POS</td>\n",
       "    </tr>\n",
       "  </tbody>\n",
       "</table>\n",
       "</div>"
      ],
      "text/plain": [
       "      PERIOD  cl_id   MCC channel_type  currency        TRDATETIME  amount  \\\n",
       "0 2017-01-04      2  5814          NaN       810  18APR17:00:00:00  153.00   \n",
       "1 2017-01-03      2  5812          NaN       810  10MAR17:00:00:00  388.08   \n",
       "\n",
       "  trx_category  \n",
       "0          POS  \n",
       "1          POS  "
      ]
     },
     "execution_count": 11,
     "metadata": {},
     "output_type": "execute_result"
    }
   ],
   "source": [
    "test.head(2)"
   ]
  },
  {
   "cell_type": "markdown",
   "metadata": {},
   "source": [
    "Приводим дату к нормальному формату"
   ]
  },
  {
   "cell_type": "code",
   "execution_count": 12,
   "metadata": {
    "collapsed": true
   },
   "outputs": [],
   "source": [
    "train = train.assign(year = pd.DatetimeIndex(train['PERIOD']).year.values, \n",
    "                     month = pd.DatetimeIndex(train['PERIOD']).month.values,\n",
    "                     day =   train['TRDATETIME'].apply(lambda x: x[:2]))\n",
    "\n",
    "train = train.assign( txn_dt = \n",
    "                     pd.to_datetime(train['year'].astype(str) + '-' \\\n",
    "                                    + train['month'].astype(str) + '-' + train['day'].astype(str)))\n",
    "#train.drop(['year', 'month', 'day'], axis=1, inplace=True)\n",
    "train.drop(['day'], axis=1, inplace=True)\n",
    "\n",
    "test = test.assign(year = pd.DatetimeIndex(test['PERIOD']).year.values, \n",
    "                     month = pd.DatetimeIndex(test['PERIOD']).month.values,\n",
    "                     day =   test['TRDATETIME'].apply(lambda x: x[:2]))\n",
    "\n",
    "test = test.assign( txn_dt = \n",
    "                     pd.to_datetime(test['year'].astype(str) + '-' \\\n",
    "                                    + test['month'].astype(str) + '-' + test['day'].astype(str)))\n",
    "#test.drop(['year', 'month', 'day'], axis=1, inplace=True)\n",
    "test.drop(['day'], axis=1, inplace=True)"
   ]
  },
  {
   "cell_type": "code",
   "execution_count": 13,
   "metadata": {},
   "outputs": [
    {
     "data": {
      "text/html": [
       "<div>\n",
       "<style>\n",
       "    .dataframe thead tr:only-child th {\n",
       "        text-align: right;\n",
       "    }\n",
       "\n",
       "    .dataframe thead th {\n",
       "        text-align: left;\n",
       "    }\n",
       "\n",
       "    .dataframe tbody tr th {\n",
       "        vertical-align: top;\n",
       "    }\n",
       "</style>\n",
       "<table border=\"1\" class=\"dataframe\">\n",
       "  <thead>\n",
       "    <tr style=\"text-align: right;\">\n",
       "      <th></th>\n",
       "      <th>PERIOD</th>\n",
       "      <th>cl_id</th>\n",
       "      <th>MCC</th>\n",
       "      <th>channel_type</th>\n",
       "      <th>currency</th>\n",
       "      <th>TRDATETIME</th>\n",
       "      <th>amount</th>\n",
       "      <th>trx_category</th>\n",
       "      <th>target_flag</th>\n",
       "      <th>target_sum</th>\n",
       "      <th>month</th>\n",
       "      <th>year</th>\n",
       "      <th>txn_dt</th>\n",
       "    </tr>\n",
       "  </thead>\n",
       "  <tbody>\n",
       "    <tr>\n",
       "      <th>0</th>\n",
       "      <td>2017-01-10</td>\n",
       "      <td>0</td>\n",
       "      <td>5200</td>\n",
       "      <td>NaN</td>\n",
       "      <td>810</td>\n",
       "      <td>21OCT17:00:00:00</td>\n",
       "      <td>5023.0</td>\n",
       "      <td>POS</td>\n",
       "      <td>0</td>\n",
       "      <td>0.0</td>\n",
       "      <td>1</td>\n",
       "      <td>2017</td>\n",
       "      <td>2017-01-21</td>\n",
       "    </tr>\n",
       "    <tr>\n",
       "      <th>1</th>\n",
       "      <td>2017-01-10</td>\n",
       "      <td>0</td>\n",
       "      <td>6011</td>\n",
       "      <td>NaN</td>\n",
       "      <td>810</td>\n",
       "      <td>12OCT17:12:24:07</td>\n",
       "      <td>20000.0</td>\n",
       "      <td>DEPOSIT</td>\n",
       "      <td>0</td>\n",
       "      <td>0.0</td>\n",
       "      <td>1</td>\n",
       "      <td>2017</td>\n",
       "      <td>2017-01-12</td>\n",
       "    </tr>\n",
       "  </tbody>\n",
       "</table>\n",
       "</div>"
      ],
      "text/plain": [
       "      PERIOD  cl_id   MCC channel_type  currency        TRDATETIME   amount  \\\n",
       "0 2017-01-10      0  5200          NaN       810  21OCT17:00:00:00   5023.0   \n",
       "1 2017-01-10      0  6011          NaN       810  12OCT17:12:24:07  20000.0   \n",
       "\n",
       "  trx_category  target_flag  target_sum  month  year     txn_dt  \n",
       "0          POS            0         0.0      1  2017 2017-01-21  \n",
       "1      DEPOSIT            0         0.0      1  2017 2017-01-12  "
      ]
     },
     "execution_count": 13,
     "metadata": {},
     "output_type": "execute_result"
    }
   ],
   "source": [
    "train.head(2)"
   ]
  },
  {
   "cell_type": "code",
   "execution_count": 14,
   "metadata": {
    "collapsed": true
   },
   "outputs": [],
   "source": [
    "# list of fields to group by :\n",
    "#group_by_fields = ['MCC', 'channel_type', 'currency', 'trx_category']\n",
    "# add window_list:\n",
    "# START_DATE \n",
    "# window_list = [30, 90, 180, all]\n",
    "def get_aggr_feat(df,  group_by_fields, \n",
    "                 id_field = 'cl_id', \n",
    "                 value = 'amount', \n",
    "                 func_list = ['sum', 'std', 'max', 'min', 'count']):\n",
    "    \n",
    "    df_out = pd.DataFrame(df[id_field].unique())\n",
    "    df_out.columns = [id_field]\n",
    "      \n",
    "    for field in group_by_fields:\n",
    "        df_tmp = df.groupby([id_field, field])[value].agg(func_list).reset_index()                               \n",
    "        df_tmp = df_tmp.pivot_table(index=id_field ,columns=field)\n",
    "        field_idx = df_tmp.columns.get_level_values(0)\n",
    "        func_idx = df_tmp.columns.get_level_values(1)\n",
    "        if ( type( field_idx[0]) != str):\n",
    "             field_idx = field_idx.astype(str)\n",
    "        if ( type( func_idx[0]) != str):\n",
    "             func_idx = func_idx.astype(str)       \n",
    "        col_names_list = [ field_idx[i] + '_' + func_idx[i]\n",
    "                           for i in range(df_tmp.shape[1])]\n",
    "        df_tmp.columns = col_names_list\n",
    "        df_tmp = df_tmp.reset_index()\n",
    "        df_out = df_out.merge(df_tmp, on = id_field, how='left') \n",
    "        \n",
    "    return df_out\n",
    "        # add date window aggr \n",
    "        # add count distinct values "
   ]
  },
  {
   "cell_type": "code",
   "execution_count": 19,
   "metadata": {},
   "outputs": [
    {
     "data": {
      "text/html": [
       "<div>\n",
       "<style>\n",
       "    .dataframe thead tr:only-child th {\n",
       "        text-align: right;\n",
       "    }\n",
       "\n",
       "    .dataframe thead th {\n",
       "        text-align: left;\n",
       "    }\n",
       "\n",
       "    .dataframe tbody tr th {\n",
       "        vertical-align: top;\n",
       "    }\n",
       "</style>\n",
       "<table border=\"1\" class=\"dataframe\">\n",
       "  <thead>\n",
       "    <tr style=\"text-align: right;\">\n",
       "      <th></th>\n",
       "      <th>PERIOD</th>\n",
       "      <th>cl_id</th>\n",
       "      <th>MCC</th>\n",
       "      <th>channel_type</th>\n",
       "      <th>currency</th>\n",
       "      <th>TRDATETIME</th>\n",
       "      <th>amount</th>\n",
       "      <th>trx_category</th>\n",
       "      <th>target_flag</th>\n",
       "      <th>target_sum</th>\n",
       "      <th>month</th>\n",
       "      <th>year</th>\n",
       "      <th>txn_dt</th>\n",
       "    </tr>\n",
       "  </thead>\n",
       "  <tbody>\n",
       "    <tr>\n",
       "      <th>0</th>\n",
       "      <td>2017-01-10</td>\n",
       "      <td>0</td>\n",
       "      <td>5200</td>\n",
       "      <td>NaN</td>\n",
       "      <td>810</td>\n",
       "      <td>21OCT17:00:00:00</td>\n",
       "      <td>5023.0</td>\n",
       "      <td>POS</td>\n",
       "      <td>0</td>\n",
       "      <td>0.0</td>\n",
       "      <td>1</td>\n",
       "      <td>2017</td>\n",
       "      <td>2017-01-21</td>\n",
       "    </tr>\n",
       "    <tr>\n",
       "      <th>1</th>\n",
       "      <td>2017-01-10</td>\n",
       "      <td>0</td>\n",
       "      <td>6011</td>\n",
       "      <td>NaN</td>\n",
       "      <td>810</td>\n",
       "      <td>12OCT17:12:24:07</td>\n",
       "      <td>20000.0</td>\n",
       "      <td>DEPOSIT</td>\n",
       "      <td>0</td>\n",
       "      <td>0.0</td>\n",
       "      <td>1</td>\n",
       "      <td>2017</td>\n",
       "      <td>2017-01-12</td>\n",
       "    </tr>\n",
       "    <tr>\n",
       "      <th>2</th>\n",
       "      <td>2017-01-12</td>\n",
       "      <td>0</td>\n",
       "      <td>5921</td>\n",
       "      <td>NaN</td>\n",
       "      <td>810</td>\n",
       "      <td>05DEC17:00:00:00</td>\n",
       "      <td>767.0</td>\n",
       "      <td>POS</td>\n",
       "      <td>0</td>\n",
       "      <td>0.0</td>\n",
       "      <td>1</td>\n",
       "      <td>2017</td>\n",
       "      <td>2017-01-05</td>\n",
       "    </tr>\n",
       "    <tr>\n",
       "      <th>3</th>\n",
       "      <td>2017-01-10</td>\n",
       "      <td>0</td>\n",
       "      <td>5411</td>\n",
       "      <td>NaN</td>\n",
       "      <td>810</td>\n",
       "      <td>21OCT17:00:00:00</td>\n",
       "      <td>2031.0</td>\n",
       "      <td>POS</td>\n",
       "      <td>0</td>\n",
       "      <td>0.0</td>\n",
       "      <td>1</td>\n",
       "      <td>2017</td>\n",
       "      <td>2017-01-21</td>\n",
       "    </tr>\n",
       "    <tr>\n",
       "      <th>4</th>\n",
       "      <td>2017-01-10</td>\n",
       "      <td>0</td>\n",
       "      <td>6012</td>\n",
       "      <td>NaN</td>\n",
       "      <td>810</td>\n",
       "      <td>24OCT17:13:14:24</td>\n",
       "      <td>36562.0</td>\n",
       "      <td>C2C_OUT</td>\n",
       "      <td>0</td>\n",
       "      <td>0.0</td>\n",
       "      <td>1</td>\n",
       "      <td>2017</td>\n",
       "      <td>2017-01-24</td>\n",
       "    </tr>\n",
       "  </tbody>\n",
       "</table>\n",
       "</div>"
      ],
      "text/plain": [
       "      PERIOD  cl_id   MCC channel_type  currency        TRDATETIME   amount  \\\n",
       "0 2017-01-10      0  5200          NaN       810  21OCT17:00:00:00   5023.0   \n",
       "1 2017-01-10      0  6011          NaN       810  12OCT17:12:24:07  20000.0   \n",
       "2 2017-01-12      0  5921          NaN       810  05DEC17:00:00:00    767.0   \n",
       "3 2017-01-10      0  5411          NaN       810  21OCT17:00:00:00   2031.0   \n",
       "4 2017-01-10      0  6012          NaN       810  24OCT17:13:14:24  36562.0   \n",
       "\n",
       "  trx_category  target_flag  target_sum  month  year     txn_dt  \n",
       "0          POS            0         0.0      1  2017 2017-01-21  \n",
       "1      DEPOSIT            0         0.0      1  2017 2017-01-12  \n",
       "2          POS            0         0.0      1  2017 2017-01-05  \n",
       "3          POS            0         0.0      1  2017 2017-01-21  \n",
       "4      C2C_OUT            0         0.0      1  2017 2017-01-24  "
      ]
     },
     "execution_count": 19,
     "metadata": {},
     "output_type": "execute_result"
    }
   ],
   "source": [
    "train.head()"
   ]
  },
  {
   "cell_type": "code",
   "execution_count": 52,
   "metadata": {},
   "outputs": [
    {
     "name": "stdout",
     "output_type": "stream",
     "text": [
      "[6011 6012 5411 7011 4829 5812 4722 5712 5211 4511 5722 5732 5541 5691 5999\n",
      " 5499 4812 5814 5261 3011] \n",
      "\n",
      "[5411 6011 5814 5812 5499 5541 5912 5999 6012 5921 5331 4121 5211 4829 5691\n",
      " 5261 4111 5977 5200 5732] \n",
      "\n",
      "27\n"
     ]
    }
   ],
   "source": [
    "# reduce MCC number: take only most popular:\n",
    "top_mcc = train[['MCC', 'amount']].groupby('MCC')['amount'].agg(['sum', 'count']).reset_index()\n",
    "\n",
    "# Can validate n_top as parametr\n",
    "n_top = 20\n",
    "top_mcc_sum = top_mcc.sort_values('sum', ascending=False)['MCC'].values[0:n_top]\n",
    "top_mcc_count = top_mcc.sort_values('count', ascending=False)['MCC'].values[0:n_top]\n",
    "print(top_mcc_sum, \"\\n\")\n",
    "print(top_mcc_count, \"\\n\")\n",
    "top_mcc = set(top_mcc_sum.tolist() + top_mcc_count.tolist())\n",
    "print(len(top_mcc))"
   ]
  },
  {
   "cell_type": "code",
   "execution_count": 65,
   "metadata": {
    "collapsed": true
   },
   "outputs": [],
   "source": [
    "# reduce MCC number:\n",
    "train['MCC'] = train['MCC'].apply(lambda x : x if x in top_mcc else -1)\n",
    "test['MCC'] = test['MCC'].apply(lambda x : x if x in top_mcc else -1)"
   ]
  },
  {
   "cell_type": "code",
   "execution_count": 67,
   "metadata": {},
   "outputs": [
    {
     "data": {
      "text/html": [
       "<div>\n",
       "<style>\n",
       "    .dataframe thead tr:only-child th {\n",
       "        text-align: right;\n",
       "    }\n",
       "\n",
       "    .dataframe thead th {\n",
       "        text-align: left;\n",
       "    }\n",
       "\n",
       "    .dataframe tbody tr th {\n",
       "        vertical-align: top;\n",
       "    }\n",
       "</style>\n",
       "<table border=\"1\" class=\"dataframe\">\n",
       "  <thead>\n",
       "    <tr style=\"text-align: right;\">\n",
       "      <th></th>\n",
       "      <th>PERIOD</th>\n",
       "      <th>cl_id</th>\n",
       "      <th>MCC</th>\n",
       "      <th>channel_type</th>\n",
       "      <th>currency</th>\n",
       "      <th>TRDATETIME</th>\n",
       "      <th>amount</th>\n",
       "      <th>trx_category</th>\n",
       "      <th>target_flag</th>\n",
       "      <th>target_sum</th>\n",
       "      <th>month</th>\n",
       "      <th>year</th>\n",
       "      <th>txn_dt</th>\n",
       "    </tr>\n",
       "  </thead>\n",
       "  <tbody>\n",
       "    <tr>\n",
       "      <th>0</th>\n",
       "      <td>2017-01-10</td>\n",
       "      <td>0</td>\n",
       "      <td>5200</td>\n",
       "      <td>NaN</td>\n",
       "      <td>810</td>\n",
       "      <td>21OCT17:00:00:00</td>\n",
       "      <td>5023.0</td>\n",
       "      <td>POS</td>\n",
       "      <td>0</td>\n",
       "      <td>0.0</td>\n",
       "      <td>1</td>\n",
       "      <td>2017</td>\n",
       "      <td>2017-01-21</td>\n",
       "    </tr>\n",
       "    <tr>\n",
       "      <th>1</th>\n",
       "      <td>2017-01-10</td>\n",
       "      <td>0</td>\n",
       "      <td>6011</td>\n",
       "      <td>NaN</td>\n",
       "      <td>810</td>\n",
       "      <td>12OCT17:12:24:07</td>\n",
       "      <td>20000.0</td>\n",
       "      <td>DEPOSIT</td>\n",
       "      <td>0</td>\n",
       "      <td>0.0</td>\n",
       "      <td>1</td>\n",
       "      <td>2017</td>\n",
       "      <td>2017-01-12</td>\n",
       "    </tr>\n",
       "    <tr>\n",
       "      <th>2</th>\n",
       "      <td>2017-01-12</td>\n",
       "      <td>0</td>\n",
       "      <td>5921</td>\n",
       "      <td>NaN</td>\n",
       "      <td>810</td>\n",
       "      <td>05DEC17:00:00:00</td>\n",
       "      <td>767.0</td>\n",
       "      <td>POS</td>\n",
       "      <td>0</td>\n",
       "      <td>0.0</td>\n",
       "      <td>1</td>\n",
       "      <td>2017</td>\n",
       "      <td>2017-01-05</td>\n",
       "    </tr>\n",
       "    <tr>\n",
       "      <th>3</th>\n",
       "      <td>2017-01-10</td>\n",
       "      <td>0</td>\n",
       "      <td>5411</td>\n",
       "      <td>NaN</td>\n",
       "      <td>810</td>\n",
       "      <td>21OCT17:00:00:00</td>\n",
       "      <td>2031.0</td>\n",
       "      <td>POS</td>\n",
       "      <td>0</td>\n",
       "      <td>0.0</td>\n",
       "      <td>1</td>\n",
       "      <td>2017</td>\n",
       "      <td>2017-01-21</td>\n",
       "    </tr>\n",
       "    <tr>\n",
       "      <th>4</th>\n",
       "      <td>2017-01-10</td>\n",
       "      <td>0</td>\n",
       "      <td>6012</td>\n",
       "      <td>NaN</td>\n",
       "      <td>810</td>\n",
       "      <td>24OCT17:13:14:24</td>\n",
       "      <td>36562.0</td>\n",
       "      <td>C2C_OUT</td>\n",
       "      <td>0</td>\n",
       "      <td>0.0</td>\n",
       "      <td>1</td>\n",
       "      <td>2017</td>\n",
       "      <td>2017-01-24</td>\n",
       "    </tr>\n",
       "  </tbody>\n",
       "</table>\n",
       "</div>"
      ],
      "text/plain": [
       "      PERIOD  cl_id   MCC channel_type  currency        TRDATETIME   amount  \\\n",
       "0 2017-01-10      0  5200          NaN       810  21OCT17:00:00:00   5023.0   \n",
       "1 2017-01-10      0  6011          NaN       810  12OCT17:12:24:07  20000.0   \n",
       "2 2017-01-12      0  5921          NaN       810  05DEC17:00:00:00    767.0   \n",
       "3 2017-01-10      0  5411          NaN       810  21OCT17:00:00:00   2031.0   \n",
       "4 2017-01-10      0  6012          NaN       810  24OCT17:13:14:24  36562.0   \n",
       "\n",
       "  trx_category  target_flag  target_sum  month  year     txn_dt  \n",
       "0          POS            0         0.0      1  2017 2017-01-21  \n",
       "1      DEPOSIT            0         0.0      1  2017 2017-01-12  \n",
       "2          POS            0         0.0      1  2017 2017-01-05  \n",
       "3          POS            0         0.0      1  2017 2017-01-21  \n",
       "4      C2C_OUT            0         0.0      1  2017 2017-01-24  "
      ]
     },
     "execution_count": 67,
     "metadata": {},
     "output_type": "execute_result"
    }
   ],
   "source": [
    "train.head()"
   ]
  },
  {
   "cell_type": "code",
   "execution_count": 72,
   "metadata": {
    "scrolled": true
   },
   "outputs": [
    {
     "name": "stdout",
     "output_type": "stream",
     "text": [
      "Wall time: 2.28 s\n"
     ]
    }
   ],
   "source": [
    "%%time\n",
    "X_tr = get_aggr_feat(df=train, \n",
    "                     group_by_fields = ['MCC', 'channel_type', 'currency', \n",
    "                                        'trx_category', 'year', 'month'],\n",
    "                     id_field = 'cl_id',\n",
    "                     value = 'amount', \n",
    "                     func_list = ['sum', 'max', 'min', 'count'])\n",
    "\n",
    "X_ts = get_aggr_feat(df=test, \n",
    "                     group_by_fields = ['MCC', 'channel_type', 'currency', \n",
    "                                        'trx_category', 'year', 'month'],\n",
    "                     id_field = 'cl_id',\n",
    "                     value = 'amount', \n",
    "                     func_list = ['sum', 'max', 'min', 'count'])"
   ]
  },
  {
   "cell_type": "code",
   "execution_count": 70,
   "metadata": {
    "scrolled": true
   },
   "outputs": [
    {
     "data": {
      "text/html": [
       "<div>\n",
       "<style>\n",
       "    .dataframe thead tr:only-child th {\n",
       "        text-align: right;\n",
       "    }\n",
       "\n",
       "    .dataframe thead th {\n",
       "        text-align: left;\n",
       "    }\n",
       "\n",
       "    .dataframe tbody tr th {\n",
       "        vertical-align: top;\n",
       "    }\n",
       "</style>\n",
       "<table border=\"1\" class=\"dataframe\">\n",
       "  <thead>\n",
       "    <tr style=\"text-align: right;\">\n",
       "      <th></th>\n",
       "      <th>cl_id</th>\n",
       "      <th>count_-1</th>\n",
       "      <th>count_3011</th>\n",
       "      <th>count_4111</th>\n",
       "      <th>count_4121</th>\n",
       "      <th>count_4511</th>\n",
       "      <th>count_4722</th>\n",
       "      <th>count_4812</th>\n",
       "      <th>count_4829</th>\n",
       "      <th>count_5200</th>\n",
       "      <th>...</th>\n",
       "      <th>min_2016</th>\n",
       "      <th>min_2017</th>\n",
       "      <th>min_2018</th>\n",
       "      <th>sum_2016</th>\n",
       "      <th>sum_2017</th>\n",
       "      <th>sum_2018</th>\n",
       "      <th>count_1</th>\n",
       "      <th>max_1</th>\n",
       "      <th>min_1</th>\n",
       "      <th>sum_1</th>\n",
       "    </tr>\n",
       "  </thead>\n",
       "  <tbody>\n",
       "    <tr>\n",
       "      <th>0</th>\n",
       "      <td>0</td>\n",
       "      <td>NaN</td>\n",
       "      <td>NaN</td>\n",
       "      <td>NaN</td>\n",
       "      <td>NaN</td>\n",
       "      <td>NaN</td>\n",
       "      <td>NaN</td>\n",
       "      <td>NaN</td>\n",
       "      <td>NaN</td>\n",
       "      <td>1.0</td>\n",
       "      <td>...</td>\n",
       "      <td>NaN</td>\n",
       "      <td>767.0</td>\n",
       "      <td>NaN</td>\n",
       "      <td>NaN</td>\n",
       "      <td>64383.00</td>\n",
       "      <td>NaN</td>\n",
       "      <td>5</td>\n",
       "      <td>36562.0</td>\n",
       "      <td>767.0</td>\n",
       "      <td>64383.00</td>\n",
       "    </tr>\n",
       "    <tr>\n",
       "      <th>1</th>\n",
       "      <td>1</td>\n",
       "      <td>16.0</td>\n",
       "      <td>NaN</td>\n",
       "      <td>1.0</td>\n",
       "      <td>NaN</td>\n",
       "      <td>NaN</td>\n",
       "      <td>NaN</td>\n",
       "      <td>NaN</td>\n",
       "      <td>NaN</td>\n",
       "      <td>1.0</td>\n",
       "      <td>...</td>\n",
       "      <td>NaN</td>\n",
       "      <td>3.0</td>\n",
       "      <td>NaN</td>\n",
       "      <td>NaN</td>\n",
       "      <td>267578.04</td>\n",
       "      <td>NaN</td>\n",
       "      <td>104</td>\n",
       "      <td>60000.0</td>\n",
       "      <td>3.0</td>\n",
       "      <td>267578.04</td>\n",
       "    </tr>\n",
       "  </tbody>\n",
       "</table>\n",
       "<p>2 rows × 425 columns</p>\n",
       "</div>"
      ],
      "text/plain": [
       "   cl_id  count_-1  count_3011  count_4111  count_4121  count_4511  \\\n",
       "0      0       NaN         NaN         NaN         NaN         NaN   \n",
       "1      1      16.0         NaN         1.0         NaN         NaN   \n",
       "\n",
       "   count_4722  count_4812  count_4829  count_5200    ...      min_2016  \\\n",
       "0         NaN         NaN         NaN         1.0    ...           NaN   \n",
       "1         NaN         NaN         NaN         1.0    ...           NaN   \n",
       "\n",
       "   min_2017  min_2018  sum_2016   sum_2017  sum_2018  count_1    max_1  min_1  \\\n",
       "0     767.0       NaN       NaN   64383.00       NaN        5  36562.0  767.0   \n",
       "1       3.0       NaN       NaN  267578.04       NaN      104  60000.0    3.0   \n",
       "\n",
       "       sum_1  \n",
       "0   64383.00  \n",
       "1  267578.04  \n",
       "\n",
       "[2 rows x 425 columns]"
      ]
     },
     "execution_count": 70,
     "metadata": {},
     "output_type": "execute_result"
    }
   ],
   "source": [
    "X_tr.head(2)"
   ]
  },
  {
   "cell_type": "code",
   "execution_count": 74,
   "metadata": {
    "scrolled": true
   },
   "outputs": [
    {
     "data": {
      "text/html": [
       "<div>\n",
       "<style>\n",
       "    .dataframe thead tr:only-child th {\n",
       "        text-align: right;\n",
       "    }\n",
       "\n",
       "    .dataframe thead th {\n",
       "        text-align: left;\n",
       "    }\n",
       "\n",
       "    .dataframe tbody tr th {\n",
       "        vertical-align: top;\n",
       "    }\n",
       "</style>\n",
       "<table border=\"1\" class=\"dataframe\">\n",
       "  <thead>\n",
       "    <tr style=\"text-align: right;\">\n",
       "      <th></th>\n",
       "      <th>cl_id</th>\n",
       "      <th>count_-1</th>\n",
       "      <th>count_3011</th>\n",
       "      <th>count_4111</th>\n",
       "      <th>count_4121</th>\n",
       "      <th>count_4511</th>\n",
       "      <th>count_4722</th>\n",
       "      <th>count_4812</th>\n",
       "      <th>count_4829</th>\n",
       "      <th>count_5200</th>\n",
       "      <th>...</th>\n",
       "      <th>min_2016</th>\n",
       "      <th>min_2017</th>\n",
       "      <th>min_2018</th>\n",
       "      <th>sum_2016</th>\n",
       "      <th>sum_2017</th>\n",
       "      <th>sum_2018</th>\n",
       "      <th>count_1</th>\n",
       "      <th>max_1</th>\n",
       "      <th>min_1</th>\n",
       "      <th>sum_1</th>\n",
       "    </tr>\n",
       "  </thead>\n",
       "  <tbody>\n",
       "    <tr>\n",
       "      <th>0</th>\n",
       "      <td>2</td>\n",
       "      <td>40.0</td>\n",
       "      <td>2.0</td>\n",
       "      <td>11.0</td>\n",
       "      <td>NaN</td>\n",
       "      <td>NaN</td>\n",
       "      <td>NaN</td>\n",
       "      <td>1.0</td>\n",
       "      <td>2.0</td>\n",
       "      <td>NaN</td>\n",
       "      <td>...</td>\n",
       "      <td>NaN</td>\n",
       "      <td>8.0</td>\n",
       "      <td>NaN</td>\n",
       "      <td>NaN</td>\n",
       "      <td>328717.72</td>\n",
       "      <td>NaN</td>\n",
       "      <td>199</td>\n",
       "      <td>20000.0</td>\n",
       "      <td>8.0</td>\n",
       "      <td>328717.72</td>\n",
       "    </tr>\n",
       "    <tr>\n",
       "      <th>1</th>\n",
       "      <td>3</td>\n",
       "      <td>9.0</td>\n",
       "      <td>NaN</td>\n",
       "      <td>2.0</td>\n",
       "      <td>NaN</td>\n",
       "      <td>NaN</td>\n",
       "      <td>NaN</td>\n",
       "      <td>NaN</td>\n",
       "      <td>1.0</td>\n",
       "      <td>NaN</td>\n",
       "      <td>...</td>\n",
       "      <td>NaN</td>\n",
       "      <td>42.0</td>\n",
       "      <td>NaN</td>\n",
       "      <td>NaN</td>\n",
       "      <td>270848.77</td>\n",
       "      <td>NaN</td>\n",
       "      <td>96</td>\n",
       "      <td>45000.0</td>\n",
       "      <td>42.0</td>\n",
       "      <td>270848.77</td>\n",
       "    </tr>\n",
       "  </tbody>\n",
       "</table>\n",
       "<p>2 rows × 429 columns</p>\n",
       "</div>"
      ],
      "text/plain": [
       "   cl_id  count_-1  count_3011  count_4111  count_4121  count_4511  \\\n",
       "0      2      40.0         2.0        11.0         NaN         NaN   \n",
       "1      3       9.0         NaN         2.0         NaN         NaN   \n",
       "\n",
       "   count_4722  count_4812  count_4829  count_5200    ...      min_2016  \\\n",
       "0         NaN         1.0         2.0         NaN    ...           NaN   \n",
       "1         NaN         NaN         1.0         NaN    ...           NaN   \n",
       "\n",
       "   min_2017  min_2018  sum_2016   sum_2017  sum_2018  count_1    max_1  min_1  \\\n",
       "0       8.0       NaN       NaN  328717.72       NaN      199  20000.0    8.0   \n",
       "1      42.0       NaN       NaN  270848.77       NaN       96  45000.0   42.0   \n",
       "\n",
       "       sum_1  \n",
       "0  328717.72  \n",
       "1  270848.77  \n",
       "\n",
       "[2 rows x 429 columns]"
      ]
     },
     "execution_count": 74,
     "metadata": {},
     "output_type": "execute_result"
    }
   ],
   "source": [
    "X_ts.head(2)"
   ]
  },
  {
   "cell_type": "code",
   "execution_count": 75,
   "metadata": {},
   "outputs": [
    {
     "name": "stdout",
     "output_type": "stream",
     "text": [
      "(5000, 425) \n",
      "\n",
      "(5217, 429) \n",
      "\n"
     ]
    }
   ],
   "source": [
    "print(X_tr.shape, \"\\n\")\n",
    "print(X_ts.shape, \"\\n\")"
   ]
  },
  {
   "cell_type": "code",
   "execution_count": null,
   "metadata": {
    "collapsed": true
   },
   "outputs": [],
   "source": [
    "# Need same columns\n",
    "# Why this happend? - "
   ]
  },
  {
   "cell_type": "code",
   "execution_count": 115,
   "metadata": {},
   "outputs": [],
   "source": [
    "# get NaN percent in each column in train:\n",
    "def feat_nan_perc(col):\n",
    "    return round( col.isnull().sum() / len(col), 3);  \n",
    "\n",
    "NaN_perc_tr = X_tr.apply(feat_nan_perc, axis=0)\n",
    "NaN_perc_ts = X_ts.apply(feat_nan_perc, axis=0)"
   ]
  },
  {
   "cell_type": "code",
   "execution_count": 142,
   "metadata": {
    "collapsed": true
   },
   "outputs": [],
   "source": [
    "#NaN_perc_tr.hist();"
   ]
  },
  {
   "cell_type": "code",
   "execution_count": 143,
   "metadata": {
    "scrolled": true
   },
   "outputs": [
    {
     "name": "stdout",
     "output_type": "stream",
     "text": [
      "97 \n",
      "\n",
      "97\n"
     ]
    }
   ],
   "source": [
    "print( np.sum(NaN_perc_tr.values < 0.7), \"\\n\")\n",
    "print( np.sum(NaN_perc_ts.values < 0.7))"
   ]
  },
  {
   "cell_type": "code",
   "execution_count": 159,
   "metadata": {
    "scrolled": true
   },
   "outputs": [],
   "source": [
    "# RUN only one time!\n",
    "#NaN_feat = NaN_perc_tr.values < 0.7\n",
    "#X_tr = X_tr.iloc[:,np.where(NaN_feat)[0]]"
   ]
  },
  {
   "cell_type": "code",
   "execution_count": 161,
   "metadata": {},
   "outputs": [
    {
     "data": {
      "text/plain": [
       "(5217, 97)"
      ]
     },
     "execution_count": 161,
     "metadata": {},
     "output_type": "execute_result"
    }
   ],
   "source": [
    "X_ts.shape"
   ]
  },
  {
   "cell_type": "code",
   "execution_count": 163,
   "metadata": {
    "scrolled": true
   },
   "outputs": [
    {
     "name": "stdout",
     "output_type": "stream",
     "text": [
      "set() \n",
      "\n",
      "set() \n",
      "\n"
     ]
    }
   ],
   "source": [
    "print( set(X_tr.columns.values) - set(X_ts.columns.values), \"\\n\")\n",
    "print( set(X_ts.columns.values) - set(X_tr.columns.values), \"\\n\")"
   ]
  },
  {
   "cell_type": "code",
   "execution_count": 169,
   "metadata": {},
   "outputs": [
    {
     "data": {
      "text/html": [
       "<div>\n",
       "<style>\n",
       "    .dataframe thead tr:only-child th {\n",
       "        text-align: right;\n",
       "    }\n",
       "\n",
       "    .dataframe thead th {\n",
       "        text-align: left;\n",
       "    }\n",
       "\n",
       "    .dataframe tbody tr th {\n",
       "        vertical-align: top;\n",
       "    }\n",
       "</style>\n",
       "<table border=\"1\" class=\"dataframe\">\n",
       "  <thead>\n",
       "    <tr style=\"text-align: right;\">\n",
       "      <th></th>\n",
       "      <th>PERIOD</th>\n",
       "      <th>cl_id</th>\n",
       "      <th>MCC</th>\n",
       "      <th>channel_type</th>\n",
       "      <th>currency</th>\n",
       "      <th>TRDATETIME</th>\n",
       "      <th>amount</th>\n",
       "      <th>trx_category</th>\n",
       "      <th>target_flag</th>\n",
       "      <th>target_sum</th>\n",
       "      <th>month</th>\n",
       "      <th>year</th>\n",
       "      <th>txn_dt</th>\n",
       "    </tr>\n",
       "  </thead>\n",
       "  <tbody>\n",
       "    <tr>\n",
       "      <th>0</th>\n",
       "      <td>2017-01-10</td>\n",
       "      <td>0</td>\n",
       "      <td>5200</td>\n",
       "      <td>NaN</td>\n",
       "      <td>810</td>\n",
       "      <td>21OCT17:00:00:00</td>\n",
       "      <td>5023.0</td>\n",
       "      <td>POS</td>\n",
       "      <td>0</td>\n",
       "      <td>0.0</td>\n",
       "      <td>1</td>\n",
       "      <td>2017</td>\n",
       "      <td>2017-01-21</td>\n",
       "    </tr>\n",
       "    <tr>\n",
       "      <th>1</th>\n",
       "      <td>2017-01-10</td>\n",
       "      <td>0</td>\n",
       "      <td>6011</td>\n",
       "      <td>NaN</td>\n",
       "      <td>810</td>\n",
       "      <td>12OCT17:12:24:07</td>\n",
       "      <td>20000.0</td>\n",
       "      <td>DEPOSIT</td>\n",
       "      <td>0</td>\n",
       "      <td>0.0</td>\n",
       "      <td>1</td>\n",
       "      <td>2017</td>\n",
       "      <td>2017-01-12</td>\n",
       "    </tr>\n",
       "    <tr>\n",
       "      <th>2</th>\n",
       "      <td>2017-01-12</td>\n",
       "      <td>0</td>\n",
       "      <td>5921</td>\n",
       "      <td>NaN</td>\n",
       "      <td>810</td>\n",
       "      <td>05DEC17:00:00:00</td>\n",
       "      <td>767.0</td>\n",
       "      <td>POS</td>\n",
       "      <td>0</td>\n",
       "      <td>0.0</td>\n",
       "      <td>1</td>\n",
       "      <td>2017</td>\n",
       "      <td>2017-01-05</td>\n",
       "    </tr>\n",
       "    <tr>\n",
       "      <th>3</th>\n",
       "      <td>2017-01-10</td>\n",
       "      <td>0</td>\n",
       "      <td>5411</td>\n",
       "      <td>NaN</td>\n",
       "      <td>810</td>\n",
       "      <td>21OCT17:00:00:00</td>\n",
       "      <td>2031.0</td>\n",
       "      <td>POS</td>\n",
       "      <td>0</td>\n",
       "      <td>0.0</td>\n",
       "      <td>1</td>\n",
       "      <td>2017</td>\n",
       "      <td>2017-01-21</td>\n",
       "    </tr>\n",
       "    <tr>\n",
       "      <th>4</th>\n",
       "      <td>2017-01-10</td>\n",
       "      <td>0</td>\n",
       "      <td>6012</td>\n",
       "      <td>NaN</td>\n",
       "      <td>810</td>\n",
       "      <td>24OCT17:13:14:24</td>\n",
       "      <td>36562.0</td>\n",
       "      <td>C2C_OUT</td>\n",
       "      <td>0</td>\n",
       "      <td>0.0</td>\n",
       "      <td>1</td>\n",
       "      <td>2017</td>\n",
       "      <td>2017-01-24</td>\n",
       "    </tr>\n",
       "  </tbody>\n",
       "</table>\n",
       "</div>"
      ],
      "text/plain": [
       "      PERIOD  cl_id   MCC channel_type  currency        TRDATETIME   amount  \\\n",
       "0 2017-01-10      0  5200          NaN       810  21OCT17:00:00:00   5023.0   \n",
       "1 2017-01-10      0  6011          NaN       810  12OCT17:12:24:07  20000.0   \n",
       "2 2017-01-12      0  5921          NaN       810  05DEC17:00:00:00    767.0   \n",
       "3 2017-01-10      0  5411          NaN       810  21OCT17:00:00:00   2031.0   \n",
       "4 2017-01-10      0  6012          NaN       810  24OCT17:13:14:24  36562.0   \n",
       "\n",
       "  trx_category  target_flag  target_sum  month  year     txn_dt  \n",
       "0          POS            0         0.0      1  2017 2017-01-21  \n",
       "1      DEPOSIT            0         0.0      1  2017 2017-01-12  \n",
       "2          POS            0         0.0      1  2017 2017-01-05  \n",
       "3          POS            0         0.0      1  2017 2017-01-21  \n",
       "4      C2C_OUT            0         0.0      1  2017 2017-01-24  "
      ]
     },
     "execution_count": 169,
     "metadata": {},
     "output_type": "execute_result"
    }
   ],
   "source": [
    "train.head()"
   ]
  },
  {
   "cell_type": "code",
   "execution_count": 184,
   "metadata": {},
   "outputs": [],
   "source": [
    "train_data = X_tr.merge( \n",
    "    train[['cl_id', 'target_flag']].groupby(['cl_id'])[['target_flag']].mean().reset_index(), \n",
    "    how='inner', on='cl_id')"
   ]
  },
  {
   "cell_type": "code",
   "execution_count": 185,
   "metadata": {
    "scrolled": true
   },
   "outputs": [
    {
     "data": {
      "text/html": [
       "<div>\n",
       "<style>\n",
       "    .dataframe thead tr:only-child th {\n",
       "        text-align: right;\n",
       "    }\n",
       "\n",
       "    .dataframe thead th {\n",
       "        text-align: left;\n",
       "    }\n",
       "\n",
       "    .dataframe tbody tr th {\n",
       "        vertical-align: top;\n",
       "    }\n",
       "</style>\n",
       "<table border=\"1\" class=\"dataframe\">\n",
       "  <thead>\n",
       "    <tr style=\"text-align: right;\">\n",
       "      <th></th>\n",
       "      <th>cl_id</th>\n",
       "      <th>count_-1</th>\n",
       "      <th>count_5331</th>\n",
       "      <th>count_5411</th>\n",
       "      <th>count_5499</th>\n",
       "      <th>count_5541</th>\n",
       "      <th>count_5691</th>\n",
       "      <th>count_5812</th>\n",
       "      <th>count_5814</th>\n",
       "      <th>count_5912</th>\n",
       "      <th>...</th>\n",
       "      <th>max_2017</th>\n",
       "      <th>min_2016</th>\n",
       "      <th>min_2017</th>\n",
       "      <th>sum_2016</th>\n",
       "      <th>sum_2017</th>\n",
       "      <th>count_1</th>\n",
       "      <th>max_1</th>\n",
       "      <th>min_1</th>\n",
       "      <th>sum_1</th>\n",
       "      <th>target_flag</th>\n",
       "    </tr>\n",
       "  </thead>\n",
       "  <tbody>\n",
       "    <tr>\n",
       "      <th>0</th>\n",
       "      <td>0</td>\n",
       "      <td>NaN</td>\n",
       "      <td>NaN</td>\n",
       "      <td>1.0</td>\n",
       "      <td>NaN</td>\n",
       "      <td>NaN</td>\n",
       "      <td>NaN</td>\n",
       "      <td>NaN</td>\n",
       "      <td>NaN</td>\n",
       "      <td>NaN</td>\n",
       "      <td>...</td>\n",
       "      <td>36562.00</td>\n",
       "      <td>NaN</td>\n",
       "      <td>767.0</td>\n",
       "      <td>NaN</td>\n",
       "      <td>64383.00</td>\n",
       "      <td>5</td>\n",
       "      <td>36562.00</td>\n",
       "      <td>767.0</td>\n",
       "      <td>64383.00</td>\n",
       "      <td>0</td>\n",
       "    </tr>\n",
       "    <tr>\n",
       "      <th>1</th>\n",
       "      <td>1</td>\n",
       "      <td>16.0</td>\n",
       "      <td>NaN</td>\n",
       "      <td>12.0</td>\n",
       "      <td>2.0</td>\n",
       "      <td>NaN</td>\n",
       "      <td>3.0</td>\n",
       "      <td>19.0</td>\n",
       "      <td>41.0</td>\n",
       "      <td>3.0</td>\n",
       "      <td>...</td>\n",
       "      <td>60000.00</td>\n",
       "      <td>NaN</td>\n",
       "      <td>3.0</td>\n",
       "      <td>NaN</td>\n",
       "      <td>267578.04</td>\n",
       "      <td>104</td>\n",
       "      <td>60000.00</td>\n",
       "      <td>3.0</td>\n",
       "      <td>267578.04</td>\n",
       "      <td>0</td>\n",
       "    </tr>\n",
       "    <tr>\n",
       "      <th>2</th>\n",
       "      <td>5</td>\n",
       "      <td>38.0</td>\n",
       "      <td>2.0</td>\n",
       "      <td>31.0</td>\n",
       "      <td>8.0</td>\n",
       "      <td>NaN</td>\n",
       "      <td>13.0</td>\n",
       "      <td>2.0</td>\n",
       "      <td>1.0</td>\n",
       "      <td>3.0</td>\n",
       "      <td>...</td>\n",
       "      <td>56164.05</td>\n",
       "      <td>NaN</td>\n",
       "      <td>8.2</td>\n",
       "      <td>NaN</td>\n",
       "      <td>546369.13</td>\n",
       "      <td>142</td>\n",
       "      <td>56164.05</td>\n",
       "      <td>8.2</td>\n",
       "      <td>546369.13</td>\n",
       "      <td>1</td>\n",
       "    </tr>\n",
       "    <tr>\n",
       "      <th>3</th>\n",
       "      <td>9</td>\n",
       "      <td>1.0</td>\n",
       "      <td>NaN</td>\n",
       "      <td>1.0</td>\n",
       "      <td>NaN</td>\n",
       "      <td>NaN</td>\n",
       "      <td>NaN</td>\n",
       "      <td>NaN</td>\n",
       "      <td>NaN</td>\n",
       "      <td>NaN</td>\n",
       "      <td>...</td>\n",
       "      <td>117450.00</td>\n",
       "      <td>NaN</td>\n",
       "      <td>39.0</td>\n",
       "      <td>NaN</td>\n",
       "      <td>849315.09</td>\n",
       "      <td>39</td>\n",
       "      <td>117450.00</td>\n",
       "      <td>39.0</td>\n",
       "      <td>849315.09</td>\n",
       "      <td>0</td>\n",
       "    </tr>\n",
       "    <tr>\n",
       "      <th>4</th>\n",
       "      <td>10</td>\n",
       "      <td>46.0</td>\n",
       "      <td>27.0</td>\n",
       "      <td>103.0</td>\n",
       "      <td>30.0</td>\n",
       "      <td>22.0</td>\n",
       "      <td>NaN</td>\n",
       "      <td>2.0</td>\n",
       "      <td>4.0</td>\n",
       "      <td>20.0</td>\n",
       "      <td>...</td>\n",
       "      <td>150000.00</td>\n",
       "      <td>NaN</td>\n",
       "      <td>3.0</td>\n",
       "      <td>NaN</td>\n",
       "      <td>1124343.99</td>\n",
       "      <td>463</td>\n",
       "      <td>150000.00</td>\n",
       "      <td>3.0</td>\n",
       "      <td>1124343.99</td>\n",
       "      <td>0</td>\n",
       "    </tr>\n",
       "  </tbody>\n",
       "</table>\n",
       "<p>5 rows × 98 columns</p>\n",
       "</div>"
      ],
      "text/plain": [
       "   cl_id  count_-1  count_5331  count_5411  count_5499  count_5541  \\\n",
       "0      0       NaN         NaN         1.0         NaN         NaN   \n",
       "1      1      16.0         NaN        12.0         2.0         NaN   \n",
       "2      5      38.0         2.0        31.0         8.0         NaN   \n",
       "3      9       1.0         NaN         1.0         NaN         NaN   \n",
       "4     10      46.0        27.0       103.0        30.0        22.0   \n",
       "\n",
       "   count_5691  count_5812  count_5814  count_5912     ...        max_2017  \\\n",
       "0         NaN         NaN         NaN         NaN     ...        36562.00   \n",
       "1         3.0        19.0        41.0         3.0     ...        60000.00   \n",
       "2        13.0         2.0         1.0         3.0     ...        56164.05   \n",
       "3         NaN         NaN         NaN         NaN     ...       117450.00   \n",
       "4         NaN         2.0         4.0        20.0     ...       150000.00   \n",
       "\n",
       "   min_2016  min_2017  sum_2016    sum_2017  count_1      max_1  min_1  \\\n",
       "0       NaN     767.0       NaN    64383.00        5   36562.00  767.0   \n",
       "1       NaN       3.0       NaN   267578.04      104   60000.00    3.0   \n",
       "2       NaN       8.2       NaN   546369.13      142   56164.05    8.2   \n",
       "3       NaN      39.0       NaN   849315.09       39  117450.00   39.0   \n",
       "4       NaN       3.0       NaN  1124343.99      463  150000.00    3.0   \n",
       "\n",
       "        sum_1  target_flag  \n",
       "0    64383.00            0  \n",
       "1   267578.04            0  \n",
       "2   546369.13            1  \n",
       "3   849315.09            0  \n",
       "4  1124343.99            0  \n",
       "\n",
       "[5 rows x 98 columns]"
      ]
     },
     "execution_count": 185,
     "metadata": {},
     "output_type": "execute_result"
    }
   ],
   "source": [
    "train_data.head()"
   ]
  },
  {
   "cell_type": "code",
   "execution_count": 186,
   "metadata": {},
   "outputs": [
    {
     "data": {
      "text/plain": [
       "1    2767\n",
       "0    2233\n",
       "Name: target_flag, dtype: int64"
      ]
     },
     "execution_count": 186,
     "metadata": {},
     "output_type": "execute_result"
    }
   ],
   "source": [
    "train_data['target_flag'].value_counts()"
   ]
  },
  {
   "cell_type": "markdown",
   "metadata": {},
   "source": [
    "### MODELING"
   ]
  },
  {
   "cell_type": "code",
   "execution_count": 272,
   "metadata": {},
   "outputs": [
    {
     "name": "stdout",
     "output_type": "stream",
     "text": [
      "0.2863 \n",
      "\n",
      "Wall time: 8.83 s\n"
     ]
    }
   ],
   "source": [
    "%%time\n",
    "# set params\n",
    "my_xgb_estimator = xgb.XGBClassifier(max_depth=2, \n",
    "                                   n_estimators=100,\n",
    "                                   learning_rate=0.1,\n",
    "                                   #min_child_weight=4,\n",
    "                                   #col_sample_bytree=0.8,\n",
    "                                   #subsample=0.7,\n",
    "                                   #reg_alpha=1,\n",
    "                                   #reg_gamma=1,\n",
    "                                   #scale_pos_weight=1,\n",
    "                                   objective='binary:logistic',\n",
    "                                   #eval_metric='auc',\n",
    "                                   seed=42\n",
    "                                   )\n",
    "score = np.mean(cross_val_score(estimator=my_xgb_estimator, \n",
    "                                X=train_data.drop(['target_flag'],axis=1).values,\n",
    "                                y=train_data['target_flag'].values,\n",
    "                                scoring='roc_auc', cv=5))\n",
    "print('{:.4f}'.format(score), \"\\n\")"
   ]
  },
  {
   "cell_type": "code",
   "execution_count": 273,
   "metadata": {},
   "outputs": [
    {
     "data": {
      "text/plain": [
       "set()"
      ]
     },
     "execution_count": 273,
     "metadata": {},
     "output_type": "execute_result"
    }
   ],
   "source": [
    "set(X_ts.columns.tolist()) - set(train_data.columns.tolist()) "
   ]
  },
  {
   "cell_type": "code",
   "execution_count": 274,
   "metadata": {},
   "outputs": [
    {
     "data": {
      "text/plain": [
       "{'target_flag'}"
      ]
     },
     "execution_count": 274,
     "metadata": {},
     "output_type": "execute_result"
    }
   ],
   "source": [
    "set(train_data.columns.tolist()) - set(X_ts.columns.tolist()) "
   ]
  },
  {
   "cell_type": "code",
   "execution_count": 247,
   "metadata": {},
   "outputs": [],
   "source": [
    "%%time\n",
    "# model:\n",
    "xgb_model = xgb.XGBClassifier(max_depth=6, \n",
    "                                   n_estimators=500,\n",
    "                                   learning_rate=0.01,\n",
    "                                   #min_child_weight=4,\n",
    "                                   #col_sample_bytree=0.8,\n",
    "                                   #subsample=0.7,\n",
    "                                   #reg_alpha=1,\n",
    "                                   #reg_gamma=1,\n",
    "                                   #scale_pos_weight=1,\n",
    "                                   objective='binary:logistic',\n",
    "                                   eval_metric='auc',\n",
    "                                   seed=42\n",
    "                                   )\n",
    "\n",
    "xgb_model.fit(train_data.drop(['target_flag'],axis=1).values, \n",
    "                       train_data['target_flag'].values)\n",
    "\n",
    "pred_tr = xgb_model.predict_proba(train_data.drop(['target_flag'],axis=1).values)[:,1]\n",
    "pred_ts = xgb_model.predict_proba(X_ts.values)[:,1]"
   ]
  },
  {
   "cell_type": "code",
   "execution_count": 248,
   "metadata": {},
   "outputs": [],
   "source": [
    "#pred_tr.hist(bins=100, color='red');"
   ]
  },
  {
   "cell_type": "code",
   "execution_count": 249,
   "metadata": {},
   "outputs": [
    {
     "data": {
      "image/png": "[encoded data removed]",
      "text/plain": [
       "<matplotlib.figure.Figure at 0x29001916320>"
      ]
     },
     "metadata": {},
     "output_type": "display_data"
    }
   ],
   "source": [
    "plt.hist(pred_tr, bins=80);"
   ]
  },
  {
   "cell_type": "code",
   "execution_count": 250,
   "metadata": {},
   "outputs": [
    {
     "data": {
      "image/png": "[encoded data removed]",
      "text/plain": [
       "<matplotlib.figure.Figure at 0x290004746d8>"
      ]
     },
     "metadata": {},
     "output_type": "display_data"
    }
   ],
   "source": [
    "plt.hist(pred_ts, bins=80, color='red');"
   ]
  },
  {
   "cell_type": "code",
   "execution_count": 251,
   "metadata": {},
   "outputs": [
    {
     "name": "stdout",
     "output_type": "stream",
     "text": [
      "0.552937 \n",
      "\n",
      "0.5534\n"
     ]
    }
   ],
   "source": [
    "print(pred_tr.mean(), \"\\n\")\n",
    "print(train_data['target_flag'].mean())"
   ]
  },
  {
   "cell_type": "code",
   "execution_count": 262,
   "metadata": {},
   "outputs": [],
   "source": [
    "def submit(ids, preds):\n",
    "    out_df = pd.DataFrame( data = np.vstack((ids, preds)).T,\n",
    "                           columns = ['_ID_','_VAL_'])\n",
    "    return out_df"
   ]
  },
  {
   "cell_type": "code",
   "execution_count": 271,
   "metadata": {},
   "outputs": [
    {
     "data": {
      "text/plain": [
       "array([    2,     3,     4, ..., 10209, 10211, 10216], dtype=int64)"
      ]
     },
     "execution_count": 271,
     "metadata": {},
     "output_type": "execute_result"
    }
   ],
   "source": [
    "X_ts['cl_id'].values"
   ]
  },
  {
   "cell_type": "code",
   "execution_count": null,
   "metadata": {
    "collapsed": true
   },
   "outputs": [],
   "source": [
    "np.vstack((X_ts['cl_id'].values, preds)).T"
   ]
  },
  {
   "cell_type": "code",
   "execution_count": 270,
   "metadata": {},
   "outputs": [],
   "source": [
    "# write answer:\n",
    "submit(X_ts['cl_id'].values, pred_ts).to_csv('submits/xgb_first_submit.csv', index=False)"
   ]
  },
  {
   "cell_type": "code",
   "execution_count": null,
   "metadata": {
    "collapsed": true
   },
   "outputs": [],
   "source": [
    "# 0.81"
   ]
  }
 ],
 "metadata": {
  "kernelspec": {
   "display_name": "Python 3",
   "language": "python",
   "name": "python3"
  },
  "language_info": {
   "codemirror_mode": {
    "name": "ipython",
    "version": 3
   },
   "file_extension": ".py",
   "mimetype": "text/x-python",
   "name": "python",
   "nbconvert_exporter": "python",
   "pygments_lexer": "ipython3",
   "version": "3.6.3"
  }
 },
 "nbformat": 4,
 "nbformat_minor": 2
}
