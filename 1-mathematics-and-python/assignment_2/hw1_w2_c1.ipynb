{
 "cells": [
  {
   "cell_type": "markdown",
   "metadata": {},
   "source": [
    "# first task : sentence distance"
   ]
  },
  {
   "cell_type": "code",
   "execution_count": 224,
   "metadata": {},
   "outputs": [],
   "source": [
    "import numpy as np\n",
    "import scipy\n",
    "from scipy.spatial import distance"
   ]
  },
  {
   "cell_type": "code",
   "execution_count": 182,
   "metadata": {
    "collapsed": true
   },
   "outputs": [],
   "source": [
    "with open(\"sentences.txt\", \"r\") as    sentences_file:\n",
    "       sent_file = sentences_file.readlines()  \n",
    "#print  sent_file"
   ]
  },
  {
   "cell_type": "code",
   "execution_count": 183,
   "metadata": {},
   "outputs": [
    {
     "name": "stdout",
     "output_type": "stream",
     "text": [
      "<type 'list'>\n",
      "Cat command is one of the basic commands that you learned when you started in the Unix / Linux world.\n",
      "\n"
     ]
    }
   ],
   "source": [
    "# file is read as one string, need a list with lines(sentences)\n",
    "print type( sent_file)\n",
    "print sent_file[10]"
   ]
  },
  {
   "cell_type": "code",
   "execution_count": 184,
   "metadata": {},
   "outputs": [
    {
     "name": "stdout",
     "output_type": "stream",
     "text": [
      "a common interactive use of cat for a single file is to output the content of a file to standard output.\n",
      "\n"
     ]
    }
   ],
   "source": [
    "# sentences to lower register: \n",
    "# use list comprehention:\n",
    "sent_file = [ line.lower() for line in sent_file]\n",
    "print sent_file[2]\n",
    "# good "
   ]
  },
  {
   "cell_type": "code",
   "execution_count": 185,
   "metadata": {},
   "outputs": [
    {
     "name": "stdout",
     "output_type": "stream",
     "text": [
      "in comparison to dogs, cats have not undergone major changes during the domestication process.\n",
      "\n"
     ]
    }
   ],
   "source": [
    "# another variant: use enumerate: \n",
    "for i, line in enumerate(sent_file):\n",
    "    sent_file[i] = line.lower()\n",
    "print sent_file[0]"
   ]
  },
  {
   "cell_type": "code",
   "execution_count": 186,
   "metadata": {},
   "outputs": [
    {
     "name": "stdout",
     "output_type": "stream",
     "text": [
      "<type 'list'>\n",
      "['in', 'comparison', 'to', 'dogs', '', 'cats', 'have', 'not', 'undergone', 'major', 'changes', 'during', 'the', 'domestication', 'process', '', '']\n",
      "<type 'list'>\n"
     ]
    }
   ],
   "source": [
    "# devide sentences by words:\n",
    "#re.split('[^a-z]', t)\n",
    "import re \n",
    "sent_file_1 = [  re.split('[^a-z]', line)  for line in sent_file]\n",
    "print type(sent_file_1)\n",
    "#print sent_file_1\n",
    "print sent_file_1[0]\n",
    "print type(sent_file_1[0])\n",
    "# double list structure( list of lists of words)"
   ]
  },
  {
   "cell_type": "code",
   "execution_count": 50,
   "metadata": {},
   "outputs": [
    {
     "name": "stdout",
     "output_type": "stream",
     "text": [
      "['as', 'cat', 'simply', 'catenates', 'streams', 'of', 'bytes', '', 'it', 'can', 'be', 'also', 'used', 'to', 'concatenate', 'binary', 'files', '', 'where', 'it', 'will', 'just', 'concatenate', 'sequence', 'of', 'bytes', '', '']\n",
      "['as', 'cat', 'simply', 'catenates', 'streams', 'of', 'bytes', 'it', 'can', 'be', 'also', 'used', 'to', 'concatenate', 'binary', 'files', 'where', 'it', 'will', 'just', 'concatenate', 'sequence', 'of', 'bytes']\n"
     ]
    }
   ],
   "source": [
    "# remove empty words\n",
    "# one sentence example:\n",
    "tmp = sent_file_1[1]\n",
    "tmp_1 = [ word for  word in tmp if  word != '']\n",
    "print tmp \n",
    "print tmp_1"
   ]
  },
  {
   "cell_type": "code",
   "execution_count": 188,
   "metadata": {},
   "outputs": [
    {
     "name": "stdout",
     "output_type": "stream",
     "text": [
      "['when', 'you', 'type', 'simply', 'cat', 'command', 'without', 'any', 'arguments', '', 'it', 'just', 'receives', 'the', 'stdin', 'content', 'and', 'displays', 'it', 'in', 'the', 'stdout', '', '']\n",
      "['when', 'you', 'type', 'simply', 'cat', 'command', 'without', 'any', 'arguments', 'it', 'just', 'receives', 'the', 'stdin', 'content', 'and', 'displays', 'it', 'in', 'the', 'stdout']\n"
     ]
    }
   ],
   "source": [
    "# remove empty words\n",
    "# use double list comprehention \n",
    "sent_file_2 = [[word for word in sent if word !=''] for sent in sent_file_1]\n",
    "print sent_file_1[12]\n",
    "print sent_file_2[12]\n",
    "# good"
   ]
  },
  {
   "cell_type": "code",
   "execution_count": 136,
   "metadata": {},
   "outputs": [],
   "source": [
    "# double comprehension example\n",
    "#[ x for b in a for x in b]\n",
    "\n",
    "# leave only words\n",
    "#sent_file_2 = [word  for sentence  in sent_file_1  for word in sentence if  word != '']\n",
    "#print sent_file_2[0]\n",
    "\n",
    "# do not work\n",
    "for sentence in sent_file_1:\n",
    "    sentence = [ word for  word in  sentence if  word != '']\n",
    "    #sentence = filter(None,  sentence)\n",
    "    \n",
    "#sent_file_2 = filter(None,  sent_file_1)   \n",
    "#print sent_file_2[1]\n",
    "#print  sentence\n"
   ]
  },
  {
   "cell_type": "code",
   "execution_count": 191,
   "metadata": {},
   "outputs": [
    {
     "name": "stdout",
     "output_type": "stream",
     "text": [
      "<type 'list'>\n",
      "<type 'list'>\n",
      "['in', 'comparison', 'to', 'dogs', 'cats', 'have', 'not', 'undergone', 'major', 'changes', 'during', 'the', 'domestication', 'process', 'as', 'cat', 'simply', 'catenates', 'streams', 'of', 'bytes', 'it', 'can', 'be', 'also', 'used', 'to', 'concatenate', 'binary', 'files', 'where', 'it', 'will', 'just', 'concatenate', 'sequence', 'of', 'bytes', 'a', 'common', 'interactive', 'use', 'of', 'cat', 'for', 'a', 'single', 'file', 'is', 'to', 'output', 'the', 'content', 'of', 'a', 'file', 'to', 'standard', 'output', 'cats', 'can', 'hear', 'sounds', 'too', 'faint', 'or', 'too', 'high', 'in', 'frequency', 'for', 'human', 'ears', 'such', 'as', 'those', 'made', 'by', 'mice', 'and', 'other', 'small', 'animals', 'in', 'one', 'people', 'deliberately', 'tamed', 'cats', 'in', 'a', 'process', 'of', 'artificial', 'selection', 'as', 'they', 'were', 'useful', 'predators', 'of', 'vermin', 'the', 'domesticated', 'cat', 'and', 'its', 'closest', 'wild', 'ancestor', 'are', 'both', 'diploid', 'organisms', 'that', 'possess', 'chromosomes', 'and', 'roughly', 'genes', 'domestic', 'cats', 'are', 'similar', 'in', 'size', 'to', 'the', 'other', 'members', 'of', 'the', 'genus', 'felis', 'typically', 'weighing', 'between', 'and', 'kg', 'and', 'lb', 'however', 'if', 'the', 'output', 'is', 'piped', 'or', 'redirected', 'cat', 'is', 'unnecessary', 'cat', 'with', 'one', 'named', 'file', 'is', 'safer', 'where', 'human', 'error', 'is', 'a', 'concern', 'one', 'wrong', 'use', 'of', 'the', 'default', 'redirection', 'symbol', 'instead', 'of', 'often', 'adjacent', 'on', 'keyboards', 'may', 'permanently', 'delete', 'the', 'file', 'you', 'were', 'just', 'needing', 'to', 'read', 'in', 'terms', 'of', 'legibility', 'a', 'sequence', 'of', 'commands', 'starting', 'with', 'cat', 'and', 'connected', 'by', 'pipes', 'has', 'a', 'clear', 'left', 'to', 'right', 'flow', 'of', 'information', 'cat', 'command', 'is', 'one', 'of', 'the', 'basic', 'commands', 'that', 'you', 'learned', 'when', 'you', 'started', 'in', 'the', 'unix', 'linux', 'world', 'using', 'cat', 'command', 'the', 'lines', 'received', 'from', 'stdin', 'can', 'be', 'redirected', 'to', 'a', 'new', 'file', 'using', 'redirection', 'symbols', 'when', 'you', 'type', 'simply', 'cat', 'command', 'without', 'any', 'arguments', 'it', 'just', 'receives', 'the', 'stdin', 'content', 'and', 'displays', 'it', 'in', 'the', 'stdout', 'leopard', 'was', 'released', 'on', 'october', 'as', 'the', 'successor', 'of', 'tiger', 'version', 'and', 'is', 'available', 'in', 'two', 'editions', 'according', 'to', 'apple', 'leopard', 'contains', 'over', 'changes', 'and', 'enhancements', 'over', 'its', 'predecessor', 'mac', 'os', 'x', 'tiger', 'as', 'of', 'mid', 'some', 'apple', 'computers', 'have', 'firmware', 'factory', 'installed', 'which', 'will', 'no', 'longer', 'allow', 'installation', 'of', 'mac', 'os', 'x', 'leopard', 'since', 'apple', 'moved', 'to', 'using', 'intel', 'processors', 'in', 'their', 'computers', 'the', 'osx', 'community', 'has', 'developed', 'and', 'now', 'also', 'allows', 'mac', 'os', 'x', 'tiger', 'and', 'later', 'releases', 'to', 'be', 'installed', 'on', 'non', 'apple', 'x', 'based', 'computers', 'os', 'x', 'mountain', 'lion', 'was', 'released', 'on', 'july', 'for', 'purchase', 'and', 'download', 'through', 'apple', 's', 'mac', 'app', 'store', 'as', 'part', 'of', 'a', 'switch', 'to', 'releasing', 'os', 'x', 'versions', 'online', 'and', 'every', 'year', 'apple', 'has', 'released', 'a', 'small', 'patch', 'for', 'the', 'three', 'most', 'recent', 'versions', 'of', 'safari', 'running', 'on', 'os', 'x', 'yosemite', 'mavericks', 'and', 'mountain', 'lion', 'the', 'mountain', 'lion', 'release', 'marks', 'the', 'second', 'time', 'apple', 'has', 'offered', 'an', 'incremental', 'upgrade', 'rather', 'than', 'releasing', 'a', 'new', 'cat', 'entirely', 'mac', 'os', 'x', 'mountain', 'lion', 'installs', 'in', 'place', 'so', 'you', 'won', 't', 'need', 'to', 'create', 'a', 'separate', 'disk', 'or', 'run', 'the', 'installation', 'off', 'an', 'external', 'drive', 'the', 'fifth', 'major', 'update', 'to', 'mac', 'os', 'x', 'leopard', 'contains', 'such', 'a', 'mountain', 'of', 'features', 'more', 'than', 'by', 'apple', 's', 'count']\n"
     ]
    },
    {
     "data": {
      "text/plain": [
       "True"
      ]
     },
     "execution_count": 191,
     "metadata": {},
     "output_type": "execute_result"
    }
   ],
   "source": [
    "# make dictionary of all words\n",
    "#all_words_dict =  list(sent_file_1)\n",
    "#all_words_list = [word  for sentence  in sent_file_1  for word in sentence if  word != '']\n",
    "all_words_list = [word  for sentence  in sent_file_2  for word in sentence]\n",
    "\n",
    "print type(all_words_list)\n",
    "print type(sent_file_2)\n",
    "\n",
    "\n",
    "print all_words_list\n",
    "'without' in all_words_list"
   ]
  },
  {
   "cell_type": "code",
   "execution_count": 218,
   "metadata": {},
   "outputs": [
    {
     "name": "stdout",
     "output_type": "stream",
     "text": [
      "254\n",
      "True\n",
      "{'osx': 1, 'selection': 2, 'safari': 3, 'just': 4, 'developed': 5, 'over': 6, 'vermin': 7, 'domestic': 8, 'major': 110, 'installed': 10, 'symbols': 11, 'through': 12, 'human': 13, 'world': 14, 'disk': 15, 'its': 16, 'fifth': 17, 'apple': 113, 'tamed': 19, 'upgrade': 20, 'lb': 21, 'computers': 179, 'to': 23, 'version': 70, 'deliberately': 25, 'marks': 26, 'has': 27, 'arguments': 210, 'predecessor': 28, 'non': 29, 'adjacent': 211, 'read': 31, 'made': 163, 'every': 33, 'they': 35, 'not': 36, 'during': 37, 'now': 38, 'people': 131, 'possess': 39, 'intel': 40, 'keyboards': 41, 'command': 246, 'bytes': 42, 'unnecessary': 43, 'patch': 44, 'common': 77, 'release': 84, 'output': 47, 'entirely': 48, 'where': 49, 'stdin': 240, 'ears': 50, 'concatenate': 78, 'right': 119, 'often': 53, 'wrong': 226, 'sequence': 54, 'some': 55, 'lion': 56, 'frequency': 57, 'displays': 0, 'year': 59, 'download': 60, 'terms': 61, 'firmware': 205, 'organisms': 236, 'concern': 62, 'for': 64, 'pipes': 65, 'since': 66, 'factory': 67, 'artificial': 68, 'content': 69, 'won': 24, 'between': 72, 'kg': 235, 'new': 73, 'learned': 74, 'piped': 76, 'predators': 45, 'available': 51, 'be': 79, 'run': 71, 'genes': 81, 'undergone': 124, 'standard': 83, 'small': 46, 'were': 173, 'diploid': 85, 'members': 86, 'x': 87, 'based': 88, 'safer': 89, 'by': 90, 'on': 52, 'commands': 92, 'weighing': 80, 'installs': 94, 'of': 95, 'needing': 96, 'allows': 97, 'according': 98, 's': 102, 'streams': 103, 'receives': 104, 'successor': 105, 'catenates': 106, 'os': 34, 'or': 108, 'and': 177, 'named': 9, 'contains': 148, 'useful': 112, 'features': 18, 'app': 114, 'mice': 157, 'community': 115, 'one': 116, 'running': 117, 'unix': 118, 'simply': 120, 'linux': 121, 'sounds': 122, 'size': 123, 'use': 82, 'delete': 125, 'from': 126, 'enhancements': 127, 'redirection': 134, 'create': 130, 'faint': 111, 'three': 75, 't': 133, 'their': 129, 'however': 135, 'cats': 136, 'too': 137, 'basic': 138, 'permanently': 139, 'type': 140, 'dogs': 141, 'store': 142, 'more': 143, 'files': 144, 'releases': 145, 'both': 91, 'started': 147, 'offered': 216, 'releasing': 149, 'tiger': 150, 'released': 151, 'part': 152, 'hear': 153, 'external': 154, 'editions': 155, 'installation': 93, 'july': 99, 'with': 158, 'than': 159, 'those': 160, 'count': 162, 'october': 32, 'animals': 164, 'mavericks': 165, 'versions': 166, 'default': 167, 'was': 168, 'typically': 252, 'second': 128, 'cat': 170, 'will': 171, 'information': 220, 'can': 172, 'error': 63, 'wild': 174, 'similar': 175, 'are': 58, 'felis': 109, 'interactive': 176, 'file': 192, 'stdout': 181, 'process': 182, 'flow': 241, 'is': 184, 'received': 185, 'moved': 186, 'it': 187, 'an': 188, 'high': 189, 'single': 169, 'incremental': 191, 'have': 180, 'in': 193, 'need': 194, 'domesticated': 195, 'any': 196, 'as': 190, 'if': 198, 'mountain': 178, 'processors': 200, 'no': 201, 'rather': 202, 'legibility': 203, 'separate': 204, 'that': 146, 'when': 206, 'mid': 207, 'also': 208, 'other': 209, 'domestication': 197, 'which': 30, 'online': 212, 'instead': 213, 'you': 214, 'ancestor': 215, 'used': 217, 'chromosomes': 218, 'closest': 219, 'binary': 199, 'may': 221, 'symbol': 222, 'leopard': 223, 'update': 224, 'most': 225, 'mac': 101, 'connected': 227, 'two': 132, 'yosemite': 228, 'such': 229, 'comparison': 230, 'recent': 231, 'a': 232, 'purchase': 233, 'genus': 234, 'off': 156, 'longer': 161, 'using': 237, 'changes': 107, 'clear': 239, 'later': 100, 'lines': 183, 'drive': 22, 'switch': 244, 'without': 245, 'so': 243, 'place': 247, 'allow': 248, 'time': 249, 'redirected': 250, 'the': 251, 'roughly': 242, 'starting': 238, 'left': 253}\n"
     ]
    }
   ],
   "source": [
    "# make dictionary for all \n",
    "# list1, list2 = ['a', 'b', 'c'], [1,2,3]\n",
    "# dict( zip( list1, list2))\n",
    "all_words_set = set(all_words_list)\n",
    "d = len(all_words_set)\n",
    "print d\n",
    "\n",
    "print 'without' in all_words_set\n",
    "\n",
    "all_words_dict = dict( zip(all_words_set, list(range(d)) ))\n",
    "print all_words_dict\n",
    "\n",
    "#print 'without' in all_words_dict\n",
    "#all_words_dict = dict(zip(key_list, values_list)\n",
    "#all_words_dict = dict()\n",
    "#for i in all_words_list:\n",
    "#       all_words_dict[i] =  all_words_dict.get(i, 0) + 1\n",
    "\n",
    "# also can use  from collections import Counter\n",
    "#>>> Counter(['apple','red','apple','red','red','pear'])"
   ]
  },
  {
   "cell_type": "code",
   "execution_count": 217,
   "metadata": {},
   "outputs": [],
   "source": [
    "#word_matr = np.zeros((22,254))\n",
    "#sent = sent_file_2[12]\n",
    "#for word in sent:\n",
    "#    print word\n",
    "#    ind = all_words_dict[word]\n",
    "#    print ind "
   ]
  },
  {
   "cell_type": "code",
   "execution_count": 216,
   "metadata": {},
   "outputs": [
    {
     "name": "stdout",
     "output_type": "stream",
     "text": [
      "22\n"
     ]
    }
   ],
   "source": [
    "# define matrix of words:\n",
    "print len(sent_file_2)\n",
    "#word_matr = np.matrix() \n",
    "#word_matr = np.zeros((22,254))\n",
    "n = len(sent_file_2)\n",
    "#word_matr = np.zeros((n), (d))\n",
    "word_matr = np.zeros((n,d))\n",
    "#fill matrix \n",
    "for sent_idx,sent in enumerate(sent_file_2):\n",
    "    for word in sent:\n",
    "        # get value(ind) of word in all_words_dict by key \n",
    "        ind = all_words_dict[word]\n",
    "        #print ind\n",
    "        word_matr[sent_idx, ind] += 1\n",
    "    #print sent_idx"
   ]
  },
  {
   "cell_type": "code",
   "execution_count": 208,
   "metadata": {},
   "outputs": [
    {
     "name": "stdout",
     "output_type": "stream",
     "text": [
      "[ 0.  0.  3.  0.  1.  0.  0.  0.  1.  2.  0.  1.  0.  0.  0.  0.  0.  1.\n",
      "  1.  1.  1.  1.]\n",
      "['a', 'common', 'interactive', 'use', 'of', 'cat', 'for', 'a', 'single', 'file', 'is', 'to', 'output', 'the', 'content', 'of', 'a', 'file', 'to', 'standard', 'output']\n"
     ]
    }
   ],
   "source": [
    "print word_matr[:, 232]\n",
    "print sent_file_2[2]"
   ]
  },
  {
   "cell_type": "code",
   "execution_count": 221,
   "metadata": {},
   "outputs": [
    {
     "name": "stdout",
     "output_type": "stream",
     "text": [
      "[ 23  36  37 107 110 124 136 141 180 182 193 197 230 251]\n",
      "['in', 'comparison', 'to', 'dogs', 'cats', 'have', 'not', 'undergone', 'major', 'changes', 'during', 'the', 'domestication', 'process']\n",
      "{'osx': 1, 'selection': 2, 'safari': 3, 'just': 4, 'developed': 5, 'over': 6, 'vermin': 7, 'domestic': 8, 'major': 110, 'installed': 10, 'symbols': 11, 'through': 12, 'human': 13, 'world': 14, 'disk': 15, 'its': 16, 'fifth': 17, 'apple': 113, 'tamed': 19, 'upgrade': 20, 'lb': 21, 'computers': 179, 'to': 23, 'version': 70, 'deliberately': 25, 'marks': 26, 'has': 27, 'arguments': 210, 'predecessor': 28, 'non': 29, 'adjacent': 211, 'read': 31, 'made': 163, 'every': 33, 'they': 35, 'not': 36, 'during': 37, 'now': 38, 'people': 131, 'possess': 39, 'intel': 40, 'keyboards': 41, 'command': 246, 'bytes': 42, 'unnecessary': 43, 'patch': 44, 'common': 77, 'release': 84, 'output': 47, 'entirely': 48, 'where': 49, 'stdin': 240, 'ears': 50, 'concatenate': 78, 'right': 119, 'often': 53, 'wrong': 226, 'sequence': 54, 'some': 55, 'lion': 56, 'frequency': 57, 'displays': 0, 'year': 59, 'download': 60, 'terms': 61, 'firmware': 205, 'organisms': 236, 'concern': 62, 'for': 64, 'pipes': 65, 'since': 66, 'factory': 67, 'artificial': 68, 'content': 69, 'won': 24, 'between': 72, 'kg': 235, 'new': 73, 'learned': 74, 'piped': 76, 'predators': 45, 'available': 51, 'be': 79, 'run': 71, 'genes': 81, 'undergone': 124, 'standard': 83, 'small': 46, 'were': 173, 'diploid': 85, 'members': 86, 'x': 87, 'based': 88, 'safer': 89, 'by': 90, 'on': 52, 'commands': 92, 'weighing': 80, 'installs': 94, 'of': 95, 'needing': 96, 'allows': 97, 'according': 98, 's': 102, 'streams': 103, 'receives': 104, 'successor': 105, 'catenates': 106, 'os': 34, 'or': 108, 'and': 177, 'named': 9, 'contains': 148, 'useful': 112, 'features': 18, 'app': 114, 'mice': 157, 'community': 115, 'one': 116, 'running': 117, 'unix': 118, 'simply': 120, 'linux': 121, 'sounds': 122, 'size': 123, 'use': 82, 'delete': 125, 'from': 126, 'enhancements': 127, 'redirection': 134, 'create': 130, 'faint': 111, 'three': 75, 't': 133, 'their': 129, 'however': 135, 'cats': 136, 'too': 137, 'basic': 138, 'permanently': 139, 'type': 140, 'dogs': 141, 'store': 142, 'more': 143, 'files': 144, 'releases': 145, 'both': 91, 'started': 147, 'offered': 216, 'releasing': 149, 'tiger': 150, 'released': 151, 'part': 152, 'hear': 153, 'external': 154, 'editions': 155, 'installation': 93, 'july': 99, 'with': 158, 'than': 159, 'those': 160, 'count': 162, 'october': 32, 'animals': 164, 'mavericks': 165, 'versions': 166, 'default': 167, 'was': 168, 'typically': 252, 'second': 128, 'cat': 170, 'will': 171, 'information': 220, 'can': 172, 'error': 63, 'wild': 174, 'similar': 175, 'are': 58, 'felis': 109, 'interactive': 176, 'file': 192, 'stdout': 181, 'process': 182, 'flow': 241, 'is': 184, 'received': 185, 'moved': 186, 'it': 187, 'an': 188, 'high': 189, 'single': 169, 'incremental': 191, 'have': 180, 'in': 193, 'need': 194, 'domesticated': 195, 'any': 196, 'as': 190, 'if': 198, 'mountain': 178, 'processors': 200, 'no': 201, 'rather': 202, 'legibility': 203, 'separate': 204, 'that': 146, 'when': 206, 'mid': 207, 'also': 208, 'other': 209, 'domestication': 197, 'which': 30, 'online': 212, 'instead': 213, 'you': 214, 'ancestor': 215, 'used': 217, 'chromosomes': 218, 'closest': 219, 'binary': 199, 'may': 221, 'symbol': 222, 'leopard': 223, 'update': 224, 'most': 225, 'mac': 101, 'connected': 227, 'two': 132, 'yosemite': 228, 'such': 229, 'comparison': 230, 'recent': 231, 'a': 232, 'purchase': 233, 'genus': 234, 'off': 156, 'longer': 161, 'using': 237, 'changes': 107, 'clear': 239, 'later': 100, 'lines': 183, 'drive': 22, 'switch': 244, 'without': 245, 'so': 243, 'place': 247, 'allow': 248, 'time': 249, 'redirected': 250, 'the': 251, 'roughly': 242, 'starting': 238, 'left': 253}\n"
     ]
    }
   ],
   "source": [
    "# check matrix:\n",
    "# select all not null values from first matrix row\n",
    "first_line_words = np.where( word_matr[0] > 0)[0]\n",
    "print first_line_words\n",
    "print sent_file_2[0]\n",
    "print all_words_dict\n",
    "# good "
   ]
  },
  {
   "cell_type": "code",
   "execution_count": 229,
   "metadata": {},
   "outputs": [
    {
     "name": "stdout",
     "output_type": "stream",
     "text": [
      "22\n",
      "0.0\n",
      "0.952754440874\n",
      "0.864473814564\n",
      "0.895171516328\n",
      "0.77708871497\n",
      "0.940238569533\n",
      "0.732738758088\n",
      "0.925875068334\n",
      "0.884272487528\n",
      "0.905508881748\n",
      "0.832816536227\n",
      "0.880477139067\n",
      "0.839643254853\n",
      "0.87035925529\n",
      "0.87401184233\n",
      "0.944272178742\n",
      "0.840636185422\n",
      "0.956644501524\n",
      "0.944272178742\n",
      "0.888544357485\n",
      "0.842757274492\n",
      "0.825036446944\n"
     ]
    }
   ],
   "source": [
    "# cosine distance from first sentence: \n",
    "print n # sentence number\n",
    "dist_tmp = np.zeros(n)\n",
    "for i in range(n):\n",
    "    dist_tmp[i] = scipy.spatial.distance.cosine( word_matr[0,:],word_matr[i, :] )\n",
    "    print dist_tmp[i]\n",
    "\n",
    "    \n",
    "    "
   ]
  },
  {
   "cell_type": "code",
   "execution_count": 241,
   "metadata": {
    "scrolled": true
   },
   "outputs": [
    {
     "name": "stdout",
     "output_type": "stream",
     "text": [
      "[ 0  6  4 21 10 12 16 20  2 13 14 11  8 19  3  9  7  5 15 18  1 17]\n",
      "[6 4]\n",
      "6\n"
     ]
    }
   ],
   "source": [
    "# 2 nearest sentences numbers to first sentence: \n",
    "dist_index_array = dist_tmp.argsort()\n",
    "print dist_index_array\n",
    "nearest_sent_2_idx = dist_index_array[1:3] # first sentence has dist == 0, so need 1 and 2 \n",
    "print nearest_sent_2_idx"
   ]
  },
  {
   "cell_type": "code",
   "execution_count": 246,
   "metadata": {},
   "outputs": [
    {
     "name": "stdout",
     "output_type": "stream",
     "text": [
      "in comparison to dogs, cats have not undergone major changes during the domestication process.\n",
      "\n",
      "domestic cats are similar in size to the other members of the genus felis, typically weighing between 4 and 5 kg (8.8 and 11.0 lb).\n",
      "\n",
      "in one, people deliberately tamed cats in a process of artificial selection, as they were useful predators of vermin.\n",
      "\n"
     ]
    }
   ],
   "source": [
    "# print 2 nearest sentence\n",
    "print sent_file[ 0]\n",
    "print sent_file[ nearest_sent_2_idx[0]]\n",
    "print sent_file[ nearest_sent_2_idx[1]]\n",
    "# good job! word 'cat' is used in the same sence in all 3 sentences!"
   ]
  },
  {
   "cell_type": "code",
   "execution_count": 250,
   "metadata": {},
   "outputs": [
    {
     "ename": "IndentationError",
     "evalue": "unexpected indent (<ipython-input-250-2d6d06a0aaba>, line 2)",
     "output_type": "error",
     "traceback": [
      "\u001b[1;36m  File \u001b[1;32m\"<ipython-input-250-2d6d06a0aaba>\"\u001b[1;36m, line \u001b[1;32m2\u001b[0m\n\u001b[1;33m    nearest_sent_2_idx_to_write = list( nearest_sent_2_idx)\u001b[0m\n\u001b[1;37m    ^\u001b[0m\n\u001b[1;31mIndentationError\u001b[0m\u001b[1;31m:\u001b[0m unexpected indent\n"
     ]
    }
   ],
   "source": [
    "# write indexes in file:\n",
    "# nearest_sent_2_idx_to_write = list( nearest_sent_2_idx)\n",
    "with open(\"hw1_c1_w2_distance.txt\", \"w\") as write_file:\n",
    "    write_file.write( nearest_sent_2_idx_to_write )"
   ]
  },
  {
   "cell_type": "code",
   "execution_count": 249,
   "metadata": {},
   "outputs": [
    {
     "name": "stdout",
     "output_type": "stream",
     "text": [
      "['\\x06\\x00\\x00\\x00\\x00\\x00\\x00\\x00\\x04\\x00\\x00\\x00\\x00\\x00\\x00\\x00']\n"
     ]
    }
   ],
   "source": [
    "# check:\n",
    "with open(\"hw1_c1_w2_distance.txt\", \"r\") as answer_file:\n",
    "    print answer_file.readlines()"
   ]
  },
  {
   "cell_type": "markdown",
   "metadata": {},
   "source": [
    "# task 2 : optimize function "
   ]
  },
  {
   "cell_type": "code",
   "execution_count": 302,
   "metadata": {},
   "outputs": [],
   "source": [
    "import numpy as np\n",
    "from math import *\n",
    "import scipy\n",
    "from scipy import linalg\n",
    "import matplotlib.pyplot as plt"
   ]
  },
  {
   "cell_type": "code",
   "execution_count": 363,
   "metadata": {},
   "outputs": [
    {
     "name": "stdout",
     "output_type": "stream",
     "text": [
      "3.25221686527\n"
     ]
    }
   ],
   "source": [
    "def my_func(x):\n",
    "    #if( (x > 15.0) or (x < 1.0))\n",
    "    #    raise Exception(\" function not defined for such x value\")\n",
    "    return sin(x / 5) * exp(x / 10) + 5 * exp(-x / 2)\n",
    "print my_func(1.0)"
   ]
  },
  {
   "cell_type": "code",
   "execution_count": 340,
   "metadata": {},
   "outputs": [
    {
     "name": "stdout",
     "output_type": "stream",
     "text": [
      "[[  1.   1.]\n",
      " [ 15.   1.]]\n",
      "[ 3.25221687  0.63522142]\n"
     ]
    }
   ],
   "source": [
    "# linear approximtion:\n",
    "# define X matrix\n",
    "x1 = 1.0; x2 = 15.0; \n",
    "size = (2,2)\n",
    "X = np.zeros(size)\n",
    "X[0, 0]= x1; X[0, 1]= 1; X[1, 0]= x2; X[1, 1]= 1; \n",
    "print X\n",
    "#f = np.zeros(2)\n",
    "f_right = np.empty(2)\n",
    "f_right[0] = my_func(x1)\n",
    "f_right[1] = my_func(x2)\n",
    "print f_right"
   ]
  },
  {
   "cell_type": "code",
   "execution_count": 341,
   "metadata": {},
   "outputs": [
    {
     "name": "stdout",
     "output_type": "stream",
     "text": [
      "[-0.18692825  3.43914511]\n",
      "<type 'numpy.ndarray'>\n"
     ]
    }
   ],
   "source": [
    "# solve X*beta = f_right\n",
    "# beta = ( beta_1, beta_2) - unknoun coefficients\n",
    "# f_right= ( f(x1), f(x2) )^t\n",
    "beta = np.linalg.solve(X, f_right)  # fast\n",
    "print beta\n",
    "print type( beta)"
   ]
  },
  {
   "cell_type": "code",
   "execution_count": 342,
   "metadata": {},
   "outputs": [
    {
     "data": {
      "text/plain": [
       "6"
      ]
     },
     "execution_count": 342,
     "metadata": {},
     "output_type": "execute_result"
    }
   ],
   "source": [
    "# define our linear approximation function\n",
    "# example:\n",
    "def line_approx_func_test(x):\n",
    "    return 5*x +1\n",
    "line_approx_func_test(1)"
   ]
  },
  {
   "cell_type": "code",
   "execution_count": 343,
   "metadata": {
    "scrolled": true
   },
   "outputs": [
    {
     "name": "stdout",
     "output_type": "stream",
     "text": [
      "3.25221686527\n"
     ]
    }
   ],
   "source": [
    "# define our linear approximation function\n",
    "def line_approx_func(x, k, b):\n",
    "    return k*x + b\n",
    "print line_approx_func(1, beta[0] ,  beta[1])"
   ]
  },
  {
   "cell_type": "code",
   "execution_count": 344,
   "metadata": {},
   "outputs": [
    {
     "name": "stdout",
     "output_type": "stream",
     "text": [
      "3.25221686527\n",
      "3.25221686527\n",
      "\n",
      "0.635221419579\n",
      "0.635221419579\n"
     ]
    }
   ],
   "source": [
    "# check that in x1 and x2 function values are the same:\n",
    "print my_func(x1)\n",
    "print line_approx_func(x1, beta[0] ,  beta[1])\n",
    "print \n",
    "print my_func(x2)\n",
    "print line_approx_func(x2, beta[0] ,  beta[1])\n",
    "# good!"
   ]
  },
  {
   "cell_type": "code",
   "execution_count": 353,
   "metadata": {},
   "outputs": [],
   "source": [
    "# plot 2 functons\n",
    "x_f_dots = np.arange(x1, x2+0.1, 0.1)\n",
    "y_f_dots = [ my_func(x) for x in x_f_dots ]\n",
    "y_line_dots = [ line_approx_func(x, beta[0], beta[1]) for x in x_f_dots ]\n",
    "#for i in range(len(x_f_dots)):\n",
    "#    y_f_dots[i] = my_func(x_f_dots[i])\n",
    "#print x_f_dots\n",
    "#print y_f_dots "
   ]
  },
  {
   "cell_type": "code",
   "execution_count": 354,
   "metadata": {},
   "outputs": [
    {
     "data": {
      "image/png": "[encoded data removed]",
      "text/plain": [
       "<matplotlib.figure.Figure at 0x8c68fd0>"
      ]
     },
     "metadata": {},
     "output_type": "display_data"
    },
    {
     "data": {
      "image/png": "[encoded data removed]",
      "text/plain": [
       "<matplotlib.figure.Figure at 0x91d9748>"
      ]
     },
     "metadata": {},
     "output_type": "display_data"
    }
   ],
   "source": [
    "# my_func plot: example \n",
    "plt.plot(x_f_dots, y_f_dots)\n",
    "plt.xlabel('x')\n",
    "plt.ylabel('my_func value')\n",
    "plt.title('Simple plot')\n",
    "#plt.savefig(\"test.png\")\n",
    "plt.grid(True)\n",
    "plt.show()\n",
    "\n",
    "# line approx plot \n",
    "plt.plot(x_f_dots, y_line_dots)\n",
    "plt.xlabel('x')\n",
    "plt.ylabel('liniar funct value')\n",
    "plt.grid(True)\n",
    "plt.show()"
   ]
  },
  {
   "cell_type": "code",
   "execution_count": 366,
   "metadata": {},
   "outputs": [
    {
     "name": "stdout",
     "output_type": "stream",
     "text": [
      "[1.0, 8.0, 15.0]\n",
      "[[   1.    1.    1.]\n",
      " [  64.    8.    1.]\n",
      " [ 225.   15.    1.]]\n",
      "\n",
      "[3.252216865271419, 2.316170159053224, 0.6352214195786656]\n"
     ]
    }
   ],
   "source": [
    "# same with quadratic function:\n",
    "# quad  approximtion:\n",
    "# define X matrix\n",
    "t1 = 1.0; t2 = 8.0; t3 = 15.0; \n",
    "t = [t1, t2, t3]\n",
    "size_2 = (3,3)\n",
    "X_2 = np.zeros(size_2)\n",
    "# matrix X is the following: \n",
    "#column 1 is quad of all points , column 2 consists of theese points, column 3 is columns of ones\n",
    "# ... matrix\n",
    "X_2[:,0] = [ y**2 for y in t ] \n",
    "X_2[:,1] = [ y    for y in t ] \n",
    "X_2[:,2] =  [ 1   for y in t ] \n",
    "print t\n",
    "print X_2\n",
    "# good\n",
    "f_right_2 = [ my_func(z) for z in t ]\n",
    "print \n",
    "print f_right_2 "
   ]
  },
  {
   "cell_type": "code",
   "execution_count": 367,
   "metadata": {},
   "outputs": [
    {
     "name": "stdout",
     "output_type": "stream",
     "text": [
      "[-0.00760104 -0.06531159  3.32512949]\n"
     ]
    }
   ],
   "source": [
    "# solve linear system:\n",
    "beta_2  = np.linalg.solve(X_2, f_right_2)  # fast\n",
    "print beta_2"
   ]
  },
  {
   "cell_type": "code",
   "execution_count": 373,
   "metadata": {},
   "outputs": [
    {
     "name": "stdout",
     "output_type": "stream",
     "text": [
      "2.31617015905\n",
      "2.31617015905\n"
     ]
    }
   ],
   "source": [
    "# define our quad  approximation function\n",
    "def quad_approx_func(x,a,b,c):\n",
    "    return a*x*x + b*x + c\n",
    "print quad_approx_func(t[1], beta_2[0],  beta_2[1], beta_2[2])\n",
    "print my_func(t[1])\n",
    "# good"
   ]
  },
  {
   "cell_type": "code",
   "execution_count": 377,
   "metadata": {},
   "outputs": [],
   "source": [
    "y_quad_dots = [ quad_approx_func(x, beta_2[0], beta_2[1], beta_2[2]) for x in x_f_dots ]"
   ]
  },
  {
   "cell_type": "code",
   "execution_count": 379,
   "metadata": {},
   "outputs": [
    {
     "data": {
      "image/png": "[encoded data removed]",
      "text/plain": [
       "<matplotlib.figure.Figure at 0x903afd0>"
      ]
     },
     "metadata": {},
     "output_type": "display_data"
    },
    {
     "data": {
      "image/png": "[encoded data removed]",
      "text/plain": [
       "<matplotlib.figure.Figure at 0x8fde3c8>"
      ]
     },
     "metadata": {},
     "output_type": "display_data"
    }
   ],
   "source": [
    "# my_func plot: example \n",
    "plt.plot(x_f_dots, y_f_dots)\n",
    "plt.xlabel('x')\n",
    "plt.ylabel('my_func value')\n",
    "plt.title('Simple plot 2')\n",
    "plt.grid(True)\n",
    "plt.show()\n",
    "\n",
    "# quad approx plot \n",
    "plt.plot(x_f_dots, y_quad_dots)\n",
    "plt.xlabel('x')\n",
    "plt.ylabel('quad funct value')\n",
    "plt.grid(True) \n",
    "plt.show()"
   ]
  },
  {
   "cell_type": "code",
   "execution_count": 381,
   "metadata": {},
   "outputs": [
    {
     "name": "stdout",
     "output_type": "stream",
     "text": [
      "[[  1.00000000e+00   1.00000000e+00   1.00000000e+00   1.00000000e+00]\n",
      " [  6.40000000e+01   1.60000000e+01   4.00000000e+00   1.00000000e+00]\n",
      " [  1.00000000e+03   1.00000000e+02   1.00000000e+01   1.00000000e+00]\n",
      " [  3.37500000e+03   2.25000000e+02   1.50000000e+01   1.00000000e+00]]\n",
      "\n",
      "[3.252216865271419, 1.7468459495903677, 2.5054164070002463, 0.6352214195786656]\n"
     ]
    }
   ],
   "source": [
    "# same for qubic function:\n",
    "z = [1.0, 4.0, 10.0, 15.0]\n",
    "size_3 = (4,4)\n",
    "X_3 = np.zeros(size_3)\n",
    "X_3[:,0] = [ y**3 for y in z ] \n",
    "X_3[:,1] = [ y**2 for y in z ] \n",
    "X_3[:,2] = [ y    for y in z ] \n",
    "X_3[:,3] = [ 1    for y in z ] \n",
    "print X_3\n",
    "# good\n",
    "f_right_3 = [ my_func(s) for s in z ]\n",
    "print \n",
    "print f_right_3"
   ]
  },
  {
   "cell_type": "code",
   "execution_count": 383,
   "metadata": {},
   "outputs": [
    {
     "name": "stdout",
     "output_type": "stream",
     "text": [
      "[-0.00823565  0.19333685 -1.29552587  4.36264154]\n"
     ]
    }
   ],
   "source": [
    "# solve linear system:\n",
    "beta_3  = np.linalg.solve(X_3, f_right_3)  # fast\n",
    "print beta_3"
   ]
  },
  {
   "cell_type": "code",
   "execution_count": 388,
   "metadata": {},
   "outputs": [
    {
     "name": "stdout",
     "output_type": "stream",
     "text": [
      "2.505416407\n",
      "2.505416407\n"
     ]
    }
   ],
   "source": [
    "# define our quad  approximation function\n",
    "def qub_approx_func(x,a,b,c,d):\n",
    "    return a*x*x*x + b*x*x + c*x + d\n",
    "print qub_approx_func(z[2], beta_3[0],  beta_3[1], beta_3[2], beta_3[3])\n",
    "print my_func(z[2])\n",
    "# good"
   ]
  },
  {
   "cell_type": "code",
   "execution_count": 389,
   "metadata": {
    "collapsed": true
   },
   "outputs": [],
   "source": [
    "y_qub_dots = [ qub_approx_func(x, beta_3[0], beta_3[1], beta_3[2], beta_3[3]) for x in x_f_dots ]"
   ]
  },
  {
   "cell_type": "code",
   "execution_count": 390,
   "metadata": {},
   "outputs": [
    {
     "data": {
      "image/png": "[encoded data removed]",
      "text/plain": [
       "<matplotlib.figure.Figure at 0x9004ac8>"
      ]
     },
     "metadata": {},
     "output_type": "display_data"
    },
    {
     "data": {
      "image/png": "[encoded data removed]",
      "text/plain": [
       "<matplotlib.figure.Figure at 0x97c5e10>"
      ]
     },
     "metadata": {},
     "output_type": "display_data"
    }
   ],
   "source": [
    "# my_func plot: example \n",
    "plt.plot(x_f_dots, y_f_dots)\n",
    "plt.xlabel('x')\n",
    "plt.ylabel('my_func value')\n",
    "plt.title('Simple plot 2')\n",
    "plt.grid(True)\n",
    "plt.show()\n",
    "\n",
    "# quad approx plot \n",
    "plt.plot(x_f_dots, y_qub_dots)\n",
    "plt.xlabel('x')\n",
    "plt.ylabel('quad funct value')\n",
    "plt.grid(True) \n",
    "plt.show()"
   ]
  },
  {
   "cell_type": "code",
   "execution_count": 393,
   "metadata": {},
   "outputs": [],
   "source": [
    "# wrirte answer:  beta_3\n",
    "answer = beta_3\n",
    "with open(\"hw1_c1_w2_func_approx.txt\", \"w\") as write_file:\n",
    "     write_file.write(answer)"
   ]
  },
  {
   "cell_type": "code",
   "execution_count": 394,
   "metadata": {},
   "outputs": [
    {
     "name": "stdout",
     "output_type": "stream",
     "text": [
      "['\\xed\\xfb\\x9ac\\xda\\xdd\\x80\\xbf\\xd7\\xd9\\x88\\x05C\\xbf\\xc8?\\xcc\\x80\\x84Ty\\xba\\xf4\\xbfp\\x03vMXs\\x11@']\n"
     ]
    }
   ],
   "source": [
    " # check:\n",
    "with open(\"hw1_c1_w2_func_approx.txt\", \"r\") as file_read:\n",
    "     print file_read.readlines()"
   ]
  }
 ],
 "metadata": {
  "kernelspec": {
   "display_name": "Python 2",
   "language": "python",
   "name": "python2"
  },
  "language_info": {
   "codemirror_mode": {
    "name": "ipython",
    "version": 2
   },
   "file_extension": ".py",
   "mimetype": "text/x-python",
   "name": "python",
   "nbconvert_exporter": "python",
   "pygments_lexer": "ipython2",
   "version": "2.7.13"
  }
 },
 "nbformat": 4,
 "nbformat_minor": 2
}
