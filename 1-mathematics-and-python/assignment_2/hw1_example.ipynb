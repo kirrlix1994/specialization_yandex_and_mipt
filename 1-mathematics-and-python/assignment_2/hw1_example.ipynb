{
 "cells": [
  {
   "cell_type": "code",
   "execution_count": 1,
   "metadata": {},
   "outputs": [
    {
     "name": "stdout",
     "output_type": "stream",
     "text": [
      "<type 'list'>\n",
      "<type 'list'>\n",
      "['in', 'comparison', 'to', 'dogs', 'cats', 'have', 'not', 'undergone', 'major', 'changes', 'during', 'the', 'domestication', 'process']\n"
     ]
    }
   ],
   "source": [
    "import re\n",
    "import scipy\n",
    "import numpy as np \n",
    "q = open('sentences.txt','r')\n",
    "list_of_lines = []\n",
    "for line in q:\n",
    "    list_of_words = re.split('[^a-z]', line.lower())\n",
    "    words = []\n",
    "    for w in list_of_words:\n",
    "        if w != '':\n",
    "            words.append(w)\n",
    "    list_of_lines.append(words)\n",
    "q.close()\n",
    "print  type(list_of_lines)\n",
    "print  type(list_of_lines[0])\n",
    "print  list_of_lines[0]"
   ]
  },
  {
   "cell_type": "code",
   "execution_count": 2,
   "metadata": {},
   "outputs": [],
   "source": [
    "set1 = set()\n",
    "for q in list_of_lines:\n",
    "    set1 = set1.union(q)\n",
    "#print set1"
   ]
  },
  {
   "cell_type": "code",
   "execution_count": 3,
   "metadata": {},
   "outputs": [
    {
     "name": "stdout",
     "output_type": "stream",
     "text": [
      "{'osx': 0, 'selection': 1, 'safari': 32, 'just': 3, 'developed': 4, 'over': 5, 'vermin': 6, 'domestic': 7, 'named': 108, 'installed': 9, 'symbols': 10, 'through': 11, 'human': 12, 'during': 13, 'disk': 14, 'its': 15, 'fifth': 16, 'apple': 111, 'tamed': 18, 'upgrade': 19, 'lb': 20, 'to': 21, 'version': 22, 'deliberately': 23, 'marks': 24, 'as': 194, 'has': 25, 'predecessor': 26, 'non': 27, 'adjacent': 209, 'read': 29, 'made': 159, 'every': 31, 'they': 2, 'not': 33, 'world': 34, 'now': 35, 'possess': 36, 'intel': 37, 'keyboards': 38, 'off': 235, 'bytes': 40, 'unnecessary': 41, 'patch': 42, 'predators': 75, 'release': 82, 'output': 45, 'entirely': 46, 'where': 47, 'catenates': 50, 'concatenate': 76, 'right': 52, 'often': 53, 'people': 54, 'some': 55, 'lion': 56, 'frequency': 57, 'displays': 58, 'year': 59, 'download': 60, 'run': 61, 'chromosomes': 215, 'concern': 62, 'flow': 241, 'error': 170, 'organisms': 63, 'pipes': 64, 'since': 65, 'factory': 66, 'artificial': 67, 'content': 68, 'won': 69, 'between': 70, 'new': 72, 'learned': 73, 'piped': 74, 'common': 43, 'available': 51, 'be': 77, 'terms': 78, 'leopard': 221, 'genes': 79, 'however': 80, 'standard': 81, 'binary': 217, 'small': 44, 'diploid': 84, 'members': 85, 'x': 86, 'based': 87, 'safer': 88, 'by': 89, 'comparison': 90, 'commands': 91, 'weighing': 92, 'installs': 93, 'legibility': 172, 'computers': 95, 'allows': 96, 'according': 97, 'later': 240, 'mac': 224, 's': 99, 'streams': 100, 'receives': 101, 'successor': 102, 'ears': 103, 'os': 104, 'or': 105, 'felis': 174, 'major': 8, 'contains': 127, 'useful': 110, 'features': 17, 'app': 112, 'mice': 153, 'community': 113, 'one': 114, 'unix': 116, 'simply': 117, 'linux': 118, 'sounds': 119, 'size': 120, 'are': 173, 'undergone': 121, 'from': 123, 'enhancements': 124, 'their': 130, 'create': 126, 'faint': 109, 'three': 128, 't': 129, 'redirection': 125, 'cats': 131, 'too': 133, 'basic': 134, 'permanently': 135, 'type': 136, 'dogs': 137, 'store': 138, 'more': 139, 'files': 140, 'releases': 141, 'both': 142, 'started': 143, 'offered': 144, 'releasing': 145, 'tiger': 146, 'released': 147, 'part': 148, 'hear': 149, 'external': 150, 'editions': 151, 'installation': 152, 'july': 98, 'with': 154, 'than': 155, 'those': 156, 'count': 158, 'october': 30, 'animals': 160, 'mavericks': 161, 'versions': 162, 'default': 163, 'was': 164, 'typically': 252, 'second': 165, 'cat': 166, 'will': 167, 'wrong': 168, 'can': 169, 'were': 83, 'wild': 171, 'similar': 94, 'delete': 122, 'and': 107, 'needing': 175, 'file': 188, 'stdout': 177, 'process': 178, 'of': 179, 'is': 180, 'received': 181, 'moved': 182, 'it': 183, 'an': 184, 'high': 185, 'single': 186, 'incremental': 187, 'have': 176, 'in': 189, 'need': 190, 'domesticated': 192, 'any': 193, 'domestication': 191, 'if': 195, 'mountain': 196, 'processors': 197, 'no': 199, 'rather': 200, 'firmware': 202, 'when': 203, 'mid': 204, 'for': 236, 'also': 205, 'that': 206, 'other': 207, 'arguments': 208, 'which': 28, 'online': 210, 'instead': 211, 'you': 212, 'ancestor': 213, 'used': 214, 'interactive': 198, 'closest': 216, 'separate': 201, 'may': 218, 'symbol': 219, 'use': 220, 'sequence': 132, 'update': 222, 'most': 223, 'running': 115, 'connected': 225, 'two': 226, 'yosemite': 227, 'such': 228, 'information': 229, 'on': 230, 'recent': 231, 'a': 232, 'purchase': 233, 'genus': 234, 'kg': 71, 'longer': 157, 'using': 237, 'changes': 238, 'clear': 239, 'stdin': 49, 'lines': 48, 'drive': 242, 'so': 245, 'switch': 243, 'without': 244, 'command': 39, 'place': 246, 'allow': 247, 'time': 248, 'redirected': 249, 'the': 250, 'roughly': 251, 'starting': 106, 'left': 253}\n"
     ]
    }
   ],
   "source": [
    "d = dict(zip(set1, list(range(len(set1)))))\n",
    "print d"
   ]
  },
  {
   "cell_type": "code",
   "execution_count": 4,
   "metadata": {},
   "outputs": [
    {
     "name": "stdout",
     "output_type": "stream",
     "text": [
      "1.0\n"
     ]
    }
   ],
   "source": [
    "matr = np.zeros((22,254))\n",
    "for idx,i in enumerate(list_of_lines):\n",
    "    for j in i:\n",
    "        ind = d[j]\n",
    "        matr[idx,ind] += 1\n",
    "print max( matr[21,])"
   ]
  },
  {
   "cell_type": "code",
   "execution_count": 5,
   "metadata": {},
   "outputs": [
    {
     "name": "stdout",
     "output_type": "stream",
     "text": [
      "{'osx': 0, 'selection': 1, 'safari': 32, 'just': 3, 'developed': 4, 'over': 5, 'vermin': 6, 'domestic': 7, 'named': 108, 'installed': 9, 'symbols': 10, 'through': 11, 'human': 12, 'during': 13, 'disk': 14, 'its': 15, 'fifth': 16, 'apple': 111, 'tamed': 18, 'upgrade': 19, 'lb': 20, 'to': 21, 'version': 22, 'deliberately': 23, 'marks': 24, 'as': 194, 'has': 25, 'predecessor': 26, 'non': 27, 'adjacent': 209, 'read': 29, 'made': 159, 'every': 31, 'they': 2, 'not': 33, 'world': 34, 'now': 35, 'possess': 36, 'intel': 37, 'keyboards': 38, 'off': 235, 'bytes': 40, 'unnecessary': 41, 'patch': 42, 'predators': 75, 'release': 82, 'output': 45, 'entirely': 46, 'where': 47, 'catenates': 50, 'concatenate': 76, 'right': 52, 'often': 53, 'people': 54, 'some': 55, 'lion': 56, 'frequency': 57, 'displays': 58, 'year': 59, 'download': 60, 'run': 61, 'chromosomes': 215, 'concern': 62, 'flow': 241, 'error': 170, 'organisms': 63, 'pipes': 64, 'since': 65, 'factory': 66, 'artificial': 67, 'content': 68, 'won': 69, 'between': 70, 'new': 72, 'learned': 73, 'piped': 74, 'common': 43, 'available': 51, 'be': 77, 'terms': 78, 'leopard': 221, 'genes': 79, 'however': 80, 'standard': 81, 'binary': 217, 'small': 44, 'diploid': 84, 'members': 85, 'x': 86, 'based': 87, 'safer': 88, 'by': 89, 'comparison': 90, 'commands': 91, 'weighing': 92, 'installs': 93, 'legibility': 172, 'computers': 95, 'allows': 96, 'according': 97, 'later': 240, 'mac': 224, 's': 99, 'streams': 100, 'receives': 101, 'successor': 102, 'ears': 103, 'os': 104, 'or': 105, 'felis': 174, 'major': 8, 'contains': 127, 'useful': 110, 'features': 17, 'app': 112, 'mice': 153, 'community': 113, 'one': 114, 'unix': 116, 'simply': 117, 'linux': 118, 'sounds': 119, 'size': 120, 'are': 173, 'undergone': 121, 'from': 123, 'enhancements': 124, 'their': 130, 'create': 126, 'faint': 109, 'three': 128, 't': 129, 'redirection': 125, 'cats': 131, 'too': 133, 'basic': 134, 'permanently': 135, 'type': 136, 'dogs': 137, 'store': 138, 'more': 139, 'files': 140, 'releases': 141, 'both': 142, 'started': 143, 'offered': 144, 'releasing': 145, 'tiger': 146, 'released': 147, 'part': 148, 'hear': 149, 'external': 150, 'editions': 151, 'installation': 152, 'july': 98, 'with': 154, 'than': 155, 'those': 156, 'count': 158, 'october': 30, 'animals': 160, 'mavericks': 161, 'versions': 162, 'default': 163, 'was': 164, 'typically': 252, 'second': 165, 'cat': 166, 'will': 167, 'wrong': 168, 'can': 169, 'were': 83, 'wild': 171, 'similar': 94, 'delete': 122, 'and': 107, 'needing': 175, 'file': 188, 'stdout': 177, 'process': 178, 'of': 179, 'is': 180, 'received': 181, 'moved': 182, 'it': 183, 'an': 184, 'high': 185, 'single': 186, 'incremental': 187, 'have': 176, 'in': 189, 'need': 190, 'domesticated': 192, 'any': 193, 'domestication': 191, 'if': 195, 'mountain': 196, 'processors': 197, 'no': 199, 'rather': 200, 'firmware': 202, 'when': 203, 'mid': 204, 'for': 236, 'also': 205, 'that': 206, 'other': 207, 'arguments': 208, 'which': 28, 'online': 210, 'instead': 211, 'you': 212, 'ancestor': 213, 'used': 214, 'interactive': 198, 'closest': 216, 'separate': 201, 'may': 218, 'symbol': 219, 'use': 220, 'sequence': 132, 'update': 222, 'most': 223, 'running': 115, 'connected': 225, 'two': 226, 'yosemite': 227, 'such': 228, 'information': 229, 'on': 230, 'recent': 231, 'a': 232, 'purchase': 233, 'genus': 234, 'kg': 71, 'longer': 157, 'using': 237, 'changes': 238, 'clear': 239, 'stdin': 49, 'lines': 48, 'drive': 242, 'so': 245, 'switch': 243, 'without': 244, 'command': 39, 'place': 246, 'allow': 247, 'time': 248, 'redirected': 249, 'the': 250, 'roughly': 251, 'starting': 106, 'left': 253}\n",
      "[  8  13  21  33  90 121 131 137 176 178 189 191 238 250]\n",
      "['in', 'comparison', 'to', 'dogs', 'cats', 'have', 'not', 'undergone', 'major', 'changes', 'during', 'the', 'domestication', 'process']\n"
     ]
    }
   ],
   "source": [
    "d1 = dict(zip(list(range(len(set1))), set1))\n",
    "#print d1\n",
    "indices_line1 = np.where(matr[0] > 0)[0]\n",
    "#print matr[0]\n",
    "print d\n",
    "print indices_line1\n",
    "print list_of_lines[0]"
   ]
  },
  {
   "cell_type": "code",
   "execution_count": 6,
   "metadata": {
    "scrolled": true
   },
   "outputs": [
    {
     "name": "stdout",
     "output_type": "stream",
     "text": [
      "0.0\n",
      "0.952754440874\n",
      "0.864473814564\n",
      "0.895171516328\n",
      "0.77708871497\n",
      "0.940238569533\n",
      "0.732738758088\n",
      "0.925875068334\n",
      "0.884272487528\n",
      "0.905508881748\n",
      "0.832816536227\n",
      "0.880477139067\n",
      "0.839643254853\n",
      "0.87035925529\n",
      "0.87401184233\n",
      "0.944272178742\n",
      "0.840636185422\n",
      "0.956644501524\n",
      "0.944272178742\n",
      "0.888544357485\n",
      "0.842757274492\n",
      "0.825036446944\n"
     ]
    }
   ],
   "source": [
    "from scipy.spatial import distance\n",
    "for idx,i in enumerate(list_of_lines):\n",
    "    print(scipy.spatial.distance.cosine(matr[idx,:],matr[0,:]))\n",
    "    \n",
    "    \n",
    "    \n",
    "    \n",
    "    "
   ]
  }
 ],
 "metadata": {
  "kernelspec": {
   "display_name": "Python 2",
   "language": "python",
   "name": "python2"
  },
  "language_info": {
   "codemirror_mode": {
    "name": "ipython",
    "version": 2
   },
   "file_extension": ".py",
   "mimetype": "text/x-python",
   "name": "python",
   "nbconvert_exporter": "python",
   "pygments_lexer": "ipython2",
   "version": "2.7.13"
  }
 },
 "nbformat": 4,
 "nbformat_minor": 2
}
