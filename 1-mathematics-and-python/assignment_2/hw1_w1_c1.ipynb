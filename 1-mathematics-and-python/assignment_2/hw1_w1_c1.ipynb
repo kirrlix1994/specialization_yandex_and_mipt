{
 "cells": [
  {
   "cell_type": "markdown",
   "metadata": {},
   "source": [
    "# first task : sentence distance"
   ]
  },
  {
   "cell_type": "code",
   "execution_count": 26,
   "metadata": {},
   "outputs": [],
   "source": [
    "with open(\"sentences.txt\", \"r\") as    sentences_file:\n",
    "       sent_file = sentences_file.readlines()  \n",
    "#print  sent_file"
   ]
  },
  {
   "cell_type": "code",
   "execution_count": 19,
   "metadata": {},
   "outputs": [
    {
     "name": "stdout",
     "output_type": "stream",
     "text": [
      "<type 'list'>\n",
      "Cat command is one of the basic commands that you learned when you started in the Unix / Linux world.\n",
      "\n"
     ]
    }
   ],
   "source": [
    "# file is read as one string, need a list with lines(sentences)\n",
    "print type( sent_file)\n",
    "print sent_file[10]"
   ]
  },
  {
   "cell_type": "code",
   "execution_count": 24,
   "metadata": {},
   "outputs": [
    {
     "name": "stdout",
     "output_type": "stream",
     "text": [
      "a common interactive use of cat for a single file is to output the content of a file to standard output.\n",
      "\n"
     ]
    }
   ],
   "source": [
    "# sentences to lower register: \n",
    "# use list comprehention:\n",
    "sent_file = [ line.lower() for line in sent_file]\n",
    "print sent_file[2]\n",
    "# good "
   ]
  },
  {
   "cell_type": "code",
   "execution_count": 29,
   "metadata": {},
   "outputs": [
    {
     "name": "stdout",
     "output_type": "stream",
     "text": [
      "in comparison to dogs, cats have not undergone major changes during the domestication process.\n",
      "\n"
     ]
    }
   ],
   "source": [
    "# another variant: use enumerate: \n",
    "for i, line in enumerate(sent_file):\n",
    "    sent_file[i] = line.lower()\n",
    "print sent_file[0]"
   ]
  },
  {
   "cell_type": "code",
   "execution_count": 92,
   "metadata": {},
   "outputs": [
    {
     "name": "stdout",
     "output_type": "stream",
     "text": [
      "<type 'list'>\n",
      "['in', 'comparison', 'to', 'dogs', '', 'cats', 'have', 'not', 'undergone', 'major', 'changes', 'during', 'the', 'domestication', 'process', '', '']\n",
      "<type 'list'>\n"
     ]
    }
   ],
   "source": [
    "# drop sentences by words:\n",
    "#re.split('[^a-z]', t)\n",
    "import re \n",
    "sent_file_1 = [  re.split('[^a-z]', line)  for line in sent_file]\n",
    "print type(sent_file_1)\n",
    "#print sent_file_1\n",
    "print sent_file_1[0]\n",
    "print type(sent_file_1[0])\n",
    "# double list structure( list of lists of words)"
   ]
  },
  {
   "cell_type": "code",
   "execution_count": 50,
   "metadata": {},
   "outputs": [
    {
     "name": "stdout",
     "output_type": "stream",
     "text": [
      "['as', 'cat', 'simply', 'catenates', 'streams', 'of', 'bytes', '', 'it', 'can', 'be', 'also', 'used', 'to', 'concatenate', 'binary', 'files', '', 'where', 'it', 'will', 'just', 'concatenate', 'sequence', 'of', 'bytes', '', '']\n",
      "['as', 'cat', 'simply', 'catenates', 'streams', 'of', 'bytes', 'it', 'can', 'be', 'also', 'used', 'to', 'concatenate', 'binary', 'files', 'where', 'it', 'will', 'just', 'concatenate', 'sequence', 'of', 'bytes']\n"
     ]
    }
   ],
   "source": [
    "# remove empty words\n",
    "# one sentence example:\n",
    "tmp = sent_file_1[1]\n",
    "tmp_1 = [ word for  word in tmp if  word != '']\n",
    "print tmp \n",
    "print tmp_1\n"
   ]
  },
  {
   "cell_type": "code",
   "execution_count": 85,
   "metadata": {},
   "outputs": [
    {
     "name": "stdout",
     "output_type": "stream",
     "text": [
      "['as', 'cat', 'simply', 'catenates', 'streams', 'of', 'bytes', 'it', 'can', 'be', 'also', 'used', 'to', 'concatenate', 'binary', 'files', '', 'where', 'it', 'will', 'just', 'concatenate', 'sequence', 'of', 'bytes', '', '']\n"
     ]
    }
   ],
   "source": [
    "# double comprehension example\n",
    "#[ x for b in a for x in b]\n",
    "\n",
    "# leave only words\n",
    "#sent_file_2 = [word  for sentence  in sent_file_1  for word in sentence if  word != '']\n",
    "#print sent_file_2[0]\n",
    "\n",
    "#for sentence in sent_file_1:\n",
    "    #sentence = [ word for  word in  sentence if  word != '']\n",
    "    #sentence = filter(None,  sentence)\n",
    "    \n",
    "#sent_file_2 = filter(None,  sent_file_1)\n",
    "    \n",
    "    \n",
    "print sent_file_2[1]\n",
    "#print  sentence"
   ]
  },
  {
   "cell_type": "code",
   "execution_count": 100,
   "metadata": {},
   "outputs": [
    {
     "name": "stdout",
     "output_type": "stream",
     "text": [
      "<type 'list'>\n",
      "<type 'list'>\n",
      "<type 'list'>\n",
      "['in', 'comparison', 'to', 'dogs', 'cats', 'have', 'not', 'undergone', 'major', 'changes', 'during', 'the', 'domestication', 'process', 'as', 'cat', 'simply', 'catenates', 'streams', 'of', 'bytes', 'it', 'can', 'be', 'also', 'used', 'to', 'concatenate', 'binary', 'files', 'where', 'it', 'will', 'just', 'concatenate', 'sequence', 'of', 'bytes', 'a', 'common', 'interactive', 'use', 'of', 'cat', 'for', 'a', 'single', 'file', 'is', 'to', 'output', 'the', 'content', 'of', 'a', 'file', 'to', 'standard', 'output', 'cats', 'can', 'hear', 'sounds', 'too', 'faint', 'or', 'too', 'high', 'in', 'frequency', 'for', 'human', 'ears', 'such', 'as', 'those', 'made', 'by', 'mice', 'and', 'other', 'small', 'animals', 'in', 'one', 'people', 'deliberately', 'tamed', 'cats', 'in', 'a', 'process', 'of', 'artificial', 'selection', 'as', 'they', 'were', 'useful', 'predators', 'of', 'vermin', 'the', 'domesticated', 'cat', 'and', 'its', 'closest', 'wild', 'ancestor', 'are', 'both', 'diploid', 'organisms', 'that', 'possess', 'chromosomes', 'and', 'roughly', 'genes', 'domestic', 'cats', 'are', 'similar', 'in', 'size', 'to', 'the', 'other', 'members', 'of', 'the', 'genus', 'felis', 'typically', 'weighing', 'between', 'and', 'kg', 'and', 'lb', 'however', 'if', 'the', 'output', 'is', 'piped', 'or', 'redirected', 'cat', 'is', 'unnecessary', 'cat', 'with', 'one', 'named', 'file', 'is', 'safer', 'where', 'human', 'error', 'is', 'a', 'concern', 'one', 'wrong', 'use', 'of', 'the', 'default', 'redirection', 'symbol', 'instead', 'of', 'often', 'adjacent', 'on', 'keyboards', 'may', 'permanently', 'delete', 'the', 'file', 'you', 'were', 'just', 'needing', 'to', 'read', 'in', 'terms', 'of', 'legibility', 'a', 'sequence', 'of', 'commands', 'starting', 'with', 'cat', 'and', 'connected', 'by', 'pipes', 'has', 'a', 'clear', 'left', 'to', 'right', 'flow', 'of', 'information', 'cat', 'command', 'is', 'one', 'of', 'the', 'basic', 'commands', 'that', 'you', 'learned', 'when', 'you', 'started', 'in', 'the', 'unix', 'linux', 'world', 'using', 'cat', 'command', 'the', 'lines', 'received', 'from', 'stdin', 'can', 'be', 'redirected', 'to', 'a', 'new', 'file', 'using', 'redirection', 'symbols', 'when', 'you', 'type', 'simply', 'cat', 'command', 'without', 'any', 'arguments', 'it', 'just', 'receives', 'the', 'stdin', 'content', 'and', 'displays', 'it', 'in', 'the', 'stdout', 'leopard', 'was', 'released', 'on', 'october', 'as', 'the', 'successor', 'of', 'tiger', 'version', 'and', 'is', 'available', 'in', 'two', 'editions', 'according', 'to', 'apple', 'leopard', 'contains', 'over', 'changes', 'and', 'enhancements', 'over', 'its', 'predecessor', 'mac', 'os', 'x', 'tiger', 'as', 'of', 'mid', 'some', 'apple', 'computers', 'have', 'firmware', 'factory', 'installed', 'which', 'will', 'no', 'longer', 'allow', 'installation', 'of', 'mac', 'os', 'x', 'leopard', 'since', 'apple', 'moved', 'to', 'using', 'intel', 'processors', 'in', 'their', 'computers', 'the', 'osx', 'community', 'has', 'developed', 'and', 'now', 'also', 'allows', 'mac', 'os', 'x', 'tiger', 'and', 'later', 'releases', 'to', 'be', 'installed', 'on', 'non', 'apple', 'x', 'based', 'computers', 'os', 'x', 'mountain', 'lion', 'was', 'released', 'on', 'july', 'for', 'purchase', 'and', 'download', 'through', 'apple', 's', 'mac', 'app', 'store', 'as', 'part', 'of', 'a', 'switch', 'to', 'releasing', 'os', 'x', 'versions', 'online', 'and', 'every', 'year', 'apple', 'has', 'released', 'a', 'small', 'patch', 'for', 'the', 'three', 'most', 'recent', 'versions', 'of', 'safari', 'running', 'on', 'os', 'x', 'yosemite', 'mavericks', 'and', 'mountain', 'lion', 'the', 'mountain', 'lion', 'release', 'marks', 'the', 'second', 'time', 'apple', 'has', 'offered', 'an', 'incremental', 'upgrade', 'rather', 'than', 'releasing', 'a', 'new', 'cat', 'entirely', 'mac', 'os', 'x', 'mountain', 'lion', 'installs', 'in', 'place', 'so', 'you', 'won', 't', 'need', 'to', 'create', 'a', 'separate', 'disk', 'or', 'run', 'the', 'installation', 'off', 'an', 'external', 'drive', 'the', 'fifth', 'major', 'update', 'to', 'mac', 'os', 'x', 'leopard', 'contains', 'such', 'a', 'mountain', 'of', 'features', 'more', 'than', 'by', 'apple', 's', 'count']\n"
     ]
    }
   ],
   "source": [
    "# make dictionary of all words\n",
    "#all_words_dict =  list(sent_file_1)\n",
    "all_words_list = [word  for sentence  in sent_file_1  for word in sentence if  word != '']\n",
    "print type(all_words_list)\n",
    "print type(sent_file_1)\n",
    "print type(all_words_list)\n",
    "print all_words_list"
   ]
  },
  {
   "cell_type": "code",
   "execution_count": 107,
   "metadata": {},
   "outputs": [
    {
     "name": "stdout",
     "output_type": "stream",
     "text": [
      "{'displays': 1, 'osx': 1, 'selection': 1, 'safari': 1, 'just': 3, 'developed': 1, 'over': 2, 'vermin': 1, 'domestic': 1, 'named': 1, 'installed': 2, 'symbols': 1, 'through': 1, 'human': 2, 'world': 1, 'disk': 1, 'its': 2, 'fifth': 1, 'features': 1, 'tamed': 1, 'upgrade': 1, 'lb': 1, 'drive': 1, 'to': 14, 'won': 1, 'deliberately': 1, 'marks': 1, 'has': 4, 'predecessor': 1, 'non': 1, 'which': 1, 'read': 1, 'october': 1, 'every': 1, 'os': 8, 'they': 1, 'not': 1, 'during': 1, 'now': 1, 'possess': 1, 'intel': 1, 'keyboards': 1, 'bytes': 2, 'unnecessary': 1, 'patch': 1, 'predators': 1, 'small': 2, 'output': 3, 'entirely': 1, 'where': 2, 'ears': 1, 'available': 1, 'on': 5, 'often': 1, 'sequence': 2, 'some': 1, 'lion': 4, 'frequency': 1, 'are': 2, 'year': 1, 'download': 1, 'terms': 1, 'concern': 1, 'error': 1, 'for': 4, 'pipes': 1, 'since': 1, 'factory': 1, 'artificial': 1, 'content': 2, 'version': 1, 'run': 1, 'between': 1, 'new': 2, 'learned': 1, 'three': 1, 'piped': 1, 'common': 1, 'concatenate': 2, 'be': 3, 'weighing': 1, 'genes': 1, 'use': 2, 'standard': 1, 'release': 1, 'diploid': 1, 'members': 1, 'x': 9, 'based': 1, 'safer': 1, 'by': 3, 'both': 1, 'commands': 2, 'installation': 2, 'installs': 1, 'of': 19, 'needing': 1, 'allows': 1, 'according': 1, 'july': 1, 'later': 1, 'mac': 6, 's': 2, 'streams': 1, 'receives': 1, 'successor': 1, 'catenates': 1, 'changes': 2, 'or': 3, 'felis': 1, 'major': 2, 'faint': 1, 'useful': 1, 'apple': 8, 'app': 1, 'community': 1, 'one': 4, 'running': 1, 'unix': 1, 'right': 1, 'simply': 2, 'linux': 1, 'sounds': 1, 'size': 1, 'undergone': 1, 'delete': 1, 'from': 1, 'enhancements': 1, 'second': 1, 'their': 1, 'create': 1, 'people': 1, 'two': 1, 't': 1, 'redirection': 2, 'however': 1, 'cats': 4, 'too': 2, 'basic': 1, 'permanently': 1, 'type': 1, 'dogs': 1, 'store': 1, 'more': 1, 'files': 1, 'releases': 1, 'that': 2, 'started': 1, 'contains': 2, 'releasing': 2, 'tiger': 3, 'released': 3, 'part': 1, 'hear': 1, 'external': 1, 'editions': 1, 'off': 1, 'mice': 1, 'with': 2, 'than': 2, 'those': 1, 'longer': 1, 'count': 1, 'made': 1, 'animals': 1, 'mavericks': 1, 'versions': 2, 'default': 1, 'was': 2, 'single': 1, 'cat': 10, 'will': 2, 'can': 3, 'were': 2, 'wild': 1, 'similar': 1, 'interactive': 1, 'and': 14, 'mountain': 5, 'computers': 3, 'have': 2, 'stdout': 1, 'process': 2, 'lines': 1, 'is': 7, 'received': 1, 'moved': 1, 'it': 4, 'an': 2, 'high': 1, 'as': 6, 'incremental': 1, 'file': 5, 'in': 11, 'need': 1, 'domesticated': 1, 'any': 1, 'domestication': 1, 'if': 1, 'binary': 1, 'processors': 1, 'no': 1, 'rather': 1, 'legibility': 1, 'separate': 1, 'firmware': 1, 'when': 2, 'mid': 1, 'also': 2, 'other': 2, 'arguments': 1, 'adjacent': 1, 'online': 1, 'instead': 1, 'you': 5, 'ancestor': 1, 'offered': 1, 'used': 1, 'chromosomes': 1, 'closest': 1, 'information': 1, 'may': 1, 'symbol': 1, 'leopard': 4, 'update': 1, 'most': 1, 'wrong': 1, 'connected': 1, 'yosemite': 1, 'such': 2, 'comparison': 1, 'recent': 1, 'a': 13, 'purchase': 1, 'genus': 1, 'kg': 1, 'organisms': 1, 'using': 3, 'starting': 1, 'clear': 1, 'stdin': 2, 'flow': 1, 'roughly': 1, 'so': 1, 'switch': 1, 'without': 1, 'command': 3, 'place': 1, 'allow': 1, 'time': 1, 'redirected': 2, 'the': 20, 'typically': 1, 'left': 1}\n"
     ]
    }
   ],
   "source": [
    "# list1, list2 = ['a', 'b', 'c'], [1,2,3]\n",
    "# dict( zip( list1, list2))\n",
    "key_list = set(all_words_list )\n",
    "d = len(key_list)\n",
    "\n",
    "#all_words_dict = dict(zip(key_list, values_list)\n",
    "all_words_dict = dict()\n",
    "for i in all_words_list:\n",
    "       all_words_dict[i] =  all_words_dict.get(i, 0) + 1\n",
    "\n",
    "print all_words_dict\n",
    "# also can use  from collections import Counter\n",
    "#>>> Counter(['apple','red','apple','red','red','pear'])"
   ]
  },
  {
   "cell_type": "code",
   "execution_count": 112,
   "metadata": {},
   "outputs": [
    {
     "name": "stdout",
     "output_type": "stream",
     "text": [
      "set(['osx', 'selection', 'they', 'just', 'developed', 'over', 'vermin', 'domestic', 'major', 'installed', 'symbols', 'through', 'human', 'during', 'disk', 'its', 'fifth', 'apple', 'tamed', 'upgrade', 'lb', 'computers', 'to', 'version', 'deliberately', 'marks', 'has', 'arguments', 'predecessor', 'non', 'adjacent', 'read', 'made', 'every', 'safari', 'not', 'world', 'now', 'people', 'possess', 'intel', 'keyboards', 'command', 'bytes', 'unnecessary', 'patch', 'predators', 'small', 'output', 'entirely', 'where', 'stdin', 'ears', 'concatenate', 'right', 'often', 'wrong', 'sequence', 'some', 'lion', 'frequency', 'displays', 'year', 'download', 'run', 'firmware', 'organisms', 'concern', 'for', 'pipes', 'since', 'factory', 'artificial', 'content', 'won', 'between', 'kg', 'new', 'learned', 'piped', 'common', 'available', 'be', 'terms', 'genes', 'undergone', 'standard', 'release', 'were', 'diploid', 'members', 'x', 'based', 'safer', 'by', 'on', 'commands', 'weighing', 'installs', 'of', 'needing', 'allows', 'according', 's', 'streams', 'receives', 'successor', 'catenates', 'os', 'or', 'and', 'named', 'contains', 'useful', 'features', 'app', 'mice', 'community', 'one', 'running', 'unix', 'simply', 'linux', 'sounds', 'size', 'use', 'delete', 'from', 'enhancements', 'redirection', 'create', 'faint', 'three', 't', 'their', 'however', 'cats', 'too', 'basic', 'permanently', 'type', 'dogs', 'store', 'more', 'files', 'releases', 'both', 'started', 'offered', 'releasing', 'tiger', 'released', 'part', 'hear', 'external', 'editions', 'installation', 'july', 'with', 'than', 'those', 'count', 'october', 'animals', 'mavericks', 'versions', 'default', 'was', 'typically', 'second', 'cat', 'will', 'information', 'can', 'error', 'wild', 'similar', 'are', 'felis', 'interactive', 'file', 'stdout', 'process', 'flow', 'is', 'received', 'moved', 'it', 'an', 'high', 'single', 'incremental', 'have', 'in', 'need', 'domesticated', 'any', 'as', 'if', 'mountain', 'processors', 'no', 'rather', 'legibility', 'separate', 'that', 'when', 'mid', 'also', 'other', 'domestication', 'which', 'online', 'instead', 'you', 'ancestor', 'used', 'chromosomes', 'closest', 'binary', 'may', 'symbol', 'leopard', 'update', 'most', 'mac', 'connected', 'two', 'yosemite', 'such', 'comparison', 'recent', 'a', 'purchase', 'genus', 'off', 'longer', 'using', 'changes', 'clear', 'later', 'lines', 'drive', 'switch', 'without', 'so', 'place', 'allow', 'time', 'redirected', 'the', 'roughly', 'starting', 'left'])\n"
     ]
    }
   ],
   "source": [
    "# define matrix of words:\n",
    "word_matr = [[]]\n",
    "word_set = set(all_words_dict)\n",
    "print word_set\n",
    "# fill it "
   ]
  },
  {
   "cell_type": "markdown",
   "metadata": {},
   "source": [
    "# task 2 : optimize function "
   ]
  },
  {
   "cell_type": "code",
   "execution_count": 123,
   "metadata": {},
   "outputs": [
    {
     "data": {
      "text/plain": [
       "1.8393972058572117"
      ]
     },
     "execution_count": 123,
     "metadata": {},
     "output_type": "execute_result"
    }
   ],
   "source": [
    "#import numpy as np\n",
    "def f(x):\n",
    "    #if( (x > 15.0) or (x < 1.0))\n",
    "    #    raise Exception(\" function not defined for such x value\")\n",
    "    return math.sin(x / 5) * math.exp(x / 10) + 5 * math.exp(-x / 2)\n",
    "f(1)"
   ]
  },
  {
   "cell_type": "code",
   "execution_count": 127,
   "metadata": {},
   "outputs": [
    {
     "ename": "IndexError",
     "evalue": "list assignment index out of range",
     "output_type": "error",
     "traceback": [
      "\u001b[1;31m---------------------------------------------------------------------------\u001b[0m",
      "\u001b[1;31mIndexError\u001b[0m                                Traceback (most recent call last)",
      "\u001b[1;32m<ipython-input-127-dc310acae53e>\u001b[0m in \u001b[0;36m<module>\u001b[1;34m()\u001b[0m\n\u001b[0;32m      3\u001b[0m \u001b[0mx1\u001b[0m \u001b[1;33m=\u001b[0m \u001b[1;36m1\u001b[0m\u001b[1;33m;\u001b[0m \u001b[0mx2\u001b[0m \u001b[1;33m=\u001b[0m \u001b[1;36m15\u001b[0m\u001b[1;33m;\u001b[0m\u001b[1;33m\u001b[0m\u001b[0m\n\u001b[0;32m      4\u001b[0m \u001b[0mX\u001b[0m \u001b[1;33m=\u001b[0m \u001b[0mmatrix\u001b[0m \u001b[1;33m=\u001b[0m \u001b[1;33m[\u001b[0m\u001b[1;33m[\u001b[0m\u001b[1;33m]\u001b[0m\u001b[1;33m]\u001b[0m\u001b[1;33m\u001b[0m\u001b[0m\n\u001b[1;32m----> 5\u001b[1;33m \u001b[0mX\u001b[0m\u001b[1;33m[\u001b[0m\u001b[1;36m0\u001b[0m\u001b[1;33m]\u001b[0m\u001b[1;33m[\u001b[0m\u001b[1;36m0\u001b[0m\u001b[1;33m]\u001b[0m\u001b[1;33m=\u001b[0m \u001b[0mx1\u001b[0m\u001b[1;33m;\u001b[0m \u001b[0mX\u001b[0m\u001b[1;33m[\u001b[0m\u001b[1;36m0\u001b[0m\u001b[1;33m]\u001b[0m\u001b[1;33m[\u001b[0m\u001b[1;36m1\u001b[0m\u001b[1;33m]\u001b[0m\u001b[1;33m=\u001b[0m \u001b[1;36m1\u001b[0m\u001b[1;33m;\u001b[0m \u001b[0mX\u001b[0m\u001b[1;33m[\u001b[0m\u001b[1;36m1\u001b[0m\u001b[1;33m]\u001b[0m\u001b[1;33m[\u001b[0m\u001b[1;36m0\u001b[0m\u001b[1;33m]\u001b[0m\u001b[1;33m=\u001b[0m \u001b[0mx2\u001b[0m\u001b[1;33m;\u001b[0m \u001b[0mX\u001b[0m\u001b[1;33m[\u001b[0m\u001b[1;36m1\u001b[0m\u001b[1;33m]\u001b[0m\u001b[1;33m[\u001b[0m\u001b[1;36m1\u001b[0m\u001b[1;33m]\u001b[0m\u001b[1;33m=\u001b[0m \u001b[1;36m1\u001b[0m\u001b[1;33m;\u001b[0m\u001b[1;33m\u001b[0m\u001b[0m\n\u001b[0m\u001b[0;32m      6\u001b[0m \u001b[1;32mprint\u001b[0m \u001b[0mX\u001b[0m\u001b[1;33m\u001b[0m\u001b[0m\n",
      "\u001b[1;31mIndexError\u001b[0m: list assignment index out of range"
     ]
    }
   ],
   "source": [
    "# linear approximtion:\n",
    "\n",
    "x1 = 1; x2 = 15; \n",
    "X = matrix = [[]]\n",
    "X[0][0]= x1; X[0][1]= 1; X[1][0]= x2; X[1][1]= 1; \n",
    "print X"
   ]
  }
 ],
 "metadata": {
  "kernelspec": {
   "display_name": "Python 2",
   "language": "python",
   "name": "python2"
  },
  "language_info": {
   "codemirror_mode": {
    "name": "ipython",
    "version": 2
   },
   "file_extension": ".py",
   "mimetype": "text/x-python",
   "name": "python",
   "nbconvert_exporter": "python",
   "pygments_lexer": "ipython2",
   "version": "2.7.13"
  }
 },
 "nbformat": 4,
 "nbformat_minor": 2
}
