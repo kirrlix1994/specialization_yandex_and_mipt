{
 "cells": [
  {
   "cell_type": "code",
   "execution_count": 12,
   "metadata": {
    "collapsed": true
   },
   "outputs": [],
   "source": [
    "import numpy as np\n",
    "from math import *\n",
    "import scipy\n",
    "from scipy.optimize import minimize\n",
    "from scipy import linalg\n",
    "import matplotlib.pyplot as plt"
   ]
  },
  {
   "cell_type": "code",
   "execution_count": 4,
   "metadata": {},
   "outputs": [
    {
     "name": "stdout",
     "output_type": "stream",
     "text": [
      "3.25221686527\n"
     ]
    }
   ],
   "source": [
    "def my_func(x):\n",
    "    #if( (x > 30.0) or (x < 1.0))\n",
    "    #    raise Exception(\" function not defined for such x value\")\n",
    "    return sin(x / 5.0) * exp(x / 10.0) + 5.0 * exp(-x / 2.0)\n",
    "print my_func(1.0)"
   ]
  },
  {
   "cell_type": "code",
   "execution_count": 10,
   "metadata": {},
   "outputs": [
    {
     "data": {
      "image/png": "[encoded data removed]",
      "text/plain": [
       "<matplotlib.figure.Figure at 0x82afe80>"
      ]
     },
     "metadata": {},
     "output_type": "display_data"
    }
   ],
   "source": [
    "# func plot :\n",
    "x_points = np.arange(1.0, 30.0, 0.1)\n",
    "y_points = [my_func(t) for t in x_points]\n",
    "\n",
    "plt.plot( x_points, y_points)\n",
    "plt.show()\n",
    "# mimimum x ~ 25.5"
   ]
  },
  {
   "cell_type": "code",
   "execution_count": 29,
   "metadata": {},
   "outputs": [
    {
     "name": "stdout",
     "output_type": "stream",
     "text": [
      "      fun: -11.89889466592772\n",
      " hess_inv: array([[ 1.62315795]])\n",
      "      jac: array([ -8.10623169e-06])\n",
      "  message: 'Optimization terminated successfully.'\n",
      "     nfev: 21\n",
      "      nit: 3\n",
      "     njev: 7\n",
      "   status: 0\n",
      "  success: True\n",
      "        x: array([ 25.88017961])\n",
      "[ 25.88017961]\n",
      "<type 'numpy.float64'>\n"
     ]
    }
   ],
   "source": [
    "# try to find func mimimum with default params:\n",
    "# x0 start point \n",
    "x0 = 13.8;\n",
    "res = minimize(my_func, x0)\n",
    "print res\n",
    "print(res.x)\n",
    "print type(res.x[0])"
   ]
  },
  {
   "cell_type": "code",
   "execution_count": 39,
   "metadata": {},
   "outputs": [
    {
     "name": "stdout",
     "output_type": "stream",
     "text": [
      "(1.0, 4.1362869747537907)\n",
      "(1.5, 4.1362885393735489)\n",
      "(2.0, 4.1362762817728367)\n",
      "(2.5, 4.1362874417752638)\n",
      "(3.0, 4.1362332279076881)\n",
      "(3.5, 4.1362750722709629)\n",
      "(4.0, 4.1362573466833856)\n",
      "(4.5, 4.1362937949764849)\n",
      "(5.0, 4.1362883226664824)\n",
      "(5.5, 4.1362886402796173)\n",
      "(6.0, 4.1362898219299806)\n",
      "(6.5, 4.1362842437435932)\n",
      "(7.0, 4.136289460911911)\n",
      "(7.5, 4.1362885458218805)\n",
      "(8.0, 4.1362888290037816)\n",
      "(8.5, 4.136284950770639)\n",
      "(9.0, 4.1363021838576444)\n",
      "(9.5, 4.1363176782212907)\n",
      "(10.0, 4.1363002278699295)\n",
      "(10.5, 25.880193065920338)\n",
      "(11.0, 25.880192848524555)\n",
      "(11.5, 25.880193997459862)\n",
      "(12.0, 25.880191723025987)\n",
      "(12.5, 25.880192984402168)\n",
      "(13.0, 88.712036048734845)\n",
      "(13.5, 25.880192684076434)\n",
      "(14.0, 25.8801931534719)\n",
      "(14.5, 25.880193224000593)\n",
      "(15.0, 24.677661090968858)\n",
      "(15.5, 151.54388901607985)\n",
      "(16.0, 25.880198765448892)\n",
      "(16.5, 25.880193011542836)\n",
      "(17.0, 25.880176634428082)\n",
      "(17.5, 25.880194891062239)\n",
      "(18.0, 25.880198508017731)\n",
      "(18.5, 25.880198912107712)\n",
      "(19.0, 25.88017637085996)\n",
      "(19.5, 25.880192697767949)\n",
      "(20.0, 25.880187419164756)\n",
      "(20.5, 25.880192884080117)\n",
      "(21.0, 25.880205748998993)\n",
      "(21.5, 25.880193237528388)\n",
      "(22.0, 25.88019422138386)\n",
      "(22.5, 25.880193044356741)\n",
      "(23.0, 25.88019284755628)\n",
      "(23.5, 25.880193056981479)\n",
      "(24.0, 25.88019491467626)\n",
      "(24.5, 25.880193021761887)\n",
      "(25.0, 25.880185915711404)\n",
      "(25.5, 25.880193144263327)\n",
      "(26.0, 25.880195301683166)\n",
      "(26.5, 25.88019337591999)\n",
      "(27.0, 25.880197736989288)\n",
      "(27.5, 25.880192949825563)\n",
      "(28.0, 25.880193329371057)\n",
      "(28.5, 25.880196168414543)\n",
      "(29.0, 25.880204286189226)\n",
      "(29.5, 25.880193092743653)\n"
     ]
    }
   ],
   "source": [
    "# for x = 14 and more and some other mimimum is found\n",
    "# for x < 10.5  we stuck in local minimum\n",
    "# for some x ( x = 13, x = 15.5 )  algotithm failed\n",
    "\n",
    "x0_array = np.arange(1.0, 30.0, 0.5)\n",
    "for i in x0_array:\n",
    "    res_tmp = minimize(my_func, i )\n",
    "    x_min  =  res_tmp.x[0]\n",
    "    #print ('x0=' , 'x_min' =  x_min )  \n",
    "    print (i, x_min )"
   ]
  },
  {
   "cell_type": "code",
   "execution_count": 42,
   "metadata": {},
   "outputs": [
    {
     "name": "stdout",
     "output_type": "stream",
     "text": [
      "      fun: 1.7452682903447336\n",
      " hess_inv: array([[ 5.98752645]])\n",
      "      jac: array([ -2.04145908e-06])\n",
      "  message: 'Optimization terminated successfully.'\n",
      "     nfev: 21\n",
      "      nit: 6\n",
      "     njev: 7\n",
      "   status: 0\n",
      "  success: True\n",
      "        x: array([ 4.13627628])\n",
      "\n",
      "[ 4.13627628]\n",
      "1.74526829034\n"
     ]
    }
   ],
   "source": [
    "# try BFGS method ; x0 = 2\n",
    "x0 = 2\n",
    "BFGS_min =  minimize(my_func, x0, method= 'BFGS')\n",
    "print BFGS_min \n",
    "print\n",
    "print BFGS_min.x\n",
    "print BFGS_min.fun"
   ]
  },
  {
   "cell_type": "code",
   "execution_count": 43,
   "metadata": {},
   "outputs": [
    {
     "name": "stdout",
     "output_type": "stream",
     "text": [
      "1.75\n"
     ]
    }
   ],
   "source": [
    "# first answer function value: \n",
    "ans_1 = round( BFGS_min.fun,2)\n",
    "print ans_1"
   ]
  },
  {
   "cell_type": "code",
   "execution_count": 46,
   "metadata": {},
   "outputs": [
    {
     "name": "stdout",
     "output_type": "stream",
     "text": [
      "-11.9\n"
     ]
    }
   ],
   "source": [
    "x0 = 30\n",
    "BFGS_min =  minimize(my_func, x0, method= 'BFGS')\n",
    "ans_2 = round( BFGS_min.fun,2)\n",
    "print round(ans_2,2 )"
   ]
  },
  {
   "cell_type": "markdown",
   "metadata": {},
   "source": [
    "# global optimization"
   ]
  },
  {
   "cell_type": "code",
   "execution_count": 54,
   "metadata": {},
   "outputs": [
    {
     "name": "stdout",
     "output_type": "stream",
     "text": [
      "     fun: -11.898894665980682\n",
      "     jac: array([  8.88178420e-07])\n",
      " message: 'Optimization terminated successfully.'\n",
      "    nfev: 81\n",
      "     nit: 4\n",
      " success: True\n",
      "       x: array([ 25.8801945])\n",
      "-11.9\n"
     ]
    }
   ],
   "source": [
    "# use differential evolution \n",
    "bounds= [ (1, 30) ] \n",
    "result = scipy.optimize.differential_evolution(bounds= bounds, func= my_func)\n",
    "print result\n",
    "ans_3 = round(result.fun,2)\n",
    "print ans_3"
   ]
  },
  {
   "cell_type": "markdown",
   "metadata": {},
   "source": [
    "#  not smooth function minimization\n",
    "\n"
   ]
  },
  {
   "cell_type": "code",
   "execution_count": 55,
   "metadata": {},
   "outputs": [
    {
     "name": "stdout",
     "output_type": "stream",
     "text": [
      "3.0\n",
      "2.70517825922\n"
     ]
    }
   ],
   "source": [
    "def my_func_int(x):\n",
    "    return  round( my_func(x),0)\n",
    "\n",
    "print my_func_int(1.5)\n",
    "print my_func(1.5)"
   ]
  },
  {
   "cell_type": "code",
   "execution_count": 56,
   "metadata": {
    "scrolled": true
   },
   "outputs": [
    {
     "data": {
      "image/png": "[encoded data removed]",
      "text/plain": [
       "<matplotlib.figure.Figure at 0x8b2f748>"
      ]
     },
     "metadata": {},
     "output_type": "display_data"
    }
   ],
   "source": [
    "# integer func plot :\n",
    "x_points = np.arange(1.0, 30.0, 0.1)\n",
    "y_points = [my_func_int(t) for t in x_points]\n",
    "\n",
    "plt.plot( x_points, y_points)\n",
    "plt.show()\n",
    "# function is not smooth"
   ]
  },
  {
   "cell_type": "code",
   "execution_count": 62,
   "metadata": {
    "scrolled": true
   },
   "outputs": [
    {
     "name": "stdout",
     "output_type": "stream",
     "text": [
      "      fun: -6.0\n",
      " hess_inv: array([[1]])\n",
      "      jac: array([ 0.])\n",
      "  message: 'Optimization terminated successfully.'\n",
      "     nfev: 3\n",
      "      nit: 0\n",
      "     njev: 1\n",
      "   status: 0\n",
      "  success: True\n",
      "        x: array([ 30.])\n",
      "[ 30.]\n",
      "-6.0\n"
     ]
    }
   ],
   "source": [
    "x0 = 30\n",
    "BFGS_min =  minimize(my_func_int, x0= x0, method= 'BFGS')\n",
    "print BFGS_min\n",
    "print BFGS_min.x\n",
    "ans_4 = round( BFGS_min.fun, 2)\n",
    "print ans_4"
   ]
  },
  {
   "cell_type": "code",
   "execution_count": 63,
   "metadata": {
    "scrolled": true
   },
   "outputs": [
    {
     "name": "stdout",
     "output_type": "stream",
     "text": [
      "     fun: -12.0\n",
      " message: 'Optimization terminated successfully.'\n",
      "    nfev: 77\n",
      "     nit: 4\n",
      " success: True\n",
      "       x: array([ 26.79351421])\n",
      "[ 26.79351421]\n",
      "-12.0\n"
     ]
    }
   ],
   "source": [
    "bounds= [ (1, 30) ] \n",
    "result = scipy.optimize.differential_evolution(bounds= bounds, func= my_func_int)\n",
    "print result\n",
    "print result.x\n",
    "ans_5 = round(result.fun, 2)\n",
    "print ans_5"
   ]
  },
  {
   "cell_type": "code",
   "execution_count": null,
   "metadata": {
    "collapsed": true
   },
   "outputs": [],
   "source": [
    "# print all answers together\n",
    "# 3 files:\n"
   ]
  }
 ],
 "metadata": {
  "kernelspec": {
   "display_name": "Python 2",
   "language": "python",
   "name": "python2"
  },
  "language_info": {
   "codemirror_mode": {
    "name": "ipython",
    "version": 2
   },
   "file_extension": ".py",
   "mimetype": "text/x-python",
   "name": "python",
   "nbconvert_exporter": "python",
   "pygments_lexer": "ipython2",
   "version": "2.7.13"
  }
 },
 "nbformat": 4,
 "nbformat_minor": 2
}
