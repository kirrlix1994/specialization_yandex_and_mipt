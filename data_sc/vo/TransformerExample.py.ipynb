{
 "cells": [
  {
   "cell_type": "code",
   "execution_count": null,
   "metadata": {},
   "outputs": [],
   "source": [
    "# coding=utf-8\n",
    "import numpy as np\n",
    "from sklearn.base import TransformerMixin\n",
    "from collections import Counter\n",
    "\n",
    "\n",
    "LR_PARAMS_DICT = {}\n",
    "\n",
    "\n",
    "class CustomTransformer(TransformerMixin):\n",
    "    \n",
    "    def fit(self, X, y):\n",
    "        self.cnt = Counter()\n",
    "        for i in range(X.shape[1]):\n",
    "            for j in range(np.max(X[:, i])):\n",
    "                indices = X[:, i] == j\n",
    "                if np.sum(indices) > 0:\n",
    "                    val = y[indices].mean()\n",
    "                else:\n",
    "                    val = y.mean()\n",
    "                self.cnt[(i, j)] = val\n",
    "                \n",
    "        return self\n",
    "    \n",
    "    def transform(self, X):\n",
    "        X_new = np.copy(X)\n",
    "        for i in range(X.shape[1]): \n",
    "            for j in range(np.max(X[:, i])):\n",
    "                indices = X[:, i] == j\n",
    "                if np.sum(indices) > 0:\n",
    "                    X_new[indices, i] = self.cnt[(i, j)]\n",
    "                    \n",
    "        return X_new"
   ]
  }
 ],
 "metadata": {
  "kernelspec": {
   "display_name": "Python 3",
   "language": "python",
   "name": "python3"
  },
  "language_info": {
   "codemirror_mode": {
    "name": "ipython",
    "version": 3
   },
   "file_extension": ".py",
   "mimetype": "text/x-python",
   "name": "python",
   "nbconvert_exporter": "python",
   "pygments_lexer": "ipython3",
   "version": "3.6.4"
  }
 },
 "nbformat": 4,
 "nbformat_minor": 2
}
