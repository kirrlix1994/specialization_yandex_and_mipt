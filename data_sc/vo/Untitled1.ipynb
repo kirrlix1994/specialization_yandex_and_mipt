{
 "cells": [
  {
   "cell_type": "markdown",
   "metadata": {},
   "source": [
    "### Transformer class. Mean target encoding. \n",
    "Кодирование категориальных признаков средним по целевой переменной на примере dataset mushrooms."
   ]
  },
  {
   "cell_type": "code",
   "execution_count": 1,
   "metadata": {},
   "outputs": [],
   "source": [
    "import pandas as pd \n",
    "import numpy as np\n",
    "import signal\n",
    "\n",
    "from sklearn.pipeline import make_pipeline\n",
    "from sklearn.preprocessing import LabelEncoder\n",
    "from sklearn.linear_model import LogisticRegression\n",
    "from collections import Counter"
   ]
  },
  {
   "cell_type": "code",
   "execution_count": 2,
   "metadata": {
    "scrolled": true
   },
   "outputs": [
    {
     "data": {
      "text/html": [
       "<div>\n",
       "<style scoped>\n",
       "    .dataframe tbody tr th:only-of-type {\n",
       "        vertical-align: middle;\n",
       "    }\n",
       "\n",
       "    .dataframe tbody tr th {\n",
       "        vertical-align: top;\n",
       "    }\n",
       "\n",
       "    .dataframe thead th {\n",
       "        text-align: right;\n",
       "    }\n",
       "</style>\n",
       "<table border=\"1\" class=\"dataframe\">\n",
       "  <thead>\n",
       "    <tr style=\"text-align: right;\">\n",
       "      <th></th>\n",
       "      <th>0</th>\n",
       "      <th>1</th>\n",
       "      <th>2</th>\n",
       "      <th>3</th>\n",
       "      <th>4</th>\n",
       "      <th>5</th>\n",
       "      <th>6</th>\n",
       "      <th>7</th>\n",
       "      <th>8</th>\n",
       "      <th>9</th>\n",
       "      <th>...</th>\n",
       "      <th>13</th>\n",
       "      <th>14</th>\n",
       "      <th>15</th>\n",
       "      <th>16</th>\n",
       "      <th>17</th>\n",
       "      <th>18</th>\n",
       "      <th>19</th>\n",
       "      <th>20</th>\n",
       "      <th>21</th>\n",
       "      <th>22</th>\n",
       "    </tr>\n",
       "  </thead>\n",
       "  <tbody>\n",
       "    <tr>\n",
       "      <th>0</th>\n",
       "      <td>p</td>\n",
       "      <td>x</td>\n",
       "      <td>s</td>\n",
       "      <td>n</td>\n",
       "      <td>t</td>\n",
       "      <td>p</td>\n",
       "      <td>f</td>\n",
       "      <td>c</td>\n",
       "      <td>n</td>\n",
       "      <td>k</td>\n",
       "      <td>...</td>\n",
       "      <td>s</td>\n",
       "      <td>w</td>\n",
       "      <td>w</td>\n",
       "      <td>p</td>\n",
       "      <td>w</td>\n",
       "      <td>o</td>\n",
       "      <td>p</td>\n",
       "      <td>k</td>\n",
       "      <td>s</td>\n",
       "      <td>u</td>\n",
       "    </tr>\n",
       "    <tr>\n",
       "      <th>1</th>\n",
       "      <td>e</td>\n",
       "      <td>x</td>\n",
       "      <td>s</td>\n",
       "      <td>y</td>\n",
       "      <td>t</td>\n",
       "      <td>a</td>\n",
       "      <td>f</td>\n",
       "      <td>c</td>\n",
       "      <td>b</td>\n",
       "      <td>k</td>\n",
       "      <td>...</td>\n",
       "      <td>s</td>\n",
       "      <td>w</td>\n",
       "      <td>w</td>\n",
       "      <td>p</td>\n",
       "      <td>w</td>\n",
       "      <td>o</td>\n",
       "      <td>p</td>\n",
       "      <td>n</td>\n",
       "      <td>n</td>\n",
       "      <td>g</td>\n",
       "    </tr>\n",
       "    <tr>\n",
       "      <th>2</th>\n",
       "      <td>e</td>\n",
       "      <td>b</td>\n",
       "      <td>s</td>\n",
       "      <td>w</td>\n",
       "      <td>t</td>\n",
       "      <td>l</td>\n",
       "      <td>f</td>\n",
       "      <td>c</td>\n",
       "      <td>b</td>\n",
       "      <td>n</td>\n",
       "      <td>...</td>\n",
       "      <td>s</td>\n",
       "      <td>w</td>\n",
       "      <td>w</td>\n",
       "      <td>p</td>\n",
       "      <td>w</td>\n",
       "      <td>o</td>\n",
       "      <td>p</td>\n",
       "      <td>n</td>\n",
       "      <td>n</td>\n",
       "      <td>m</td>\n",
       "    </tr>\n",
       "    <tr>\n",
       "      <th>3</th>\n",
       "      <td>p</td>\n",
       "      <td>x</td>\n",
       "      <td>y</td>\n",
       "      <td>w</td>\n",
       "      <td>t</td>\n",
       "      <td>p</td>\n",
       "      <td>f</td>\n",
       "      <td>c</td>\n",
       "      <td>n</td>\n",
       "      <td>n</td>\n",
       "      <td>...</td>\n",
       "      <td>s</td>\n",
       "      <td>w</td>\n",
       "      <td>w</td>\n",
       "      <td>p</td>\n",
       "      <td>w</td>\n",
       "      <td>o</td>\n",
       "      <td>p</td>\n",
       "      <td>k</td>\n",
       "      <td>s</td>\n",
       "      <td>u</td>\n",
       "    </tr>\n",
       "    <tr>\n",
       "      <th>4</th>\n",
       "      <td>e</td>\n",
       "      <td>x</td>\n",
       "      <td>s</td>\n",
       "      <td>g</td>\n",
       "      <td>f</td>\n",
       "      <td>n</td>\n",
       "      <td>f</td>\n",
       "      <td>w</td>\n",
       "      <td>b</td>\n",
       "      <td>k</td>\n",
       "      <td>...</td>\n",
       "      <td>s</td>\n",
       "      <td>w</td>\n",
       "      <td>w</td>\n",
       "      <td>p</td>\n",
       "      <td>w</td>\n",
       "      <td>o</td>\n",
       "      <td>e</td>\n",
       "      <td>n</td>\n",
       "      <td>a</td>\n",
       "      <td>g</td>\n",
       "    </tr>\n",
       "  </tbody>\n",
       "</table>\n",
       "<p>5 rows × 23 columns</p>\n",
       "</div>"
      ],
      "text/plain": [
       "  0  1  2  3  4  5  6  7  8  9  ... 13 14 15 16 17 18 19 20 21 22\n",
       "0  p  x  s  n  t  p  f  c  n  k ...  s  w  w  p  w  o  p  k  s  u\n",
       "1  e  x  s  y  t  a  f  c  b  k ...  s  w  w  p  w  o  p  n  n  g\n",
       "2  e  b  s  w  t  l  f  c  b  n ...  s  w  w  p  w  o  p  n  n  m\n",
       "3  p  x  y  w  t  p  f  c  n  n ...  s  w  w  p  w  o  p  k  s  u\n",
       "4  e  x  s  g  f  n  f  w  b  k ...  s  w  w  p  w  o  e  n  a  g\n",
       "\n",
       "[5 rows x 23 columns]"
      ]
     },
     "execution_count": 2,
     "metadata": {},
     "output_type": "execute_result"
    }
   ],
   "source": [
    "df = pd.read_csv('mushrooms.csv', header=None)\n",
    "df.head()"
   ]
  },
  {
   "cell_type": "code",
   "execution_count": 3,
   "metadata": {},
   "outputs": [
    {
     "data": {
      "text/plain": [
       "(8124, 23)"
      ]
     },
     "execution_count": 3,
     "metadata": {},
     "output_type": "execute_result"
    }
   ],
   "source": [
    "df.shape"
   ]
  },
  {
   "cell_type": "code",
   "execution_count": 4,
   "metadata": {},
   "outputs": [],
   "source": [
    "X, y = np.array(df.loc[:,1:]), np.array(df.loc[:,0])"
   ]
  },
  {
   "cell_type": "code",
   "execution_count": 5,
   "metadata": {},
   "outputs": [],
   "source": [
    "label_encoder = LabelEncoder()\n",
    "y = np.equal(y,'p').astype(int)\n",
    "for i in range(X.shape[1]):\n",
    "    X[:,i] = label_encoder.fit_transform(X[:,i])"
   ]
  },
  {
   "cell_type": "code",
   "execution_count": 6,
   "metadata": {
    "scrolled": true
   },
   "outputs": [],
   "source": [
    "#X[0:20,2]\n",
    "#df.loc[0:19, 3].values"
   ]
  },
  {
   "cell_type": "code",
   "execution_count": 74,
   "metadata": {},
   "outputs": [],
   "source": [
    "LR_PARAMS_DICT = {}\n",
    "\n",
    "def fit(X,y):\n",
    "    cnt = Counter()\n",
    "    for i in range(X.shape[1]):\n",
    "        for j in range(np.max(X[:,i])+1):\n",
    "            ind = (X[:,i] == j)\n",
    "            if (np.sum(ind) > 0):\n",
    "                val = np.mean(y[ind])\n",
    "            else: \n",
    "                val = np.mean(y)\n",
    "            cnt[(i,j)] = val\n",
    "        \n",
    "    return cnt    \n",
    "\n",
    "\n",
    "def transform(X, cnt):\n",
    "    X_new = np.copy(X)\n",
    "    for i in range(X.shape[1]):\n",
    "        for j in range(np.max(X[:,i])+1):\n",
    "            ind = (X[:,i]==j)\n",
    "            X_new[ind,i] = cnt[(i,j)]\n",
    "    \n",
    "    return X_new     "
   ]
  },
  {
   "cell_type": "code",
   "execution_count": null,
   "metadata": {},
   "outputs": [],
   "source": []
  },
  {
   "cell_type": "code",
   "execution_count": 73,
   "metadata": {},
   "outputs": [],
   "source": [
    "def fit(X, y):\n",
    "    cnt = Counter()\n",
    "    for i in range(X.shape[1]):\n",
    "        for j in range(np.max(X[:, i])):\n",
    "            indices = X[:, i] == j\n",
    "            if np.sum(indices) > 0:\n",
    "                val = y[indices].mean()\n",
    "            else:\n",
    "                val = y.mean()\n",
    "            cnt[(i, j)] = val\n",
    "\n",
    "    return cnt\n",
    "\n",
    "def transform(X, cnt):\n",
    "    X_new = np.copy(X)\n",
    "    for i in range(X.shape[1]): \n",
    "        for j in range(np.max(X[:, i])):\n",
    "            indices = X[:, i] == j\n",
    "            if np.sum(indices) > 0:\n",
    "                X_new[indices, i] = cnt[(i, j)]\n",
    "\n",
    "    return X_new"
   ]
  },
  {
   "cell_type": "code",
   "execution_count": 75,
   "metadata": {},
   "outputs": [],
   "source": [
    "A = fit(X,y)"
   ]
  },
  {
   "cell_type": "code",
   "execution_count": 76,
   "metadata": {},
   "outputs": [
    {
     "data": {
      "text/plain": [
       "5"
      ]
     },
     "execution_count": 76,
     "metadata": {},
     "output_type": "execute_result"
    }
   ],
   "source": [
    "np.max(X[:,0])"
   ]
  },
  {
   "cell_type": "code",
   "execution_count": 77,
   "metadata": {},
   "outputs": [
    {
     "data": {
      "text/plain": [
       "6"
      ]
     },
     "execution_count": 77,
     "metadata": {},
     "output_type": "execute_result"
    }
   ],
   "source": [
    "np.max(X[:,21])"
   ]
  },
  {
   "cell_type": "code",
   "execution_count": 78,
   "metadata": {},
   "outputs": [
    {
     "data": {
      "text/plain": [
       "array(['d', 'g', 'l', 'm', 'p', 'u', 'w'], dtype=object)"
      ]
     },
     "execution_count": 78,
     "metadata": {},
     "output_type": "execute_result"
    }
   ],
   "source": [
    "np.unique(df.loc[:,22].values)"
   ]
  },
  {
   "cell_type": "code",
   "execution_count": 79,
   "metadata": {},
   "outputs": [
    {
     "data": {
      "text/plain": [
       "5    3656\n",
       "2    3152\n",
       "3     828\n",
       "0     452\n",
       "4      32\n",
       "1       4\n",
       "dtype: int64"
      ]
     },
     "execution_count": 79,
     "metadata": {},
     "output_type": "execute_result"
    }
   ],
   "source": [
    "pd.Series(X[:,0]).value_counts()"
   ]
  },
  {
   "cell_type": "code",
   "execution_count": 55,
   "metadata": {},
   "outputs": [
    {
     "data": {
      "text/plain": [
       "Counter({(0, 0): 0.10619469026548672,\n",
       "         (0, 1): 1.0,\n",
       "         (0, 2): 0.4936548223350254,\n",
       "         (0, 3): 0.7246376811594203,\n",
       "         (0, 4): 0.0,\n",
       "         (0, 5): 0.4671772428884026,\n",
       "         (1, 0): 0.3275862068965517,\n",
       "         (1, 1): 1.0,\n",
       "         (1, 2): 0.5524256651017214,\n",
       "         (1, 3): 0.5363748458692972,\n",
       "         (2, 0): 0.7142857142857143,\n",
       "         (2, 1): 0.2727272727272727,\n",
       "         (2, 2): 0.584,\n",
       "         (2, 3): 0.4391304347826087,\n",
       "         (2, 4): 0.44658493870402804,\n",
       "         (2, 5): 0.6111111111111112,\n",
       "         (2, 6): 0.0,\n",
       "         (2, 7): 0.0,\n",
       "         (2, 8): 0.3076923076923077,\n",
       "         (2, 9): 0.6268656716417911,\n",
       "         (3, 0): 0.6933445661331087,\n",
       "         (3, 1): 0.1848341232227488,\n",
       "         (4, 0): 0.0,\n",
       "         (4, 1): 1.0,\n",
       "         (4, 2): 1.0,\n",
       "         (4, 3): 0.0,\n",
       "         (4, 4): 1.0,\n",
       "         (4, 5): 0.034013605442176874,\n",
       "         (4, 6): 1.0,\n",
       "         (4, 7): 1.0,\n",
       "         (4, 8): 1.0,\n",
       "         (5, 0): 0.08571428571428572,\n",
       "         (5, 1): 0.4925448572150619,\n",
       "         (6, 0): 0.5584263065179096,\n",
       "         (6, 1): 0.08536585365853659,\n",
       "         (7, 0): 0.3014967925873129,\n",
       "         (7, 1): 0.8853503184713376,\n",
       "         (8, 0): 1.0,\n",
       "         (8, 1): 0.0,\n",
       "         (8, 2): 0.6702127659574468,\n",
       "         (8, 3): 0.7213114754098361,\n",
       "         (8, 4): 0.1568627450980392,\n",
       "         (8, 5): 0.10687022900763359,\n",
       "         (8, 6): 0.0,\n",
       "         (8, 7): 0.4289544235924933,\n",
       "         (8, 8): 1.0,\n",
       "         (8, 9): 0.0975609756097561,\n",
       "         (8, 10): 0.20465890183028287,\n",
       "         (8, 11): 0.2558139534883721,\n",
       "         (9, 0): 0.540386803185438,\n",
       "         (9, 1): 0.4375,\n",
       "         (10, 0): 0.7096774193548387,\n",
       "         (10, 1): 0.4915254237288136,\n",
       "         (10, 2): 0.07913669064748201,\n",
       "         (10, 3): 0.22857142857142856,\n",
       "         (10, 4): 0.0,\n",
       "         (11, 0): 0.2608695652173913,\n",
       "         (11, 1): 0.93929173693086,\n",
       "         (11, 2): 0.29675425038639874,\n",
       "         (11, 3): 0.3333333333333333,\n",
       "         (12, 0): 0.24,\n",
       "         (12, 1): 0.9375,\n",
       "         (12, 2): 0.31118314424635335,\n",
       "         (12, 3): 0.2676056338028169,\n",
       "         (13, 0): 1.0,\n",
       "         (13, 1): 1.0,\n",
       "         (13, 2): 0.0,\n",
       "         (13, 3): 0.0,\n",
       "         (13, 4): 0.9642857142857143,\n",
       "         (13, 5): 0.0,\n",
       "         (13, 6): 0.6923076923076923,\n",
       "         (13, 7): 0.3835125448028674,\n",
       "         (13, 8): 1.0,\n",
       "         (14, 0): 1.0,\n",
       "         (14, 1): 1.0,\n",
       "         (14, 2): 0.0,\n",
       "         (14, 3): 0.0,\n",
       "         (14, 4): 0.875,\n",
       "         (14, 5): 0.0,\n",
       "         (14, 6): 0.6923076923076923,\n",
       "         (14, 7): 0.38321167883211676,\n",
       "         (14, 8): 1.0,\n",
       "         (15, 0): 0.48202855736090594,\n",
       "         (16, 0): 0.0,\n",
       "         (16, 1): 0.0,\n",
       "         (16, 2): 0.49318525996971224,\n",
       "         (16, 3): 1.0,\n",
       "         (17, 0): 1.0,\n",
       "         (17, 1): 0.5085470085470085,\n",
       "         (17, 2): 0.12,\n",
       "         (18, 0): 0.6368876080691642,\n",
       "         (18, 1): 0.0,\n",
       "         (18, 2): 1.0,\n",
       "         (18, 3): 1.0,\n",
       "         (18, 4): 0.2056451612903226,\n",
       "         (19, 0): 0.0,\n",
       "         (19, 1): 0.9705882352941176,\n",
       "         (19, 2): 0.11965811965811966,\n",
       "         (19, 3): 0.11382113821138211,\n",
       "         (19, 4): 0.0,\n",
       "         (19, 5): 1.0,\n",
       "         (19, 6): 0.0,\n",
       "         (19, 7): 0.7587939698492462,\n",
       "         (19, 8): 0.0,\n",
       "         (20, 0): 0.0,\n",
       "         (20, 1): 0.15294117647058825,\n",
       "         (20, 2): 0.0,\n",
       "         (20, 3): 0.2948717948717949,\n",
       "         (20, 4): 0.7049504950495049,\n",
       "         (20, 5): 0.37850467289719625,\n",
       "         (21, 0): 0.4027954256670902,\n",
       "         (21, 1): 0.34450651769087526,\n",
       "         (21, 2): 0.7115384615384616,\n",
       "         (21, 3): 0.1232876712328767,\n",
       "         (21, 4): 0.8811188811188811,\n",
       "         (21, 5): 0.7391304347826086,\n",
       "         (21, 6): 0.0})"
      ]
     },
     "execution_count": 55,
     "metadata": {},
     "output_type": "execute_result"
    }
   ],
   "source": [
    "A"
   ]
  },
  {
   "cell_type": "code",
   "execution_count": 81,
   "metadata": {},
   "outputs": [],
   "source": [
    "#for i in range(X.shape[1]):\n",
    "#    print( i, len(np.unique(X[:,i])))"
   ]
  },
  {
   "cell_type": "code",
   "execution_count": 82,
   "metadata": {},
   "outputs": [],
   "source": [
    "B = transform(X, A)"
   ]
  },
  {
   "cell_type": "code",
   "execution_count": 86,
   "metadata": {},
   "outputs": [
    {
     "data": {
      "text/plain": [
       "array([5, 5, 0, 5, 5, 5, 0, 0, 5, 0], dtype=object)"
      ]
     },
     "execution_count": 86,
     "metadata": {},
     "output_type": "execute_result"
    }
   ],
   "source": [
    "X[:10,0]"
   ]
  },
  {
   "cell_type": "code",
   "execution_count": 87,
   "metadata": {},
   "outputs": [
    {
     "data": {
      "text/plain": [
       "array([0.4671772428884026, 0.4671772428884026, 0.10619469026548672,\n",
       "       0.4671772428884026, 0.4671772428884026, 0.4671772428884026,\n",
       "       0.10619469026548672, 0.10619469026548672, 0.4671772428884026,\n",
       "       0.10619469026548672], dtype=object)"
      ]
     },
     "execution_count": 87,
     "metadata": {},
     "output_type": "execute_result"
    }
   ],
   "source": [
    "B[:10,0]"
   ]
  },
  {
   "cell_type": "code",
   "execution_count": 11,
   "metadata": {
    "scrolled": true
   },
   "outputs": [
    {
     "data": {
      "text/plain": [
       "array([0, 0.22857142857142856, 0.29675425038639874, 0.31118314424635335,\n",
       "       0.38321167883211676, 0.3835125448028674, 0.49318525996971224,\n",
       "       0.5085470085470085, 0.540386803185438, 0.5524256651017214,\n",
       "       0.5584263065179096, 0.7391304347826086, 1, 4, 5], dtype=object)"
      ]
     },
     "execution_count": 11,
     "metadata": {},
     "output_type": "execute_result"
    }
   ],
   "source": [
    "np.unique(B[:1])"
   ]
  },
  {
   "cell_type": "code",
   "execution_count": 12,
   "metadata": {
    "scrolled": true
   },
   "outputs": [
    {
     "data": {
      "text/plain": [
       "array(['f', 'g', 's', 'y'], dtype=object)"
      ]
     },
     "execution_count": 12,
     "metadata": {},
     "output_type": "execute_result"
    }
   ],
   "source": [
    "np.unique(df.loc[:,2].values)"
   ]
  },
  {
   "cell_type": "code",
   "execution_count": 13,
   "metadata": {},
   "outputs": [
    {
     "data": {
      "text/plain": [
       "array([0, 1, 2, 3, 4, 5, 6, 7, 8, 9], dtype=object)"
      ]
     },
     "execution_count": 13,
     "metadata": {},
     "output_type": "execute_result"
    }
   ],
   "source": [
    "np.unique(X[:,2])"
   ]
  },
  {
   "cell_type": "code",
   "execution_count": 24,
   "metadata": {
    "scrolled": false
   },
   "outputs": [
    {
     "data": {
      "text/plain": [
       "y    3244\n",
       "s    2556\n",
       "f    2320\n",
       "g       4\n",
       "Name: 2, dtype: int64"
      ]
     },
     "execution_count": 24,
     "metadata": {},
     "output_type": "execute_result"
    }
   ],
   "source": [
    "df[2].value_counts()"
   ]
  },
  {
   "cell_type": "code",
   "execution_count": 40,
   "metadata": {},
   "outputs": [
    {
     "data": {
      "text/plain": [
       "(8124, 22)"
      ]
     },
     "execution_count": 40,
     "metadata": {},
     "output_type": "execute_result"
    }
   ],
   "source": [
    "X.shape"
   ]
  },
  {
   "cell_type": "code",
   "execution_count": 48,
   "metadata": {},
   "outputs": [],
   "source": [
    "i = 0\n",
    "j = 0\n",
    "ind = (X[:,i] == j)"
   ]
  },
  {
   "cell_type": "code",
   "execution_count": 49,
   "metadata": {},
   "outputs": [
    {
     "data": {
      "text/plain": [
       "array([False, False,  True, ..., False, False, False])"
      ]
     },
     "execution_count": 49,
     "metadata": {},
     "output_type": "execute_result"
    }
   ],
   "source": [
    "ind"
   ]
  },
  {
   "cell_type": "code",
   "execution_count": 25,
   "metadata": {},
   "outputs": [
    {
     "data": {
      "text/plain": [
       "array([5, 5, 0, ..., 2, 3, 5], dtype=object)"
      ]
     },
     "execution_count": 25,
     "metadata": {},
     "output_type": "execute_result"
    }
   ],
   "source": [
    "X[:,0]"
   ]
  },
  {
   "cell_type": "code",
   "execution_count": 26,
   "metadata": {},
   "outputs": [
    {
     "data": {
      "text/plain": [
       "(8124, 22)"
      ]
     },
     "execution_count": 26,
     "metadata": {},
     "output_type": "execute_result"
    }
   ],
   "source": [
    "X.shape"
   ]
  },
  {
   "cell_type": "code",
   "execution_count": 27,
   "metadata": {},
   "outputs": [
    {
     "data": {
      "text/plain": [
       "array([[5, 0.5524256651017214, 0, ..., 0, 0, 0.7391304347826086],\n",
       "       [5, 0.5524256651017214, 9, ..., 0, 0, 0],\n",
       "       [0, 0.5524256651017214, 0.3076923076923077, ..., 0, 0, 0],\n",
       "       ...,\n",
       "       [0, 0.5524256651017214, 0, ..., 0, 0, 0],\n",
       "       [0, 3, 0, ..., 0.7587939698492462, 0.7049504950495049, 0],\n",
       "       [5, 0.5524256651017214, 0, ..., 0, 0, 0]], dtype=object)"
      ]
     },
     "execution_count": 27,
     "metadata": {},
     "output_type": "execute_result"
    }
   ],
   "source": [
    "B"
   ]
  },
  {
   "cell_type": "code",
   "execution_count": 29,
   "metadata": {},
   "outputs": [
    {
     "data": {
      "text/plain": [
       "(8124, 22)"
      ]
     },
     "execution_count": 29,
     "metadata": {},
     "output_type": "execute_result"
    }
   ],
   "source": [
    "X.shape"
   ]
  },
  {
   "cell_type": "code",
   "execution_count": 30,
   "metadata": {},
   "outputs": [
    {
     "data": {
      "text/plain": [
       "(8124, 22)"
      ]
     },
     "execution_count": 30,
     "metadata": {},
     "output_type": "execute_result"
    }
   ],
   "source": [
    "B.shape"
   ]
  },
  {
   "cell_type": "code",
   "execution_count": 31,
   "metadata": {},
   "outputs": [
    {
     "data": {
      "text/plain": [
       "(8124, 23)"
      ]
     },
     "execution_count": 31,
     "metadata": {},
     "output_type": "execute_result"
    }
   ],
   "source": [
    "df.shape"
   ]
  },
  {
   "cell_type": "code",
   "execution_count": 42,
   "metadata": {},
   "outputs": [
    {
     "name": "stdout",
     "output_type": "stream",
     "text": [
      "['b' 'c' 'f' 'k' 's' 'x']\n",
      "[0 1 2 3 4 5]\n",
      "[0 5]\n"
     ]
    }
   ],
   "source": [
    "print(np.unique(df.loc[:,1].values))\n",
    "print(np.unique(X[:,0]))\n",
    "print(np.unique(B[:,0]))"
   ]
  },
  {
   "cell_type": "code",
   "execution_count": 41,
   "metadata": {},
   "outputs": [
    {
     "name": "stdout",
     "output_type": "stream",
     "text": [
      "[0 1 2 3 4 5]\n"
     ]
    }
   ],
   "source": [
    "print(np.unique(X[:,0]))"
   ]
  },
  {
   "cell_type": "code",
   "execution_count": 39,
   "metadata": {},
   "outputs": [
    {
     "name": "stdout",
     "output_type": "stream",
     "text": [
      "[ 0  1  2  3  5 23 32]\n",
      "7\n"
     ]
    }
   ],
   "source": [
    "s = np.unique([0,1,3,5,2,5,23, 32, 2,2])\n",
    "print(s)\n",
    "print(len(s))"
   ]
  },
  {
   "cell_type": "code",
   "execution_count": null,
   "metadata": {},
   "outputs": [],
   "source": []
  },
  {
   "cell_type": "code",
   "execution_count": null,
   "metadata": {},
   "outputs": [],
   "source": []
  }
 ],
 "metadata": {
  "kernelspec": {
   "display_name": "Python 3",
   "language": "python",
   "name": "python3"
  },
  "language_info": {
   "codemirror_mode": {
    "name": "ipython",
    "version": 3
   },
   "file_extension": ".py",
   "mimetype": "text/x-python",
   "name": "python",
   "nbconvert_exporter": "python",
   "pygments_lexer": "ipython3",
   "version": "3.6.4"
  }
 },
 "nbformat": 4,
 "nbformat_minor": 2
}
