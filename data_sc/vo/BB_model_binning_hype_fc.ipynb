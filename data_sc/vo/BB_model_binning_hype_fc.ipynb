{
 "cells": [
  {
   "cell_type": "code",
   "execution_count": 1,
   "metadata": {
    "collapsed": true
   },
   "outputs": [],
   "source": [
    "## new models with new data pre-processing\n",
    "### binary prediction : (user features) -> Pr(response)"
   ]
  },
  {
   "cell_type": "code",
   "execution_count": 2,
   "metadata": {
    "collapsed": true
   },
   "outputs": [],
   "source": [
    "%load_ext autoreload\n",
    "%autoreload 2"
   ]
  },
  {
   "cell_type": "code",
   "execution_count": 3,
   "metadata": {},
   "outputs": [
    {
     "name": "stderr",
     "output_type": "stream",
     "text": [
      "/home/drsleep/.local/lib/python2.7/site-packages/sklearn/cross_validation.py:44: DeprecationWarning: This module was deprecated in version 0.18 in favor of the model_selection module into which all the refactored classes and functions are moved. Also note that the interface of the new CV iterators are different from that of this module. This module will be removed in 0.20.\n",
      "  \"This module will be removed in 0.20.\", DeprecationWarning)\n"
     ]
    }
   ],
   "source": [
    "import cPickle as pickle\n",
    "import numpy as np\n",
    "import pandas as pd\n",
    "import os\n",
    "\n",
    "import sys\n",
    "sys.path.append('../../')\n",
    "from target_pred import FCModel, RNNModel, XGBoostModel, create_sets, evaluate\n",
    "from target_pred import prepare_trns, report_softmax, leave_one_out, KFoldTargetEncoding, HypeNKFoldCV, targetEncoding\n",
    "import cPickle as pickle\n",
    "import numpy as np\n",
    "import pandas as pd\n",
    "import os\n",
    "\n",
    "from joblib import Parallel, delayed\n",
    "\n",
    "import sklearn\n",
    "from sklearn import svm\n",
    "from sklearn.utils import shuffle\n",
    "from sklearn import cross_validation, metrics\n",
    "from sklearn.tree import DecisionTreeClassifier\n",
    "from sklearn.linear_model import LogisticRegression\n",
    "from sklearn.ensemble import RandomForestClassifier, GradientBoostingClassifier\n",
    "from sklearn.cross_validation import KFold, StratifiedKFold, cross_val_score\n",
    "from sklearn.metrics import f1_score, precision_score, recall_score, confusion_matrix, auc, roc_curve\n",
    "from sklearn.metrics import classification_report\n",
    "from sklearn.model_selection import train_test_split\n",
    "from sklearn.preprocessing import label_binarize, LabelBinarizer\n",
    "from sklearn.svm import SVC\n",
    "\n",
    "from random import sample\n",
    "from tqdm import tqdm\n",
    "from scipy import interp\n",
    "\n",
    "from collections import Counter, defaultdict\n",
    "\n",
    "%matplotlib inline\n",
    "import matplotlib.pyplot as plt\n",
    "from matplotlib import cm\n",
    "import matplotlib.image as image\n",
    "from IPython.display import Image\n",
    "\n",
    "import xgboost as xgb_lib\n",
    "from io import BytesIO\n",
    "\n",
    "import re\n",
    "\n",
    "import warnings\n",
    "warnings.filterwarnings(\"ignore\")"
   ]
  },
  {
   "cell_type": "code",
   "execution_count": 4,
   "metadata": {
    "collapsed": true
   },
   "outputs": [],
   "source": [
    "def plot_ROC_curve(classifier, X, y, pos_label=1, n_folds=5):\n",
    "    mean_tpr = 0.0\n",
    "    mean_fpr = np.linspace(0, 1, 100)\n",
    "    all_tpr = []\n",
    "    for i, (train, test) in enumerate(StratifiedKFold(y, n_folds=n_folds)):\n",
    "        probas_ = classifier.fit(X[train], y[train]).predict_proba(X[test])\n",
    "        # Compute ROC curve and area under the curve\n",
    "        fpr, tpr, thresholds = roc_curve(y[test], probas_[:, 1], pos_label=1)\n",
    "        mean_tpr += interp(mean_fpr, fpr, tpr)\n",
    "        mean_tpr[0] = 0.0\n",
    "        roc_auc = auc(fpr, tpr)\n",
    "        plt.plot(fpr, tpr, lw=1, label='ROC fold %d (area = %0.4f)' % (i, roc_auc))\n",
    "    plt.plot([0, 1], [0, 1], '--', color=(0.6, 0.6, 0.6), label='Random')\n",
    "    mean_tpr /= n_folds\n",
    "    mean_tpr[-1] = 1.0\n",
    "    mean_auc = auc(mean_fpr, mean_tpr)\n",
    "    plt.plot(mean_fpr, mean_tpr, 'k--',\n",
    "         label='Mean ROC (area = %0.4f)' % mean_auc, lw=2)\n",
    "    plt.xlim([-0.05, 1.05])\n",
    "    plt.ylim([-0.05, 1.05])\n",
    "    plt.xlabel('False Positive Rate')\n",
    "    plt.ylabel('True Positive Rate')\n",
    "    plt.title('Receiver operating characteristic example')\n",
    "    plt.legend(loc=\"lower right\")\n",
    "    plt.show()\n",
    "\n",
    "def plot_PR_curve(classifier, X, y, n_folds=5):\n",
    "    \"\"\"\n",
    "    Plot a basic precision/recall curve.\n",
    "    \"\"\"\n",
    "    for i, (train, test) in enumerate(StratifiedKFold(y, n_folds=n_folds)):\n",
    "        probas_ = classifier.fit(X[train], y[train]).predict_proba(X[test])\n",
    "        # Compute ROC curve and area the curve\n",
    "        precision, recall, thresholds = metrics.precision_recall_curve(y[test], probas_[:, 1],\n",
    "                                                               pos_label=1)\n",
    "        plt.plot(recall, precision, lw=1, label='PR fold %d' % (i,))\n",
    "   #  clf_name = str(type(classifier))\n",
    "   # clf_name = clf_name[clf_name.rindex('.')+1:]\n",
    "    plt.xlim([-0.05, 1.05])\n",
    "    plt.ylim([-0.05, 1.05])\n",
    "    plt.xlabel('Recall')\n",
    "    plt.ylabel('Precision')\n",
    "    plt.title('Precision-recall curve')\n",
    "    plt.legend(loc=\"lower right\")\n",
    "    plt.show()"
   ]
  },
  {
   "cell_type": "code",
   "execution_count": 5,
   "metadata": {
    "collapsed": true
   },
   "outputs": [],
   "source": [
    "from string import letters\n",
    "import seaborn as sns\n",
    "\n",
    "def corr_matrix(d, figsize = (15, 15)):\n",
    "    sns.set(style=\"white\")\n",
    "\n",
    "    # Compute the correlation matrix\n",
    "    corr = d.corr()\n",
    "\n",
    "    # Generate a mask for the upper triangle\n",
    "    mask = np.zeros_like(corr, dtype=np.bool)\n",
    "    mask[np.triu_indices_from(mask)] = True\n",
    "\n",
    "    # Set up the matplotlib figure\n",
    "    f, ax = plt.subplots(figsize=figsize)\n",
    "\n",
    "    # Generate a custom diverging colormap\n",
    "    cmap = sns.diverging_palette(220, 10, as_cmap=True)\n",
    "\n",
    "    # Draw the heatmap with the mask and correct aspect ratio\n",
    "    sns.heatmap(corr, mask=mask, cmap=cmap, vmax=.3,\n",
    "                square=True, #xticklabels=5, yticklabels=5,\n",
    "                linewidths=.5, cbar_kws={\"shrink\": .5}, ax=ax)"
   ]
  },
  {
   "cell_type": "markdown",
   "metadata": {},
   "source": [
    "## Binary Model: (response / no response)"
   ]
  },
  {
   "cell_type": "markdown",
   "metadata": {},
   "source": [
    "### XGBoost"
   ]
  },
  {
   "cell_type": "code",
   "execution_count": 6,
   "metadata": {
    "collapsed": true
   },
   "outputs": [],
   "source": [
    "file_path = '../../../../../../../Documents/projects/new_data/BB/CD_ALL_2017-07-06.csv'\n",
    "df_usual = pd.read_csv(file_path, sep='>', nrows=20)"
   ]
  },
  {
   "cell_type": "code",
   "execution_count": 95,
   "metadata": {
    "collapsed": true
   },
   "outputs": [],
   "source": [
    "ignore_cols = [\n",
    " 'CLIENT_ID',\n",
    " 'CONTRACT_REF',\n",
    "# 'CONTROL_GROUP_FLG',\n",
    " 'BANK',\n",
    " 'SCENARIO_NAME_UNI',\n",
    " 'START_DATE',\n",
    " 'label',\n",
    "#  'IS_LOYALTY_AUTO',\n",
    "#  'IS_LOYALTY_BEAUTY',\n",
    "#  'IS_LOYALTY_ONLINE',\n",
    "#  'IS_LOYALTY_TRAVEL',\n",
    "#  'IS_LOYALTY_WEEKEND',\n",
    "  ]\n",
    "\n",
    "ignore_cols_binning = [\n",
    " 'CLIENT_ID',\n",
    " 'CONTRACT_REF',\n",
    " 'CONTROL_GROUP_FLG',\n",
    " 'BANK',\n",
    " 'SCENARIO_NAME_UNI',\n",
    " 'START_DATE',\n",
    " 'label',\n",
    " 'IS_LOYALTY_AUTO',\n",
    " 'IS_LOYALTY_BEAUTY',\n",
    " 'IS_LOYALTY_ONLINE',\n",
    " 'IS_LOYALTY_TRAVEL',\n",
    " 'IS_LOYALTY_WEEKEND',\n",
    "  ]\n",
    "\n",
    "drop_cols = [ \n",
    " 'CLIENT_ID',\n",
    " 'CONTRACT_REF',\n",
    " 'BANK',\n",
    " 'SCENARIO_NAME_UNI',\n",
    " 'START_DATE',\n",
    " 'LAST_CARD_STATUS_DT',\n",
    " 'LAST_CONTR_STATUS_DT']\n",
    "\n",
    "scaler = 'standard'\n",
    "dummy_config = (15, 0.9)\n",
    "fill_na = False\n",
    "n_bins = 5\n",
    "seed = 42\n",
    "test_size = 0.15"
   ]
  },
  {
   "cell_type": "code",
   "execution_count": 96,
   "metadata": {
    "collapsed": true,
    "scrolled": false
   },
   "outputs": [],
   "source": [
    "Xy_train, Xy_test, _, _, _  = create_sets(path_to_file=file_path,\n",
    "                                          sep='>',\n",
    "                                          ignore_cols_dummy=ignore_cols,\n",
    "                                          ignore_cols_norm=ignore_cols + ['CONTROL_GROUP_FLG'],\n",
    "                                          ignore_cols_binning=ignore_cols_binning,\n",
    "                                          drop_cols=drop_cols,\n",
    "                                          dummy_config=dummy_config,\n",
    "                                          fill_na=fill_na,\n",
    "                                          scaler=scaler,\n",
    "                                          n_bins=n_bins,\n",
    "                                          transform_dict=None,\n",
    "                                          normalise_dict=None,\n",
    "                                          binning_dict=None,\n",
    "                                          test_size=test_size,\n",
    "                                          seed=seed,\n",
    "                                          verbose=False)"
   ]
  },
  {
   "cell_type": "code",
   "execution_count": 97,
   "metadata": {
    "collapsed": true
   },
   "outputs": [],
   "source": [
    "binned_columns = filter(lambda x: 'BINNED' in x, Xy_train.columns)"
   ]
  },
  {
   "cell_type": "code",
   "execution_count": 114,
   "metadata": {},
   "outputs": [
    {
     "name": "stderr",
     "output_type": "stream",
     "text": [
      "100%|██████████| 50/50 [47:42<00:00, 62.35s/it]\n"
     ]
    }
   ],
   "source": [
    "n_trials = 50\n",
    "nfolds = 5\n",
    "kfolds = 5\n",
    "target_col = 'label'\n",
    "\n",
    "param_dict = defaultdict(list)\n",
    "\n",
    "for i in tqdm(range(n_trials)):\n",
    "    alpha = np.random.uniform(low=8, high=15)\n",
    "    n_estimators = np.random.randint(low=80, high=120)\n",
    "    learning_rate = np.random.uniform(low=1e-5, high=5e-1)\n",
    "    subsample = np.random.uniform(low=0.7, high=0.9)\n",
    "    c_config = dict(max_depth=5, learning_rate=learning_rate, \n",
    "                    n_estimators=n_estimators, seed=seed,\n",
    "                                 reg_lambda=450, scale_pos_weight=1.15, nthread=4, missing=np.nan,\n",
    "                                 reg_alpha=200, subsample=subsample)\n",
    "    c_model = XGBoostModel(c_config)\n",
    "    \n",
    "    \n",
    "    val_res = HypeNKFoldCV(Xy_train,\n",
    "                           binned_columns,\n",
    "                           target_col,\n",
    "                           c_model,\n",
    "                           nfolds,\n",
    "                           kfolds,\n",
    "                           alpha,\n",
    "                           noise_std=0.000695,\n",
    "                           scorer=f1_score\n",
    "                          )\n",
    "    param_dict['alpha'].append(alpha)\n",
    "    #param_dict['noise_std'].append(noise_std)\n",
    "    param_dict['val_res'].append(val_res)\n",
    "    param_dict['n_estimators'].append(n_estimators)\n",
    "    param_dict['subsample'].append(subsample)\n",
    "    param_dict['learning_rate'].append(learning_rate)"
   ]
  },
  {
   "cell_type": "code",
   "execution_count": 115,
   "metadata": {
    "collapsed": true
   },
   "outputs": [],
   "source": [
    "param_df = pd.DataFrame(param_dict)"
   ]
  },
  {
   "cell_type": "code",
   "execution_count": 116,
   "metadata": {
    "collapsed": true
   },
   "outputs": [],
   "source": [
    "param_df['cv_score'] = param_df['val_res'].apply(np.mean)"
   ]
  },
  {
   "cell_type": "code",
   "execution_count": 117,
   "metadata": {},
   "outputs": [
    {
     "data": {
      "text/html": [
       "<div>\n",
       "<style>\n",
       "    .dataframe thead tr:only-child th {\n",
       "        text-align: right;\n",
       "    }\n",
       "\n",
       "    .dataframe thead th {\n",
       "        text-align: left;\n",
       "    }\n",
       "\n",
       "    .dataframe tbody tr th {\n",
       "        vertical-align: top;\n",
       "    }\n",
       "</style>\n",
       "<table border=\"1\" class=\"dataframe\">\n",
       "  <thead>\n",
       "    <tr style=\"text-align: right;\">\n",
       "      <th></th>\n",
       "      <th>alpha</th>\n",
       "      <th>learning_rate</th>\n",
       "      <th>n_estimators</th>\n",
       "      <th>subsample</th>\n",
       "      <th>cv_score</th>\n",
       "    </tr>\n",
       "  </thead>\n",
       "  <tbody>\n",
       "    <tr>\n",
       "      <th>9</th>\n",
       "      <td>12.363347</td>\n",
       "      <td>0.185550</td>\n",
       "      <td>95</td>\n",
       "      <td>0.770781</td>\n",
       "      <td>0.836929</td>\n",
       "    </tr>\n",
       "    <tr>\n",
       "      <th>8</th>\n",
       "      <td>9.026899</td>\n",
       "      <td>0.259688</td>\n",
       "      <td>116</td>\n",
       "      <td>0.722347</td>\n",
       "      <td>0.836577</td>\n",
       "    </tr>\n",
       "    <tr>\n",
       "      <th>10</th>\n",
       "      <td>10.488842</td>\n",
       "      <td>0.223491</td>\n",
       "      <td>111</td>\n",
       "      <td>0.774856</td>\n",
       "      <td>0.836294</td>\n",
       "    </tr>\n",
       "    <tr>\n",
       "      <th>42</th>\n",
       "      <td>12.997223</td>\n",
       "      <td>0.052232</td>\n",
       "      <td>83</td>\n",
       "      <td>0.892856</td>\n",
       "      <td>0.835757</td>\n",
       "    </tr>\n",
       "    <tr>\n",
       "      <th>15</th>\n",
       "      <td>12.803614</td>\n",
       "      <td>0.202766</td>\n",
       "      <td>88</td>\n",
       "      <td>0.765736</td>\n",
       "      <td>0.835728</td>\n",
       "    </tr>\n",
       "    <tr>\n",
       "      <th>27</th>\n",
       "      <td>8.139936</td>\n",
       "      <td>0.053703</td>\n",
       "      <td>99</td>\n",
       "      <td>0.724030</td>\n",
       "      <td>0.835640</td>\n",
       "    </tr>\n",
       "    <tr>\n",
       "      <th>48</th>\n",
       "      <td>8.162796</td>\n",
       "      <td>0.420021</td>\n",
       "      <td>110</td>\n",
       "      <td>0.744021</td>\n",
       "      <td>0.835519</td>\n",
       "    </tr>\n",
       "    <tr>\n",
       "      <th>49</th>\n",
       "      <td>13.668117</td>\n",
       "      <td>0.071461</td>\n",
       "      <td>108</td>\n",
       "      <td>0.707132</td>\n",
       "      <td>0.835156</td>\n",
       "    </tr>\n",
       "    <tr>\n",
       "      <th>18</th>\n",
       "      <td>12.794239</td>\n",
       "      <td>0.113642</td>\n",
       "      <td>82</td>\n",
       "      <td>0.856207</td>\n",
       "      <td>0.835036</td>\n",
       "    </tr>\n",
       "    <tr>\n",
       "      <th>17</th>\n",
       "      <td>10.317036</td>\n",
       "      <td>0.199409</td>\n",
       "      <td>107</td>\n",
       "      <td>0.806460</td>\n",
       "      <td>0.834939</td>\n",
       "    </tr>\n",
       "    <tr>\n",
       "      <th>28</th>\n",
       "      <td>13.697114</td>\n",
       "      <td>0.164191</td>\n",
       "      <td>87</td>\n",
       "      <td>0.845874</td>\n",
       "      <td>0.834918</td>\n",
       "    </tr>\n",
       "    <tr>\n",
       "      <th>24</th>\n",
       "      <td>12.524646</td>\n",
       "      <td>0.312193</td>\n",
       "      <td>102</td>\n",
       "      <td>0.855795</td>\n",
       "      <td>0.834873</td>\n",
       "    </tr>\n",
       "    <tr>\n",
       "      <th>44</th>\n",
       "      <td>9.786860</td>\n",
       "      <td>0.055002</td>\n",
       "      <td>84</td>\n",
       "      <td>0.882765</td>\n",
       "      <td>0.834772</td>\n",
       "    </tr>\n",
       "    <tr>\n",
       "      <th>45</th>\n",
       "      <td>14.548151</td>\n",
       "      <td>0.213575</td>\n",
       "      <td>96</td>\n",
       "      <td>0.716665</td>\n",
       "      <td>0.834771</td>\n",
       "    </tr>\n",
       "    <tr>\n",
       "      <th>43</th>\n",
       "      <td>9.539755</td>\n",
       "      <td>0.459046</td>\n",
       "      <td>119</td>\n",
       "      <td>0.711220</td>\n",
       "      <td>0.834761</td>\n",
       "    </tr>\n",
       "    <tr>\n",
       "      <th>16</th>\n",
       "      <td>13.936361</td>\n",
       "      <td>0.399675</td>\n",
       "      <td>89</td>\n",
       "      <td>0.830392</td>\n",
       "      <td>0.834704</td>\n",
       "    </tr>\n",
       "    <tr>\n",
       "      <th>36</th>\n",
       "      <td>10.146954</td>\n",
       "      <td>0.303826</td>\n",
       "      <td>83</td>\n",
       "      <td>0.773989</td>\n",
       "      <td>0.834628</td>\n",
       "    </tr>\n",
       "    <tr>\n",
       "      <th>13</th>\n",
       "      <td>14.353391</td>\n",
       "      <td>0.206845</td>\n",
       "      <td>100</td>\n",
       "      <td>0.764956</td>\n",
       "      <td>0.834621</td>\n",
       "    </tr>\n",
       "    <tr>\n",
       "      <th>25</th>\n",
       "      <td>9.009007</td>\n",
       "      <td>0.489375</td>\n",
       "      <td>95</td>\n",
       "      <td>0.748259</td>\n",
       "      <td>0.834570</td>\n",
       "    </tr>\n",
       "    <tr>\n",
       "      <th>35</th>\n",
       "      <td>14.105501</td>\n",
       "      <td>0.369804</td>\n",
       "      <td>108</td>\n",
       "      <td>0.810422</td>\n",
       "      <td>0.834511</td>\n",
       "    </tr>\n",
       "    <tr>\n",
       "      <th>23</th>\n",
       "      <td>12.879211</td>\n",
       "      <td>0.470147</td>\n",
       "      <td>93</td>\n",
       "      <td>0.829458</td>\n",
       "      <td>0.834443</td>\n",
       "    </tr>\n",
       "    <tr>\n",
       "      <th>0</th>\n",
       "      <td>9.215734</td>\n",
       "      <td>0.042805</td>\n",
       "      <td>81</td>\n",
       "      <td>0.822584</td>\n",
       "      <td>0.834442</td>\n",
       "    </tr>\n",
       "    <tr>\n",
       "      <th>46</th>\n",
       "      <td>8.642594</td>\n",
       "      <td>0.233809</td>\n",
       "      <td>92</td>\n",
       "      <td>0.837248</td>\n",
       "      <td>0.834379</td>\n",
       "    </tr>\n",
       "    <tr>\n",
       "      <th>6</th>\n",
       "      <td>11.578908</td>\n",
       "      <td>0.289753</td>\n",
       "      <td>87</td>\n",
       "      <td>0.756996</td>\n",
       "      <td>0.834337</td>\n",
       "    </tr>\n",
       "    <tr>\n",
       "      <th>47</th>\n",
       "      <td>9.768414</td>\n",
       "      <td>0.171028</td>\n",
       "      <td>80</td>\n",
       "      <td>0.896707</td>\n",
       "      <td>0.834249</td>\n",
       "    </tr>\n",
       "    <tr>\n",
       "      <th>11</th>\n",
       "      <td>14.154423</td>\n",
       "      <td>0.306713</td>\n",
       "      <td>102</td>\n",
       "      <td>0.884313</td>\n",
       "      <td>0.834193</td>\n",
       "    </tr>\n",
       "    <tr>\n",
       "      <th>41</th>\n",
       "      <td>12.610555</td>\n",
       "      <td>0.227357</td>\n",
       "      <td>118</td>\n",
       "      <td>0.849560</td>\n",
       "      <td>0.834160</td>\n",
       "    </tr>\n",
       "    <tr>\n",
       "      <th>7</th>\n",
       "      <td>14.781428</td>\n",
       "      <td>0.034487</td>\n",
       "      <td>105</td>\n",
       "      <td>0.851722</td>\n",
       "      <td>0.834105</td>\n",
       "    </tr>\n",
       "    <tr>\n",
       "      <th>37</th>\n",
       "      <td>9.315404</td>\n",
       "      <td>0.370010</td>\n",
       "      <td>117</td>\n",
       "      <td>0.712060</td>\n",
       "      <td>0.833999</td>\n",
       "    </tr>\n",
       "    <tr>\n",
       "      <th>33</th>\n",
       "      <td>14.403029</td>\n",
       "      <td>0.252643</td>\n",
       "      <td>105</td>\n",
       "      <td>0.886129</td>\n",
       "      <td>0.833967</td>\n",
       "    </tr>\n",
       "    <tr>\n",
       "      <th>2</th>\n",
       "      <td>14.939811</td>\n",
       "      <td>0.302183</td>\n",
       "      <td>92</td>\n",
       "      <td>0.838855</td>\n",
       "      <td>0.833938</td>\n",
       "    </tr>\n",
       "    <tr>\n",
       "      <th>12</th>\n",
       "      <td>13.502501</td>\n",
       "      <td>0.352974</td>\n",
       "      <td>107</td>\n",
       "      <td>0.898840</td>\n",
       "      <td>0.833905</td>\n",
       "    </tr>\n",
       "    <tr>\n",
       "      <th>14</th>\n",
       "      <td>11.419259</td>\n",
       "      <td>0.470806</td>\n",
       "      <td>82</td>\n",
       "      <td>0.778542</td>\n",
       "      <td>0.833840</td>\n",
       "    </tr>\n",
       "    <tr>\n",
       "      <th>22</th>\n",
       "      <td>12.983025</td>\n",
       "      <td>0.136764</td>\n",
       "      <td>85</td>\n",
       "      <td>0.750176</td>\n",
       "      <td>0.833789</td>\n",
       "    </tr>\n",
       "    <tr>\n",
       "      <th>32</th>\n",
       "      <td>12.095381</td>\n",
       "      <td>0.456365</td>\n",
       "      <td>92</td>\n",
       "      <td>0.894262</td>\n",
       "      <td>0.833554</td>\n",
       "    </tr>\n",
       "    <tr>\n",
       "      <th>31</th>\n",
       "      <td>12.130058</td>\n",
       "      <td>0.380389</td>\n",
       "      <td>101</td>\n",
       "      <td>0.870175</td>\n",
       "      <td>0.833487</td>\n",
       "    </tr>\n",
       "    <tr>\n",
       "      <th>39</th>\n",
       "      <td>12.480122</td>\n",
       "      <td>0.164604</td>\n",
       "      <td>115</td>\n",
       "      <td>0.794614</td>\n",
       "      <td>0.833475</td>\n",
       "    </tr>\n",
       "    <tr>\n",
       "      <th>38</th>\n",
       "      <td>8.761019</td>\n",
       "      <td>0.488042</td>\n",
       "      <td>91</td>\n",
       "      <td>0.729616</td>\n",
       "      <td>0.833339</td>\n",
       "    </tr>\n",
       "    <tr>\n",
       "      <th>19</th>\n",
       "      <td>8.858015</td>\n",
       "      <td>0.425454</td>\n",
       "      <td>100</td>\n",
       "      <td>0.756172</td>\n",
       "      <td>0.833306</td>\n",
       "    </tr>\n",
       "    <tr>\n",
       "      <th>26</th>\n",
       "      <td>12.267903</td>\n",
       "      <td>0.417876</td>\n",
       "      <td>110</td>\n",
       "      <td>0.803606</td>\n",
       "      <td>0.833235</td>\n",
       "    </tr>\n",
       "    <tr>\n",
       "      <th>5</th>\n",
       "      <td>13.321805</td>\n",
       "      <td>0.198585</td>\n",
       "      <td>83</td>\n",
       "      <td>0.882152</td>\n",
       "      <td>0.833195</td>\n",
       "    </tr>\n",
       "    <tr>\n",
       "      <th>20</th>\n",
       "      <td>8.925589</td>\n",
       "      <td>0.274752</td>\n",
       "      <td>85</td>\n",
       "      <td>0.710477</td>\n",
       "      <td>0.833114</td>\n",
       "    </tr>\n",
       "    <tr>\n",
       "      <th>34</th>\n",
       "      <td>13.050260</td>\n",
       "      <td>0.479655</td>\n",
       "      <td>98</td>\n",
       "      <td>0.795794</td>\n",
       "      <td>0.832875</td>\n",
       "    </tr>\n",
       "    <tr>\n",
       "      <th>1</th>\n",
       "      <td>8.372319</td>\n",
       "      <td>0.354936</td>\n",
       "      <td>100</td>\n",
       "      <td>0.862610</td>\n",
       "      <td>0.832664</td>\n",
       "    </tr>\n",
       "    <tr>\n",
       "      <th>21</th>\n",
       "      <td>13.984071</td>\n",
       "      <td>0.094846</td>\n",
       "      <td>113</td>\n",
       "      <td>0.736917</td>\n",
       "      <td>0.832656</td>\n",
       "    </tr>\n",
       "    <tr>\n",
       "      <th>40</th>\n",
       "      <td>11.801314</td>\n",
       "      <td>0.221146</td>\n",
       "      <td>98</td>\n",
       "      <td>0.770074</td>\n",
       "      <td>0.832480</td>\n",
       "    </tr>\n",
       "    <tr>\n",
       "      <th>3</th>\n",
       "      <td>11.851395</td>\n",
       "      <td>0.280516</td>\n",
       "      <td>92</td>\n",
       "      <td>0.789278</td>\n",
       "      <td>0.832398</td>\n",
       "    </tr>\n",
       "    <tr>\n",
       "      <th>29</th>\n",
       "      <td>13.212451</td>\n",
       "      <td>0.019216</td>\n",
       "      <td>104</td>\n",
       "      <td>0.777480</td>\n",
       "      <td>0.826948</td>\n",
       "    </tr>\n",
       "    <tr>\n",
       "      <th>4</th>\n",
       "      <td>10.397588</td>\n",
       "      <td>0.001722</td>\n",
       "      <td>86</td>\n",
       "      <td>0.744865</td>\n",
       "      <td>0.820549</td>\n",
       "    </tr>\n",
       "    <tr>\n",
       "      <th>30</th>\n",
       "      <td>13.128754</td>\n",
       "      <td>0.000477</td>\n",
       "      <td>84</td>\n",
       "      <td>0.884763</td>\n",
       "      <td>0.816812</td>\n",
       "    </tr>\n",
       "  </tbody>\n",
       "</table>\n",
       "</div>"
      ],
      "text/plain": [
       "        alpha  learning_rate  n_estimators  subsample  cv_score\n",
       "9   12.363347       0.185550            95   0.770781  0.836929\n",
       "8    9.026899       0.259688           116   0.722347  0.836577\n",
       "10  10.488842       0.223491           111   0.774856  0.836294\n",
       "42  12.997223       0.052232            83   0.892856  0.835757\n",
       "15  12.803614       0.202766            88   0.765736  0.835728\n",
       "27   8.139936       0.053703            99   0.724030  0.835640\n",
       "48   8.162796       0.420021           110   0.744021  0.835519\n",
       "49  13.668117       0.071461           108   0.707132  0.835156\n",
       "18  12.794239       0.113642            82   0.856207  0.835036\n",
       "17  10.317036       0.199409           107   0.806460  0.834939\n",
       "28  13.697114       0.164191            87   0.845874  0.834918\n",
       "24  12.524646       0.312193           102   0.855795  0.834873\n",
       "44   9.786860       0.055002            84   0.882765  0.834772\n",
       "45  14.548151       0.213575            96   0.716665  0.834771\n",
       "43   9.539755       0.459046           119   0.711220  0.834761\n",
       "16  13.936361       0.399675            89   0.830392  0.834704\n",
       "36  10.146954       0.303826            83   0.773989  0.834628\n",
       "13  14.353391       0.206845           100   0.764956  0.834621\n",
       "25   9.009007       0.489375            95   0.748259  0.834570\n",
       "35  14.105501       0.369804           108   0.810422  0.834511\n",
       "23  12.879211       0.470147            93   0.829458  0.834443\n",
       "0    9.215734       0.042805            81   0.822584  0.834442\n",
       "46   8.642594       0.233809            92   0.837248  0.834379\n",
       "6   11.578908       0.289753            87   0.756996  0.834337\n",
       "47   9.768414       0.171028            80   0.896707  0.834249\n",
       "11  14.154423       0.306713           102   0.884313  0.834193\n",
       "41  12.610555       0.227357           118   0.849560  0.834160\n",
       "7   14.781428       0.034487           105   0.851722  0.834105\n",
       "37   9.315404       0.370010           117   0.712060  0.833999\n",
       "33  14.403029       0.252643           105   0.886129  0.833967\n",
       "2   14.939811       0.302183            92   0.838855  0.833938\n",
       "12  13.502501       0.352974           107   0.898840  0.833905\n",
       "14  11.419259       0.470806            82   0.778542  0.833840\n",
       "22  12.983025       0.136764            85   0.750176  0.833789\n",
       "32  12.095381       0.456365            92   0.894262  0.833554\n",
       "31  12.130058       0.380389           101   0.870175  0.833487\n",
       "39  12.480122       0.164604           115   0.794614  0.833475\n",
       "38   8.761019       0.488042            91   0.729616  0.833339\n",
       "19   8.858015       0.425454           100   0.756172  0.833306\n",
       "26  12.267903       0.417876           110   0.803606  0.833235\n",
       "5   13.321805       0.198585            83   0.882152  0.833195\n",
       "20   8.925589       0.274752            85   0.710477  0.833114\n",
       "34  13.050260       0.479655            98   0.795794  0.832875\n",
       "1    8.372319       0.354936           100   0.862610  0.832664\n",
       "21  13.984071       0.094846           113   0.736917  0.832656\n",
       "40  11.801314       0.221146            98   0.770074  0.832480\n",
       "3   11.851395       0.280516            92   0.789278  0.832398\n",
       "29  13.212451       0.019216           104   0.777480  0.826948\n",
       "4   10.397588       0.001722            86   0.744865  0.820549\n",
       "30  13.128754       0.000477            84   0.884763  0.816812"
      ]
     },
     "execution_count": 117,
     "metadata": {},
     "output_type": "execute_result"
    }
   ],
   "source": [
    "param_df.drop('val_res', axis=1).sort_values('cv_score', ascending=False)"
   ]
  },
  {
   "cell_type": "code",
   "execution_count": 113,
   "metadata": {},
   "outputs": [
    {
     "data": {
      "text/plain": [
       "[<matplotlib.lines.Line2D at 0x7f27aafe9d10>]"
      ]
     },
     "execution_count": 113,
     "metadata": {},
     "output_type": "execute_result"
    },
    {
     "data": {
      "image/png": "[encoded data removed]",
      "text/plain": [
       "<matplotlib.figure.Figure at 0x7f27aa6f9c10>"
      ]
     },
     "metadata": {},
     "output_type": "display_data"
    }
   ],
   "source": [
    "plt.plot(param_df['cv_score'], param_df['alpha'], '.')"
   ]
  },
  {
   "cell_type": "code",
   "execution_count": 118,
   "metadata": {},
   "outputs": [
    {
     "data": {
      "image/png": "[encoded data removed]",
      "text/plain": [
       "<matplotlib.figure.Figure at 0x7f27ab3314d0>"
      ]
     },
     "metadata": {},
     "output_type": "display_data"
    }
   ],
   "source": [
    "importances = c_model.xgb.booster().get_fscore()\n",
    "f_names, f_values = zip(*sorted(importances.items(), key=lambda x: x[1]))\n",
    "\n",
    "st_idx = len(f_names) / 2; end_idx = len(f_names) / 1;\n",
    "\n",
    "fig = plt.figure(figsize=(16, 16))\n",
    "plt.barh(np.arange(len(f_names[st_idx : end_idx])), f_values[st_idx : end_idx],\n",
    "         color=[cm.RdYlGn(i * 3) for i in range(len(f_names[st_idx : end_idx]))])\n",
    "fig.axes[0].set_yticklabels(f_names[st_idx : end_idx])\n",
    "fig.axes[0].set_yticks(np.arange(len(f_names[st_idx : end_idx])) + 0.1)\n",
    "fig.axes[0].set_xlabel('Importance Values')\n",
    "fig.axes[0].set_ylabel('Features')\n",
    "fig.axes[0].set_label('Feature Importances')\n",
    "for i, v in enumerate(f_values[st_idx : end_idx]):\n",
    "    fig.axes[0].text(v + .02, i - 0.1, v)\n",
    "plt.show()"
   ]
  },
  {
   "cell_type": "code",
   "execution_count": 50,
   "metadata": {
    "collapsed": true
   },
   "outputs": [],
   "source": [
    "best_alpha = 8.403863\n",
    "best_noise_std = 0.000695"
   ]
  },
  {
   "cell_type": "code",
   "execution_count": 56,
   "metadata": {
    "collapsed": true
   },
   "outputs": [],
   "source": [
    "## encode all Xy_train\n",
    "## all indices\n",
    "all_idx = Xy_train.index.copy().values\n",
    "np.random.shuffle(all_idx)\n",
    "## outer splits indices\n",
    "outer_splits = np.array_split(all_idx, nfolds)\n",
    "for c_col in binned_columns:\n",
    "    n_col_name = '_'.join([c_col, target_col])\n",
    "    Xy_train[n_col_name] = KFoldTargetEncoding(Xy_train[[c_col, target_col]],\n",
    "                                               outer_splits,\n",
    "                                               c_col,\n",
    "                                               target_col,\n",
    "                                               n_col_name,\n",
    "                                               best_alpha,\n",
    "                                               best_noise_std)\n",
    "    Xy_test[n_col_name] = targetEncoding(Xy_train[[c_col, target_col]],\n",
    "                                         Xy_test[[c_col]],\n",
    "                                         c_col,\n",
    "                                         target_col,\n",
    "                                         best_alpha,\n",
    "                                         best_noise_std)"
   ]
  },
  {
   "cell_type": "code",
   "execution_count": 59,
   "metadata": {
    "collapsed": true
   },
   "outputs": [],
   "source": [
    "c_config = dict(max_depth=5, learning_rate=.075, n_estimators=140, seed=seed,\n",
    "                                 reg_lambda=950, scale_pos_weight=1.15, nthread=4, missing=np.nan,\n",
    "                                 reg_alpha=500, subsample=0.7)"
   ]
  },
  {
   "cell_type": "code",
   "execution_count": 74,
   "metadata": {
    "collapsed": true
   },
   "outputs": [],
   "source": [
    "drop_cols_binned = ['label'] + filter(lambda x: re.match(u'.*_BINNED$', x), Xy_train.columns)\n",
    "drop_cols_binned_target = ['label'] + filter(lambda x: re.match(u'.*_BINNED', x), Xy_train.columns)\n",
    "drop_cols_y = ['label']\n",
    "keep_target = filter(lambda x: re.match(u'.*_label', x), Xy_train.columns)"
   ]
  },
  {
   "cell_type": "code",
   "execution_count": 85,
   "metadata": {
    "collapsed": true
   },
   "outputs": [],
   "source": [
    "train_preds = []\n",
    "test_preds = []\n",
    "\n",
    "## no binned, no target\n",
    "c_model_orig = XGBoostModel(c_config)\n",
    "c_model_orig.train(Xy_train.drop(drop_cols_binned_target, axis=1), Xy_train.label)\n",
    "train_preds.append(c_model_orig.test(Xy_train.drop(drop_cols_binned_target, axis=1)))\n",
    "test_preds.append(c_model_orig.test(Xy_test.drop(drop_cols_binned_target, axis=1)))\n",
    "\n",
    "## no binned\n",
    "c_model_no_binned = XGBoostModel(c_config)\n",
    "c_model_no_binned.train(Xy_train.drop(drop_cols_binned, axis=1), Xy_train.label)\n",
    "train_preds.append(c_model_no_binned.test(Xy_train.drop(drop_cols_binned, axis=1)))\n",
    "test_preds.append(c_model_no_binned.test(Xy_test.drop(drop_cols_binned, axis=1)))\n",
    "\n",
    "## just target\n",
    "c_model_target = XGBoostModel(c_config)\n",
    "c_model_target.train(Xy_train[keep_target], Xy_train.label)\n",
    "train_preds.append(c_model_target.test(Xy_train[keep_target]))\n",
    "test_preds.append(c_model_target.test(Xy_test[keep_target]))\n",
    "\n",
    "## all\n",
    "c_model_all = XGBoostModel(c_config)\n",
    "c_model_all.train(Xy_train.drop(drop_cols_y, axis=1), Xy_train.label)\n",
    "train_preds.append(c_model_all.test(Xy_train.drop(drop_cols_y, axis=1)))\n",
    "test_preds.append(c_model_all.test(Xy_test.drop(drop_cols_y, axis=1)))"
   ]
  },
  {
   "cell_type": "code",
   "execution_count": 86,
   "metadata": {
    "collapsed": true
   },
   "outputs": [],
   "source": [
    "evaluate(test_preds, Xy_test.label, \n",
    "         './BB', file_prefix='test_ens_enc', model_names=['orig', 'no_binned', 'target', 'all'])\n",
    "evaluate(train_preds, Xy_train.label, \n",
    "         './BB', file_prefix='train_ens_enc', model_names=['orig', 'no_binned', 'target', 'all'])"
   ]
  },
  {
   "cell_type": "markdown",
   "metadata": {},
   "source": [
    "### FC"
   ]
  },
  {
   "cell_type": "code",
   "execution_count": 8,
   "metadata": {
    "collapsed": true
   },
   "outputs": [],
   "source": [
    "file_path = '../../../../../../../Documents/projects/new_data/BB/CD_ALL_2017-07-06.csv'\n",
    "df_usual = pd.read_csv(file_path, sep='>', nrows=20)"
   ]
  },
  {
   "cell_type": "code",
   "execution_count": 9,
   "metadata": {
    "collapsed": true
   },
   "outputs": [],
   "source": [
    "ignore_cols = [\n",
    " 'CLIENT_ID',\n",
    " 'CONTRACT_REF',\n",
    "# 'CONTROL_GROUP_FLG',\n",
    " 'BANK',\n",
    " 'SCENARIO_NAME_UNI',\n",
    " 'START_DATE',\n",
    " 'label',\n",
    "#  'IS_LOYALTY_AUTO',\n",
    "#  'IS_LOYALTY_BEAUTY',\n",
    "#  'IS_LOYALTY_ONLINE',\n",
    "#  'IS_LOYALTY_TRAVEL',\n",
    "#  'IS_LOYALTY_WEEKEND',\n",
    "  ]\n",
    "\n",
    "ignore_cols_binning = [\n",
    " 'CLIENT_ID',\n",
    " 'CONTRACT_REF',\n",
    " 'CONTROL_GROUP_FLG',\n",
    " 'BANK',\n",
    " 'SCENARIO_NAME_UNI',\n",
    " 'START_DATE',\n",
    " 'label',\n",
    " 'IS_LOYALTY_AUTO',\n",
    " 'IS_LOYALTY_BEAUTY',\n",
    " 'IS_LOYALTY_ONLINE',\n",
    " 'IS_LOYALTY_TRAVEL',\n",
    " 'IS_LOYALTY_WEEKEND',\n",
    "  ]\n",
    "\n",
    "drop_cols = [ \n",
    " 'CLIENT_ID',\n",
    " 'CONTRACT_REF',\n",
    " 'BANK',\n",
    " 'SCENARIO_NAME_UNI',\n",
    " 'START_DATE',\n",
    " 'LAST_CARD_STATUS_DT',\n",
    " 'LAST_CONTR_STATUS_DT']\n",
    "\n",
    "scaler = 'standard'\n",
    "dummy_config = (15, 0.9)\n",
    "fill_na = True\n",
    "n_bins = 7\n",
    "seed = 42\n",
    "test_size = 0.15"
   ]
  },
  {
   "cell_type": "code",
   "execution_count": 10,
   "metadata": {
    "collapsed": true,
    "scrolled": false
   },
   "outputs": [],
   "source": [
    "Xy_train, Xy_test, _, _, _  = create_sets(path_to_file=file_path,\n",
    "                                          sep='>',\n",
    "                                          ignore_cols_dummy=ignore_cols,\n",
    "                                          ignore_cols_norm=ignore_cols + ['CONTROL_GROUP_FLG'],\n",
    "                                          ignore_cols_binning=ignore_cols_binning,\n",
    "                                          drop_cols=drop_cols,\n",
    "                                          dummy_config=dummy_config,\n",
    "                                          fill_na=fill_na,\n",
    "                                          scaler=scaler,\n",
    "                                          n_bins=n_bins,\n",
    "                                          transform_dict=None,\n",
    "                                          normalise_dict=None,\n",
    "                                          binning_dict=None,\n",
    "                                          test_size=test_size,\n",
    "                                          seed=seed,\n",
    "                                          verbose=False)"
   ]
  },
  {
   "cell_type": "code",
   "execution_count": 14,
   "metadata": {
    "collapsed": true
   },
   "outputs": [],
   "source": [
    "binned_columns = filter(lambda x: 'BINNED' in x, Xy_train.columns)"
   ]
  },
  {
   "cell_type": "code",
   "execution_count": null,
   "metadata": {
    "scrolled": false
   },
   "outputs": [
    {
     "name": "stderr",
     "output_type": "stream",
     "text": [
      "\r",
      "  0%|          | 0/500 [00:00<?, ?it/s]"
     ]
    },
    {
     "name": "stdout",
     "output_type": "stream",
     "text": [
      "Loss after 5000 iter. : 0.3418\n",
      "Loss after 10000 iter. : 0.4339\n",
      "Loss after 5000 iter. : 0.5565\n",
      "Loss after 10000 iter. : 0.2913\n",
      "Loss after 5000 iter. : 0.4509\n",
      "Loss after 10000 iter. : 0.4392\n",
      "Loss after 5000 iter. : 0.4330\n",
      "Loss after 10000 iter. : 0.2915\n",
      "Loss after 5000 iter. : 0.5860\n"
     ]
    },
    {
     "name": "stderr",
     "output_type": "stream",
     "text": [
      "\r",
      "  0%|          | 1/500 [08:01<66:41:50, 481.18s/it]"
     ]
    },
    {
     "name": "stdout",
     "output_type": "stream",
     "text": [
      "Loss after 10000 iter. : 0.3621\n",
      "Loss after 5000 iter. : 0.4896\n",
      "Loss after 10000 iter. : 0.4074\n",
      "Loss after 5000 iter. : 0.3991\n",
      "Loss after 10000 iter. : 0.2012\n",
      "Loss after 5000 iter. : 0.5252\n",
      "Loss after 10000 iter. : 0.5618\n",
      "Loss after 5000 iter. : 0.3319\n",
      "Loss after 10000 iter. : 0.4514\n",
      "Loss after 5000 iter. : 0.3947\n"
     ]
    },
    {
     "name": "stderr",
     "output_type": "stream",
     "text": [
      "\r",
      "  0%|          | 2/500 [11:00<54:03:13, 390.75s/it]"
     ]
    },
    {
     "name": "stdout",
     "output_type": "stream",
     "text": [
      "Loss after 10000 iter. : 0.3827\n",
      "Loss after 5000 iter. : 0.3397\n",
      "Loss after 10000 iter. : 0.5094\n",
      "Loss after 5000 iter. : 0.5746\n",
      "Loss after 10000 iter. : 0.4331\n",
      "Loss after 5000 iter. : 0.3433\n",
      "Loss after 10000 iter. : 0.4459\n",
      "Loss after 5000 iter. : 0.3733\n",
      "Loss after 10000 iter. : 0.6015\n",
      "Loss after 5000 iter. : 0.5106\n"
     ]
    },
    {
     "name": "stderr",
     "output_type": "stream",
     "text": [
      "\r",
      "  1%|          | 3/500 [14:59<47:39:22, 345.20s/it]"
     ]
    },
    {
     "name": "stdout",
     "output_type": "stream",
     "text": [
      "Loss after 10000 iter. : 0.5261\n",
      "Loss after 5000 iter. : 0.5303\n",
      "Loss after 10000 iter. : 0.5210\n",
      "Loss after 5000 iter. : 0.4924\n",
      "Loss after 10000 iter. : 0.4889\n",
      "Loss after 5000 iter. : 0.3842\n",
      "Loss after 10000 iter. : 0.4066\n",
      "Loss after 5000 iter. : 0.3692\n",
      "Loss after 10000 iter. : 0.4629\n",
      "Loss after 5000 iter. : 0.4044\n"
     ]
    },
    {
     "name": "stderr",
     "output_type": "stream",
     "text": [
      "\r",
      "  1%|          | 4/500 [20:12<46:13:41, 335.53s/it]"
     ]
    },
    {
     "name": "stdout",
     "output_type": "stream",
     "text": [
      "Loss after 10000 iter. : 0.4339\n",
      "Loss after 5000 iter. : 0.3608\n",
      "Loss after 10000 iter. : 0.2924\n",
      "Loss after 5000 iter. : 0.3527\n",
      "Loss after 10000 iter. : 0.2511\n",
      "Loss after 5000 iter. : 0.4605\n",
      "Loss after 10000 iter. : 0.4394\n",
      "Loss after 5000 iter. : 0.2966\n",
      "Loss after 10000 iter. : 0.3603\n",
      "Loss after 5000 iter. : 0.2681\n"
     ]
    },
    {
     "name": "stderr",
     "output_type": "stream",
     "text": [
      "\r",
      "  1%|          | 5/500 [28:57<53:56:01, 392.25s/it]"
     ]
    },
    {
     "name": "stdout",
     "output_type": "stream",
     "text": [
      "Loss after 10000 iter. : 0.2852\n",
      "Loss after 5000 iter. : 0.3279\n",
      "Loss after 10000 iter. : 0.3939\n",
      "Loss after 5000 iter. : 0.3241\n",
      "Loss after 10000 iter. : 0.2382\n",
      "Loss after 5000 iter. : 0.4275\n",
      "Loss after 10000 iter. : 0.4705\n",
      "Loss after 5000 iter. : 0.7597\n",
      "Loss after 10000 iter. : 0.4156\n",
      "Loss after 5000 iter. : 0.3325\n"
     ]
    },
    {
     "name": "stderr",
     "output_type": "stream",
     "text": [
      "\r",
      "  1%|          | 6/500 [35:15<53:13:45, 387.91s/it]"
     ]
    },
    {
     "name": "stdout",
     "output_type": "stream",
     "text": [
      "Loss after 10000 iter. : 0.2913\n",
      "Loss after 5000 iter. : 0.2994\n",
      "Loss after 10000 iter. : 0.2108\n",
      "Loss after 5000 iter. : 0.4760\n",
      "Loss after 10000 iter. : 0.3011\n",
      "Loss after 5000 iter. : 0.5816\n",
      "Loss after 10000 iter. : 0.3325\n",
      "Loss after 5000 iter. : 0.3973\n",
      "Loss after 10000 iter. : 0.5417\n",
      "Loss after 5000 iter. : 0.3723\n"
     ]
    },
    {
     "name": "stderr",
     "output_type": "stream",
     "text": [
      "\r",
      "  1%|▏         | 7/500 [40:05<49:07:54, 358.77s/it]"
     ]
    },
    {
     "name": "stdout",
     "output_type": "stream",
     "text": [
      "Loss after 10000 iter. : 0.4288\n",
      "Loss after 5000 iter. : 0.4103\n",
      "Loss after 10000 iter. : 0.4303\n",
      "Loss after 5000 iter. : 0.4186\n",
      "Loss after 10000 iter. : 0.3774\n",
      "Loss after 5000 iter. : 0.4790\n",
      "Loss after 10000 iter. : 0.3637\n",
      "Loss after 5000 iter. : 0.4694\n",
      "Loss after 10000 iter. : 0.4436\n",
      "Loss after 5000 iter. : 0.3463\n"
     ]
    },
    {
     "name": "stderr",
     "output_type": "stream",
     "text": [
      "\r",
      "  2%|▏         | 8/500 [49:08<56:33:44, 413.87s/it]"
     ]
    },
    {
     "name": "stdout",
     "output_type": "stream",
     "text": [
      "Loss after 10000 iter. : 0.4483\n",
      "Loss after 5000 iter. : 0.3852\n",
      "Loss after 10000 iter. : 0.4105\n",
      "Loss after 5000 iter. : 0.4231\n",
      "Loss after 10000 iter. : 0.3354\n",
      "Loss after 5000 iter. : 0.3201\n",
      "Loss after 10000 iter. : 0.4111\n",
      "Loss after 5000 iter. : 0.3554\n",
      "Loss after 10000 iter. : 0.3725\n",
      "Loss after 5000 iter. : 0.4192\n"
     ]
    },
    {
     "name": "stderr",
     "output_type": "stream",
     "text": [
      "\r",
      "  2%|▏         | 9/500 [55:21<54:46:42, 401.63s/it]"
     ]
    },
    {
     "name": "stdout",
     "output_type": "stream",
     "text": [
      "Loss after 10000 iter. : 0.3705\n",
      "Loss after 5000 iter. : 0.2854\n",
      "Loss after 10000 iter. : 0.2505\n",
      "Loss after 5000 iter. : 0.3501\n",
      "Loss after 10000 iter. : 0.5125\n",
      "Loss after 5000 iter. : 0.4073\n",
      "Loss after 10000 iter. : 0.3243\n",
      "Loss after 5000 iter. : 0.3483\n",
      "Loss after 10000 iter. : 0.3414\n",
      "Loss after 5000 iter. : 0.3766\n"
     ]
    },
    {
     "name": "stderr",
     "output_type": "stream",
     "text": [
      "\r",
      "  2%|▏         | 10/500 [1:02:42<56:17:29, 413.57s/it]"
     ]
    },
    {
     "name": "stdout",
     "output_type": "stream",
     "text": [
      "Loss after 10000 iter. : 0.6004\n",
      "Loss after 5000 iter. : 0.4932\n",
      "Loss after 10000 iter. : 0.5474\n",
      "Loss after 5000 iter. : 0.4006\n",
      "Loss after 10000 iter. : 0.5514\n",
      "Loss after 5000 iter. : 0.5607\n",
      "Loss after 10000 iter. : 0.5354\n",
      "Loss after 5000 iter. : 0.5480\n",
      "Loss after 10000 iter. : 0.4901\n",
      "Loss after 5000 iter. : 0.4574\n"
     ]
    },
    {
     "name": "stderr",
     "output_type": "stream",
     "text": [
      "\r",
      "  2%|▏         | 11/500 [1:08:33<53:35:35, 394.55s/it]"
     ]
    },
    {
     "name": "stdout",
     "output_type": "stream",
     "text": [
      "Loss after 10000 iter. : 0.3647\n",
      "Loss after 5000 iter. : 0.3573\n",
      "Loss after 10000 iter. : 0.3612\n",
      "Loss after 5000 iter. : 0.4485\n",
      "Loss after 10000 iter. : 0.4536\n",
      "Loss after 5000 iter. : 0.4053\n",
      "Loss after 10000 iter. : 0.4282\n",
      "Loss after 5000 iter. : 0.4070\n",
      "Loss after 10000 iter. : 0.3561\n",
      "Loss after 5000 iter. : 0.4632\n"
     ]
    },
    {
     "name": "stderr",
     "output_type": "stream",
     "text": [
      "\r",
      "  2%|▏         | 12/500 [1:13:55<50:32:11, 372.81s/it]"
     ]
    },
    {
     "name": "stdout",
     "output_type": "stream",
     "text": [
      "Loss after 10000 iter. : 0.3284\n",
      "Loss after 5000 iter. : 0.5033\n",
      "Loss after 10000 iter. : 0.4802\n",
      "Loss after 5000 iter. : 0.3839\n",
      "Loss after 10000 iter. : 0.2786\n",
      "Loss after 5000 iter. : 0.4479\n",
      "Loss after 10000 iter. : 0.3623\n",
      "Loss after 5000 iter. : 0.3776\n",
      "Loss after 10000 iter. : 0.3417\n",
      "Loss after 5000 iter. : 0.3996\n"
     ]
    },
    {
     "name": "stderr",
     "output_type": "stream",
     "text": [
      "\r",
      "  3%|▎         | 13/500 [1:22:27<56:05:28, 414.64s/it]"
     ]
    },
    {
     "name": "stdout",
     "output_type": "stream",
     "text": [
      "Loss after 10000 iter. : 0.3982\n",
      "Loss after 5000 iter. : 0.4038\n",
      "Loss after 10000 iter. : 0.4601\n",
      "Loss after 5000 iter. : 0.3887\n",
      "Loss after 10000 iter. : 0.3700\n",
      "Loss after 5000 iter. : 0.4382\n",
      "Loss after 10000 iter. : 0.4947\n",
      "Loss after 5000 iter. : 0.3062\n",
      "Loss after 10000 iter. : 0.4571\n",
      "Loss after 5000 iter. : 0.5100\n"
     ]
    },
    {
     "name": "stderr",
     "output_type": "stream",
     "text": [
      "\r",
      "  3%|▎         | 14/500 [1:29:27<56:11:21, 416.22s/it]"
     ]
    },
    {
     "name": "stdout",
     "output_type": "stream",
     "text": [
      "Loss after 10000 iter. : 0.3225\n",
      "Loss after 5000 iter. : 0.5801\n",
      "Loss after 10000 iter. : 0.3748\n",
      "Loss after 5000 iter. : 0.4090\n",
      "Loss after 10000 iter. : 0.4617\n",
      "Loss after 5000 iter. : 0.3662\n",
      "Loss after 10000 iter. : 0.5822\n",
      "Loss after 5000 iter. : 0.3772\n",
      "Loss after 10000 iter. : 0.4724\n",
      "Loss after 5000 iter. : 0.4682\n"
     ]
    },
    {
     "name": "stderr",
     "output_type": "stream",
     "text": [
      "\r",
      "  3%|▎         | 15/500 [1:36:02<55:14:28, 410.04s/it]"
     ]
    },
    {
     "name": "stdout",
     "output_type": "stream",
     "text": [
      "Loss after 10000 iter. : 0.4576\n",
      "Loss after 5000 iter. : 0.4232\n",
      "Loss after 10000 iter. : 0.2615\n",
      "Loss after 5000 iter. : 0.4110\n",
      "Loss after 10000 iter. : 0.4692\n",
      "Loss after 5000 iter. : 0.3600\n",
      "Loss after 10000 iter. : 0.5192\n",
      "Loss after 5000 iter. : 0.6212\n",
      "Loss after 10000 iter. : 0.5134\n",
      "Loss after 5000 iter. : 0.4523\n"
     ]
    },
    {
     "name": "stderr",
     "output_type": "stream",
     "text": [
      "\r",
      "  3%|▎         | 16/500 [1:44:31<59:06:41, 439.67s/it]"
     ]
    },
    {
     "name": "stdout",
     "output_type": "stream",
     "text": [
      "Loss after 10000 iter. : 0.3806\n",
      "Loss after 5000 iter. : 0.4208\n",
      "Loss after 10000 iter. : 0.3595\n",
      "Loss after 5000 iter. : 0.4201\n",
      "Loss after 10000 iter. : 0.4177\n",
      "Loss after 5000 iter. : 0.3380\n",
      "Loss after 10000 iter. : 0.4075\n",
      "Loss after 5000 iter. : 0.4280\n",
      "Loss after 10000 iter. : 0.4249\n",
      "Loss after 5000 iter. : 0.5399\n"
     ]
    },
    {
     "name": "stderr",
     "output_type": "stream",
     "text": [
      "\r",
      "  3%|▎         | 17/500 [1:55:31<67:51:23, 505.76s/it]"
     ]
    },
    {
     "name": "stdout",
     "output_type": "stream",
     "text": [
      "Loss after 10000 iter. : 0.4391\n",
      "Loss after 5000 iter. : 0.4143\n",
      "Loss after 10000 iter. : 0.3469\n",
      "Loss after 5000 iter. : 0.3652\n",
      "Loss after 10000 iter. : 0.4137\n",
      "Loss after 5000 iter. : 0.3259\n",
      "Loss after 10000 iter. : 0.3521\n",
      "Loss after 5000 iter. : 0.3677\n",
      "Loss after 10000 iter. : 0.4797\n",
      "Loss after 5000 iter. : 0.3044\n"
     ]
    },
    {
     "name": "stderr",
     "output_type": "stream",
     "text": [
      "\r",
      "  4%|▎         | 18/500 [2:02:47<64:54:17, 484.77s/it]"
     ]
    },
    {
     "name": "stdout",
     "output_type": "stream",
     "text": [
      "Loss after 10000 iter. : 0.3157\n",
      "Loss after 5000 iter. : 0.5619\n",
      "Loss after 10000 iter. : 0.3720\n",
      "Loss after 5000 iter. : 0.4566\n",
      "Loss after 10000 iter. : 0.4307\n",
      "Loss after 5000 iter. : 0.4164\n",
      "Loss after 10000 iter. : 0.3992\n",
      "Loss after 5000 iter. : 0.3398\n",
      "Loss after 10000 iter. : 0.4593\n",
      "Loss after 5000 iter. : 0.2933\n"
     ]
    },
    {
     "name": "stderr",
     "output_type": "stream",
     "text": [
      "\r",
      "  4%|▍         | 19/500 [2:07:48<57:23:12, 429.51s/it]"
     ]
    },
    {
     "name": "stdout",
     "output_type": "stream",
     "text": [
      "Loss after 10000 iter. : 0.4521\n",
      "Loss after 5000 iter. : 0.4997\n",
      "Loss after 10000 iter. : 0.4534\n",
      "Loss after 5000 iter. : 0.4604\n",
      "Loss after 10000 iter. : 0.4287\n",
      "Loss after 5000 iter. : 0.4066\n",
      "Loss after 10000 iter. : 0.4833\n",
      "Loss after 5000 iter. : 0.4679\n",
      "Loss after 10000 iter. : 0.3475\n",
      "Loss after 5000 iter. : 0.4305\n"
     ]
    },
    {
     "name": "stderr",
     "output_type": "stream",
     "text": [
      "\r",
      "  4%|▍         | 20/500 [2:15:07<57:39:17, 432.41s/it]"
     ]
    },
    {
     "name": "stdout",
     "output_type": "stream",
     "text": [
      "Loss after 10000 iter. : 0.4266\n",
      "Loss after 5000 iter. : 0.4249\n",
      "Loss after 10000 iter. : 0.3455\n",
      "Loss after 5000 iter. : 0.3896\n",
      "Loss after 10000 iter. : 0.3551\n",
      "Loss after 5000 iter. : 0.4173\n",
      "Loss after 10000 iter. : 0.4644\n",
      "Loss after 5000 iter. : 0.4000\n",
      "Loss after 10000 iter. : 0.3345\n",
      "Loss after 5000 iter. : 0.4611\n"
     ]
    },
    {
     "name": "stderr",
     "output_type": "stream",
     "text": [
      "\r",
      "  4%|▍         | 21/500 [2:23:02<59:14:39, 445.26s/it]"
     ]
    },
    {
     "name": "stdout",
     "output_type": "stream",
     "text": [
      "Loss after 10000 iter. : 0.3777\n",
      "Loss after 5000 iter. : 0.3752\n",
      "Loss after 10000 iter. : 0.3651\n",
      "Loss after 5000 iter. : 0.3913\n",
      "Loss after 10000 iter. : 0.4317\n",
      "Loss after 5000 iter. : 0.3157\n",
      "Loss after 10000 iter. : 0.3398\n",
      "Loss after 5000 iter. : 0.3526\n",
      "Loss after 10000 iter. : 0.3231\n",
      "Loss after 5000 iter. : 0.4356\n"
     ]
    },
    {
     "name": "stderr",
     "output_type": "stream",
     "text": [
      "\r",
      "  4%|▍         | 22/500 [2:28:24<54:12:08, 408.22s/it]"
     ]
    },
    {
     "name": "stdout",
     "output_type": "stream",
     "text": [
      "Loss after 10000 iter. : 0.3173\n",
      "Loss after 5000 iter. : 0.6812\n",
      "Loss after 10000 iter. : 0.3307\n",
      "Loss after 5000 iter. : 0.3543\n",
      "Loss after 10000 iter. : 0.4103\n",
      "Loss after 5000 iter. : 0.6028\n",
      "Loss after 10000 iter. : 0.6188\n",
      "Loss after 5000 iter. : 0.3587\n",
      "Loss after 10000 iter. : 0.3702\n",
      "Loss after 5000 iter. : 0.3943\n"
     ]
    },
    {
     "name": "stderr",
     "output_type": "stream",
     "text": [
      "\r",
      "  5%|▍         | 23/500 [2:31:54<46:12:17, 348.72s/it]"
     ]
    },
    {
     "name": "stdout",
     "output_type": "stream",
     "text": [
      "Loss after 10000 iter. : 0.4379\n",
      "Loss after 5000 iter. : 0.3890\n",
      "Loss after 10000 iter. : 0.4599\n",
      "Loss after 5000 iter. : 0.5008\n",
      "Loss after 10000 iter. : 0.4566\n",
      "Loss after 5000 iter. : 0.3829\n",
      "Loss after 10000 iter. : 0.3093\n",
      "Loss after 5000 iter. : 0.4722\n",
      "Loss after 10000 iter. : 0.4697\n",
      "Loss after 5000 iter. : 0.4100\n"
     ]
    },
    {
     "name": "stderr",
     "output_type": "stream",
     "text": [
      "\r",
      "  5%|▍         | 24/500 [2:42:11<56:45:19, 429.24s/it]"
     ]
    },
    {
     "name": "stdout",
     "output_type": "stream",
     "text": [
      "Loss after 10000 iter. : 0.3172\n",
      "Loss after 5000 iter. : 0.4039\n",
      "Loss after 10000 iter. : 0.5037\n",
      "Loss after 5000 iter. : 0.3842\n",
      "Loss after 10000 iter. : 0.2434\n",
      "Loss after 5000 iter. : 0.4836\n",
      "Loss after 10000 iter. : 0.4873\n",
      "Loss after 5000 iter. : 0.4330\n",
      "Loss after 10000 iter. : 0.4509\n",
      "Loss after 5000 iter. : 0.3519\n"
     ]
    },
    {
     "name": "stderr",
     "output_type": "stream",
     "text": [
      "\r",
      "  5%|▌         | 25/500 [2:48:11<53:53:26, 408.43s/it]"
     ]
    },
    {
     "name": "stdout",
     "output_type": "stream",
     "text": [
      "Loss after 10000 iter. : 0.3973\n",
      "Loss after 5000 iter. : 0.4642\n",
      "Loss after 10000 iter. : 0.3621\n",
      "Loss after 5000 iter. : 0.4603\n",
      "Loss after 10000 iter. : 0.4592\n",
      "Loss after 5000 iter. : 0.4497\n",
      "Loss after 10000 iter. : 0.4235\n",
      "Loss after 5000 iter. : 0.3689\n",
      "Loss after 10000 iter. : 0.4861\n",
      "Loss after 5000 iter. : 0.3886\n"
     ]
    },
    {
     "name": "stderr",
     "output_type": "stream",
     "text": [
      "\r",
      "  5%|▌         | 26/500 [2:58:11<61:21:13, 465.98s/it]"
     ]
    },
    {
     "name": "stdout",
     "output_type": "stream",
     "text": [
      "Loss after 10000 iter. : 0.4040\n",
      "Loss after 5000 iter. : 0.2929\n",
      "Loss after 10000 iter. : 0.3073\n",
      "Loss after 5000 iter. : 0.4055\n",
      "Loss after 10000 iter. : 0.3994\n",
      "Loss after 5000 iter. : 0.2267\n",
      "Loss after 10000 iter. : 0.2529\n",
      "Loss after 5000 iter. : 0.3568\n",
      "Loss after 10000 iter. : 0.2261\n",
      "Loss after 5000 iter. : 0.2476\n"
     ]
    },
    {
     "name": "stderr",
     "output_type": "stream",
     "text": [
      "\r",
      "  5%|▌         | 27/500 [3:05:22<59:51:10, 455.54s/it]"
     ]
    },
    {
     "name": "stdout",
     "output_type": "stream",
     "text": [
      "Loss after 10000 iter. : 0.2698\n",
      "Loss after 5000 iter. : 0.3901\n",
      "Loss after 10000 iter. : 0.3923\n",
      "Loss after 5000 iter. : 0.4142\n",
      "Loss after 10000 iter. : 0.4976\n",
      "Loss after 5000 iter. : 0.4181\n",
      "Loss after 10000 iter. : 0.4893\n",
      "Loss after 5000 iter. : 0.3544\n",
      "Loss after 10000 iter. : 0.4389\n",
      "Loss after 5000 iter. : 0.4662\n"
     ]
    },
    {
     "name": "stderr",
     "output_type": "stream",
     "text": [
      "\r",
      "  6%|▌         | 28/500 [3:13:31<61:03:04, 465.65s/it]"
     ]
    },
    {
     "name": "stdout",
     "output_type": "stream",
     "text": [
      "Loss after 10000 iter. : 0.4276\n",
      "Loss after 5000 iter. : 0.3453\n",
      "Loss after 10000 iter. : 0.3832\n",
      "Loss after 5000 iter. : 0.3789\n",
      "Loss after 10000 iter. : 0.3235\n",
      "Loss after 5000 iter. : 0.4459\n",
      "Loss after 10000 iter. : 0.3144\n",
      "Loss after 5000 iter. : 0.5768\n",
      "Loss after 10000 iter. : 0.4355\n",
      "Loss after 5000 iter. : 0.3864\n"
     ]
    },
    {
     "name": "stderr",
     "output_type": "stream",
     "text": [
      "\r",
      "  6%|▌         | 29/500 [3:20:00<57:53:47, 442.52s/it]"
     ]
    },
    {
     "name": "stdout",
     "output_type": "stream",
     "text": [
      "Loss after 10000 iter. : 0.4764\n",
      "Loss after 5000 iter. : 0.3744\n",
      "Loss after 10000 iter. : 0.3249\n",
      "Loss after 5000 iter. : 0.4325\n",
      "Loss after 10000 iter. : 0.4077\n",
      "Loss after 5000 iter. : 0.3951\n",
      "Loss after 10000 iter. : 0.5370\n",
      "Loss after 5000 iter. : 0.2861\n",
      "Loss after 10000 iter. : 0.5635\n",
      "Loss after 5000 iter. : 0.4597\n"
     ]
    },
    {
     "name": "stderr",
     "output_type": "stream",
     "text": [
      "\r",
      "  6%|▌         | 30/500 [3:25:28<53:18:05, 408.27s/it]"
     ]
    },
    {
     "name": "stdout",
     "output_type": "stream",
     "text": [
      "Loss after 10000 iter. : 0.4458\n",
      "Loss after 5000 iter. : 0.3722\n",
      "Loss after 10000 iter. : 0.4584\n",
      "Loss after 5000 iter. : 0.4225\n",
      "Loss after 10000 iter. : 0.4658\n",
      "Loss after 5000 iter. : 0.3756\n",
      "Loss after 10000 iter. : 0.4874\n",
      "Loss after 5000 iter. : 0.4386\n",
      "Loss after 10000 iter. : 0.4529\n",
      "Loss after 5000 iter. : 0.4372\n"
     ]
    },
    {
     "name": "stderr",
     "output_type": "stream",
     "text": [
      "\r",
      "  6%|▌         | 31/500 [3:32:22<53:24:07, 409.91s/it]"
     ]
    },
    {
     "name": "stdout",
     "output_type": "stream",
     "text": [
      "Loss after 10000 iter. : 0.3839\n",
      "Loss after 5000 iter. : 0.3727\n",
      "Loss after 10000 iter. : 0.3157\n",
      "Loss after 5000 iter. : 0.4532\n",
      "Loss after 10000 iter. : 0.3656\n",
      "Loss after 5000 iter. : 0.4507\n",
      "Loss after 10000 iter. : 0.3023\n",
      "Loss after 5000 iter. : 0.3784\n",
      "Loss after 10000 iter. : 0.3321\n",
      "Loss after 5000 iter. : 0.4784\n"
     ]
    },
    {
     "name": "stderr",
     "output_type": "stream",
     "text": [
      "\r",
      "  6%|▋         | 32/500 [3:42:20<60:37:57, 466.41s/it]"
     ]
    },
    {
     "name": "stdout",
     "output_type": "stream",
     "text": [
      "Loss after 10000 iter. : 0.3287\n",
      "Loss after 5000 iter. : 0.4510\n",
      "Loss after 10000 iter. : 0.4692\n",
      "Loss after 5000 iter. : 0.4000\n",
      "Loss after 10000 iter. : 0.3967\n",
      "Loss after 5000 iter. : 0.3646\n",
      "Loss after 10000 iter. : 0.3685\n",
      "Loss after 5000 iter. : 0.4446\n",
      "Loss after 10000 iter. : 0.3612\n",
      "Loss after 5000 iter. : 0.4183\n"
     ]
    },
    {
     "name": "stderr",
     "output_type": "stream",
     "text": [
      "\r",
      "  7%|▋         | 33/500 [3:53:34<68:34:13, 528.59s/it]"
     ]
    },
    {
     "name": "stdout",
     "output_type": "stream",
     "text": [
      "Loss after 10000 iter. : 0.4214\n",
      "Loss after 5000 iter. : 0.3576\n",
      "Loss after 10000 iter. : 0.5600\n",
      "Loss after 5000 iter. : 0.5105\n",
      "Loss after 10000 iter. : 0.3376\n",
      "Loss after 5000 iter. : 0.4015\n",
      "Loss after 10000 iter. : 0.3518\n",
      "Loss after 5000 iter. : 0.5973\n",
      "Loss after 10000 iter. : 0.3369\n",
      "Loss after 5000 iter. : 0.4754\n"
     ]
    },
    {
     "name": "stderr",
     "output_type": "stream",
     "text": [
      "\r",
      "  7%|▋         | 34/500 [4:00:10<63:16:44, 488.85s/it]"
     ]
    },
    {
     "name": "stdout",
     "output_type": "stream",
     "text": [
      "Loss after 10000 iter. : 0.4741\n",
      "Loss after 5000 iter. : 0.3851\n",
      "Loss after 10000 iter. : 0.3792\n",
      "Loss after 5000 iter. : 0.5572\n",
      "Loss after 10000 iter. : 0.3901\n",
      "Loss after 5000 iter. : 0.2595\n",
      "Loss after 10000 iter. : 0.3719\n",
      "Loss after 5000 iter. : 0.4759\n",
      "Loss after 10000 iter. : 0.3894\n",
      "Loss after 5000 iter. : 0.4442\n"
     ]
    },
    {
     "name": "stderr",
     "output_type": "stream",
     "text": [
      "\r",
      "  7%|▋         | 35/500 [4:07:26<61:06:24, 473.09s/it]"
     ]
    },
    {
     "name": "stdout",
     "output_type": "stream",
     "text": [
      "Loss after 10000 iter. : 0.4166\n",
      "Loss after 5000 iter. : 0.4504\n",
      "Loss after 10000 iter. : 0.3313\n",
      "Loss after 5000 iter. : 0.4089\n",
      "Loss after 10000 iter. : 0.3576\n",
      "Loss after 5000 iter. : 0.3672\n",
      "Loss after 10000 iter. : 0.4196\n",
      "Loss after 5000 iter. : 0.4789\n",
      "Loss after 10000 iter. : 0.4224\n",
      "Loss after 5000 iter. : 0.3329\n"
     ]
    },
    {
     "name": "stderr",
     "output_type": "stream",
     "text": [
      "\r",
      "  7%|▋         | 36/500 [4:16:22<63:24:45, 492.00s/it]"
     ]
    },
    {
     "name": "stdout",
     "output_type": "stream",
     "text": [
      "Loss after 10000 iter. : 0.4135\n",
      "Loss after 5000 iter. : 0.4161\n",
      "Loss after 10000 iter. : 0.4811\n",
      "Loss after 5000 iter. : 0.4154\n",
      "Loss after 10000 iter. : 0.3454\n",
      "Loss after 5000 iter. : 0.3457\n",
      "Loss after 10000 iter. : 0.3544\n",
      "Loss after 5000 iter. : 0.5555\n",
      "Loss after 10000 iter. : 0.3222\n",
      "Loss after 5000 iter. : 0.5742\n"
     ]
    },
    {
     "name": "stderr",
     "output_type": "stream",
     "text": [
      "\r",
      "  7%|▋         | 37/500 [4:24:49<63:49:53, 496.31s/it]"
     ]
    },
    {
     "name": "stdout",
     "output_type": "stream",
     "text": [
      "Loss after 10000 iter. : 0.4242\n",
      "Loss after 5000 iter. : 0.4571\n",
      "Loss after 10000 iter. : 0.3872\n",
      "Loss after 5000 iter. : 0.4112\n",
      "Loss after 10000 iter. : 0.4242\n",
      "Loss after 5000 iter. : 0.4529\n",
      "Loss after 10000 iter. : 0.3973\n",
      "Loss after 5000 iter. : 0.2812\n",
      "Loss after 10000 iter. : 0.2984\n",
      "Loss after 5000 iter. : 0.3943\n"
     ]
    },
    {
     "name": "stderr",
     "output_type": "stream",
     "text": [
      "\r",
      "  8%|▊         | 38/500 [4:29:13<54:45:15, 426.66s/it]"
     ]
    },
    {
     "name": "stdout",
     "output_type": "stream",
     "text": [
      "Loss after 10000 iter. : 0.4607\n",
      "Loss after 5000 iter. : 0.3101\n",
      "Loss after 10000 iter. : 0.4137\n",
      "Loss after 5000 iter. : 0.4832\n",
      "Loss after 10000 iter. : 0.3386\n",
      "Loss after 5000 iter. : 0.4469\n",
      "Loss after 10000 iter. : 0.4655\n",
      "Loss after 5000 iter. : 0.3361\n",
      "Loss after 10000 iter. : 0.3639\n",
      "Loss after 5000 iter. : 0.4731\n"
     ]
    },
    {
     "name": "stderr",
     "output_type": "stream",
     "text": [
      "\r",
      "  8%|▊         | 39/500 [4:37:49<58:05:19, 453.62s/it]"
     ]
    },
    {
     "name": "stdout",
     "output_type": "stream",
     "text": [
      "Loss after 10000 iter. : 0.3725\n",
      "Loss after 5000 iter. : 0.4961\n",
      "Loss after 10000 iter. : 0.4091\n",
      "Loss after 5000 iter. : 0.4733\n",
      "Loss after 10000 iter. : 0.3127\n",
      "Loss after 5000 iter. : 0.3945\n",
      "Loss after 10000 iter. : 0.3397\n",
      "Loss after 5000 iter. : 0.3815\n",
      "Loss after 10000 iter. : 0.4852\n",
      "Loss after 5000 iter. : 0.2855\n"
     ]
    },
    {
     "name": "stderr",
     "output_type": "stream",
     "text": [
      "\r",
      "  8%|▊         | 40/500 [4:43:42<54:05:12, 423.29s/it]"
     ]
    },
    {
     "name": "stdout",
     "output_type": "stream",
     "text": [
      "Loss after 10000 iter. : 0.3538\n",
      "Loss after 5000 iter. : 0.4174\n",
      "Loss after 10000 iter. : 0.4370\n",
      "Loss after 5000 iter. : 0.4424\n",
      "Loss after 10000 iter. : 0.3765\n",
      "Loss after 5000 iter. : 0.4706\n",
      "Loss after 10000 iter. : 0.3628\n",
      "Loss after 5000 iter. : 0.3879\n",
      "Loss after 10000 iter. : 0.5095\n",
      "Loss after 5000 iter. : 0.5540\n"
     ]
    },
    {
     "name": "stderr",
     "output_type": "stream",
     "text": [
      "\r",
      "  8%|▊         | 41/500 [4:48:43<49:18:29, 386.73s/it]"
     ]
    },
    {
     "name": "stdout",
     "output_type": "stream",
     "text": [
      "Loss after 10000 iter. : 0.5153\n",
      "Loss after 5000 iter. : 0.5384\n",
      "Loss after 10000 iter. : 0.5917\n",
      "Loss after 5000 iter. : 0.3656\n",
      "Loss after 10000 iter. : 0.5947\n",
      "Loss after 5000 iter. : 0.4090\n",
      "Loss after 10000 iter. : 0.4362\n",
      "Loss after 5000 iter. : 0.4750\n",
      "Loss after 10000 iter. : 0.3979\n",
      "Loss after 5000 iter. : 0.4649\n"
     ]
    },
    {
     "name": "stderr",
     "output_type": "stream",
     "text": [
      "\r",
      "  8%|▊         | 42/500 [4:54:45<48:13:42, 379.09s/it]"
     ]
    },
    {
     "name": "stdout",
     "output_type": "stream",
     "text": [
      "Loss after 10000 iter. : 0.4811\n",
      "Loss after 5000 iter. : 0.4246\n",
      "Loss after 10000 iter. : 0.4184\n",
      "Loss after 5000 iter. : 0.4716\n",
      "Loss after 10000 iter. : 0.3604\n",
      "Loss after 5000 iter. : 0.5149\n",
      "Loss after 10000 iter. : 0.3820\n",
      "Loss after 5000 iter. : 0.3881\n",
      "Loss after 10000 iter. : 0.4447\n",
      "Loss after 5000 iter. : 0.3840\n"
     ]
    },
    {
     "name": "stderr",
     "output_type": "stream",
     "text": [
      "\r",
      "  9%|▊         | 43/500 [5:04:57<57:00:16, 449.05s/it]"
     ]
    },
    {
     "name": "stdout",
     "output_type": "stream",
     "text": [
      "Loss after 10000 iter. : 0.3585\n",
      "Loss after 5000 iter. : 0.3690\n",
      "Loss after 10000 iter. : 0.3909\n",
      "Loss after 5000 iter. : 0.4065\n",
      "Loss after 10000 iter. : 0.3535\n",
      "Loss after 5000 iter. : 0.4181\n",
      "Loss after 10000 iter. : 0.3788\n",
      "Loss after 5000 iter. : 0.4103\n",
      "Loss after 10000 iter. : 0.3483\n",
      "Loss after 5000 iter. : 0.3401\n"
     ]
    },
    {
     "name": "stderr",
     "output_type": "stream",
     "text": [
      "\r",
      "  9%|▉         | 44/500 [5:13:02<58:14:49, 459.84s/it]"
     ]
    },
    {
     "name": "stdout",
     "output_type": "stream",
     "text": [
      "Loss after 10000 iter. : 0.3204\n",
      "Loss after 5000 iter. : 0.3754\n",
      "Loss after 10000 iter. : 0.5245\n",
      "Loss after 5000 iter. : 0.4227\n",
      "Loss after 10000 iter. : 0.3624\n",
      "Loss after 5000 iter. : 0.3763\n",
      "Loss after 10000 iter. : 0.3966\n",
      "Loss after 5000 iter. : 0.4909\n",
      "Loss after 10000 iter. : 0.4338\n",
      "Loss after 5000 iter. : 0.4970\n"
     ]
    },
    {
     "name": "stderr",
     "output_type": "stream",
     "text": [
      "\r",
      "  9%|▉         | 45/500 [5:20:54<58:35:30, 463.58s/it]"
     ]
    },
    {
     "name": "stdout",
     "output_type": "stream",
     "text": [
      "Loss after 10000 iter. : 0.2096\n",
      "Loss after 5000 iter. : 0.4998\n",
      "Loss after 10000 iter. : 0.5179\n",
      "Loss after 5000 iter. : 0.4281\n",
      "Loss after 10000 iter. : 0.5084\n",
      "Loss after 5000 iter. : 0.3075\n",
      "Loss after 10000 iter. : 0.4396\n",
      "Loss after 5000 iter. : 0.4535\n",
      "Loss after 10000 iter. : 0.3449\n",
      "Loss after 5000 iter. : 0.3430\n"
     ]
    },
    {
     "name": "stderr",
     "output_type": "stream",
     "text": [
      "\r",
      "  9%|▉         | 46/500 [5:27:40<56:15:17, 446.07s/it]"
     ]
    },
    {
     "name": "stdout",
     "output_type": "stream",
     "text": [
      "Loss after 10000 iter. : 0.3102\n",
      "Loss after 5000 iter. : 0.4217\n",
      "Loss after 10000 iter. : 0.4048\n",
      "Loss after 5000 iter. : 0.3456\n",
      "Loss after 10000 iter. : 0.4175\n",
      "Loss after 5000 iter. : 0.3295\n",
      "Loss after 10000 iter. : 0.3606\n",
      "Loss after 5000 iter. : 0.3453\n",
      "Loss after 10000 iter. : 0.3286\n",
      "Loss after 5000 iter. : 0.3406\n"
     ]
    },
    {
     "name": "stderr",
     "output_type": "stream",
     "text": [
      "\r",
      "  9%|▉         | 47/500 [5:36:12<58:38:51, 466.07s/it]"
     ]
    },
    {
     "name": "stdout",
     "output_type": "stream",
     "text": [
      "Loss after 10000 iter. : 0.3103\n",
      "Loss after 5000 iter. : 0.5276\n",
      "Loss after 10000 iter. : 0.4267\n",
      "Loss after 5000 iter. : 0.4445\n",
      "Loss after 10000 iter. : 0.3031\n",
      "Loss after 5000 iter. : 0.3556\n",
      "Loss after 10000 iter. : 0.4554\n",
      "Loss after 5000 iter. : 0.4178\n",
      "Loss after 10000 iter. : 0.3583\n",
      "Loss after 5000 iter. : 0.3499\n"
     ]
    },
    {
     "name": "stderr",
     "output_type": "stream",
     "text": [
      "\r",
      " 10%|▉         | 48/500 [5:43:25<57:15:53, 456.09s/it]"
     ]
    },
    {
     "name": "stdout",
     "output_type": "stream",
     "text": [
      "Loss after 10000 iter. : 0.4019\n",
      "Loss after 5000 iter. : 0.2611\n",
      "Loss after 10000 iter. : 0.2843\n",
      "Loss after 5000 iter. : 0.4098\n",
      "Loss after 10000 iter. : 0.4405\n",
      "Loss after 5000 iter. : 0.4019\n",
      "Loss after 10000 iter. : 0.4423\n",
      "Loss after 5000 iter. : 0.5239\n",
      "Loss after 10000 iter. : 0.5020\n",
      "Loss after 5000 iter. : 0.4255\n"
     ]
    },
    {
     "name": "stderr",
     "output_type": "stream",
     "text": [
      "\r",
      " 10%|▉         | 49/500 [5:51:45<58:46:42, 469.19s/it]"
     ]
    },
    {
     "name": "stdout",
     "output_type": "stream",
     "text": [
      "Loss after 10000 iter. : 0.5117\n",
      "Loss after 5000 iter. : 0.4098\n",
      "Loss after 10000 iter. : 0.5567\n",
      "Loss after 5000 iter. : 0.3603\n",
      "Loss after 10000 iter. : 0.3522\n",
      "Loss after 5000 iter. : 0.4966\n",
      "Loss after 10000 iter. : 0.3263\n",
      "Loss after 5000 iter. : 0.3904\n",
      "Loss after 10000 iter. : 0.3412\n",
      "Loss after 5000 iter. : 0.5784\n"
     ]
    },
    {
     "name": "stderr",
     "output_type": "stream",
     "text": [
      "\r",
      " 10%|█         | 50/500 [5:59:14<57:53:27, 463.13s/it]"
     ]
    },
    {
     "name": "stdout",
     "output_type": "stream",
     "text": [
      "Loss after 10000 iter. : 0.4001\n",
      "Loss after 5000 iter. : 0.2659\n",
      "Loss after 10000 iter. : 0.2230\n",
      "Loss after 5000 iter. : 0.3020\n",
      "Loss after 10000 iter. : 0.3590\n",
      "Loss after 5000 iter. : 0.3854\n",
      "Loss after 10000 iter. : 0.2322\n",
      "Loss after 5000 iter. : 0.2141\n",
      "Loss after 10000 iter. : 0.2378\n",
      "Loss after 5000 iter. : 0.3999\n"
     ]
    },
    {
     "name": "stderr",
     "output_type": "stream",
     "text": [
      "\r",
      " 10%|█         | 51/500 [6:02:34<47:54:43, 384.15s/it]"
     ]
    },
    {
     "name": "stdout",
     "output_type": "stream",
     "text": [
      "Loss after 10000 iter. : 0.1990\n",
      "Loss after 5000 iter. : 0.4734\n",
      "Loss after 10000 iter. : 0.4666\n",
      "Loss after 5000 iter. : 0.3807\n",
      "Loss after 10000 iter. : 0.4467\n",
      "Loss after 5000 iter. : 0.3790\n",
      "Loss after 10000 iter. : 0.3980\n",
      "Loss after 5000 iter. : 0.4143\n",
      "Loss after 10000 iter. : 0.3364\n",
      "Loss after 5000 iter. : 0.4180\n"
     ]
    },
    {
     "name": "stderr",
     "output_type": "stream",
     "text": [
      "\r",
      " 10%|█         | 52/500 [6:09:21<48:39:41, 391.03s/it]"
     ]
    },
    {
     "name": "stdout",
     "output_type": "stream",
     "text": [
      "Loss after 10000 iter. : 0.3597\n",
      "Loss after 5000 iter. : 0.4142\n",
      "Loss after 10000 iter. : 0.4370\n",
      "Loss after 5000 iter. : 0.4505\n",
      "Loss after 10000 iter. : 0.4030\n",
      "Loss after 5000 iter. : 0.4426\n",
      "Loss after 10000 iter. : 0.4001\n",
      "Loss after 5000 iter. : 0.4058\n",
      "Loss after 10000 iter. : 0.4285\n",
      "Loss after 5000 iter. : 0.4397\n"
     ]
    },
    {
     "name": "stderr",
     "output_type": "stream",
     "text": [
      "\r",
      " 11%|█         | 53/500 [6:19:25<56:30:04, 455.04s/it]"
     ]
    },
    {
     "name": "stdout",
     "output_type": "stream",
     "text": [
      "Loss after 10000 iter. : 0.4382\n",
      "Loss after 5000 iter. : 0.4939\n",
      "Loss after 10000 iter. : 0.5240\n",
      "Loss after 5000 iter. : 0.4705\n",
      "Loss after 10000 iter. : 0.3626\n",
      "Loss after 5000 iter. : 0.4609\n",
      "Loss after 10000 iter. : 0.5693\n",
      "Loss after 5000 iter. : 0.4138\n",
      "Loss after 10000 iter. : 0.5313\n",
      "Loss after 5000 iter. : 0.3341\n"
     ]
    },
    {
     "name": "stderr",
     "output_type": "stream",
     "text": [
      "\r",
      " 11%|█         | 54/500 [6:24:46<51:22:34, 414.70s/it]"
     ]
    },
    {
     "name": "stdout",
     "output_type": "stream",
     "text": [
      "Loss after 10000 iter. : 0.4655\n",
      "Loss after 5000 iter. : 0.3978\n",
      "Loss after 10000 iter. : 0.4651\n",
      "Loss after 5000 iter. : 0.2995\n",
      "Loss after 10000 iter. : 0.3195\n",
      "Loss after 5000 iter. : 0.3755\n",
      "Loss after 10000 iter. : 0.2729\n",
      "Loss after 5000 iter. : 0.4490\n",
      "Loss after 10000 iter. : 0.3329\n",
      "Loss after 5000 iter. : 0.3184\n"
     ]
    },
    {
     "name": "stderr",
     "output_type": "stream",
     "text": [
      "\r",
      " 11%|█         | 55/500 [6:31:31<50:53:56, 411.77s/it]"
     ]
    },
    {
     "name": "stdout",
     "output_type": "stream",
     "text": [
      "Loss after 10000 iter. : 0.4724\n",
      "Loss after 5000 iter. : 0.4514\n",
      "Loss after 10000 iter. : 0.4684\n",
      "Loss after 5000 iter. : 0.4657\n",
      "Loss after 10000 iter. : 0.3508\n",
      "Loss after 5000 iter. : 0.2825\n",
      "Loss after 10000 iter. : 0.5305\n",
      "Loss after 5000 iter. : 0.4703\n",
      "Loss after 10000 iter. : 0.3320\n",
      "Loss after 5000 iter. : 0.3610\n"
     ]
    },
    {
     "name": "stderr",
     "output_type": "stream",
     "text": [
      "\r",
      " 11%|█         | 56/500 [6:37:27<48:44:53, 395.26s/it]"
     ]
    },
    {
     "name": "stdout",
     "output_type": "stream",
     "text": [
      "Loss after 10000 iter. : 0.4292\n",
      "Loss after 5000 iter. : 0.5497\n",
      "Loss after 10000 iter. : 0.5865\n",
      "Loss after 5000 iter. : 0.3888\n",
      "Loss after 10000 iter. : 0.3278\n",
      "Loss after 5000 iter. : 0.3663\n",
      "Loss after 10000 iter. : 0.4448\n",
      "Loss after 5000 iter. : 0.2925\n",
      "Loss after 10000 iter. : 0.4932\n",
      "Loss after 5000 iter. : 0.4796\n"
     ]
    },
    {
     "name": "stderr",
     "output_type": "stream",
     "text": [
      "\r",
      " 11%|█▏        | 57/500 [6:41:21<42:40:29, 346.79s/it]"
     ]
    },
    {
     "name": "stdout",
     "output_type": "stream",
     "text": [
      "Loss after 10000 iter. : 0.3342\n",
      "Loss after 5000 iter. : 0.4956\n",
      "Loss after 10000 iter. : 0.4242\n",
      "Loss after 5000 iter. : 0.3838\n",
      "Loss after 10000 iter. : 0.3836\n",
      "Loss after 5000 iter. : 0.4324\n",
      "Loss after 10000 iter. : 0.3866\n",
      "Loss after 5000 iter. : 0.4187\n",
      "Loss after 10000 iter. : 0.4405\n",
      "Loss after 5000 iter. : 0.4315\n"
     ]
    },
    {
     "name": "stderr",
     "output_type": "stream",
     "text": [
      "\r",
      " 12%|█▏        | 58/500 [6:52:45<54:59:07, 447.85s/it]"
     ]
    },
    {
     "name": "stdout",
     "output_type": "stream",
     "text": [
      "Loss after 10000 iter. : 0.3934\n",
      "Loss after 5000 iter. : 0.5902\n",
      "Loss after 10000 iter. : 0.5491\n",
      "Loss after 5000 iter. : 0.3549\n",
      "Loss after 10000 iter. : 0.3039\n",
      "Loss after 5000 iter. : 0.4806\n",
      "Loss after 10000 iter. : 0.4481\n",
      "Loss after 5000 iter. : 0.3595\n",
      "Loss after 10000 iter. : 0.3855\n",
      "Loss after 5000 iter. : 0.3939\n"
     ]
    },
    {
     "name": "stderr",
     "output_type": "stream",
     "text": [
      "\r",
      " 12%|█▏        | 59/500 [6:58:27<50:59:42, 416.29s/it]"
     ]
    },
    {
     "name": "stdout",
     "output_type": "stream",
     "text": [
      "Loss after 10000 iter. : 0.4258\n",
      "Loss after 5000 iter. : 0.3754\n",
      "Loss after 10000 iter. : 0.4108\n",
      "Loss after 5000 iter. : 0.5553\n",
      "Loss after 10000 iter. : 0.3760\n",
      "Loss after 5000 iter. : 0.4761\n",
      "Loss after 10000 iter. : 0.3815\n",
      "Loss after 5000 iter. : 0.4467\n",
      "Loss after 10000 iter. : 0.4764\n",
      "Loss after 5000 iter. : 0.3303\n"
     ]
    },
    {
     "name": "stderr",
     "output_type": "stream",
     "text": [
      "\r",
      " 12%|█▏        | 60/500 [7:09:13<59:17:59, 485.18s/it]"
     ]
    },
    {
     "name": "stdout",
     "output_type": "stream",
     "text": [
      "Loss after 10000 iter. : 0.3192\n",
      "Loss after 5000 iter. : 0.3805\n",
      "Loss after 10000 iter. : 0.4373\n",
      "Loss after 5000 iter. : 0.4002\n",
      "Loss after 10000 iter. : 0.5515\n",
      "Loss after 5000 iter. : 0.3756\n",
      "Loss after 10000 iter. : 0.4560\n",
      "Loss after 5000 iter. : 0.4869\n",
      "Loss after 10000 iter. : 0.3571\n",
      "Loss after 5000 iter. : 0.4562\n"
     ]
    },
    {
     "name": "stderr",
     "output_type": "stream",
     "text": [
      "\r",
      " 12%|█▏        | 61/500 [7:16:17<56:54:55, 466.73s/it]"
     ]
    },
    {
     "name": "stdout",
     "output_type": "stream",
     "text": [
      "Loss after 10000 iter. : 0.4769\n",
      "Loss after 5000 iter. : 0.3432\n",
      "Loss after 10000 iter. : 0.3387\n",
      "Loss after 5000 iter. : 0.2901\n",
      "Loss after 10000 iter. : 0.4290\n",
      "Loss after 5000 iter. : 0.4075\n",
      "Loss after 10000 iter. : 0.3577\n",
      "Loss after 5000 iter. : 0.4918\n",
      "Loss after 10000 iter. : 0.4342\n",
      "Loss after 5000 iter. : 0.4860\n"
     ]
    },
    {
     "name": "stderr",
     "output_type": "stream",
     "text": [
      "\r",
      " 12%|█▏        | 62/500 [7:23:21<55:14:31, 454.05s/it]"
     ]
    },
    {
     "name": "stdout",
     "output_type": "stream",
     "text": [
      "Loss after 10000 iter. : 0.4000\n",
      "Loss after 5000 iter. : 0.4130\n",
      "Loss after 10000 iter. : 0.2927\n",
      "Loss after 5000 iter. : 0.3303\n",
      "Loss after 10000 iter. : 0.4258\n",
      "Loss after 5000 iter. : 0.3707\n",
      "Loss after 10000 iter. : 0.3387\n",
      "Loss after 5000 iter. : 0.4945\n",
      "Loss after 10000 iter. : 0.5151\n",
      "Loss after 5000 iter. : 0.3939\n"
     ]
    },
    {
     "name": "stderr",
     "output_type": "stream",
     "text": [
      "\r",
      " 13%|█▎        | 63/500 [7:31:40<56:45:01, 467.51s/it]"
     ]
    },
    {
     "name": "stdout",
     "output_type": "stream",
     "text": [
      "Loss after 10000 iter. : 0.4010\n",
      "Loss after 5000 iter. : 0.4181\n",
      "Loss after 10000 iter. : 0.3796\n",
      "Loss after 5000 iter. : 0.4661\n",
      "Loss after 10000 iter. : 0.4733\n",
      "Loss after 5000 iter. : 0.3973\n",
      "Loss after 10000 iter. : 0.3927\n",
      "Loss after 5000 iter. : 0.5794\n",
      "Loss after 10000 iter. : 0.3845\n",
      "Loss after 5000 iter. : 0.3993\n"
     ]
    },
    {
     "name": "stderr",
     "output_type": "stream",
     "text": [
      "\r",
      " 13%|█▎        | 64/500 [7:39:56<57:38:54, 476.00s/it]"
     ]
    },
    {
     "name": "stdout",
     "output_type": "stream",
     "text": [
      "Loss after 10000 iter. : 0.4047\n",
      "Loss after 5000 iter. : 0.4994\n",
      "Loss after 10000 iter. : 0.3248\n",
      "Loss after 5000 iter. : 0.2600\n",
      "Loss after 10000 iter. : 0.3613\n",
      "Loss after 5000 iter. : 0.8412\n",
      "Loss after 10000 iter. : 0.4116\n",
      "Loss after 5000 iter. : 0.4318\n",
      "Loss after 10000 iter. : 0.3340\n",
      "Loss after 5000 iter. : 0.3871\n"
     ]
    },
    {
     "name": "stderr",
     "output_type": "stream",
     "text": [
      "\r",
      " 13%|█▎        | 65/500 [7:44:29<50:08:18, 414.94s/it]"
     ]
    },
    {
     "name": "stdout",
     "output_type": "stream",
     "text": [
      "Loss after 10000 iter. : 0.4391\n",
      "Loss after 5000 iter. : 0.2568\n",
      "Loss after 10000 iter. : 0.4628\n",
      "Loss after 5000 iter. : 0.6308\n",
      "Loss after 10000 iter. : 0.7844\n",
      "Loss after 5000 iter. : 0.7376\n",
      "Loss after 10000 iter. : 0.6455\n",
      "Loss after 5000 iter. : 0.3814\n",
      "Loss after 10000 iter. : 0.4284\n",
      "Loss after 5000 iter. : 0.4242\n"
     ]
    },
    {
     "name": "stderr",
     "output_type": "stream",
     "text": [
      "\r",
      " 13%|█▎        | 66/500 [7:49:16<45:23:45, 376.56s/it]"
     ]
    },
    {
     "name": "stdout",
     "output_type": "stream",
     "text": [
      "Loss after 10000 iter. : 0.5301\n",
      "Loss after 5000 iter. : 0.5710\n",
      "Loss after 10000 iter. : 0.4515\n",
      "Loss after 5000 iter. : 0.5819\n",
      "Loss after 10000 iter. : 0.4386\n",
      "Loss after 5000 iter. : 0.5893\n",
      "Loss after 10000 iter. : 0.4846\n",
      "Loss after 5000 iter. : 0.6163\n",
      "Loss after 10000 iter. : 0.5796\n",
      "Loss after 5000 iter. : 0.4029\n"
     ]
    },
    {
     "name": "stderr",
     "output_type": "stream",
     "text": [
      "\r",
      " 13%|█▎        | 67/500 [7:53:40<41:15:00, 342.96s/it]"
     ]
    },
    {
     "name": "stdout",
     "output_type": "stream",
     "text": [
      "Loss after 10000 iter. : 0.4669\n",
      "Loss after 5000 iter. : 0.4681\n",
      "Loss after 10000 iter. : 0.2636\n",
      "Loss after 5000 iter. : 0.4959\n",
      "Loss after 10000 iter. : 0.4936\n",
      "Loss after 5000 iter. : 0.4405\n",
      "Loss after 10000 iter. : 0.4897\n",
      "Loss after 5000 iter. : 0.3913\n",
      "Loss after 10000 iter. : 0.3103\n",
      "Loss after 5000 iter. : 0.5030\n"
     ]
    },
    {
     "name": "stderr",
     "output_type": "stream",
     "text": [
      "\r",
      " 14%|█▎        | 68/500 [7:57:48<37:44:51, 314.56s/it]"
     ]
    },
    {
     "name": "stdout",
     "output_type": "stream",
     "text": [
      "Loss after 10000 iter. : 0.3785\n",
      "Loss after 5000 iter. : 0.3441\n",
      "Loss after 10000 iter. : 0.4262\n",
      "Loss after 5000 iter. : 0.1860\n",
      "Loss after 10000 iter. : 0.4269\n",
      "Loss after 5000 iter. : 0.3417\n",
      "Loss after 10000 iter. : 0.5260\n",
      "Loss after 5000 iter. : 0.4570\n",
      "Loss after 10000 iter. : 0.3563\n",
      "Loss after 5000 iter. : 0.3333\n"
     ]
    },
    {
     "name": "stderr",
     "output_type": "stream",
     "text": [
      "\r",
      " 14%|█▍        | 69/500 [8:05:02<41:55:36, 350.20s/it]"
     ]
    },
    {
     "name": "stdout",
     "output_type": "stream",
     "text": [
      "Loss after 10000 iter. : 0.4481\n",
      "Loss after 5000 iter. : 0.5038\n",
      "Loss after 10000 iter. : 0.4546\n",
      "Loss after 5000 iter. : 0.3132\n",
      "Loss after 10000 iter. : 0.4463\n",
      "Loss after 5000 iter. : 0.3339\n",
      "Loss after 10000 iter. : 0.5087\n",
      "Loss after 5000 iter. : 0.2659\n",
      "Loss after 10000 iter. : 0.3989\n",
      "Loss after 5000 iter. : 0.4634\n"
     ]
    },
    {
     "name": "stderr",
     "output_type": "stream",
     "text": [
      "\r",
      " 14%|█▍        | 70/500 [8:11:14<42:37:26, 356.85s/it]"
     ]
    },
    {
     "name": "stdout",
     "output_type": "stream",
     "text": [
      "Loss after 10000 iter. : 0.5422\n",
      "Loss after 5000 iter. : 0.3582\n",
      "Loss after 10000 iter. : 0.5184\n",
      "Loss after 5000 iter. : 0.5886\n",
      "Loss after 10000 iter. : 0.3611\n",
      "Loss after 5000 iter. : 0.4007\n",
      "Loss after 10000 iter. : 0.2739\n",
      "Loss after 5000 iter. : 0.3092\n",
      "Loss after 10000 iter. : 0.5274\n",
      "Loss after 5000 iter. : 0.4580\n"
     ]
    },
    {
     "name": "stderr",
     "output_type": "stream",
     "text": [
      "\r",
      " 14%|█▍        | 71/500 [8:16:23<40:47:56, 342.37s/it]"
     ]
    },
    {
     "name": "stdout",
     "output_type": "stream",
     "text": [
      "Loss after 10000 iter. : 0.4379\n",
      "Loss after 5000 iter. : 0.3320\n",
      "Loss after 10000 iter. : 0.3300\n",
      "Loss after 5000 iter. : 0.3612\n",
      "Loss after 10000 iter. : 0.3924\n",
      "Loss after 5000 iter. : 0.2782\n",
      "Loss after 10000 iter. : 0.3430\n",
      "Loss after 5000 iter. : 0.4087\n",
      "Loss after 10000 iter. : 0.4572\n",
      "Loss after 5000 iter. : 0.4794\n"
     ]
    },
    {
     "name": "stderr",
     "output_type": "stream",
     "text": [
      "\r",
      " 14%|█▍        | 72/500 [8:31:27<60:43:48, 510.81s/it]"
     ]
    },
    {
     "name": "stdout",
     "output_type": "stream",
     "text": [
      "Loss after 10000 iter. : 0.3443\n",
      "Loss after 5000 iter. : 0.4660\n",
      "Loss after 10000 iter. : 0.3271\n",
      "Loss after 5000 iter. : 0.3240\n",
      "Loss after 10000 iter. : 0.4482\n",
      "Loss after 5000 iter. : 0.4958\n",
      "Loss after 10000 iter. : 0.5341\n",
      "Loss after 5000 iter. : 0.5732\n",
      "Loss after 10000 iter. : 0.4383\n",
      "Loss after 5000 iter. : 0.2724\n"
     ]
    },
    {
     "name": "stderr",
     "output_type": "stream",
     "text": [
      "\r",
      " 15%|█▍        | 73/500 [8:36:05<52:18:02, 440.94s/it]"
     ]
    },
    {
     "name": "stdout",
     "output_type": "stream",
     "text": [
      "Loss after 10000 iter. : 0.4517\n",
      "Loss after 5000 iter. : 0.3608\n",
      "Loss after 10000 iter. : 0.3645\n",
      "Loss after 5000 iter. : 0.3121\n",
      "Loss after 10000 iter. : 0.3483\n",
      "Loss after 5000 iter. : 0.5558\n",
      "Loss after 10000 iter. : 0.3859\n",
      "Loss after 5000 iter. : 0.2981\n",
      "Loss after 10000 iter. : 0.3332\n",
      "Loss after 5000 iter. : 0.2907\n"
     ]
    },
    {
     "name": "stderr",
     "output_type": "stream",
     "text": [
      "\r",
      " 15%|█▍        | 74/500 [8:40:48<46:35:08, 393.68s/it]"
     ]
    },
    {
     "name": "stdout",
     "output_type": "stream",
     "text": [
      "Loss after 10000 iter. : 0.2531\n",
      "Loss after 5000 iter. : 0.3832\n",
      "Loss after 10000 iter. : 0.4103\n",
      "Loss after 5000 iter. : 0.4995\n",
      "Loss after 10000 iter. : 0.5023\n",
      "Loss after 5000 iter. : 0.4100\n",
      "Loss after 10000 iter. : 0.4307\n",
      "Loss after 5000 iter. : 0.4442\n",
      "Loss after 10000 iter. : 0.3489\n",
      "Loss after 5000 iter. : 0.3750\n"
     ]
    },
    {
     "name": "stderr",
     "output_type": "stream",
     "text": [
      "\r",
      " 15%|█▌        | 75/500 [8:52:12<56:45:09, 480.73s/it]"
     ]
    },
    {
     "name": "stdout",
     "output_type": "stream",
     "text": [
      "Loss after 10000 iter. : 0.3360\n",
      "Loss after 5000 iter. : 0.5896\n",
      "Loss after 10000 iter. : 0.4221\n",
      "Loss after 5000 iter. : 0.4077\n",
      "Loss after 10000 iter. : 0.5450\n",
      "Loss after 5000 iter. : 0.4932\n",
      "Loss after 10000 iter. : 0.4887\n",
      "Loss after 5000 iter. : 0.4395\n",
      "Loss after 10000 iter. : 0.4975\n",
      "Loss after 5000 iter. : 0.5155\n"
     ]
    },
    {
     "name": "stderr",
     "output_type": "stream",
     "text": [
      "\r",
      " 15%|█▌        | 76/500 [8:59:16<54:37:26, 463.79s/it]"
     ]
    },
    {
     "name": "stdout",
     "output_type": "stream",
     "text": [
      "Loss after 10000 iter. : 0.5668\n",
      "Loss after 5000 iter. : 0.6089\n",
      "Loss after 10000 iter. : 0.5372\n",
      "Loss after 5000 iter. : 0.6238\n",
      "Loss after 10000 iter. : 0.8474\n",
      "Loss after 5000 iter. : 0.5414\n",
      "Loss after 10000 iter. : 0.6941\n",
      "Loss after 5000 iter. : 0.7400\n",
      "Loss after 10000 iter. : 0.7731\n",
      "Loss after 5000 iter. : 0.3902\n"
     ]
    },
    {
     "name": "stderr",
     "output_type": "stream",
     "text": [
      "\r",
      " 15%|█▌        | 77/500 [9:04:23<48:57:05, 416.61s/it]"
     ]
    },
    {
     "name": "stdout",
     "output_type": "stream",
     "text": [
      "Loss after 10000 iter. : 0.8220\n",
      "Loss after 5000 iter. : 0.4740\n",
      "Loss after 10000 iter. : 0.4308\n",
      "Loss after 5000 iter. : 0.4400\n",
      "Loss after 10000 iter. : 0.4511\n",
      "Loss after 5000 iter. : 0.4702\n",
      "Loss after 10000 iter. : 0.4051\n",
      "Loss after 5000 iter. : 0.4401\n",
      "Loss after 10000 iter. : 0.3658\n",
      "Loss after 5000 iter. : 0.3862\n"
     ]
    },
    {
     "name": "stderr",
     "output_type": "stream",
     "text": [
      "\r",
      " 16%|█▌        | 78/500 [9:09:56<45:54:00, 391.56s/it]"
     ]
    },
    {
     "name": "stdout",
     "output_type": "stream",
     "text": [
      "Loss after 10000 iter. : 0.4091\n",
      "Loss after 5000 iter. : 0.5247\n",
      "Loss after 10000 iter. : 0.3523\n",
      "Loss after 5000 iter. : 0.5131\n",
      "Loss after 10000 iter. : 0.3258\n",
      "Loss after 5000 iter. : 0.4834\n",
      "Loss after 10000 iter. : 0.4622\n",
      "Loss after 5000 iter. : 0.4438\n",
      "Loss after 10000 iter. : 0.4490\n",
      "Loss after 5000 iter. : 0.5385\n"
     ]
    },
    {
     "name": "stderr",
     "output_type": "stream",
     "text": [
      "\r",
      " 16%|█▌        | 79/500 [9:20:29<54:17:10, 464.21s/it]"
     ]
    },
    {
     "name": "stdout",
     "output_type": "stream",
     "text": [
      "Loss after 10000 iter. : 0.4101\n",
      "Loss after 5000 iter. : 0.3774\n",
      "Loss after 10000 iter. : 0.3207\n",
      "Loss after 5000 iter. : 0.3534\n",
      "Loss after 10000 iter. : 0.3514\n",
      "Loss after 5000 iter. : 0.4903\n",
      "Loss after 10000 iter. : 0.4359\n",
      "Loss after 5000 iter. : 0.4406\n",
      "Loss after 10000 iter. : 0.4671\n",
      "Loss after 5000 iter. : 0.3307\n"
     ]
    },
    {
     "name": "stderr",
     "output_type": "stream",
     "text": [
      "\r",
      " 16%|█▌        | 80/500 [9:25:23<48:11:51, 413.12s/it]"
     ]
    },
    {
     "name": "stdout",
     "output_type": "stream",
     "text": [
      "Loss after 10000 iter. : 0.3939\n",
      "Loss after 5000 iter. : 0.1696\n",
      "Loss after 10000 iter. : 0.1033\n",
      "Loss after 5000 iter. : 0.1294\n",
      "Loss after 10000 iter. : 0.0896\n",
      "Loss after 5000 iter. : 0.1364\n",
      "Loss after 10000 iter. : 0.1217\n",
      "Loss after 5000 iter. : 0.2287\n",
      "Loss after 10000 iter. : 0.1171\n",
      "Loss after 5000 iter. : 0.1397\n"
     ]
    },
    {
     "name": "stderr",
     "output_type": "stream",
     "text": [
      "\r",
      " 16%|█▌        | 81/500 [9:33:41<51:02:29, 438.54s/it]"
     ]
    },
    {
     "name": "stdout",
     "output_type": "stream",
     "text": [
      "Loss after 10000 iter. : 0.1806\n",
      "Loss after 5000 iter. : 0.4027\n",
      "Loss after 10000 iter. : 0.5099\n",
      "Loss after 5000 iter. : 0.3429\n",
      "Loss after 10000 iter. : 0.3306\n",
      "Loss after 5000 iter. : 0.4492\n",
      "Loss after 10000 iter. : 0.4889\n",
      "Loss after 5000 iter. : 0.3784\n",
      "Loss after 10000 iter. : 0.3868\n",
      "Loss after 5000 iter. : 0.4730\n"
     ]
    },
    {
     "name": "stderr",
     "output_type": "stream",
     "text": [
      "\r",
      " 16%|█▋        | 82/500 [9:41:48<52:36:08, 453.03s/it]"
     ]
    },
    {
     "name": "stdout",
     "output_type": "stream",
     "text": [
      "Loss after 10000 iter. : 0.4706\n",
      "Loss after 5000 iter. : 0.4295\n",
      "Loss after 10000 iter. : 0.3449\n",
      "Loss after 5000 iter. : 0.3765\n",
      "Loss after 10000 iter. : 0.3688\n",
      "Loss after 5000 iter. : 0.3850\n",
      "Loss after 10000 iter. : 0.3953\n",
      "Loss after 5000 iter. : 0.3653\n",
      "Loss after 10000 iter. : 0.2892\n",
      "Loss after 5000 iter. : 0.3299\n"
     ]
    },
    {
     "name": "stderr",
     "output_type": "stream",
     "text": [
      "\r",
      " 17%|█▋        | 83/500 [9:52:42<59:27:16, 513.28s/it]"
     ]
    },
    {
     "name": "stdout",
     "output_type": "stream",
     "text": [
      "Loss after 10000 iter. : 0.4684\n",
      "Loss after 5000 iter. : 0.2641\n",
      "Loss after 10000 iter. : 0.4680\n",
      "Loss after 5000 iter. : 0.5773\n",
      "Loss after 10000 iter. : 0.3363\n",
      "Loss after 5000 iter. : 0.4271\n",
      "Loss after 10000 iter. : 0.3957\n",
      "Loss after 5000 iter. : 0.3089\n",
      "Loss after 10000 iter. : 0.3097\n",
      "Loss after 5000 iter. : 0.3159\n"
     ]
    },
    {
     "name": "stderr",
     "output_type": "stream",
     "text": [
      "\r",
      " 17%|█▋        | 84/500 [9:59:06<54:50:00, 474.52s/it]"
     ]
    },
    {
     "name": "stdout",
     "output_type": "stream",
     "text": [
      "Loss after 10000 iter. : 0.4333\n",
      "Loss after 5000 iter. : 0.4833\n",
      "Loss after 10000 iter. : 0.3618\n",
      "Loss after 5000 iter. : 0.5259\n",
      "Loss after 10000 iter. : 0.4692\n",
      "Loss after 5000 iter. : 0.3537\n",
      "Loss after 10000 iter. : 0.4432\n",
      "Loss after 5000 iter. : 0.3793\n",
      "Loss after 10000 iter. : 0.3880\n",
      "Loss after 5000 iter. : 0.3925\n"
     ]
    },
    {
     "name": "stderr",
     "output_type": "stream",
     "text": [
      "\r",
      " 17%|█▋        | 85/500 [10:07:23<55:29:07, 481.32s/it]"
     ]
    },
    {
     "name": "stdout",
     "output_type": "stream",
     "text": [
      "Loss after 10000 iter. : 0.3196\n",
      "Loss after 5000 iter. : 0.3077\n",
      "Loss after 10000 iter. : 0.4163\n",
      "Loss after 5000 iter. : 0.3234\n",
      "Loss after 10000 iter. : 0.4989\n",
      "Loss after 5000 iter. : 0.3435\n",
      "Loss after 10000 iter. : 0.3112\n",
      "Loss after 5000 iter. : 0.3639\n",
      "Loss after 10000 iter. : 0.3569\n",
      "Loss after 5000 iter. : 0.2985\n"
     ]
    },
    {
     "name": "stderr",
     "output_type": "stream",
     "text": [
      "\r",
      " 17%|█▋        | 86/500 [10:11:48<47:53:36, 416.47s/it]"
     ]
    },
    {
     "name": "stdout",
     "output_type": "stream",
     "text": [
      "Loss after 10000 iter. : 0.2640\n",
      "Loss after 5000 iter. : 0.4283\n",
      "Loss after 10000 iter. : 0.5156\n",
      "Loss after 5000 iter. : 0.4514\n",
      "Loss after 10000 iter. : 0.3551\n",
      "Loss after 5000 iter. : 0.3902\n",
      "Loss after 10000 iter. : 0.4028\n",
      "Loss after 5000 iter. : 0.5496\n",
      "Loss after 10000 iter. : 0.5403\n",
      "Loss after 5000 iter. : 0.3947\n"
     ]
    },
    {
     "name": "stderr",
     "output_type": "stream",
     "text": [
      "\r",
      " 17%|█▋        | 87/500 [10:21:29<53:25:16, 465.66s/it]"
     ]
    },
    {
     "name": "stdout",
     "output_type": "stream",
     "text": [
      "Loss after 10000 iter. : 0.4210\n",
      "Loss after 5000 iter. : 0.3673\n",
      "Loss after 10000 iter. : 0.5037\n",
      "Loss after 5000 iter. : 0.6245\n",
      "Loss after 10000 iter. : 0.5580\n",
      "Loss after 5000 iter. : 0.7124\n",
      "Loss after 10000 iter. : 0.7049\n",
      "Loss after 5000 iter. : 0.1963\n",
      "Loss after 10000 iter. : 0.5119\n",
      "Loss after 5000 iter. : 0.5744\n"
     ]
    },
    {
     "name": "stderr",
     "output_type": "stream",
     "text": [
      "\r",
      " 18%|█▊        | 88/500 [10:26:05<46:47:06, 408.80s/it]"
     ]
    },
    {
     "name": "stdout",
     "output_type": "stream",
     "text": [
      "Loss after 10000 iter. : 0.4086\n",
      "Loss after 5000 iter. : 0.4122\n",
      "Loss after 10000 iter. : 0.4378\n",
      "Loss after 5000 iter. : 0.3967\n",
      "Loss after 10000 iter. : 0.4999\n",
      "Loss after 5000 iter. : 0.4603\n",
      "Loss after 10000 iter. : 0.4280\n",
      "Loss after 5000 iter. : 0.5343\n",
      "Loss after 10000 iter. : 0.4618\n",
      "Loss after 5000 iter. : 0.2897\n"
     ]
    },
    {
     "name": "stderr",
     "output_type": "stream",
     "text": [
      "\r",
      " 18%|█▊        | 89/500 [10:35:35<52:12:24, 457.29s/it]"
     ]
    },
    {
     "name": "stdout",
     "output_type": "stream",
     "text": [
      "Loss after 10000 iter. : 0.6055\n",
      "Loss after 5000 iter. : 0.3812\n",
      "Loss after 10000 iter. : 0.4654\n",
      "Loss after 5000 iter. : 0.4376\n",
      "Loss after 10000 iter. : 0.3955\n",
      "Loss after 5000 iter. : 0.5513\n",
      "Loss after 10000 iter. : 0.3856\n",
      "Loss after 5000 iter. : 0.3665\n",
      "Loss after 10000 iter. : 0.4001\n",
      "Loss after 5000 iter. : 0.4708\n"
     ]
    },
    {
     "name": "stderr",
     "output_type": "stream",
     "text": [
      "\r",
      " 18%|█▊        | 90/500 [10:45:39<57:04:07, 501.09s/it]"
     ]
    },
    {
     "name": "stdout",
     "output_type": "stream",
     "text": [
      "Loss after 10000 iter. : 0.4667\n",
      "Loss after 5000 iter. : 0.5005\n",
      "Loss after 10000 iter. : 0.2691\n",
      "Loss after 5000 iter. : 0.3494\n",
      "Loss after 10000 iter. : 0.5211\n",
      "Loss after 5000 iter. : 0.4457\n",
      "Loss after 10000 iter. : 0.4060\n",
      "Loss after 5000 iter. : 0.6503\n",
      "Loss after 10000 iter. : 0.5010\n",
      "Loss after 5000 iter. : 0.2632\n"
     ]
    },
    {
     "name": "stderr",
     "output_type": "stream",
     "text": [
      "\r",
      " 18%|█▊        | 91/500 [10:50:24<49:35:32, 436.51s/it]"
     ]
    },
    {
     "name": "stdout",
     "output_type": "stream",
     "text": [
      "Loss after 10000 iter. : 0.3048\n",
      "Loss after 5000 iter. : 0.6088\n",
      "Loss after 10000 iter. : 0.4712\n",
      "Loss after 5000 iter. : 0.4503\n",
      "Loss after 10000 iter. : 0.3780\n",
      "Loss after 5000 iter. : 0.3530\n",
      "Loss after 10000 iter. : 0.5134\n",
      "Loss after 5000 iter. : 0.3449\n",
      "Loss after 10000 iter. : 0.2964\n",
      "Loss after 5000 iter. : 0.3281\n"
     ]
    },
    {
     "name": "stderr",
     "output_type": "stream",
     "text": [
      "\r",
      " 18%|█▊        | 92/500 [10:57:25<48:56:07, 431.78s/it]"
     ]
    },
    {
     "name": "stdout",
     "output_type": "stream",
     "text": [
      "Loss after 10000 iter. : 0.4336\n",
      "Loss after 5000 iter. : 0.3799\n",
      "Loss after 10000 iter. : 0.4436\n",
      "Loss after 5000 iter. : 0.4090\n",
      "Loss after 10000 iter. : 0.5080\n",
      "Loss after 5000 iter. : 0.4540\n",
      "Loss after 10000 iter. : 0.3203\n",
      "Loss after 5000 iter. : 0.4659\n",
      "Loss after 10000 iter. : 0.2667\n",
      "Loss after 5000 iter. : 0.5871\n"
     ]
    },
    {
     "name": "stderr",
     "output_type": "stream",
     "text": [
      "\r",
      " 19%|█▊        | 93/500 [11:04:05<47:44:03, 422.22s/it]"
     ]
    },
    {
     "name": "stdout",
     "output_type": "stream",
     "text": [
      "Loss after 10000 iter. : 0.5402\n",
      "Loss after 5000 iter. : 0.3149\n",
      "Loss after 10000 iter. : 0.3101\n",
      "Loss after 5000 iter. : 0.4003\n",
      "Loss after 10000 iter. : 0.4397\n",
      "Loss after 5000 iter. : 0.5832\n",
      "Loss after 10000 iter. : 0.5761\n",
      "Loss after 5000 iter. : 0.5794\n",
      "Loss after 10000 iter. : 0.4598\n",
      "Loss after 5000 iter. : 0.6122\n"
     ]
    },
    {
     "name": "stderr",
     "output_type": "stream",
     "text": [
      "\r",
      " 19%|█▉        | 94/500 [11:12:20<50:05:04, 444.10s/it]"
     ]
    },
    {
     "name": "stdout",
     "output_type": "stream",
     "text": [
      "Loss after 10000 iter. : 0.2385\n",
      "Loss after 5000 iter. : 0.4132\n",
      "Loss after 10000 iter. : 0.3542\n",
      "Loss after 5000 iter. : 0.5389\n",
      "Loss after 10000 iter. : 0.5301\n",
      "Loss after 5000 iter. : 0.5016\n",
      "Loss after 10000 iter. : 0.3660\n",
      "Loss after 5000 iter. : 0.3161\n",
      "Loss after 10000 iter. : 0.4745\n",
      "Loss after 5000 iter. : 0.3699\n"
     ]
    },
    {
     "name": "stderr",
     "output_type": "stream",
     "text": [
      "\r",
      " 19%|█▉        | 95/500 [11:21:43<53:58:50, 479.83s/it]"
     ]
    },
    {
     "name": "stdout",
     "output_type": "stream",
     "text": [
      "Loss after 10000 iter. : 0.4194\n",
      "Loss after 5000 iter. : 0.6929\n",
      "Loss after 10000 iter. : 0.4224\n",
      "Loss after 5000 iter. : 0.3242\n",
      "Loss after 10000 iter. : 0.3241\n",
      "Loss after 5000 iter. : 0.3725\n",
      "Loss after 10000 iter. : 0.2648\n",
      "Loss after 5000 iter. : 0.4379\n",
      "Loss after 10000 iter. : 0.3047\n",
      "Loss after 5000 iter. : 0.5314\n"
     ]
    },
    {
     "name": "stderr",
     "output_type": "stream",
     "text": [
      "\r",
      " 19%|█▉        | 96/500 [11:27:45<49:52:03, 444.37s/it]"
     ]
    },
    {
     "name": "stdout",
     "output_type": "stream",
     "text": [
      "Loss after 10000 iter. : 0.4036\n",
      "Loss after 5000 iter. : 0.4167\n",
      "Loss after 10000 iter. : 0.4038\n",
      "Loss after 5000 iter. : 0.4987\n",
      "Loss after 10000 iter. : 0.5060\n",
      "Loss after 5000 iter. : 0.4251\n",
      "Loss after 10000 iter. : 0.5333\n",
      "Loss after 5000 iter. : 0.3650\n",
      "Loss after 10000 iter. : 0.3895\n",
      "Loss after 5000 iter. : 0.3935\n"
     ]
    },
    {
     "name": "stderr",
     "output_type": "stream",
     "text": [
      "\r",
      " 19%|█▉        | 97/500 [11:36:21<52:08:04, 465.72s/it]"
     ]
    },
    {
     "name": "stdout",
     "output_type": "stream",
     "text": [
      "Loss after 10000 iter. : 0.3773\n",
      "Loss after 5000 iter. : 0.4670\n",
      "Loss after 10000 iter. : 0.3107\n",
      "Loss after 5000 iter. : 0.3864\n",
      "Loss after 10000 iter. : 0.4122\n",
      "Loss after 5000 iter. : 0.5406\n",
      "Loss after 10000 iter. : 0.3701\n",
      "Loss after 5000 iter. : 0.3101\n",
      "Loss after 10000 iter. : 0.2737\n",
      "Loss after 5000 iter. : 0.3162\n"
     ]
    },
    {
     "name": "stderr",
     "output_type": "stream",
     "text": [
      "\r",
      " 20%|█▉        | 98/500 [11:46:04<55:57:18, 501.09s/it]"
     ]
    },
    {
     "name": "stdout",
     "output_type": "stream",
     "text": [
      "Loss after 10000 iter. : 0.3461\n",
      "Loss after 5000 iter. : 0.3017\n",
      "Loss after 10000 iter. : 0.4965\n",
      "Loss after 5000 iter. : 0.5444\n",
      "Loss after 10000 iter. : 0.4785\n",
      "Loss after 5000 iter. : 0.4050\n",
      "Loss after 10000 iter. : 0.3287\n",
      "Loss after 5000 iter. : 0.3505\n",
      "Loss after 10000 iter. : 0.5482\n",
      "Loss after 5000 iter. : 0.4368\n"
     ]
    },
    {
     "name": "stderr",
     "output_type": "stream",
     "text": [
      "\r",
      " 20%|█▉        | 99/500 [11:52:13<51:23:36, 461.39s/it]"
     ]
    },
    {
     "name": "stdout",
     "output_type": "stream",
     "text": [
      "Loss after 10000 iter. : 0.3604\n",
      "Loss after 5000 iter. : 0.4132\n",
      "Loss after 10000 iter. : 0.5125\n",
      "Loss after 5000 iter. : 0.4242\n",
      "Loss after 10000 iter. : 0.2525\n",
      "Loss after 5000 iter. : 0.2773\n",
      "Loss after 10000 iter. : 0.3437\n",
      "Loss after 5000 iter. : 0.4165\n",
      "Loss after 10000 iter. : 0.4237\n",
      "Loss after 5000 iter. : 0.2970\n"
     ]
    },
    {
     "name": "stderr",
     "output_type": "stream",
     "text": [
      "\r",
      " 20%|██        | 100/500 [11:56:25<44:16:17, 398.44s/it]"
     ]
    },
    {
     "name": "stdout",
     "output_type": "stream",
     "text": [
      "Loss after 10000 iter. : 0.4660\n",
      "Loss after 5000 iter. : 0.4462\n",
      "Loss after 10000 iter. : 0.3949\n",
      "Loss after 5000 iter. : 0.3215\n",
      "Loss after 10000 iter. : 0.4055\n",
      "Loss after 5000 iter. : 0.4769\n",
      "Loss after 10000 iter. : 0.5371\n",
      "Loss after 5000 iter. : 0.4191\n",
      "Loss after 10000 iter. : 0.3994\n",
      "Loss after 5000 iter. : 0.3088\n"
     ]
    },
    {
     "name": "stderr",
     "output_type": "stream",
     "text": [
      "\r",
      " 20%|██        | 101/500 [12:05:56<49:54:27, 450.30s/it]"
     ]
    },
    {
     "name": "stdout",
     "output_type": "stream",
     "text": [
      "Loss after 10000 iter. : 0.2853\n",
      "Loss after 5000 iter. : 0.4415\n",
      "Loss after 10000 iter. : 0.5075\n",
      "Loss after 5000 iter. : 0.6207\n",
      "Loss after 10000 iter. : 0.4353\n",
      "Loss after 5000 iter. : 0.4650\n",
      "Loss after 10000 iter. : 0.3985\n",
      "Loss after 5000 iter. : 0.4640\n",
      "Loss after 10000 iter. : 0.5904\n",
      "Loss after 5000 iter. : 0.6379\n"
     ]
    },
    {
     "name": "stderr",
     "output_type": "stream",
     "text": [
      "\r",
      " 20%|██        | 102/500 [12:12:51<48:37:27, 439.82s/it]"
     ]
    },
    {
     "name": "stdout",
     "output_type": "stream",
     "text": [
      "Loss after 10000 iter. : 0.5686\n",
      "Loss after 5000 iter. : 0.3743\n",
      "Loss after 10000 iter. : 0.4040\n",
      "Loss after 5000 iter. : 0.4006\n",
      "Loss after 10000 iter. : 0.3681\n",
      "Loss after 5000 iter. : 0.3742\n",
      "Loss after 10000 iter. : 0.2930\n",
      "Loss after 5000 iter. : 0.3747\n",
      "Loss after 10000 iter. : 0.3711\n",
      "Loss after 5000 iter. : 0.4395\n"
     ]
    },
    {
     "name": "stderr",
     "output_type": "stream",
     "text": [
      "\r",
      " 21%|██        | 103/500 [12:18:11<44:32:19, 403.88s/it]"
     ]
    },
    {
     "name": "stdout",
     "output_type": "stream",
     "text": [
      "Loss after 10000 iter. : 0.3317\n",
      "Loss after 5000 iter. : 0.4877\n",
      "Loss after 10000 iter. : 0.4792\n",
      "Loss after 5000 iter. : 0.5140\n",
      "Loss after 10000 iter. : 0.3281\n",
      "Loss after 5000 iter. : 0.4376\n",
      "Loss after 10000 iter. : 0.3866\n",
      "Loss after 5000 iter. : 0.4726\n",
      "Loss after 10000 iter. : 0.3807\n",
      "Loss after 5000 iter. : 0.4139\n"
     ]
    },
    {
     "name": "stderr",
     "output_type": "stream",
     "text": [
      "\r",
      " 21%|██        | 104/500 [12:23:51<42:19:02, 384.70s/it]"
     ]
    },
    {
     "name": "stdout",
     "output_type": "stream",
     "text": [
      "Loss after 10000 iter. : 0.4511\n",
      "Loss after 5000 iter. : 0.5835\n",
      "Loss after 10000 iter. : 0.3661\n",
      "Loss after 5000 iter. : 0.4765\n",
      "Loss after 10000 iter. : 0.4159\n",
      "Loss after 5000 iter. : 0.4451\n",
      "Loss after 10000 iter. : 0.4035\n",
      "Loss after 5000 iter. : 0.4683\n",
      "Loss after 10000 iter. : 0.3383\n",
      "Loss after 5000 iter. : 0.3213\n"
     ]
    },
    {
     "name": "stderr",
     "output_type": "stream",
     "text": [
      "\r",
      " 21%|██        | 105/500 [12:29:24<40:30:36, 369.21s/it]"
     ]
    },
    {
     "name": "stdout",
     "output_type": "stream",
     "text": [
      "Loss after 10000 iter. : 0.5288\n",
      "Loss after 5000 iter. : 0.5119\n",
      "Loss after 10000 iter. : 0.4876\n",
      "Loss after 5000 iter. : 0.3158\n",
      "Loss after 10000 iter. : 0.4065\n",
      "Loss after 5000 iter. : 0.3964\n",
      "Loss after 10000 iter. : 0.4248\n",
      "Loss after 5000 iter. : 0.4752\n",
      "Loss after 10000 iter. : 0.3477\n",
      "Loss after 5000 iter. : 0.4270\n"
     ]
    },
    {
     "name": "stderr",
     "output_type": "stream",
     "text": [
      "\r",
      " 21%|██        | 106/500 [12:38:47<46:46:09, 427.33s/it]"
     ]
    },
    {
     "name": "stdout",
     "output_type": "stream",
     "text": [
      "Loss after 10000 iter. : 0.5613\n",
      "Loss after 5000 iter. : 0.3993\n",
      "Loss after 10000 iter. : 0.2469\n",
      "Loss after 5000 iter. : 0.6220\n",
      "Loss after 10000 iter. : 0.4309\n",
      "Loss after 5000 iter. : 0.3796\n",
      "Loss after 10000 iter. : 0.5030\n",
      "Loss after 5000 iter. : 0.3675\n",
      "Loss after 10000 iter. : 0.2939\n",
      "Loss after 5000 iter. : 0.4077\n"
     ]
    },
    {
     "name": "stderr",
     "output_type": "stream",
     "text": [
      "\r",
      " 21%|██▏       | 107/500 [12:44:09<43:12:01, 395.73s/it]"
     ]
    },
    {
     "name": "stdout",
     "output_type": "stream",
     "text": [
      "Loss after 10000 iter. : 0.2836\n",
      "Loss after 5000 iter. : 0.3061\n",
      "Loss after 10000 iter. : 0.5140\n",
      "Loss after 5000 iter. : 0.4478\n",
      "Loss after 10000 iter. : 0.4426\n",
      "Loss after 5000 iter. : 0.4696\n",
      "Loss after 10000 iter. : 0.3969\n",
      "Loss after 5000 iter. : 0.4681\n",
      "Loss after 10000 iter. : 0.3049\n",
      "Loss after 5000 iter. : 0.3554\n"
     ]
    },
    {
     "name": "stderr",
     "output_type": "stream",
     "text": [
      "\r",
      " 22%|██▏       | 108/500 [12:51:43<44:59:34, 413.20s/it]"
     ]
    },
    {
     "name": "stdout",
     "output_type": "stream",
     "text": [
      "Loss after 10000 iter. : 0.3596\n",
      "Loss after 5000 iter. : 0.5287\n",
      "Loss after 10000 iter. : 0.3848\n",
      "Loss after 5000 iter. : 0.4249\n",
      "Loss after 10000 iter. : 0.4390\n",
      "Loss after 5000 iter. : 0.3364\n",
      "Loss after 10000 iter. : 0.3973\n",
      "Loss after 5000 iter. : 0.4448\n",
      "Loss after 10000 iter. : 0.4789\n",
      "Loss after 5000 iter. : 0.3253\n"
     ]
    },
    {
     "name": "stderr",
     "output_type": "stream",
     "text": [
      "\r",
      " 22%|██▏       | 109/500 [13:01:36<50:44:27, 467.18s/it]"
     ]
    },
    {
     "name": "stdout",
     "output_type": "stream",
     "text": [
      "Loss after 10000 iter. : 0.4384\n",
      "Loss after 5000 iter. : 0.3925\n",
      "Loss after 10000 iter. : 0.2947\n",
      "Loss after 5000 iter. : 0.3001\n",
      "Loss after 10000 iter. : 0.3868\n",
      "Loss after 5000 iter. : 0.4979\n",
      "Loss after 10000 iter. : 0.3939\n",
      "Loss after 5000 iter. : 0.3605\n",
      "Loss after 10000 iter. : 0.3924\n",
      "Loss after 5000 iter. : 0.4450\n"
     ]
    },
    {
     "name": "stderr",
     "output_type": "stream",
     "text": [
      "\r",
      " 22%|██▏       | 110/500 [13:08:40<49:11:23, 454.06s/it]"
     ]
    },
    {
     "name": "stdout",
     "output_type": "stream",
     "text": [
      "Loss after 10000 iter. : 0.3997\n",
      "Loss after 5000 iter. : 0.4650\n",
      "Loss after 10000 iter. : 0.3272\n",
      "Loss after 5000 iter. : 0.3751\n",
      "Loss after 10000 iter. : 0.3561\n",
      "Loss after 5000 iter. : 0.3879\n",
      "Loss after 10000 iter. : 0.3595\n",
      "Loss after 5000 iter. : 0.4748\n",
      "Loss after 10000 iter. : 0.4795\n",
      "Loss after 5000 iter. : 0.4487\n"
     ]
    },
    {
     "name": "stderr",
     "output_type": "stream",
     "text": [
      "\r",
      " 22%|██▏       | 111/500 [13:21:26<59:11:14, 547.75s/it]"
     ]
    },
    {
     "name": "stdout",
     "output_type": "stream",
     "text": [
      "Loss after 10000 iter. : 0.3405\n",
      "Loss after 5000 iter. : 0.4815\n",
      "Loss after 10000 iter. : 0.3181\n",
      "Loss after 5000 iter. : 0.3836\n",
      "Loss after 10000 iter. : 0.4743\n",
      "Loss after 5000 iter. : 0.3917\n",
      "Loss after 10000 iter. : 0.4226\n",
      "Loss after 5000 iter. : 0.3012\n",
      "Loss after 10000 iter. : 0.3130\n",
      "Loss after 5000 iter. : 0.3517\n"
     ]
    },
    {
     "name": "stderr",
     "output_type": "stream",
     "text": [
      "\r",
      " 22%|██▏       | 112/500 [13:26:21<50:52:12, 471.99s/it]"
     ]
    },
    {
     "name": "stdout",
     "output_type": "stream",
     "text": [
      "Loss after 10000 iter. : 0.4478\n",
      "Loss after 5000 iter. : 0.4507\n",
      "Loss after 10000 iter. : 0.5061\n",
      "Loss after 5000 iter. : 0.4144\n",
      "Loss after 10000 iter. : 0.3658\n",
      "Loss after 5000 iter. : 0.4692\n",
      "Loss after 10000 iter. : 0.4142\n",
      "Loss after 5000 iter. : 0.4440\n",
      "Loss after 10000 iter. : 0.4236\n",
      "Loss after 5000 iter. : 0.4746\n"
     ]
    },
    {
     "name": "stderr",
     "output_type": "stream",
     "text": [
      "\r",
      " 23%|██▎       | 113/500 [13:37:08<56:22:28, 524.41s/it]"
     ]
    },
    {
     "name": "stdout",
     "output_type": "stream",
     "text": [
      "Loss after 10000 iter. : 0.4190\n",
      "Loss after 5000 iter. : 0.2703\n",
      "Loss after 10000 iter. : 0.1337\n",
      "Loss after 5000 iter. : 0.2783\n",
      "Loss after 10000 iter. : 0.1663\n",
      "Loss after 5000 iter. : 0.2601\n",
      "Loss after 10000 iter. : 0.1453\n",
      "Loss after 5000 iter. : 0.2304\n",
      "Loss after 10000 iter. : 0.1450\n",
      "Loss after 5000 iter. : 0.2705\n"
     ]
    },
    {
     "name": "stderr",
     "output_type": "stream",
     "text": [
      "\r",
      " 23%|██▎       | 114/500 [13:46:44<57:53:53, 539.98s/it]"
     ]
    },
    {
     "name": "stdout",
     "output_type": "stream",
     "text": [
      "Loss after 10000 iter. : 0.2723\n",
      "Loss after 5000 iter. : 0.5490\n",
      "Loss after 10000 iter. : 0.4317\n",
      "Loss after 5000 iter. : 0.3779\n",
      "Loss after 10000 iter. : 0.3269\n",
      "Loss after 5000 iter. : 0.4427\n",
      "Loss after 10000 iter. : 0.3400\n",
      "Loss after 5000 iter. : 0.3751\n",
      "Loss after 10000 iter. : 0.4011\n",
      "Loss after 5000 iter. : 0.3493\n"
     ]
    },
    {
     "name": "stderr",
     "output_type": "stream",
     "text": [
      "\r",
      " 23%|██▎       | 115/500 [13:51:46<50:06:41, 468.58s/it]"
     ]
    },
    {
     "name": "stdout",
     "output_type": "stream",
     "text": [
      "Loss after 10000 iter. : 0.4142\n",
      "Loss after 5000 iter. : 0.2960\n",
      "Loss after 10000 iter. : 0.3675\n",
      "Loss after 5000 iter. : 0.4337\n",
      "Loss after 10000 iter. : 0.3953\n",
      "Loss after 5000 iter. : 0.3369\n",
      "Loss after 10000 iter. : 0.4071\n",
      "Loss after 5000 iter. : 0.3366\n",
      "Loss after 10000 iter. : 0.3726\n",
      "Loss after 5000 iter. : 0.3247\n"
     ]
    },
    {
     "name": "stderr",
     "output_type": "stream",
     "text": [
      "\r",
      " 23%|██▎       | 116/500 [13:57:20<45:40:02, 428.13s/it]"
     ]
    },
    {
     "name": "stdout",
     "output_type": "stream",
     "text": [
      "Loss after 10000 iter. : 0.3856\n",
      "Loss after 5000 iter. : 0.4023\n",
      "Loss after 10000 iter. : 0.3657\n",
      "Loss after 5000 iter. : 0.3827\n",
      "Loss after 10000 iter. : 0.3669\n",
      "Loss after 5000 iter. : 0.4893\n",
      "Loss after 10000 iter. : 0.3313\n",
      "Loss after 5000 iter. : 0.4987\n",
      "Loss after 10000 iter. : 0.5898\n",
      "Loss after 5000 iter. : 0.5247\n"
     ]
    },
    {
     "name": "stderr",
     "output_type": "stream",
     "text": [
      "\r",
      " 23%|██▎       | 117/500 [14:02:29<41:43:56, 392.26s/it]"
     ]
    },
    {
     "name": "stdout",
     "output_type": "stream",
     "text": [
      "Loss after 10000 iter. : 0.4079\n",
      "Loss after 5000 iter. : 0.4210\n",
      "Loss after 10000 iter. : 0.4100\n",
      "Loss after 5000 iter. : 0.4607\n",
      "Loss after 10000 iter. : 0.3805\n",
      "Loss after 5000 iter. : 0.4682\n",
      "Loss after 10000 iter. : 0.3957\n",
      "Loss after 5000 iter. : 0.3107\n",
      "Loss after 10000 iter. : 0.4524\n",
      "Loss after 5000 iter. : 0.5393\n"
     ]
    },
    {
     "name": "stderr",
     "output_type": "stream",
     "text": [
      "\r",
      " 24%|██▎       | 118/500 [14:07:39<39:00:55, 367.68s/it]"
     ]
    },
    {
     "name": "stdout",
     "output_type": "stream",
     "text": [
      "Loss after 10000 iter. : 0.4240\n",
      "Loss after 5000 iter. : 0.2678\n",
      "Loss after 10000 iter. : 0.2881\n",
      "Loss after 5000 iter. : 0.4343\n",
      "Loss after 10000 iter. : 0.5370\n",
      "Loss after 5000 iter. : 0.2733\n",
      "Loss after 10000 iter. : 0.3990\n",
      "Loss after 5000 iter. : 0.4804\n",
      "Loss after 10000 iter. : 0.3352\n",
      "Loss after 5000 iter. : 0.4305\n"
     ]
    },
    {
     "name": "stderr",
     "output_type": "stream",
     "text": [
      "\r",
      " 24%|██▍       | 119/500 [14:12:45<36:56:29, 349.05s/it]"
     ]
    },
    {
     "name": "stdout",
     "output_type": "stream",
     "text": [
      "Loss after 10000 iter. : 0.4491\n",
      "Loss after 5000 iter. : 0.3511\n",
      "Loss after 10000 iter. : 0.4396\n",
      "Loss after 5000 iter. : 0.8198\n",
      "Loss after 10000 iter. : 0.4354\n",
      "Loss after 5000 iter. : 0.4040\n",
      "Loss after 10000 iter. : 0.5446\n",
      "Loss after 5000 iter. : 0.5432\n",
      "Loss after 10000 iter. : 0.5239\n",
      "Loss after 5000 iter. : 0.3402\n"
     ]
    },
    {
     "name": "stderr",
     "output_type": "stream",
     "text": [
      "\r",
      " 24%|██▍       | 120/500 [14:16:16<32:29:26, 307.81s/it]"
     ]
    },
    {
     "name": "stdout",
     "output_type": "stream",
     "text": [
      "Loss after 10000 iter. : 0.5105\n",
      "Loss after 5000 iter. : 0.4241\n",
      "Loss after 10000 iter. : 0.3919\n",
      "Loss after 5000 iter. : 0.3693\n",
      "Loss after 10000 iter. : 0.3268\n",
      "Loss after 5000 iter. : 0.3459\n",
      "Loss after 10000 iter. : 0.3937\n",
      "Loss after 5000 iter. : 0.4199\n",
      "Loss after 10000 iter. : 0.4394\n",
      "Loss after 5000 iter. : 0.3986\n"
     ]
    },
    {
     "name": "stderr",
     "output_type": "stream",
     "text": [
      "\r",
      " 24%|██▍       | 121/500 [14:23:40<36:42:54, 348.74s/it]"
     ]
    },
    {
     "name": "stdout",
     "output_type": "stream",
     "text": [
      "Loss after 10000 iter. : 0.3203\n",
      "Loss after 5000 iter. : 0.3241\n",
      "Loss after 10000 iter. : 0.4901\n",
      "Loss after 5000 iter. : 0.5677\n",
      "Loss after 10000 iter. : 0.4940\n",
      "Loss after 5000 iter. : 0.3729\n",
      "Loss after 10000 iter. : 0.4681\n",
      "Loss after 5000 iter. : 0.5973\n",
      "Loss after 10000 iter. : 0.4981\n",
      "Loss after 5000 iter. : 0.4029\n"
     ]
    },
    {
     "name": "stderr",
     "output_type": "stream",
     "text": [
      "\r",
      " 24%|██▍       | 122/500 [14:30:10<37:54:32, 361.04s/it]"
     ]
    },
    {
     "name": "stdout",
     "output_type": "stream",
     "text": [
      "Loss after 10000 iter. : 0.4965\n",
      "Loss after 5000 iter. : 0.4133\n",
      "Loss after 10000 iter. : 0.3820\n",
      "Loss after 5000 iter. : 0.3879\n",
      "Loss after 10000 iter. : 0.3833\n",
      "Loss after 5000 iter. : 0.4851\n",
      "Loss after 10000 iter. : 0.3540\n",
      "Loss after 5000 iter. : 0.5374\n",
      "Loss after 10000 iter. : 0.4396\n",
      "Loss after 5000 iter. : 0.4134\n"
     ]
    },
    {
     "name": "stderr",
     "output_type": "stream",
     "text": [
      "\r",
      " 25%|██▍       | 123/500 [14:35:57<37:22:28, 356.89s/it]"
     ]
    },
    {
     "name": "stdout",
     "output_type": "stream",
     "text": [
      "Loss after 10000 iter. : 0.4785\n",
      "Loss after 5000 iter. : 0.4266\n",
      "Loss after 10000 iter. : 0.3596\n",
      "Loss after 5000 iter. : 0.3924\n",
      "Loss after 10000 iter. : 0.3814\n",
      "Loss after 5000 iter. : 0.3806\n",
      "Loss after 10000 iter. : 0.3749\n",
      "Loss after 5000 iter. : 0.4268\n",
      "Loss after 10000 iter. : 0.4127\n",
      "Loss after 5000 iter. : 0.4207\n"
     ]
    },
    {
     "name": "stderr",
     "output_type": "stream",
     "text": [
      "\r",
      " 25%|██▍       | 124/500 [14:41:56<37:19:46, 357.41s/it]"
     ]
    },
    {
     "name": "stdout",
     "output_type": "stream",
     "text": [
      "Loss after 10000 iter. : 0.3571\n",
      "Loss after 5000 iter. : 0.4655\n",
      "Loss after 10000 iter. : 0.4057\n",
      "Loss after 5000 iter. : 0.3590\n",
      "Loss after 10000 iter. : 0.2818\n",
      "Loss after 5000 iter. : 0.3208\n",
      "Loss after 10000 iter. : 0.3952\n",
      "Loss after 5000 iter. : 0.3171\n",
      "Loss after 10000 iter. : 0.4398\n",
      "Loss after 5000 iter. : 0.4384\n"
     ]
    },
    {
     "name": "stderr",
     "output_type": "stream",
     "text": [
      "\r",
      " 25%|██▌       | 125/500 [14:49:25<40:06:34, 385.05s/it]"
     ]
    },
    {
     "name": "stdout",
     "output_type": "stream",
     "text": [
      "Loss after 10000 iter. : 0.4024\n",
      "Loss after 5000 iter. : 0.2819\n",
      "Loss after 10000 iter. : 0.4611\n",
      "Loss after 5000 iter. : 0.2882\n",
      "Loss after 10000 iter. : 0.4742\n",
      "Loss after 5000 iter. : 0.4773\n",
      "Loss after 10000 iter. : 0.3555\n",
      "Loss after 5000 iter. : 0.4962\n",
      "Loss after 10000 iter. : 0.3634\n",
      "Loss after 5000 iter. : 0.4686\n"
     ]
    },
    {
     "name": "stderr",
     "output_type": "stream",
     "text": [
      "\r",
      " 25%|██▌       | 126/500 [14:55:39<39:38:45, 381.62s/it]"
     ]
    },
    {
     "name": "stdout",
     "output_type": "stream",
     "text": [
      "Loss after 10000 iter. : 0.4067\n",
      "Loss after 5000 iter. : 0.3836\n",
      "Loss after 10000 iter. : 0.2490\n",
      "Loss after 5000 iter. : 0.3726\n",
      "Loss after 10000 iter. : 0.3677\n",
      "Loss after 5000 iter. : 0.3772\n",
      "Loss after 10000 iter. : 0.2819\n",
      "Loss after 5000 iter. : 0.3849\n",
      "Loss after 10000 iter. : 0.2480\n",
      "Loss after 5000 iter. : 0.4137\n"
     ]
    },
    {
     "name": "stderr",
     "output_type": "stream",
     "text": [
      "\r",
      " 25%|██▌       | 127/500 [15:06:02<47:01:41, 453.89s/it]"
     ]
    },
    {
     "name": "stdout",
     "output_type": "stream",
     "text": [
      "Loss after 10000 iter. : 0.2576\n",
      "Loss after 5000 iter. : 0.3853\n",
      "Loss after 10000 iter. : 0.4400\n",
      "Loss after 5000 iter. : 0.4408\n",
      "Loss after 10000 iter. : 0.3496\n",
      "Loss after 5000 iter. : 0.3407\n",
      "Loss after 10000 iter. : 0.4618\n",
      "Loss after 5000 iter. : 0.4861\n",
      "Loss after 10000 iter. : 0.4991\n",
      "Loss after 5000 iter. : 0.4866\n"
     ]
    },
    {
     "name": "stderr",
     "output_type": "stream",
     "text": [
      "\r",
      " 26%|██▌       | 128/500 [15:11:27<42:55:14, 415.36s/it]"
     ]
    },
    {
     "name": "stdout",
     "output_type": "stream",
     "text": [
      "Loss after 10000 iter. : 0.3671\n",
      "Loss after 5000 iter. : 0.4813\n",
      "Loss after 10000 iter. : 0.4016\n",
      "Loss after 5000 iter. : 0.4256\n",
      "Loss after 10000 iter. : 0.3986\n",
      "Loss after 5000 iter. : 0.4855\n",
      "Loss after 10000 iter. : 0.4984\n",
      "Loss after 5000 iter. : 0.5355\n",
      "Loss after 10000 iter. : 0.4765\n",
      "Loss after 5000 iter. : 0.5909\n"
     ]
    },
    {
     "name": "stderr",
     "output_type": "stream",
     "text": [
      "\r",
      " 26%|██▌       | 129/500 [15:17:46<41:41:37, 404.57s/it]"
     ]
    },
    {
     "name": "stdout",
     "output_type": "stream",
     "text": [
      "Loss after 10000 iter. : 0.4959\n",
      "Loss after 5000 iter. : 0.3666\n",
      "Loss after 10000 iter. : 0.2549\n",
      "Loss after 5000 iter. : 0.4486\n",
      "Loss after 10000 iter. : 0.5112\n",
      "Loss after 5000 iter. : 0.3196\n",
      "Loss after 10000 iter. : 0.3045\n",
      "Loss after 5000 iter. : 0.3260\n",
      "Loss after 10000 iter. : 0.5507\n",
      "Loss after 5000 iter. : 0.3519\n"
     ]
    },
    {
     "name": "stderr",
     "output_type": "stream",
     "text": [
      "\r",
      " 26%|██▌       | 130/500 [15:21:45<36:27:06, 354.67s/it]"
     ]
    },
    {
     "name": "stdout",
     "output_type": "stream",
     "text": [
      "Loss after 10000 iter. : 0.5206\n",
      "Loss after 5000 iter. : 0.3923\n",
      "Loss after 10000 iter. : 0.4027\n",
      "Loss after 5000 iter. : 0.4475\n",
      "Loss after 10000 iter. : 0.5110\n",
      "Loss after 5000 iter. : 0.3874\n",
      "Loss after 10000 iter. : 0.4544\n",
      "Loss after 5000 iter. : 0.5045\n",
      "Loss after 10000 iter. : 0.4308\n",
      "Loss after 5000 iter. : 0.4047\n"
     ]
    },
    {
     "name": "stderr",
     "output_type": "stream",
     "text": [
      "\r",
      " 26%|██▌       | 131/500 [15:28:02<37:02:22, 361.36s/it]"
     ]
    },
    {
     "name": "stdout",
     "output_type": "stream",
     "text": [
      "Loss after 10000 iter. : 0.3819\n",
      "Loss after 5000 iter. : 0.3663\n",
      "Loss after 10000 iter. : 0.5379\n",
      "Loss after 5000 iter. : 0.4187\n",
      "Loss after 10000 iter. : 0.2703\n",
      "Loss after 5000 iter. : 0.4988\n",
      "Loss after 10000 iter. : 0.5113\n",
      "Loss after 5000 iter. : 0.4552\n",
      "Loss after 10000 iter. : 0.4178\n",
      "Loss after 5000 iter. : 0.4488\n"
     ]
    },
    {
     "name": "stderr",
     "output_type": "stream",
     "text": [
      "\r",
      " 26%|██▋       | 132/500 [15:36:40<41:44:25, 408.33s/it]"
     ]
    },
    {
     "name": "stdout",
     "output_type": "stream",
     "text": [
      "Loss after 10000 iter. : 0.4458\n",
      "Loss after 5000 iter. : 0.2689\n",
      "Loss after 10000 iter. : 0.4911\n",
      "Loss after 5000 iter. : 0.4742\n",
      "Loss after 10000 iter. : 0.3498\n",
      "Loss after 5000 iter. : 0.4175\n",
      "Loss after 10000 iter. : 0.3264\n",
      "Loss after 5000 iter. : 0.3301\n",
      "Loss after 10000 iter. : 0.4173\n",
      "Loss after 5000 iter. : 0.5327\n"
     ]
    },
    {
     "name": "stderr",
     "output_type": "stream",
     "text": [
      "\r",
      " 27%|██▋       | 133/500 [15:39:38<34:35:21, 339.29s/it]"
     ]
    },
    {
     "name": "stdout",
     "output_type": "stream",
     "text": [
      "Loss after 10000 iter. : 0.4381\n",
      "Loss after 5000 iter. : 0.4420\n",
      "Loss after 10000 iter. : 0.4079\n",
      "Loss after 5000 iter. : 0.5285\n",
      "Loss after 10000 iter. : 0.6304\n",
      "Loss after 5000 iter. : 0.3824\n",
      "Loss after 10000 iter. : 0.4065\n",
      "Loss after 5000 iter. : 0.4283\n",
      "Loss after 10000 iter. : 0.6953\n",
      "Loss after 5000 iter. : 0.6316\n"
     ]
    },
    {
     "name": "stderr",
     "output_type": "stream",
     "text": [
      "\r",
      " 27%|██▋       | 134/500 [15:45:46<35:23:02, 348.04s/it]"
     ]
    },
    {
     "name": "stdout",
     "output_type": "stream",
     "text": [
      "Loss after 10000 iter. : 0.6061\n",
      "Loss after 5000 iter. : 0.3668\n",
      "Loss after 10000 iter. : 0.3605\n",
      "Loss after 5000 iter. : 0.4027\n",
      "Loss after 10000 iter. : 0.3389\n",
      "Loss after 5000 iter. : 0.3652\n",
      "Loss after 10000 iter. : 0.2874\n",
      "Loss after 5000 iter. : 0.4997\n",
      "Loss after 10000 iter. : 0.3845\n",
      "Loss after 5000 iter. : 0.3864\n"
     ]
    },
    {
     "name": "stderr",
     "output_type": "stream",
     "text": [
      "\r",
      " 27%|██▋       | 135/500 [15:51:36<35:19:32, 348.42s/it]"
     ]
    },
    {
     "name": "stdout",
     "output_type": "stream",
     "text": [
      "Loss after 10000 iter. : 0.4542\n",
      "Loss after 5000 iter. : 0.4294\n",
      "Loss after 10000 iter. : 0.4191\n",
      "Loss after 5000 iter. : 0.5356\n",
      "Loss after 10000 iter. : 0.4689\n",
      "Loss after 5000 iter. : 0.5084\n",
      "Loss after 10000 iter. : 0.4218\n",
      "Loss after 5000 iter. : 0.4700\n",
      "Loss after 10000 iter. : 0.3316\n",
      "Loss after 5000 iter. : 0.4660\n"
     ]
    },
    {
     "name": "stderr",
     "output_type": "stream",
     "text": [
      "\r",
      " 27%|██▋       | 136/500 [15:59:20<38:44:48, 383.21s/it]"
     ]
    },
    {
     "name": "stdout",
     "output_type": "stream",
     "text": [
      "Loss after 10000 iter. : 0.3953\n",
      "Loss after 5000 iter. : 0.4734\n",
      "Loss after 10000 iter. : 0.3568\n",
      "Loss after 5000 iter. : 0.5408\n",
      "Loss after 10000 iter. : 0.4340\n",
      "Loss after 5000 iter. : 0.4454\n",
      "Loss after 10000 iter. : 0.5038\n",
      "Loss after 5000 iter. : 0.4383\n",
      "Loss after 10000 iter. : 0.4743\n",
      "Loss after 5000 iter. : 0.4422\n"
     ]
    },
    {
     "name": "stderr",
     "output_type": "stream",
     "text": [
      "\r",
      " 27%|██▋       | 137/500 [16:06:02<39:12:54, 388.91s/it]"
     ]
    },
    {
     "name": "stdout",
     "output_type": "stream",
     "text": [
      "Loss after 10000 iter. : 0.2791\n",
      "Loss after 5000 iter. : 0.3621\n",
      "Loss after 10000 iter. : 0.3777\n",
      "Loss after 5000 iter. : 0.4847\n",
      "Loss after 10000 iter. : 0.3291\n",
      "Loss after 5000 iter. : 0.4195\n",
      "Loss after 10000 iter. : 0.3447\n",
      "Loss after 5000 iter. : 0.4325\n",
      "Loss after 10000 iter. : 0.4650\n",
      "Loss after 5000 iter. : 0.4413\n"
     ]
    },
    {
     "name": "stderr",
     "output_type": "stream",
     "text": [
      "\r",
      " 28%|██▊       | 138/500 [16:13:10<40:16:37, 400.55s/it]"
     ]
    },
    {
     "name": "stdout",
     "output_type": "stream",
     "text": [
      "Loss after 10000 iter. : 0.4541\n",
      "Loss after 5000 iter. : 0.3071\n",
      "Loss after 10000 iter. : 0.3221\n",
      "Loss after 5000 iter. : 0.3505\n",
      "Loss after 10000 iter. : 0.3466\n",
      "Loss after 5000 iter. : 0.4648\n",
      "Loss after 10000 iter. : 0.6050\n",
      "Loss after 5000 iter. : 0.4802\n",
      "Loss after 10000 iter. : 0.4163\n",
      "Loss after 5000 iter. : 0.4624\n"
     ]
    },
    {
     "name": "stderr",
     "output_type": "stream",
     "text": [
      "\r",
      " 28%|██▊       | 139/500 [16:17:53<36:37:58, 365.31s/it]"
     ]
    },
    {
     "name": "stdout",
     "output_type": "stream",
     "text": [
      "Loss after 10000 iter. : 0.3611\n",
      "Loss after 5000 iter. : 0.3122\n",
      "Loss after 10000 iter. : 0.3329\n",
      "Loss after 5000 iter. : 0.3635\n",
      "Loss after 10000 iter. : 0.3169\n",
      "Loss after 5000 iter. : 0.3197\n",
      "Loss after 10000 iter. : 0.3662\n",
      "Loss after 5000 iter. : 0.3385\n",
      "Loss after 10000 iter. : 0.3466\n",
      "Loss after 5000 iter. : 0.5553\n"
     ]
    },
    {
     "name": "stderr",
     "output_type": "stream",
     "text": [
      "\r",
      " 28%|██▊       | 140/500 [16:27:23<42:40:49, 426.80s/it]"
     ]
    },
    {
     "name": "stdout",
     "output_type": "stream",
     "text": [
      "Loss after 10000 iter. : 0.4130\n",
      "Loss after 5000 iter. : 0.4058\n",
      "Loss after 10000 iter. : 0.5888\n",
      "Loss after 5000 iter. : 0.3531\n",
      "Loss after 10000 iter. : 0.4565\n",
      "Loss after 5000 iter. : 0.5896\n",
      "Loss after 10000 iter. : 0.4998\n",
      "Loss after 5000 iter. : 0.5271\n",
      "Loss after 10000 iter. : 0.4081\n",
      "Loss after 5000 iter. : 0.3450\n"
     ]
    },
    {
     "name": "stderr",
     "output_type": "stream",
     "text": [
      "\r",
      " 28%|██▊       | 141/500 [16:33:01<39:54:43, 400.23s/it]"
     ]
    },
    {
     "name": "stdout",
     "output_type": "stream",
     "text": [
      "Loss after 10000 iter. : 0.3764\n",
      "Loss after 5000 iter. : 0.4576\n",
      "Loss after 10000 iter. : 0.3417\n",
      "Loss after 5000 iter. : 0.3514\n",
      "Loss after 10000 iter. : 0.3137\n",
      "Loss after 5000 iter. : 0.4965\n",
      "Loss after 10000 iter. : 0.4255\n",
      "Loss after 5000 iter. : 0.5070\n",
      "Loss after 10000 iter. : 0.7827\n",
      "Loss after 5000 iter. : 0.2961\n"
     ]
    },
    {
     "name": "stderr",
     "output_type": "stream",
     "text": [
      "\r",
      " 28%|██▊       | 142/500 [16:37:07<35:10:24, 353.70s/it]"
     ]
    },
    {
     "name": "stdout",
     "output_type": "stream",
     "text": [
      "Loss after 10000 iter. : 0.4366\n",
      "Loss after 5000 iter. : 0.3855\n",
      "Loss after 10000 iter. : 0.4319\n",
      "Loss after 5000 iter. : 0.4805\n",
      "Loss after 10000 iter. : 0.3654\n",
      "Loss after 5000 iter. : 0.2546\n",
      "Loss after 10000 iter. : 0.5078\n",
      "Loss after 5000 iter. : 0.3111\n",
      "Loss after 10000 iter. : 0.4924\n",
      "Loss after 5000 iter. : 0.2579\n"
     ]
    },
    {
     "name": "stderr",
     "output_type": "stream",
     "text": [
      "\r",
      " 29%|██▊       | 143/500 [16:42:34<34:17:46, 345.84s/it]"
     ]
    },
    {
     "name": "stdout",
     "output_type": "stream",
     "text": [
      "Loss after 10000 iter. : 0.3516\n",
      "Loss after 5000 iter. : 0.2770\n",
      "Loss after 10000 iter. : 0.5010\n",
      "Loss after 5000 iter. : 0.3632\n",
      "Loss after 10000 iter. : 0.4939\n",
      "Loss after 5000 iter. : 0.3330\n",
      "Loss after 10000 iter. : 0.4513\n",
      "Loss after 5000 iter. : 0.4604\n",
      "Loss after 10000 iter. : 0.3875\n",
      "Loss after 5000 iter. : 0.4054\n"
     ]
    },
    {
     "name": "stderr",
     "output_type": "stream",
     "text": [
      "\r",
      " 29%|██▉       | 144/500 [16:48:16<34:05:29, 344.75s/it]"
     ]
    },
    {
     "name": "stdout",
     "output_type": "stream",
     "text": [
      "Loss after 10000 iter. : 0.5358\n",
      "Loss after 5000 iter. : 0.5169\n",
      "Loss after 10000 iter. : 0.4395\n",
      "Loss after 5000 iter. : 0.3581\n",
      "Loss after 10000 iter. : 0.3826\n",
      "Loss after 5000 iter. : 0.4417\n",
      "Loss after 10000 iter. : 0.4329\n",
      "Loss after 5000 iter. : 0.3972\n",
      "Loss after 10000 iter. : 0.2883\n",
      "Loss after 5000 iter. : 0.4306\n"
     ]
    },
    {
     "name": "stderr",
     "output_type": "stream",
     "text": [
      "\r",
      " 29%|██▉       | 145/500 [16:54:49<35:24:30, 359.07s/it]"
     ]
    },
    {
     "name": "stdout",
     "output_type": "stream",
     "text": [
      "Loss after 10000 iter. : 0.3552\n",
      "Loss after 5000 iter. : 0.4711\n",
      "Loss after 10000 iter. : 0.4272\n",
      "Loss after 5000 iter. : 0.3634\n",
      "Loss after 10000 iter. : 0.5059\n",
      "Loss after 5000 iter. : 0.3817\n",
      "Loss after 10000 iter. : 0.4669\n",
      "Loss after 5000 iter. : 0.3104\n",
      "Loss after 10000 iter. : 0.3688\n",
      "Loss after 5000 iter. : 0.4533\n"
     ]
    },
    {
     "name": "stderr",
     "output_type": "stream",
     "text": [
      "\r",
      " 29%|██▉       | 146/500 [17:01:18<36:11:17, 368.02s/it]"
     ]
    },
    {
     "name": "stdout",
     "output_type": "stream",
     "text": [
      "Loss after 10000 iter. : 0.5108\n",
      "Loss after 5000 iter. : 0.3863\n",
      "Loss after 10000 iter. : 0.3878\n",
      "Loss after 5000 iter. : 0.3550\n",
      "Loss after 10000 iter. : 0.3873\n",
      "Loss after 5000 iter. : 0.3231\n",
      "Loss after 10000 iter. : 0.4223\n",
      "Loss after 5000 iter. : 0.3536\n",
      "Loss after 10000 iter. : 0.4195\n",
      "Loss after 5000 iter. : 0.2606\n"
     ]
    },
    {
     "name": "stderr",
     "output_type": "stream",
     "text": [
      "\r",
      " 29%|██▉       | 147/500 [17:08:32<38:02:28, 387.96s/it]"
     ]
    },
    {
     "name": "stdout",
     "output_type": "stream",
     "text": [
      "Loss after 10000 iter. : 0.3459\n",
      "Loss after 5000 iter. : 0.3687\n",
      "Loss after 10000 iter. : 0.3815\n",
      "Loss after 5000 iter. : 0.5216\n",
      "Loss after 10000 iter. : 0.4086\n",
      "Loss after 5000 iter. : 0.3549\n",
      "Loss after 10000 iter. : 0.3878\n",
      "Loss after 5000 iter. : 0.4108\n",
      "Loss after 10000 iter. : 0.4143\n",
      "Loss after 5000 iter. : 0.3699\n"
     ]
    },
    {
     "name": "stderr",
     "output_type": "stream",
     "text": [
      "\r",
      " 30%|██▉       | 148/500 [17:17:41<42:39:22, 436.26s/it]"
     ]
    },
    {
     "name": "stdout",
     "output_type": "stream",
     "text": [
      "Loss after 10000 iter. : 0.3606\n",
      "Loss after 5000 iter. : 0.5159\n",
      "Loss after 10000 iter. : 0.8284\n",
      "Loss after 5000 iter. : 0.6052\n",
      "Loss after 10000 iter. : 0.3048\n",
      "Loss after 5000 iter. : 0.3551\n",
      "Loss after 10000 iter. : 0.4299\n",
      "Loss after 5000 iter. : 0.3763\n",
      "Loss after 10000 iter. : 0.5214\n",
      "Loss after 5000 iter. : 0.4470\n"
     ]
    },
    {
     "name": "stderr",
     "output_type": "stream",
     "text": [
      "\r",
      " 30%|██▉       | 149/500 [17:26:01<44:23:12, 455.25s/it]"
     ]
    },
    {
     "name": "stdout",
     "output_type": "stream",
     "text": [
      "Loss after 10000 iter. : 0.3741\n",
      "Loss after 5000 iter. : 0.3379\n",
      "Loss after 10000 iter. : 0.4502\n",
      "Loss after 5000 iter. : 0.2768\n",
      "Loss after 10000 iter. : 0.5144\n",
      "Loss after 5000 iter. : 0.3865\n",
      "Loss after 10000 iter. : 0.5406\n",
      "Loss after 5000 iter. : 0.4569\n",
      "Loss after 10000 iter. : 0.3590\n",
      "Loss after 5000 iter. : 0.4559\n"
     ]
    },
    {
     "name": "stderr",
     "output_type": "stream",
     "text": [
      "\r",
      " 30%|███       | 150/500 [17:31:19<40:15:47, 414.14s/it]"
     ]
    },
    {
     "name": "stdout",
     "output_type": "stream",
     "text": [
      "Loss after 10000 iter. : 0.3270\n",
      "Loss after 5000 iter. : 0.3200\n",
      "Loss after 10000 iter. : 0.4735\n",
      "Loss after 5000 iter. : 0.4173\n",
      "Loss after 10000 iter. : 0.5416\n",
      "Loss after 5000 iter. : 0.3810\n",
      "Loss after 10000 iter. : 0.5129\n",
      "Loss after 5000 iter. : 0.3917\n",
      "Loss after 10000 iter. : 0.4005\n",
      "Loss after 5000 iter. : 0.6688\n"
     ]
    },
    {
     "name": "stderr",
     "output_type": "stream",
     "text": [
      "\r",
      " 30%|███       | 151/500 [17:35:47<35:53:54, 370.30s/it]"
     ]
    },
    {
     "name": "stdout",
     "output_type": "stream",
     "text": [
      "Loss after 10000 iter. : 0.7062\n",
      "Loss after 5000 iter. : 0.4399\n",
      "Loss after 10000 iter. : 0.2976\n",
      "Loss after 5000 iter. : 0.4309\n",
      "Loss after 10000 iter. : 0.4230\n",
      "Loss after 5000 iter. : 0.3758\n",
      "Loss after 10000 iter. : 0.2954\n",
      "Loss after 5000 iter. : 0.3359\n",
      "Loss after 10000 iter. : 0.3073\n",
      "Loss after 5000 iter. : 0.4102\n"
     ]
    },
    {
     "name": "stderr",
     "output_type": "stream",
     "text": [
      "\r",
      " 30%|███       | 152/500 [17:44:36<40:23:54, 417.92s/it]"
     ]
    },
    {
     "name": "stdout",
     "output_type": "stream",
     "text": [
      "Loss after 10000 iter. : 0.3052\n",
      "Loss after 5000 iter. : 0.3499\n",
      "Loss after 10000 iter. : 0.4260\n",
      "Loss after 5000 iter. : 0.5124\n",
      "Loss after 10000 iter. : 0.4091\n",
      "Loss after 5000 iter. : 0.3480\n",
      "Loss after 10000 iter. : 0.4129\n",
      "Loss after 5000 iter. : 0.4478\n",
      "Loss after 10000 iter. : 0.4444\n",
      "Loss after 5000 iter. : 0.3466\n"
     ]
    },
    {
     "name": "stderr",
     "output_type": "stream",
     "text": [
      "\r",
      " 31%|███       | 153/500 [17:51:11<39:37:09, 411.04s/it]"
     ]
    },
    {
     "name": "stdout",
     "output_type": "stream",
     "text": [
      "Loss after 10000 iter. : 0.4012\n",
      "Loss after 5000 iter. : 0.3475\n",
      "Loss after 10000 iter. : 0.3562\n",
      "Loss after 5000 iter. : 0.3461\n",
      "Loss after 10000 iter. : 0.3960\n",
      "Loss after 5000 iter. : 0.5052\n",
      "Loss after 10000 iter. : 0.5865\n",
      "Loss after 5000 iter. : 0.3213\n",
      "Loss after 10000 iter. : 0.3233\n",
      "Loss after 5000 iter. : 0.3643\n"
     ]
    },
    {
     "name": "stderr",
     "output_type": "stream",
     "text": [
      "\r",
      " 31%|███       | 154/500 [17:55:52<35:45:29, 372.05s/it]"
     ]
    },
    {
     "name": "stdout",
     "output_type": "stream",
     "text": [
      "Loss after 10000 iter. : 0.3437\n",
      "Loss after 5000 iter. : 0.3723\n",
      "Loss after 10000 iter. : 0.4307\n",
      "Loss after 5000 iter. : 0.3581\n",
      "Loss after 10000 iter. : 0.4196\n",
      "Loss after 5000 iter. : 0.3630\n",
      "Loss after 10000 iter. : 0.4673\n",
      "Loss after 5000 iter. : 0.4124\n",
      "Loss after 10000 iter. : 0.3966\n",
      "Loss after 5000 iter. : 0.3511\n"
     ]
    },
    {
     "name": "stderr",
     "output_type": "stream",
     "text": [
      "\r",
      " 31%|███       | 155/500 [18:01:03<33:53:47, 353.70s/it]"
     ]
    },
    {
     "name": "stdout",
     "output_type": "stream",
     "text": [
      "Loss after 10000 iter. : 0.3065\n",
      "Loss after 5000 iter. : 0.4016\n",
      "Loss after 10000 iter. : 0.4119\n",
      "Loss after 5000 iter. : 0.6342\n",
      "Loss after 10000 iter. : 0.5136\n",
      "Loss after 5000 iter. : 0.4206\n",
      "Loss after 10000 iter. : 0.4256\n",
      "Loss after 5000 iter. : 0.4655\n",
      "Loss after 10000 iter. : 0.4828\n",
      "Loss after 5000 iter. : 0.4888\n"
     ]
    },
    {
     "name": "stderr",
     "output_type": "stream",
     "text": [
      "\r",
      " 31%|███       | 156/500 [18:07:49<35:18:00, 369.42s/it]"
     ]
    },
    {
     "name": "stdout",
     "output_type": "stream",
     "text": [
      "Loss after 10000 iter. : 0.5092\n",
      "Loss after 5000 iter. : 0.5033\n",
      "Loss after 10000 iter. : 0.5746\n",
      "Loss after 5000 iter. : 0.5639\n",
      "Loss after 10000 iter. : 0.4948\n",
      "Loss after 5000 iter. : 0.5438\n",
      "Loss after 10000 iter. : 0.3193\n",
      "Loss after 5000 iter. : 0.3480\n",
      "Loss after 10000 iter. : 0.4634\n",
      "Loss after 5000 iter. : 0.5168\n"
     ]
    },
    {
     "name": "stderr",
     "output_type": "stream",
     "text": [
      "\r",
      " 31%|███▏      | 157/500 [18:14:55<36:48:45, 386.37s/it]"
     ]
    },
    {
     "name": "stdout",
     "output_type": "stream",
     "text": [
      "Loss after 10000 iter. : 0.6951\n",
      "Loss after 5000 iter. : 0.2990\n",
      "Loss after 10000 iter. : 0.4517\n",
      "Loss after 5000 iter. : 0.3382\n",
      "Loss after 10000 iter. : 0.3357\n",
      "Loss after 5000 iter. : 0.3914\n",
      "Loss after 10000 iter. : 0.3604\n",
      "Loss after 5000 iter. : 0.3244\n",
      "Loss after 10000 iter. : 0.2819\n",
      "Loss after 5000 iter. : 0.4486\n"
     ]
    },
    {
     "name": "stderr",
     "output_type": "stream",
     "text": [
      "\r",
      " 32%|███▏      | 158/500 [18:22:57<39:26:11, 415.12s/it]"
     ]
    },
    {
     "name": "stdout",
     "output_type": "stream",
     "text": [
      "Loss after 10000 iter. : 0.4417\n",
      "Loss after 5000 iter. : 0.3017\n",
      "Loss after 10000 iter. : 0.5653\n",
      "Loss after 5000 iter. : 0.4173\n",
      "Loss after 10000 iter. : 0.5008\n",
      "Loss after 5000 iter. : 0.4547\n",
      "Loss after 10000 iter. : 0.5525\n",
      "Loss after 5000 iter. : 0.3873\n",
      "Loss after 10000 iter. : 0.4529\n",
      "Loss after 5000 iter. : 0.3778\n"
     ]
    },
    {
     "name": "stderr",
     "output_type": "stream",
     "text": [
      "\r",
      " 32%|███▏      | 159/500 [18:30:40<40:40:59, 429.50s/it]"
     ]
    },
    {
     "name": "stdout",
     "output_type": "stream",
     "text": [
      "Loss after 10000 iter. : 0.4512\n",
      "Loss after 5000 iter. : 0.5091\n",
      "Loss after 10000 iter. : 0.3439\n",
      "Loss after 5000 iter. : 0.3633\n",
      "Loss after 10000 iter. : 0.4217\n",
      "Loss after 5000 iter. : 0.3838\n",
      "Loss after 10000 iter. : 0.3328\n",
      "Loss after 5000 iter. : 0.3854\n",
      "Loss after 10000 iter. : 0.4251\n",
      "Loss after 5000 iter. : 0.3750\n"
     ]
    },
    {
     "name": "stderr",
     "output_type": "stream",
     "text": [
      "\r",
      " 32%|███▏      | 160/500 [18:44:00<51:03:04, 540.54s/it]"
     ]
    },
    {
     "name": "stdout",
     "output_type": "stream",
     "text": [
      "Loss after 10000 iter. : 0.3258\n",
      "Loss after 5000 iter. : 0.4069\n",
      "Loss after 10000 iter. : 0.5732\n",
      "Loss after 5000 iter. : 0.4325\n",
      "Loss after 10000 iter. : 0.3422\n",
      "Loss after 5000 iter. : 0.3443\n",
      "Loss after 10000 iter. : 0.3113\n",
      "Loss after 5000 iter. : 0.3811\n",
      "Loss after 10000 iter. : 0.4592\n",
      "Loss after 5000 iter. : 0.3507\n"
     ]
    },
    {
     "name": "stderr",
     "output_type": "stream",
     "text": [
      "\r",
      " 32%|███▏      | 161/500 [18:55:39<55:23:01, 588.15s/it]"
     ]
    },
    {
     "name": "stdout",
     "output_type": "stream",
     "text": [
      "Loss after 10000 iter. : 0.3681\n",
      "Loss after 5000 iter. : 0.4127\n",
      "Loss after 10000 iter. : 0.4460\n",
      "Loss after 5000 iter. : 0.5199\n",
      "Loss after 10000 iter. : 0.4404\n",
      "Loss after 5000 iter. : 0.5544\n",
      "Loss after 10000 iter. : 0.3889\n",
      "Loss after 5000 iter. : 0.4404\n",
      "Loss after 10000 iter. : 0.3937\n",
      "Loss after 5000 iter. : 0.4179\n"
     ]
    },
    {
     "name": "stderr",
     "output_type": "stream",
     "text": [
      "\r",
      " 32%|███▏      | 162/500 [19:00:39<47:05:57, 501.65s/it]"
     ]
    },
    {
     "name": "stdout",
     "output_type": "stream",
     "text": [
      "Loss after 10000 iter. : 0.3633\n",
      "Loss after 5000 iter. : 0.6386\n",
      "Loss after 10000 iter. : 0.1928\n",
      "Loss after 5000 iter. : 0.4448\n",
      "Loss after 10000 iter. : 0.2984\n",
      "Loss after 5000 iter. : 0.4519\n",
      "Loss after 10000 iter. : 0.5001\n",
      "Loss after 5000 iter. : 0.5156\n",
      "Loss after 10000 iter. : 0.4281\n",
      "Loss after 5000 iter. : 0.3979\n"
     ]
    },
    {
     "name": "stderr",
     "output_type": "stream",
     "text": [
      "\r",
      " 33%|███▎      | 163/500 [19:06:25<42:35:10, 454.93s/it]"
     ]
    },
    {
     "name": "stdout",
     "output_type": "stream",
     "text": [
      "Loss after 10000 iter. : 0.4208\n",
      "Loss after 5000 iter. : 0.2326\n",
      "Loss after 10000 iter. : 0.3539\n",
      "Loss after 5000 iter. : 0.4933\n",
      "Loss after 10000 iter. : 0.3361\n",
      "Loss after 5000 iter. : 0.3911\n",
      "Loss after 10000 iter. : 0.4311\n",
      "Loss after 5000 iter. : 0.2589\n",
      "Loss after 10000 iter. : 0.4164\n",
      "Loss after 5000 iter. : 0.3255\n"
     ]
    },
    {
     "name": "stderr",
     "output_type": "stream",
     "text": [
      "\r",
      " 33%|███▎      | 164/500 [19:12:06<39:17:18, 420.95s/it]"
     ]
    },
    {
     "name": "stdout",
     "output_type": "stream",
     "text": [
      "Loss after 10000 iter. : 0.4145\n",
      "Loss after 5000 iter. : 0.3982\n",
      "Loss after 10000 iter. : 0.4913\n",
      "Loss after 5000 iter. : 0.3437\n",
      "Loss after 10000 iter. : 0.3809\n",
      "Loss after 5000 iter. : 0.2653\n",
      "Loss after 10000 iter. : 0.4462\n",
      "Loss after 5000 iter. : 0.4574\n",
      "Loss after 10000 iter. : 0.3798\n",
      "Loss after 5000 iter. : 0.3761\n"
     ]
    },
    {
     "name": "stderr",
     "output_type": "stream",
     "text": [
      "\r",
      " 33%|███▎      | 165/500 [19:22:17<44:28:33, 477.95s/it]"
     ]
    },
    {
     "name": "stdout",
     "output_type": "stream",
     "text": [
      "Loss after 10000 iter. : 0.6331\n",
      "Loss after 5000 iter. : 0.4745\n",
      "Loss after 10000 iter. : 0.4070\n",
      "Loss after 5000 iter. : 0.3803\n",
      "Loss after 10000 iter. : 0.4477\n",
      "Loss after 5000 iter. : 0.3509\n",
      "Loss after 10000 iter. : 0.4129\n",
      "Loss after 5000 iter. : 0.4872\n",
      "Loss after 10000 iter. : 0.4087\n",
      "Loss after 5000 iter. : 0.3031\n"
     ]
    },
    {
     "name": "stderr",
     "output_type": "stream",
     "text": [
      "\r",
      " 33%|███▎      | 166/500 [19:31:56<47:08:44, 508.16s/it]"
     ]
    },
    {
     "name": "stdout",
     "output_type": "stream",
     "text": [
      "Loss after 10000 iter. : 0.3946\n",
      "Loss after 5000 iter. : 0.4067\n",
      "Loss after 10000 iter. : 0.4431\n",
      "Loss after 5000 iter. : 0.3364\n",
      "Loss after 10000 iter. : 0.4332\n",
      "Loss after 5000 iter. : 0.3410\n",
      "Loss after 10000 iter. : 0.4137\n",
      "Loss after 5000 iter. : 0.4386\n",
      "Loss after 10000 iter. : 0.3568\n",
      "Loss after 5000 iter. : 0.3983\n"
     ]
    },
    {
     "name": "stderr",
     "output_type": "stream",
     "text": [
      "\r",
      " 33%|███▎      | 167/500 [19:36:00<39:40:23, 428.90s/it]"
     ]
    },
    {
     "name": "stdout",
     "output_type": "stream",
     "text": [
      "Loss after 10000 iter. : 0.4310\n",
      "Loss after 5000 iter. : 0.4069\n",
      "Loss after 10000 iter. : 0.3874\n",
      "Loss after 5000 iter. : 0.3709\n",
      "Loss after 10000 iter. : 0.3253\n",
      "Loss after 5000 iter. : 0.4020\n",
      "Loss after 10000 iter. : 0.4503\n",
      "Loss after 5000 iter. : 0.2748\n",
      "Loss after 10000 iter. : 0.4006\n",
      "Loss after 5000 iter. : 0.2861\n"
     ]
    },
    {
     "name": "stderr",
     "output_type": "stream",
     "text": [
      "\r",
      " 34%|███▎      | 168/500 [19:40:02<34:23:46, 372.97s/it]"
     ]
    },
    {
     "name": "stdout",
     "output_type": "stream",
     "text": [
      "Loss after 10000 iter. : 0.3449\n",
      "Loss after 5000 iter. : 0.3331\n",
      "Loss after 10000 iter. : 0.4147\n",
      "Loss after 5000 iter. : 0.3196\n",
      "Loss after 10000 iter. : 0.3848\n",
      "Loss after 5000 iter. : 0.3854\n",
      "Loss after 10000 iter. : 0.3671\n",
      "Loss after 5000 iter. : 0.5202\n",
      "Loss after 10000 iter. : 0.3796\n",
      "Loss after 5000 iter. : 0.4044\n"
     ]
    },
    {
     "name": "stderr",
     "output_type": "stream",
     "text": [
      "\r",
      " 34%|███▍      | 169/500 [19:45:59<33:50:57, 368.15s/it]"
     ]
    },
    {
     "name": "stdout",
     "output_type": "stream",
     "text": [
      "Loss after 10000 iter. : 0.3044\n",
      "Loss after 5000 iter. : 0.3571\n",
      "Loss after 10000 iter. : 0.4061\n",
      "Loss after 5000 iter. : 0.3199\n",
      "Loss after 10000 iter. : 0.4348\n",
      "Loss after 5000 iter. : 0.4859\n",
      "Loss after 10000 iter. : 0.3557\n",
      "Loss after 5000 iter. : 0.4499\n",
      "Loss after 10000 iter. : 0.3685\n",
      "Loss after 5000 iter. : 0.3202\n"
     ]
    },
    {
     "name": "stderr",
     "output_type": "stream",
     "text": [
      "\r",
      " 34%|███▍      | 170/500 [19:51:12<32:12:52, 351.43s/it]"
     ]
    },
    {
     "name": "stdout",
     "output_type": "stream",
     "text": [
      "Loss after 10000 iter. : 0.4394\n",
      "Loss after 5000 iter. : 0.4578\n",
      "Loss after 10000 iter. : 0.3531\n",
      "Loss after 5000 iter. : 0.3988\n",
      "Loss after 10000 iter. : 0.2769\n",
      "Loss after 5000 iter. : 0.3862\n",
      "Loss after 10000 iter. : 0.2628\n",
      "Loss after 5000 iter. : 0.5421\n",
      "Loss after 10000 iter. : 0.3247\n",
      "Loss after 5000 iter. : 0.5111\n"
     ]
    },
    {
     "name": "stderr",
     "output_type": "stream",
     "text": [
      "\r",
      " 34%|███▍      | 171/500 [20:02:14<40:38:59, 444.80s/it]"
     ]
    },
    {
     "name": "stdout",
     "output_type": "stream",
     "text": [
      "Loss after 10000 iter. : 0.3807\n",
      "Loss after 5000 iter. : 0.2523\n",
      "Loss after 10000 iter. : 0.1786\n",
      "Loss after 5000 iter. : 0.4164\n",
      "Loss after 10000 iter. : 0.3515\n",
      "Loss after 5000 iter. : 0.2698\n",
      "Loss after 10000 iter. : 0.3885\n",
      "Loss after 5000 iter. : 0.4018\n",
      "Loss after 10000 iter. : 0.4854\n",
      "Loss after 5000 iter. : 0.4136\n"
     ]
    },
    {
     "name": "stderr",
     "output_type": "stream",
     "text": [
      "\r",
      " 34%|███▍      | 172/500 [20:06:33<35:25:39, 388.84s/it]"
     ]
    },
    {
     "name": "stdout",
     "output_type": "stream",
     "text": [
      "Loss after 10000 iter. : 0.2879\n",
      "Loss after 5000 iter. : 0.5367\n",
      "Loss after 10000 iter. : 0.3661\n",
      "Loss after 5000 iter. : 0.3107\n",
      "Loss after 10000 iter. : 0.4210\n",
      "Loss after 5000 iter. : 0.4573\n",
      "Loss after 10000 iter. : 0.4357\n",
      "Loss after 5000 iter. : 0.2882\n",
      "Loss after 10000 iter. : 0.3869\n",
      "Loss after 5000 iter. : 0.5081\n"
     ]
    },
    {
     "name": "stderr",
     "output_type": "stream",
     "text": [
      "\r",
      " 35%|███▍      | 173/500 [20:12:25<34:19:02, 377.81s/it]"
     ]
    },
    {
     "name": "stdout",
     "output_type": "stream",
     "text": [
      "Loss after 10000 iter. : 0.5441\n",
      "Loss after 5000 iter. : 0.6139\n",
      "Loss after 10000 iter. : 0.4132\n",
      "Loss after 5000 iter. : 0.3659\n",
      "Loss after 10000 iter. : 0.3842\n",
      "Loss after 5000 iter. : 0.3317\n",
      "Loss after 10000 iter. : 0.4751\n",
      "Loss after 5000 iter. : 0.5493\n",
      "Loss after 10000 iter. : 0.4819\n",
      "Loss after 5000 iter. : 0.4421\n"
     ]
    },
    {
     "name": "stderr",
     "output_type": "stream",
     "text": [
      "\r",
      " 35%|███▍      | 174/500 [20:18:03<33:07:47, 365.85s/it]"
     ]
    },
    {
     "name": "stdout",
     "output_type": "stream",
     "text": [
      "Loss after 10000 iter. : 0.3479\n",
      "Loss after 5000 iter. : 0.3867\n",
      "Loss after 10000 iter. : 0.3483\n",
      "Loss after 5000 iter. : 0.3794\n",
      "Loss after 10000 iter. : 0.3608\n",
      "Loss after 5000 iter. : 0.4133\n",
      "Loss after 10000 iter. : 0.3591\n",
      "Loss after 5000 iter. : 0.4975\n",
      "Loss after 10000 iter. : 0.5477\n",
      "Loss after 5000 iter. : 0.4528\n"
     ]
    },
    {
     "name": "stderr",
     "output_type": "stream",
     "text": [
      "\r",
      " 35%|███▌      | 175/500 [20:27:11<37:58:52, 420.72s/it]"
     ]
    },
    {
     "name": "stdout",
     "output_type": "stream",
     "text": [
      "Loss after 10000 iter. : 0.4353\n",
      "Loss after 5000 iter. : 0.4444\n",
      "Loss after 10000 iter. : 0.4260\n",
      "Loss after 5000 iter. : 0.5631\n",
      "Loss after 10000 iter. : 0.3318\n",
      "Loss after 5000 iter. : 0.3690\n",
      "Loss after 10000 iter. : 0.7620\n",
      "Loss after 5000 iter. : 0.4255\n",
      "Loss after 10000 iter. : 0.5583\n",
      "Loss after 5000 iter. : 0.3869\n"
     ]
    },
    {
     "name": "stderr",
     "output_type": "stream",
     "text": [
      "\r",
      " 35%|███▌      | 176/500 [20:35:31<39:58:51, 444.23s/it]"
     ]
    },
    {
     "name": "stdout",
     "output_type": "stream",
     "text": [
      "Loss after 10000 iter. : 0.4378\n",
      "Loss after 5000 iter. : 0.5929\n",
      "Loss after 10000 iter. : 0.7027\n",
      "Loss after 5000 iter. : 0.3323\n",
      "Loss after 10000 iter. : 0.4402\n",
      "Loss after 5000 iter. : 0.5733\n",
      "Loss after 10000 iter. : 0.3749\n",
      "Loss after 5000 iter. : 0.2233\n",
      "Loss after 10000 iter. : 0.4357\n",
      "Loss after 5000 iter. : 0.4411\n"
     ]
    },
    {
     "name": "stderr",
     "output_type": "stream",
     "text": [
      "\r",
      " 35%|███▌      | 177/500 [20:41:56<38:16:46, 426.65s/it]"
     ]
    },
    {
     "name": "stdout",
     "output_type": "stream",
     "text": [
      "Loss after 10000 iter. : 0.3536\n",
      "Loss after 5000 iter. : 0.6546\n",
      "Loss after 10000 iter. : 0.4405\n",
      "Loss after 5000 iter. : 0.3907\n",
      "Loss after 10000 iter. : 0.5076\n",
      "Loss after 5000 iter. : 0.5802\n",
      "Loss after 10000 iter. : 0.4548\n",
      "Loss after 5000 iter. : 0.4982\n",
      "Loss after 10000 iter. : 0.4652\n",
      "Loss after 5000 iter. : 0.2725\n"
     ]
    },
    {
     "name": "stderr",
     "output_type": "stream",
     "text": [
      "\r",
      " 36%|███▌      | 178/500 [20:49:44<39:15:31, 438.92s/it]"
     ]
    },
    {
     "name": "stdout",
     "output_type": "stream",
     "text": [
      "Loss after 10000 iter. : 0.3791\n",
      "Loss after 5000 iter. : 0.3833\n",
      "Loss after 10000 iter. : 0.3958\n",
      "Loss after 5000 iter. : 0.3548\n",
      "Loss after 10000 iter. : 0.5286\n",
      "Loss after 5000 iter. : 0.5199\n",
      "Loss after 10000 iter. : 0.4931\n",
      "Loss after 5000 iter. : 0.4156\n",
      "Loss after 10000 iter. : 0.3801\n",
      "Loss after 5000 iter. : 0.5384\n"
     ]
    },
    {
     "name": "stderr",
     "output_type": "stream",
     "text": [
      "\r",
      " 36%|███▌      | 179/500 [20:56:01<37:29:23, 420.45s/it]"
     ]
    },
    {
     "name": "stdout",
     "output_type": "stream",
     "text": [
      "Loss after 10000 iter. : 0.4122\n",
      "Loss after 5000 iter. : 0.6572\n",
      "Loss after 10000 iter. : 0.5000\n",
      "Loss after 5000 iter. : 0.5420\n",
      "Loss after 10000 iter. : 0.3031\n",
      "Loss after 5000 iter. : 0.4966\n",
      "Loss after 10000 iter. : 0.3266\n",
      "Loss after 5000 iter. : 0.5346\n",
      "Loss after 10000 iter. : 0.7014\n",
      "Loss after 5000 iter. : 0.4021\n"
     ]
    },
    {
     "name": "stderr",
     "output_type": "stream",
     "text": [
      "\r",
      " 36%|███▌      | 180/500 [21:02:26<36:25:36, 409.80s/it]"
     ]
    },
    {
     "name": "stdout",
     "output_type": "stream",
     "text": [
      "Loss after 10000 iter. : 0.3965\n",
      "Loss after 5000 iter. : 0.3237\n",
      "Loss after 10000 iter. : 0.3276\n",
      "Loss after 5000 iter. : 0.3495\n",
      "Loss after 10000 iter. : 0.4260\n",
      "Loss after 5000 iter. : 0.4143\n",
      "Loss after 10000 iter. : 0.4415\n",
      "Loss after 5000 iter. : 0.4360\n",
      "Loss after 10000 iter. : 0.5299\n",
      "Loss after 5000 iter. : 0.3890\n"
     ]
    },
    {
     "name": "stderr",
     "output_type": "stream",
     "text": [
      "\r",
      " 36%|███▌      | 181/500 [21:10:06<37:39:06, 424.91s/it]"
     ]
    },
    {
     "name": "stdout",
     "output_type": "stream",
     "text": [
      "Loss after 10000 iter. : 0.4498\n",
      "Loss after 5000 iter. : 0.3882\n",
      "Loss after 10000 iter. : 0.4333\n",
      "Loss after 5000 iter. : 0.3858\n",
      "Loss after 10000 iter. : 0.3658\n",
      "Loss after 5000 iter. : 0.3926\n",
      "Loss after 10000 iter. : 0.4986\n",
      "Loss after 5000 iter. : 0.4955\n",
      "Loss after 10000 iter. : 0.3285\n",
      "Loss after 5000 iter. : 0.5029\n"
     ]
    },
    {
     "name": "stderr",
     "output_type": "stream",
     "text": [
      "\r",
      " 36%|███▋      | 182/500 [21:20:31<42:49:29, 484.81s/it]"
     ]
    },
    {
     "name": "stdout",
     "output_type": "stream",
     "text": [
      "Loss after 10000 iter. : 0.3554\n",
      "Loss after 5000 iter. : 0.3581\n",
      "Loss after 10000 iter. : 0.3669\n",
      "Loss after 5000 iter. : 0.3048\n",
      "Loss after 10000 iter. : 0.4000\n",
      "Loss after 5000 iter. : 0.3494\n",
      "Loss after 10000 iter. : 0.3069\n",
      "Loss after 5000 iter. : 0.3299\n",
      "Loss after 10000 iter. : 0.3702\n",
      "Loss after 5000 iter. : 0.3504\n"
     ]
    },
    {
     "name": "stderr",
     "output_type": "stream",
     "text": [
      "\r",
      " 37%|███▋      | 183/500 [21:25:20<37:31:04, 426.07s/it]"
     ]
    },
    {
     "name": "stdout",
     "output_type": "stream",
     "text": [
      "Loss after 10000 iter. : 0.3050\n",
      "Loss after 5000 iter. : 0.6263\n",
      "Loss after 10000 iter. : 0.3868\n",
      "Loss after 5000 iter. : 0.5552\n",
      "Loss after 10000 iter. : 0.3937\n",
      "Loss after 5000 iter. : 0.4711\n",
      "Loss after 10000 iter. : 0.4598\n",
      "Loss after 5000 iter. : 0.3023\n",
      "Loss after 10000 iter. : 0.3884\n",
      "Loss after 5000 iter. : 0.5855\n"
     ]
    },
    {
     "name": "stderr",
     "output_type": "stream",
     "text": [
      "\r",
      " 37%|███▋      | 184/500 [21:30:51<34:53:38, 397.53s/it]"
     ]
    },
    {
     "name": "stdout",
     "output_type": "stream",
     "text": [
      "Loss after 10000 iter. : 0.2960\n",
      "Loss after 5000 iter. : 0.3199\n",
      "Loss after 10000 iter. : 0.3601\n",
      "Loss after 5000 iter. : 0.6918\n",
      "Loss after 10000 iter. : 0.5019\n",
      "Loss after 5000 iter. : 0.4511\n",
      "Loss after 10000 iter. : 0.6661\n",
      "Loss after 5000 iter. : 0.3582\n",
      "Loss after 10000 iter. : 0.4243\n",
      "Loss after 5000 iter. : 0.3616\n"
     ]
    },
    {
     "name": "stderr",
     "output_type": "stream",
     "text": [
      "\r",
      " 37%|███▋      | 185/500 [21:35:16<31:18:59, 357.90s/it]"
     ]
    },
    {
     "name": "stdout",
     "output_type": "stream",
     "text": [
      "Loss after 10000 iter. : 0.3816\n",
      "Loss after 5000 iter. : 0.3769\n",
      "Loss after 10000 iter. : 0.2808\n",
      "Loss after 5000 iter. : 0.2512\n",
      "Loss after 10000 iter. : 0.3718\n",
      "Loss after 5000 iter. : 0.3708\n",
      "Loss after 10000 iter. : 0.3947\n",
      "Loss after 5000 iter. : 0.4216\n",
      "Loss after 10000 iter. : 0.3542\n",
      "Loss after 5000 iter. : 0.4946\n"
     ]
    },
    {
     "name": "stderr",
     "output_type": "stream",
     "text": [
      "\r",
      " 37%|███▋      | 186/500 [21:41:29<31:36:17, 362.35s/it]"
     ]
    },
    {
     "name": "stdout",
     "output_type": "stream",
     "text": [
      "Loss after 10000 iter. : 0.3875\n",
      "Loss after 5000 iter. : 0.2674\n",
      "Loss after 10000 iter. : 0.2557\n",
      "Loss after 5000 iter. : 0.3228\n",
      "Loss after 10000 iter. : 0.2636\n",
      "Loss after 5000 iter. : 0.3710\n",
      "Loss after 10000 iter. : 0.2839\n",
      "Loss after 5000 iter. : 0.3476\n",
      "Loss after 10000 iter. : 0.3427\n",
      "Loss after 5000 iter. : 0.3171\n"
     ]
    },
    {
     "name": "stderr",
     "output_type": "stream",
     "text": [
      "\r",
      " 37%|███▋      | 187/500 [21:48:15<32:39:07, 375.55s/it]"
     ]
    },
    {
     "name": "stdout",
     "output_type": "stream",
     "text": [
      "Loss after 10000 iter. : 0.2589\n",
      "Loss after 5000 iter. : 0.4248\n",
      "Loss after 10000 iter. : 0.3207\n",
      "Loss after 5000 iter. : 0.3621\n",
      "Loss after 10000 iter. : 0.4160\n",
      "Loss after 5000 iter. : 0.3514\n",
      "Loss after 10000 iter. : 0.5415\n",
      "Loss after 5000 iter. : 0.4385\n",
      "Loss after 10000 iter. : 0.2795\n",
      "Loss after 5000 iter. : 0.4028\n"
     ]
    },
    {
     "name": "stderr",
     "output_type": "stream",
     "text": [
      "\r",
      " 38%|███▊      | 188/500 [21:57:31<37:14:36, 429.73s/it]"
     ]
    },
    {
     "name": "stdout",
     "output_type": "stream",
     "text": [
      "Loss after 10000 iter. : 0.3911\n",
      "Loss after 5000 iter. : 0.3856\n",
      "Loss after 10000 iter. : 0.3944\n",
      "Loss after 5000 iter. : 0.3352\n",
      "Loss after 10000 iter. : 0.3550\n",
      "Loss after 5000 iter. : 0.4638\n",
      "Loss after 10000 iter. : 0.4340\n",
      "Loss after 5000 iter. : 0.4379\n",
      "Loss after 10000 iter. : 0.4058\n",
      "Loss after 5000 iter. : 0.3105\n"
     ]
    },
    {
     "name": "stderr",
     "output_type": "stream",
     "text": [
      "\r",
      " 38%|███▊      | 189/500 [22:02:25<33:35:21, 388.81s/it]"
     ]
    },
    {
     "name": "stdout",
     "output_type": "stream",
     "text": [
      "Loss after 10000 iter. : 0.2026\n",
      "Loss after 5000 iter. : 0.3838\n",
      "Loss after 10000 iter. : 0.4351\n",
      "Loss after 5000 iter. : 0.5646\n",
      "Loss after 10000 iter. : 0.3760\n",
      "Loss after 5000 iter. : 0.4079\n",
      "Loss after 10000 iter. : 0.3598\n",
      "Loss after 5000 iter. : 0.4882\n",
      "Loss after 10000 iter. : 0.4614\n",
      "Loss after 5000 iter. : 0.4707\n"
     ]
    },
    {
     "name": "stderr",
     "output_type": "stream",
     "text": [
      "\r",
      " 38%|███▊      | 190/500 [22:10:15<35:35:13, 413.27s/it]"
     ]
    },
    {
     "name": "stdout",
     "output_type": "stream",
     "text": [
      "Loss after 10000 iter. : 0.4429\n",
      "Loss after 5000 iter. : 0.4318\n",
      "Loss after 10000 iter. : 0.4792\n",
      "Loss after 5000 iter. : 0.4905\n",
      "Loss after 10000 iter. : 0.4045\n",
      "Loss after 5000 iter. : 0.4424\n",
      "Loss after 10000 iter. : 0.4252\n",
      "Loss after 5000 iter. : 0.3841\n",
      "Loss after 10000 iter. : 0.3794\n",
      "Loss after 5000 iter. : 0.3923\n"
     ]
    },
    {
     "name": "stderr",
     "output_type": "stream",
     "text": [
      "\r",
      " 38%|███▊      | 191/500 [22:19:15<38:44:30, 451.36s/it]"
     ]
    },
    {
     "name": "stdout",
     "output_type": "stream",
     "text": [
      "Loss after 10000 iter. : 0.5484\n",
      "Loss after 5000 iter. : 0.3672\n",
      "Loss after 10000 iter. : 0.4260\n",
      "Loss after 5000 iter. : 0.4967\n",
      "Loss after 10000 iter. : 0.3854\n",
      "Loss after 5000 iter. : 0.5278\n",
      "Loss after 10000 iter. : 0.4862\n",
      "Loss after 5000 iter. : 0.4610\n",
      "Loss after 10000 iter. : 0.4499\n",
      "Loss after 5000 iter. : 0.4009\n"
     ]
    },
    {
     "name": "stderr",
     "output_type": "stream",
     "text": [
      "\r",
      " 38%|███▊      | 192/500 [22:26:41<38:27:41, 449.55s/it]"
     ]
    },
    {
     "name": "stdout",
     "output_type": "stream",
     "text": [
      "Loss after 10000 iter. : 0.4187\n",
      "Loss after 5000 iter. : 0.2146\n",
      "Loss after 10000 iter. : 0.4403\n",
      "Loss after 5000 iter. : 0.4514\n",
      "Loss after 10000 iter. : 0.4708\n",
      "Loss after 5000 iter. : 0.5300\n",
      "Loss after 10000 iter. : 0.7281\n",
      "Loss after 5000 iter. : 0.7008\n",
      "Loss after 10000 iter. : 0.5684\n",
      "Loss after 5000 iter. : 0.3477\n"
     ]
    },
    {
     "name": "stderr",
     "output_type": "stream",
     "text": [
      "\r",
      " 39%|███▊      | 193/500 [22:31:46<34:38:39, 406.25s/it]"
     ]
    },
    {
     "name": "stdout",
     "output_type": "stream",
     "text": [
      "Loss after 10000 iter. : 0.4355\n",
      "Loss after 5000 iter. : 0.2900\n",
      "Loss after 10000 iter. : 0.4844\n",
      "Loss after 5000 iter. : 0.4787\n",
      "Loss after 10000 iter. : 0.3773\n",
      "Loss after 5000 iter. : 0.4343\n",
      "Loss after 10000 iter. : 0.5431\n",
      "Loss after 5000 iter. : 0.4158\n",
      "Loss after 10000 iter. : 0.5012\n",
      "Loss after 5000 iter. : 0.5143\n"
     ]
    },
    {
     "name": "stderr",
     "output_type": "stream",
     "text": [
      "\r",
      " 39%|███▉      | 194/500 [22:40:50<38:03:02, 447.66s/it]"
     ]
    },
    {
     "name": "stdout",
     "output_type": "stream",
     "text": [
      "Loss after 10000 iter. : 0.4399\n",
      "Loss after 5000 iter. : 0.3753\n",
      "Loss after 10000 iter. : 0.4916\n",
      "Loss after 5000 iter. : 0.4466\n",
      "Loss after 10000 iter. : 0.4710\n",
      "Loss after 5000 iter. : 0.3714\n",
      "Loss after 10000 iter. : 0.4869\n",
      "Loss after 5000 iter. : 0.4231\n",
      "Loss after 10000 iter. : 0.3218\n",
      "Loss after 5000 iter. : 0.5061\n"
     ]
    },
    {
     "name": "stderr",
     "output_type": "stream",
     "text": [
      "\r",
      " 39%|███▉      | 195/500 [22:52:24<44:10:22, 521.39s/it]"
     ]
    },
    {
     "name": "stdout",
     "output_type": "stream",
     "text": [
      "Loss after 10000 iter. : 0.3072\n",
      "Loss after 5000 iter. : 0.4125\n",
      "Loss after 10000 iter. : 0.4479\n",
      "Loss after 5000 iter. : 0.3257\n",
      "Loss after 10000 iter. : 0.3355\n",
      "Loss after 5000 iter. : 0.3502\n",
      "Loss after 10000 iter. : 0.3314\n",
      "Loss after 5000 iter. : 0.3449\n",
      "Loss after 10000 iter. : 0.3171\n",
      "Loss after 5000 iter. : 0.4125\n"
     ]
    },
    {
     "name": "stderr",
     "output_type": "stream",
     "text": [
      "\r",
      " 39%|███▉      | 196/500 [22:58:52<40:39:56, 481.57s/it]"
     ]
    },
    {
     "name": "stdout",
     "output_type": "stream",
     "text": [
      "Loss after 10000 iter. : 0.3574\n",
      "Loss after 5000 iter. : 0.3446\n",
      "Loss after 10000 iter. : 0.5839\n",
      "Loss after 5000 iter. : 0.4405\n",
      "Loss after 10000 iter. : 0.3681\n",
      "Loss after 5000 iter. : 0.3615\n",
      "Loss after 10000 iter. : 0.3270\n",
      "Loss after 5000 iter. : 0.4725\n",
      "Loss after 10000 iter. : 0.4154\n",
      "Loss after 5000 iter. : 0.4967\n"
     ]
    },
    {
     "name": "stderr",
     "output_type": "stream",
     "text": [
      "\r",
      " 39%|███▉      | 197/500 [23:05:29<38:24:03, 456.25s/it]"
     ]
    },
    {
     "name": "stdout",
     "output_type": "stream",
     "text": [
      "Loss after 10000 iter. : 0.3982\n",
      "Loss after 5000 iter. : 0.1208\n",
      "Loss after 10000 iter. : 0.1157\n",
      "Loss after 5000 iter. : 0.2410\n",
      "Loss after 10000 iter. : 0.1716\n",
      "Loss after 5000 iter. : 0.2646\n",
      "Loss after 10000 iter. : 0.0469\n",
      "Loss after 5000 iter. : 0.1442\n",
      "Loss after 10000 iter. : 0.1173\n",
      "Loss after 5000 iter. : 0.3572\n"
     ]
    },
    {
     "name": "stderr",
     "output_type": "stream",
     "text": [
      "\r",
      " 40%|███▉      | 198/500 [23:10:18<34:02:49, 405.86s/it]"
     ]
    },
    {
     "name": "stdout",
     "output_type": "stream",
     "text": [
      "Loss after 10000 iter. : 0.0708\n",
      "Loss after 5000 iter. : 0.3311\n",
      "Loss after 10000 iter. : 0.3381\n",
      "Loss after 5000 iter. : 0.4117\n",
      "Loss after 10000 iter. : 0.3610\n",
      "Loss after 5000 iter. : 0.4422\n",
      "Loss after 10000 iter. : 0.4820\n",
      "Loss after 5000 iter. : 0.4170\n",
      "Loss after 10000 iter. : 0.4200\n",
      "Loss after 5000 iter. : 0.2944\n"
     ]
    },
    {
     "name": "stderr",
     "output_type": "stream",
     "text": [
      "\r",
      " 40%|███▉      | 199/500 [23:19:07<37:01:10, 442.76s/it]"
     ]
    },
    {
     "name": "stdout",
     "output_type": "stream",
     "text": [
      "Loss after 10000 iter. : 0.6225\n",
      "Loss after 5000 iter. : 0.4352\n",
      "Loss after 10000 iter. : 0.3815\n",
      "Loss after 5000 iter. : 0.3664\n",
      "Loss after 10000 iter. : 0.4246\n",
      "Loss after 5000 iter. : 0.4701\n",
      "Loss after 10000 iter. : 0.4644\n",
      "Loss after 5000 iter. : 0.3961\n",
      "Loss after 10000 iter. : 0.3811\n",
      "Loss after 5000 iter. : 0.3249\n"
     ]
    },
    {
     "name": "stderr",
     "output_type": "stream",
     "text": [
      "\r",
      " 40%|████      | 200/500 [23:25:56<36:04:01, 432.80s/it]"
     ]
    },
    {
     "name": "stdout",
     "output_type": "stream",
     "text": [
      "Loss after 10000 iter. : 0.3932\n",
      "Loss after 5000 iter. : 0.4734\n",
      "Loss after 10000 iter. : 0.5342\n",
      "Loss after 5000 iter. : 0.4389\n",
      "Loss after 10000 iter. : 0.5311\n",
      "Loss after 5000 iter. : 0.6027\n",
      "Loss after 10000 iter. : 0.5016\n",
      "Loss after 5000 iter. : 0.7720\n",
      "Loss after 10000 iter. : 0.5476\n",
      "Loss after 5000 iter. : 0.5137\n"
     ]
    },
    {
     "name": "stderr",
     "output_type": "stream",
     "text": [
      "\r",
      " 40%|████      | 201/500 [23:31:04<32:49:38, 395.24s/it]"
     ]
    },
    {
     "name": "stdout",
     "output_type": "stream",
     "text": [
      "Loss after 10000 iter. : 0.4497\n",
      "Loss after 5000 iter. : 0.2664\n",
      "Loss after 10000 iter. : 0.2496\n",
      "Loss after 5000 iter. : 0.3525\n",
      "Loss after 10000 iter. : 0.3788\n",
      "Loss after 5000 iter. : 0.2745\n",
      "Loss after 10000 iter. : 0.4725\n",
      "Loss after 5000 iter. : 0.3141\n",
      "Loss after 10000 iter. : 0.4269\n",
      "Loss after 5000 iter. : 0.4458\n"
     ]
    },
    {
     "name": "stderr",
     "output_type": "stream",
     "text": [
      "\r",
      " 40%|████      | 202/500 [23:35:58<30:12:45, 364.98s/it]"
     ]
    },
    {
     "name": "stdout",
     "output_type": "stream",
     "text": [
      "Loss after 10000 iter. : 0.3409\n",
      "Loss after 5000 iter. : 0.4086\n",
      "Loss after 10000 iter. : 0.3810\n",
      "Loss after 5000 iter. : 0.3560\n",
      "Loss after 10000 iter. : 0.2778\n",
      "Loss after 5000 iter. : 0.4916\n",
      "Loss after 10000 iter. : 0.3666\n",
      "Loss after 5000 iter. : 0.4268\n",
      "Loss after 10000 iter. : 0.4095\n",
      "Loss after 5000 iter. : 0.3496\n"
     ]
    },
    {
     "name": "stderr",
     "output_type": "stream",
     "text": [
      "\r",
      " 41%|████      | 203/500 [23:42:29<30:45:30, 372.83s/it]"
     ]
    },
    {
     "name": "stdout",
     "output_type": "stream",
     "text": [
      "Loss after 10000 iter. : 0.3591\n",
      "Loss after 5000 iter. : 0.3852\n",
      "Loss after 10000 iter. : 0.3505\n",
      "Loss after 5000 iter. : 0.4367\n",
      "Loss after 10000 iter. : 0.5209\n",
      "Loss after 5000 iter. : 0.4632\n",
      "Loss after 10000 iter. : 0.4383\n",
      "Loss after 5000 iter. : 0.4043\n",
      "Loss after 10000 iter. : 0.3519\n",
      "Loss after 5000 iter. : 0.4025\n"
     ]
    },
    {
     "name": "stderr",
     "output_type": "stream",
     "text": [
      "\r",
      " 41%|████      | 204/500 [23:47:20<28:37:19, 348.10s/it]"
     ]
    },
    {
     "name": "stdout",
     "output_type": "stream",
     "text": [
      "Loss after 10000 iter. : 0.4089\n",
      "Loss after 5000 iter. : 0.4590\n",
      "Loss after 10000 iter. : 0.4173\n",
      "Loss after 5000 iter. : 0.4311\n",
      "Loss after 10000 iter. : 0.3612\n",
      "Loss after 5000 iter. : 0.4631\n",
      "Loss after 10000 iter. : 0.4396\n",
      "Loss after 5000 iter. : 0.6080\n",
      "Loss after 10000 iter. : 0.4001\n",
      "Loss after 5000 iter. : 0.4823\n"
     ]
    },
    {
     "name": "stderr",
     "output_type": "stream",
     "text": [
      "\r",
      " 41%|████      | 205/500 [23:55:48<32:27:19, 396.07s/it]"
     ]
    },
    {
     "name": "stdout",
     "output_type": "stream",
     "text": [
      "Loss after 10000 iter. : 0.5139\n",
      "Loss after 5000 iter. : 0.3814\n",
      "Loss after 10000 iter. : 0.7297\n",
      "Loss after 5000 iter. : 0.5056\n",
      "Loss after 10000 iter. : 0.4952\n",
      "Loss after 5000 iter. : 0.3361\n",
      "Loss after 10000 iter. : 0.5780\n",
      "Loss after 5000 iter. : 0.4610\n",
      "Loss after 10000 iter. : 0.4818\n",
      "Loss after 5000 iter. : 0.3211\n"
     ]
    },
    {
     "name": "stderr",
     "output_type": "stream",
     "text": [
      "\r",
      " 41%|████      | 206/500 [24:00:28<29:30:11, 361.27s/it]"
     ]
    },
    {
     "name": "stdout",
     "output_type": "stream",
     "text": [
      "Loss after 10000 iter. : 0.5288\n",
      "Loss after 5000 iter. : 0.4505\n",
      "Loss after 10000 iter. : 0.3915\n",
      "Loss after 5000 iter. : 0.3590\n",
      "Loss after 10000 iter. : 0.4122\n",
      "Loss after 5000 iter. : 0.4753\n",
      "Loss after 10000 iter. : 0.3823\n",
      "Loss after 5000 iter. : 0.3818\n",
      "Loss after 10000 iter. : 0.4831\n",
      "Loss after 5000 iter. : 0.4446\n"
     ]
    },
    {
     "name": "stderr",
     "output_type": "stream",
     "text": [
      "\r",
      " 41%|████▏     | 207/500 [24:06:15<29:03:07, 356.96s/it]"
     ]
    },
    {
     "name": "stdout",
     "output_type": "stream",
     "text": [
      "Loss after 10000 iter. : 0.5644\n",
      "Loss after 5000 iter. : 0.4789\n",
      "Loss after 10000 iter. : 0.4304\n",
      "Loss after 5000 iter. : 0.4159\n",
      "Loss after 10000 iter. : 0.4459\n",
      "Loss after 5000 iter. : 0.4420\n",
      "Loss after 10000 iter. : 0.4377\n",
      "Loss after 5000 iter. : 0.4546\n",
      "Loss after 10000 iter. : 0.3965\n",
      "Loss after 5000 iter. : 0.3982\n"
     ]
    },
    {
     "name": "stderr",
     "output_type": "stream",
     "text": [
      "\r",
      " 42%|████▏     | 208/500 [24:16:56<35:51:58, 442.19s/it]"
     ]
    },
    {
     "name": "stdout",
     "output_type": "stream",
     "text": [
      "Loss after 10000 iter. : 0.4409\n",
      "Loss after 5000 iter. : 0.3331\n",
      "Loss after 10000 iter. : 0.4463\n",
      "Loss after 5000 iter. : 0.4059\n",
      "Loss after 10000 iter. : 0.5152\n",
      "Loss after 5000 iter. : 0.3625\n",
      "Loss after 10000 iter. : 0.4974\n",
      "Loss after 5000 iter. : 0.4650\n",
      "Loss after 10000 iter. : 0.4011\n",
      "Loss after 5000 iter. : 0.3399\n"
     ]
    },
    {
     "name": "stderr",
     "output_type": "stream",
     "text": [
      "\r",
      " 42%|████▏     | 209/500 [24:26:02<38:15:33, 473.31s/it]"
     ]
    },
    {
     "name": "stdout",
     "output_type": "stream",
     "text": [
      "Loss after 10000 iter. : 0.4042\n",
      "Loss after 5000 iter. : 0.4845\n",
      "Loss after 10000 iter. : 0.3335\n",
      "Loss after 5000 iter. : 0.2913\n",
      "Loss after 10000 iter. : 0.4905\n",
      "Loss after 5000 iter. : 0.4264\n",
      "Loss after 10000 iter. : 0.3579\n",
      "Loss after 5000 iter. : 0.5331\n",
      "Loss after 10000 iter. : 0.5705\n",
      "Loss after 5000 iter. : 0.4785\n"
     ]
    },
    {
     "name": "stderr",
     "output_type": "stream",
     "text": [
      "\r",
      " 42%|████▏     | 210/500 [24:30:07<32:36:50, 404.86s/it]"
     ]
    },
    {
     "name": "stdout",
     "output_type": "stream",
     "text": [
      "Loss after 10000 iter. : 0.4861\n",
      "Loss after 5000 iter. : 0.3555\n",
      "Loss after 10000 iter. : 0.3018\n",
      "Loss after 5000 iter. : 0.3256\n",
      "Loss after 10000 iter. : 0.3808\n",
      "Loss after 5000 iter. : 0.3407\n",
      "Loss after 10000 iter. : 0.4833\n",
      "Loss after 5000 iter. : 0.5053\n",
      "Loss after 10000 iter. : 0.3766\n",
      "Loss after 5000 iter. : 0.5505\n"
     ]
    },
    {
     "name": "stderr",
     "output_type": "stream",
     "text": [
      "\r",
      " 42%|████▏     | 211/500 [24:36:44<32:18:48, 402.52s/it]"
     ]
    },
    {
     "name": "stdout",
     "output_type": "stream",
     "text": [
      "Loss after 10000 iter. : 0.4436\n",
      "Loss after 5000 iter. : 0.4433\n",
      "Loss after 10000 iter. : 0.4497\n",
      "Loss after 5000 iter. : 0.5037\n",
      "Loss after 10000 iter. : 0.3916\n",
      "Loss after 5000 iter. : 0.4631\n",
      "Loss after 10000 iter. : 0.3981\n",
      "Loss after 5000 iter. : 0.3609\n",
      "Loss after 10000 iter. : 0.3588\n",
      "Loss after 5000 iter. : 0.3689\n"
     ]
    },
    {
     "name": "stderr",
     "output_type": "stream",
     "text": [
      "\r",
      " 42%|████▏     | 212/500 [24:45:46<35:33:04, 444.39s/it]"
     ]
    },
    {
     "name": "stdout",
     "output_type": "stream",
     "text": [
      "Loss after 10000 iter. : 0.4266\n",
      "Loss after 5000 iter. : 0.4930\n",
      "Loss after 10000 iter. : 0.5124\n",
      "Loss after 5000 iter. : 0.3800\n",
      "Loss after 10000 iter. : 0.5996\n",
      "Loss after 5000 iter. : 0.3885\n",
      "Loss after 10000 iter. : 0.5677\n",
      "Loss after 5000 iter. : 0.4510\n",
      "Loss after 10000 iter. : 0.5909\n",
      "Loss after 5000 iter. : 0.4736\n"
     ]
    },
    {
     "name": "stderr",
     "output_type": "stream",
     "text": [
      "\r",
      " 43%|████▎     | 213/500 [24:51:44<33:22:23, 418.62s/it]"
     ]
    },
    {
     "name": "stdout",
     "output_type": "stream",
     "text": [
      "Loss after 10000 iter. : 0.5221\n",
      "Loss after 5000 iter. : 0.4151\n",
      "Loss after 10000 iter. : 0.4520\n",
      "Loss after 5000 iter. : 0.4070\n",
      "Loss after 10000 iter. : 0.5003\n",
      "Loss after 5000 iter. : 0.3047\n",
      "Loss after 10000 iter. : 0.3954\n",
      "Loss after 5000 iter. : 0.4548\n",
      "Loss after 10000 iter. : 0.4242\n",
      "Loss after 5000 iter. : 0.3891\n"
     ]
    },
    {
     "name": "stderr",
     "output_type": "stream",
     "text": [
      "\r",
      " 43%|████▎     | 214/500 [24:57:39<31:44:27, 399.54s/it]"
     ]
    },
    {
     "name": "stdout",
     "output_type": "stream",
     "text": [
      "Loss after 10000 iter. : 0.3825\n",
      "Loss after 5000 iter. : 0.3598\n",
      "Loss after 10000 iter. : 0.4139\n",
      "Loss after 5000 iter. : 0.3665\n",
      "Loss after 10000 iter. : 0.4239\n",
      "Loss after 5000 iter. : 0.3126\n",
      "Loss after 10000 iter. : 0.5051\n",
      "Loss after 5000 iter. : 0.4224\n",
      "Loss after 10000 iter. : 0.4517\n",
      "Loss after 5000 iter. : 0.3705\n"
     ]
    },
    {
     "name": "stderr",
     "output_type": "stream",
     "text": [
      "\r",
      " 43%|████▎     | 215/500 [25:04:24<31:45:41, 401.20s/it]"
     ]
    },
    {
     "name": "stdout",
     "output_type": "stream",
     "text": [
      "Loss after 10000 iter. : 0.3784\n",
      "Loss after 5000 iter. : 0.5149\n",
      "Loss after 10000 iter. : 0.2555\n",
      "Loss after 5000 iter. : 0.5229\n",
      "Loss after 10000 iter. : 0.3594\n",
      "Loss after 5000 iter. : 0.3709\n",
      "Loss after 10000 iter. : 0.3500\n",
      "Loss after 5000 iter. : 0.5657\n",
      "Loss after 10000 iter. : 0.3981\n",
      "Loss after 5000 iter. : 0.6155\n"
     ]
    },
    {
     "name": "stderr",
     "output_type": "stream",
     "text": [
      "\r",
      " 43%|████▎     | 216/500 [25:08:54<28:32:27, 361.79s/it]"
     ]
    },
    {
     "name": "stdout",
     "output_type": "stream",
     "text": [
      "Loss after 10000 iter. : 0.5048\n",
      "Loss after 5000 iter. : 0.3860\n",
      "Loss after 10000 iter. : 0.3692\n",
      "Loss after 5000 iter. : 0.4414\n",
      "Loss after 10000 iter. : 0.3987\n",
      "Loss after 5000 iter. : 0.5738\n",
      "Loss after 10000 iter. : 0.4977\n",
      "Loss after 5000 iter. : 0.3217\n",
      "Loss after 10000 iter. : 0.5058\n",
      "Loss after 5000 iter. : 0.4031\n"
     ]
    },
    {
     "name": "stderr",
     "output_type": "stream",
     "text": [
      "\r",
      " 43%|████▎     | 217/500 [25:15:08<28:43:50, 365.48s/it]"
     ]
    },
    {
     "name": "stdout",
     "output_type": "stream",
     "text": [
      "Loss after 10000 iter. : 0.5198\n",
      "Loss after 5000 iter. : 0.3670\n",
      "Loss after 10000 iter. : 0.3076\n",
      "Loss after 5000 iter. : 0.2873\n",
      "Loss after 10000 iter. : 0.5313\n",
      "Loss after 5000 iter. : 0.3938\n",
      "Loss after 10000 iter. : 0.2826\n",
      "Loss after 5000 iter. : 0.3398\n",
      "Loss after 10000 iter. : 0.3614\n",
      "Loss after 5000 iter. : 0.4625\n"
     ]
    },
    {
     "name": "stderr",
     "output_type": "stream",
     "text": [
      "\r",
      " 44%|████▎     | 218/500 [25:24:10<32:46:03, 418.31s/it]"
     ]
    },
    {
     "name": "stdout",
     "output_type": "stream",
     "text": [
      "Loss after 10000 iter. : 0.4170\n",
      "Loss after 5000 iter. : 0.3672\n",
      "Loss after 10000 iter. : 0.5241\n",
      "Loss after 5000 iter. : 0.4453\n",
      "Loss after 10000 iter. : 0.3160\n",
      "Loss after 5000 iter. : 0.4137\n",
      "Loss after 10000 iter. : 0.3271\n",
      "Loss after 5000 iter. : 0.3671\n",
      "Loss after 10000 iter. : 0.3381\n",
      "Loss after 5000 iter. : 0.5247\n"
     ]
    },
    {
     "name": "stderr",
     "output_type": "stream",
     "text": [
      "\r",
      " 44%|████▍     | 219/500 [25:31:28<33:06:26, 424.15s/it]"
     ]
    },
    {
     "name": "stdout",
     "output_type": "stream",
     "text": [
      "Loss after 10000 iter. : 0.2445\n",
      "Loss after 5000 iter. : 0.4123\n",
      "Loss after 10000 iter. : 0.4390\n",
      "Loss after 5000 iter. : 0.4353\n",
      "Loss after 10000 iter. : 0.3834\n",
      "Loss after 5000 iter. : 0.4284\n",
      "Loss after 10000 iter. : 0.4504\n",
      "Loss after 5000 iter. : 0.3372\n",
      "Loss after 10000 iter. : 0.4899\n",
      "Loss after 5000 iter. : 0.3598\n"
     ]
    },
    {
     "name": "stderr",
     "output_type": "stream",
     "text": [
      "\r",
      " 44%|████▍     | 220/500 [25:39:45<34:42:04, 446.16s/it]"
     ]
    },
    {
     "name": "stdout",
     "output_type": "stream",
     "text": [
      "Loss after 10000 iter. : 0.4490\n",
      "Loss after 5000 iter. : 0.3051\n",
      "Loss after 10000 iter. : 0.4755\n",
      "Loss after 5000 iter. : 0.4781\n",
      "Loss after 10000 iter. : 0.3503\n",
      "Loss after 5000 iter. : 0.4170\n",
      "Loss after 10000 iter. : 0.3399\n",
      "Loss after 5000 iter. : 0.8735\n",
      "Loss after 10000 iter. : 0.3178\n",
      "Loss after 5000 iter. : 0.4285\n"
     ]
    },
    {
     "name": "stderr",
     "output_type": "stream",
     "text": [
      "\r",
      " 44%|████▍     | 221/500 [25:46:58<34:15:27, 442.03s/it]"
     ]
    },
    {
     "name": "stdout",
     "output_type": "stream",
     "text": [
      "Loss after 10000 iter. : 0.3608\n",
      "Loss after 5000 iter. : 0.3501\n",
      "Loss after 10000 iter. : 0.3427\n",
      "Loss after 5000 iter. : 0.5116\n",
      "Loss after 10000 iter. : 0.4997\n",
      "Loss after 5000 iter. : 0.4265\n",
      "Loss after 10000 iter. : 0.3735\n",
      "Loss after 5000 iter. : 0.3817\n",
      "Loss after 10000 iter. : 0.4362\n",
      "Loss after 5000 iter. : 0.4046\n"
     ]
    },
    {
     "name": "stderr",
     "output_type": "stream",
     "text": [
      "\r",
      " 44%|████▍     | 222/500 [25:55:14<35:24:04, 458.43s/it]"
     ]
    },
    {
     "name": "stdout",
     "output_type": "stream",
     "text": [
      "Loss after 10000 iter. : 0.4502\n",
      "Loss after 5000 iter. : 0.3634\n",
      "Loss after 10000 iter. : 0.4282\n",
      "Loss after 5000 iter. : 0.3388\n",
      "Loss after 10000 iter. : 0.3636\n",
      "Loss after 5000 iter. : 0.3213\n",
      "Loss after 10000 iter. : 0.2649\n",
      "Loss after 5000 iter. : 0.4960\n",
      "Loss after 10000 iter. : 0.4973\n",
      "Loss after 5000 iter. : 0.4364\n"
     ]
    },
    {
     "name": "stderr",
     "output_type": "stream",
     "text": [
      "\r",
      " 45%|████▍     | 223/500 [25:59:33<30:40:00, 398.56s/it]"
     ]
    },
    {
     "name": "stdout",
     "output_type": "stream",
     "text": [
      "Loss after 10000 iter. : 0.5478\n",
      "Loss after 5000 iter. : 0.4128\n",
      "Loss after 10000 iter. : 0.5084\n",
      "Loss after 5000 iter. : 0.5054\n",
      "Loss after 10000 iter. : 0.3918\n",
      "Loss after 5000 iter. : 0.4675\n",
      "Loss after 10000 iter. : 0.4241\n",
      "Loss after 5000 iter. : 0.4060\n",
      "Loss after 10000 iter. : 0.4687\n",
      "Loss after 5000 iter. : 0.3765\n"
     ]
    },
    {
     "name": "stderr",
     "output_type": "stream",
     "text": [
      "\r",
      " 45%|████▍     | 224/500 [26:07:10<31:54:21, 416.17s/it]"
     ]
    },
    {
     "name": "stdout",
     "output_type": "stream",
     "text": [
      "Loss after 10000 iter. : 0.5208\n",
      "Loss after 5000 iter. : 0.3229\n",
      "Loss after 10000 iter. : 0.5632\n",
      "Loss after 5000 iter. : 0.4843\n",
      "Loss after 10000 iter. : 0.2753\n",
      "Loss after 5000 iter. : 0.2906\n",
      "Loss after 10000 iter. : 0.3144\n",
      "Loss after 5000 iter. : 0.3797\n",
      "Loss after 10000 iter. : 0.3271\n",
      "Loss after 5000 iter. : 0.3987\n"
     ]
    },
    {
     "name": "stderr",
     "output_type": "stream",
     "text": [
      "\r",
      " 45%|████▌     | 225/500 [26:10:27<26:45:22, 350.26s/it]"
     ]
    },
    {
     "name": "stdout",
     "output_type": "stream",
     "text": [
      "Loss after 10000 iter. : 0.4958\n",
      "Loss after 5000 iter. : 0.4381\n",
      "Loss after 10000 iter. : 0.3592\n",
      "Loss after 5000 iter. : 0.3206\n",
      "Loss after 10000 iter. : 0.6506\n",
      "Loss after 5000 iter. : 0.3515\n",
      "Loss after 10000 iter. : 0.2235\n",
      "Loss after 5000 iter. : 0.4969\n",
      "Loss after 10000 iter. : 0.4499\n",
      "Loss after 5000 iter. : 0.3323\n"
     ]
    },
    {
     "name": "stderr",
     "output_type": "stream",
     "text": [
      "\r",
      " 45%|████▌     | 226/500 [26:16:13<26:33:16, 348.89s/it]"
     ]
    },
    {
     "name": "stdout",
     "output_type": "stream",
     "text": [
      "Loss after 10000 iter. : 0.4644\n",
      "Loss after 5000 iter. : 0.3384\n",
      "Loss after 10000 iter. : 0.3770\n",
      "Loss after 5000 iter. : 0.4708\n",
      "Loss after 10000 iter. : 0.4349\n",
      "Loss after 5000 iter. : 0.4507\n",
      "Loss after 10000 iter. : 0.4342\n",
      "Loss after 5000 iter. : 0.3121\n",
      "Loss after 10000 iter. : 0.4061\n",
      "Loss after 5000 iter. : 0.3725\n"
     ]
    },
    {
     "name": "stderr",
     "output_type": "stream",
     "text": [
      "\r",
      " 45%|████▌     | 227/500 [26:24:26<29:44:37, 392.22s/it]"
     ]
    },
    {
     "name": "stdout",
     "output_type": "stream",
     "text": [
      "Loss after 10000 iter. : 0.3665\n",
      "Loss after 5000 iter. : 0.3447\n",
      "Loss after 10000 iter. : 0.4248\n",
      "Loss after 5000 iter. : 0.3541\n",
      "Loss after 10000 iter. : 0.2536\n",
      "Loss after 5000 iter. : 0.3762\n",
      "Loss after 10000 iter. : 0.4764\n",
      "Loss after 5000 iter. : 0.2891\n",
      "Loss after 10000 iter. : 0.3029\n",
      "Loss after 5000 iter. : 0.3266\n"
     ]
    },
    {
     "name": "stderr",
     "output_type": "stream",
     "text": [
      "\r",
      " 46%|████▌     | 228/500 [26:33:26<32:58:46, 436.49s/it]"
     ]
    },
    {
     "name": "stdout",
     "output_type": "stream",
     "text": [
      "Loss after 10000 iter. : 0.2758\n",
      "Loss after 5000 iter. : 0.3782\n",
      "Loss after 10000 iter. : 0.3495\n",
      "Loss after 5000 iter. : 0.3264\n",
      "Loss after 10000 iter. : 0.3428\n",
      "Loss after 5000 iter. : 0.3545\n",
      "Loss after 10000 iter. : 0.4180\n",
      "Loss after 5000 iter. : 0.4747\n",
      "Loss after 10000 iter. : 0.3917\n",
      "Loss after 5000 iter. : 0.5496\n"
     ]
    },
    {
     "name": "stderr",
     "output_type": "stream",
     "text": [
      "\r",
      " 46%|████▌     | 229/500 [26:44:07<37:29:22, 498.02s/it]"
     ]
    },
    {
     "name": "stdout",
     "output_type": "stream",
     "text": [
      "Loss after 10000 iter. : 0.3758\n",
      "Loss after 5000 iter. : 0.5382\n",
      "Loss after 10000 iter. : 0.3785\n",
      "Loss after 5000 iter. : 0.3791\n",
      "Loss after 10000 iter. : 0.5692\n",
      "Loss after 5000 iter. : 0.2639\n",
      "Loss after 10000 iter. : 0.7096\n",
      "Loss after 5000 iter. : 0.4603\n",
      "Loss after 10000 iter. : 0.4054\n",
      "Loss after 5000 iter. : 0.5534\n"
     ]
    },
    {
     "name": "stderr",
     "output_type": "stream",
     "text": [
      "\r",
      " 46%|████▌     | 230/500 [26:48:25<31:55:58, 425.77s/it]"
     ]
    },
    {
     "name": "stdout",
     "output_type": "stream",
     "text": [
      "Loss after 10000 iter. : 0.3792\n",
      "Loss after 5000 iter. : 0.3772\n",
      "Loss after 10000 iter. : 0.3882\n",
      "Loss after 5000 iter. : 0.4330\n",
      "Loss after 10000 iter. : 0.4182\n",
      "Loss after 5000 iter. : 0.4134\n",
      "Loss after 10000 iter. : 0.4493\n",
      "Loss after 5000 iter. : 0.4443\n",
      "Loss after 10000 iter. : 0.4222\n",
      "Loss after 5000 iter. : 0.4501\n"
     ]
    },
    {
     "name": "stderr",
     "output_type": "stream",
     "text": [
      "\r",
      " 46%|████▌     | 231/500 [26:54:01<29:48:38, 398.95s/it]"
     ]
    },
    {
     "name": "stdout",
     "output_type": "stream",
     "text": [
      "Loss after 10000 iter. : 0.2866\n",
      "Loss after 5000 iter. : 0.3276\n",
      "Loss after 10000 iter. : 0.4509\n",
      "Loss after 5000 iter. : 0.3550\n",
      "Loss after 10000 iter. : 0.5035\n",
      "Loss after 5000 iter. : 0.5065\n",
      "Loss after 10000 iter. : 0.3415\n",
      "Loss after 5000 iter. : 0.5465\n",
      "Loss after 10000 iter. : 0.3973\n",
      "Loss after 5000 iter. : 0.3653\n"
     ]
    },
    {
     "name": "stderr",
     "output_type": "stream",
     "text": [
      "\r",
      " 46%|████▋     | 232/500 [27:00:48<29:52:54, 401.40s/it]"
     ]
    },
    {
     "name": "stdout",
     "output_type": "stream",
     "text": [
      "Loss after 10000 iter. : 0.4344\n",
      "Loss after 5000 iter. : 0.7163\n",
      "Loss after 10000 iter. : 0.3965\n",
      "Loss after 5000 iter. : 0.4387\n",
      "Loss after 10000 iter. : 0.4297\n",
      "Loss after 5000 iter. : 0.5032\n",
      "Loss after 10000 iter. : 0.4551\n",
      "Loss after 5000 iter. : 0.3817\n",
      "Loss after 10000 iter. : 0.2707\n",
      "Loss after 5000 iter. : 0.5670\n"
     ]
    },
    {
     "name": "stderr",
     "output_type": "stream",
     "text": [
      "\r",
      " 47%|████▋     | 233/500 [27:08:00<30:27:41, 410.72s/it]"
     ]
    },
    {
     "name": "stdout",
     "output_type": "stream",
     "text": [
      "Loss after 10000 iter. : 0.2833\n",
      "Loss after 5000 iter. : 0.4050\n",
      "Loss after 10000 iter. : 0.3548\n",
      "Loss after 5000 iter. : 0.4044\n",
      "Loss after 10000 iter. : 0.3156\n",
      "Loss after 5000 iter. : 0.4171\n",
      "Loss after 10000 iter. : 0.3538\n",
      "Loss after 5000 iter. : 0.3850\n",
      "Loss after 10000 iter. : 0.4345\n",
      "Loss after 5000 iter. : 0.3537\n"
     ]
    },
    {
     "name": "stderr",
     "output_type": "stream",
     "text": [
      "\r",
      " 47%|████▋     | 234/500 [27:18:21<34:59:35, 473.59s/it]"
     ]
    },
    {
     "name": "stdout",
     "output_type": "stream",
     "text": [
      "Loss after 10000 iter. : 0.2743\n",
      "Loss after 5000 iter. : 0.3972\n",
      "Loss after 10000 iter. : 0.5417\n",
      "Loss after 5000 iter. : 0.5083\n",
      "Loss after 10000 iter. : 0.5213\n",
      "Loss after 5000 iter. : 0.4241\n",
      "Loss after 10000 iter. : 0.4519\n",
      "Loss after 5000 iter. : 0.3144\n",
      "Loss after 10000 iter. : 0.4121\n",
      "Loss after 5000 iter. : 0.4133\n"
     ]
    },
    {
     "name": "stderr",
     "output_type": "stream",
     "text": [
      "\r",
      " 47%|████▋     | 235/500 [27:26:36<35:20:15, 480.06s/it]"
     ]
    },
    {
     "name": "stdout",
     "output_type": "stream",
     "text": [
      "Loss after 10000 iter. : 0.5832\n",
      "Loss after 5000 iter. : 0.3748\n",
      "Loss after 10000 iter. : 0.5698\n",
      "Loss after 5000 iter. : 0.4983\n",
      "Loss after 10000 iter. : 0.2916\n",
      "Loss after 5000 iter. : 0.4774\n",
      "Loss after 10000 iter. : 0.3675\n",
      "Loss after 5000 iter. : 0.4589\n",
      "Loss after 10000 iter. : 0.4906\n",
      "Loss after 5000 iter. : 0.4455\n"
     ]
    },
    {
     "name": "stderr",
     "output_type": "stream",
     "text": [
      "\r",
      " 47%|████▋     | 236/500 [27:33:36<33:53:03, 462.06s/it]"
     ]
    },
    {
     "name": "stdout",
     "output_type": "stream",
     "text": [
      "Loss after 10000 iter. : 0.4655\n",
      "Loss after 5000 iter. : 0.4038\n",
      "Loss after 10000 iter. : 0.3636\n",
      "Loss after 5000 iter. : 0.4323\n",
      "Loss after 10000 iter. : 0.3573\n",
      "Loss after 5000 iter. : 0.3875\n",
      "Loss after 10000 iter. : 0.3411\n",
      "Loss after 5000 iter. : 0.4036\n",
      "Loss after 10000 iter. : 0.3061\n",
      "Loss after 5000 iter. : 0.3867\n"
     ]
    },
    {
     "name": "stderr",
     "output_type": "stream",
     "text": [
      "\r",
      " 47%|████▋     | 237/500 [27:39:35<31:29:36, 431.09s/it]"
     ]
    },
    {
     "name": "stdout",
     "output_type": "stream",
     "text": [
      "Loss after 10000 iter. : 0.2827\n",
      "Loss after 5000 iter. : 0.2563\n",
      "Loss after 10000 iter. : 0.6369\n",
      "Loss after 5000 iter. : 0.3680\n",
      "Loss after 10000 iter. : 0.3836\n",
      "Loss after 5000 iter. : 0.5333\n",
      "Loss after 10000 iter. : 0.3692\n",
      "Loss after 5000 iter. : 0.5022\n",
      "Loss after 10000 iter. : 0.4840\n",
      "Loss after 5000 iter. : 0.4098\n"
     ]
    },
    {
     "name": "stderr",
     "output_type": "stream",
     "text": [
      "\r",
      " 48%|████▊     | 238/500 [27:43:44<27:24:39, 376.64s/it]"
     ]
    },
    {
     "name": "stdout",
     "output_type": "stream",
     "text": [
      "Loss after 10000 iter. : 0.4315\n",
      "Loss after 5000 iter. : 0.4452\n",
      "Loss after 10000 iter. : 0.4268\n",
      "Loss after 5000 iter. : 0.3492\n",
      "Loss after 10000 iter. : 0.4064\n",
      "Loss after 5000 iter. : 0.3994\n",
      "Loss after 10000 iter. : 0.4703\n",
      "Loss after 5000 iter. : 0.3951\n",
      "Loss after 10000 iter. : 0.2855\n",
      "Loss after 5000 iter. : 0.3794\n"
     ]
    },
    {
     "name": "stderr",
     "output_type": "stream",
     "text": [
      "\r",
      " 48%|████▊     | 239/500 [27:50:59<28:33:44, 393.96s/it]"
     ]
    },
    {
     "name": "stdout",
     "output_type": "stream",
     "text": [
      "Loss after 10000 iter. : 0.3227\n",
      "Loss after 5000 iter. : 0.3784\n",
      "Loss after 10000 iter. : 0.4473\n",
      "Loss after 5000 iter. : 0.6544\n",
      "Loss after 10000 iter. : 0.7409\n",
      "Loss after 5000 iter. : 0.4938\n",
      "Loss after 10000 iter. : 0.2744\n",
      "Loss after 5000 iter. : 0.3748\n",
      "Loss after 10000 iter. : 0.3931\n",
      "Loss after 5000 iter. : 0.4263\n"
     ]
    },
    {
     "name": "stderr",
     "output_type": "stream",
     "text": [
      "\r",
      " 48%|████▊     | 240/500 [27:59:46<31:20:35, 433.98s/it]"
     ]
    },
    {
     "name": "stdout",
     "output_type": "stream",
     "text": [
      "Loss after 10000 iter. : 0.2999\n",
      "Loss after 5000 iter. : 0.3955\n",
      "Loss after 10000 iter. : 0.4147\n",
      "Loss after 5000 iter. : 0.3738\n",
      "Loss after 10000 iter. : 0.3518\n",
      "Loss after 5000 iter. : 0.3856\n",
      "Loss after 10000 iter. : 0.3589\n",
      "Loss after 5000 iter. : 0.3647\n",
      "Loss after 10000 iter. : 0.3486\n",
      "Loss after 5000 iter. : 0.3226\n"
     ]
    },
    {
     "name": "stderr",
     "output_type": "stream",
     "text": [
      "\r",
      " 48%|████▊     | 241/500 [28:09:16<34:09:41, 474.83s/it]"
     ]
    },
    {
     "name": "stdout",
     "output_type": "stream",
     "text": [
      "Loss after 10000 iter. : 0.3366\n",
      "Loss after 5000 iter. : 0.4950\n",
      "Loss after 10000 iter. : 0.5410\n",
      "Loss after 5000 iter. : 0.4305\n",
      "Loss after 10000 iter. : 0.2836\n",
      "Loss after 5000 iter. : 0.5139\n",
      "Loss after 10000 iter. : 0.3503\n",
      "Loss after 5000 iter. : 0.4211\n",
      "Loss after 10000 iter. : 0.4156\n",
      "Loss after 5000 iter. : 0.6141\n"
     ]
    },
    {
     "name": "stderr",
     "output_type": "stream",
     "text": [
      "\r",
      " 48%|████▊     | 242/500 [28:16:34<33:13:54, 463.70s/it]"
     ]
    },
    {
     "name": "stdout",
     "output_type": "stream",
     "text": [
      "Loss after 10000 iter. : 0.3630\n",
      "Loss after 5000 iter. : 0.3976\n",
      "Loss after 10000 iter. : 0.4510\n",
      "Loss after 5000 iter. : 0.5004\n",
      "Loss after 10000 iter. : 0.4301\n",
      "Loss after 5000 iter. : 0.4531\n",
      "Loss after 10000 iter. : 0.5125\n",
      "Loss after 5000 iter. : 0.4416\n",
      "Loss after 10000 iter. : 0.3999\n",
      "Loss after 5000 iter. : 0.4842\n"
     ]
    },
    {
     "name": "stderr",
     "output_type": "stream",
     "text": [
      "\r",
      " 49%|████▊     | 243/500 [28:27:07<36:43:10, 514.36s/it]"
     ]
    },
    {
     "name": "stdout",
     "output_type": "stream",
     "text": [
      "Loss after 10000 iter. : 0.3765\n",
      "Loss after 5000 iter. : 0.3543\n",
      "Loss after 10000 iter. : 0.4064\n",
      "Loss after 5000 iter. : 0.2897\n",
      "Loss after 10000 iter. : 0.4127\n",
      "Loss after 5000 iter. : 0.3894\n",
      "Loss after 10000 iter. : 0.4114\n",
      "Loss after 5000 iter. : 0.3340\n",
      "Loss after 10000 iter. : 0.3904\n",
      "Loss after 5000 iter. : 0.3971\n"
     ]
    },
    {
     "name": "stderr",
     "output_type": "stream",
     "text": [
      "\r",
      " 49%|████▉     | 244/500 [28:33:46<34:07:29, 479.88s/it]"
     ]
    },
    {
     "name": "stdout",
     "output_type": "stream",
     "text": [
      "Loss after 10000 iter. : 0.3874\n",
      "Loss after 5000 iter. : 0.4649\n",
      "Loss after 10000 iter. : 0.3352\n",
      "Loss after 5000 iter. : 0.4804\n",
      "Loss after 10000 iter. : 0.3561\n",
      "Loss after 5000 iter. : 0.3326\n",
      "Loss after 10000 iter. : 0.3682\n",
      "Loss after 5000 iter. : 0.3392\n",
      "Loss after 10000 iter. : 0.3589\n",
      "Loss after 5000 iter. : 0.3728\n"
     ]
    },
    {
     "name": "stderr",
     "output_type": "stream",
     "text": [
      "\r",
      " 49%|████▉     | 245/500 [28:42:58<35:31:33, 501.55s/it]"
     ]
    },
    {
     "name": "stdout",
     "output_type": "stream",
     "text": [
      "Loss after 10000 iter. : 0.3237\n",
      "Loss after 5000 iter. : 0.3654\n",
      "Loss after 10000 iter. : 0.6486\n",
      "Loss after 5000 iter. : 0.3611\n",
      "Loss after 10000 iter. : 0.4724\n",
      "Loss after 5000 iter. : 0.2875\n",
      "Loss after 10000 iter. : 0.2866\n",
      "Loss after 5000 iter. : 0.5895\n",
      "Loss after 10000 iter. : 0.3923\n",
      "Loss after 5000 iter. : 0.4614\n"
     ]
    },
    {
     "name": "stderr",
     "output_type": "stream",
     "text": [
      "\r",
      " 49%|████▉     | 246/500 [28:46:49<29:39:27, 420.35s/it]"
     ]
    },
    {
     "name": "stdout",
     "output_type": "stream",
     "text": [
      "Loss after 10000 iter. : 0.4191\n",
      "Loss after 5000 iter. : 0.4116\n",
      "Loss after 10000 iter. : 0.3704\n",
      "Loss after 5000 iter. : 0.4410\n",
      "Loss after 10000 iter. : 0.3855\n",
      "Loss after 5000 iter. : 0.5290\n",
      "Loss after 10000 iter. : 0.3278\n",
      "Loss after 5000 iter. : 0.3504\n",
      "Loss after 10000 iter. : 0.2763\n",
      "Loss after 5000 iter. : 0.2958\n"
     ]
    },
    {
     "name": "stderr",
     "output_type": "stream",
     "text": [
      "\r",
      " 49%|████▉     | 247/500 [28:51:35<26:41:56, 379.91s/it]"
     ]
    },
    {
     "name": "stdout",
     "output_type": "stream",
     "text": [
      "Loss after 10000 iter. : 0.4806\n",
      "Loss after 5000 iter. : 0.3476\n",
      "Loss after 10000 iter. : 0.3537\n",
      "Loss after 5000 iter. : 0.5351\n",
      "Loss after 10000 iter. : 0.4205\n",
      "Loss after 5000 iter. : 0.3567\n",
      "Loss after 10000 iter. : 0.2282\n",
      "Loss after 5000 iter. : 0.4628\n",
      "Loss after 10000 iter. : 0.4878\n",
      "Loss after 5000 iter. : 0.5449\n"
     ]
    },
    {
     "name": "stderr",
     "output_type": "stream",
     "text": [
      "\r",
      " 50%|████▉     | 248/500 [28:57:24<25:56:57, 370.70s/it]"
     ]
    },
    {
     "name": "stdout",
     "output_type": "stream",
     "text": [
      "Loss after 10000 iter. : 0.3935\n",
      "Loss after 5000 iter. : 0.4968\n",
      "Loss after 10000 iter. : 0.3815\n",
      "Loss after 5000 iter. : 0.4338\n",
      "Loss after 10000 iter. : 0.4691\n",
      "Loss after 5000 iter. : 0.3636\n",
      "Loss after 10000 iter. : 0.4065\n",
      "Loss after 5000 iter. : 0.3763\n",
      "Loss after 10000 iter. : 0.4834\n",
      "Loss after 5000 iter. : 0.4328\n"
     ]
    },
    {
     "name": "stderr",
     "output_type": "stream",
     "text": [
      "\r",
      " 50%|████▉     | 249/500 [29:08:42<32:16:58, 463.02s/it]"
     ]
    },
    {
     "name": "stdout",
     "output_type": "stream",
     "text": [
      "Loss after 10000 iter. : 0.4355\n",
      "Loss after 5000 iter. : 0.5069\n",
      "Loss after 10000 iter. : 0.3956\n",
      "Loss after 5000 iter. : 0.1330\n",
      "Loss after 10000 iter. : 0.7544\n",
      "Loss after 5000 iter. : 0.4243\n",
      "Loss after 10000 iter. : 0.2546\n",
      "Loss after 5000 iter. : 0.2830\n",
      "Loss after 10000 iter. : 0.2499\n",
      "Loss after 5000 iter. : 0.4067\n"
     ]
    },
    {
     "name": "stderr",
     "output_type": "stream",
     "text": [
      "\r",
      " 50%|█████     | 250/500 [29:12:29<27:14:16, 392.23s/it]"
     ]
    },
    {
     "name": "stdout",
     "output_type": "stream",
     "text": [
      "Loss after 10000 iter. : 0.3641\n",
      "Loss after 5000 iter. : 0.4105\n",
      "Loss after 10000 iter. : 0.3700\n",
      "Loss after 5000 iter. : 0.4413\n",
      "Loss after 10000 iter. : 0.3755\n",
      "Loss after 5000 iter. : 0.4092\n",
      "Loss after 10000 iter. : 0.3567\n",
      "Loss after 5000 iter. : 0.3527\n",
      "Loss after 10000 iter. : 0.4970\n",
      "Loss after 5000 iter. : 0.3902\n"
     ]
    },
    {
     "name": "stderr",
     "output_type": "stream",
     "text": [
      "\r",
      " 50%|█████     | 251/500 [29:17:58<25:48:46, 373.20s/it]"
     ]
    },
    {
     "name": "stdout",
     "output_type": "stream",
     "text": [
      "Loss after 10000 iter. : 0.4360\n",
      "Loss after 5000 iter. : 0.4238\n",
      "Loss after 10000 iter. : 0.4138\n",
      "Loss after 5000 iter. : 0.5317\n",
      "Loss after 10000 iter. : 0.2993\n",
      "Loss after 5000 iter. : 0.4376\n",
      "Loss after 10000 iter. : 0.4532\n",
      "Loss after 5000 iter. : 0.2894\n",
      "Loss after 10000 iter. : 0.4016\n",
      "Loss after 5000 iter. : 0.3445\n"
     ]
    },
    {
     "name": "stderr",
     "output_type": "stream",
     "text": [
      "\r",
      " 50%|█████     | 252/500 [29:21:36<22:29:55, 326.59s/it]"
     ]
    },
    {
     "name": "stdout",
     "output_type": "stream",
     "text": [
      "Loss after 10000 iter. : 0.6183\n",
      "Loss after 5000 iter. : 0.4174\n",
      "Loss after 10000 iter. : 0.4563\n",
      "Loss after 5000 iter. : 0.4541\n",
      "Loss after 10000 iter. : 0.2437\n",
      "Loss after 5000 iter. : 0.3938\n",
      "Loss after 10000 iter. : 0.3527\n",
      "Loss after 5000 iter. : 0.3670\n",
      "Loss after 10000 iter. : 0.3979\n",
      "Loss after 5000 iter. : 0.3835\n"
     ]
    },
    {
     "name": "stderr",
     "output_type": "stream",
     "text": [
      "\r",
      " 51%|█████     | 253/500 [29:31:06<27:25:50, 399.80s/it]"
     ]
    },
    {
     "name": "stdout",
     "output_type": "stream",
     "text": [
      "Loss after 10000 iter. : 0.3566\n",
      "Loss after 5000 iter. : 0.4035\n",
      "Loss after 10000 iter. : 0.3043\n",
      "Loss after 5000 iter. : 0.3243\n",
      "Loss after 10000 iter. : 0.3011\n",
      "Loss after 5000 iter. : 0.4621\n",
      "Loss after 10000 iter. : 0.4336\n",
      "Loss after 5000 iter. : 0.5344\n",
      "Loss after 10000 iter. : 0.4296\n",
      "Loss after 5000 iter. : 0.4128\n"
     ]
    },
    {
     "name": "stderr",
     "output_type": "stream",
     "text": [
      "\r",
      " 51%|█████     | 254/500 [29:39:22<29:16:46, 428.48s/it]"
     ]
    },
    {
     "name": "stdout",
     "output_type": "stream",
     "text": [
      "Loss after 10000 iter. : 0.4444\n",
      "Loss after 5000 iter. : 0.4236\n",
      "Loss after 10000 iter. : 0.2521\n",
      "Loss after 5000 iter. : 0.3329\n",
      "Loss after 10000 iter. : 0.3216\n",
      "Loss after 5000 iter. : 0.3394\n",
      "Loss after 10000 iter. : 0.3827\n",
      "Loss after 5000 iter. : 0.4168\n",
      "Loss after 10000 iter. : 0.4559\n",
      "Loss after 5000 iter. : 0.3445\n"
     ]
    },
    {
     "name": "stderr",
     "output_type": "stream",
     "text": [
      "\r",
      " 51%|█████     | 255/500 [29:44:27<26:38:34, 391.49s/it]"
     ]
    },
    {
     "name": "stdout",
     "output_type": "stream",
     "text": [
      "Loss after 10000 iter. : 0.4282\n",
      "Loss after 5000 iter. : 0.5005\n",
      "Loss after 10000 iter. : 0.3653\n",
      "Loss after 5000 iter. : 0.3288\n",
      "Loss after 10000 iter. : 0.5108\n",
      "Loss after 5000 iter. : 0.3830\n",
      "Loss after 10000 iter. : 0.3503\n",
      "Loss after 5000 iter. : 0.2953\n",
      "Loss after 10000 iter. : 0.3449\n",
      "Loss after 5000 iter. : 0.2991\n"
     ]
    },
    {
     "name": "stderr",
     "output_type": "stream",
     "text": [
      "\r",
      " 51%|█████     | 256/500 [29:52:42<28:38:48, 422.66s/it]"
     ]
    },
    {
     "name": "stdout",
     "output_type": "stream",
     "text": [
      "Loss after 10000 iter. : 0.3394\n",
      "Loss after 5000 iter. : 0.4635\n",
      "Loss after 10000 iter. : 0.3780\n",
      "Loss after 5000 iter. : 0.3358\n",
      "Loss after 10000 iter. : 0.4874\n",
      "Loss after 5000 iter. : 0.4347\n",
      "Loss after 10000 iter. : 0.4369\n",
      "Loss after 5000 iter. : 0.5246\n",
      "Loss after 10000 iter. : 0.4656\n",
      "Loss after 5000 iter. : 0.3807\n"
     ]
    },
    {
     "name": "stderr",
     "output_type": "stream",
     "text": [
      "\r",
      " 51%|█████▏    | 257/500 [30:01:20<30:27:05, 451.13s/it]"
     ]
    },
    {
     "name": "stdout",
     "output_type": "stream",
     "text": [
      "Loss after 10000 iter. : 0.5488\n",
      "Loss after 5000 iter. : 0.3708\n",
      "Loss after 10000 iter. : 0.3332\n",
      "Loss after 5000 iter. : 0.3651\n",
      "Loss after 10000 iter. : 0.3044\n",
      "Loss after 5000 iter. : 0.3348\n",
      "Loss after 10000 iter. : 0.5563\n",
      "Loss after 5000 iter. : 0.3095\n",
      "Loss after 10000 iter. : 0.4170\n",
      "Loss after 5000 iter. : 0.3890\n"
     ]
    },
    {
     "name": "stderr",
     "output_type": "stream",
     "text": [
      "\r",
      " 52%|█████▏    | 258/500 [30:12:22<34:34:13, 514.27s/it]"
     ]
    },
    {
     "name": "stdout",
     "output_type": "stream",
     "text": [
      "Loss after 10000 iter. : 0.3786\n",
      "Loss after 5000 iter. : 0.4397\n",
      "Loss after 10000 iter. : 0.4281\n",
      "Loss after 5000 iter. : 0.3591\n",
      "Loss after 10000 iter. : 0.4111\n",
      "Loss after 5000 iter. : 0.4351\n",
      "Loss after 10000 iter. : 0.7400\n",
      "Loss after 5000 iter. : 0.3729\n",
      "Loss after 10000 iter. : 0.5177\n",
      "Loss after 5000 iter. : 0.4268\n"
     ]
    },
    {
     "name": "stderr",
     "output_type": "stream",
     "text": [
      "\r",
      " 52%|█████▏    | 259/500 [30:16:32<29:07:43, 435.12s/it]"
     ]
    },
    {
     "name": "stdout",
     "output_type": "stream",
     "text": [
      "Loss after 10000 iter. : 0.3409\n",
      "Loss after 5000 iter. : 0.3721\n",
      "Loss after 10000 iter. : 0.4115\n",
      "Loss after 5000 iter. : 0.4890\n",
      "Loss after 10000 iter. : 0.3879\n",
      "Loss after 5000 iter. : 0.2970\n",
      "Loss after 10000 iter. : 0.3794\n",
      "Loss after 5000 iter. : 0.3257\n",
      "Loss after 10000 iter. : 0.2661\n",
      "Loss after 5000 iter. : 0.4828\n"
     ]
    },
    {
     "name": "stderr",
     "output_type": "stream",
     "text": [
      "\r",
      " 52%|█████▏    | 260/500 [30:20:22<24:53:54, 373.48s/it]"
     ]
    },
    {
     "name": "stdout",
     "output_type": "stream",
     "text": [
      "Loss after 10000 iter. : 0.5351\n",
      "Loss after 5000 iter. : 0.3801\n",
      "Loss after 10000 iter. : 0.3752\n",
      "Loss after 5000 iter. : 0.3976\n",
      "Loss after 10000 iter. : 0.3575\n",
      "Loss after 5000 iter. : 0.4293\n",
      "Loss after 10000 iter. : 0.5180\n",
      "Loss after 5000 iter. : 0.3280\n",
      "Loss after 10000 iter. : 0.5030\n",
      "Loss after 5000 iter. : 0.4130\n"
     ]
    },
    {
     "name": "stderr",
     "output_type": "stream",
     "text": [
      "\r",
      " 52%|█████▏    | 261/500 [30:28:02<26:31:18, 399.49s/it]"
     ]
    },
    {
     "name": "stdout",
     "output_type": "stream",
     "text": [
      "Loss after 10000 iter. : 0.3766\n",
      "Loss after 5000 iter. : 0.4714\n",
      "Loss after 10000 iter. : 0.3962\n",
      "Loss after 5000 iter. : 0.3614\n",
      "Loss after 10000 iter. : 0.4474\n",
      "Loss after 5000 iter. : 0.4259\n",
      "Loss after 10000 iter. : 0.3891\n",
      "Loss after 5000 iter. : 0.4590\n",
      "Loss after 10000 iter. : 0.4366\n",
      "Loss after 5000 iter. : 0.3826\n"
     ]
    },
    {
     "name": "stderr",
     "output_type": "stream",
     "text": [
      "\r",
      " 52%|█████▏    | 262/500 [30:34:59<26:45:09, 404.66s/it]"
     ]
    },
    {
     "name": "stdout",
     "output_type": "stream",
     "text": [
      "Loss after 10000 iter. : 0.3345\n",
      "Loss after 5000 iter. : 0.4093\n",
      "Loss after 10000 iter. : 0.4209\n",
      "Loss after 5000 iter. : 0.3722\n",
      "Loss after 10000 iter. : 0.5340\n",
      "Loss after 5000 iter. : 0.4300\n",
      "Loss after 10000 iter. : 0.4415\n",
      "Loss after 5000 iter. : 0.3792\n",
      "Loss after 10000 iter. : 0.5861\n",
      "Loss after 5000 iter. : 0.3775\n"
     ]
    },
    {
     "name": "stderr",
     "output_type": "stream",
     "text": [
      "\r",
      " 53%|█████▎    | 263/500 [30:41:35<26:28:43, 402.21s/it]"
     ]
    },
    {
     "name": "stdout",
     "output_type": "stream",
     "text": [
      "Loss after 10000 iter. : 0.4505\n",
      "Loss after 5000 iter. : 0.4177\n",
      "Loss after 10000 iter. : 0.3465\n",
      "Loss after 5000 iter. : 0.4815\n",
      "Loss after 10000 iter. : 0.3561\n",
      "Loss after 5000 iter. : 0.3607\n",
      "Loss after 10000 iter. : 0.3178\n",
      "Loss after 5000 iter. : 0.4728\n",
      "Loss after 10000 iter. : 0.3094\n",
      "Loss after 5000 iter. : 0.3542\n"
     ]
    },
    {
     "name": "stderr",
     "output_type": "stream",
     "text": [
      "\r",
      " 53%|█████▎    | 264/500 [30:48:46<26:55:58, 410.84s/it]"
     ]
    },
    {
     "name": "stdout",
     "output_type": "stream",
     "text": [
      "Loss after 10000 iter. : 0.3935\n",
      "Loss after 5000 iter. : 0.2943\n",
      "Loss after 10000 iter. : 0.4078\n",
      "Loss after 5000 iter. : 0.4488\n",
      "Loss after 10000 iter. : 0.3685\n",
      "Loss after 5000 iter. : 0.3450\n",
      "Loss after 10000 iter. : 0.3961\n",
      "Loss after 5000 iter. : 0.4562\n",
      "Loss after 10000 iter. : 0.4944\n",
      "Loss after 5000 iter. : 0.2577\n"
     ]
    },
    {
     "name": "stderr",
     "output_type": "stream",
     "text": [
      "\r",
      " 53%|█████▎    | 265/500 [30:54:19<25:17:03, 387.33s/it]"
     ]
    },
    {
     "name": "stdout",
     "output_type": "stream",
     "text": [
      "Loss after 10000 iter. : 0.4653\n",
      "Loss after 5000 iter. : 0.4864\n",
      "Loss after 10000 iter. : 0.4157\n",
      "Loss after 5000 iter. : 0.4465\n",
      "Loss after 10000 iter. : 0.3996\n",
      "Loss after 5000 iter. : 0.4216\n",
      "Loss after 10000 iter. : 0.5537\n",
      "Loss after 5000 iter. : 0.3747\n",
      "Loss after 10000 iter. : 0.4213\n",
      "Loss after 5000 iter. : 0.4748\n"
     ]
    },
    {
     "name": "stderr",
     "output_type": "stream",
     "text": [
      "\r",
      " 53%|█████▎    | 266/500 [31:03:06<27:54:27, 429.35s/it]"
     ]
    },
    {
     "name": "stdout",
     "output_type": "stream",
     "text": [
      "Loss after 10000 iter. : 0.4219\n",
      "Loss after 5000 iter. : 0.3196\n",
      "Loss after 10000 iter. : 0.3420\n",
      "Loss after 5000 iter. : 0.4072\n",
      "Loss after 10000 iter. : 0.3502\n",
      "Loss after 5000 iter. : 0.3504\n",
      "Loss after 10000 iter. : 0.3584\n",
      "Loss after 5000 iter. : 0.4869\n",
      "Loss after 10000 iter. : 0.3299\n",
      "Loss after 5000 iter. : 0.3154\n"
     ]
    },
    {
     "name": "stderr",
     "output_type": "stream",
     "text": [
      "\r",
      " 53%|█████▎    | 267/500 [31:14:08<32:17:59, 499.05s/it]"
     ]
    },
    {
     "name": "stdout",
     "output_type": "stream",
     "text": [
      "Loss after 10000 iter. : 0.2859\n",
      "Loss after 5000 iter. : 0.3572\n",
      "Loss after 10000 iter. : 0.4525\n",
      "Loss after 5000 iter. : 0.4063\n",
      "Loss after 10000 iter. : 0.5150\n",
      "Loss after 5000 iter. : 0.3945\n",
      "Loss after 10000 iter. : 0.4188\n",
      "Loss after 5000 iter. : 0.4465\n",
      "Loss after 10000 iter. : 0.4592\n",
      "Loss after 5000 iter. : 0.4201\n"
     ]
    },
    {
     "name": "stderr",
     "output_type": "stream",
     "text": [
      "\r",
      " 54%|█████▎    | 268/500 [31:28:54<39:38:59, 615.25s/it]"
     ]
    },
    {
     "name": "stdout",
     "output_type": "stream",
     "text": [
      "Loss after 10000 iter. : 0.3398\n",
      "Loss after 5000 iter. : 0.4898\n",
      "Loss after 10000 iter. : 0.3777\n",
      "Loss after 5000 iter. : 0.4019\n",
      "Loss after 10000 iter. : 0.3193\n",
      "Loss after 5000 iter. : 0.4966\n",
      "Loss after 10000 iter. : 0.5749\n",
      "Loss after 5000 iter. : 0.4355\n",
      "Loss after 10000 iter. : 0.3842\n",
      "Loss after 5000 iter. : 0.4186\n"
     ]
    },
    {
     "name": "stderr",
     "output_type": "stream",
     "text": [
      "\r",
      " 54%|█████▍    | 269/500 [31:42:00<42:45:20, 666.32s/it]"
     ]
    },
    {
     "name": "stdout",
     "output_type": "stream",
     "text": [
      "Loss after 10000 iter. : 0.3782\n",
      "Loss after 5000 iter. : 0.3753\n",
      "Loss after 10000 iter. : 0.3581\n",
      "Loss after 5000 iter. : 0.4049\n",
      "Loss after 10000 iter. : 0.3534\n",
      "Loss after 5000 iter. : 0.2926\n",
      "Loss after 10000 iter. : 0.3139\n",
      "Loss after 5000 iter. : 0.3551\n",
      "Loss after 10000 iter. : 0.4215\n",
      "Loss after 5000 iter. : 0.3589\n"
     ]
    },
    {
     "name": "stderr",
     "output_type": "stream",
     "text": [
      "\r",
      " 54%|█████▍    | 270/500 [31:48:38<37:25:53, 585.88s/it]"
     ]
    },
    {
     "name": "stdout",
     "output_type": "stream",
     "text": [
      "Loss after 10000 iter. : 0.3560\n",
      "Loss after 5000 iter. : 0.3899\n",
      "Loss after 10000 iter. : 0.3791\n",
      "Loss after 5000 iter. : 0.3834\n",
      "Loss after 10000 iter. : 0.3812\n",
      "Loss after 5000 iter. : 0.4250\n",
      "Loss after 10000 iter. : 0.5482\n",
      "Loss after 5000 iter. : 0.4652\n",
      "Loss after 10000 iter. : 0.4646\n",
      "Loss after 5000 iter. : 0.3912\n"
     ]
    },
    {
     "name": "stderr",
     "output_type": "stream",
     "text": [
      "\r",
      " 54%|█████▍    | 271/500 [31:57:25<36:09:16, 568.37s/it]"
     ]
    },
    {
     "name": "stdout",
     "output_type": "stream",
     "text": [
      "Loss after 10000 iter. : 0.3560\n",
      "Loss after 5000 iter. : 0.3714\n",
      "Loss after 10000 iter. : 0.2960\n",
      "Loss after 5000 iter. : 0.3294\n",
      "Loss after 10000 iter. : 0.5780\n",
      "Loss after 5000 iter. : 0.2936\n",
      "Loss after 10000 iter. : 0.4063\n",
      "Loss after 5000 iter. : 0.4367\n",
      "Loss after 10000 iter. : 0.3440\n",
      "Loss after 5000 iter. : 0.4310\n"
     ]
    },
    {
     "name": "stderr",
     "output_type": "stream",
     "text": [
      "\r",
      " 54%|█████▍    | 272/500 [32:03:38<32:16:56, 509.72s/it]"
     ]
    },
    {
     "name": "stdout",
     "output_type": "stream",
     "text": [
      "Loss after 10000 iter. : 0.3732\n",
      "Loss after 5000 iter. : 0.3434\n",
      "Loss after 10000 iter. : 0.1574\n",
      "Loss after 5000 iter. : 0.2926\n",
      "Loss after 10000 iter. : 0.1943\n",
      "Loss after 5000 iter. : 0.2190\n",
      "Loss after 10000 iter. : 0.2090\n",
      "Loss after 5000 iter. : 0.2763\n",
      "Loss after 10000 iter. : 0.1931\n",
      "Loss after 5000 iter. : 0.3530\n"
     ]
    },
    {
     "name": "stderr",
     "output_type": "stream",
     "text": [
      "\r",
      " 55%|█████▍    | 273/500 [32:08:32<28:03:40, 445.02s/it]"
     ]
    },
    {
     "name": "stdout",
     "output_type": "stream",
     "text": [
      "Loss after 10000 iter. : 0.1523\n",
      "Loss after 5000 iter. : 0.3995\n",
      "Loss after 10000 iter. : 0.3267\n",
      "Loss after 5000 iter. : 0.2524\n",
      "Loss after 10000 iter. : 0.4195\n",
      "Loss after 5000 iter. : 0.3079\n",
      "Loss after 10000 iter. : 0.3757\n",
      "Loss after 5000 iter. : 0.3082\n",
      "Loss after 10000 iter. : 0.3813\n",
      "Loss after 5000 iter. : 0.3248\n"
     ]
    },
    {
     "name": "stderr",
     "output_type": "stream",
     "text": [
      "\r",
      " 55%|█████▍    | 274/500 [32:22:51<35:43:40, 569.12s/it]"
     ]
    },
    {
     "name": "stdout",
     "output_type": "stream",
     "text": [
      "Loss after 10000 iter. : 0.3687\n",
      "Loss after 5000 iter. : 0.5234\n",
      "Loss after 10000 iter. : 0.4441\n",
      "Loss after 5000 iter. : 0.4134\n",
      "Loss after 10000 iter. : 0.4972\n",
      "Loss after 5000 iter. : 0.4557\n",
      "Loss after 10000 iter. : 0.4394\n",
      "Loss after 5000 iter. : 0.3930\n",
      "Loss after 10000 iter. : 0.3566\n",
      "Loss after 5000 iter. : 0.6178\n"
     ]
    },
    {
     "name": "stderr",
     "output_type": "stream",
     "text": [
      "\r",
      " 55%|█████▌    | 275/500 [32:27:49<30:29:29, 487.87s/it]"
     ]
    },
    {
     "name": "stdout",
     "output_type": "stream",
     "text": [
      "Loss after 10000 iter. : 0.5534\n",
      "Loss after 5000 iter. : 0.4477\n",
      "Loss after 10000 iter. : 0.4395\n",
      "Loss after 5000 iter. : 0.5047\n",
      "Loss after 10000 iter. : 0.4405\n",
      "Loss after 5000 iter. : 0.5490\n",
      "Loss after 10000 iter. : 0.3900\n",
      "Loss after 5000 iter. : 0.4480\n",
      "Loss after 10000 iter. : 0.3515\n",
      "Loss after 5000 iter. : 0.3630\n"
     ]
    },
    {
     "name": "stderr",
     "output_type": "stream",
     "text": [
      "\r",
      " 55%|█████▌    | 276/500 [32:36:21<30:48:27, 495.12s/it]"
     ]
    },
    {
     "name": "stdout",
     "output_type": "stream",
     "text": [
      "Loss after 10000 iter. : 0.4081\n",
      "Loss after 5000 iter. : 0.4276\n",
      "Loss after 10000 iter. : 0.4031\n",
      "Loss after 5000 iter. : 0.4421\n",
      "Loss after 10000 iter. : 0.3492\n",
      "Loss after 5000 iter. : 0.4398\n",
      "Loss after 10000 iter. : 0.3248\n",
      "Loss after 5000 iter. : 0.3487\n",
      "Loss after 10000 iter. : 0.3969\n",
      "Loss after 5000 iter. : 0.4206\n"
     ]
    },
    {
     "name": "stderr",
     "output_type": "stream",
     "text": [
      "\r",
      " 55%|█████▌    | 277/500 [32:48:11<34:39:51, 559.60s/it]"
     ]
    },
    {
     "name": "stdout",
     "output_type": "stream",
     "text": [
      "Loss after 10000 iter. : 0.2864\n",
      "Loss after 5000 iter. : 0.3694\n",
      "Loss after 10000 iter. : 0.4078\n",
      "Loss after 5000 iter. : 0.3472\n",
      "Loss after 10000 iter. : 0.3769\n",
      "Loss after 5000 iter. : 0.4418\n",
      "Loss after 10000 iter. : 0.4419\n",
      "Loss after 5000 iter. : 0.3750\n",
      "Loss after 10000 iter. : 0.4720\n",
      "Loss after 5000 iter. : 0.3295\n"
     ]
    },
    {
     "name": "stderr",
     "output_type": "stream",
     "text": [
      "\r",
      " 56%|█████▌    | 278/500 [32:57:19<34:17:25, 556.06s/it]"
     ]
    },
    {
     "name": "stdout",
     "output_type": "stream",
     "text": [
      "Loss after 10000 iter. : 0.3763\n",
      "Loss after 5000 iter. : 0.3698\n",
      "Loss after 10000 iter. : 0.4598\n",
      "Loss after 5000 iter. : 0.4673\n",
      "Loss after 10000 iter. : 0.4887\n",
      "Loss after 5000 iter. : 0.3953\n",
      "Loss after 10000 iter. : 0.4536\n",
      "Loss after 5000 iter. : 0.3989\n",
      "Loss after 10000 iter. : 0.3853\n",
      "Loss after 5000 iter. : 0.6156\n"
     ]
    },
    {
     "name": "stderr",
     "output_type": "stream",
     "text": [
      "\r",
      " 56%|█████▌    | 279/500 [33:04:07<31:24:02, 511.51s/it]"
     ]
    },
    {
     "name": "stdout",
     "output_type": "stream",
     "text": [
      "Loss after 10000 iter. : 0.4645\n",
      "Loss after 5000 iter. : 0.5041\n",
      "Loss after 10000 iter. : 0.4320\n",
      "Loss after 5000 iter. : 0.4880\n",
      "Loss after 10000 iter. : 0.4895\n",
      "Loss after 5000 iter. : 0.4114\n",
      "Loss after 10000 iter. : 0.3075\n",
      "Loss after 5000 iter. : 0.3766\n",
      "Loss after 10000 iter. : 0.3975\n",
      "Loss after 5000 iter. : 0.3937\n"
     ]
    },
    {
     "name": "stderr",
     "output_type": "stream",
     "text": [
      "\r",
      " 56%|█████▌    | 280/500 [33:18:36<37:49:44, 619.02s/it]"
     ]
    },
    {
     "name": "stdout",
     "output_type": "stream",
     "text": [
      "Loss after 10000 iter. : 0.4176\n",
      "Loss after 5000 iter. : 0.3910\n",
      "Loss after 10000 iter. : 0.5603\n",
      "Loss after 5000 iter. : 0.3159\n",
      "Loss after 10000 iter. : 0.4225\n",
      "Loss after 5000 iter. : 0.3004\n",
      "Loss after 10000 iter. : 0.4043\n",
      "Loss after 5000 iter. : 0.3432\n",
      "Loss after 10000 iter. : 0.3650\n",
      "Loss after 5000 iter. : 0.5883\n"
     ]
    },
    {
     "name": "stderr",
     "output_type": "stream",
     "text": [
      "\r",
      " 56%|█████▌    | 281/500 [33:22:57<31:07:20, 511.60s/it]"
     ]
    },
    {
     "name": "stdout",
     "output_type": "stream",
     "text": [
      "Loss after 10000 iter. : 0.4541\n",
      "Loss after 5000 iter. : 0.3838\n",
      "Loss after 10000 iter. : 0.4984\n",
      "Loss after 5000 iter. : 0.3501\n",
      "Loss after 10000 iter. : 0.4398\n",
      "Loss after 5000 iter. : 0.3834\n",
      "Loss after 10000 iter. : 0.5125\n",
      "Loss after 5000 iter. : 0.3211\n",
      "Loss after 10000 iter. : 0.3578\n",
      "Loss after 5000 iter. : 0.4296\n"
     ]
    },
    {
     "name": "stderr",
     "output_type": "stream",
     "text": [
      "\r",
      " 56%|█████▋    | 282/500 [33:28:07<27:18:14, 450.89s/it]"
     ]
    },
    {
     "name": "stdout",
     "output_type": "stream",
     "text": [
      "Loss after 10000 iter. : 0.4182\n",
      "Loss after 5000 iter. : 0.5938\n",
      "Loss after 10000 iter. : 0.3625\n",
      "Loss after 5000 iter. : 0.7179\n",
      "Loss after 10000 iter. : 0.3972\n",
      "Loss after 5000 iter. : 0.4638\n",
      "Loss after 10000 iter. : 0.7396\n",
      "Loss after 5000 iter. : 0.6639\n",
      "Loss after 10000 iter. : 0.4807\n",
      "Loss after 5000 iter. : 0.4433\n"
     ]
    },
    {
     "name": "stderr",
     "output_type": "stream",
     "text": [
      "\r",
      " 57%|█████▋    | 283/500 [33:33:16<24:37:07, 408.42s/it]"
     ]
    },
    {
     "name": "stdout",
     "output_type": "stream",
     "text": [
      "Loss after 10000 iter. : 0.4605\n",
      "Loss after 5000 iter. : 0.4459\n",
      "Loss after 10000 iter. : 0.3857\n",
      "Loss after 5000 iter. : 0.4738\n",
      "Loss after 10000 iter. : 0.3498\n",
      "Loss after 5000 iter. : 0.4244\n",
      "Loss after 10000 iter. : 0.3645\n",
      "Loss after 5000 iter. : 0.4303\n",
      "Loss after 10000 iter. : 0.3307\n",
      "Loss after 5000 iter. : 0.3930\n"
     ]
    },
    {
     "name": "stderr",
     "output_type": "stream",
     "text": [
      "\r",
      " 57%|█████▋    | 284/500 [33:39:21<23:43:01, 395.28s/it]"
     ]
    },
    {
     "name": "stdout",
     "output_type": "stream",
     "text": [
      "Loss after 10000 iter. : 0.4273\n",
      "Loss after 5000 iter. : 0.4668\n",
      "Loss after 10000 iter. : 0.5512\n",
      "Loss after 5000 iter. : 0.3374\n",
      "Loss after 10000 iter. : 0.4916\n",
      "Loss after 5000 iter. : 0.3616\n",
      "Loss after 10000 iter. : 0.3323\n",
      "Loss after 5000 iter. : 0.5556\n",
      "Loss after 10000 iter. : 0.4018\n",
      "Loss after 5000 iter. : 0.5609\n"
     ]
    },
    {
     "name": "stderr",
     "output_type": "stream",
     "text": [
      "\r",
      " 57%|█████▋    | 285/500 [33:50:29<28:30:05, 477.24s/it]"
     ]
    },
    {
     "name": "stdout",
     "output_type": "stream",
     "text": [
      "Loss after 10000 iter. : 0.3960\n",
      "Loss after 5000 iter. : 0.2431\n",
      "Loss after 10000 iter. : 0.2294\n",
      "Loss after 5000 iter. : 0.2872\n",
      "Loss after 10000 iter. : 0.2437\n",
      "Loss after 5000 iter. : 0.2429\n",
      "Loss after 10000 iter. : 0.2569\n",
      "Loss after 5000 iter. : 0.2790\n",
      "Loss after 10000 iter. : 0.2466\n",
      "Loss after 5000 iter. : 0.3014\n"
     ]
    },
    {
     "name": "stderr",
     "output_type": "stream",
     "text": [
      "\r",
      " 57%|█████▋    | 286/500 [33:57:16<27:07:10, 456.22s/it]"
     ]
    },
    {
     "name": "stdout",
     "output_type": "stream",
     "text": [
      "Loss after 10000 iter. : 0.3959\n",
      "Loss after 5000 iter. : 0.4607\n",
      "Loss after 10000 iter. : 0.4948\n",
      "Loss after 5000 iter. : 0.4362\n",
      "Loss after 10000 iter. : 0.4210\n",
      "Loss after 5000 iter. : 0.5011\n",
      "Loss after 10000 iter. : 0.4684\n",
      "Loss after 5000 iter. : 0.4323\n",
      "Loss after 10000 iter. : 0.3710\n",
      "Loss after 5000 iter. : 0.3830\n"
     ]
    },
    {
     "name": "stderr",
     "output_type": "stream",
     "text": [
      "\r",
      " 57%|█████▋    | 287/500 [34:11:32<34:04:40, 575.96s/it]"
     ]
    },
    {
     "name": "stdout",
     "output_type": "stream",
     "text": [
      "Loss after 10000 iter. : 0.3808\n",
      "Loss after 5000 iter. : 0.4502\n",
      "Loss after 10000 iter. : 0.5449\n",
      "Loss after 5000 iter. : 0.4933\n",
      "Loss after 10000 iter. : 0.3290\n",
      "Loss after 5000 iter. : 0.3233\n",
      "Loss after 10000 iter. : 0.4366\n",
      "Loss after 5000 iter. : 0.3093\n",
      "Loss after 10000 iter. : 0.4454\n",
      "Loss after 5000 iter. : 0.4337\n"
     ]
    },
    {
     "name": "stderr",
     "output_type": "stream",
     "text": [
      "\r",
      " 58%|█████▊    | 288/500 [34:14:43<27:07:52, 460.72s/it]"
     ]
    },
    {
     "name": "stdout",
     "output_type": "stream",
     "text": [
      "Loss after 10000 iter. : 0.5158\n",
      "Loss after 5000 iter. : 0.4454\n",
      "Loss after 10000 iter. : 0.4154\n",
      "Loss after 5000 iter. : 0.3683\n",
      "Loss after 10000 iter. : 0.4282\n",
      "Loss after 5000 iter. : 0.3598\n",
      "Loss after 10000 iter. : 0.3888\n",
      "Loss after 5000 iter. : 0.4057\n",
      "Loss after 10000 iter. : 0.4042\n",
      "Loss after 5000 iter. : 0.3791\n"
     ]
    },
    {
     "name": "stderr",
     "output_type": "stream",
     "text": [
      "\r",
      " 58%|█████▊    | 289/500 [34:24:15<28:57:05, 493.96s/it]"
     ]
    },
    {
     "name": "stdout",
     "output_type": "stream",
     "text": [
      "Loss after 10000 iter. : 0.4349\n",
      "Loss after 5000 iter. : 0.4175\n",
      "Loss after 10000 iter. : 0.3469\n",
      "Loss after 5000 iter. : 0.4115\n",
      "Loss after 10000 iter. : 0.2806\n",
      "Loss after 5000 iter. : 0.3266\n",
      "Loss after 10000 iter. : 0.3015\n",
      "Loss after 5000 iter. : 0.3210\n",
      "Loss after 10000 iter. : 0.4354\n",
      "Loss after 5000 iter. : 0.3890\n"
     ]
    },
    {
     "name": "stderr",
     "output_type": "stream",
     "text": [
      "\r",
      " 58%|█████▊    | 290/500 [34:34:23<30:48:25, 528.12s/it]"
     ]
    },
    {
     "name": "stdout",
     "output_type": "stream",
     "text": [
      "Loss after 10000 iter. : 0.3127\n",
      "Loss after 5000 iter. : 0.3997\n",
      "Loss after 10000 iter. : 0.5296\n",
      "Loss after 5000 iter. : 0.3797\n",
      "Loss after 10000 iter. : 0.5932\n",
      "Loss after 5000 iter. : 0.4273\n",
      "Loss after 10000 iter. : 0.2748\n",
      "Loss after 5000 iter. : 0.2841\n",
      "Loss after 10000 iter. : 0.2907\n",
      "Loss after 5000 iter. : 0.5004\n"
     ]
    },
    {
     "name": "stderr",
     "output_type": "stream",
     "text": [
      "\r",
      " 58%|█████▊    | 291/500 [34:37:57<25:11:29, 433.92s/it]"
     ]
    },
    {
     "name": "stdout",
     "output_type": "stream",
     "text": [
      "Loss after 10000 iter. : 0.4215\n",
      "Loss after 5000 iter. : 0.5676\n",
      "Loss after 10000 iter. : 0.4045\n",
      "Loss after 5000 iter. : 0.5215\n",
      "Loss after 10000 iter. : 0.3120\n",
      "Loss after 5000 iter. : 0.2809\n",
      "Loss after 10000 iter. : 0.4726\n",
      "Loss after 5000 iter. : 0.4489\n",
      "Loss after 10000 iter. : 0.4337\n",
      "Loss after 5000 iter. : 0.5598\n"
     ]
    },
    {
     "name": "stderr",
     "output_type": "stream",
     "text": [
      "\r",
      " 58%|█████▊    | 292/500 [34:46:00<25:55:35, 448.73s/it]"
     ]
    },
    {
     "name": "stdout",
     "output_type": "stream",
     "text": [
      "Loss after 10000 iter. : 0.4446\n",
      "Loss after 5000 iter. : 0.2885\n",
      "Loss after 10000 iter. : 0.3547\n",
      "Loss after 5000 iter. : 0.3595\n",
      "Loss after 10000 iter. : 0.3117\n",
      "Loss after 5000 iter. : 0.3486\n",
      "Loss after 10000 iter. : 0.2519\n",
      "Loss after 5000 iter. : 0.3420\n",
      "Loss after 10000 iter. : 0.3660\n",
      "Loss after 5000 iter. : 0.3360\n"
     ]
    },
    {
     "name": "stderr",
     "output_type": "stream",
     "text": [
      "\r",
      " 59%|█████▊    | 293/500 [34:52:25<24:42:13, 429.63s/it]"
     ]
    },
    {
     "name": "stdout",
     "output_type": "stream",
     "text": [
      "Loss after 10000 iter. : 0.4580\n",
      "Loss after 5000 iter. : 0.3839\n",
      "Loss after 10000 iter. : 0.4761\n",
      "Loss after 5000 iter. : 0.3744\n",
      "Loss after 10000 iter. : 0.3557\n",
      "Loss after 5000 iter. : 0.3613\n",
      "Loss after 10000 iter. : 0.3608\n",
      "Loss after 5000 iter. : 0.3870\n",
      "Loss after 10000 iter. : 0.3565\n",
      "Loss after 5000 iter. : 0.3899\n"
     ]
    },
    {
     "name": "stderr",
     "output_type": "stream",
     "text": [
      "\r",
      " 59%|█████▉    | 294/500 [34:58:45<23:43:59, 414.76s/it]"
     ]
    },
    {
     "name": "stdout",
     "output_type": "stream",
     "text": [
      "Loss after 10000 iter. : 0.4277\n",
      "Loss after 5000 iter. : 0.3917\n",
      "Loss after 10000 iter. : 0.4102\n",
      "Loss after 5000 iter. : 0.3836\n",
      "Loss after 10000 iter. : 0.4386\n",
      "Loss after 5000 iter. : 0.5892\n",
      "Loss after 10000 iter. : 0.4609\n",
      "Loss after 5000 iter. : 0.3977\n",
      "Loss after 10000 iter. : 0.4185\n",
      "Loss after 5000 iter. : 0.3730\n"
     ]
    },
    {
     "name": "stderr",
     "output_type": "stream",
     "text": [
      "\r",
      " 59%|█████▉    | 295/500 [35:02:23<20:15:06, 355.64s/it]"
     ]
    },
    {
     "name": "stdout",
     "output_type": "stream",
     "text": [
      "Loss after 10000 iter. : 0.4351\n",
      "Loss after 5000 iter. : 0.2260\n",
      "Loss after 10000 iter. : 0.2960\n",
      "Loss after 5000 iter. : 0.4132\n",
      "Loss after 10000 iter. : 0.4217\n",
      "Loss after 5000 iter. : 0.5534\n",
      "Loss after 10000 iter. : 0.3406\n",
      "Loss after 5000 iter. : 0.4166\n",
      "Loss after 10000 iter. : 0.1430\n",
      "Loss after 5000 iter. : 0.5735\n"
     ]
    },
    {
     "name": "stderr",
     "output_type": "stream",
     "text": [
      "\r",
      " 59%|█████▉    | 296/500 [35:05:42<17:29:28, 308.67s/it]"
     ]
    },
    {
     "name": "stdout",
     "output_type": "stream",
     "text": [
      "Loss after 10000 iter. : 0.2534\n",
      "Loss after 5000 iter. : 0.3529\n",
      "Loss after 10000 iter. : 0.3497\n",
      "Loss after 5000 iter. : 0.4050\n",
      "Loss after 10000 iter. : 0.3814\n",
      "Loss after 5000 iter. : 0.3293\n",
      "Loss after 10000 iter. : 0.3862\n",
      "Loss after 5000 iter. : 0.4177\n",
      "Loss after 10000 iter. : 0.4043\n",
      "Loss after 5000 iter. : 0.4740\n"
     ]
    },
    {
     "name": "stderr",
     "output_type": "stream",
     "text": [
      "\r",
      " 59%|█████▉    | 297/500 [35:12:30<19:05:30, 338.57s/it]"
     ]
    },
    {
     "name": "stdout",
     "output_type": "stream",
     "text": [
      "Loss after 10000 iter. : 0.3680\n",
      "Loss after 5000 iter. : 0.3702\n",
      "Loss after 10000 iter. : 0.3827\n",
      "Loss after 5000 iter. : 0.4221\n",
      "Loss after 10000 iter. : 0.3818\n",
      "Loss after 5000 iter. : 0.4627\n",
      "Loss after 10000 iter. : 0.3637\n",
      "Loss after 5000 iter. : 0.3382\n",
      "Loss after 10000 iter. : 0.3361\n",
      "Loss after 5000 iter. : 0.4661\n"
     ]
    },
    {
     "name": "stderr",
     "output_type": "stream",
     "text": [
      "\r",
      " 60%|█████▉    | 298/500 [35:21:06<21:59:09, 391.83s/it]"
     ]
    },
    {
     "name": "stdout",
     "output_type": "stream",
     "text": [
      "Loss after 10000 iter. : 0.4475\n",
      "Loss after 5000 iter. : 0.4786\n",
      "Loss after 10000 iter. : 0.4474\n",
      "Loss after 5000 iter. : 0.3519\n",
      "Loss after 10000 iter. : 0.4658\n",
      "Loss after 5000 iter. : 0.3830\n",
      "Loss after 10000 iter. : 0.3468\n",
      "Loss after 5000 iter. : 0.4628\n",
      "Loss after 10000 iter. : 0.4300\n",
      "Loss after 5000 iter. : 0.4180\n"
     ]
    },
    {
     "name": "stderr",
     "output_type": "stream",
     "text": [
      "\r",
      " 60%|█████▉    | 299/500 [35:31:53<26:08:37, 468.24s/it]"
     ]
    },
    {
     "name": "stdout",
     "output_type": "stream",
     "text": [
      "Loss after 10000 iter. : 0.3130\n",
      "Loss after 5000 iter. : 0.2921\n",
      "Loss after 10000 iter. : 0.4275\n",
      "Loss after 5000 iter. : 0.4001\n",
      "Loss after 10000 iter. : 0.3549\n",
      "Loss after 5000 iter. : 0.4059\n",
      "Loss after 10000 iter. : 0.3471\n",
      "Loss after 5000 iter. : 0.3583\n",
      "Loss after 10000 iter. : 0.5133\n",
      "Loss after 5000 iter. : 0.3499\n"
     ]
    },
    {
     "name": "stderr",
     "output_type": "stream",
     "text": [
      "\r",
      " 60%|██████    | 300/500 [35:38:51<25:10:20, 453.10s/it]"
     ]
    },
    {
     "name": "stdout",
     "output_type": "stream",
     "text": [
      "Loss after 10000 iter. : 0.4496\n",
      "Loss after 5000 iter. : 0.4251\n",
      "Loss after 10000 iter. : 0.3023\n",
      "Loss after 5000 iter. : 0.3449\n",
      "Loss after 10000 iter. : 0.3292\n",
      "Loss after 5000 iter. : 0.3456\n",
      "Loss after 10000 iter. : 0.3453\n",
      "Loss after 5000 iter. : 0.3761\n",
      "Loss after 10000 iter. : 0.3190\n",
      "Loss after 5000 iter. : 0.2520\n"
     ]
    },
    {
     "name": "stderr",
     "output_type": "stream",
     "text": [
      "\r",
      " 60%|██████    | 301/500 [35:43:52<22:31:27, 407.48s/it]"
     ]
    },
    {
     "name": "stdout",
     "output_type": "stream",
     "text": [
      "Loss after 10000 iter. : 0.4416\n",
      "Loss after 5000 iter. : 0.3674\n",
      "Loss after 10000 iter. : 0.4275\n",
      "Loss after 5000 iter. : 0.3352\n",
      "Loss after 10000 iter. : 0.3529\n",
      "Loss after 5000 iter. : 0.5388\n",
      "Loss after 10000 iter. : 0.3808\n",
      "Loss after 5000 iter. : 0.4430\n",
      "Loss after 10000 iter. : 0.4804\n",
      "Loss after 5000 iter. : 0.5256\n"
     ]
    },
    {
     "name": "stderr",
     "output_type": "stream",
     "text": [
      "\r",
      " 60%|██████    | 302/500 [35:52:19<24:03:20, 437.38s/it]"
     ]
    },
    {
     "name": "stdout",
     "output_type": "stream",
     "text": [
      "Loss after 10000 iter. : 0.4736\n",
      "Loss after 5000 iter. : 0.4182\n",
      "Loss after 10000 iter. : 0.3728\n",
      "Loss after 5000 iter. : 0.4847\n",
      "Loss after 10000 iter. : 0.3137\n",
      "Loss after 5000 iter. : 0.4208\n",
      "Loss after 10000 iter. : 0.4054\n",
      "Loss after 5000 iter. : 0.3841\n",
      "Loss after 10000 iter. : 0.3658\n",
      "Loss after 5000 iter. : 0.7012\n"
     ]
    },
    {
     "name": "stderr",
     "output_type": "stream",
     "text": [
      "\r",
      " 61%|██████    | 303/500 [35:59:52<24:11:24, 442.05s/it]"
     ]
    },
    {
     "name": "stdout",
     "output_type": "stream",
     "text": [
      "Loss after 10000 iter. : 0.5136\n",
      "Loss after 5000 iter. : 0.5769\n",
      "Loss after 10000 iter. : 0.5991\n",
      "Loss after 5000 iter. : 0.6187\n",
      "Loss after 10000 iter. : 0.3427\n",
      "Loss after 5000 iter. : 0.3258\n",
      "Loss after 10000 iter. : 0.2862\n",
      "Loss after 5000 iter. : 0.4234\n",
      "Loss after 10000 iter. : 0.3120\n",
      "Loss after 5000 iter. : 0.4598\n"
     ]
    },
    {
     "name": "stderr",
     "output_type": "stream",
     "text": [
      "\r",
      " 61%|██████    | 304/500 [36:03:29<20:23:31, 374.55s/it]"
     ]
    },
    {
     "name": "stdout",
     "output_type": "stream",
     "text": [
      "Loss after 10000 iter. : 0.4653\n",
      "Loss after 5000 iter. : 0.3532\n",
      "Loss after 10000 iter. : 0.4817\n",
      "Loss after 5000 iter. : 0.3711\n",
      "Loss after 10000 iter. : 0.4186\n",
      "Loss after 5000 iter. : 0.3987\n",
      "Loss after 10000 iter. : 0.4985\n",
      "Loss after 5000 iter. : 0.3225\n",
      "Loss after 10000 iter. : 0.2976\n",
      "Loss after 5000 iter. : 0.4335\n"
     ]
    },
    {
     "name": "stderr",
     "output_type": "stream",
     "text": [
      "\r",
      " 61%|██████    | 305/500 [36:10:15<20:47:49, 383.95s/it]"
     ]
    },
    {
     "name": "stdout",
     "output_type": "stream",
     "text": [
      "Loss after 10000 iter. : 0.4643\n",
      "Loss after 5000 iter. : 0.5803\n",
      "Loss after 10000 iter. : 0.5383\n",
      "Loss after 5000 iter. : 0.5183\n",
      "Loss after 10000 iter. : 0.3430\n",
      "Loss after 5000 iter. : 0.4170\n",
      "Loss after 10000 iter. : 0.4733\n",
      "Loss after 5000 iter. : 0.5304\n",
      "Loss after 10000 iter. : 0.4673\n",
      "Loss after 5000 iter. : 0.4970\n"
     ]
    },
    {
     "name": "stderr",
     "output_type": "stream",
     "text": [
      "\r",
      " 61%|██████    | 306/500 [36:16:19<20:21:55, 377.92s/it]"
     ]
    },
    {
     "name": "stdout",
     "output_type": "stream",
     "text": [
      "Loss after 10000 iter. : 0.4935\n",
      "Loss after 5000 iter. : 0.4278\n",
      "Loss after 10000 iter. : 0.5611\n",
      "Loss after 5000 iter. : 0.4067\n",
      "Loss after 10000 iter. : 0.4181\n",
      "Loss after 5000 iter. : 0.3395\n",
      "Loss after 10000 iter. : 0.4462\n",
      "Loss after 5000 iter. : 0.3800\n",
      "Loss after 10000 iter. : 0.4836\n",
      "Loss after 5000 iter. : 0.4685\n"
     ]
    },
    {
     "name": "stderr",
     "output_type": "stream",
     "text": [
      "\r",
      " 61%|██████▏   | 307/500 [36:23:24<21:01:16, 392.10s/it]"
     ]
    },
    {
     "name": "stdout",
     "output_type": "stream",
     "text": [
      "Loss after 10000 iter. : 0.4165\n",
      "Loss after 5000 iter. : 0.4872\n",
      "Loss after 10000 iter. : 0.4050\n",
      "Loss after 5000 iter. : 0.3753\n",
      "Loss after 10000 iter. : 0.5380\n",
      "Loss after 5000 iter. : 0.3804\n",
      "Loss after 10000 iter. : 0.4147\n",
      "Loss after 5000 iter. : 0.6913\n",
      "Loss after 10000 iter. : 0.3727\n",
      "Loss after 5000 iter. : 0.3517\n"
     ]
    },
    {
     "name": "stderr",
     "output_type": "stream",
     "text": [
      "\r",
      " 62%|██████▏   | 308/500 [36:28:46<19:47:58, 371.24s/it]"
     ]
    },
    {
     "name": "stdout",
     "output_type": "stream",
     "text": [
      "Loss after 10000 iter. : 0.5687\n",
      "Loss after 5000 iter. : 0.2868\n",
      "Loss after 10000 iter. : 0.4493\n",
      "Loss after 5000 iter. : 0.3667\n",
      "Loss after 10000 iter. : 0.4748\n",
      "Loss after 5000 iter. : 0.4640\n",
      "Loss after 10000 iter. : 0.4067\n",
      "Loss after 5000 iter. : 0.3539\n",
      "Loss after 10000 iter. : 0.4443\n",
      "Loss after 5000 iter. : 0.3852\n"
     ]
    },
    {
     "name": "stderr",
     "output_type": "stream",
     "text": [
      "\r",
      " 62%|██████▏   | 309/500 [36:34:19<19:04:57, 359.67s/it]"
     ]
    },
    {
     "name": "stdout",
     "output_type": "stream",
     "text": [
      "Loss after 10000 iter. : 0.3947\n",
      "Loss after 5000 iter. : 0.5385\n",
      "Loss after 10000 iter. : 0.3787\n",
      "Loss after 5000 iter. : 0.4360\n",
      "Loss after 10000 iter. : 0.3590\n",
      "Loss after 5000 iter. : 0.4994\n",
      "Loss after 10000 iter. : 0.3829\n",
      "Loss after 5000 iter. : 0.4244\n",
      "Loss after 10000 iter. : 0.3620\n",
      "Loss after 5000 iter. : 0.3264\n"
     ]
    },
    {
     "name": "stderr",
     "output_type": "stream",
     "text": [
      "\r",
      " 62%|██████▏   | 310/500 [36:44:44<23:11:01, 439.27s/it]"
     ]
    },
    {
     "name": "stdout",
     "output_type": "stream",
     "text": [
      "Loss after 10000 iter. : 0.2910\n",
      "Loss after 5000 iter. : 0.4732\n",
      "Loss after 10000 iter. : 0.3860\n",
      "Loss after 5000 iter. : 0.4760\n",
      "Loss after 10000 iter. : 0.3559\n",
      "Loss after 5000 iter. : 0.4140\n",
      "Loss after 10000 iter. : 0.4888\n",
      "Loss after 5000 iter. : 0.5066\n",
      "Loss after 10000 iter. : 0.4414\n",
      "Loss after 5000 iter. : 0.4510\n"
     ]
    },
    {
     "name": "stderr",
     "output_type": "stream",
     "text": [
      "\r",
      " 62%|██████▏   | 311/500 [36:49:41<20:49:04, 396.53s/it]"
     ]
    },
    {
     "name": "stdout",
     "output_type": "stream",
     "text": [
      "Loss after 10000 iter. : 0.4382\n",
      "Loss after 5000 iter. : 0.5122\n",
      "Loss after 10000 iter. : 0.3337\n",
      "Loss after 5000 iter. : 0.4780\n",
      "Loss after 10000 iter. : 0.4579\n",
      "Loss after 5000 iter. : 0.4450\n",
      "Loss after 10000 iter. : 0.4757\n",
      "Loss after 5000 iter. : 0.4362\n",
      "Loss after 10000 iter. : 0.6932\n",
      "Loss after 5000 iter. : 0.5249\n"
     ]
    },
    {
     "name": "stderr",
     "output_type": "stream",
     "text": [
      "\r",
      " 62%|██████▏   | 312/500 [36:54:12<18:44:09, 358.77s/it]"
     ]
    },
    {
     "name": "stdout",
     "output_type": "stream",
     "text": [
      "Loss after 10000 iter. : 0.5224\n",
      "Loss after 5000 iter. : 0.2809\n",
      "Loss after 10000 iter. : 0.2391\n",
      "Loss after 5000 iter. : 0.3233\n",
      "Loss after 10000 iter. : 0.4505\n",
      "Loss after 5000 iter. : 0.3408\n",
      "Loss after 10000 iter. : 0.3782\n",
      "Loss after 5000 iter. : 0.4093\n",
      "Loss after 10000 iter. : 0.3189\n",
      "Loss after 5000 iter. : 0.3558\n"
     ]
    },
    {
     "name": "stderr",
     "output_type": "stream",
     "text": [
      "\r",
      " 63%|██████▎   | 313/500 [37:02:15<20:34:20, 396.04s/it]"
     ]
    },
    {
     "name": "stdout",
     "output_type": "stream",
     "text": [
      "Loss after 10000 iter. : 0.3166\n",
      "Loss after 5000 iter. : 0.5880\n",
      "Loss after 10000 iter. : 0.4805\n",
      "Loss after 5000 iter. : 0.3837\n",
      "Loss after 10000 iter. : 0.2713\n",
      "Loss after 5000 iter. : 0.6068\n",
      "Loss after 10000 iter. : 0.5767\n",
      "Loss after 5000 iter. : 0.5099\n",
      "Loss after 10000 iter. : 0.3386\n",
      "Loss after 5000 iter. : 0.3521\n"
     ]
    },
    {
     "name": "stderr",
     "output_type": "stream",
     "text": [
      "\r",
      " 63%|██████▎   | 314/500 [37:07:04<18:48:33, 364.05s/it]"
     ]
    },
    {
     "name": "stdout",
     "output_type": "stream",
     "text": [
      "Loss after 10000 iter. : 0.4932\n",
      "Loss after 5000 iter. : 0.2566\n",
      "Loss after 10000 iter. : 0.5695\n",
      "Loss after 5000 iter. : 0.6335\n",
      "Loss after 10000 iter. : 0.4520\n",
      "Loss after 5000 iter. : 0.8135\n",
      "Loss after 10000 iter. : 0.4383\n",
      "Loss after 5000 iter. : 0.3384\n",
      "Loss after 10000 iter. : 0.4176\n",
      "Loss after 5000 iter. : 0.5651\n"
     ]
    },
    {
     "name": "stderr",
     "output_type": "stream",
     "text": [
      "\r",
      " 63%|██████▎   | 315/500 [37:13:42<19:14:19, 374.38s/it]"
     ]
    },
    {
     "name": "stdout",
     "output_type": "stream",
     "text": [
      "Loss after 10000 iter. : 0.3240\n",
      "Loss after 5000 iter. : 0.2956\n",
      "Loss after 10000 iter. : 0.4197\n",
      "Loss after 5000 iter. : 0.3159\n",
      "Loss after 10000 iter. : 0.5632\n",
      "Loss after 5000 iter. : 0.3792\n",
      "Loss after 10000 iter. : 0.2595\n",
      "Loss after 5000 iter. : 0.3788\n",
      "Loss after 10000 iter. : 0.4311\n"
     ]
    }
   ],
   "source": [
    "n_trials = 500\n",
    "nfolds = 5\n",
    "kfolds = 5\n",
    "target_col = 'label'\n",
    "\n",
    "param_dict = defaultdict(list)\n",
    "\n",
    "for i in tqdm(range(n_trials)):\n",
    "    best_alpha = 8.403863\n",
    "    best_noise_std = 0.000695\n",
    "    n_layers = np.random.randint(low=1, high=4)\n",
    "    n_hidden = np.random.randint(low=128, high=384, size=n_layers)\n",
    "    learning_rate = np.random.uniform(low=1e-5, high=9e-3)\n",
    "    weight_decay = np.random.uniform(low=5e-5, high=5e-2)\n",
    "    batch_size = np.random.randint(low=16, high=128)\n",
    "    fc_config = dict(learning_rate=learning_rate,\n",
    "                     n_hidden=n_hidden,\n",
    "                     weight_decay=weight_decay,\n",
    "                     n_input=(Xy_train.shape[1] - 1) + len(binned_columns),\n",
    "                     n_output=2,\n",
    "                     n_iters=10001,\n",
    "                     batch_size=batch_size,\n",
    "                     seed=seed\n",
    "                     )\n",
    "    fc_model = FCModel(fc_config)\n",
    "    val_res = HypeNKFoldCV(Xy_train,\n",
    "                           binned_columns,\n",
    "                           target_col,\n",
    "                           fc_model,\n",
    "                           nfolds,\n",
    "                           kfolds,\n",
    "                           best_alpha,\n",
    "                           best_noise_std,\n",
    "                           scorer=f1_score\n",
    "                          )\n",
    "    param_dict['n_layers'].append(n_layers)\n",
    "    param_dict['n_hidden'].append(n_hidden)\n",
    "    param_dict['weight_decay'].append(weight_decay)\n",
    "    param_dict['batch_size'].append(batch_size)\n",
    "    param_dict['val_res'].append(val_res)\n",
    "    param_dict['learning_rate'].append(learning_rate)"
   ]
  },
  {
   "cell_type": "code",
   "execution_count": 67,
   "metadata": {
    "collapsed": true
   },
   "outputs": [],
   "source": [
    "param_df = pd.DataFrame(param_dict)"
   ]
  },
  {
   "cell_type": "code",
   "execution_count": 68,
   "metadata": {
    "collapsed": true
   },
   "outputs": [],
   "source": [
    "param_df['cv_score'] = param_df['val_res'].apply(np.mean)\n",
    "param_df['cv_std'] = param_df['val_res'].apply(np.std)"
   ]
  },
  {
   "cell_type": "code",
   "execution_count": 69,
   "metadata": {},
   "outputs": [
    {
     "data": {
      "text/html": [
       "<div>\n",
       "<style>\n",
       "    .dataframe thead tr:only-child th {\n",
       "        text-align: right;\n",
       "    }\n",
       "\n",
       "    .dataframe thead th {\n",
       "        text-align: left;\n",
       "    }\n",
       "\n",
       "    .dataframe tbody tr th {\n",
       "        vertical-align: top;\n",
       "    }\n",
       "</style>\n",
       "<table border=\"1\" class=\"dataframe\">\n",
       "  <thead>\n",
       "    <tr style=\"text-align: right;\">\n",
       "      <th></th>\n",
       "      <th>batch_size</th>\n",
       "      <th>learning_rate</th>\n",
       "      <th>n_hidden</th>\n",
       "      <th>n_layers</th>\n",
       "      <th>weight_decay</th>\n",
       "      <th>cv_score</th>\n",
       "      <th>cv_std</th>\n",
       "    </tr>\n",
       "  </thead>\n",
       "  <tbody>\n",
       "    <tr>\n",
       "      <th>8</th>\n",
       "      <td>84</td>\n",
       "      <td>0.001517</td>\n",
       "      <td>[273, 148, 382]</td>\n",
       "      <td>3</td>\n",
       "      <td>0.042625</td>\n",
       "      <td>0.831808</td>\n",
       "      <td>0.007852</td>\n",
       "    </tr>\n",
       "    <tr>\n",
       "      <th>13</th>\n",
       "      <td>112</td>\n",
       "      <td>0.001169</td>\n",
       "      <td>[333]</td>\n",
       "      <td>1</td>\n",
       "      <td>0.034188</td>\n",
       "      <td>0.830342</td>\n",
       "      <td>0.007484</td>\n",
       "    </tr>\n",
       "    <tr>\n",
       "      <th>19</th>\n",
       "      <td>81</td>\n",
       "      <td>0.001873</td>\n",
       "      <td>[369, 181, 274]</td>\n",
       "      <td>3</td>\n",
       "      <td>0.020090</td>\n",
       "      <td>0.827637</td>\n",
       "      <td>0.011987</td>\n",
       "    </tr>\n",
       "    <tr>\n",
       "      <th>27</th>\n",
       "      <td>127</td>\n",
       "      <td>0.006629</td>\n",
       "      <td>[368]</td>\n",
       "      <td>1</td>\n",
       "      <td>0.019845</td>\n",
       "      <td>0.827068</td>\n",
       "      <td>0.008194</td>\n",
       "    </tr>\n",
       "    <tr>\n",
       "      <th>25</th>\n",
       "      <td>65</td>\n",
       "      <td>0.005256</td>\n",
       "      <td>[146, 303, 128]</td>\n",
       "      <td>3</td>\n",
       "      <td>0.028304</td>\n",
       "      <td>0.824617</td>\n",
       "      <td>0.006128</td>\n",
       "    </tr>\n",
       "    <tr>\n",
       "      <th>5</th>\n",
       "      <td>43</td>\n",
       "      <td>0.004135</td>\n",
       "      <td>[177, 343]</td>\n",
       "      <td>2</td>\n",
       "      <td>0.004066</td>\n",
       "      <td>0.824389</td>\n",
       "      <td>0.023083</td>\n",
       "    </tr>\n",
       "    <tr>\n",
       "      <th>2</th>\n",
       "      <td>30</td>\n",
       "      <td>0.004474</td>\n",
       "      <td>[224]</td>\n",
       "      <td>1</td>\n",
       "      <td>0.041527</td>\n",
       "      <td>0.821143</td>\n",
       "      <td>0.006008</td>\n",
       "    </tr>\n",
       "    <tr>\n",
       "      <th>10</th>\n",
       "      <td>26</td>\n",
       "      <td>0.001145</td>\n",
       "      <td>[206, 269, 331]</td>\n",
       "      <td>3</td>\n",
       "      <td>0.022063</td>\n",
       "      <td>0.820042</td>\n",
       "      <td>0.022659</td>\n",
       "    </tr>\n",
       "    <tr>\n",
       "      <th>23</th>\n",
       "      <td>85</td>\n",
       "      <td>0.001331</td>\n",
       "      <td>[249, 318]</td>\n",
       "      <td>2</td>\n",
       "      <td>0.035414</td>\n",
       "      <td>0.818110</td>\n",
       "      <td>0.026213</td>\n",
       "    </tr>\n",
       "    <tr>\n",
       "      <th>12</th>\n",
       "      <td>70</td>\n",
       "      <td>0.006137</td>\n",
       "      <td>[345, 353]</td>\n",
       "      <td>2</td>\n",
       "      <td>0.007444</td>\n",
       "      <td>0.817248</td>\n",
       "      <td>0.017240</td>\n",
       "    </tr>\n",
       "    <tr>\n",
       "      <th>0</th>\n",
       "      <td>62</td>\n",
       "      <td>0.002930</td>\n",
       "      <td>[227, 182]</td>\n",
       "      <td>2</td>\n",
       "      <td>0.024497</td>\n",
       "      <td>0.816929</td>\n",
       "      <td>0.017070</td>\n",
       "    </tr>\n",
       "    <tr>\n",
       "      <th>22</th>\n",
       "      <td>63</td>\n",
       "      <td>0.000348</td>\n",
       "      <td>[353, 312]</td>\n",
       "      <td>2</td>\n",
       "      <td>0.011598</td>\n",
       "      <td>0.816031</td>\n",
       "      <td>0.015506</td>\n",
       "    </tr>\n",
       "    <tr>\n",
       "      <th>7</th>\n",
       "      <td>118</td>\n",
       "      <td>0.002930</td>\n",
       "      <td>[303]</td>\n",
       "      <td>1</td>\n",
       "      <td>0.029652</td>\n",
       "      <td>0.815339</td>\n",
       "      <td>0.012746</td>\n",
       "    </tr>\n",
       "    <tr>\n",
       "      <th>17</th>\n",
       "      <td>41</td>\n",
       "      <td>0.000285</td>\n",
       "      <td>[378]</td>\n",
       "      <td>1</td>\n",
       "      <td>0.017231</td>\n",
       "      <td>0.814060</td>\n",
       "      <td>0.017383</td>\n",
       "    </tr>\n",
       "    <tr>\n",
       "      <th>21</th>\n",
       "      <td>54</td>\n",
       "      <td>0.006604</td>\n",
       "      <td>[151]</td>\n",
       "      <td>1</td>\n",
       "      <td>0.016351</td>\n",
       "      <td>0.812929</td>\n",
       "      <td>0.014587</td>\n",
       "    </tr>\n",
       "    <tr>\n",
       "      <th>24</th>\n",
       "      <td>47</td>\n",
       "      <td>0.001529</td>\n",
       "      <td>[238]</td>\n",
       "      <td>1</td>\n",
       "      <td>0.003971</td>\n",
       "      <td>0.812268</td>\n",
       "      <td>0.020402</td>\n",
       "    </tr>\n",
       "    <tr>\n",
       "      <th>18</th>\n",
       "      <td>39</td>\n",
       "      <td>0.005945</td>\n",
       "      <td>[210]</td>\n",
       "      <td>1</td>\n",
       "      <td>0.037150</td>\n",
       "      <td>0.810533</td>\n",
       "      <td>0.018780</td>\n",
       "    </tr>\n",
       "    <tr>\n",
       "      <th>11</th>\n",
       "      <td>114</td>\n",
       "      <td>0.003255</td>\n",
       "      <td>[317, 274, 188]</td>\n",
       "      <td>3</td>\n",
       "      <td>0.026694</td>\n",
       "      <td>0.808773</td>\n",
       "      <td>0.016499</td>\n",
       "    </tr>\n",
       "    <tr>\n",
       "      <th>6</th>\n",
       "      <td>65</td>\n",
       "      <td>0.003598</td>\n",
       "      <td>[239, 164]</td>\n",
       "      <td>2</td>\n",
       "      <td>0.000222</td>\n",
       "      <td>0.807035</td>\n",
       "      <td>0.026136</td>\n",
       "    </tr>\n",
       "    <tr>\n",
       "      <th>15</th>\n",
       "      <td>123</td>\n",
       "      <td>0.006937</td>\n",
       "      <td>[362]</td>\n",
       "      <td>1</td>\n",
       "      <td>0.006488</td>\n",
       "      <td>0.800563</td>\n",
       "      <td>0.035611</td>\n",
       "    </tr>\n",
       "    <tr>\n",
       "      <th>16</th>\n",
       "      <td>59</td>\n",
       "      <td>0.005735</td>\n",
       "      <td>[203, 328, 374]</td>\n",
       "      <td>3</td>\n",
       "      <td>0.048652</td>\n",
       "      <td>0.799262</td>\n",
       "      <td>0.034279</td>\n",
       "    </tr>\n",
       "    <tr>\n",
       "      <th>9</th>\n",
       "      <td>23</td>\n",
       "      <td>0.004136</td>\n",
       "      <td>[277, 258, 198]</td>\n",
       "      <td>3</td>\n",
       "      <td>0.028899</td>\n",
       "      <td>0.798573</td>\n",
       "      <td>0.026305</td>\n",
       "    </tr>\n",
       "    <tr>\n",
       "      <th>26</th>\n",
       "      <td>127</td>\n",
       "      <td>0.006527</td>\n",
       "      <td>[145, 202, 290]</td>\n",
       "      <td>3</td>\n",
       "      <td>0.008481</td>\n",
       "      <td>0.792733</td>\n",
       "      <td>0.045070</td>\n",
       "    </tr>\n",
       "    <tr>\n",
       "      <th>20</th>\n",
       "      <td>100</td>\n",
       "      <td>0.005950</td>\n",
       "      <td>[249, 139, 312]</td>\n",
       "      <td>3</td>\n",
       "      <td>0.042483</td>\n",
       "      <td>0.789938</td>\n",
       "      <td>0.049940</td>\n",
       "    </tr>\n",
       "    <tr>\n",
       "      <th>14</th>\n",
       "      <td>104</td>\n",
       "      <td>0.006655</td>\n",
       "      <td>[359, 257]</td>\n",
       "      <td>2</td>\n",
       "      <td>0.030471</td>\n",
       "      <td>0.783619</td>\n",
       "      <td>0.051963</td>\n",
       "    </tr>\n",
       "    <tr>\n",
       "      <th>3</th>\n",
       "      <td>16</td>\n",
       "      <td>0.001830</td>\n",
       "      <td>[295, 293]</td>\n",
       "      <td>2</td>\n",
       "      <td>0.022335</td>\n",
       "      <td>0.774870</td>\n",
       "      <td>0.093893</td>\n",
       "    </tr>\n",
       "    <tr>\n",
       "      <th>1</th>\n",
       "      <td>71</td>\n",
       "      <td>0.005493</td>\n",
       "      <td>[367, 208, 336]</td>\n",
       "      <td>3</td>\n",
       "      <td>0.035753</td>\n",
       "      <td>0.740697</td>\n",
       "      <td>0.172950</td>\n",
       "    </tr>\n",
       "    <tr>\n",
       "      <th>28</th>\n",
       "      <td>86</td>\n",
       "      <td>0.005363</td>\n",
       "      <td>[251]</td>\n",
       "      <td>1</td>\n",
       "      <td>0.035893</td>\n",
       "      <td>0.689222</td>\n",
       "      <td>0.246186</td>\n",
       "    </tr>\n",
       "    <tr>\n",
       "      <th>4</th>\n",
       "      <td>31</td>\n",
       "      <td>0.003722</td>\n",
       "      <td>[212]</td>\n",
       "      <td>1</td>\n",
       "      <td>0.000637</td>\n",
       "      <td>0.668712</td>\n",
       "      <td>0.318666</td>\n",
       "    </tr>\n",
       "    <tr>\n",
       "      <th>29</th>\n",
       "      <td>23</td>\n",
       "      <td>0.006121</td>\n",
       "      <td>[156]</td>\n",
       "      <td>1</td>\n",
       "      <td>0.008176</td>\n",
       "      <td>0.587512</td>\n",
       "      <td>0.264318</td>\n",
       "    </tr>\n",
       "  </tbody>\n",
       "</table>\n",
       "</div>"
      ],
      "text/plain": [
       "    batch_size  learning_rate         n_hidden  n_layers  weight_decay  \\\n",
       "8           84       0.001517  [273, 148, 382]         3      0.042625   \n",
       "13         112       0.001169            [333]         1      0.034188   \n",
       "19          81       0.001873  [369, 181, 274]         3      0.020090   \n",
       "27         127       0.006629            [368]         1      0.019845   \n",
       "25          65       0.005256  [146, 303, 128]         3      0.028304   \n",
       "5           43       0.004135       [177, 343]         2      0.004066   \n",
       "2           30       0.004474            [224]         1      0.041527   \n",
       "10          26       0.001145  [206, 269, 331]         3      0.022063   \n",
       "23          85       0.001331       [249, 318]         2      0.035414   \n",
       "12          70       0.006137       [345, 353]         2      0.007444   \n",
       "0           62       0.002930       [227, 182]         2      0.024497   \n",
       "22          63       0.000348       [353, 312]         2      0.011598   \n",
       "7          118       0.002930            [303]         1      0.029652   \n",
       "17          41       0.000285            [378]         1      0.017231   \n",
       "21          54       0.006604            [151]         1      0.016351   \n",
       "24          47       0.001529            [238]         1      0.003971   \n",
       "18          39       0.005945            [210]         1      0.037150   \n",
       "11         114       0.003255  [317, 274, 188]         3      0.026694   \n",
       "6           65       0.003598       [239, 164]         2      0.000222   \n",
       "15         123       0.006937            [362]         1      0.006488   \n",
       "16          59       0.005735  [203, 328, 374]         3      0.048652   \n",
       "9           23       0.004136  [277, 258, 198]         3      0.028899   \n",
       "26         127       0.006527  [145, 202, 290]         3      0.008481   \n",
       "20         100       0.005950  [249, 139, 312]         3      0.042483   \n",
       "14         104       0.006655       [359, 257]         2      0.030471   \n",
       "3           16       0.001830       [295, 293]         2      0.022335   \n",
       "1           71       0.005493  [367, 208, 336]         3      0.035753   \n",
       "28          86       0.005363            [251]         1      0.035893   \n",
       "4           31       0.003722            [212]         1      0.000637   \n",
       "29          23       0.006121            [156]         1      0.008176   \n",
       "\n",
       "    cv_score    cv_std  \n",
       "8   0.831808  0.007852  \n",
       "13  0.830342  0.007484  \n",
       "19  0.827637  0.011987  \n",
       "27  0.827068  0.008194  \n",
       "25  0.824617  0.006128  \n",
       "5   0.824389  0.023083  \n",
       "2   0.821143  0.006008  \n",
       "10  0.820042  0.022659  \n",
       "23  0.818110  0.026213  \n",
       "12  0.817248  0.017240  \n",
       "0   0.816929  0.017070  \n",
       "22  0.816031  0.015506  \n",
       "7   0.815339  0.012746  \n",
       "17  0.814060  0.017383  \n",
       "21  0.812929  0.014587  \n",
       "24  0.812268  0.020402  \n",
       "18  0.810533  0.018780  \n",
       "11  0.808773  0.016499  \n",
       "6   0.807035  0.026136  \n",
       "15  0.800563  0.035611  \n",
       "16  0.799262  0.034279  \n",
       "9   0.798573  0.026305  \n",
       "26  0.792733  0.045070  \n",
       "20  0.789938  0.049940  \n",
       "14  0.783619  0.051963  \n",
       "3   0.774870  0.093893  \n",
       "1   0.740697  0.172950  \n",
       "28  0.689222  0.246186  \n",
       "4   0.668712  0.318666  \n",
       "29  0.587512  0.264318  "
      ]
     },
     "execution_count": 69,
     "metadata": {},
     "output_type": "execute_result"
    }
   ],
   "source": [
    "param_df.drop('val_res', axis=1).sort_values('cv_score', ascending=False)"
   ]
  },
  {
   "cell_type": "code",
   "execution_count": 61,
   "metadata": {},
   "outputs": [
    {
     "data": {
      "text/plain": [
       "batch_size                                                      60\n",
       "learning_rate                                          0.000227394\n",
       "n_hidden                                                     [245]\n",
       "n_layers                                                         1\n",
       "val_res          [0.81682914315, 0.827728918779, 0.817898022893...\n",
       "weight_decay                                             0.0255255\n",
       "cv_score                                                  0.822041\n",
       "cv_std                                                  0.00878339\n",
       "Name: 4, dtype: object"
      ]
     },
     "execution_count": 61,
     "metadata": {},
     "output_type": "execute_result"
    }
   ],
   "source": [
    "param_df.loc[4]"
   ]
  },
  {
   "cell_type": "code",
   "execution_count": 70,
   "metadata": {},
   "outputs": [
    {
     "data": {
      "text/plain": [
       "batch_size                                                      84\n",
       "learning_rate                                           0.00151718\n",
       "n_hidden                                           [273, 148, 382]\n",
       "n_layers                                                         3\n",
       "val_res          [0.839743589744, 0.837929366231, 0.82133333333...\n",
       "weight_decay                                             0.0426252\n",
       "cv_score                                                  0.831808\n",
       "cv_std                                                  0.00785246\n",
       "Name: 8, dtype: object"
      ]
     },
     "execution_count": 70,
     "metadata": {},
     "output_type": "execute_result"
    }
   ],
   "source": [
    "param_df.loc[8]"
   ]
  },
  {
   "cell_type": "code",
   "execution_count": 113,
   "metadata": {},
   "outputs": [
    {
     "data": {
      "text/plain": [
       "[<matplotlib.lines.Line2D at 0x7f27aafe9d10>]"
      ]
     },
     "execution_count": 113,
     "metadata": {},
     "output_type": "execute_result"
    },
    {
     "data": {
      "image/png": "[encoded data removed]",
      "text/plain": [
       "<matplotlib.figure.Figure at 0x7f27aa6f9c10>"
      ]
     },
     "metadata": {},
     "output_type": "display_data"
    }
   ],
   "source": [
    "plt.plot(param_df['cv_score'], param_df['alpha'], '.')"
   ]
  },
  {
   "cell_type": "code",
   "execution_count": 118,
   "metadata": {},
   "outputs": [
    {
     "data": {
      "image/png": "[encoded data removed]",
      "text/plain": [
       "<matplotlib.figure.Figure at 0x7f27ab3314d0>"
      ]
     },
     "metadata": {},
     "output_type": "display_data"
    }
   ],
   "source": [
    "importances = c_model.xgb.booster().get_fscore()\n",
    "f_names, f_values = zip(*sorted(importances.items(), key=lambda x: x[1]))\n",
    "\n",
    "st_idx = len(f_names) / 2; end_idx = len(f_names) / 1;\n",
    "\n",
    "fig = plt.figure(figsize=(16, 16))\n",
    "plt.barh(np.arange(len(f_names[st_idx : end_idx])), f_values[st_idx : end_idx],\n",
    "         color=[cm.RdYlGn(i * 3) for i in range(len(f_names[st_idx : end_idx]))])\n",
    "fig.axes[0].set_yticklabels(f_names[st_idx : end_idx])\n",
    "fig.axes[0].set_yticks(np.arange(len(f_names[st_idx : end_idx])) + 0.1)\n",
    "fig.axes[0].set_xlabel('Importance Values')\n",
    "fig.axes[0].set_ylabel('Features')\n",
    "fig.axes[0].set_label('Feature Importances')\n",
    "for i, v in enumerate(f_values[st_idx : end_idx]):\n",
    "    fig.axes[0].text(v + .02, i - 0.1, v)\n",
    "plt.show()"
   ]
  },
  {
   "cell_type": "code",
   "execution_count": 50,
   "metadata": {
    "collapsed": true
   },
   "outputs": [],
   "source": [
    "best_alpha = 8.403863\n",
    "best_noise_std = 0.000695"
   ]
  },
  {
   "cell_type": "code",
   "execution_count": 56,
   "metadata": {
    "collapsed": true
   },
   "outputs": [],
   "source": [
    "## encode all Xy_train\n",
    "## all indices\n",
    "all_idx = Xy_train.index.copy().values\n",
    "np.random.shuffle(all_idx)\n",
    "## outer splits indices\n",
    "outer_splits = np.array_split(all_idx, nfolds)\n",
    "for c_col in binned_columns:\n",
    "    n_col_name = '_'.join([c_col, target_col])\n",
    "    Xy_train[n_col_name] = KFoldTargetEncoding(Xy_train[[c_col, target_col]],\n",
    "                                               outer_splits,\n",
    "                                               c_col,\n",
    "                                               target_col,\n",
    "                                               n_col_name,\n",
    "                                               best_alpha,\n",
    "                                               best_noise_std)\n",
    "    Xy_test[n_col_name] = targetEncoding(Xy_train[[c_col, target_col]],\n",
    "                                         Xy_test[[c_col]],\n",
    "                                         c_col,\n",
    "                                         target_col,\n",
    "                                         best_alpha,\n",
    "                                         best_noise_std)"
   ]
  },
  {
   "cell_type": "code",
   "execution_count": 59,
   "metadata": {
    "collapsed": true
   },
   "outputs": [],
   "source": [
    "c_config = dict(max_depth=5, learning_rate=.075, n_estimators=140, seed=seed,\n",
    "                                 reg_lambda=950, scale_pos_weight=1.15, nthread=4, missing=np.nan,\n",
    "                                 reg_alpha=500, subsample=0.7)"
   ]
  },
  {
   "cell_type": "code",
   "execution_count": 74,
   "metadata": {
    "collapsed": true
   },
   "outputs": [],
   "source": [
    "drop_cols_binned = ['label'] + filter(lambda x: re.match(u'.*_BINNED$', x), Xy_train.columns)\n",
    "drop_cols_binned_target = ['label'] + filter(lambda x: re.match(u'.*_BINNED', x), Xy_train.columns)\n",
    "drop_cols_y = ['label']\n",
    "keep_target = filter(lambda x: re.match(u'.*_label', x), Xy_train.columns)"
   ]
  },
  {
   "cell_type": "code",
   "execution_count": 85,
   "metadata": {
    "collapsed": true
   },
   "outputs": [],
   "source": [
    "train_preds = []\n",
    "test_preds = []\n",
    "\n",
    "## no binned, no target\n",
    "c_model_orig = XGBoostModel(c_config)\n",
    "c_model_orig.train(Xy_train.drop(drop_cols_binned_target, axis=1), Xy_train.label)\n",
    "train_preds.append(c_model_orig.test(Xy_train.drop(drop_cols_binned_target, axis=1)))\n",
    "test_preds.append(c_model_orig.test(Xy_test.drop(drop_cols_binned_target, axis=1)))\n",
    "\n",
    "## no binned\n",
    "c_model_no_binned = XGBoostModel(c_config)\n",
    "c_model_no_binned.train(Xy_train.drop(drop_cols_binned, axis=1), Xy_train.label)\n",
    "train_preds.append(c_model_no_binned.test(Xy_train.drop(drop_cols_binned, axis=1)))\n",
    "test_preds.append(c_model_no_binned.test(Xy_test.drop(drop_cols_binned, axis=1)))\n",
    "\n",
    "## just target\n",
    "c_model_target = XGBoostModel(c_config)\n",
    "c_model_target.train(Xy_train[keep_target], Xy_train.label)\n",
    "train_preds.append(c_model_target.test(Xy_train[keep_target]))\n",
    "test_preds.append(c_model_target.test(Xy_test[keep_target]))\n",
    "\n",
    "## all\n",
    "c_model_all = XGBoostModel(c_config)\n",
    "c_model_all.train(Xy_train.drop(drop_cols_y, axis=1), Xy_train.label)\n",
    "train_preds.append(c_model_all.test(Xy_train.drop(drop_cols_y, axis=1)))\n",
    "test_preds.append(c_model_all.test(Xy_test.drop(drop_cols_y, axis=1)))"
   ]
  },
  {
   "cell_type": "code",
   "execution_count": 86,
   "metadata": {
    "collapsed": true
   },
   "outputs": [],
   "source": [
    "evaluate(test_preds, Xy_test.label, \n",
    "         './BB', file_prefix='test_ens_enc', model_names=['orig', 'no_binned', 'target', 'all'])\n",
    "evaluate(train_preds, Xy_train.label, \n",
    "         './BB', file_prefix='train_ens_enc', model_names=['orig', 'no_binned', 'target', 'all'])"
   ]
  },
  {
   "cell_type": "code",
   "execution_count": null,
   "metadata": {
    "collapsed": true
   },
   "outputs": [],
   "source": []
  },
  {
   "cell_type": "code",
   "execution_count": null,
   "metadata": {
    "collapsed": true
   },
   "outputs": [],
   "source": []
  },
  {
   "cell_type": "code",
   "execution_count": null,
   "metadata": {
    "collapsed": true
   },
   "outputs": [],
   "source": []
  },
  {
   "cell_type": "code",
   "execution_count": null,
   "metadata": {
    "collapsed": true
   },
   "outputs": [],
   "source": []
  },
  {
   "cell_type": "code",
   "execution_count": null,
   "metadata": {
    "collapsed": true
   },
   "outputs": [],
   "source": []
  }
 ],
 "metadata": {
  "kernelspec": {
   "display_name": "Python 2",
   "language": "python",
   "name": "python2"
  },
  "language_info": {
   "codemirror_mode": {
    "name": "ipython",
    "version": 2
   },
   "file_extension": ".py",
   "mimetype": "text/x-python",
   "name": "python",
   "nbconvert_exporter": "python",
   "pygments_lexer": "ipython2",
   "version": "2.7.6"
  }
 },
 "nbformat": 4,
 "nbformat_minor": 2
}
