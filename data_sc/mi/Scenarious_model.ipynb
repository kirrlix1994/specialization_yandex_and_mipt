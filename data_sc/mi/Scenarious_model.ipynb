{
 "cells": [
  {
   "cell_type": "markdown",
   "metadata": {},
   "source": [
    "Задача: Для каждого клиента из тестового множества предсказать вероятность, что он примет кокретнвый сценарий"
   ]
  },
  {
   "cell_type": "code",
   "execution_count": 97,
   "metadata": {
    "scrolled": true
   },
   "outputs": [],
   "source": [
    "import pandas as pd\n",
    "import numpy as np\n",
    "import matplotlib.pyplot as plt\n",
    "\n",
    "from sklearn import metrics, cross_validation\n",
    "from sklearn.preprocessing import StandardScaler\n",
    "from sklearn.model_selection import train_test_split, GridSearchCV\n",
    "from sklearn.pipeline import Pipeline\n",
    "from sklearn.linear_model import LogisticRegression\n",
    "from utils import Dummyfier, prepare, evaluate_clf, uplift, print_metrics #print_metrics_2\n",
    "\n",
    "%matplotlib inline"
   ]
  },
  {
   "cell_type": "code",
   "execution_count": 3,
   "metadata": {},
   "outputs": [
    {
     "name": "stdout",
     "output_type": "stream",
     "text": [
      "Dataset size:  (114720, 215)\n"
     ]
    },
    {
     "data": {
      "text/html": [
       "<div>\n",
       "<style scoped>\n",
       "    .dataframe tbody tr th:only-of-type {\n",
       "        vertical-align: middle;\n",
       "    }\n",
       "\n",
       "    .dataframe tbody tr th {\n",
       "        vertical-align: top;\n",
       "    }\n",
       "\n",
       "    .dataframe thead th {\n",
       "        text-align: right;\n",
       "    }\n",
       "</style>\n",
       "<table border=\"1\" class=\"dataframe\">\n",
       "  <thead>\n",
       "    <tr style=\"text-align: right;\">\n",
       "      <th></th>\n",
       "      <th>CONTRACT_REF</th>\n",
       "      <th>CLIENT_ID</th>\n",
       "      <th>CONTROL_GROUP_FLG</th>\n",
       "      <th>START_DATE</th>\n",
       "      <th>TARGET</th>\n",
       "      <th>11_AddrCity2</th>\n",
       "      <th>11_AddrCountry</th>\n",
       "      <th>12_AddrCity2</th>\n",
       "      <th>12_AddrCountry</th>\n",
       "      <th>13_AddrCity2</th>\n",
       "      <th>...</th>\n",
       "      <th>TXN_TP_POS_N_180</th>\n",
       "      <th>TXN_TP_POS_N_31</th>\n",
       "      <th>TXN_TP_POS_N_90</th>\n",
       "      <th>TXN_TP_POS_SUM_180</th>\n",
       "      <th>TXN_TP_POS_SUM_31</th>\n",
       "      <th>TXN_TP_POS_SUM_90</th>\n",
       "      <th>TXN_TP_Purposeful credit_MAX_180</th>\n",
       "      <th>TXN_TP_Purposeful credit_MEAN_180</th>\n",
       "      <th>TXN_TP_Purposeful credit_N_180</th>\n",
       "      <th>TXN_TP_Purposeful credit_SUM_180</th>\n",
       "    </tr>\n",
       "  </thead>\n",
       "  <tbody>\n",
       "    <tr>\n",
       "      <th>0</th>\n",
       "      <td>273-P-99431598</td>\n",
       "      <td>105098373</td>\n",
       "      <td>N</td>\n",
       "      <td>2017-01-23</td>\n",
       "      <td>1</td>\n",
       "      <td>ГОРЯЧИЙКЛЮЧ</td>\n",
       "      <td>RU</td>\n",
       "      <td>ГОРЯЧИЙКЛЮЧ</td>\n",
       "      <td>RU</td>\n",
       "      <td>КАМЫШИН</td>\n",
       "      <td>...</td>\n",
       "      <td>0.0</td>\n",
       "      <td>0.0</td>\n",
       "      <td>0.0</td>\n",
       "      <td>0.0</td>\n",
       "      <td>0.0</td>\n",
       "      <td>0.0</td>\n",
       "      <td>0.0</td>\n",
       "      <td>0.0</td>\n",
       "      <td>0.0</td>\n",
       "      <td>0.0</td>\n",
       "    </tr>\n",
       "    <tr>\n",
       "      <th>1</th>\n",
       "      <td>274-P-23967129</td>\n",
       "      <td>101763714</td>\n",
       "      <td>N</td>\n",
       "      <td>2017-04-08</td>\n",
       "      <td>1</td>\n",
       "      <td>МУРМАНСК</td>\n",
       "      <td>RU</td>\n",
       "      <td>МУРМАНСК</td>\n",
       "      <td>RU</td>\n",
       "      <td>АХТУБИНСК</td>\n",
       "      <td>...</td>\n",
       "      <td>0.0</td>\n",
       "      <td>0.0</td>\n",
       "      <td>0.0</td>\n",
       "      <td>0.0</td>\n",
       "      <td>0.0</td>\n",
       "      <td>0.0</td>\n",
       "      <td>0.0</td>\n",
       "      <td>0.0</td>\n",
       "      <td>0.0</td>\n",
       "      <td>0.0</td>\n",
       "    </tr>\n",
       "  </tbody>\n",
       "</table>\n",
       "<p>2 rows × 215 columns</p>\n",
       "</div>"
      ],
      "text/plain": [
       "     CONTRACT_REF  CLIENT_ID CONTROL_GROUP_FLG START_DATE  TARGET  \\\n",
       "0  273-P-99431598  105098373                 N 2017-01-23       1   \n",
       "1  274-P-23967129  101763714                 N 2017-04-08       1   \n",
       "\n",
       "  11_AddrCity2 11_AddrCountry 12_AddrCity2 12_AddrCountry 13_AddrCity2  \\\n",
       "0  ГОРЯЧИЙКЛЮЧ             RU  ГОРЯЧИЙКЛЮЧ             RU      КАМЫШИН   \n",
       "1     МУРМАНСК             RU     МУРМАНСК             RU    АХТУБИНСК   \n",
       "\n",
       "                ...                TXN_TP_POS_N_180  TXN_TP_POS_N_31  \\\n",
       "0               ...                             0.0              0.0   \n",
       "1               ...                             0.0              0.0   \n",
       "\n",
       "  TXN_TP_POS_N_90 TXN_TP_POS_SUM_180  TXN_TP_POS_SUM_31  TXN_TP_POS_SUM_90  \\\n",
       "0             0.0                0.0                0.0                0.0   \n",
       "1             0.0                0.0                0.0                0.0   \n",
       "\n",
       "   TXN_TP_Purposeful credit_MAX_180  TXN_TP_Purposeful credit_MEAN_180  \\\n",
       "0                               0.0                                0.0   \n",
       "1                               0.0                                0.0   \n",
       "\n",
       "   TXN_TP_Purposeful credit_N_180 TXN_TP_Purposeful credit_SUM_180  \n",
       "0                             0.0                              0.0  \n",
       "1                             0.0                              0.0  \n",
       "\n",
       "[2 rows x 215 columns]"
      ]
     },
     "execution_count": 3,
     "metadata": {},
     "output_type": "execute_result"
    }
   ],
   "source": [
    "train = pd.read_csv('./train_data/train_dataset.csv', \n",
    "                    sep='>', na_values='<null>', \n",
    "                    parse_dates=['START_DATE', 'LAST_CARD_STATUS_DT', 'LAST_CONTR_STATUS_DT', 'BIRTH_DATE'])\n",
    "print('Dataset size: ', train.shape)\n",
    "train.head(2)"
   ]
  },
  {
   "cell_type": "code",
   "execution_count": 4,
   "metadata": {},
   "outputs": [],
   "source": [
    "#train['START_DATE'].value_counts() #sort_values()"
   ]
  },
  {
   "cell_type": "code",
   "execution_count": 3,
   "metadata": {
    "scrolled": false
   },
   "outputs": [
    {
     "name": "stdout",
     "output_type": "stream",
     "text": [
      "Dataset size:  (92691, 212)\n"
     ]
    },
    {
     "data": {
      "text/html": [
       "<div>\n",
       "<style scoped>\n",
       "    .dataframe tbody tr th:only-of-type {\n",
       "        vertical-align: middle;\n",
       "    }\n",
       "\n",
       "    .dataframe tbody tr th {\n",
       "        vertical-align: top;\n",
       "    }\n",
       "\n",
       "    .dataframe thead th {\n",
       "        text-align: right;\n",
       "    }\n",
       "</style>\n",
       "<table border=\"1\" class=\"dataframe\">\n",
       "  <thead>\n",
       "    <tr style=\"text-align: right;\">\n",
       "      <th></th>\n",
       "      <th>11_AddrCity2</th>\n",
       "      <th>11_AddrCountry</th>\n",
       "      <th>12_AddrCity2</th>\n",
       "      <th>12_AddrCountry</th>\n",
       "      <th>13_AddrCity2</th>\n",
       "      <th>13_AddrCountry</th>\n",
       "      <th>BAL</th>\n",
       "      <th>BANK</th>\n",
       "      <th>BIRTH_DATE</th>\n",
       "      <th>CARD_CONTR_COUNT_0</th>\n",
       "      <th>...</th>\n",
       "      <th>TXN_TP_POS_N_180</th>\n",
       "      <th>TXN_TP_POS_N_31</th>\n",
       "      <th>TXN_TP_POS_N_90</th>\n",
       "      <th>TXN_TP_POS_SUM_180</th>\n",
       "      <th>TXN_TP_POS_SUM_31</th>\n",
       "      <th>TXN_TP_POS_SUM_90</th>\n",
       "      <th>TXN_TP_Purposeful credit_MAX_180</th>\n",
       "      <th>TXN_TP_Purposeful credit_MEAN_180</th>\n",
       "      <th>TXN_TP_Purposeful credit_N_180</th>\n",
       "      <th>TXN_TP_Purposeful credit_SUM_180</th>\n",
       "    </tr>\n",
       "  </thead>\n",
       "  <tbody>\n",
       "    <tr>\n",
       "      <th>0</th>\n",
       "      <td>NaN</td>\n",
       "      <td>NaN</td>\n",
       "      <td>NaN</td>\n",
       "      <td>NaN</td>\n",
       "      <td>NaN</td>\n",
       "      <td>NaN</td>\n",
       "      <td>0.0</td>\n",
       "      <td>BBKK</td>\n",
       "      <td>1986-12-29</td>\n",
       "      <td>1</td>\n",
       "      <td>...</td>\n",
       "      <td>0.0</td>\n",
       "      <td>0.0</td>\n",
       "      <td>0.0</td>\n",
       "      <td>0.0</td>\n",
       "      <td>0.0</td>\n",
       "      <td>0.0</td>\n",
       "      <td>0.0</td>\n",
       "      <td>0.0</td>\n",
       "      <td>0</td>\n",
       "      <td>0.0</td>\n",
       "    </tr>\n",
       "    <tr>\n",
       "      <th>1</th>\n",
       "      <td>NaN</td>\n",
       "      <td>NaN</td>\n",
       "      <td>NaN</td>\n",
       "      <td>NaN</td>\n",
       "      <td>NaN</td>\n",
       "      <td>NaN</td>\n",
       "      <td>0.0</td>\n",
       "      <td>BBKK</td>\n",
       "      <td>1968-03-11</td>\n",
       "      <td>1</td>\n",
       "      <td>...</td>\n",
       "      <td>0.0</td>\n",
       "      <td>0.0</td>\n",
       "      <td>0.0</td>\n",
       "      <td>0.0</td>\n",
       "      <td>0.0</td>\n",
       "      <td>0.0</td>\n",
       "      <td>0.0</td>\n",
       "      <td>0.0</td>\n",
       "      <td>0</td>\n",
       "      <td>0.0</td>\n",
       "    </tr>\n",
       "  </tbody>\n",
       "</table>\n",
       "<p>2 rows × 212 columns</p>\n",
       "</div>"
      ],
      "text/plain": [
       "  11_AddrCity2 11_AddrCountry 12_AddrCity2 12_AddrCountry 13_AddrCity2  \\\n",
       "0          NaN            NaN          NaN            NaN          NaN   \n",
       "1          NaN            NaN          NaN            NaN          NaN   \n",
       "\n",
       "  13_AddrCountry  BAL  BANK BIRTH_DATE  CARD_CONTR_COUNT_0  \\\n",
       "0            NaN  0.0  BBKK 1986-12-29                   1   \n",
       "1            NaN  0.0  BBKK 1968-03-11                   1   \n",
       "\n",
       "                ...                 TXN_TP_POS_N_180  TXN_TP_POS_N_31  \\\n",
       "0               ...                              0.0              0.0   \n",
       "1               ...                              0.0              0.0   \n",
       "\n",
       "   TXN_TP_POS_N_90  TXN_TP_POS_SUM_180  TXN_TP_POS_SUM_31 TXN_TP_POS_SUM_90  \\\n",
       "0              0.0                 0.0                0.0               0.0   \n",
       "1              0.0                 0.0                0.0               0.0   \n",
       "\n",
       "  TXN_TP_Purposeful credit_MAX_180 TXN_TP_Purposeful credit_MEAN_180  \\\n",
       "0                              0.0                               0.0   \n",
       "1                              0.0                               0.0   \n",
       "\n",
       "  TXN_TP_Purposeful credit_N_180 TXN_TP_Purposeful credit_SUM_180  \n",
       "0                              0                              0.0  \n",
       "1                              0                              0.0  \n",
       "\n",
       "[2 rows x 212 columns]"
      ]
     },
     "execution_count": 3,
     "metadata": {},
     "output_type": "execute_result"
    }
   ],
   "source": [
    "test = pd.read_csv('./test_data/test_dataset.csv', \n",
    "                   sep='>', na_values='<null>', \n",
    "                   parse_dates=['LAST_CARD_STATUS_DT', 'LAST_CONTR_STATUS_DT', 'BIRTH_DATE', 'START_DATE'])\n",
    "print('Dataset size: ', test.shape)\n",
    "#test = test.set_index(['CONTRACT_REF', 'CLIENT_ID'])\n",
    "test.head(2)"
   ]
  },
  {
   "cell_type": "markdown",
   "metadata": {},
   "source": [
    "Так как предсказания будем строить только на множестве людей, которым какой-либо сценарий был предложен,\n",
    "то сначала удаляем из данных контрольную группу и уже потом преобразуем данные:"
   ]
  },
  {
   "cell_type": "code",
   "execution_count": 5,
   "metadata": {
    "scrolled": false
   },
   "outputs": [
    {
     "data": {
      "text/plain": [
       "N    97447\n",
       "Y    17273\n",
       "Name: CONTROL_GROUP_FLG, dtype: int64"
      ]
     },
     "execution_count": 5,
     "metadata": {},
     "output_type": "execute_result"
    }
   ],
   "source": [
    "train['CONTROL_GROUP_FLG'].value_counts(normalize=False)"
   ]
  },
  {
   "cell_type": "code",
   "execution_count": 6,
   "metadata": {
    "scrolled": true
   },
   "outputs": [
    {
     "data": {
      "text/plain": [
       "(97447, 214)"
      ]
     },
     "execution_count": 6,
     "metadata": {},
     "output_type": "execute_result"
    }
   ],
   "source": [
    "train = train[train['CONTROL_GROUP_FLG']=='N']\n",
    "train.drop(['CONTROL_GROUP_FLG'], axis=1, inplace=True)\n",
    "train.shape"
   ]
  },
  {
   "cell_type": "code",
   "execution_count": 145,
   "metadata": {},
   "outputs": [],
   "source": [
    "dummy = [u'CL_FAM_ST', u'CL_OFF_POS', u'CL_OWN_TYPE', u'LAST_CARD_STATUS', 'CL_ESTATE_TYPE', \n",
    "         'CL_INDUSTR', 'CL_SOC_ST', 'ZODIAC']\n",
    "\n",
    "d = Dummyfier(dummy, drop_old=True)\n",
    "\n",
    "Xy_train = prepare(train)\n",
    "Xy_train = d.fit_transform(Xy_train)"
   ]
  },
  {
   "cell_type": "code",
   "execution_count": 50,
   "metadata": {},
   "outputs": [],
   "source": [
    "# 'LAST_CARD_STATUS_TIME' / 'LAST_CONTR_STATUS_TIME',\n",
    "#set(Xy_train.columns) - set(train.columns)"
   ]
  },
  {
   "cell_type": "code",
   "execution_count": 51,
   "metadata": {},
   "outputs": [],
   "source": [
    "# Why cols have dissapear? \n",
    "#  'LAST_CARD_STATUS_DT' / 'LAST_CONTR_STATUS_DT',\n",
    "#set(train.columns) - set(Xy_train.columns)"
   ]
  },
  {
   "cell_type": "code",
   "execution_count": 8,
   "metadata": {},
   "outputs": [],
   "source": [
    "# WHY CHANGED ? Because of CGF == 1- ?\n",
    "#Xy_train['SCENARIO_NAME_UNI'].value_counts()"
   ]
  },
  {
   "cell_type": "code",
   "execution_count": 146,
   "metadata": {},
   "outputs": [],
   "source": [
    "# map scenarious and \n",
    "# remove too rare:\n",
    "scenario_mapper = {'Sc_1':'UVEL_1', 'Sc_2':'UVEL_2','Sc_3':'UVEL_3','Sc_4':'UVEL_4','Sc_5':'UVEL_5','Sc_6':'UVEL_6'}"
   ]
  },
  {
   "cell_type": "code",
   "execution_count": 147,
   "metadata": {},
   "outputs": [
    {
     "data": {
      "text/plain": [
       "0     POS_1\n",
       "1    UVEL_1\n",
       "2    UVEL_1\n",
       "3    UVEL_2\n",
       "4    UVEL_2\n",
       "dtype: object"
      ]
     },
     "execution_count": 147,
     "metadata": {},
     "output_type": "execute_result"
    }
   ],
   "source": [
    "# simple example: \n",
    "a = pd.Series(['POS_1', 'Sc_1', 'UVEL_1', 'UVEL_2', 'Sc_2'])\n",
    "b = a.map(scenario_mapper)\n",
    "b[~b.notnull().values] = a[~b.notnull().values]\n",
    "b"
   ]
  },
  {
   "cell_type": "code",
   "execution_count": 148,
   "metadata": {},
   "outputs": [
    {
     "name": "stderr",
     "output_type": "stream",
     "text": [
      "C:\\Users\\Liksakov\\AppData\\Local\\Continuum\\anaconda3_2\\lib\\site-packages\\ipykernel_launcher.py:5: SettingWithCopyWarning: \n",
      "A value is trying to be set on a copy of a slice from a DataFrame\n",
      "\n",
      "See the caveats in the documentation: http://pandas.pydata.org/pandas-docs/stable/indexing.html#indexing-view-versus-copy\n",
      "  \"\"\"\n"
     ]
    }
   ],
   "source": [
    "# MAP SC_i  = UVEL_i  for i in 1:5\n",
    "# This scenarious are same\n",
    "Xy_train['SCENARIO_NAME'] = Xy_train['SCENARIO_NAME_UNI'].map(scenario_mapper)\n",
    "unchanged_index = Xy_train['SCENARIO_NAME'].notnull().values\n",
    "Xy_train['SCENARIO_NAME'][~ unchanged_index] = Xy_train['SCENARIO_NAME_UNI'][~ unchanged_index]"
   ]
  },
  {
   "cell_type": "code",
   "execution_count": 149,
   "metadata": {},
   "outputs": [],
   "source": [
    "# To check:\n",
    "#Xy_train[['SCENARIO_NAME', 'SCENARIO_NAME_UNI']]"
   ]
  },
  {
   "cell_type": "code",
   "execution_count": 150,
   "metadata": {},
   "outputs": [],
   "source": [
    "#Xy_train['SCENARIO_NAME'].value_counts()\n",
    "#Only ATM_1   scenario is rare, remove it:\n",
    "Xy_train.drop(['SCENARIO_NAME_UNI'], axis=1,inplace=True)\n",
    "Xy_train = Xy_train[~np.array(Xy_train['SCENARIO_NAME']=='ATM_1')]"
   ]
  },
  {
   "cell_type": "code",
   "execution_count": 151,
   "metadata": {},
   "outputs": [
    {
     "data": {
      "text/plain": [
       "(97446, 144)"
      ]
     },
     "execution_count": 151,
     "metadata": {},
     "output_type": "execute_result"
    }
   ],
   "source": [
    "Xy_train.shape"
   ]
  },
  {
   "cell_type": "markdown",
   "metadata": {},
   "source": [
    "Объектами в задаче будут являться id = (CLIENT_ID, START_DATE, SCENARIO_NAME).\n",
    "Таким образом для каждого клиента и сценария будут предсказаны вероятность выполнения целевого действия.\n",
    "Полученная задача - обычная бинарная классификация.\n",
    "\n",
    " В качестве признаков будут использованы как признаки по клиенту, так и некоторые признаки, характеризующие сценарий.\n",
    "Данный подход часто используется и отличается от подхода с построением мультиклассовой классификации на более простых объектах. (просто клиенты)."
   ]
  },
  {
   "cell_type": "code",
   "execution_count": 152,
   "metadata": {},
   "outputs": [],
   "source": [
    "# ADD SCENARIO FEATURES DATA:\n",
    "scen_data = pd.read_csv('./train_data/scenrios_descr.csv', sep=';', decimal=',')\n",
    "#scen_data"
   ]
  },
  {
   "cell_type": "code",
   "execution_count": 153,
   "metadata": {
    "scrolled": true
   },
   "outputs": [],
   "source": [
    "# remove bad ( few y=1) scenarious\n",
    "# remove some features\n",
    "scen_to_leave = ['UVEL_2', 'ATM_2', 'ATM_1', 'UVEL_6']\n",
    "scen_data = scen_data[~scen_data['SCENARIO_NAME'].isin(scen_to_leave)]\n",
    "scen_data.drop(['MIN_CASHBACK','MAX_CASHBACK'],axis=1, inplace=True)"
   ]
  },
  {
   "cell_type": "code",
   "execution_count": 210,
   "metadata": {},
   "outputs": [],
   "source": [
    "#scen_data"
   ]
  },
  {
   "cell_type": "markdown",
   "metadata": {},
   "source": [
    "Подтягиваем признаки по сценариям."
   ]
  },
  {
   "cell_type": "code",
   "execution_count": 154,
   "metadata": {},
   "outputs": [],
   "source": [
    "# BE CAREFUL: inner join!\n",
    "Xy_train = Xy_train.merge(scen_data, how='inner', on='SCENARIO_NAME')"
   ]
  },
  {
   "cell_type": "code",
   "execution_count": 155,
   "metadata": {
    "scrolled": true
   },
   "outputs": [
    {
     "name": "stdout",
     "output_type": "stream",
     "text": [
      "1\n",
      "0\n"
     ]
    }
   ],
   "source": [
    "# CHECK NA:\n",
    "print( np.array(Xy_train['CL_AMT_ZP'].isna()*1).max() )\n",
    "print( np.array(Xy_train['CL_AMT_DOP'].isna()*1).max() )"
   ]
  },
  {
   "cell_type": "code",
   "execution_count": 156,
   "metadata": {
    "scrolled": true
   },
   "outputs": [],
   "source": [
    "# Get list names of columns with at least one value is NAN\n",
    "na_cols_train = Xy_train.isna().any()\n",
    "na_cols_train = na_cols_train[na_cols_train==True].index.tolist()\n",
    "# Fill nan with mean value\n",
    "# not good idea for binaries\n",
    "Xy_train = Xy_train.fillna(value=Xy_train[na_cols_train].mean())"
   ]
  },
  {
   "cell_type": "code",
   "execution_count": 157,
   "metadata": {
    "scrolled": true
   },
   "outputs": [
    {
     "data": {
      "text/plain": [
       "0.0"
      ]
     },
     "execution_count": 157,
     "metadata": {},
     "output_type": "execute_result"
    }
   ],
   "source": [
    "# Check no NaN values:\n",
    "np.sum(np.array(Xy_train.isna())*1.0)"
   ]
  },
  {
   "cell_type": "code",
   "execution_count": 158,
   "metadata": {
    "scrolled": false
   },
   "outputs": [
    {
     "data": {
      "text/html": [
       "<div>\n",
       "<style scoped>\n",
       "    .dataframe tbody tr th:only-of-type {\n",
       "        vertical-align: middle;\n",
       "    }\n",
       "\n",
       "    .dataframe tbody tr th {\n",
       "        vertical-align: top;\n",
       "    }\n",
       "\n",
       "    .dataframe thead th {\n",
       "        text-align: right;\n",
       "    }\n",
       "</style>\n",
       "<table border=\"1\" class=\"dataframe\">\n",
       "  <thead>\n",
       "    <tr style=\"text-align: right;\">\n",
       "      <th></th>\n",
       "      <th>TARGET</th>\n",
       "      <th>CLIENT_ID</th>\n",
       "    </tr>\n",
       "    <tr>\n",
       "      <th>SCENARIO_NAME</th>\n",
       "      <th></th>\n",
       "      <th></th>\n",
       "    </tr>\n",
       "  </thead>\n",
       "  <tbody>\n",
       "    <tr>\n",
       "      <th>POS_1</th>\n",
       "      <td>0.152908</td>\n",
       "      <td>2459</td>\n",
       "    </tr>\n",
       "    <tr>\n",
       "      <th>UVEL_3</th>\n",
       "      <td>0.099837</td>\n",
       "      <td>2454</td>\n",
       "    </tr>\n",
       "    <tr>\n",
       "      <th>UVEL_1</th>\n",
       "      <td>0.073150</td>\n",
       "      <td>3527</td>\n",
       "    </tr>\n",
       "    <tr>\n",
       "      <th>POS_3</th>\n",
       "      <td>0.068110</td>\n",
       "      <td>18984</td>\n",
       "    </tr>\n",
       "    <tr>\n",
       "      <th>POS_2</th>\n",
       "      <td>0.050446</td>\n",
       "      <td>10863</td>\n",
       "    </tr>\n",
       "    <tr>\n",
       "      <th>UVEL_4</th>\n",
       "      <td>0.040017</td>\n",
       "      <td>26189</td>\n",
       "    </tr>\n",
       "    <tr>\n",
       "      <th>UVEL_5</th>\n",
       "      <td>0.039964</td>\n",
       "      <td>5555</td>\n",
       "    </tr>\n",
       "    <tr>\n",
       "      <th>ATM_3</th>\n",
       "      <td>0.030435</td>\n",
       "      <td>12847</td>\n",
       "    </tr>\n",
       "  </tbody>\n",
       "</table>\n",
       "</div>"
      ],
      "text/plain": [
       "                 TARGET  CLIENT_ID\n",
       "SCENARIO_NAME                     \n",
       "POS_1          0.152908       2459\n",
       "UVEL_3         0.099837       2454\n",
       "UVEL_1         0.073150       3527\n",
       "POS_3          0.068110      18984\n",
       "POS_2          0.050446      10863\n",
       "UVEL_4         0.040017      26189\n",
       "UVEL_5         0.039964       5555\n",
       "ATM_3          0.030435      12847"
      ]
     },
     "execution_count": 158,
     "metadata": {},
     "output_type": "execute_result"
    }
   ],
   "source": [
    "Xy_train[['CLIENT_ID', 'SCENARIO_NAME', 'TARGET']].groupby(['SCENARIO_NAME'])\\\n",
    "    .agg({\n",
    "        'TARGET': 'mean',\n",
    "        'CLIENT_ID': 'count'\n",
    "    })\\\n",
    "    .sort_values('TARGET', ascending=False)\n",
    "    \n",
    "# REMOVE LAST 3 SCENARIOUS"
   ]
  },
  {
   "cell_type": "code",
   "execution_count": 159,
   "metadata": {},
   "outputs": [],
   "source": [
    "# Split data: Train and test\n",
    "Xy_tr, Xy_ts = train_test_split(Xy_train, \n",
    "                                test_size=0.2,\n",
    "                                random_state=43,\n",
    "                                shuffle=True,\n",
    "                                stratify=Xy_train['SCENARIO_NAME']) #Xy_train['TARGET']) "
   ]
  },
  {
   "cell_type": "code",
   "execution_count": 27,
   "metadata": {
    "scrolled": true
   },
   "outputs": [],
   "source": [
    "# f = 'CLIENT_ID'\n",
    "# print(np.sum(Xy_train[f].isna()))\n",
    "# print(np.sum(Xy_tr[f].isna()))"
   ]
  },
  {
   "cell_type": "code",
   "execution_count": 28,
   "metadata": {
    "scrolled": true
   },
   "outputs": [],
   "source": [
    "#Xy_tr.iloc[1:10,10:30]"
   ]
  },
  {
   "cell_type": "code",
   "execution_count": 29,
   "metadata": {},
   "outputs": [],
   "source": [
    "#Xy_train['FL_DOC_PROFIT'].value_counts(normalize=True)"
   ]
  },
  {
   "cell_type": "code",
   "execution_count": 160,
   "metadata": {
    "scrolled": false
   },
   "outputs": [
    {
     "name": "stdout",
     "output_type": "stream",
     "text": [
      "Check size:\n",
      "0.7999951736287072\n",
      "0.20000482637129274\n",
      "\n",
      "Check  split stratification by taget:\n",
      "0.05280383698832614\n",
      "0.05308880308880309\n",
      "Check split stratification by SCENARIO:\n"
     ]
    },
    {
     "data": {
      "text/html": [
       "<div>\n",
       "<style scoped>\n",
       "    .dataframe tbody tr th:only-of-type {\n",
       "        vertical-align: middle;\n",
       "    }\n",
       "\n",
       "    .dataframe tbody tr th {\n",
       "        vertical-align: top;\n",
       "    }\n",
       "\n",
       "    .dataframe thead th {\n",
       "        text-align: right;\n",
       "    }\n",
       "</style>\n",
       "<table border=\"1\" class=\"dataframe\">\n",
       "  <thead>\n",
       "    <tr style=\"text-align: right;\">\n",
       "      <th></th>\n",
       "      <th>index</th>\n",
       "      <th>SCENARIO_NAME</th>\n",
       "      <th>SCENARIO_NAME</th>\n",
       "    </tr>\n",
       "  </thead>\n",
       "  <tbody>\n",
       "    <tr>\n",
       "      <th>0</th>\n",
       "      <td>UVEL_4</td>\n",
       "      <td>0.315993</td>\n",
       "      <td>0.315999</td>\n",
       "    </tr>\n",
       "    <tr>\n",
       "      <th>1</th>\n",
       "      <td>POS_3</td>\n",
       "      <td>0.229058</td>\n",
       "      <td>0.229066</td>\n",
       "    </tr>\n",
       "    <tr>\n",
       "      <th>2</th>\n",
       "      <td>ATM_3</td>\n",
       "      <td>0.155018</td>\n",
       "      <td>0.154983</td>\n",
       "    </tr>\n",
       "    <tr>\n",
       "      <th>3</th>\n",
       "      <td>POS_2</td>\n",
       "      <td>0.131067</td>\n",
       "      <td>0.131093</td>\n",
       "    </tr>\n",
       "    <tr>\n",
       "      <th>4</th>\n",
       "      <td>UVEL_5</td>\n",
       "      <td>0.067027</td>\n",
       "      <td>0.067025</td>\n",
       "    </tr>\n",
       "    <tr>\n",
       "      <th>5</th>\n",
       "      <td>UVEL_1</td>\n",
       "      <td>0.042563</td>\n",
       "      <td>0.042531</td>\n",
       "    </tr>\n",
       "    <tr>\n",
       "      <th>6</th>\n",
       "      <td>POS_1</td>\n",
       "      <td>0.029667</td>\n",
       "      <td>0.029681</td>\n",
       "    </tr>\n",
       "    <tr>\n",
       "      <th>7</th>\n",
       "      <td>UVEL_3</td>\n",
       "      <td>0.029607</td>\n",
       "      <td>0.029621</td>\n",
       "    </tr>\n",
       "  </tbody>\n",
       "</table>\n",
       "</div>"
      ],
      "text/plain": [
       "    index  SCENARIO_NAME  SCENARIO_NAME\n",
       "0  UVEL_4       0.315993       0.315999\n",
       "1   POS_3       0.229058       0.229066\n",
       "2   ATM_3       0.155018       0.154983\n",
       "3   POS_2       0.131067       0.131093\n",
       "4  UVEL_5       0.067027       0.067025\n",
       "5  UVEL_1       0.042563       0.042531\n",
       "6   POS_1       0.029667       0.029681\n",
       "7  UVEL_3       0.029607       0.029621"
      ]
     },
     "execution_count": 160,
     "metadata": {},
     "output_type": "execute_result"
    }
   ],
   "source": [
    "print('Check size:')\n",
    "print(Xy_tr.shape[0]/Xy_train.shape[0])\n",
    "print(Xy_ts.shape[0]/Xy_train.shape[0])\n",
    "print('\\nCheck  split stratification by taget:')\n",
    "print(Xy_tr['TARGET'].value_counts(normalize=True)[1])\n",
    "print(Xy_ts['TARGET'].value_counts(normalize=True)[1])\n",
    "print('Check split stratification by SCENARIO:')\n",
    "a1 = Xy_tr['SCENARIO_NAME'].value_counts(normalize=True)\n",
    "a2 = Xy_ts['SCENARIO_NAME'].value_counts(normalize=True)\n",
    "c = pd.concat([a1,a2],axis=1).reset_index()\n",
    "c\n",
    "#del(a1,a2, c)"
   ]
  },
  {
   "cell_type": "code",
   "execution_count": 126,
   "metadata": {},
   "outputs": [],
   "source": [
    "# y_tr = Xy_tr['TARGET'].values\n",
    "# y_ts = Xy_ts['TARGET'].values\n",
    "\n",
    "# identity = ['CONTRACT_REF', 'CLIENT_ID', 'SCENARIO_NAME', 'START_DATE']\n",
    "\n",
    "# # save just ids\n",
    "# ids_tr = Xy_tr[['CONTRACT_REF', 'CLIENT_ID', 'SCENARIO_NAME']]\n",
    "# ids_ts = Xy_ts[['CONTRACT_REF', 'CLIENT_ID', 'SCENARIO_NAME']]\n",
    "\n",
    "# X_tr = Xy_tr.drop(['TARGET'] + identity, axis=1)\n",
    "# X_ts = Xy_ts.drop(['TARGET'] + identity, axis=1)"
   ]
  },
  {
   "cell_type": "code",
   "execution_count": 161,
   "metadata": {},
   "outputs": [],
   "source": [
    "y_tr = Xy_tr['TARGET'].values\n",
    "y_ts = Xy_ts['TARGET'].values\n",
    "\n",
    "identity = ['CONTRACT_REF', 'CLIENT_ID', 'SCENARIO_NAME', 'START_DATE', 'TARGET']\n",
    "\n",
    "X_tr = Xy_tr.set_index(identity)\n",
    "X_ts = Xy_ts.set_index(identity)\n",
    "\n",
    "# X_tr = Xy_tr.drop(['TARGET'], axis=1)\n",
    "# X_ts = Xy_ts.drop(['TARGET'], axis=1)"
   ]
  },
  {
   "cell_type": "code",
   "execution_count": 162,
   "metadata": {},
   "outputs": [],
   "source": [
    "#X_tr.head(2)"
   ]
  },
  {
   "cell_type": "code",
   "execution_count": 229,
   "metadata": {},
   "outputs": [],
   "source": [
    "#X_train.iloc[:,130:160]"
   ]
  },
  {
   "cell_type": "code",
   "execution_count": 163,
   "metadata": {
    "scrolled": true
   },
   "outputs": [],
   "source": [
    "# Use scaling:\n",
    "scaler = StandardScaler()"
   ]
  },
  {
   "cell_type": "code",
   "execution_count": 164,
   "metadata": {},
   "outputs": [],
   "source": [
    "# DO NOT USE : USE STEPS PIPLINES\n",
    "X_tr_sc = pd.DataFrame(\n",
    "    scaler.fit_transform(X_tr),\n",
    "    columns=X_tr.columns,\n",
    "    index=X_tr.index)\n",
    "\n",
    "X_ts_sc = pd.DataFrame(\n",
    "    scaler.transform(X_ts),\n",
    "    columns=X_ts.columns,\n",
    "    index=X_ts.index)"
   ]
  },
  {
   "cell_type": "code",
   "execution_count": 165,
   "metadata": {
    "scrolled": true
   },
   "outputs": [
    {
     "data": {
      "image/png": "[encoded data removed]",
      "text/plain": [
       "<matplotlib.figure.Figure at 0x6c992aeba8>"
      ]
     },
     "metadata": {},
     "output_type": "display_data"
    }
   ],
   "source": [
    "# Check distribution after scaling:\n",
    "fig, axes = plt.subplots(1,2, figsize=(10,4))\n",
    "feat_name = 'TOTAL_BAL_NEG_CHNG_N_180'\n",
    "\n",
    "hists = [ feat_name, feat_name + ' scaled']\n",
    "\n",
    "axes[0].hist(X_tr[feat_name], bins=50);\n",
    "axes[0].title.set_text('Histogrmam of ' + hists[0]);\n",
    "\n",
    "axes[1].hist(X_tr_sc[feat_name], bins=50);\n",
    "axes[1].title.set_text('Histogramm of ' + hists[1]);"
   ]
  },
  {
   "cell_type": "markdown",
   "metadata": {},
   "source": [
    "### Построение модели:"
   ]
  },
  {
   "cell_type": "code",
   "execution_count": 166,
   "metadata": {},
   "outputs": [],
   "source": [
    "# Modellig:\n",
    "lr_estimator = LogisticRegression(penalty='l2', C=1e3,\n",
    "                                  fit_intercept=True,\n",
    "                                  class_weight=None,\n",
    "                                  random_state=42,\n",
    "                                  verbose=True,\n",
    "                                  n_jobs=-1\n",
    "                                 ) # is it really shuffles data??!!!!"
   ]
  },
  {
   "cell_type": "code",
   "execution_count": 241,
   "metadata": {},
   "outputs": [
    {
     "name": "stdout",
     "output_type": "stream",
     "text": [
      "30\n",
      "30\n"
     ]
    }
   ],
   "source": [
    "# selet features subset:\n",
    "X_tr = X_tr[top_feat_list]\n",
    "X_ts = X_ts[top_feat_list]\n",
    "print(X_tr.shape[1])\n",
    "print(X_ts.shape[1])"
   ]
  },
  {
   "cell_type": "code",
   "execution_count": null,
   "metadata": {},
   "outputs": [],
   "source": [
    "X_tr"
   ]
  },
  {
   "cell_type": "code",
   "execution_count": 242,
   "metadata": {
    "scrolled": true
   },
   "outputs": [
    {
     "name": "stderr",
     "output_type": "stream",
     "text": [
      "C:\\Users\\Liksakov\\AppData\\Local\\Continuum\\anaconda3_2\\lib\\site-packages\\sklearn\\linear_model\\logistic.py:1228: UserWarning: 'n_jobs' > 1 does not have any effect when 'solver' is set to 'liblinear'. Got 'n_jobs' = -1.\n",
      "  \" = {}.\".format(self.n_jobs))\n"
     ]
    },
    {
     "name": "stdout",
     "output_type": "stream",
     "text": [
      "[LibLinear]Wall time: 1.36 s\n"
     ]
    }
   ],
   "source": [
    "%%time\n",
    "\n",
    "pipeline = Pipeline(steps=[ \n",
    "    ('scaling', scaler),\n",
    "    ('fitting', lr_estimator)\n",
    "])\n",
    "\n",
    "#pipeline.fit(X_tr, y_tr)\n",
    "pipeline.fit(X_tr, y_tr)"
   ]
  },
  {
   "cell_type": "code",
   "execution_count": 243,
   "metadata": {},
   "outputs": [],
   "source": [
    "#len(pipeline.get_params().get('fitting').coef_[0])\n",
    "#len(X_tr.columns)"
   ]
  },
  {
   "cell_type": "code",
   "execution_count": 244,
   "metadata": {
    "scrolled": true
   },
   "outputs": [],
   "source": [
    "importances = pd.DataFrame(\n",
    "    data = {\n",
    "        'feature': X_tr.columns.tolist(),\n",
    "        'tscore': pipeline.get_params().get('fitting').coef_[0]\n",
    "    }\n",
    ")\n",
    "\n",
    "importances = importances.reindex(importances.tscore.abs().sort_values(inplace=False, ascending=False).index)\n",
    "#importances.head(20)"
   ]
  },
  {
   "cell_type": "code",
   "execution_count": 245,
   "metadata": {},
   "outputs": [
    {
     "data": {
      "text/plain": [
       "30"
      ]
     },
     "execution_count": 245,
     "metadata": {},
     "output_type": "execute_result"
    }
   ],
   "source": [
    "top_feat_list = importances.loc[:,'feature'][0:30].values.tolist()\n",
    "len(top_feat_list)"
   ]
  },
  {
   "cell_type": "markdown",
   "metadata": {},
   "source": [
    "Полные данные по всем парам (CLIENT, SCENARIO). (Изначально обучаемся мы на данных, где каждому клиенту предлагался только один сценарий). Это нужно, чтобы прогнозировать вероятность [y==1] для каждого наблюдения."
   ]
  },
  {
   "cell_type": "code",
   "execution_count": 53,
   "metadata": {},
   "outputs": [],
   "source": [
    "#a = np.sum(X_tr.isna())\n",
    "#np.sum(a)"
   ]
  },
  {
   "cell_type": "code",
   "execution_count": 246,
   "metadata": {
    "scrolled": false
   },
   "outputs": [],
   "source": [
    "# train data:\n",
    "X_tr_full = X_tr[X_tr.columns.difference(scen_data.columns)]\n",
    "#X_tr_full.loc[:,'key'] = 1\n",
    "X_tr_full = X_tr_full.assign(key = 1)\n",
    "scen_data = scen_data.assign(key = 1)\n",
    "X_tr_full = X_tr_full.reset_index()\\\n",
    "    .merge(scen_data, on='key', suffixes=['', '_f'])\\\n",
    "    .set_index(identity+['SCENARIO_NAME_f'])\\\n",
    "    .drop(['key'], axis=1)[X_tr.columns]\n",
    "    \n",
    "# test data:\n",
    "X_ts_full = X_ts[X_ts.columns.difference(scen_data.columns)]\n",
    "X_ts_full = X_ts_full.assign(key = 1)\n",
    "X_ts_full = X_ts_full.reset_index()\\\n",
    "    .merge(scen_data, on='key', suffixes=['', '_f'])\\\n",
    "    .set_index(identity+['SCENARIO_NAME_f'])\\\n",
    "    .drop(['key'], axis=1)[X_ts.columns]"
   ]
  },
  {
   "cell_type": "code",
   "execution_count": 247,
   "metadata": {
    "scrolled": true
   },
   "outputs": [
    {
     "name": "stdout",
     "output_type": "stream",
     "text": [
      "530416\n",
      "66302\n",
      "132608\n",
      "16576\n"
     ]
    }
   ],
   "source": [
    "print(X_tr_full.shape[0])\n",
    "print(X_tr.shape[0])\n",
    "print(X_ts_full.shape[0])\n",
    "print(X_ts.shape[0])"
   ]
  },
  {
   "cell_type": "code",
   "execution_count": 248,
   "metadata": {},
   "outputs": [],
   "source": [
    "#530416/66302\n",
    "#155920/19490"
   ]
  },
  {
   "cell_type": "code",
   "execution_count": 179,
   "metadata": {},
   "outputs": [],
   "source": [
    "def print_metrics_2(y_real, y_proba, thr=0.5, at=0.2):\n",
    "    y_pred = (y_proba >= np.sort(y_proba)[::-1][int(len(y_real) * thr)-1]).astype(int)\n",
    "\n",
    "    scores = pd.DataFrame({\n",
    "        'Metrics' : [ 'AUC', 'Logloss',  'Accuracy', 'Precision',  'Recall',  'F1_score'],\n",
    "        'Score': [  roc_auc_score(y_real, y_proba),\n",
    "                    log_loss(y_real, y_proba),\n",
    "                    accuracy_score(y_real, y_pred),\n",
    "                    precision_score(y_real, y_pred),\n",
    "                    recall_score(y_real, y_pred),\n",
    "                    f1_score(y_real, y_pred) ]\n",
    "        #'Precision@k': precision_at(y_real, y_proba, at)\n",
    "        #fbeta_score(y_real, y_pred, beta=0.5),\n",
    "        #fbeta_score(y_real, y_pred, beta=2),\n",
    "    })\n",
    "    \n",
    "    return y_pred, scores"
   ]
  },
  {
   "cell_type": "code",
   "execution_count": 236,
   "metadata": {
    "scrolled": false
   },
   "outputs": [
    {
     "name": "stdout",
     "output_type": "stream",
     "text": [
      "Auc on train: 0.758\n",
      "Auc on test: 0.751\n"
     ]
    }
   ],
   "source": [
    "pred_prob_tr = pipeline.predict_proba(X_tr)[:, 1]\n",
    "auc_tr = metrics.roc_auc_score(\n",
    "    y_true=y_tr,\n",
    "    y_score=pred_prob_tr\n",
    ")\n",
    "\n",
    "pred_prob_ts = pipeline.predict_proba(X_ts)[:, 1]\n",
    "auc_ts = metrics.roc_auc_score(y_true=y_ts,\n",
    "                               y_score=pred_prob_ts)\n",
    "\n",
    "print( 'Auc on train:', round(auc_tr,3))\n",
    "print( 'Auc on test:',  round(auc_ts,3))"
   ]
  },
  {
   "cell_type": "code",
   "execution_count": 237,
   "metadata": {},
   "outputs": [
    {
     "data": {
      "text/html": [
       "<div>\n",
       "<style scoped>\n",
       "    .dataframe tbody tr th:only-of-type {\n",
       "        vertical-align: middle;\n",
       "    }\n",
       "\n",
       "    .dataframe tbody tr th {\n",
       "        vertical-align: top;\n",
       "    }\n",
       "\n",
       "    .dataframe thead th {\n",
       "        text-align: right;\n",
       "    }\n",
       "</style>\n",
       "<table border=\"1\" class=\"dataframe\">\n",
       "  <thead>\n",
       "    <tr style=\"text-align: right;\">\n",
       "      <th></th>\n",
       "      <th>Metrics</th>\n",
       "      <th>Score_tr</th>\n",
       "      <th>Score_ts</th>\n",
       "    </tr>\n",
       "  </thead>\n",
       "  <tbody>\n",
       "    <tr>\n",
       "      <th>0</th>\n",
       "      <td>AUC</td>\n",
       "      <td>0.757818</td>\n",
       "      <td>0.751086</td>\n",
       "    </tr>\n",
       "    <tr>\n",
       "      <th>1</th>\n",
       "      <td>Logloss</td>\n",
       "      <td>0.186126</td>\n",
       "      <td>0.188604</td>\n",
       "    </tr>\n",
       "    <tr>\n",
       "      <th>2</th>\n",
       "      <td>Accuracy</td>\n",
       "      <td>0.839009</td>\n",
       "      <td>0.836631</td>\n",
       "    </tr>\n",
       "    <tr>\n",
       "      <th>3</th>\n",
       "      <td>Precision</td>\n",
       "      <td>0.139367</td>\n",
       "      <td>0.132341</td>\n",
       "    </tr>\n",
       "    <tr>\n",
       "      <th>4</th>\n",
       "      <td>Recall</td>\n",
       "      <td>0.395887</td>\n",
       "      <td>0.373864</td>\n",
       "    </tr>\n",
       "    <tr>\n",
       "      <th>5</th>\n",
       "      <td>F1_score</td>\n",
       "      <td>0.206158</td>\n",
       "      <td>0.195484</td>\n",
       "    </tr>\n",
       "  </tbody>\n",
       "</table>\n",
       "</div>"
      ],
      "text/plain": [
       "     Metrics  Score_tr  Score_ts\n",
       "0        AUC  0.757818  0.751086\n",
       "1    Logloss  0.186126  0.188604\n",
       "2   Accuracy  0.839009  0.836631\n",
       "3  Precision  0.139367  0.132341\n",
       "4     Recall  0.395887  0.373864\n",
       "5   F1_score  0.206158  0.195484"
      ]
     },
     "execution_count": 237,
     "metadata": {},
     "output_type": "execute_result"
    }
   ],
   "source": [
    "from sklearn.metrics import *\n",
    "_, tr_metrics = print_metrics_2(y_real=y_tr,\n",
    "                               y_proba=pred_prob_tr,\n",
    "                               thr=0.15)\n",
    "_, ts_metrics = print_metrics_2(y_real=y_ts,\n",
    "                               y_proba=pred_prob_ts,\n",
    "                               thr=0.15)\n",
    "tr_metrics.merge(ts_metrics, on='Metrics',suffixes=['_tr', '_ts'])"
   ]
  },
  {
   "cell_type": "code",
   "execution_count": 127,
   "metadata": {},
   "outputs": [],
   "source": [
    "# Predictions on full train / test data:\n",
    "pred_prob_tr_full = pipeline.predict_proba(X_tr_full)[:,1]\n",
    "pred_prob_ts_full = pipeline.predict_proba(X_ts_full)[:,1]"
   ]
  },
  {
   "cell_type": "code",
   "execution_count": 81,
   "metadata": {},
   "outputs": [],
   "source": [
    "# pipeline.get_params().keys()"
   ]
  },
  {
   "cell_type": "code",
   "execution_count": 381,
   "metadata": {},
   "outputs": [],
   "source": [
    "# parametrs_grid = {\n",
    "#   #'scaling__with_mean':[0., 0.5], # ??? what is it?\n",
    "#   'fitting__C':[1, 100, 10000],\n",
    "#   'fitting__penalty':['l1','l2']\n",
    "#  }\n",
    "\n",
    "# print(parametrs_grid)"
   ]
  },
  {
   "cell_type": "code",
   "execution_count": 383,
   "metadata": {},
   "outputs": [],
   "source": [
    "# USE grid serch to get best params\n",
    "# CHANGE scoring!!\n",
    "# grid_cv = GridSearchCV(\n",
    "#     pipeline,                 \n",
    "#     parametrs_grid,                \n",
    "#     scoring='roc_auc',                 \n",
    "#     cv=5,                 \n",
    "#     verbose=0,\n",
    "#     njobs=-1\n",
    "#  )\n",
    "\n",
    "# grid_cv.fit(X_tr, y_tr)"
   ]
  },
  {
   "cell_type": "code",
   "execution_count": 128,
   "metadata": {},
   "outputs": [],
   "source": [
    "#%%time\n",
    "#grid_cv.fit(X_tr, y_tr)\n",
    "#print(round(grid_cv.best_score_,3))\n",
    "#print(grid_cv.best_params_)"
   ]
  },
  {
   "cell_type": "markdown",
   "metadata": {},
   "source": [
    "Если я хочу, воспользоваться лучшим эстиматором, то я буду юзать grid_cv.best_estimator_\n",
    "Причем, обращаю твое внимание на то, что он будет переобучен на всех тренировочных данных, а не на последнем фолде."
   ]
  },
  {
   "cell_type": "code",
   "execution_count": null,
   "metadata": {},
   "outputs": [],
   "source": [
    "# Best params:\n",
    "#{'fitting__C': 1, 'fitting__penalty': 'l1', 'scaling__with_mean': 0.5}"
   ]
  },
  {
   "cell_type": "markdown",
   "metadata": {},
   "source": [
    "Определяем новую метрику: каждому клиенту ставим в соответствие самый вероятный сценарий y_hat $ \\in $ {0/1}.\n",
    " SUM over k =1,n ( по всем парам клиент-сценарий): I{y_hat_i = y_i}\n",
    "*Так как для каждого сценария есть ограничение по количеству, то определяем top для каждого сценария\n"
   ]
  },
  {
   "cell_type": "code",
   "execution_count": 136,
   "metadata": {
    "scrolled": true
   },
   "outputs": [
    {
     "data": {
      "image/png": "[encoded data removed]",
      "text/plain": [
       "<matplotlib.figure.Figure at 0x6c97329128>"
      ]
     },
     "metadata": {},
     "output_type": "display_data"
    }
   ],
   "source": [
    "fig, axes = plt.subplots(1,2, figsize=(10,4))\n",
    "axes[0].hist(pred_prob_tr, bins=100, color='red')\n",
    "axes[0].title.set_text('Predicted probabilities train')\n",
    "axes[1].hist(pred_prob_ts, bins=100, color='blue')\n",
    "axes[1].title.set_text('Predicted probabilities test')"
   ]
  },
  {
   "cell_type": "code",
   "execution_count": 138,
   "metadata": {
    "scrolled": true
   },
   "outputs": [
    {
     "data": {
      "image/png": "[encoded data removed]",
      "text/plain": [
       "<matplotlib.figure.Figure at 0x6c97bd7438>"
      ]
     },
     "metadata": {},
     "output_type": "display_data"
    }
   ],
   "source": [
    "fig, axes = plt.subplots(1,2, figsize=(10,4))\n",
    "axes[0].hist(pred_prob_tr_full, bins=1000, color='red')\n",
    "axes[0].title.set_text('Predicted probabilities train');\n",
    "axes[1].hist(pred_prob_ts_full, bins=1000, color='blue')\n",
    "axes[1].title.set_text('Predicted probabilities test');"
   ]
  },
  {
   "cell_type": "code",
   "execution_count": 141,
   "metadata": {},
   "outputs": [],
   "source": [
    "#pred_prob_tr_full[X_tr_full.reset_index()['SCENARIO_NAME_f']=='ATM_3'].shape"
   ]
  },
  {
   "cell_type": "code",
   "execution_count": 144,
   "metadata": {},
   "outputs": [
    {
     "data": {
      "text/plain": [
       "Index(['ATM_2', 'ATM_3', 'POS_1', 'POS_2', 'POS_3', 'UVEL_1', 'UVEL_2',\n",
       "       'UVEL_3', 'UVEL_4', 'UVEL_5', 'UVEL_6'],\n",
       "      dtype='object', name='SCENARIO_NAME')"
      ]
     },
     "execution_count": 144,
     "metadata": {},
     "output_type": "execute_result"
    }
   ],
   "source": [
    "X_tr_full.index.levels[2]"
   ]
  },
  {
   "cell_type": "code",
   "execution_count": 143,
   "metadata": {
    "scrolled": true
   },
   "outputs": [
    {
     "data": {
      "image/png": "[encoded data removed]",
      "text/plain": [
       "<matplotlib.figure.Figure at 0x6c99061e48>"
      ]
     },
     "metadata": {},
     "output_type": "display_data"
    }
   ],
   "source": [
    "#cm (colormap)\n",
    "fig, axes = plt.subplots(6, 2, figsize=(10, 30))\n",
    "\n",
    "for i, sc in enumerate(X_tr_full.index.levels[2]):\n",
    "    axes[i // 2, i % 2].hist(\n",
    "        pred_prob_tr_full[X_tr_full.reset_index()['SCENARIO_NAME_f']==sc], \n",
    "        bins=1000,\n",
    "    )\n",
    "    axes[i // 2, i % 2].title.set_text('Predicted probabilities train' + ' ' + sc);"
   ]
  },
  {
   "cell_type": "code",
   "execution_count": null,
   "metadata": {},
   "outputs": [],
   "source": [
    "# plot train/test prob dist by scenario:"
   ]
  },
  {
   "cell_type": "code",
   "execution_count": 333,
   "metadata": {},
   "outputs": [],
   "source": [
    "# R matrix simulation:\n",
    "n_tr = X_tr.shape[0]#40000\n",
    "n_ts = X_ts.shape[0]\n",
    "test_size=0.3\n",
    "#n_ts = int(n*test_size)\n",
    "#n_tr = n - n_ts \n",
    "l = 12\n",
    "np.random.seed(123)\n",
    "theta=0.8\n",
    "R_tr = np.random.binomial(n=1, p=theta, size=n_tr*l).reshape(n_tr,l)\n",
    "R_ts = np.random.binomial(n=1, p=theta, size=n_ts*l).reshape(n_ts,l)"
   ]
  },
  {
   "cell_type": "code",
   "execution_count": 334,
   "metadata": {
    "scrolled": true
   },
   "outputs": [
    {
     "name": "stdout",
     "output_type": "stream",
     "text": [
      "(68212, 12)\n",
      "(29234, 12)\n",
      "(68212, 3)\n",
      "(29234, 3)\n"
     ]
    }
   ],
   "source": [
    "print(R_tr.shape)\n",
    "print(R_ts.shape)\n",
    "print(ids_tr.shape)\n",
    "print(ids_ts.shape)"
   ]
  },
  {
   "cell_type": "code",
   "execution_count": 30,
   "metadata": {},
   "outputs": [],
   "source": [
    "# PROBLEMS WITH INDEX!!!\n",
    "#P_tr = pd.concat([ids_tr, pd.Series(pred_prob_tr)], axis=1, ignore_index=False)\n",
    "#P_ts = pd.concat([ids_ts, pd.Series(pred_prob_ts)], axis=1, ignore_index=False)"
   ]
  },
  {
   "cell_type": "code",
   "execution_count": 159,
   "metadata": {},
   "outputs": [
    {
     "data": {
      "text/html": [
       "<div>\n",
       "<style scoped>\n",
       "    .dataframe tbody tr th:only-of-type {\n",
       "        vertical-align: middle;\n",
       "    }\n",
       "\n",
       "    .dataframe tbody tr th {\n",
       "        vertical-align: top;\n",
       "    }\n",
       "\n",
       "    .dataframe thead th {\n",
       "        text-align: right;\n",
       "    }\n",
       "</style>\n",
       "<table border=\"1\" class=\"dataframe\">\n",
       "  <thead>\n",
       "    <tr style=\"text-align: right;\">\n",
       "      <th></th>\n",
       "      <th>CONTRACT_REF</th>\n",
       "      <th>CLIENT_ID</th>\n",
       "      <th>SCENARIO_NAME</th>\n",
       "      <th>START_DATE</th>\n",
       "      <th>TARGET</th>\n",
       "      <th>SCENARIO_NAME_f</th>\n",
       "      <th>probs</th>\n",
       "    </tr>\n",
       "  </thead>\n",
       "  <tbody>\n",
       "    <tr>\n",
       "      <th>0</th>\n",
       "      <td>273-P-44373697</td>\n",
       "      <td>103676920</td>\n",
       "      <td>POS_3</td>\n",
       "      <td>2016-11-24</td>\n",
       "      <td>0</td>\n",
       "      <td>UVEL_1</td>\n",
       "      <td>0.032707</td>\n",
       "    </tr>\n",
       "    <tr>\n",
       "      <th>1</th>\n",
       "      <td>273-P-44373697</td>\n",
       "      <td>103676920</td>\n",
       "      <td>POS_3</td>\n",
       "      <td>2016-11-24</td>\n",
       "      <td>0</td>\n",
       "      <td>UVEL_2</td>\n",
       "      <td>0.027343</td>\n",
       "    </tr>\n",
       "    <tr>\n",
       "      <th>2</th>\n",
       "      <td>273-P-44373697</td>\n",
       "      <td>103676920</td>\n",
       "      <td>POS_3</td>\n",
       "      <td>2016-11-24</td>\n",
       "      <td>0</td>\n",
       "      <td>UVEL_3</td>\n",
       "      <td>0.034445</td>\n",
       "    </tr>\n",
       "    <tr>\n",
       "      <th>3</th>\n",
       "      <td>273-P-44373697</td>\n",
       "      <td>103676920</td>\n",
       "      <td>POS_3</td>\n",
       "      <td>2016-11-24</td>\n",
       "      <td>0</td>\n",
       "      <td>UVEL_4</td>\n",
       "      <td>0.024198</td>\n",
       "    </tr>\n",
       "    <tr>\n",
       "      <th>4</th>\n",
       "      <td>273-P-44373697</td>\n",
       "      <td>103676920</td>\n",
       "      <td>POS_3</td>\n",
       "      <td>2016-11-24</td>\n",
       "      <td>0</td>\n",
       "      <td>UVEL_5</td>\n",
       "      <td>0.028425</td>\n",
       "    </tr>\n",
       "    <tr>\n",
       "      <th>5</th>\n",
       "      <td>273-P-44373697</td>\n",
       "      <td>103676920</td>\n",
       "      <td>POS_3</td>\n",
       "      <td>2016-11-24</td>\n",
       "      <td>0</td>\n",
       "      <td>UVEL_6</td>\n",
       "      <td>0.017517</td>\n",
       "    </tr>\n",
       "    <tr>\n",
       "      <th>6</th>\n",
       "      <td>273-P-44373697</td>\n",
       "      <td>103676920</td>\n",
       "      <td>POS_3</td>\n",
       "      <td>2016-11-24</td>\n",
       "      <td>0</td>\n",
       "      <td>POS_1</td>\n",
       "      <td>0.037360</td>\n",
       "    </tr>\n",
       "    <tr>\n",
       "      <th>7</th>\n",
       "      <td>273-P-44373697</td>\n",
       "      <td>103676920</td>\n",
       "      <td>POS_3</td>\n",
       "      <td>2016-11-24</td>\n",
       "      <td>0</td>\n",
       "      <td>POS_2</td>\n",
       "      <td>0.031026</td>\n",
       "    </tr>\n",
       "    <tr>\n",
       "      <th>8</th>\n",
       "      <td>273-P-44373697</td>\n",
       "      <td>103676920</td>\n",
       "      <td>POS_3</td>\n",
       "      <td>2016-11-24</td>\n",
       "      <td>0</td>\n",
       "      <td>POS_3</td>\n",
       "      <td>0.053584</td>\n",
       "    </tr>\n",
       "    <tr>\n",
       "      <th>9</th>\n",
       "      <td>273-P-44373697</td>\n",
       "      <td>103676920</td>\n",
       "      <td>POS_3</td>\n",
       "      <td>2016-11-24</td>\n",
       "      <td>0</td>\n",
       "      <td>ATM_1</td>\n",
       "      <td>0.003924</td>\n",
       "    </tr>\n",
       "    <tr>\n",
       "      <th>10</th>\n",
       "      <td>273-P-44373697</td>\n",
       "      <td>103676920</td>\n",
       "      <td>POS_3</td>\n",
       "      <td>2016-11-24</td>\n",
       "      <td>0</td>\n",
       "      <td>ATM_2</td>\n",
       "      <td>0.033592</td>\n",
       "    </tr>\n",
       "    <tr>\n",
       "      <th>11</th>\n",
       "      <td>273-P-44373697</td>\n",
       "      <td>103676920</td>\n",
       "      <td>POS_3</td>\n",
       "      <td>2016-11-24</td>\n",
       "      <td>0</td>\n",
       "      <td>ATM_3</td>\n",
       "      <td>0.024266</td>\n",
       "    </tr>\n",
       "    <tr>\n",
       "      <th>12</th>\n",
       "      <td>271-P-87545684</td>\n",
       "      <td>104414997</td>\n",
       "      <td>POS_3</td>\n",
       "      <td>2017-03-21</td>\n",
       "      <td>0</td>\n",
       "      <td>UVEL_1</td>\n",
       "      <td>0.065474</td>\n",
       "    </tr>\n",
       "    <tr>\n",
       "      <th>13</th>\n",
       "      <td>271-P-87545684</td>\n",
       "      <td>104414997</td>\n",
       "      <td>POS_3</td>\n",
       "      <td>2017-03-21</td>\n",
       "      <td>0</td>\n",
       "      <td>UVEL_2</td>\n",
       "      <td>0.055044</td>\n",
       "    </tr>\n",
       "    <tr>\n",
       "      <th>14</th>\n",
       "      <td>271-P-87545684</td>\n",
       "      <td>104414997</td>\n",
       "      <td>POS_3</td>\n",
       "      <td>2017-03-21</td>\n",
       "      <td>0</td>\n",
       "      <td>UVEL_3</td>\n",
       "      <td>0.068830</td>\n",
       "    </tr>\n",
       "    <tr>\n",
       "      <th>15</th>\n",
       "      <td>271-P-87545684</td>\n",
       "      <td>104414997</td>\n",
       "      <td>POS_3</td>\n",
       "      <td>2017-03-21</td>\n",
       "      <td>0</td>\n",
       "      <td>UVEL_4</td>\n",
       "      <td>0.048872</td>\n",
       "    </tr>\n",
       "    <tr>\n",
       "      <th>16</th>\n",
       "      <td>271-P-87545684</td>\n",
       "      <td>104414997</td>\n",
       "      <td>POS_3</td>\n",
       "      <td>2017-03-21</td>\n",
       "      <td>0</td>\n",
       "      <td>UVEL_5</td>\n",
       "      <td>0.057156</td>\n",
       "    </tr>\n",
       "    <tr>\n",
       "      <th>17</th>\n",
       "      <td>271-P-87545684</td>\n",
       "      <td>104414997</td>\n",
       "      <td>POS_3</td>\n",
       "      <td>2017-03-21</td>\n",
       "      <td>0</td>\n",
       "      <td>UVEL_6</td>\n",
       "      <td>0.035627</td>\n",
       "    </tr>\n",
       "    <tr>\n",
       "      <th>18</th>\n",
       "      <td>271-P-87545684</td>\n",
       "      <td>104414997</td>\n",
       "      <td>POS_3</td>\n",
       "      <td>2017-03-21</td>\n",
       "      <td>0</td>\n",
       "      <td>POS_1</td>\n",
       "      <td>0.074430</td>\n",
       "    </tr>\n",
       "    <tr>\n",
       "      <th>19</th>\n",
       "      <td>271-P-87545684</td>\n",
       "      <td>104414997</td>\n",
       "      <td>POS_3</td>\n",
       "      <td>2017-03-21</td>\n",
       "      <td>0</td>\n",
       "      <td>POS_2</td>\n",
       "      <td>0.062219</td>\n",
       "    </tr>\n",
       "    <tr>\n",
       "      <th>20</th>\n",
       "      <td>271-P-87545684</td>\n",
       "      <td>104414997</td>\n",
       "      <td>POS_3</td>\n",
       "      <td>2017-03-21</td>\n",
       "      <td>0</td>\n",
       "      <td>POS_3</td>\n",
       "      <td>0.104997</td>\n",
       "    </tr>\n",
       "    <tr>\n",
       "      <th>21</th>\n",
       "      <td>271-P-87545684</td>\n",
       "      <td>104414997</td>\n",
       "      <td>POS_3</td>\n",
       "      <td>2017-03-21</td>\n",
       "      <td>0</td>\n",
       "      <td>ATM_1</td>\n",
       "      <td>0.008097</td>\n",
       "    </tr>\n",
       "    <tr>\n",
       "      <th>22</th>\n",
       "      <td>271-P-87545684</td>\n",
       "      <td>104414997</td>\n",
       "      <td>POS_3</td>\n",
       "      <td>2017-03-21</td>\n",
       "      <td>0</td>\n",
       "      <td>ATM_2</td>\n",
       "      <td>0.067185</td>\n",
       "    </tr>\n",
       "    <tr>\n",
       "      <th>23</th>\n",
       "      <td>271-P-87545684</td>\n",
       "      <td>104414997</td>\n",
       "      <td>POS_3</td>\n",
       "      <td>2017-03-21</td>\n",
       "      <td>0</td>\n",
       "      <td>ATM_3</td>\n",
       "      <td>0.049007</td>\n",
       "    </tr>\n",
       "  </tbody>\n",
       "</table>\n",
       "</div>"
      ],
      "text/plain": [
       "      CONTRACT_REF  CLIENT_ID SCENARIO_NAME START_DATE  TARGET  \\\n",
       "0   273-P-44373697  103676920         POS_3 2016-11-24       0   \n",
       "1   273-P-44373697  103676920         POS_3 2016-11-24       0   \n",
       "2   273-P-44373697  103676920         POS_3 2016-11-24       0   \n",
       "3   273-P-44373697  103676920         POS_3 2016-11-24       0   \n",
       "4   273-P-44373697  103676920         POS_3 2016-11-24       0   \n",
       "5   273-P-44373697  103676920         POS_3 2016-11-24       0   \n",
       "6   273-P-44373697  103676920         POS_3 2016-11-24       0   \n",
       "7   273-P-44373697  103676920         POS_3 2016-11-24       0   \n",
       "8   273-P-44373697  103676920         POS_3 2016-11-24       0   \n",
       "9   273-P-44373697  103676920         POS_3 2016-11-24       0   \n",
       "10  273-P-44373697  103676920         POS_3 2016-11-24       0   \n",
       "11  273-P-44373697  103676920         POS_3 2016-11-24       0   \n",
       "12  271-P-87545684  104414997         POS_3 2017-03-21       0   \n",
       "13  271-P-87545684  104414997         POS_3 2017-03-21       0   \n",
       "14  271-P-87545684  104414997         POS_3 2017-03-21       0   \n",
       "15  271-P-87545684  104414997         POS_3 2017-03-21       0   \n",
       "16  271-P-87545684  104414997         POS_3 2017-03-21       0   \n",
       "17  271-P-87545684  104414997         POS_3 2017-03-21       0   \n",
       "18  271-P-87545684  104414997         POS_3 2017-03-21       0   \n",
       "19  271-P-87545684  104414997         POS_3 2017-03-21       0   \n",
       "20  271-P-87545684  104414997         POS_3 2017-03-21       0   \n",
       "21  271-P-87545684  104414997         POS_3 2017-03-21       0   \n",
       "22  271-P-87545684  104414997         POS_3 2017-03-21       0   \n",
       "23  271-P-87545684  104414997         POS_3 2017-03-21       0   \n",
       "\n",
       "   SCENARIO_NAME_f     probs  \n",
       "0           UVEL_1  0.032707  \n",
       "1           UVEL_2  0.027343  \n",
       "2           UVEL_3  0.034445  \n",
       "3           UVEL_4  0.024198  \n",
       "4           UVEL_5  0.028425  \n",
       "5           UVEL_6  0.017517  \n",
       "6            POS_1  0.037360  \n",
       "7            POS_2  0.031026  \n",
       "8            POS_3  0.053584  \n",
       "9            ATM_1  0.003924  \n",
       "10           ATM_2  0.033592  \n",
       "11           ATM_3  0.024266  \n",
       "12          UVEL_1  0.065474  \n",
       "13          UVEL_2  0.055044  \n",
       "14          UVEL_3  0.068830  \n",
       "15          UVEL_4  0.048872  \n",
       "16          UVEL_5  0.057156  \n",
       "17          UVEL_6  0.035627  \n",
       "18           POS_1  0.074430  \n",
       "19           POS_2  0.062219  \n",
       "20           POS_3  0.104997  \n",
       "21           ATM_1  0.008097  \n",
       "22           ATM_2  0.067185  \n",
       "23           ATM_3  0.049007  "
      ]
     },
     "execution_count": 159,
     "metadata": {},
     "output_type": "execute_result"
    }
   ],
   "source": [
    "P_tr = X_tr_full.copy()\n",
    "P_tr = P_tr.assign(probs = pred_prob_tr_full)\n",
    "P_tr = P_tr[['probs']].reset_index()\n",
    "P_tr.head(24)"
   ]
  },
  {
   "cell_type": "code",
   "execution_count": 162,
   "metadata": {
    "scrolled": false
   },
   "outputs": [
    {
     "data": {
      "text/html": [
       "<div>\n",
       "<style scoped>\n",
       "    .dataframe tbody tr th:only-of-type {\n",
       "        vertical-align: middle;\n",
       "    }\n",
       "\n",
       "    .dataframe tbody tr th {\n",
       "        vertical-align: top;\n",
       "    }\n",
       "\n",
       "    .dataframe thead th {\n",
       "        text-align: right;\n",
       "    }\n",
       "</style>\n",
       "<table border=\"1\" class=\"dataframe\">\n",
       "  <thead>\n",
       "    <tr style=\"text-align: right;\">\n",
       "      <th></th>\n",
       "      <th></th>\n",
       "      <th></th>\n",
       "      <th></th>\n",
       "      <th>SCENARIO_NAME_f</th>\n",
       "      <th>ATM_1</th>\n",
       "      <th>ATM_2</th>\n",
       "      <th>ATM_3</th>\n",
       "      <th>POS_1</th>\n",
       "      <th>POS_2</th>\n",
       "      <th>POS_3</th>\n",
       "      <th>UVEL_1</th>\n",
       "      <th>UVEL_2</th>\n",
       "      <th>UVEL_3</th>\n",
       "      <th>UVEL_4</th>\n",
       "      <th>UVEL_5</th>\n",
       "      <th>UVEL_6</th>\n",
       "      <th>top_sc</th>\n",
       "    </tr>\n",
       "    <tr>\n",
       "      <th>CONTRACT_REF</th>\n",
       "      <th>CLIENT_ID</th>\n",
       "      <th>SCENARIO_NAME</th>\n",
       "      <th>TARGET</th>\n",
       "      <th>START_DATE</th>\n",
       "      <th></th>\n",
       "      <th></th>\n",
       "      <th></th>\n",
       "      <th></th>\n",
       "      <th></th>\n",
       "      <th></th>\n",
       "      <th></th>\n",
       "      <th></th>\n",
       "      <th></th>\n",
       "      <th></th>\n",
       "      <th></th>\n",
       "      <th></th>\n",
       "      <th></th>\n",
       "    </tr>\n",
       "  </thead>\n",
       "  <tbody>\n",
       "    <tr>\n",
       "      <th>271-P-00002110</th>\n",
       "      <th>103137119</th>\n",
       "      <th>POS_3</th>\n",
       "      <th>0</th>\n",
       "      <th>2017-03-21</th>\n",
       "      <td>0.006139</td>\n",
       "      <td>0.051686</td>\n",
       "      <td>0.037532</td>\n",
       "      <td>0.057362</td>\n",
       "      <td>0.047806</td>\n",
       "      <td>0.081537</td>\n",
       "      <td>0.050348</td>\n",
       "      <td>0.042218</td>\n",
       "      <td>0.052973</td>\n",
       "      <td>0.037428</td>\n",
       "      <td>0.043861</td>\n",
       "      <td>0.027195</td>\n",
       "      <td>POS_3</td>\n",
       "    </tr>\n",
       "    <tr>\n",
       "      <th>271-P-00004389</th>\n",
       "      <th>109846924</th>\n",
       "      <th>UVEL_5</th>\n",
       "      <th>0</th>\n",
       "      <th>2017-04-22</th>\n",
       "      <td>0.003461</td>\n",
       "      <td>0.029731</td>\n",
       "      <td>0.021454</td>\n",
       "      <td>0.033081</td>\n",
       "      <td>0.027452</td>\n",
       "      <td>0.047538</td>\n",
       "      <td>0.028945</td>\n",
       "      <td>0.024183</td>\n",
       "      <td>0.030489</td>\n",
       "      <td>0.021393</td>\n",
       "      <td>0.025142</td>\n",
       "      <td>0.015474</td>\n",
       "      <td>POS_3</td>\n",
       "    </tr>\n",
       "    <tr>\n",
       "      <th>271-P-00010170</th>\n",
       "      <th>103027265</th>\n",
       "      <th>ATM_2</th>\n",
       "      <th>0</th>\n",
       "      <th>2017-04-08</th>\n",
       "      <td>0.006429</td>\n",
       "      <td>0.054005</td>\n",
       "      <td>0.039242</td>\n",
       "      <td>0.059919</td>\n",
       "      <td>0.049960</td>\n",
       "      <td>0.085075</td>\n",
       "      <td>0.052610</td>\n",
       "      <td>0.044132</td>\n",
       "      <td>0.055346</td>\n",
       "      <td>0.039134</td>\n",
       "      <td>0.045846</td>\n",
       "      <td>0.028449</td>\n",
       "      <td>POS_3</td>\n",
       "    </tr>\n",
       "    <tr>\n",
       "      <th>271-P-00010220</th>\n",
       "      <th>105047976</th>\n",
       "      <th>UVEL_2</th>\n",
       "      <th>0</th>\n",
       "      <th>2017-01-23</th>\n",
       "      <td>0.001956</td>\n",
       "      <td>0.016994</td>\n",
       "      <td>0.012218</td>\n",
       "      <td>0.018937</td>\n",
       "      <td>0.015676</td>\n",
       "      <td>0.027388</td>\n",
       "      <td>0.016539</td>\n",
       "      <td>0.013789</td>\n",
       "      <td>0.017433</td>\n",
       "      <td>0.012183</td>\n",
       "      <td>0.014342</td>\n",
       "      <td>0.008790</td>\n",
       "      <td>POS_3</td>\n",
       "    </tr>\n",
       "    <tr>\n",
       "      <th>271-P-00016607</th>\n",
       "      <th>109974491</th>\n",
       "      <th>UVEL_5</th>\n",
       "      <th>0</th>\n",
       "      <th>2017-04-22</th>\n",
       "      <td>0.003211</td>\n",
       "      <td>0.027641</td>\n",
       "      <td>0.019933</td>\n",
       "      <td>0.030762</td>\n",
       "      <td>0.025518</td>\n",
       "      <td>0.044253</td>\n",
       "      <td>0.026908</td>\n",
       "      <td>0.022473</td>\n",
       "      <td>0.028347</td>\n",
       "      <td>0.019877</td>\n",
       "      <td>0.023367</td>\n",
       "      <td>0.014371</td>\n",
       "      <td>POS_3</td>\n",
       "    </tr>\n",
       "  </tbody>\n",
       "</table>\n",
       "</div>"
      ],
      "text/plain": [
       "SCENARIO_NAME_f                                              ATM_1     ATM_2  \\\n",
       "CONTRACT_REF   CLIENT_ID SCENARIO_NAME TARGET START_DATE                       \n",
       "271-P-00002110 103137119 POS_3         0      2017-03-21  0.006139  0.051686   \n",
       "271-P-00004389 109846924 UVEL_5        0      2017-04-22  0.003461  0.029731   \n",
       "271-P-00010170 103027265 ATM_2         0      2017-04-08  0.006429  0.054005   \n",
       "271-P-00010220 105047976 UVEL_2        0      2017-01-23  0.001956  0.016994   \n",
       "271-P-00016607 109974491 UVEL_5        0      2017-04-22  0.003211  0.027641   \n",
       "\n",
       "SCENARIO_NAME_f                                              ATM_3     POS_1  \\\n",
       "CONTRACT_REF   CLIENT_ID SCENARIO_NAME TARGET START_DATE                       \n",
       "271-P-00002110 103137119 POS_3         0      2017-03-21  0.037532  0.057362   \n",
       "271-P-00004389 109846924 UVEL_5        0      2017-04-22  0.021454  0.033081   \n",
       "271-P-00010170 103027265 ATM_2         0      2017-04-08  0.039242  0.059919   \n",
       "271-P-00010220 105047976 UVEL_2        0      2017-01-23  0.012218  0.018937   \n",
       "271-P-00016607 109974491 UVEL_5        0      2017-04-22  0.019933  0.030762   \n",
       "\n",
       "SCENARIO_NAME_f                                              POS_2     POS_3  \\\n",
       "CONTRACT_REF   CLIENT_ID SCENARIO_NAME TARGET START_DATE                       \n",
       "271-P-00002110 103137119 POS_3         0      2017-03-21  0.047806  0.081537   \n",
       "271-P-00004389 109846924 UVEL_5        0      2017-04-22  0.027452  0.047538   \n",
       "271-P-00010170 103027265 ATM_2         0      2017-04-08  0.049960  0.085075   \n",
       "271-P-00010220 105047976 UVEL_2        0      2017-01-23  0.015676  0.027388   \n",
       "271-P-00016607 109974491 UVEL_5        0      2017-04-22  0.025518  0.044253   \n",
       "\n",
       "SCENARIO_NAME_f                                             UVEL_1    UVEL_2  \\\n",
       "CONTRACT_REF   CLIENT_ID SCENARIO_NAME TARGET START_DATE                       \n",
       "271-P-00002110 103137119 POS_3         0      2017-03-21  0.050348  0.042218   \n",
       "271-P-00004389 109846924 UVEL_5        0      2017-04-22  0.028945  0.024183   \n",
       "271-P-00010170 103027265 ATM_2         0      2017-04-08  0.052610  0.044132   \n",
       "271-P-00010220 105047976 UVEL_2        0      2017-01-23  0.016539  0.013789   \n",
       "271-P-00016607 109974491 UVEL_5        0      2017-04-22  0.026908  0.022473   \n",
       "\n",
       "SCENARIO_NAME_f                                             UVEL_3    UVEL_4  \\\n",
       "CONTRACT_REF   CLIENT_ID SCENARIO_NAME TARGET START_DATE                       \n",
       "271-P-00002110 103137119 POS_3         0      2017-03-21  0.052973  0.037428   \n",
       "271-P-00004389 109846924 UVEL_5        0      2017-04-22  0.030489  0.021393   \n",
       "271-P-00010170 103027265 ATM_2         0      2017-04-08  0.055346  0.039134   \n",
       "271-P-00010220 105047976 UVEL_2        0      2017-01-23  0.017433  0.012183   \n",
       "271-P-00016607 109974491 UVEL_5        0      2017-04-22  0.028347  0.019877   \n",
       "\n",
       "SCENARIO_NAME_f                                             UVEL_5    UVEL_6  \\\n",
       "CONTRACT_REF   CLIENT_ID SCENARIO_NAME TARGET START_DATE                       \n",
       "271-P-00002110 103137119 POS_3         0      2017-03-21  0.043861  0.027195   \n",
       "271-P-00004389 109846924 UVEL_5        0      2017-04-22  0.025142  0.015474   \n",
       "271-P-00010170 103027265 ATM_2         0      2017-04-08  0.045846  0.028449   \n",
       "271-P-00010220 105047976 UVEL_2        0      2017-01-23  0.014342  0.008790   \n",
       "271-P-00016607 109974491 UVEL_5        0      2017-04-22  0.023367  0.014371   \n",
       "\n",
       "SCENARIO_NAME_f                                          top_sc  \n",
       "CONTRACT_REF   CLIENT_ID SCENARIO_NAME TARGET START_DATE         \n",
       "271-P-00002110 103137119 POS_3         0      2017-03-21  POS_3  \n",
       "271-P-00004389 109846924 UVEL_5        0      2017-04-22  POS_3  \n",
       "271-P-00010170 103027265 ATM_2         0      2017-04-08  POS_3  \n",
       "271-P-00010220 105047976 UVEL_2        0      2017-01-23  POS_3  \n",
       "271-P-00016607 109974491 UVEL_5        0      2017-04-22  POS_3  "
      ]
     },
     "execution_count": 162,
     "metadata": {},
     "output_type": "execute_result"
    }
   ],
   "source": [
    "P_tr_long = P_tr.pivot_table(\n",
    "    values='probs', \n",
    "    index=['CONTRACT_REF', 'CLIENT_ID', 'SCENARIO_NAME', 'TARGET', 'START_DATE'], \n",
    "    columns=['SCENARIO_NAME_f'],\n",
    ")\n",
    "\n",
    "# P_tr_long = pd.DataFrame(\n",
    "#     data = P_tr_long.values * R_tr,\n",
    "#     columns = P_tr_long.columns,\n",
    "#     index = P_tr_long.index\n",
    "# )\n",
    "\n",
    "P_tr_long = P_tr_long.assign(top_sc = P_tr_long.idxmax(axis=1))\n",
    "\n",
    "P_tr_long.head()"
   ]
  },
  {
   "cell_type": "code",
   "execution_count": 168,
   "metadata": {},
   "outputs": [],
   "source": [
    "P_tr_long_1 = P_tr_long.drop(['POS_3','top_sc'], axis=1)\n",
    "P_tr_long_1 = P_tr_long_1.assign(top_sc_2 = P_tr_long_1.idxmax(axis=1))"
   ]
  },
  {
   "cell_type": "code",
   "execution_count": 169,
   "metadata": {
    "scrolled": false
   },
   "outputs": [
    {
     "data": {
      "text/plain": [
       "POS_3    77956\n",
       "Name: top_sc, dtype: int64"
      ]
     },
     "execution_count": 169,
     "metadata": {},
     "output_type": "execute_result"
    }
   ],
   "source": [
    "P_tr_long['top_sc'].value_counts()"
   ]
  },
  {
   "cell_type": "code",
   "execution_count": 170,
   "metadata": {},
   "outputs": [
    {
     "data": {
      "text/plain": [
       "POS_1    77956\n",
       "Name: top_sc_2, dtype: int64"
      ]
     },
     "execution_count": 170,
     "metadata": {},
     "output_type": "execute_result"
    }
   ],
   "source": [
    "P_tr_long_1['top_sc_2'].value_counts()"
   ]
  },
  {
   "cell_type": "code",
   "execution_count": 142,
   "metadata": {},
   "outputs": [
    {
     "data": {
      "text/html": [
       "<div>\n",
       "<style scoped>\n",
       "    .dataframe tbody tr th:only-of-type {\n",
       "        vertical-align: middle;\n",
       "    }\n",
       "\n",
       "    .dataframe tbody tr th {\n",
       "        vertical-align: top;\n",
       "    }\n",
       "\n",
       "    .dataframe thead th {\n",
       "        text-align: right;\n",
       "    }\n",
       "</style>\n",
       "<table border=\"1\" class=\"dataframe\">\n",
       "  <thead>\n",
       "    <tr style=\"text-align: right;\">\n",
       "      <th></th>\n",
       "      <th>TARGET</th>\n",
       "      <th>CLIENT_ID</th>\n",
       "    </tr>\n",
       "    <tr>\n",
       "      <th>SCENARIO_NAME</th>\n",
       "      <th></th>\n",
       "      <th></th>\n",
       "    </tr>\n",
       "  </thead>\n",
       "  <tbody>\n",
       "    <tr>\n",
       "      <th>POS_1</th>\n",
       "      <td>0.152908</td>\n",
       "      <td>2459</td>\n",
       "    </tr>\n",
       "    <tr>\n",
       "      <th>UVEL_3</th>\n",
       "      <td>0.099837</td>\n",
       "      <td>2454</td>\n",
       "    </tr>\n",
       "    <tr>\n",
       "      <th>UVEL_1</th>\n",
       "      <td>0.073150</td>\n",
       "      <td>3527</td>\n",
       "    </tr>\n",
       "    <tr>\n",
       "      <th>POS_3</th>\n",
       "      <td>0.068110</td>\n",
       "      <td>18984</td>\n",
       "    </tr>\n",
       "    <tr>\n",
       "      <th>POS_2</th>\n",
       "      <td>0.050446</td>\n",
       "      <td>10863</td>\n",
       "    </tr>\n",
       "    <tr>\n",
       "      <th>UVEL_4</th>\n",
       "      <td>0.040017</td>\n",
       "      <td>26189</td>\n",
       "    </tr>\n",
       "    <tr>\n",
       "      <th>UVEL_5</th>\n",
       "      <td>0.039964</td>\n",
       "      <td>5555</td>\n",
       "    </tr>\n",
       "    <tr>\n",
       "      <th>ATM_3</th>\n",
       "      <td>0.030435</td>\n",
       "      <td>12847</td>\n",
       "    </tr>\n",
       "    <tr>\n",
       "      <th>UVEL_2</th>\n",
       "      <td>0.027259</td>\n",
       "      <td>1981</td>\n",
       "    </tr>\n",
       "    <tr>\n",
       "      <th>ATM_2</th>\n",
       "      <td>0.016513</td>\n",
       "      <td>4542</td>\n",
       "    </tr>\n",
       "    <tr>\n",
       "      <th>UVEL_6</th>\n",
       "      <td>0.016408</td>\n",
       "      <td>8045</td>\n",
       "    </tr>\n",
       "  </tbody>\n",
       "</table>\n",
       "</div>"
      ],
      "text/plain": [
       "                 TARGET  CLIENT_ID\n",
       "SCENARIO_NAME                     \n",
       "POS_1          0.152908       2459\n",
       "UVEL_3         0.099837       2454\n",
       "UVEL_1         0.073150       3527\n",
       "POS_3          0.068110      18984\n",
       "POS_2          0.050446      10863\n",
       "UVEL_4         0.040017      26189\n",
       "UVEL_5         0.039964       5555\n",
       "ATM_3          0.030435      12847\n",
       "UVEL_2         0.027259       1981\n",
       "ATM_2          0.016513       4542\n",
       "UVEL_6         0.016408       8045"
      ]
     },
     "execution_count": 142,
     "metadata": {},
     "output_type": "execute_result"
    }
   ],
   "source": [
    "Xy_train[['CLIENT_ID', 'SCENARIO_NAME', 'TARGET']].groupby(['SCENARIO_NAME'])\\\n",
    "    .agg({\n",
    "        'TARGET': 'mean',\n",
    "        'CLIENT_ID': 'count'\n",
    "    })\\\n",
    "    .sort_values('TARGET', ascending=False)"
   ]
  },
  {
   "cell_type": "code",
   "execution_count": 143,
   "metadata": {
    "scrolled": true
   },
   "outputs": [
    {
     "data": {
      "text/plain": [
       "0.27950643776824036"
      ]
     },
     "execution_count": 143,
     "metadata": {},
     "output_type": "execute_result"
    }
   ],
   "source": [
    "P_tr_long = P_tr_long.reset_index()\n",
    "\n",
    "P_tr_long[\n",
    "    (P_tr_long['SCENARIO_NAME']==P_tr_long['top_sc']) &\n",
    "    (P_tr_long['TARGET']==1)\n",
    "].shape[0] / P_tr_long[P_tr_long['TARGET']==1].shape[0]"
   ]
  },
  {
   "cell_type": "code",
   "execution_count": 144,
   "metadata": {
    "scrolled": true
   },
   "outputs": [
    {
     "data": {
      "text/plain": [
       "1042"
      ]
     },
     "execution_count": 144,
     "metadata": {},
     "output_type": "execute_result"
    }
   ],
   "source": [
    "P_tr_long[\n",
    "    (P_tr_long['SCENARIO_NAME']==P_tr_long['top_sc']) &\n",
    "    (P_tr_long['TARGET']==1)\n",
    "].shape[0]"
   ]
  },
  {
   "cell_type": "code",
   "execution_count": 146,
   "metadata": {
    "scrolled": true
   },
   "outputs": [],
   "source": [
    "#P_tr_long[P_tr_long['TARGET']==1]"
   ]
  },
  {
   "cell_type": "code",
   "execution_count": 352,
   "metadata": {},
   "outputs": [
    {
     "data": {
      "text/plain": [
       "(4642, 153)"
      ]
     },
     "execution_count": 352,
     "metadata": {},
     "output_type": "execute_result"
    }
   ],
   "source": [
    "Xy_train[Xy_train['TARGET']==1].shape"
   ]
  },
  {
   "cell_type": "code",
   "execution_count": 147,
   "metadata": {},
   "outputs": [],
   "source": [
    "#P_tr_long.head(30)"
   ]
  },
  {
   "cell_type": "code",
   "execution_count": 171,
   "metadata": {},
   "outputs": [],
   "source": [
    "tmp = P_tr_long['POS_3'] - P_tr_long['POS_1']"
   ]
  },
  {
   "cell_type": "code",
   "execution_count": 172,
   "metadata": {},
   "outputs": [
    {
     "data": {
      "image/png": "[encoded data removed]",
      "text/plain": [
       "<matplotlib.figure.Figure at 0x42b30dbfd0>"
      ]
     },
     "metadata": {},
     "output_type": "display_data"
    }
   ],
   "source": [
    "tmp.hist(bins=500);"
   ]
  },
  {
   "cell_type": "code",
   "execution_count": 365,
   "metadata": {},
   "outputs": [
    {
     "data": {
      "text/html": [
       "<div>\n",
       "<style scoped>\n",
       "    .dataframe tbody tr th:only-of-type {\n",
       "        vertical-align: middle;\n",
       "    }\n",
       "\n",
       "    .dataframe tbody tr th {\n",
       "        vertical-align: top;\n",
       "    }\n",
       "\n",
       "    .dataframe thead th {\n",
       "        text-align: right;\n",
       "    }\n",
       "</style>\n",
       "<table border=\"1\" class=\"dataframe\">\n",
       "  <thead>\n",
       "    <tr style=\"text-align: right;\">\n",
       "      <th></th>\n",
       "      <th>SCENARIO_NAME</th>\n",
       "      <th>ATM</th>\n",
       "      <th>ANY_POS</th>\n",
       "      <th>BONUS_POS</th>\n",
       "      <th>CATEGORY_POS</th>\n",
       "      <th>MIN_CASHBACK</th>\n",
       "      <th>MAX_CASHBACK</th>\n",
       "      <th>MED_CAHBACK</th>\n",
       "      <th>MIN_SUM_DAY</th>\n",
       "      <th>MIN_SUM_MONTH</th>\n",
       "      <th>key</th>\n",
       "    </tr>\n",
       "  </thead>\n",
       "  <tbody>\n",
       "    <tr>\n",
       "      <th>0</th>\n",
       "      <td>UVEL_1</td>\n",
       "      <td>0</td>\n",
       "      <td>1</td>\n",
       "      <td>0</td>\n",
       "      <td>1</td>\n",
       "      <td>5.00</td>\n",
       "      <td>10.0</td>\n",
       "      <td>6.0</td>\n",
       "      <td>1000</td>\n",
       "      <td>0</td>\n",
       "      <td>1</td>\n",
       "    </tr>\n",
       "    <tr>\n",
       "      <th>1</th>\n",
       "      <td>UVEL_2</td>\n",
       "      <td>0</td>\n",
       "      <td>1</td>\n",
       "      <td>0</td>\n",
       "      <td>0</td>\n",
       "      <td>0.00</td>\n",
       "      <td>10.0</td>\n",
       "      <td>5.3</td>\n",
       "      <td>200</td>\n",
       "      <td>0</td>\n",
       "      <td>1</td>\n",
       "    </tr>\n",
       "    <tr>\n",
       "      <th>2</th>\n",
       "      <td>UVEL_3</td>\n",
       "      <td>0</td>\n",
       "      <td>1</td>\n",
       "      <td>0</td>\n",
       "      <td>0</td>\n",
       "      <td>10.00</td>\n",
       "      <td>15.0</td>\n",
       "      <td>11.0</td>\n",
       "      <td>1000</td>\n",
       "      <td>0</td>\n",
       "      <td>1</td>\n",
       "    </tr>\n",
       "    <tr>\n",
       "      <th>3</th>\n",
       "      <td>UVEL_4</td>\n",
       "      <td>0</td>\n",
       "      <td>1</td>\n",
       "      <td>0</td>\n",
       "      <td>0</td>\n",
       "      <td>0.00</td>\n",
       "      <td>8.3</td>\n",
       "      <td>5.0</td>\n",
       "      <td>1200</td>\n",
       "      <td>0</td>\n",
       "      <td>1</td>\n",
       "    </tr>\n",
       "    <tr>\n",
       "      <th>4</th>\n",
       "      <td>UVEL_5</td>\n",
       "      <td>0</td>\n",
       "      <td>1</td>\n",
       "      <td>0</td>\n",
       "      <td>0</td>\n",
       "      <td>3.75</td>\n",
       "      <td>7.5</td>\n",
       "      <td>6.0</td>\n",
       "      <td>200</td>\n",
       "      <td>0</td>\n",
       "      <td>1</td>\n",
       "    </tr>\n",
       "    <tr>\n",
       "      <th>5</th>\n",
       "      <td>UVEL_6</td>\n",
       "      <td>0</td>\n",
       "      <td>0</td>\n",
       "      <td>0</td>\n",
       "      <td>1</td>\n",
       "      <td>25.00</td>\n",
       "      <td>25.0</td>\n",
       "      <td>25.0</td>\n",
       "      <td>2000</td>\n",
       "      <td>0</td>\n",
       "      <td>1</td>\n",
       "    </tr>\n",
       "    <tr>\n",
       "      <th>6</th>\n",
       "      <td>POS_1</td>\n",
       "      <td>0</td>\n",
       "      <td>0</td>\n",
       "      <td>1</td>\n",
       "      <td>0</td>\n",
       "      <td>5.00</td>\n",
       "      <td>5.0</td>\n",
       "      <td>5.0</td>\n",
       "      <td>0</td>\n",
       "      <td>6000</td>\n",
       "      <td>1</td>\n",
       "    </tr>\n",
       "    <tr>\n",
       "      <th>7</th>\n",
       "      <td>POS_2</td>\n",
       "      <td>0</td>\n",
       "      <td>1</td>\n",
       "      <td>0</td>\n",
       "      <td>0</td>\n",
       "      <td>10.00</td>\n",
       "      <td>10.0</td>\n",
       "      <td>10.0</td>\n",
       "      <td>0</td>\n",
       "      <td>6000</td>\n",
       "      <td>1</td>\n",
       "    </tr>\n",
       "    <tr>\n",
       "      <th>8</th>\n",
       "      <td>POS_3</td>\n",
       "      <td>0</td>\n",
       "      <td>1</td>\n",
       "      <td>0</td>\n",
       "      <td>0</td>\n",
       "      <td>20.00</td>\n",
       "      <td>20.0</td>\n",
       "      <td>20.0</td>\n",
       "      <td>0</td>\n",
       "      <td>6000</td>\n",
       "      <td>1</td>\n",
       "    </tr>\n",
       "    <tr>\n",
       "      <th>9</th>\n",
       "      <td>ATM_1</td>\n",
       "      <td>1</td>\n",
       "      <td>0</td>\n",
       "      <td>0</td>\n",
       "      <td>0</td>\n",
       "      <td>2.00</td>\n",
       "      <td>2.0</td>\n",
       "      <td>2.0</td>\n",
       "      <td>0</td>\n",
       "      <td>6000</td>\n",
       "      <td>1</td>\n",
       "    </tr>\n",
       "    <tr>\n",
       "      <th>10</th>\n",
       "      <td>ATM_2</td>\n",
       "      <td>1</td>\n",
       "      <td>0</td>\n",
       "      <td>1</td>\n",
       "      <td>0</td>\n",
       "      <td>2.00</td>\n",
       "      <td>5.0</td>\n",
       "      <td>3.5</td>\n",
       "      <td>0</td>\n",
       "      <td>6000</td>\n",
       "      <td>1</td>\n",
       "    </tr>\n",
       "    <tr>\n",
       "      <th>11</th>\n",
       "      <td>ATM_3</td>\n",
       "      <td>1</td>\n",
       "      <td>1</td>\n",
       "      <td>0</td>\n",
       "      <td>0</td>\n",
       "      <td>2.00</td>\n",
       "      <td>10.0</td>\n",
       "      <td>6.0</td>\n",
       "      <td>0</td>\n",
       "      <td>6000</td>\n",
       "      <td>1</td>\n",
       "    </tr>\n",
       "  </tbody>\n",
       "</table>\n",
       "</div>"
      ],
      "text/plain": [
       "   SCENARIO_NAME  ATM  ANY_POS  BONUS_POS  CATEGORY_POS  MIN_CASHBACK  \\\n",
       "0         UVEL_1    0        1          0             1          5.00   \n",
       "1         UVEL_2    0        1          0             0          0.00   \n",
       "2         UVEL_3    0        1          0             0         10.00   \n",
       "3         UVEL_4    0        1          0             0          0.00   \n",
       "4         UVEL_5    0        1          0             0          3.75   \n",
       "5         UVEL_6    0        0          0             1         25.00   \n",
       "6          POS_1    0        0          1             0          5.00   \n",
       "7          POS_2    0        1          0             0         10.00   \n",
       "8          POS_3    0        1          0             0         20.00   \n",
       "9          ATM_1    1        0          0             0          2.00   \n",
       "10         ATM_2    1        0          1             0          2.00   \n",
       "11         ATM_3    1        1          0             0          2.00   \n",
       "\n",
       "    MAX_CASHBACK  MED_CAHBACK  MIN_SUM_DAY  MIN_SUM_MONTH  key  \n",
       "0           10.0          6.0         1000              0    1  \n",
       "1           10.0          5.3          200              0    1  \n",
       "2           15.0         11.0         1000              0    1  \n",
       "3            8.3          5.0         1200              0    1  \n",
       "4            7.5          6.0          200              0    1  \n",
       "5           25.0         25.0         2000              0    1  \n",
       "6            5.0          5.0            0           6000    1  \n",
       "7           10.0         10.0            0           6000    1  \n",
       "8           20.0         20.0            0           6000    1  \n",
       "9            2.0          2.0            0           6000    1  \n",
       "10           5.0          3.5            0           6000    1  \n",
       "11          10.0          6.0            0           6000    1  "
      ]
     },
     "execution_count": 365,
     "metadata": {},
     "output_type": "execute_result"
    }
   ],
   "source": [
    "scen_data"
   ]
  },
  {
   "cell_type": "code",
   "execution_count": null,
   "metadata": {},
   "outputs": [],
   "source": []
  }
 ],
 "metadata": {
  "kernelspec": {
   "display_name": "Python 3",
   "language": "python",
   "name": "python3"
  },
  "language_info": {
   "codemirror_mode": {
    "name": "ipython",
    "version": 3
   },
   "file_extension": ".py",
   "mimetype": "text/x-python",
   "name": "python",
   "nbconvert_exporter": "python",
   "pygments_lexer": "ipython3",
   "version": "3.6.4"
  }
 },
 "nbformat": 4,
 "nbformat_minor": 2
}
