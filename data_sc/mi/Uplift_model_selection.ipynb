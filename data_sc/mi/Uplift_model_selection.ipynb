{
 "cells": [
  {
   "cell_type": "markdown",
   "metadata": {},
   "source": [
    "### Выбор наилуйчшей модели Uplift. Максимизация ключевых KPI."
   ]
  },
  {
   "cell_type": "code",
   "execution_count": 1,
   "metadata": {
    "scrolled": true
   },
   "outputs": [
    {
     "name": "stderr",
     "output_type": "stream",
     "text": [
      "C:\\Users\\Liksakov\\AppData\\Local\\Continuum\\anaconda3_2\\lib\\site-packages\\sklearn\\cross_validation.py:41: DeprecationWarning: This module was deprecated in version 0.18 in favor of the model_selection module into which all the refactored classes and functions are moved. Also note that the interface of the new CV iterators are different from that of this module. This module will be removed in 0.20.\n",
      "  \"This module will be removed in 0.20.\", DeprecationWarning)\n"
     ]
    }
   ],
   "source": [
    "import pandas as pd\n",
    "import numpy as np\n",
    "import xgboost as xgb\n",
    "import matplotlib.pyplot as plt\n",
    "\n",
    "from sklearn import metrics, cross_validation\n",
    "from sklearn.utils import shuffle\n",
    "from sklearn.preprocessing import StandardScaler\n",
    "from sklearn.model_selection import train_test_split, GridSearchCV\n",
    "from sklearn.pipeline import Pipeline\n",
    "from sklearn.linear_model import LogisticRegression\n",
    "from imblearn.over_sampling import SMOTE\n",
    "from utils import Dummyfier, prepare, evaluate_clf, uplift, print_metrics #print_metrics_2\n",
    "\n",
    "%matplotlib inline\n",
    "#%pylab inline\n",
    "#!pip install C:/Users/Liksakov/Downloads/imbalanced_learn-0.3.3-py3-none-any.whls"
   ]
  },
  {
   "cell_type": "code",
   "execution_count": 2,
   "metadata": {},
   "outputs": [],
   "source": [
    "# maybe we can make long train_data: hsatck it with CGF==1 and CGF == 0 and make 2*n predictions vector \n",
    "def uplift_at(y_tr, cgf_tr, uplift_tr, \n",
    "              y_ts, cgf_ts, uplift_ts, at=0.4):\n",
    "    \n",
    "    tmp_tr = pd.DataFrame( \n",
    "        data  = np.vstack((y_tr, cgf_tr, uplift_tr)).transpose(),\n",
    "        columns = ['target','cgf','uplift']  \n",
    "        )\n",
    "    tmp_tr.sort_values('uplift', ascending=False, inplace=True)\n",
    "    tmp_tr = tmp_tr.head(int(at*tmp_tr.shape[0]))\n",
    "    real_uplift_tr =  np.round(tmp_tr[tmp_tr['cgf']==0]['target'].mean() - tmp_tr[tmp_tr['cgf']==1]['target'].mean(),4) \n",
    "    if y_ts is not None:\n",
    "            tmp_ts = pd.DataFrame( \n",
    "                data  = np.vstack((y_ts, cgf_ts, uplift_ts)).transpose(),\n",
    "                columns = ['target','cgf','uplift']  \n",
    "                )\n",
    "            tmp_ts.sort_values('uplift', ascending=False, inplace=True)\n",
    "            tmp_ts = tmp_ts.head(int(at*tmp_ts.shape[0]))\n",
    "            real_uplift_ts =  np.round(tmp_ts[tmp_ts['cgf']==0]['target'].mean() - tmp_ts[tmp_ts['cgf']==1]['target'].mean(),4)\n",
    "        \n",
    "    return real_uplift_tr, real_uplift_ts"
   ]
  },
  {
   "cell_type": "code",
   "execution_count": 27,
   "metadata": {},
   "outputs": [],
   "source": [
    "# maybe we can make long train_data: hsatck it with CGF==1 and CGF == 0 and make 2*n predictions vector \n",
    "def KPI_at(y_tr, cgf_tr, uplift_tr, \n",
    "           y_ts, cgf_ts, uplift_ts, \n",
    "           income_df, at=0.5):\n",
    "    \n",
    "    id_cols = ['CLIENT_ID', 'CONTRACT_REF', 'START_DATE']\n",
    "    cgf_tr = cgf_tr.reset_index().merge(income_df, how='left', on=id_cols).set_index(id_cols)\n",
    "    cgf_tr.drop('SCENARIO_NAME_UNI', axis=1, inplace=True)\n",
    "    tmp_tr = pd.DataFrame( \n",
    "        data  = np.vstack((y_tr, cgf_tr.values.T, uplift_tr)).transpose(),\n",
    "        columns = ['target','cgf','income_3','income_6','uplift']  \n",
    "        )\n",
    "    tmp_tr.sort_values('uplift', ascending=False, inplace=True)\n",
    "    tmp_tr = tmp_tr.head(int(at*tmp_tr.shape[0]))\n",
    "    real_uplift_tr =  np.round(tmp_tr[tmp_tr['cgf']==0]['target'].mean() - tmp_tr[tmp_tr['cgf']==1]['target'].mean(),4)\n",
    "    real_inc3_tr = round(np.mean(tmp_tr['income_3']))\n",
    "    real_inc6_tr = round(np.mean(tmp_tr['income_6']))\n",
    "    if y_ts is not None:\n",
    "            cgf_ts = cgf_ts.reset_index().merge(income_df, how='left', on=id_cols).set_index(id_cols)\n",
    "            cgf_ts.drop('SCENARIO_NAME_UNI', axis=1, inplace=True)\n",
    "            tmp_ts = pd.DataFrame( \n",
    "                data  = np.vstack((y_ts, cgf_ts.values.T, uplift_ts)).transpose(),\n",
    "                columns = ['target','cgf','income_3','income_6','uplift']  \n",
    "                )\n",
    "            tmp_ts.sort_values('uplift', ascending=False, inplace=True)\n",
    "            tmp_ts = tmp_ts.head(int(at*tmp_ts.shape[0]))\n",
    "            real_uplift_ts =  np.round(tmp_ts[tmp_ts['cgf']==0]['target'].mean() - tmp_ts[tmp_ts['cgf']==1]['target'].mean(),4)\n",
    "            real_inc3_ts = round(np.mean(tmp_ts['income_3']))\n",
    "            real_inc6_ts = round(np.mean(tmp_ts['income_6']))\n",
    "    \n",
    "    out_df = pd.DataFrame(\n",
    "        data = np.matrix([[ real_uplift_tr, real_inc3_tr ,real_inc6_tr],\n",
    "                       [ real_uplift_ts, real_inc3_ts, real_inc6_ts]]).T,\n",
    "         columns = ['train', 'test'],\n",
    "         index = ['uplift', 'income_3m', 'income_6m']\n",
    "    )     \n",
    "    return out_df"
   ]
  },
  {
   "cell_type": "code",
   "execution_count": 28,
   "metadata": {},
   "outputs": [],
   "source": [
    "def offline_simulate_res(X_train, y_train, seed_split, seed_algo, parms_array, income_data):\n",
    "    # 1. split \n",
    "    X_tr, X_val, y_tr, y_val = train_test_split(X_train, y_train, \n",
    "                                               test_size=0.3,\n",
    "                                               random_state=seed_split,\n",
    "                                               shuffle=True,\n",
    "                                               stratify=X_train['CONTROL_GROUP_FLG'])\n",
    "    # 2.1 set params\n",
    "    xgb_estimator = xgb.XGBClassifier( max_depth = int(parms_array[0]), \n",
    "                                       n_estimators = int(parms_array[1]),\n",
    "                                       learning_rate = parms_array[2],\n",
    "                                       min_child_weight = int(parms_array[3]),\n",
    "                                       objective='binary:logistic',\n",
    "                                       seed = seed_algo)\n",
    "    # 3. Fit.\n",
    "    xgb_estimator.fit(X_tr, y_tr)\n",
    "    \n",
    "    # 4. Get feature importance\n",
    "    importance_xgb = pd.DataFrame(\n",
    "        data = {\n",
    "                'Feature': X_tr.columns.tolist(),\n",
    "                'Importance': xgb_estimator.feature_importances_\n",
    "        })\n",
    "    top_imp_feat = importance_xgb.sort_values('Importance', ascending=False).head(30)\n",
    "\n",
    "    # 5. estimate probs\n",
    "    prob_tr_xgb_0 = xgb_estimator.predict_proba(X_tr.drop('CONTROL_GROUP_FLG', axis=1).assign(CONTROL_GROUP_FLG = 0)[X_tr.columns])[:,1]\n",
    "    prob_tr_xgb_1 = xgb_estimator.predict_proba(X_tr.drop('CONTROL_GROUP_FLG', axis=1).assign(CONTROL_GROUP_FLG = 1)[X_tr.columns])[:,1]\n",
    "    uplift_tr_xgb = prob_tr_xgb_0 - prob_tr_xgb_1\n",
    "\n",
    "    prob_val_xgb_0 = xgb_estimator.predict_proba(X_val.drop('CONTROL_GROUP_FLG', axis=1).assign(CONTROL_GROUP_FLG = 0)[X_val.columns])[:,1]\n",
    "    prob_val_xgb_1 = xgb_estimator.predict_proba(X_val.drop('CONTROL_GROUP_FLG', axis=1).assign(CONTROL_GROUP_FLG = 1)[X_val.columns])[:,1]\n",
    "    uplift_val_xgb = prob_val_xgb_0 - prob_val_xgb_1\n",
    "\n",
    "    # 5. Save results\n",
    "    out = KPI_at(y_tr, X_tr['CONTROL_GROUP_FLG'], uplift_tr_xgb,\n",
    "                 y_val, X_val['CONTROL_GROUP_FLG'], uplift_val_xgb, \n",
    "                 income_data, at=0.5)\n",
    "    return out, top_imp_feat"
   ]
  },
  {
   "cell_type": "code",
   "execution_count": null,
   "metadata": {},
   "outputs": [],
   "source": [
    "def offline_simulate_res_2(X_train, y_train, seed_split, seed_algo, parms_array, income_data):\n",
    "    # 1. split \n",
    "    X_tr, X_val, y_tr, y_val = train_test_split(X_train, y_train, \n",
    "                                               test_size=0.3,\n",
    "                                               random_state=seed_split,\n",
    "                                               shuffle=True,\n",
    "                                               stratify=X_train['CONTROL_GROUP_FLG'])\n",
    "    # 2.1 set params\n",
    "    xgb_estimator = xgb.XGBClassifier( max_depth = int(parms_array[0]), \n",
    "                                       n_estimators = int(parms_array[1]),\n",
    "                                       learning_rate = parms_array[2],\n",
    "                                       min_child_weight = int(parms_array[3]),\n",
    "                                       objective='binary:logistic',\n",
    "                                       seed = seed_algo)\n",
    "    # 3. Fit.\n",
    "    xgb_estimator.fit(X_tr, y_tr)\n",
    "    \n",
    "    # 4. Get feature importance\n",
    "    importance_xgb = pd.DataFrame(\n",
    "        data = {\n",
    "                'Feature': X_tr.columns.tolist(),\n",
    "                'Importance': xgb_estimator.feature_importances_\n",
    "        })\n",
    "    top_imp_feat = importance_xgb.sort_values('Importance', ascending=False).head(30)\n",
    "\n",
    "    # 5. estimate probs\n",
    "    prob_tr_xgb_0 = xgb_estimator.predict_proba(X_tr.drop('CONTROL_GROUP_FLG', axis=1).assign(CONTROL_GROUP_FLG = 0)[X_tr.columns])[:,1]\n",
    "    prob_tr_xgb_1 = xgb_estimator.predict_proba(X_tr.drop('CONTROL_GROUP_FLG', axis=1).assign(CONTROL_GROUP_FLG = 1)[X_tr.columns])[:,1]\n",
    "    uplift_tr_xgb = prob_tr_xgb_0 - prob_tr_xgb_1\n",
    "\n",
    "    prob_val_xgb_0 = xgb_estimator.predict_proba(X_val.drop('CONTROL_GROUP_FLG', axis=1).assign(CONTROL_GROUP_FLG = 0)[X_val.columns])[:,1]\n",
    "    prob_val_xgb_1 = xgb_estimator.predict_proba(X_val.drop('CONTROL_GROUP_FLG', axis=1).assign(CONTROL_GROUP_FLG = 1)[X_val.columns])[:,1]\n",
    "    uplift_val_xgb = prob_val_xgb_0 - prob_val_xgb_1\n",
    "\n",
    "    # 5. Save results\n",
    "    out = KPI_at(y_tr, X_tr['CONTROL_GROUP_FLG'], uplift_tr_xgb,\n",
    "                 y_val, X_val['CONTROL_GROUP_FLG'], uplift_val_xgb, \n",
    "                 income_data, at=0.5)\n",
    "    return out, top_imp_feat"
   ]
  },
  {
   "cell_type": "code",
   "execution_count": 4,
   "metadata": {},
   "outputs": [
    {
     "name": "stdout",
     "output_type": "stream",
     "text": [
      "Train dataset size:  (114720, 215)\n"
     ]
    },
    {
     "data": {
      "text/html": [
       "<div>\n",
       "<style scoped>\n",
       "    .dataframe tbody tr th:only-of-type {\n",
       "        vertical-align: middle;\n",
       "    }\n",
       "\n",
       "    .dataframe tbody tr th {\n",
       "        vertical-align: top;\n",
       "    }\n",
       "\n",
       "    .dataframe thead th {\n",
       "        text-align: right;\n",
       "    }\n",
       "</style>\n",
       "<table border=\"1\" class=\"dataframe\">\n",
       "  <thead>\n",
       "    <tr style=\"text-align: right;\">\n",
       "      <th></th>\n",
       "      <th>CONTRACT_REF</th>\n",
       "      <th>CLIENT_ID</th>\n",
       "      <th>CONTROL_GROUP_FLG</th>\n",
       "      <th>START_DATE</th>\n",
       "      <th>TARGET</th>\n",
       "      <th>11_AddrCity2</th>\n",
       "      <th>11_AddrCountry</th>\n",
       "      <th>12_AddrCity2</th>\n",
       "      <th>12_AddrCountry</th>\n",
       "      <th>13_AddrCity2</th>\n",
       "      <th>...</th>\n",
       "      <th>TXN_TP_POS_N_180</th>\n",
       "      <th>TXN_TP_POS_N_31</th>\n",
       "      <th>TXN_TP_POS_N_90</th>\n",
       "      <th>TXN_TP_POS_SUM_180</th>\n",
       "      <th>TXN_TP_POS_SUM_31</th>\n",
       "      <th>TXN_TP_POS_SUM_90</th>\n",
       "      <th>TXN_TP_Purposeful credit_MAX_180</th>\n",
       "      <th>TXN_TP_Purposeful credit_MEAN_180</th>\n",
       "      <th>TXN_TP_Purposeful credit_N_180</th>\n",
       "      <th>TXN_TP_Purposeful credit_SUM_180</th>\n",
       "    </tr>\n",
       "  </thead>\n",
       "  <tbody>\n",
       "    <tr>\n",
       "      <th>0</th>\n",
       "      <td>273-P-99431598</td>\n",
       "      <td>105098373</td>\n",
       "      <td>N</td>\n",
       "      <td>2017-01-23</td>\n",
       "      <td>1</td>\n",
       "      <td>ГОРЯЧИЙКЛЮЧ</td>\n",
       "      <td>RU</td>\n",
       "      <td>ГОРЯЧИЙКЛЮЧ</td>\n",
       "      <td>RU</td>\n",
       "      <td>КАМЫШИН</td>\n",
       "      <td>...</td>\n",
       "      <td>0.0</td>\n",
       "      <td>0.0</td>\n",
       "      <td>0.0</td>\n",
       "      <td>0.0</td>\n",
       "      <td>0.0</td>\n",
       "      <td>0.0</td>\n",
       "      <td>0.0</td>\n",
       "      <td>0.0</td>\n",
       "      <td>0.0</td>\n",
       "      <td>0.0</td>\n",
       "    </tr>\n",
       "    <tr>\n",
       "      <th>1</th>\n",
       "      <td>274-P-23967129</td>\n",
       "      <td>101763714</td>\n",
       "      <td>N</td>\n",
       "      <td>2017-04-08</td>\n",
       "      <td>1</td>\n",
       "      <td>МУРМАНСК</td>\n",
       "      <td>RU</td>\n",
       "      <td>МУРМАНСК</td>\n",
       "      <td>RU</td>\n",
       "      <td>АХТУБИНСК</td>\n",
       "      <td>...</td>\n",
       "      <td>0.0</td>\n",
       "      <td>0.0</td>\n",
       "      <td>0.0</td>\n",
       "      <td>0.0</td>\n",
       "      <td>0.0</td>\n",
       "      <td>0.0</td>\n",
       "      <td>0.0</td>\n",
       "      <td>0.0</td>\n",
       "      <td>0.0</td>\n",
       "      <td>0.0</td>\n",
       "    </tr>\n",
       "  </tbody>\n",
       "</table>\n",
       "<p>2 rows × 215 columns</p>\n",
       "</div>"
      ],
      "text/plain": [
       "     CONTRACT_REF  CLIENT_ID CONTROL_GROUP_FLG START_DATE  TARGET  \\\n",
       "0  273-P-99431598  105098373                 N 2017-01-23       1   \n",
       "1  274-P-23967129  101763714                 N 2017-04-08       1   \n",
       "\n",
       "  11_AddrCity2 11_AddrCountry 12_AddrCity2 12_AddrCountry 13_AddrCity2  \\\n",
       "0  ГОРЯЧИЙКЛЮЧ             RU  ГОРЯЧИЙКЛЮЧ             RU      КАМЫШИН   \n",
       "1     МУРМАНСК             RU     МУРМАНСК             RU    АХТУБИНСК   \n",
       "\n",
       "                ...                TXN_TP_POS_N_180  TXN_TP_POS_N_31  \\\n",
       "0               ...                             0.0              0.0   \n",
       "1               ...                             0.0              0.0   \n",
       "\n",
       "  TXN_TP_POS_N_90 TXN_TP_POS_SUM_180  TXN_TP_POS_SUM_31  TXN_TP_POS_SUM_90  \\\n",
       "0             0.0                0.0                0.0                0.0   \n",
       "1             0.0                0.0                0.0                0.0   \n",
       "\n",
       "   TXN_TP_Purposeful credit_MAX_180  TXN_TP_Purposeful credit_MEAN_180  \\\n",
       "0                               0.0                                0.0   \n",
       "1                               0.0                                0.0   \n",
       "\n",
       "   TXN_TP_Purposeful credit_N_180 TXN_TP_Purposeful credit_SUM_180  \n",
       "0                             0.0                              0.0  \n",
       "1                             0.0                              0.0  \n",
       "\n",
       "[2 rows x 215 columns]"
      ]
     },
     "execution_count": 4,
     "metadata": {},
     "output_type": "execute_result"
    }
   ],
   "source": [
    "train = pd.read_csv('./train_data/train_dataset.csv', sep='>', na_values='<null>', \n",
    "                 parse_dates=['START_DATE', 'LAST_CARD_STATUS_DT', 'LAST_CONTR_STATUS_DT', 'BIRTH_DATE'])\n",
    "print('Train dataset size: ', train.shape)\n",
    "train.head(2)"
   ]
  },
  {
   "cell_type": "code",
   "execution_count": null,
   "metadata": {},
   "outputs": [],
   "source": []
  },
  {
   "cell_type": "code",
   "execution_count": 5,
   "metadata": {},
   "outputs": [
    {
     "name": "stdout",
     "output_type": "stream",
     "text": [
      "Dataset size:  (92691, 212)\n"
     ]
    },
    {
     "data": {
      "text/html": [
       "<div>\n",
       "<style scoped>\n",
       "    .dataframe tbody tr th:only-of-type {\n",
       "        vertical-align: middle;\n",
       "    }\n",
       "\n",
       "    .dataframe tbody tr th {\n",
       "        vertical-align: top;\n",
       "    }\n",
       "\n",
       "    .dataframe thead th {\n",
       "        text-align: right;\n",
       "    }\n",
       "</style>\n",
       "<table border=\"1\" class=\"dataframe\">\n",
       "  <thead>\n",
       "    <tr style=\"text-align: right;\">\n",
       "      <th></th>\n",
       "      <th>11_AddrCity2</th>\n",
       "      <th>11_AddrCountry</th>\n",
       "      <th>12_AddrCity2</th>\n",
       "      <th>12_AddrCountry</th>\n",
       "      <th>13_AddrCity2</th>\n",
       "      <th>13_AddrCountry</th>\n",
       "      <th>BAL</th>\n",
       "      <th>BANK</th>\n",
       "      <th>BIRTH_DATE</th>\n",
       "      <th>CARD_CONTR_COUNT_0</th>\n",
       "      <th>...</th>\n",
       "      <th>TXN_TP_POS_N_180</th>\n",
       "      <th>TXN_TP_POS_N_31</th>\n",
       "      <th>TXN_TP_POS_N_90</th>\n",
       "      <th>TXN_TP_POS_SUM_180</th>\n",
       "      <th>TXN_TP_POS_SUM_31</th>\n",
       "      <th>TXN_TP_POS_SUM_90</th>\n",
       "      <th>TXN_TP_Purposeful credit_MAX_180</th>\n",
       "      <th>TXN_TP_Purposeful credit_MEAN_180</th>\n",
       "      <th>TXN_TP_Purposeful credit_N_180</th>\n",
       "      <th>TXN_TP_Purposeful credit_SUM_180</th>\n",
       "    </tr>\n",
       "  </thead>\n",
       "  <tbody>\n",
       "    <tr>\n",
       "      <th>0</th>\n",
       "      <td>NaN</td>\n",
       "      <td>NaN</td>\n",
       "      <td>NaN</td>\n",
       "      <td>NaN</td>\n",
       "      <td>NaN</td>\n",
       "      <td>NaN</td>\n",
       "      <td>0.0</td>\n",
       "      <td>BBKK</td>\n",
       "      <td>1986-12-29</td>\n",
       "      <td>1</td>\n",
       "      <td>...</td>\n",
       "      <td>0.0</td>\n",
       "      <td>0.0</td>\n",
       "      <td>0.0</td>\n",
       "      <td>0.0</td>\n",
       "      <td>0.0</td>\n",
       "      <td>0.0</td>\n",
       "      <td>0.0</td>\n",
       "      <td>0.0</td>\n",
       "      <td>0</td>\n",
       "      <td>0.0</td>\n",
       "    </tr>\n",
       "    <tr>\n",
       "      <th>1</th>\n",
       "      <td>NaN</td>\n",
       "      <td>NaN</td>\n",
       "      <td>NaN</td>\n",
       "      <td>NaN</td>\n",
       "      <td>NaN</td>\n",
       "      <td>NaN</td>\n",
       "      <td>0.0</td>\n",
       "      <td>BBKK</td>\n",
       "      <td>1968-03-11</td>\n",
       "      <td>1</td>\n",
       "      <td>...</td>\n",
       "      <td>0.0</td>\n",
       "      <td>0.0</td>\n",
       "      <td>0.0</td>\n",
       "      <td>0.0</td>\n",
       "      <td>0.0</td>\n",
       "      <td>0.0</td>\n",
       "      <td>0.0</td>\n",
       "      <td>0.0</td>\n",
       "      <td>0</td>\n",
       "      <td>0.0</td>\n",
       "    </tr>\n",
       "  </tbody>\n",
       "</table>\n",
       "<p>2 rows × 212 columns</p>\n",
       "</div>"
      ],
      "text/plain": [
       "  11_AddrCity2 11_AddrCountry 12_AddrCity2 12_AddrCountry 13_AddrCity2  \\\n",
       "0          NaN            NaN          NaN            NaN          NaN   \n",
       "1          NaN            NaN          NaN            NaN          NaN   \n",
       "\n",
       "  13_AddrCountry  BAL  BANK BIRTH_DATE  CARD_CONTR_COUNT_0  \\\n",
       "0            NaN  0.0  BBKK 1986-12-29                   1   \n",
       "1            NaN  0.0  BBKK 1968-03-11                   1   \n",
       "\n",
       "                ...                 TXN_TP_POS_N_180  TXN_TP_POS_N_31  \\\n",
       "0               ...                              0.0              0.0   \n",
       "1               ...                              0.0              0.0   \n",
       "\n",
       "   TXN_TP_POS_N_90  TXN_TP_POS_SUM_180  TXN_TP_POS_SUM_31 TXN_TP_POS_SUM_90  \\\n",
       "0              0.0                 0.0                0.0               0.0   \n",
       "1              0.0                 0.0                0.0               0.0   \n",
       "\n",
       "  TXN_TP_Purposeful credit_MAX_180 TXN_TP_Purposeful credit_MEAN_180  \\\n",
       "0                              0.0                               0.0   \n",
       "1                              0.0                               0.0   \n",
       "\n",
       "  TXN_TP_Purposeful credit_N_180 TXN_TP_Purposeful credit_SUM_180  \n",
       "0                              0                              0.0  \n",
       "1                              0                              0.0  \n",
       "\n",
       "[2 rows x 212 columns]"
      ]
     },
     "execution_count": 5,
     "metadata": {},
     "output_type": "execute_result"
    }
   ],
   "source": [
    "test = pd.read_csv('./test_data/test_dataset.csv', \n",
    "                   sep='>', na_values='<null>', \n",
    "                   parse_dates=['LAST_CARD_STATUS_DT', 'LAST_CONTR_STATUS_DT', 'BIRTH_DATE', 'START_DATE'])\n",
    "print('Dataset size: ', test.shape)\n",
    "#test = test.set_index(['CONTRACT_REF', 'CLIENT_ID'])\n",
    "test.head(2)"
   ]
  },
  {
   "cell_type": "code",
   "execution_count": 6,
   "metadata": {},
   "outputs": [
    {
     "name": "stdout",
     "output_type": "stream",
     "text": [
      "{'SCENARIO_NAME_UNI', 'TARGET', 'CONTROL_GROUP_FLG'}\n",
      "set()\n"
     ]
    }
   ],
   "source": [
    "print( set(train.columns)  - set(test.columns))\n",
    "print( set(test.columns) -  set(train.columns))"
   ]
  },
  {
   "cell_type": "code",
   "execution_count": 15,
   "metadata": {},
   "outputs": [],
   "source": [
    "#train['SCENARIO_NAME_UNI'].value_counts()\n",
    "# MAP SC_i  = UVEL_i  for i in 1:6\n",
    "# This scenarious are same\n",
    "#scenario_mapper = {'Sc_1':'UVEL_1', 'Sc_2':'UVEL_2','Sc_3':'UVEL_3','Sc_4':'UVEL_4','Sc_5':'UVEL_5','Sc_6':'UVEL_6'}\n",
    "#Xy_train['SCENARIO_NAME'] = Xy_train['SCENARIO_NAME_UNI'].map(scenario_mapper)\n",
    "#unchanged_index = Xy_train['SCENARIO_NAME'].notnull().values\n",
    "#Xy_train['SCENARIO_NAME'][~ unchanged_index] = Xy_train['SCENARIO_NAME_UNI'][~ unchanged_index]"
   ]
  },
  {
   "cell_type": "code",
   "execution_count": 12,
   "metadata": {},
   "outputs": [],
   "source": [
    "dummy = [u'CL_FAM_ST', u'CL_OFF_POS', u'CL_OWN_TYPE', u'LAST_CARD_STATUS', 'CL_ESTATE_TYPE', \n",
    "         'CL_INDUSTR', 'CL_SOC_ST', 'ZODIAC']\n",
    "d = Dummyfier(dummy, drop_old=True)\n",
    "\n",
    "Xy_train = prepare(train)\n",
    "Xy_train = d.fit_transform(Xy_train)\n",
    "\n",
    "na_cols_train = Xy_train.isna().any()\n",
    "na_cols_train = na_cols_train[na_cols_train==True].index.tolist()\n",
    "Xy_train = Xy_train.fillna(value=Xy_train[na_cols_train].mean())\n",
    "\n",
    "y_train = Xy_train['TARGET'].values.flatten()\n",
    "\n",
    "identity = ['CONTRACT_REF', 'CLIENT_ID', 'SCENARIO_NAME_UNI', 'START_DATE']\n",
    "X_train = Xy_train.set_index(identity)\n",
    "X_train.drop(['TARGET'], axis=1, inplace=True)\n",
    "#X_train = Xy_train.drop(['TARGET'] + identity, axis=1)\n",
    "\n",
    "X_test = prepare(test)\n",
    "X_test = d.transform(X_test)\n",
    "\n",
    "na_cols_test = X_test.isna().any()\n",
    "na_cols_test = na_cols_test[na_cols_test==True].index.tolist()\n",
    "# NOT SO GOOD IDEA!\n",
    "X_test = X_test.fillna(value=X_test[na_cols_test].mean())\n",
    "\n",
    "X_test = X_test.drop('START_DATE', axis=1)\n",
    "# Set FLAG  = 0\n",
    "X_test['CONTROL_GROUP_FLG'] = 0\n",
    "X_test = X_test[X_train.columns.tolist()]"
   ]
  },
  {
   "cell_type": "code",
   "execution_count": null,
   "metadata": {},
   "outputs": [],
   "source": [
    "X_train.head()"
   ]
  },
  {
   "cell_type": "code",
   "execution_count": 25,
   "metadata": {},
   "outputs": [],
   "source": [
    "#X_train.head()\n",
    "#X_test.head()"
   ]
  },
  {
   "cell_type": "code",
   "execution_count": 13,
   "metadata": {},
   "outputs": [
    {
     "data": {
      "text/plain": [
       "0.044517085076708506"
      ]
     },
     "execution_count": 13,
     "metadata": {},
     "output_type": "execute_result"
    }
   ],
   "source": [
    "np.mean(y_train)"
   ]
  },
  {
   "cell_type": "code",
   "execution_count": 10,
   "metadata": {},
   "outputs": [],
   "source": [
    "X_tr, X_val, y_tr, y_val = train_test_split(X_train, y_train, \n",
    "                                           test_size=0.3,\n",
    "                                           random_state=42232,\n",
    "                                           shuffle=True,\n",
    "                                           stratify=X_train['CONTROL_GROUP_FLG'])"
   ]
  },
  {
   "cell_type": "code",
   "execution_count": 11,
   "metadata": {},
   "outputs": [
    {
     "name": "stdout",
     "output_type": "stream",
     "text": [
      "80304\n",
      "34416\n",
      "\n",
      "Check  split stratification by taget:\n",
      "0.044\n",
      "0.046\n"
     ]
    }
   ],
   "source": [
    "print(X_tr.shape[0])\n",
    "print(X_val.shape[0])\n",
    "print('\\nCheck  split stratification by taget:')\n",
    "print(round(np.mean(y_tr),3))\n",
    "print(round(np.mean(y_val),3))"
   ]
  },
  {
   "cell_type": "markdown",
   "metadata": {},
   "source": [
    "### 1. Построение одной модели для тестовой и контрольной групп"
   ]
  },
  {
   "cell_type": "code",
   "execution_count": 1416,
   "metadata": {},
   "outputs": [],
   "source": [
    "scaler = StandardScaler()\n",
    "lr_estimator = LogisticRegression(penalty='l1', C=1e+3, random_state=42)\n",
    "\n",
    "pipeline = Pipeline( steps=[ \n",
    "     ('scaling', scaler),\n",
    "     ('fitting', lr_estimator)\n",
    "   ])"
   ]
  },
  {
   "cell_type": "code",
   "execution_count": 1419,
   "metadata": {},
   "outputs": [
    {
     "name": "stdout",
     "output_type": "stream",
     "text": [
      "Wall time: 1min 22s\n"
     ]
    },
    {
     "data": {
      "text/plain": [
       "Pipeline(memory=None,\n",
       "     steps=[('scaling', StandardScaler(copy=True, with_mean=True, with_std=True)), ('fitting', LogisticRegression(C=1000.0, class_weight=None, dual=False,\n",
       "          fit_intercept=True, intercept_scaling=1, max_iter=100,\n",
       "          multi_class='ovr', n_jobs=1, penalty='l1', random_state=42,\n",
       "          solver='liblinear', tol=0.0001, verbose=0, warm_start=False))])"
      ]
     },
     "execution_count": 1419,
     "metadata": {},
     "output_type": "execute_result"
    }
   ],
   "source": [
    "%%time\n",
    "pipeline.fit(X_tr, y_tr)"
   ]
  },
  {
   "cell_type": "code",
   "execution_count": 1446,
   "metadata": {},
   "outputs": [],
   "source": [
    "importances = pd.DataFrame(\n",
    "    data = {\n",
    "        'feature': X_tr.columns.tolist(),\n",
    "        'tscore': pipeline.get_params().get('fitting').coef_[0]\n",
    "    }\n",
    ")\n",
    "importances = importances.reindex(importances.tscore.abs().sort_values(inplace=False, ascending=False).index)\n",
    "#importances.head(20)"
   ]
  },
  {
   "cell_type": "code",
   "execution_count": 1421,
   "metadata": {},
   "outputs": [],
   "source": [
    "pred_prob_val = pipeline.predict_proba(X_val)[:,1]\n",
    "pred_prob_tr = pipeline.predict_proba(X_tr)[:,1]"
   ]
  },
  {
   "cell_type": "code",
   "execution_count": null,
   "metadata": {
    "scrolled": true
   },
   "outputs": [],
   "source": [
    "fig, axes = plt.subplots(1,2, figsize=(10,4))\n",
    "axes[0].hist(pred_prob_tr, bins=100, color='red')\n",
    "axes[0].title.set_text('Predicted probabilities train')\n",
    "axes[1].hist(pred_prob_val, bins=100, color='blue')\n",
    "axes[1].title.set_text('Predicted probabilities val');"
   ]
  },
  {
   "cell_type": "code",
   "execution_count": 312,
   "metadata": {
    "scrolled": true
   },
   "outputs": [],
   "source": [
    "#X_tr['CONTROL_GROUP_FLG'].value_counts() "
   ]
  },
  {
   "cell_type": "code",
   "execution_count": 313,
   "metadata": {
    "scrolled": true
   },
   "outputs": [],
   "source": [
    "#tmp = X_tr.loc[X_tr['CONTROL_GROUP_FLG'] == 0, 'CONTROL_GROUP_FLG'] = 1\n",
    "#tmp = X_tr.drop('CONTROL_GROUP_FLG', axis=1).assign(CONTROL_GROUP_FLG = 1)\n",
    "#tmp['CONTROL_GROUP_FLG'].value_counts()"
   ]
  },
  {
   "cell_type": "markdown",
   "metadata": {},
   "source": [
    "Важно! При вызове predict критично важно, чтобы признаки были именно в таком же порядке и с такими же названиями, \n",
    "что и при обучении!"
   ]
  },
  {
   "cell_type": "code",
   "execution_count": 1422,
   "metadata": {},
   "outputs": [
    {
     "name": "stdout",
     "output_type": "stream",
     "text": [
      "Predict train/test uplifts per each client\n"
     ]
    }
   ],
   "source": [
    "print('Predict train/test uplifts per each client')\n",
    "prob_tr_0 = pipeline.predict_proba(X_tr.drop('CONTROL_GROUP_FLG', axis=1).assign(CONTROL_GROUP_FLG = 0)[X_tr.columns])[:,1]\n",
    "prob_tr_1 = pipeline.predict_proba(X_tr.drop('CONTROL_GROUP_FLG', axis=1).assign(CONTROL_GROUP_FLG = 1)[X_tr.columns])[:,1]\n",
    "uplift_tr = prob_tr_0 - prob_tr_1\n",
    "\n",
    "prob_val_0 = pipeline.predict_proba(X_val.drop('CONTROL_GROUP_FLG', axis=1).assign(CONTROL_GROUP_FLG = 0)[X_val.columns])[:,1]\n",
    "prob_val_1 = pipeline.predict_proba(X_val.drop('CONTROL_GROUP_FLG', axis=1).assign(CONTROL_GROUP_FLG = 1)[X_val.columns])[:,1]\n",
    "uplift_val = prob_val_0 - prob_val_1"
   ]
  },
  {
   "cell_type": "code",
   "execution_count": 336,
   "metadata": {
    "scrolled": false
   },
   "outputs": [
    {
     "data": {
      "image/png": "[encoded data removed]",
      "text/plain": [
       "<matplotlib.figure.Figure at 0x3f29cade48>"
      ]
     },
     "metadata": {},
     "output_type": "display_data"
    }
   ],
   "source": [
    "fig, axes = plt.subplots(1,2, figsize=(10,4))\n",
    "axes[0].hist(uplift_tr, bins=100, color='red')\n",
    "axes[0].title.set_text('Predicted uplift train')\n",
    "axes[1].hist(uplift_val, bins=100, color='blue')\n",
    "axes[1].title.set_text('Predicted uplift val');"
   ]
  },
  {
   "cell_type": "code",
   "execution_count": 277,
   "metadata": {},
   "outputs": [],
   "source": [
    "#print(len(y_tr))\n",
    "#print(len(uplift_tr))\n",
    "#print(len(X_tr['CONTROL_GROUP_FLG'].values))"
   ]
  },
  {
   "cell_type": "code",
   "execution_count": 1423,
   "metadata": {},
   "outputs": [
    {
     "name": "stdout",
     "output_type": "stream",
     "text": [
      "Uplift on train: 0.0366\n",
      "Uplift on test: 0.0415\n"
     ]
    }
   ],
   "source": [
    "u_tr, u_val = uplift_at(y_tr, X_tr['CONTROL_GROUP_FLG'].values, uplift_tr,\n",
    "                        y_val, X_val['CONTROL_GROUP_FLG'].values, uplift_val, \n",
    "                        at=0.4)\n",
    "print('Uplift on train:', u_tr)\n",
    "print('Uplift on test:',  u_val)"
   ]
  },
  {
   "cell_type": "code",
   "execution_count": 1424,
   "metadata": {},
   "outputs": [
    {
     "name": "stdout",
     "output_type": "stream",
     "text": [
      "Real data uplift: 0.0207\n"
     ]
    }
   ],
   "source": [
    "real_uplift =  np.round(train[train['CONTROL_GROUP_FLG']=='N']['TARGET'].mean() - train[train['CONTROL_GROUP_FLG']=='Y']['TARGET'].mean() , 4)\n",
    "print('Real data uplift:',real_uplift)"
   ]
  },
  {
   "cell_type": "markdown",
   "metadata": {},
   "source": [
    "Подход 1 с признаком контрольной группы работает (классификатор - лог-регрессия).\n",
    "Uplft@40% на данных получается около (0.0355 , 0.0426), чувствителен к разбиению и не очень чуствительный к параметрам. \n"
   ]
  },
  {
   "cell_type": "code",
   "execution_count": 281,
   "metadata": {},
   "outputs": [],
   "source": [
    "# Uplift on train 0.0386\n",
    "# Uplift on test 0.0394\n",
    "\n",
    "# Uplift on train: 0.0365\n",
    "# Uplift on test: 0.0419\n",
    "\n",
    "# Uplift on train: 0.0355\n",
    "# Uplift on test: 0.0426\n",
    "\n",
    "# Uplift on train: 0.0383  #  Uplift on train: 0.0381\n",
    "# Uplift on test: 0.0397   #  Uplift on test: 0.0392"
   ]
  },
  {
   "cell_type": "markdown",
   "metadata": {},
   "source": [
    "Все тоже самое для XGB классификатора."
   ]
  },
  {
   "cell_type": "code",
   "execution_count": 1454,
   "metadata": {},
   "outputs": [],
   "source": [
    "xgb_estimator = xgb.XGBClassifier( max_depth=4, \n",
    "                                   n_estimators=100,\n",
    "                                   learning_rate=0.05,\n",
    "                                   gamma=0,\n",
    "                                   min_child_weight=1,\n",
    "                                   njobs=-1,\n",
    "                                   #col_sample_bytree=0.8,\n",
    "                                   #subsample=1,\n",
    "                                   #reg_alpha=1,\n",
    "                                   #reg_gamma=1,\n",
    "                                   #scale_pos_weight=1,\n",
    "                                   objective='binary:logistic',\n",
    "                                   seed=2101432\n",
    "                                   )"
   ]
  },
  {
   "cell_type": "code",
   "execution_count": 1455,
   "metadata": {
    "scrolled": true
   },
   "outputs": [
    {
     "name": "stdout",
     "output_type": "stream",
     "text": [
      "Wall time: 37.3 s\n"
     ]
    },
    {
     "data": {
      "text/plain": [
       "XGBClassifier(base_score=0.5, booster='gbtree', colsample_bylevel=1,\n",
       "       colsample_bytree=1, gamma=0, learning_rate=0.05, max_delta_step=0,\n",
       "       max_depth=4, min_child_weight=1, missing=None, n_estimators=100,\n",
       "       n_jobs=1, njobs=-1, nthread=None, objective='binary:logistic',\n",
       "       random_state=0, reg_alpha=0, reg_lambda=1, scale_pos_weight=1,\n",
       "       seed=2101432, silent=True, subsample=1)"
      ]
     },
     "execution_count": 1455,
     "metadata": {},
     "output_type": "execute_result"
    }
   ],
   "source": [
    "%%time\n",
    "xgb_estimator.fit(X_tr, y_tr)"
   ]
  },
  {
   "cell_type": "code",
   "execution_count": 1456,
   "metadata": {
    "scrolled": true
   },
   "outputs": [
    {
     "name": "stdout",
     "output_type": "stream",
     "text": [
      "                       Feature  Importance\n",
      "74      LAST_CONTR_STATUS_TIME    0.147925\n",
      "40  TOTAL_BAL_POS_CHNG_MAX_180    0.116466\n",
      "73       LAST_CARD_STATUS_TIME    0.092369\n",
      "0            CONTROL_GROUP_FLG    0.069612\n",
      "2           CARD_CONTR_COUNT_0    0.064926\n",
      "1                          BAL    0.054886\n",
      "6                    CL_AMT_ZP    0.044177\n",
      "28        LIM_AVG_N_POS_CHANGE    0.042838\n",
      "30                  LIM_RECENT    0.039491\n",
      "69                         AGE    0.024766\n"
     ]
    }
   ],
   "source": [
    "# feature importance\n",
    "importance_xgb = pd.DataFrame(\n",
    "    data = {\n",
    "            'Feature': X_tr.columns.tolist(),\n",
    "            'Importance': xgb_estimator.feature_importances_\n",
    "    })\n",
    "\n",
    "print(importance_xgb.sort_values('Importance', ascending=False).head(10))"
   ]
  },
  {
   "cell_type": "code",
   "execution_count": 1450,
   "metadata": {},
   "outputs": [],
   "source": [
    "# def Uplift_At(estimator, X_tr,y_tr, X_ts, y_ts, at=0.4):\n",
    "#     prob_tr_0 = pipeline.predict_proba(X_tr.drop('CONTROL_GROUP_FLG', axis=1).assign(CONTROL_GROUP_FLG = 0)[X_tr.columns])[:,1]\n",
    "#     prob_tr_xgb_1 = pipeline.predict_proba(X_tr.drop('CONTROL_GROUP_FLG', axis=1).assign(CONTROL_GROUP_FLG = 1)[X_tr.columns])[:,1]\n",
    "#     uplift_tr = prob_tr_xgb_0 - prob_tr_xgb_1\n",
    "\n",
    "#     prob_val_0 = pipeline.predict_proba(X_val.drop('CONTROL_GROUP_FLG', axis=1).assign(CONTROL_GROUP_FLG = 0)[X_val.columns])[:,1]\n",
    "#     prob_val_1 = pipeline.predict_proba(X_val.drop('CONTROL_GROUP_FLG', axis=1).assign(CONTROL_GROUP_FLG = 1)[X_val.columns])[:,1]\n",
    "#     uplift_val = prob_val_0 - prob_val_1"
   ]
  },
  {
   "cell_type": "code",
   "execution_count": 1457,
   "metadata": {},
   "outputs": [
    {
     "name": "stdout",
     "output_type": "stream",
     "text": [
      "Predict train/test uplifts per each client\n"
     ]
    }
   ],
   "source": [
    "print('Predict train/test uplifts per each client')\n",
    "prob_tr_xgb_0 = xgb_estimator.predict_proba(X_tr.drop('CONTROL_GROUP_FLG', axis=1).assign(CONTROL_GROUP_FLG = 0)[X_tr.columns])[:,1]\n",
    "prob_tr_xgb_1 = xgb_estimator.predict_proba(X_tr.drop('CONTROL_GROUP_FLG', axis=1).assign(CONTROL_GROUP_FLG = 1)[X_tr.columns])[:,1]\n",
    "uplift_tr_xgb = prob_tr_xgb_0 - prob_tr_xgb_1\n",
    "\n",
    "prob_val_xgb_0 = xgb_estimator.predict_proba(X_val.drop('CONTROL_GROUP_FLG', axis=1).assign(CONTROL_GROUP_FLG = 0)[X_val.columns])[:,1]\n",
    "prob_val_xgb_1 = xgb_estimator.predict_proba(X_val.drop('CONTROL_GROUP_FLG', axis=1).assign(CONTROL_GROUP_FLG = 1)[X_val.columns])[:,1]\n",
    "uplift_val_xgb = prob_val_xgb_0 - prob_val_xgb_1"
   ]
  },
  {
   "cell_type": "code",
   "execution_count": 1458,
   "metadata": {},
   "outputs": [
    {
     "data": {
      "image/png": "[encoded data removed]",
      "text/plain": [
       "<matplotlib.figure.Figure at 0x3f2ed6c780>"
      ]
     },
     "metadata": {},
     "output_type": "display_data"
    }
   ],
   "source": [
    "fig, axes = plt.subplots(1,2, figsize=(10,4))\n",
    "axes[0].hist(uplift_tr_xgb, bins=300, color='red')\n",
    "axes[0].title.set_text('Predicted uplift train')\n",
    "axes[0].set_xlim([-0.02,0.10])\n",
    "axes[1].hist(uplift_val_xgb, bins=300, color='blue')\n",
    "axes[1].title.set_text('Predicted uplift val')\n",
    "axes[1].set_xlim([-0.02,0.10]);"
   ]
  },
  {
   "cell_type": "code",
   "execution_count": 1459,
   "metadata": {},
   "outputs": [
    {
     "name": "stdout",
     "output_type": "stream",
     "text": [
      "Uplift on train: 0.0508\n",
      "Uplift on test: 0.0416\n"
     ]
    }
   ],
   "source": [
    "u_tr_xgb, u_val_xgb = uplift_at(y_tr, X_tr['CONTROL_GROUP_FLG'].values, uplift_tr_xgb,\n",
    "                        y_val, X_val['CONTROL_GROUP_FLG'].values, uplift_val_xgb, \n",
    "                        at=0.4)\n",
    "print('Uplift on train:', u_tr_xgb)\n",
    "print('Uplift on test:',  u_val_xgb)"
   ]
  },
  {
   "cell_type": "code",
   "execution_count": null,
   "metadata": {},
   "outputs": [],
   "source": [
    "# Uplift on train: 0.0569\n",
    "# Uplift on test: 0.0431\n",
    "    \n",
    "# Uplift on train: 0.0393\n",
    "# Uplift on test: 0.0409\n",
    "       \n",
    "# max_depth=4, n_estimators=400, learning_rate=0.05\n",
    "# Uplift on train: 0.0615  0.0626  0.0602  0.056 0.0572  0.0603 0.0508\n",
    "# Uplift on test: 0.0449 0.0422  0.0452  0.056  0.0521 0.0468  0.0416"
   ]
  },
  {
   "cell_type": "code",
   "execution_count": null,
   "metadata": {},
   "outputs": [],
   "source": [
    "# GOOD PARAMS - CHECK!"
   ]
  },
  {
   "cell_type": "code",
   "execution_count": 377,
   "metadata": {},
   "outputs": [],
   "source": [
    "# Corr matrix for predictions"
   ]
  },
  {
   "cell_type": "markdown",
   "metadata": {},
   "source": [
    "### 2. Построение двух моделей отдельно."
   ]
  },
  {
   "cell_type": "code",
   "execution_count": 611,
   "metadata": {},
   "outputs": [],
   "source": [
    "scaler = StandardScaler()\n",
    "\n",
    "lr_estimator_t = LogisticRegression(penalty='l1', C=1e-1, random_state=42)\n",
    "lr_estimator_c = LogisticRegression(penalty='l1', C=1e-1, random_state=42)\n",
    "\n",
    "pipeline_t = Pipeline( steps=[ \n",
    "     ('scaling', scaler),\n",
    "     ('fitting', lr_estimator_t)\n",
    "   ])\n",
    "\n",
    "pipeline_c = Pipeline( steps=[\n",
    "    ('scaling', scaler),\n",
    "    ('fitting', lr_estimator_c)\n",
    "])"
   ]
  },
  {
   "cell_type": "code",
   "execution_count": 612,
   "metadata": {
    "scrolled": true
   },
   "outputs": [
    {
     "name": "stdout",
     "output_type": "stream",
     "text": [
      "Wall time: 24.5 s\n"
     ]
    }
   ],
   "source": [
    "%%time\n",
    "# FIT 2 lr models:\n",
    "cgf_ind = X_tr['CONTROL_GROUP_FLG']==1\n",
    "cgf_ind = cgf_ind.values\n",
    "\n",
    "pipeline_t.fit(X_tr[~cgf_ind].drop('CONTROL_GROUP_FLG', axis=1), y_tr[~cgf_ind] )\n",
    "pipeline_c.fit(X_tr[cgf_ind].drop('CONTROL_GROUP_FLG', axis=1), y_tr[cgf_ind])"
   ]
  },
  {
   "cell_type": "code",
   "execution_count": 613,
   "metadata": {},
   "outputs": [],
   "source": [
    "sign_t = pd.DataFrame( data={'Features': [x for x in  X_tr.columns.tolist() if x!='CONTROL_GROUP_FLG' ],\n",
    "                             't-score': pipeline_t.get_params().get('fitting').coef_[0]})\n",
    "sign_c = pd.DataFrame( data={'Features': [x for x in  X_tr.columns.tolist() if x!='CONTROL_GROUP_FLG' ],\n",
    "                             't-score': pipeline_c.get_params().get('fitting').coef_[0]})"
   ]
  },
  {
   "cell_type": "code",
   "execution_count": 614,
   "metadata": {},
   "outputs": [],
   "source": [
    "#train['CL_FAM_ST'].value_counts(dropna=False)"
   ]
  },
  {
   "cell_type": "code",
   "execution_count": 615,
   "metadata": {},
   "outputs": [
    {
     "name": "stdout",
     "output_type": "stream",
     "text": [
      "                               Features   t-score  abs_score\n",
      "56                        TOTAL_SUM_180 -0.415728   0.415728\n",
      "50                        TOTAL_MAX_180  0.316597   0.316597\n",
      "85  CL_OWN_TYPE_dummy_PRIVATECOMMERCIAL -0.223026   0.223026\n",
      "73               LAST_CONTR_STATUS_TIME -0.219355   0.219355\n",
      "36             TOTAL_BAL_NEG_CHNG_N_180  0.208186   0.208186\n",
      "38              TOTAL_BAL_NEG_CHNG_N_90 -0.197678   0.197678\n",
      "27                 LIM_AVG_N_POS_CHANGE -0.194087   0.194087\n",
      "44             TOTAL_BAL_POS_CHNG_N_180  0.186023   0.186023\n",
      "87           LAST_CARD_STATUS_dummy_176 -0.162057   0.162057\n",
      "1                    CARD_CONTR_COUNT_0  0.153028   0.153028 \n",
      "\n",
      "                                   Features   t-score  abs_score\n",
      "44                 TOTAL_BAL_POS_CHNG_N_180  0.364690   0.364690\n",
      "0                                       BAL -0.228923   0.228923\n",
      "87               LAST_CARD_STATUS_dummy_176 -0.228859   0.228859\n",
      "72                    LAST_CARD_STATUS_TIME -0.197580   0.197580\n",
      "59            TXN_CHN_POS terminal_MEAN_180  0.108087   0.108087\n",
      "114          CL_INDUSTR_dummy_SERVICESECTOR -0.091122   0.091122\n",
      "97   CL_ESTATE_TYPE_dummy_LIVINGWITHPARENTS -0.086630   0.086630\n",
      "109        CL_INDUSTR_dummy_LIGHTINDUSTRIES  0.086409   0.086409\n",
      "64                    TXN_TP_Credit_SUM_180 -0.085971   0.085971\n",
      "24                          IS_LOYALTY_AUTO  0.083346   0.083346 \n",
      "\n"
     ]
    }
   ],
   "source": [
    "print( sign_t.assign(abs_score = abs(sign_t['t-score'])).sort_values('abs_score', ascending=False).head(10), '\\n')\n",
    "print( sign_c.assign(abs_score = abs(sign_c['t-score'])).sort_values('abs_score', ascending=False).head(10), '\\n')"
   ]
  },
  {
   "cell_type": "code",
   "execution_count": 580,
   "metadata": {},
   "outputs": [],
   "source": [
    "# Why so different - ? #have to be approx the same\n",
    "# Check feature distrib"
   ]
  },
  {
   "cell_type": "code",
   "execution_count": 616,
   "metadata": {},
   "outputs": [
    {
     "name": "stdout",
     "output_type": "stream",
     "text": [
      "Predict train/test uplifts per each client\n"
     ]
    }
   ],
   "source": [
    "print('Predict train/test uplifts per each client')\n",
    "prob_tr_t = pipeline_t.predict_proba(X_tr.drop('CONTROL_GROUP_FLG', axis=1))[:,1]\n",
    "prob_tr_c = pipeline_c.predict_proba(X_tr.drop('CONTROL_GROUP_FLG', axis=1))[:,1]\n",
    "uplift_tr_2mod = prob_tr_t - prob_tr_c\n",
    "\n",
    "prob_val_t = pipeline_t.predict_proba(X_val.drop('CONTROL_GROUP_FLG', axis=1))[:,1]\n",
    "prob_val_c = pipeline_c.predict_proba(X_val.drop('CONTROL_GROUP_FLG', axis=1))[:,1]\n",
    "uplift_val_2mod = prob_val_t - prob_val_c"
   ]
  },
  {
   "cell_type": "code",
   "execution_count": 617,
   "metadata": {},
   "outputs": [
    {
     "data": {
      "image/png": "[encoded data removed]",
      "text/plain": [
       "<matplotlib.figure.Figure at 0x3f29f9b6a0>"
      ]
     },
     "metadata": {},
     "output_type": "display_data"
    }
   ],
   "source": [
    "fig, axes = plt.subplots(1,2, figsize=(10,4))\n",
    "axes[0].hist(uplift_tr_2mod, bins=300, color='red')\n",
    "axes[0].title.set_text('Predicted uplift train')\n",
    "axes[0].set_xlim([-0.05, 0.1])\n",
    "axes[1].hist(uplift_val_2mod, bins=300, color='blue')\n",
    "axes[1].title.set_text('Predicted uplift val')\n",
    "axes[1].set_xlim([-0.05, 0.1]);"
   ]
  },
  {
   "cell_type": "code",
   "execution_count": 618,
   "metadata": {},
   "outputs": [
    {
     "name": "stdout",
     "output_type": "stream",
     "text": [
      "Uplift on train: 0.045\n",
      "Uplift on test: 0.0343\n"
     ]
    }
   ],
   "source": [
    "u_tr_2mod, u_val_2mod = uplift_at(y_tr, X_tr['CONTROL_GROUP_FLG'].values, uplift_tr_2mod,\n",
    "                        y_val, X_val['CONTROL_GROUP_FLG'].values, uplift_val_2mod, \n",
    "                        at=0.4)\n",
    "print('Uplift on train:', u_tr_2mod)\n",
    "print('Uplift on test:',  u_val_2mod)"
   ]
  },
  {
   "cell_type": "code",
   "execution_count": null,
   "metadata": {},
   "outputs": [],
   "source": [
    "# Uplift on train: 0.0501\n",
    "# Uplift on test: 0.0353 \n",
    "\n",
    "# L1 regularized C = 1e-2\n",
    "# Uplift on train: 0.0384 0.0432 0.045\n",
    "# Uplift on test: 0.038 0.0304  0.0343\n",
    "\n",
    "# L2 regularized\n",
    "# Uplift on train: 0.0454\n",
    "# Uplift on test: 0.0346"
   ]
  },
  {
   "cell_type": "markdown",
   "metadata": {},
   "source": [
    "Две отдельные модели для XGB классификатора"
   ]
  },
  {
   "cell_type": "code",
   "execution_count": 680,
   "metadata": {},
   "outputs": [],
   "source": [
    "xgb_estimator_t = xgb.XGBClassifier(   max_depth=4, \n",
    "                                       n_estimators=400,\n",
    "                                       learning_rate=0.05,\n",
    "                                       njobs=-1,\n",
    "                                       objective='binary:logistic',\n",
    "                                       seed=40)\n",
    "\n",
    "xgb_estimator_c = xgb.XGBClassifier(   max_depth=4, \n",
    "                                       n_estimators=400,\n",
    "                                       learning_rate=0.05,\n",
    "                                       njobs=-1,\n",
    "                                       objective='binary:logistic',\n",
    "                                       seed=40)"
   ]
  },
  {
   "cell_type": "code",
   "execution_count": 681,
   "metadata": {},
   "outputs": [
    {
     "name": "stdout",
     "output_type": "stream",
     "text": [
      "Wall time: 2min 27s\n"
     ]
    }
   ],
   "source": [
    "%%time\n",
    "# FIT 2 XGB models:\n",
    "cgf_ind = X_tr['CONTROL_GROUP_FLG']==1\n",
    "cgf_ind = cgf_ind.values\n",
    "\n",
    "xgb_estimator_t.fit(X_tr[~cgf_ind].drop('CONTROL_GROUP_FLG', axis=1), y_tr[~cgf_ind])\n",
    "xgb_estimator_c.fit(X_tr[cgf_ind].drop('CONTROL_GROUP_FLG', axis=1), y_tr[cgf_ind])"
   ]
  },
  {
   "cell_type": "code",
   "execution_count": 682,
   "metadata": {},
   "outputs": [
    {
     "name": "stdout",
     "output_type": "stream",
     "text": [
      "                      Features  Importance\n",
      "73      LAST_CONTR_STATUS_TIME    0.083466\n",
      "39  TOTAL_BAL_POS_CHNG_MAX_180    0.069588\n",
      "72       LAST_CARD_STATUS_TIME    0.067407\n",
      "0                          BAL    0.045004\n",
      "5                    CL_AMT_ZP    0.038858\n",
      "68                         AGE    0.036677\n",
      "34              REP_POPULATION    0.036281\n",
      "29                  LIM_RECENT    0.031919\n",
      "41  TOTAL_BAL_POS_CHNG_MIN_180    0.031721\n",
      "47  TOTAL_BAL_POS_CHNG_SUM_180    0.028747 \n",
      "\n",
      "                      Features  Importance\n",
      "73      LAST_CONTR_STATUS_TIME    0.055402\n",
      "72       LAST_CARD_STATUS_TIME    0.051708\n",
      "0                          BAL    0.050785\n",
      "29                  LIM_RECENT    0.049861\n",
      "5                    CL_AMT_ZP    0.047784\n",
      "68                         AGE    0.042705\n",
      "39  TOTAL_BAL_POS_CHNG_MAX_180    0.041551\n",
      "43   TOTAL_BAL_POS_CHNG_MIN_90    0.031625\n",
      "47  TOTAL_BAL_POS_CHNG_SUM_180    0.031394\n",
      "34              REP_POPULATION    0.030702 \n",
      "\n"
     ]
    }
   ],
   "source": [
    "sign_xgb_t = pd.DataFrame( data={'Features': [x for x in  X_tr.columns.tolist() if x!='CONTROL_GROUP_FLG' ],\n",
    "                                 'Importance': xgb_estimator_t.feature_importances_ })\n",
    "\n",
    "sign_xgb_c = pd.DataFrame( data={'Features': [x for x in  X_tr.columns.tolist() if x!='CONTROL_GROUP_FLG' ],\n",
    "                                 'Importance': xgb_estimator_c.feature_importances_})\n",
    "\n",
    "print( sign_xgb_t.sort_values('Importance', ascending=False).head(10), '\\n')\n",
    "print( sign_xgb_c.sort_values('Importance', ascending=False).head(10), '\\n')"
   ]
  },
  {
   "cell_type": "code",
   "execution_count": 683,
   "metadata": {},
   "outputs": [
    {
     "name": "stdout",
     "output_type": "stream",
     "text": [
      "Predict train/test uplifts per each client\n"
     ]
    }
   ],
   "source": [
    "print('Predict train/test uplifts per each client')\n",
    "prob_tr_xgb_t = xgb_estimator_t.predict_proba(X_tr.drop('CONTROL_GROUP_FLG', axis=1))[:,1]\n",
    "prob_tr_xgb_c = xgb_estimator_c.predict_proba(X_tr.drop('CONTROL_GROUP_FLG', axis=1))[:,1]\n",
    "uplift_tr_xgb_2mod = prob_tr_xgb_t - prob_tr_xgb_c\n",
    "\n",
    "prob_val_xgb_t = xgb_estimator_t.predict_proba(X_val.drop('CONTROL_GROUP_FLG', axis=1))[:,1]\n",
    "prob_val_xgb_c = xgb_estimator_c.predict_proba(X_val.drop('CONTROL_GROUP_FLG', axis=1))[:,1]\n",
    "uplift_val_xgb_2mod = prob_val_xgb_t - prob_val_xgb_c"
   ]
  },
  {
   "cell_type": "code",
   "execution_count": 684,
   "metadata": {},
   "outputs": [
    {
     "data": {
      "image/png": "[encoded data removed]",
      "text/plain": [
       "<matplotlib.figure.Figure at 0x3f0bb46828>"
      ]
     },
     "metadata": {},
     "output_type": "display_data"
    }
   ],
   "source": [
    "fig, axes = plt.subplots(1,2, figsize=(10,4))\n",
    "axes[0].hist(uplift_tr_xgb_2mod, bins=300, color='red')\n",
    "axes[0].title.set_text('Predicted uplift train')\n",
    "axes[0].set_xlim([-0.05, 0.2])\n",
    "axes[1].hist(uplift_val_xgb_2mod, bins=300, color='blue')\n",
    "axes[1].title.set_text('Predicted uplift val')\n",
    "axes[1].set_xlim([-0.05, 0.2]);"
   ]
  },
  {
   "cell_type": "code",
   "execution_count": 685,
   "metadata": {},
   "outputs": [
    {
     "name": "stdout",
     "output_type": "stream",
     "text": [
      "Uplift on train: 0.0958\n",
      "Uplift on test: 0.0412\n"
     ]
    }
   ],
   "source": [
    "u_tr_xgb_2mod, u_val_xgb_2mod = uplift_at(y_tr, X_tr['CONTROL_GROUP_FLG'].values, uplift_tr_xgb_2mod,\n",
    "                        y_val, X_val['CONTROL_GROUP_FLG'].values, uplift_val_xgb_2mod, \n",
    "                        at=0.4)\n",
    "print('Uplift on train:', u_tr_xgb_2mod)\n",
    "print('Uplift on test:',  u_val_xgb_2mod)"
   ]
  },
  {
   "cell_type": "code",
   "execution_count": null,
   "metadata": {},
   "outputs": [],
   "source": [
    "# max_depth=4, n_estimators=400, learning_rate=0.05\n",
    "# Uplift on train: 0.0954 0.0958\n",
    "# Uplift on test: 0.0408 0.0412\n",
    "\n",
    "# max_depth=4, n_estimators=100, learning_rate=0.05\n",
    "# Uplift on train: 0.0738 0.0731 0.0715 0.074\n",
    "# Uplift on test: 0.0409 0.043 0.0458 0.04\n",
    "\n",
    "# max_depth=6, n_estimators=200, learning_rate=0.02\n",
    "# Uplift on train: 0.0896\n",
    "# Uplift on test:  0.0387\n",
    "\n",
    "# max_depth=3, n_estimators=100, learning_rate=0.1\n",
    "# Uplift on train: 0.0736\n",
    "# Uplift on test:  0.0399"
   ]
  },
  {
   "cell_type": "markdown",
   "metadata": {},
   "source": [
    "### 3. Подход \"Class Modification\""
   ]
  },
  {
   "cell_type": "code",
   "execution_count": 1350,
   "metadata": {},
   "outputs": [],
   "source": [
    "X_tr, X_val, y_tr, y_val = train_test_split(X_train, y_train, \n",
    "                                           test_size=0.3,\n",
    "                                           random_state=78,\n",
    "                                           shuffle=True,\n",
    "                                           stratify=X_train['CONTROL_GROUP_FLG'])"
   ]
  },
  {
   "cell_type": "markdown",
   "metadata": {},
   "source": [
    "Для того, чтобы подход работал необходимо, чтобы число наблюдений в двух группах совпадало.\n",
    "Для этого досемплируем наблюдения из контрольной группы, чтобы их было столько же, сколько и в тестовой(с которой коммуницировали)."
   ]
  },
  {
   "cell_type": "code",
   "execution_count": 1039,
   "metadata": {
    "scrolled": true
   },
   "outputs": [],
   "source": [
    "# smote = SMOTE(random_state=42)\n",
    "# ones_ind = (y_tr == 1)\n",
    "# # do this with target == 1 and target==0 independently\n",
    "# X_tr_bal_1, cgf_1 = smote.fit_sample(X_tr[ones_ind].drop('CONTROL_GROUP_FLG', axis=1), \n",
    "#                                      X_tr['CONTROL_GROUP_FLG'][ones_ind].values) # returns np arrays\n",
    "# X_tr_bal_0, cgf_0 = smote.fit_sample(X_tr[~ones_ind].drop('CONTROL_GROUP_FLG', axis=1),\n",
    "#                                      X_tr['CONTROL_GROUP_FLG'][~ones_ind].values) # returns np arrays\n",
    "\n",
    "# X_tr_bal_1 = pd.DataFrame(X_tr_bal_1, columns=[ x for x in X_tr.columns if x!='CONTROL_GROUP_FLG'])\n",
    "# X_tr_bal_0 = pd.DataFrame(X_tr_bal_0, columns=[ x for x in X_tr.columns if x!='CONTROL_GROUP_FLG'])\n",
    "# X_tr_bal_1 = X_tr_bal_1.assign(CONTROL_GROUP_FLG = cgf_1)\n",
    "# X_tr_bal_0 = X_tr_bal_0.assign(CONTROL_GROUP_FLG = cgf_0)\n",
    "# X_tr_bal = pd.concat([X_tr_bal_1, X_tr_bal_0], axis=0)\n",
    "# X_tr_bal = X_tr_bal[X_tr.columns.tolist()]\n",
    "# y_tr_bal = np.concatenate( (np.ones(len(cgf_1)),np.zeros(len(cgf_0))), axis=0)\n",
    "# # data is not shuffled here"
   ]
  },
  {
   "cell_type": "code",
   "execution_count": 1040,
   "metadata": {
    "scrolled": true
   },
   "outputs": [],
   "source": [
    "# print(X_tr_bal_1.shape[0])\n",
    "# print(X_tr_bal_0.shape[0])\n",
    "# print(X_tr_bal.shape[0])\n",
    "# #print(len(y_tr_bal_c))\n",
    "# print(np.mean(y_tr_bal))\n",
    "# print(np.mean(y_tr))"
   ]
  },
  {
   "cell_type": "code",
   "execution_count": 1041,
   "metadata": {
    "scrolled": true
   },
   "outputs": [],
   "source": [
    "# print( X_tr_bal.shape)\n",
    "# print( len(y_tr_bal) )\n",
    "# print( np.mean(y_tr_bal))\n",
    "# print( np.mean(X_tr_bal['CONTROL_GROUP_FLG'])) # 0.1506 used to be in initial data"
   ]
  },
  {
   "cell_type": "code",
   "execution_count": 1042,
   "metadata": {},
   "outputs": [],
   "source": [
    "# print(len(y_tr_inv))\n",
    "# print(len(y_val_inv))\n",
    "# print(len(y_val))"
   ]
  },
  {
   "cell_type": "markdown",
   "metadata": {},
   "source": [
    "В SMOTE легко ошибиться, поэтому просто сделаем undersampling имеющихся наблюдений из тестовой группы."
   ]
  },
  {
   "cell_type": "code",
   "execution_count": 1092,
   "metadata": {},
   "outputs": [],
   "source": [
    "X_tr_bal = pd.concat([\n",
    "    X_tr[X_tr['CONTROL_GROUP_FLG']==0].sample(n=np.sum(X_tr['CONTROL_GROUP_FLG'].values), random_state=43),\n",
    "    X_tr[X_tr['CONTROL_GROUP_FLG']==1]\n",
    "], axis=0)\n",
    "\n",
    "y_tr_bal = np.concatenate( (pd.Series(y_tr[X_tr['CONTROL_GROUP_FLG']==0]).sample(n=np.sum(X_tr['CONTROL_GROUP_FLG'].values),random_state=43).values,\n",
    "                            y_tr[X_tr['CONTROL_GROUP_FLG']==1]), axis=0)\n",
    "\n",
    "X_tr_bal, y_tr_bal = shuffle(X_tr_bal, y_tr_bal)"
   ]
  },
  {
   "cell_type": "markdown",
   "metadata": {},
   "source": [
    "Или наоборот, делаем oversampling:"
   ]
  },
  {
   "cell_type": "code",
   "execution_count": 1067,
   "metadata": {},
   "outputs": [
    {
     "name": "stdout",
     "output_type": "stream",
     "text": [
      "(68213, 140)\n",
      "(12091, 140)\n"
     ]
    }
   ],
   "source": [
    "print(X_tr[X_tr['CONTROL_GROUP_FLG']==0].shape)\n",
    "print(X_tr[X_tr['CONTROL_GROUP_FLG']==1].shape)"
   ]
  },
  {
   "cell_type": "code",
   "execution_count": 1351,
   "metadata": {},
   "outputs": [],
   "source": [
    "X_tr_bal = pd.concat([\n",
    "    X_tr[X_tr['CONTROL_GROUP_FLG']==0],\n",
    "    X_tr[X_tr['CONTROL_GROUP_FLG']==1].sample(n=X_tr[X_tr['CONTROL_GROUP_FLG']==0].shape[0], \n",
    "                                              replace=True, random_state=44)\n",
    "], axis=0)\n",
    "\n",
    "y_tr_bal = np.concatenate( (pd.Series(y_tr[X_tr['CONTROL_GROUP_FLG']==0]),\n",
    "                            pd.Series(y_tr[X_tr['CONTROL_GROUP_FLG']==1]).\\\n",
    "                            sample(n=X_tr[X_tr['CONTROL_GROUP_FLG']==0].shape[0], replace=True, random_state=44)))\n",
    "\n",
    "X_tr_bal, y_tr_bal = shuffle(X_tr_bal, y_tr_bal)"
   ]
  },
  {
   "cell_type": "code",
   "execution_count": 1352,
   "metadata": {
    "scrolled": false
   },
   "outputs": [
    {
     "name": "stdout",
     "output_type": "stream",
     "text": [
      "0.0372\n",
      "(136426, 140)\n"
     ]
    }
   ],
   "source": [
    "print(round(np.mean(y_tr_bal),4))\n",
    "print(X_tr_bal.shape)"
   ]
  },
  {
   "cell_type": "code",
   "execution_count": 1353,
   "metadata": {},
   "outputs": [],
   "source": [
    "# make NEW invers target Z:\n",
    "y_tr_inv = y_tr_bal*(1.0 - X_tr_bal['CONTROL_GROUP_FLG'].values) + \\\n",
    "            (1.0 - y_tr_bal)*(X_tr_bal['CONTROL_GROUP_FLG'].values) \n",
    "y_val_inv = y_val*(1.0 - X_val['CONTROL_GROUP_FLG'].values) + \\\n",
    "            (1.0 - y_val)*(X_val['CONTROL_GROUP_FLG'].values) "
   ]
  },
  {
   "cell_type": "code",
   "execution_count": 1354,
   "metadata": {},
   "outputs": [
    {
     "name": "stdout",
     "output_type": "stream",
     "text": [
      "0.5105\n",
      "0.1867\n"
     ]
    }
   ],
   "source": [
    "print(round(np.mean(y_tr_inv),4)) # 0.5096\n",
    "print(round(np.mean(y_val_inv),4)) # 0.1883"
   ]
  },
  {
   "cell_type": "code",
   "execution_count": 1355,
   "metadata": {},
   "outputs": [],
   "source": [
    "scaler = StandardScaler()\n",
    "\n",
    "lr_estimator_inv = LogisticRegression(penalty='l2', C=1e+3, random_state=42)\n",
    "\n",
    "pipeline_inv = Pipeline( steps=[ \n",
    "     ('scaling', scaler),\n",
    "     ('fitting', lr_estimator_inv)\n",
    "   ])"
   ]
  },
  {
   "cell_type": "code",
   "execution_count": 1356,
   "metadata": {
    "scrolled": false
   },
   "outputs": [
    {
     "name": "stdout",
     "output_type": "stream",
     "text": [
      "Wall time: 19.2 s\n"
     ]
    },
    {
     "data": {
      "text/plain": [
       "Pipeline(memory=None,\n",
       "     steps=[('scaling', StandardScaler(copy=True, with_mean=True, with_std=True)), ('fitting', LogisticRegression(C=1000.0, class_weight=None, dual=False,\n",
       "          fit_intercept=True, intercept_scaling=1, max_iter=100,\n",
       "          multi_class='ovr', n_jobs=1, penalty='l2', random_state=42,\n",
       "          solver='liblinear', tol=0.0001, verbose=0, warm_start=False))])"
      ]
     },
     "execution_count": 1356,
     "metadata": {},
     "output_type": "execute_result"
    }
   ],
   "source": [
    "%%time\n",
    "pipeline_inv.fit(X_tr_bal.drop('CONTROL_GROUP_FLG',  axis=1), y_tr_bal)"
   ]
  },
  {
   "cell_type": "code",
   "execution_count": 1357,
   "metadata": {},
   "outputs": [
    {
     "name": "stdout",
     "output_type": "stream",
     "text": [
      "                               Features   t-score  abs_score\n",
      "56                        TOTAL_SUM_180 -0.415728   0.415728\n",
      "50                        TOTAL_MAX_180  0.316597   0.316597\n",
      "85  CL_OWN_TYPE_dummy_PRIVATECOMMERCIAL -0.223026   0.223026\n",
      "73               LAST_CONTR_STATUS_TIME -0.219355   0.219355\n",
      "36             TOTAL_BAL_NEG_CHNG_N_180  0.208186   0.208186\n",
      "38              TOTAL_BAL_NEG_CHNG_N_90 -0.197678   0.197678\n",
      "27                 LIM_AVG_N_POS_CHANGE -0.194087   0.194087\n",
      "44             TOTAL_BAL_POS_CHNG_N_180  0.186023   0.186023\n",
      "87           LAST_CARD_STATUS_dummy_176 -0.162057   0.162057\n",
      "1                    CARD_CONTR_COUNT_0  0.153028   0.153028\n"
     ]
    }
   ],
   "source": [
    "sign_inv = pd.DataFrame( data={'Features': [x for x in  X_tr.columns.tolist() if x!='CONTROL_GROUP_FLG' ],\n",
    "                               't-score':  pipeline_t.get_params().get('fitting').coef_[0]})\n",
    "print( sign_inv.assign(abs_score = abs(sign_inv['t-score'])).sort_values('abs_score', ascending=False).head(10))"
   ]
  },
  {
   "cell_type": "code",
   "execution_count": 1358,
   "metadata": {},
   "outputs": [],
   "source": [
    "uplift_tr_inv =  1*(pipeline_inv.predict_proba(X_tr.drop('CONTROL_GROUP_FLG', axis=1))[:,1]) #- 1\n",
    "uplift_val_inv = 1*(pipeline_inv.predict_proba(X_val.drop('CONTROL_GROUP_FLG', axis=1))[:,1]) #- 1"
   ]
  },
  {
   "cell_type": "code",
   "execution_count": 1359,
   "metadata": {},
   "outputs": [
    {
     "data": {
      "image/png": "[encoded data removed]",
      "text/plain": [
       "<matplotlib.figure.Figure at 0x3f984194e0>"
      ]
     },
     "metadata": {},
     "output_type": "display_data"
    }
   ],
   "source": [
    "fig, axes = plt.subplots(1,2, figsize=(10,4))\n",
    "axes[0].hist(uplift_tr_inv, bins=500, color='red')\n",
    "axes[0].title.set_text('Predicted uplift train')\n",
    "axes[0].set_xlim([-0.01, 0.3])\n",
    "axes[1].hist(uplift_val_inv, bins=500, color='blue')\n",
    "axes[1].title.set_text('Predicted uplift val')\n",
    "axes[1].set_xlim([-0.01, 0.3]);"
   ]
  },
  {
   "cell_type": "code",
   "execution_count": 1360,
   "metadata": {},
   "outputs": [
    {
     "name": "stdout",
     "output_type": "stream",
     "text": [
      "Uplift on train: 0.0352\n",
      "Uplift on test: 0.0344\n"
     ]
    }
   ],
   "source": [
    "u_tr_inv, u_val_inv = uplift_at(y_tr, X_tr['CONTROL_GROUP_FLG'].values, uplift_tr_inv,\n",
    "                        y_val, X_val['CONTROL_GROUP_FLG'].values, uplift_val_inv, \n",
    "                        at=0.4)\n",
    "print('Uplift on train:',u_tr_inv)\n",
    "print('Uplift on test:',u_val_inv)"
   ]
  },
  {
   "cell_type": "code",
   "execution_count": 1362,
   "metadata": {},
   "outputs": [
    {
     "name": "stdout",
     "output_type": "stream",
     "text": [
      "              train      test\n",
      "uplift       0.0352    0.0344\n",
      "income_3m  129.0000  126.0000\n",
      "income_6m  290.0000  302.0000\n"
     ]
    }
   ],
   "source": [
    "R = KPI_at(y_tr, X_tr['CONTROL_GROUP_FLG'], uplift_tr_inv,\n",
    "           y_val, X_val['CONTROL_GROUP_FLG'], uplift_val_inv, \n",
    "           income_data, at=0.4)\n",
    "print(R)"
   ]
  },
  {
   "cell_type": "code",
   "execution_count": 1033,
   "metadata": {},
   "outputs": [],
   "source": [
    "# Uplift on train: 0.0355\n",
    "# Uplift on test: 0.0358\n",
    "\n",
    "# Uplift on train: 0.0328\n",
    "# Uplift on test: 0.0407\n",
    "\n",
    "# Uplift on train: 0.0307\n",
    "# Uplift on test: 0.0373\n",
    "\n",
    "#Uplift on train: 0.0357 0.0362\n",
    "#Uplift on test: 0.0295  0.0292\n",
    "\n",
    "#Uplift on train: 0.0356\n",
    "#Uplift on test: 0.0313"
   ]
  },
  {
   "cell_type": "code",
   "execution_count": 1365,
   "metadata": {},
   "outputs": [],
   "source": [
    "xgb_estimator_inv = xgb.XGBClassifier( max_depth=4, \n",
    "                                       n_estimators=1000,\n",
    "                                       learning_rate=0.01,\n",
    "                                       njobs=-1,\n",
    "                                       objective='binary:logistic',\n",
    "                                       seed=45)"
   ]
  },
  {
   "cell_type": "code",
   "execution_count": 1366,
   "metadata": {
    "scrolled": true
   },
   "outputs": [
    {
     "name": "stdout",
     "output_type": "stream",
     "text": [
      "Wall time: 10min 14s\n"
     ]
    },
    {
     "data": {
      "text/plain": [
       "XGBClassifier(base_score=0.5, booster='gbtree', colsample_bylevel=1,\n",
       "       colsample_bytree=1, gamma=0, learning_rate=0.01, max_delta_step=0,\n",
       "       max_depth=4, min_child_weight=1, missing=None, n_estimators=1000,\n",
       "       n_jobs=1, njobs=-1, nthread=None, objective='binary:logistic',\n",
       "       random_state=0, reg_alpha=0, reg_lambda=1, scale_pos_weight=1,\n",
       "       seed=45, silent=True, subsample=1)"
      ]
     },
     "execution_count": 1366,
     "metadata": {},
     "output_type": "execute_result"
    }
   ],
   "source": [
    "%%time\n",
    "xgb_estimator_inv.fit(X_tr_bal.drop('CONTROL_GROUP_FLG',  axis=1), y_tr_bal)"
   ]
  },
  {
   "cell_type": "code",
   "execution_count": 1367,
   "metadata": {},
   "outputs": [],
   "source": [
    "uplift_tr_inv_xgb =  1*(xgb_estimator_inv.predict_proba(X_tr.drop('CONTROL_GROUP_FLG', axis=1))[:,1]) #- 1\n",
    "uplift_val_inv_xgb = 1*(xgb_estimator_inv.predict_proba(X_val.drop('CONTROL_GROUP_FLG', axis=1))[:,1])# - 1"
   ]
  },
  {
   "cell_type": "code",
   "execution_count": 1368,
   "metadata": {},
   "outputs": [
    {
     "data": {
      "image/png": "[encoded data removed]",
      "text/plain": [
       "<matplotlib.figure.Figure at 0x3f9855eba8>"
      ]
     },
     "metadata": {},
     "output_type": "display_data"
    }
   ],
   "source": [
    "fig, axes = plt.subplots(1,2, figsize=(10,4))\n",
    "axes[0].hist(uplift_tr_inv_xgb, bins=200, color='red')\n",
    "axes[0].title.set_text('Predicted uplift train')\n",
    "#axes[0].set_xlim([-0.05, 0.2])\n",
    "axes[1].hist(uplift_val_inv_xgb, bins=200, color='blue')\n",
    "axes[1].title.set_text('Predicted uplift val')\n",
    "#axes[1].set_xlim([-0.05, 0.2]);"
   ]
  },
  {
   "cell_type": "code",
   "execution_count": 1369,
   "metadata": {},
   "outputs": [
    {
     "name": "stdout",
     "output_type": "stream",
     "text": [
      "Uplift on train: 0.0412\n",
      "Uplift on test: 0.0371\n"
     ]
    }
   ],
   "source": [
    "u_tr_inv_xgb, u_val_inv_xgb = uplift_at(y_tr, X_tr['CONTROL_GROUP_FLG'].values, uplift_tr_inv_xgb,\n",
    "                        y_val, X_val['CONTROL_GROUP_FLG'].values, uplift_val_inv_xgb, \n",
    "                        at=0.4)\n",
    "print('Uplift on train:',u_tr_inv_xgb)\n",
    "print('Uplift on test:',u_val_inv_xgb)"
   ]
  },
  {
   "cell_type": "code",
   "execution_count": 1114,
   "metadata": {},
   "outputs": [],
   "source": [
    "# Uplift on train: 0.0398\n",
    "# Uplift on test: 0.0352\n",
    "\n",
    "#Uplift on train: 0.0404\n",
    "#Uplift on test: 0.0364\n",
    "\n",
    "#Uplift on train: 0.0385\n",
    "#Uplift on test: 0.0415\n",
    "\n",
    "# n_est = 700\n",
    "#Uplift on train: 0.0387\n",
    "#Uplift on test: 0.0397"
   ]
  },
  {
   "cell_type": "markdown",
   "metadata": {},
   "source": [
    "ВЫВОДЫ: -Все подходы работают, так как uplift@40% для всех подходов как минимум больше 0.3, что принципиально \n",
    "        отличается от 0.2 на.\n",
    "        -Лучше всех работает XGB классификатор первого и второго подходов. (С точки зрения uplift@40%)\n",
    "        -Есть предположение, что для логистической регрессии необходимо сделать feature selection, \n",
    "        так как регрессоров очень много.\n",
    "        -Результаты метрики зависят достаточно сильно от seed, что затрудняет процесс выбора лучшей модели. \n",
    "        Изменение параметров модели также значительно влияет на результат."
   ]
  },
  {
   "cell_type": "markdown",
   "metadata": {},
   "source": [
    "Считываем данные по доходу: (ещё один KPI)"
   ]
  },
  {
   "cell_type": "code",
   "execution_count": 14,
   "metadata": {},
   "outputs": [],
   "source": [
    "income_data = pd.read_csv('income_micro.csv', delimiter='>', decimal='.', parse_dates=['START_DATE', 'END_DATE'] )\n",
    "income_data.drop(['CREATE_DTTM', 'SCENARIO_NAME', 'CONTROL_GROUP_FLG', 'END_DATE'], axis=1, inplace=True)\n",
    "income_data = income_data.rename({'DOHOD_3':'income_3','DOHOD_6':'income_6'}, axis='columns', inplace=False)\n",
    "#income_data.set_index(['CLIENT_ID', 'CONTRACT_REF', 'START_DATE'], inplace=True)"
   ]
  },
  {
   "cell_type": "code",
   "execution_count": 63,
   "metadata": {
    "scrolled": true
   },
   "outputs": [],
   "source": [
    "#print(tmp_tr.shape)\n",
    "#print(X_tr.shape)\n",
    "#print(np.sum(tmp_tr['income_3'].isna().values),'  ', np.sum(tmp_tr['income_6'].isna().values))"
   ]
  },
  {
   "cell_type": "code",
   "execution_count": 15,
   "metadata": {},
   "outputs": [],
   "source": [
    "# res = KPI_at(y_tr, X_tr['CONTROL_GROUP_FLG'], uplift_tr_inv_xgb,\n",
    "#              y_val, X_val['CONTROL_GROUP_FLG'], uplift_val_inv_xgb,\n",
    "#              income_df=income_data, at=0.4)\n",
    "# print(res)"
   ]
  },
  {
   "cell_type": "code",
   "execution_count": null,
   "metadata": {},
   "outputs": [],
   "source": [
    "#      train          test\n",
    "# uplift     3.870000e-02  3.970000e-02\n",
    "# income_3m  4.413341e+06  1.865133e+06\n",
    "# income_6m  1.010490e+07  4.286080e+06\n",
    "\n",
    "#             train      test\n",
    "# uplift       0.0383    0.0375\n",
    "# income_3m  136.0000  135.0000\n",
    "# income_6m  310.0000  314.0000\n",
    "\n",
    "#               train      test\n",
    "# uplift       0.0412    0.0371\n",
    "# income_3m  138.0000  135.0000\n",
    "# income_6m  313.0000  319.0000"
   ]
  },
  {
   "cell_type": "markdown",
   "metadata": {},
   "source": [
    "Подсчитываем KPI для случайного выбора:"
   ]
  },
  {
   "cell_type": "code",
   "execution_count": 16,
   "metadata": {},
   "outputs": [
    {
     "name": "stdout",
     "output_type": "stream",
     "text": [
      "Real data uplift: 0.0207\n",
      "Real data income 3m per client: 64.0\n",
      "Real data income 6m per client: 147.0\n"
     ]
    }
   ],
   "source": [
    "id_cols = ['CONTRACT_REF', 'CLIENT_ID', 'START_DATE']\n",
    "real_uplift =  np.round(train[train['CONTROL_GROUP_FLG']=='N']['TARGET'].mean() - train[train['CONTROL_GROUP_FLG']=='Y']['TARGET'].mean() , 4)\n",
    "tmp = train.merge(income_data, how='left', on = id_cols)\n",
    "inc3_rand = round(np.mean(tmp['income_3'].values))\n",
    "inc6_rand = round(np.mean(tmp['income_6'].values))\n",
    "print('Real data uplift:', real_uplift)\n",
    "print('Real data income 3m per client:', inc3_rand)\n",
    "print('Real data income 6m per client:', inc6_rand)"
   ]
  },
  {
   "cell_type": "code",
   "execution_count": 17,
   "metadata": {},
   "outputs": [
    {
     "data": {
      "image/png": "[encoded data removed]",
      "text/plain": [
       "<matplotlib.figure.Figure at 0x25f4e6c18>"
      ]
     },
     "metadata": {},
     "output_type": "display_data"
    }
   ],
   "source": [
    "# plot income per 3, 6 month and it's differance:\n",
    "fig, axes = plt.subplots(1,3, figsize = (10,4))\n",
    "axes[0].hist( np.log(tmp['income_3'].values+1), bins=50, color='blue')\n",
    "axes[1].hist( np.log(tmp['income_6']+1), bins=50, color='green')\n",
    "axes[2].hist(tmp['income_6'] - tmp['income_3'], bins=50, color='red');"
   ]
  },
  {
   "cell_type": "code",
   "execution_count": 18,
   "metadata": {},
   "outputs": [
    {
     "name": "stdout",
     "output_type": "stream",
     "text": [
      "0.075\n",
      "0.115\n"
     ]
    }
   ],
   "source": [
    "print( round(sum(tmp['income_3'] > 0)/tmp.shape[0],3))\n",
    "print( round(sum(tmp['income_6'] > 0)/tmp.shape[0],3))"
   ]
  },
  {
   "cell_type": "markdown",
   "metadata": {},
   "source": [
    "### Отбор модели меьодом случайной подвыборки."
   ]
  },
  {
   "cell_type": "markdown",
   "metadata": {},
   "source": [
    "Будем много (~100) раз менять train/test split разбиение, чтобы получить лучшую оценку средних KPI, а также их разброс для 2 лучших подходов."
   ]
  },
  {
   "cell_type": "code",
   "execution_count": 19,
   "metadata": {
    "scrolled": true
   },
   "outputs": [
    {
     "name": "stdout",
     "output_type": "stream",
     "text": [
      "(14, 4)\n"
     ]
    }
   ],
   "source": [
    "# Set XGB params to try:\n",
    "params_matr = pd.DataFrame(\n",
    "              np.matrix([[2, 20, 0.3, 1],  \n",
    "                         [2, 20, 0.3, 6], \n",
    "                         [3, 100, 0.1, 5],\n",
    "                         [3, 100, 0.1, 1], \n",
    "                         [3, 1000, 0.01, 1], \n",
    "                         [4, 100, 0.05, 1], \n",
    "                         [4, 400, 0.05, 1 ], \n",
    "                         [4, 1000, 0.01, 1], \n",
    "                         [5, 100, 0.1, 1], \n",
    "                         [5, 500, 0.01, 1], \n",
    "                         [6, 100, 0.05, 1], \n",
    "                         [6, 500, 0.005, 1], \n",
    "                         [4, 400, 0.05, 5], \n",
    "                         [12, 100, 0.05, 1]]))\n",
    "print(params_matr.shape)\n",
    "\n",
    "output_df = pd.DataFrame(columns = ['seed_split', 'seed_algo', 'max_depth', 'n_estimators', 'learning_rate', \n",
    "                                    'max_child_weight', 'uplift_tr', 'uplift_ts', 'income_3m_tr', 'income_3m_ts',\n",
    "                                    'income_6m_tr', 'income_6m_ts'])\n",
    "\n",
    "top_feat_imp = pd.DataFrame(columns = ['X' + str(x) for x in range(30)])"
   ]
  },
  {
   "cell_type": "code",
   "execution_count": 200,
   "metadata": {
    "scrolled": true
   },
   "outputs": [],
   "source": [
    "#%%time\n",
    "# Example\n",
    "#a,b = offline_simulate_res(X_train, y_train, seed_split=42232, seed_algo=2101432, parms_array=[6, 10, 0.03, 1 ], \n",
    "#                         income_data=income_data)\n",
    "#print(a)\n",
    "#print(b.head())"
   ]
  },
  {
   "cell_type": "code",
   "execution_count": null,
   "metadata": {},
   "outputs": [],
   "source": [
    "#Uplift on train: 0.0508\n",
    "#Uplift on test: 0.0416\n",
    "\n",
    "#0.0603 \n",
    "#0.0468 "
   ]
  },
  {
   "cell_type": "code",
   "execution_count": 29,
   "metadata": {
    "scrolled": true
   },
   "outputs": [
    {
     "name": "stdout",
     "output_type": "stream",
     "text": [
      "100\n",
      "200\n",
      "300\n",
      "400\n",
      "Wall time: 15h 6min 21s\n"
     ]
    }
   ],
   "source": [
    "%%time\n",
    "for i in range(420):\n",
    "    seed_split = np.random.randint(0, 1000000, 1)[0]\n",
    "    seed_algo = np.random.randint(0, 1000000, 1)[0]\n",
    "    xgb_params = params_matr.loc[i%14,:].values\n",
    "    tmp_res, feat_import = offline_simulate_res( X_train, y_train, \n",
    "                                                 seed_split=seed_split,\n",
    "                                                 seed_algo=seed_algo, \n",
    "                                                 parms_array=xgb_params, \n",
    "                                                 #parms_array=[1,20,0.1,1],\n",
    "                                                 income_data=income_data)\n",
    "    output_df.loc[i] = [seed_split, seed_algo] + list(xgb_params) + [x for row in tmp_res.values for x in row]\n",
    "    top_feat_imp.loc[i] = feat_import['Feature'].values.tolist()\n",
    "    if(i == 100): print(i)\n",
    "    if(i == 200): print(i)\n",
    "    if(i == 300): print(i)\n",
    "    if(i == 400): print(i)"
   ]
  },
  {
   "cell_type": "code",
   "execution_count": 31,
   "metadata": {},
   "outputs": [
    {
     "data": {
      "text/html": [
       "<div>\n",
       "<style scoped>\n",
       "    .dataframe tbody tr th:only-of-type {\n",
       "        vertical-align: middle;\n",
       "    }\n",
       "\n",
       "    .dataframe tbody tr th {\n",
       "        vertical-align: top;\n",
       "    }\n",
       "\n",
       "    .dataframe thead th {\n",
       "        text-align: right;\n",
       "    }\n",
       "</style>\n",
       "<table border=\"1\" class=\"dataframe\">\n",
       "  <thead>\n",
       "    <tr style=\"text-align: right;\">\n",
       "      <th></th>\n",
       "      <th>seed_split</th>\n",
       "      <th>seed_algo</th>\n",
       "      <th>max_depth</th>\n",
       "      <th>n_estimators</th>\n",
       "      <th>learning_rate</th>\n",
       "      <th>max_child_weight</th>\n",
       "      <th>uplift_tr</th>\n",
       "      <th>uplift_ts</th>\n",
       "      <th>income_3m_tr</th>\n",
       "      <th>income_3m_ts</th>\n",
       "      <th>income_6m_tr</th>\n",
       "      <th>income_6m_ts</th>\n",
       "    </tr>\n",
       "  </thead>\n",
       "  <tbody>\n",
       "    <tr>\n",
       "      <th>0</th>\n",
       "      <td>801368.0</td>\n",
       "      <td>86357.0</td>\n",
       "      <td>2.0</td>\n",
       "      <td>20.0</td>\n",
       "      <td>0.3</td>\n",
       "      <td>1.0</td>\n",
       "      <td>0.0381</td>\n",
       "      <td>0.0351</td>\n",
       "      <td>105.0</td>\n",
       "      <td>106.0</td>\n",
       "      <td>241.0</td>\n",
       "      <td>239.0</td>\n",
       "    </tr>\n",
       "    <tr>\n",
       "      <th>1</th>\n",
       "      <td>971512.0</td>\n",
       "      <td>930758.0</td>\n",
       "      <td>2.0</td>\n",
       "      <td>20.0</td>\n",
       "      <td>0.3</td>\n",
       "      <td>6.0</td>\n",
       "      <td>0.0349</td>\n",
       "      <td>0.0372</td>\n",
       "      <td>111.0</td>\n",
       "      <td>119.0</td>\n",
       "      <td>256.0</td>\n",
       "      <td>271.0</td>\n",
       "    </tr>\n",
       "    <tr>\n",
       "      <th>2</th>\n",
       "      <td>422187.0</td>\n",
       "      <td>197247.0</td>\n",
       "      <td>3.0</td>\n",
       "      <td>100.0</td>\n",
       "      <td>0.1</td>\n",
       "      <td>5.0</td>\n",
       "      <td>0.0444</td>\n",
       "      <td>0.0337</td>\n",
       "      <td>106.0</td>\n",
       "      <td>104.0</td>\n",
       "      <td>242.0</td>\n",
       "      <td>243.0</td>\n",
       "    </tr>\n",
       "  </tbody>\n",
       "</table>\n",
       "</div>"
      ],
      "text/plain": [
       "   seed_split  seed_algo  max_depth  n_estimators  learning_rate  \\\n",
       "0    801368.0    86357.0        2.0          20.0            0.3   \n",
       "1    971512.0   930758.0        2.0          20.0            0.3   \n",
       "2    422187.0   197247.0        3.0         100.0            0.1   \n",
       "\n",
       "   max_child_weight  uplift_tr  uplift_ts  income_3m_tr  income_3m_ts  \\\n",
       "0               1.0     0.0381     0.0351         105.0         106.0   \n",
       "1               6.0     0.0349     0.0372         111.0         119.0   \n",
       "2               5.0     0.0444     0.0337         106.0         104.0   \n",
       "\n",
       "   income_6m_tr  income_6m_ts  \n",
       "0         241.0         239.0  \n",
       "1         256.0         271.0  \n",
       "2         242.0         243.0  "
      ]
     },
     "execution_count": 31,
     "metadata": {},
     "output_type": "execute_result"
    }
   ],
   "source": [
    "output_df.head(3)"
   ]
  },
  {
   "cell_type": "code",
   "execution_count": 32,
   "metadata": {},
   "outputs": [
    {
     "data": {
      "text/html": [
       "<div>\n",
       "<style scoped>\n",
       "    .dataframe tbody tr th:only-of-type {\n",
       "        vertical-align: middle;\n",
       "    }\n",
       "\n",
       "    .dataframe tbody tr th {\n",
       "        vertical-align: top;\n",
       "    }\n",
       "\n",
       "    .dataframe thead th {\n",
       "        text-align: right;\n",
       "    }\n",
       "</style>\n",
       "<table border=\"1\" class=\"dataframe\">\n",
       "  <thead>\n",
       "    <tr style=\"text-align: right;\">\n",
       "      <th></th>\n",
       "      <th>X0</th>\n",
       "      <th>X1</th>\n",
       "      <th>X2</th>\n",
       "      <th>X3</th>\n",
       "      <th>X4</th>\n",
       "      <th>X5</th>\n",
       "      <th>X6</th>\n",
       "      <th>X7</th>\n",
       "      <th>X8</th>\n",
       "      <th>X9</th>\n",
       "      <th>...</th>\n",
       "      <th>X20</th>\n",
       "      <th>X21</th>\n",
       "      <th>X22</th>\n",
       "      <th>X23</th>\n",
       "      <th>X24</th>\n",
       "      <th>X25</th>\n",
       "      <th>X26</th>\n",
       "      <th>X27</th>\n",
       "      <th>X28</th>\n",
       "      <th>X29</th>\n",
       "    </tr>\n",
       "  </thead>\n",
       "  <tbody>\n",
       "    <tr>\n",
       "      <th>0</th>\n",
       "      <td>TOTAL_BAL_POS_CHNG_MAX_180</td>\n",
       "      <td>CARD_CONTR_COUNT_0</td>\n",
       "      <td>LAST_CONTR_STATUS_TIME</td>\n",
       "      <td>LIM_AVG_N_POS_CHANGE</td>\n",
       "      <td>CONTROL_GROUP_FLG</td>\n",
       "      <td>LAST_CARD_STATUS_TIME</td>\n",
       "      <td>BAL</td>\n",
       "      <td>CL_AMT_ZP</td>\n",
       "      <td>LIM_RECENT</td>\n",
       "      <td>FL_GOLD</td>\n",
       "      <td>...</td>\n",
       "      <td>CL_INDUSTR_dummy_NA</td>\n",
       "      <td>CL_INDUSTR_dummy_FUELCOMPLEX</td>\n",
       "      <td>CL_INDUSTR_dummy_AGRICULTURE</td>\n",
       "      <td>CL_INDUSTR_dummy_EDUCATION</td>\n",
       "      <td>CL_INDUSTR_dummy_ENGINEERING</td>\n",
       "      <td>CL_ESTATE_TYPE_dummy_RENT</td>\n",
       "      <td>LAST_CARD_STATUS_dummy_182</td>\n",
       "      <td>CL_ESTATE_TYPE_dummy_JOINTLYPROPERTY</td>\n",
       "      <td>CL_ESTATE_TYPE_dummy_PERSONALPROPERTY</td>\n",
       "      <td>LAST_CARD_STATUS_dummy_74</td>\n",
       "    </tr>\n",
       "    <tr>\n",
       "      <th>1</th>\n",
       "      <td>TOTAL_BAL_POS_CHNG_MAX_180</td>\n",
       "      <td>CARD_CONTR_COUNT_0</td>\n",
       "      <td>LAST_CONTR_STATUS_TIME</td>\n",
       "      <td>CONTROL_GROUP_FLG</td>\n",
       "      <td>BAL</td>\n",
       "      <td>LAST_CARD_STATUS_TIME</td>\n",
       "      <td>FL_GOLD</td>\n",
       "      <td>CL_AMT_ZP</td>\n",
       "      <td>LIM_RECENT</td>\n",
       "      <td>LIM_AVG_CHANGE</td>\n",
       "      <td>...</td>\n",
       "      <td>CL_ESTATE_TYPE_dummy_LIVINGWITHPARENTS</td>\n",
       "      <td>CL_ESTATE_TYPE_dummy_NA</td>\n",
       "      <td>CL_ESTATE_TYPE_dummy_RENT</td>\n",
       "      <td>CL_INDUSTR_dummy_AGRICULTURE</td>\n",
       "      <td>CL_ESTATE_TYPE_dummy_OTHER</td>\n",
       "      <td>LAST_CARD_STATUS_dummy_98</td>\n",
       "      <td>CL_ESTATE_TYPE_dummy_JOINTLYPROPERTY</td>\n",
       "      <td>CL_OWN_TYPE_dummy_NA</td>\n",
       "      <td>CL_FAM_ST_dummy_DIVORCED</td>\n",
       "      <td>CL_FAM_ST_dummy_NA</td>\n",
       "    </tr>\n",
       "    <tr>\n",
       "      <th>2</th>\n",
       "      <td>LAST_CONTR_STATUS_TIME</td>\n",
       "      <td>TOTAL_BAL_POS_CHNG_MAX_180</td>\n",
       "      <td>LAST_CARD_STATUS_TIME</td>\n",
       "      <td>CARD_CONTR_COUNT_0</td>\n",
       "      <td>CONTROL_GROUP_FLG</td>\n",
       "      <td>BAL</td>\n",
       "      <td>CL_AMT_ZP</td>\n",
       "      <td>LIM_RECENT</td>\n",
       "      <td>AGE</td>\n",
       "      <td>LIM_AVG_N_POS_CHANGE</td>\n",
       "      <td>...</td>\n",
       "      <td>LIM_AVG_N_CHANGES</td>\n",
       "      <td>TXN_CHN_POS terminal_MAX_180</td>\n",
       "      <td>IS_LOYALTY_AUTO</td>\n",
       "      <td>SIN_BD_MONTH</td>\n",
       "      <td>TOTAL_BAL_POS_CHNG_MIN_31</td>\n",
       "      <td>TXN_TP_Credit_MEAN_180</td>\n",
       "      <td>CL_SOC_ST_dummy_DECREE</td>\n",
       "      <td>LAST_CARD_STATUS_dummy_176</td>\n",
       "      <td>TOTAL_BAL_NEG_CHNG_N_180</td>\n",
       "      <td>CARD_STATUS_176</td>\n",
       "    </tr>\n",
       "  </tbody>\n",
       "</table>\n",
       "<p>3 rows × 30 columns</p>\n",
       "</div>"
      ],
      "text/plain": [
       "                           X0                          X1  \\\n",
       "0  TOTAL_BAL_POS_CHNG_MAX_180          CARD_CONTR_COUNT_0   \n",
       "1  TOTAL_BAL_POS_CHNG_MAX_180          CARD_CONTR_COUNT_0   \n",
       "2      LAST_CONTR_STATUS_TIME  TOTAL_BAL_POS_CHNG_MAX_180   \n",
       "\n",
       "                       X2                    X3                 X4  \\\n",
       "0  LAST_CONTR_STATUS_TIME  LIM_AVG_N_POS_CHANGE  CONTROL_GROUP_FLG   \n",
       "1  LAST_CONTR_STATUS_TIME     CONTROL_GROUP_FLG                BAL   \n",
       "2   LAST_CARD_STATUS_TIME    CARD_CONTR_COUNT_0  CONTROL_GROUP_FLG   \n",
       "\n",
       "                      X5         X6          X7          X8  \\\n",
       "0  LAST_CARD_STATUS_TIME        BAL   CL_AMT_ZP  LIM_RECENT   \n",
       "1  LAST_CARD_STATUS_TIME    FL_GOLD   CL_AMT_ZP  LIM_RECENT   \n",
       "2                    BAL  CL_AMT_ZP  LIM_RECENT         AGE   \n",
       "\n",
       "                     X9            ...              \\\n",
       "0               FL_GOLD            ...               \n",
       "1        LIM_AVG_CHANGE            ...               \n",
       "2  LIM_AVG_N_POS_CHANGE            ...               \n",
       "\n",
       "                                      X20                           X21  \\\n",
       "0                     CL_INDUSTR_dummy_NA  CL_INDUSTR_dummy_FUELCOMPLEX   \n",
       "1  CL_ESTATE_TYPE_dummy_LIVINGWITHPARENTS       CL_ESTATE_TYPE_dummy_NA   \n",
       "2                       LIM_AVG_N_CHANGES  TXN_CHN_POS terminal_MAX_180   \n",
       "\n",
       "                            X22                           X23  \\\n",
       "0  CL_INDUSTR_dummy_AGRICULTURE    CL_INDUSTR_dummy_EDUCATION   \n",
       "1     CL_ESTATE_TYPE_dummy_RENT  CL_INDUSTR_dummy_AGRICULTURE   \n",
       "2               IS_LOYALTY_AUTO                  SIN_BD_MONTH   \n",
       "\n",
       "                            X24                        X25  \\\n",
       "0  CL_INDUSTR_dummy_ENGINEERING  CL_ESTATE_TYPE_dummy_RENT   \n",
       "1    CL_ESTATE_TYPE_dummy_OTHER  LAST_CARD_STATUS_dummy_98   \n",
       "2     TOTAL_BAL_POS_CHNG_MIN_31     TXN_TP_Credit_MEAN_180   \n",
       "\n",
       "                                    X26                                   X27  \\\n",
       "0            LAST_CARD_STATUS_dummy_182  CL_ESTATE_TYPE_dummy_JOINTLYPROPERTY   \n",
       "1  CL_ESTATE_TYPE_dummy_JOINTLYPROPERTY                  CL_OWN_TYPE_dummy_NA   \n",
       "2                CL_SOC_ST_dummy_DECREE            LAST_CARD_STATUS_dummy_176   \n",
       "\n",
       "                                     X28                        X29  \n",
       "0  CL_ESTATE_TYPE_dummy_PERSONALPROPERTY  LAST_CARD_STATUS_dummy_74  \n",
       "1               CL_FAM_ST_dummy_DIVORCED         CL_FAM_ST_dummy_NA  \n",
       "2               TOTAL_BAL_NEG_CHNG_N_180            CARD_STATUS_176  \n",
       "\n",
       "[3 rows x 30 columns]"
      ]
     },
     "execution_count": 32,
     "metadata": {},
     "output_type": "execute_result"
    }
   ],
   "source": [
    "top_feat_imp.head(3)"
   ]
  },
  {
   "cell_type": "code",
   "execution_count": 35,
   "metadata": {},
   "outputs": [],
   "source": [
    "output_df.to_csv('model_results/one_mod_simulation_results.csv', index=False, decimal=',')"
   ]
  },
  {
   "cell_type": "code",
   "execution_count": 34,
   "metadata": {},
   "outputs": [],
   "source": [
    "top_feat_imp.to_csv('model_results/one_mod_top_features.csv', index=False)"
   ]
  },
  {
   "cell_type": "code",
   "execution_count": 36,
   "metadata": {},
   "outputs": [
    {
     "data": {
      "text/html": [
       "<div>\n",
       "<style scoped>\n",
       "    .dataframe tbody tr th:only-of-type {\n",
       "        vertical-align: middle;\n",
       "    }\n",
       "\n",
       "    .dataframe tbody tr th {\n",
       "        vertical-align: top;\n",
       "    }\n",
       "\n",
       "    .dataframe thead th {\n",
       "        text-align: right;\n",
       "    }\n",
       "</style>\n",
       "<table border=\"1\" class=\"dataframe\">\n",
       "  <thead>\n",
       "    <tr style=\"text-align: right;\">\n",
       "      <th></th>\n",
       "      <th>seed_split</th>\n",
       "      <th>seed_algo</th>\n",
       "      <th>max_depth</th>\n",
       "      <th>n_estimators</th>\n",
       "      <th>learning_rate</th>\n",
       "      <th>max_child_weight</th>\n",
       "      <th>uplift_tr</th>\n",
       "      <th>uplift_ts</th>\n",
       "      <th>income_3m_tr</th>\n",
       "      <th>income_3m_ts</th>\n",
       "      <th>income_6m_tr</th>\n",
       "      <th>income_6m_ts</th>\n",
       "    </tr>\n",
       "  </thead>\n",
       "  <tbody>\n",
       "    <tr>\n",
       "      <th>0</th>\n",
       "      <td>801368.0</td>\n",
       "      <td>86357.0</td>\n",
       "      <td>2.0</td>\n",
       "      <td>20.0</td>\n",
       "      <td>0.30</td>\n",
       "      <td>1.0</td>\n",
       "      <td>0.0381</td>\n",
       "      <td>0.0351</td>\n",
       "      <td>105.0</td>\n",
       "      <td>106.0</td>\n",
       "      <td>241.0</td>\n",
       "      <td>239.0</td>\n",
       "    </tr>\n",
       "    <tr>\n",
       "      <th>1</th>\n",
       "      <td>971512.0</td>\n",
       "      <td>930758.0</td>\n",
       "      <td>2.0</td>\n",
       "      <td>20.0</td>\n",
       "      <td>0.30</td>\n",
       "      <td>6.0</td>\n",
       "      <td>0.0349</td>\n",
       "      <td>0.0372</td>\n",
       "      <td>111.0</td>\n",
       "      <td>119.0</td>\n",
       "      <td>256.0</td>\n",
       "      <td>271.0</td>\n",
       "    </tr>\n",
       "    <tr>\n",
       "      <th>2</th>\n",
       "      <td>422187.0</td>\n",
       "      <td>197247.0</td>\n",
       "      <td>3.0</td>\n",
       "      <td>100.0</td>\n",
       "      <td>0.10</td>\n",
       "      <td>5.0</td>\n",
       "      <td>0.0444</td>\n",
       "      <td>0.0337</td>\n",
       "      <td>106.0</td>\n",
       "      <td>104.0</td>\n",
       "      <td>242.0</td>\n",
       "      <td>243.0</td>\n",
       "    </tr>\n",
       "    <tr>\n",
       "      <th>3</th>\n",
       "      <td>40583.0</td>\n",
       "      <td>191460.0</td>\n",
       "      <td>3.0</td>\n",
       "      <td>100.0</td>\n",
       "      <td>0.10</td>\n",
       "      <td>1.0</td>\n",
       "      <td>0.0428</td>\n",
       "      <td>0.0421</td>\n",
       "      <td>107.0</td>\n",
       "      <td>118.0</td>\n",
       "      <td>247.0</td>\n",
       "      <td>263.0</td>\n",
       "    </tr>\n",
       "    <tr>\n",
       "      <th>4</th>\n",
       "      <td>886963.0</td>\n",
       "      <td>13027.0</td>\n",
       "      <td>3.0</td>\n",
       "      <td>1000.0</td>\n",
       "      <td>0.01</td>\n",
       "      <td>1.0</td>\n",
       "      <td>0.0441</td>\n",
       "      <td>0.0370</td>\n",
       "      <td>102.0</td>\n",
       "      <td>100.0</td>\n",
       "      <td>232.0</td>\n",
       "      <td>234.0</td>\n",
       "    </tr>\n",
       "  </tbody>\n",
       "</table>\n",
       "</div>"
      ],
      "text/plain": [
       "   seed_split  seed_algo  max_depth  n_estimators  learning_rate  \\\n",
       "0    801368.0    86357.0        2.0          20.0           0.30   \n",
       "1    971512.0   930758.0        2.0          20.0           0.30   \n",
       "2    422187.0   197247.0        3.0         100.0           0.10   \n",
       "3     40583.0   191460.0        3.0         100.0           0.10   \n",
       "4    886963.0    13027.0        3.0        1000.0           0.01   \n",
       "\n",
       "   max_child_weight  uplift_tr  uplift_ts  income_3m_tr  income_3m_ts  \\\n",
       "0               1.0     0.0381     0.0351         105.0         106.0   \n",
       "1               6.0     0.0349     0.0372         111.0         119.0   \n",
       "2               5.0     0.0444     0.0337         106.0         104.0   \n",
       "3               1.0     0.0428     0.0421         107.0         118.0   \n",
       "4               1.0     0.0441     0.0370         102.0         100.0   \n",
       "\n",
       "   income_6m_tr  income_6m_ts  \n",
       "0         241.0         239.0  \n",
       "1         256.0         271.0  \n",
       "2         242.0         243.0  \n",
       "3         247.0         263.0  \n",
       "4         232.0         234.0  "
      ]
     },
     "execution_count": 36,
     "metadata": {},
     "output_type": "execute_result"
    }
   ],
   "source": [
    "output_df.head()"
   ]
  },
  {
   "cell_type": "code",
   "execution_count": 48,
   "metadata": {},
   "outputs": [],
   "source": [
    "output_df_1 = output_df.assign(model_params = output_df['max_depth'].astype(str) + '_' + \n",
    "                                              output_df['n_estimators'].astype(str) + '_'  +\n",
    "                                              output_df['learning_rate'].astype(str) + '_' + \n",
    "                                              output_df['max_child_weight'].astype(str))"
   ]
  },
  {
   "cell_type": "code",
   "execution_count": 49,
   "metadata": {
    "scrolled": true
   },
   "outputs": [
    {
     "data": {
      "text/html": [
       "<div>\n",
       "<style scoped>\n",
       "    .dataframe tbody tr th:only-of-type {\n",
       "        vertical-align: middle;\n",
       "    }\n",
       "\n",
       "    .dataframe tbody tr th {\n",
       "        vertical-align: top;\n",
       "    }\n",
       "\n",
       "    .dataframe thead th {\n",
       "        text-align: right;\n",
       "    }\n",
       "</style>\n",
       "<table border=\"1\" class=\"dataframe\">\n",
       "  <thead>\n",
       "    <tr style=\"text-align: right;\">\n",
       "      <th></th>\n",
       "      <th>seed_split</th>\n",
       "      <th>seed_algo</th>\n",
       "      <th>max_depth</th>\n",
       "      <th>n_estimators</th>\n",
       "      <th>learning_rate</th>\n",
       "      <th>max_child_weight</th>\n",
       "      <th>uplift_tr</th>\n",
       "      <th>uplift_ts</th>\n",
       "      <th>income_3m_tr</th>\n",
       "      <th>income_3m_ts</th>\n",
       "      <th>income_6m_tr</th>\n",
       "      <th>income_6m_ts</th>\n",
       "      <th>model_params</th>\n",
       "    </tr>\n",
       "  </thead>\n",
       "  <tbody>\n",
       "    <tr>\n",
       "      <th>0</th>\n",
       "      <td>801368.0</td>\n",
       "      <td>86357.0</td>\n",
       "      <td>2.0</td>\n",
       "      <td>20.0</td>\n",
       "      <td>0.30</td>\n",
       "      <td>1.0</td>\n",
       "      <td>0.0381</td>\n",
       "      <td>0.0351</td>\n",
       "      <td>105.0</td>\n",
       "      <td>106.0</td>\n",
       "      <td>241.0</td>\n",
       "      <td>239.0</td>\n",
       "      <td>2.0_20.0_0.3_1.0</td>\n",
       "    </tr>\n",
       "    <tr>\n",
       "      <th>1</th>\n",
       "      <td>971512.0</td>\n",
       "      <td>930758.0</td>\n",
       "      <td>2.0</td>\n",
       "      <td>20.0</td>\n",
       "      <td>0.30</td>\n",
       "      <td>6.0</td>\n",
       "      <td>0.0349</td>\n",
       "      <td>0.0372</td>\n",
       "      <td>111.0</td>\n",
       "      <td>119.0</td>\n",
       "      <td>256.0</td>\n",
       "      <td>271.0</td>\n",
       "      <td>2.0_20.0_0.3_6.0</td>\n",
       "    </tr>\n",
       "    <tr>\n",
       "      <th>2</th>\n",
       "      <td>422187.0</td>\n",
       "      <td>197247.0</td>\n",
       "      <td>3.0</td>\n",
       "      <td>100.0</td>\n",
       "      <td>0.10</td>\n",
       "      <td>5.0</td>\n",
       "      <td>0.0444</td>\n",
       "      <td>0.0337</td>\n",
       "      <td>106.0</td>\n",
       "      <td>104.0</td>\n",
       "      <td>242.0</td>\n",
       "      <td>243.0</td>\n",
       "      <td>3.0_100.0_0.1_5.0</td>\n",
       "    </tr>\n",
       "    <tr>\n",
       "      <th>3</th>\n",
       "      <td>40583.0</td>\n",
       "      <td>191460.0</td>\n",
       "      <td>3.0</td>\n",
       "      <td>100.0</td>\n",
       "      <td>0.10</td>\n",
       "      <td>1.0</td>\n",
       "      <td>0.0428</td>\n",
       "      <td>0.0421</td>\n",
       "      <td>107.0</td>\n",
       "      <td>118.0</td>\n",
       "      <td>247.0</td>\n",
       "      <td>263.0</td>\n",
       "      <td>3.0_100.0_0.1_1.0</td>\n",
       "    </tr>\n",
       "    <tr>\n",
       "      <th>4</th>\n",
       "      <td>886963.0</td>\n",
       "      <td>13027.0</td>\n",
       "      <td>3.0</td>\n",
       "      <td>1000.0</td>\n",
       "      <td>0.01</td>\n",
       "      <td>1.0</td>\n",
       "      <td>0.0441</td>\n",
       "      <td>0.0370</td>\n",
       "      <td>102.0</td>\n",
       "      <td>100.0</td>\n",
       "      <td>232.0</td>\n",
       "      <td>234.0</td>\n",
       "      <td>3.0_1000.0_0.01_1.0</td>\n",
       "    </tr>\n",
       "  </tbody>\n",
       "</table>\n",
       "</div>"
      ],
      "text/plain": [
       "   seed_split  seed_algo  max_depth  n_estimators  learning_rate  \\\n",
       "0    801368.0    86357.0        2.0          20.0           0.30   \n",
       "1    971512.0   930758.0        2.0          20.0           0.30   \n",
       "2    422187.0   197247.0        3.0         100.0           0.10   \n",
       "3     40583.0   191460.0        3.0         100.0           0.10   \n",
       "4    886963.0    13027.0        3.0        1000.0           0.01   \n",
       "\n",
       "   max_child_weight  uplift_tr  uplift_ts  income_3m_tr  income_3m_ts  \\\n",
       "0               1.0     0.0381     0.0351         105.0         106.0   \n",
       "1               6.0     0.0349     0.0372         111.0         119.0   \n",
       "2               5.0     0.0444     0.0337         106.0         104.0   \n",
       "3               1.0     0.0428     0.0421         107.0         118.0   \n",
       "4               1.0     0.0441     0.0370         102.0         100.0   \n",
       "\n",
       "   income_6m_tr  income_6m_ts         model_params  \n",
       "0         241.0         239.0     2.0_20.0_0.3_1.0  \n",
       "1         256.0         271.0     2.0_20.0_0.3_6.0  \n",
       "2         242.0         243.0    3.0_100.0_0.1_5.0  \n",
       "3         247.0         263.0    3.0_100.0_0.1_1.0  \n",
       "4         232.0         234.0  3.0_1000.0_0.01_1.0  "
      ]
     },
     "execution_count": 49,
     "metadata": {},
     "output_type": "execute_result"
    }
   ],
   "source": [
    "output_df_1.head()"
   ]
  },
  {
   "cell_type": "code",
   "execution_count": 52,
   "metadata": {},
   "outputs": [
    {
     "data": {
      "text/plain": [
       "['seed_split',\n",
       " 'seed_algo',\n",
       " 'max_depth',\n",
       " 'n_estimators',\n",
       " 'learning_rate',\n",
       " 'max_child_weight',\n",
       " 'uplift_tr',\n",
       " 'uplift_ts',\n",
       " 'income_3m_tr',\n",
       " 'income_3m_ts',\n",
       " 'income_6m_tr',\n",
       " 'income_6m_ts',\n",
       " 'model_params']"
      ]
     },
     "execution_count": 52,
     "metadata": {},
     "output_type": "execute_result"
    }
   ],
   "source": [
    "output_df_1.columns.tolist()"
   ]
  },
  {
   "cell_type": "code",
   "execution_count": 55,
   "metadata": {},
   "outputs": [
    {
     "data": {
      "text/html": [
       "<div>\n",
       "<style scoped>\n",
       "    .dataframe tbody tr th:only-of-type {\n",
       "        vertical-align: middle;\n",
       "    }\n",
       "\n",
       "    .dataframe tbody tr th {\n",
       "        vertical-align: top;\n",
       "    }\n",
       "\n",
       "    .dataframe thead th {\n",
       "        text-align: right;\n",
       "    }\n",
       "</style>\n",
       "<table border=\"1\" class=\"dataframe\">\n",
       "  <thead>\n",
       "    <tr style=\"text-align: right;\">\n",
       "      <th></th>\n",
       "      <th>uplift_tr</th>\n",
       "      <th>uplift_ts</th>\n",
       "      <th>income_3m_tr</th>\n",
       "      <th>income_3m_ts</th>\n",
       "      <th>income_6m_tr</th>\n",
       "      <th>income_6m_ts</th>\n",
       "    </tr>\n",
       "    <tr>\n",
       "      <th>model_params</th>\n",
       "      <th></th>\n",
       "      <th></th>\n",
       "      <th></th>\n",
       "      <th></th>\n",
       "      <th></th>\n",
       "      <th></th>\n",
       "    </tr>\n",
       "  </thead>\n",
       "  <tbody>\n",
       "    <tr>\n",
       "      <th>3.0_100.0_0.1_1.0</th>\n",
       "      <td>0.042790</td>\n",
       "      <td>0.039150</td>\n",
       "      <td>105.100000</td>\n",
       "      <td>104.800000</td>\n",
       "      <td>241.566667</td>\n",
       "      <td>241.500000</td>\n",
       "    </tr>\n",
       "    <tr>\n",
       "      <th>4.0_400.0_0.05_1.0</th>\n",
       "      <td>0.049777</td>\n",
       "      <td>0.038323</td>\n",
       "      <td>103.566667</td>\n",
       "      <td>102.166667</td>\n",
       "      <td>236.866667</td>\n",
       "      <td>234.166667</td>\n",
       "    </tr>\n",
       "    <tr>\n",
       "      <th>4.0_1000.0_0.01_1.0</th>\n",
       "      <td>0.048460</td>\n",
       "      <td>0.038270</td>\n",
       "      <td>103.333333</td>\n",
       "      <td>102.666667</td>\n",
       "      <td>236.233333</td>\n",
       "      <td>236.166667</td>\n",
       "    </tr>\n",
       "    <tr>\n",
       "      <th>5.0_500.0_0.01_1.0</th>\n",
       "      <td>0.049343</td>\n",
       "      <td>0.038100</td>\n",
       "      <td>101.300000</td>\n",
       "      <td>100.200000</td>\n",
       "      <td>233.100000</td>\n",
       "      <td>228.933333</td>\n",
       "    </tr>\n",
       "    <tr>\n",
       "      <th>6.0_100.0_0.05_1.0</th>\n",
       "      <td>0.058037</td>\n",
       "      <td>0.038037</td>\n",
       "      <td>100.200000</td>\n",
       "      <td>99.600000</td>\n",
       "      <td>229.633333</td>\n",
       "      <td>228.166667</td>\n",
       "    </tr>\n",
       "    <tr>\n",
       "      <th>3.0_100.0_0.1_5.0</th>\n",
       "      <td>0.042890</td>\n",
       "      <td>0.038007</td>\n",
       "      <td>105.233333</td>\n",
       "      <td>103.933333</td>\n",
       "      <td>241.333333</td>\n",
       "      <td>240.800000</td>\n",
       "    </tr>\n",
       "    <tr>\n",
       "      <th>3.0_1000.0_0.01_1.0</th>\n",
       "      <td>0.043300</td>\n",
       "      <td>0.037740</td>\n",
       "      <td>106.600000</td>\n",
       "      <td>104.600000</td>\n",
       "      <td>244.833333</td>\n",
       "      <td>242.533333</td>\n",
       "    </tr>\n",
       "    <tr>\n",
       "      <th>4.0_400.0_0.05_5.0</th>\n",
       "      <td>0.049183</td>\n",
       "      <td>0.037423</td>\n",
       "      <td>102.200000</td>\n",
       "      <td>100.633333</td>\n",
       "      <td>233.733333</td>\n",
       "      <td>230.500000</td>\n",
       "    </tr>\n",
       "    <tr>\n",
       "      <th>2.0_20.0_0.3_6.0</th>\n",
       "      <td>0.036723</td>\n",
       "      <td>0.036920</td>\n",
       "      <td>110.033333</td>\n",
       "      <td>110.133333</td>\n",
       "      <td>252.300000</td>\n",
       "      <td>251.900000</td>\n",
       "    </tr>\n",
       "    <tr>\n",
       "      <th>5.0_100.0_0.1_1.0</th>\n",
       "      <td>0.056017</td>\n",
       "      <td>0.036693</td>\n",
       "      <td>101.200000</td>\n",
       "      <td>99.300000</td>\n",
       "      <td>231.033333</td>\n",
       "      <td>228.233333</td>\n",
       "    </tr>\n",
       "    <tr>\n",
       "      <th>4.0_100.0_0.05_1.0</th>\n",
       "      <td>0.043443</td>\n",
       "      <td>0.036600</td>\n",
       "      <td>104.200000</td>\n",
       "      <td>104.600000</td>\n",
       "      <td>239.766667</td>\n",
       "      <td>241.733333</td>\n",
       "    </tr>\n",
       "    <tr>\n",
       "      <th>2.0_20.0_0.3_1.0</th>\n",
       "      <td>0.037010</td>\n",
       "      <td>0.036437</td>\n",
       "      <td>110.066667</td>\n",
       "      <td>110.400000</td>\n",
       "      <td>253.066667</td>\n",
       "      <td>251.700000</td>\n",
       "    </tr>\n",
       "    <tr>\n",
       "      <th>12.0_100.0_0.05_1.0</th>\n",
       "      <td>0.093650</td>\n",
       "      <td>0.035663</td>\n",
       "      <td>100.433333</td>\n",
       "      <td>94.700000</td>\n",
       "      <td>225.333333</td>\n",
       "      <td>218.500000</td>\n",
       "    </tr>\n",
       "    <tr>\n",
       "      <th>6.0_500.0_0.005_1.0</th>\n",
       "      <td>0.045927</td>\n",
       "      <td>0.035087</td>\n",
       "      <td>102.400000</td>\n",
       "      <td>102.433333</td>\n",
       "      <td>236.100000</td>\n",
       "      <td>235.266667</td>\n",
       "    </tr>\n",
       "  </tbody>\n",
       "</table>\n",
       "</div>"
      ],
      "text/plain": [
       "                     uplift_tr  uplift_ts  income_3m_tr  income_3m_ts  \\\n",
       "model_params                                                            \n",
       "3.0_100.0_0.1_1.0     0.042790   0.039150    105.100000    104.800000   \n",
       "4.0_400.0_0.05_1.0    0.049777   0.038323    103.566667    102.166667   \n",
       "4.0_1000.0_0.01_1.0   0.048460   0.038270    103.333333    102.666667   \n",
       "5.0_500.0_0.01_1.0    0.049343   0.038100    101.300000    100.200000   \n",
       "6.0_100.0_0.05_1.0    0.058037   0.038037    100.200000     99.600000   \n",
       "3.0_100.0_0.1_5.0     0.042890   0.038007    105.233333    103.933333   \n",
       "3.0_1000.0_0.01_1.0   0.043300   0.037740    106.600000    104.600000   \n",
       "4.0_400.0_0.05_5.0    0.049183   0.037423    102.200000    100.633333   \n",
       "2.0_20.0_0.3_6.0      0.036723   0.036920    110.033333    110.133333   \n",
       "5.0_100.0_0.1_1.0     0.056017   0.036693    101.200000     99.300000   \n",
       "4.0_100.0_0.05_1.0    0.043443   0.036600    104.200000    104.600000   \n",
       "2.0_20.0_0.3_1.0      0.037010   0.036437    110.066667    110.400000   \n",
       "12.0_100.0_0.05_1.0   0.093650   0.035663    100.433333     94.700000   \n",
       "6.0_500.0_0.005_1.0   0.045927   0.035087    102.400000    102.433333   \n",
       "\n",
       "                     income_6m_tr  income_6m_ts  \n",
       "model_params                                     \n",
       "3.0_100.0_0.1_1.0      241.566667    241.500000  \n",
       "4.0_400.0_0.05_1.0     236.866667    234.166667  \n",
       "4.0_1000.0_0.01_1.0    236.233333    236.166667  \n",
       "5.0_500.0_0.01_1.0     233.100000    228.933333  \n",
       "6.0_100.0_0.05_1.0     229.633333    228.166667  \n",
       "3.0_100.0_0.1_5.0      241.333333    240.800000  \n",
       "3.0_1000.0_0.01_1.0    244.833333    242.533333  \n",
       "4.0_400.0_0.05_5.0     233.733333    230.500000  \n",
       "2.0_20.0_0.3_6.0       252.300000    251.900000  \n",
       "5.0_100.0_0.1_1.0      231.033333    228.233333  \n",
       "4.0_100.0_0.05_1.0     239.766667    241.733333  \n",
       "2.0_20.0_0.3_1.0       253.066667    251.700000  \n",
       "12.0_100.0_0.05_1.0    225.333333    218.500000  \n",
       "6.0_500.0_0.005_1.0    236.100000    235.266667  "
      ]
     },
     "execution_count": 55,
     "metadata": {},
     "output_type": "execute_result"
    }
   ],
   "source": [
    "# 30 simulations for each params\n",
    "#output_df_1.groupby(by = 'model_params').count()\n",
    "output_df_1.groupby(by = 'model_params')[output_df_1.columns.tolist()[6:12]].mean().sort_values('uplift_ts',ascending=False)"
   ]
  },
  {
   "cell_type": "code",
   "execution_count": 60,
   "metadata": {},
   "outputs": [],
   "source": [
    "out_all_stats  = output_df_1.groupby(by = 'model_params')[output_df_1.columns.tolist()[6:12]].\\\n",
    "                             agg(['mean', 'std', 'min', 'max'])"
   ]
  },
  {
   "cell_type": "code",
   "execution_count": 70,
   "metadata": {},
   "outputs": [
    {
     "data": {
      "text/plain": [
       "array([False,  True, False, False, False, False])"
      ]
     },
     "execution_count": 70,
     "metadata": {},
     "output_type": "execute_result"
    }
   ],
   "source": [
    "out_all_stats.columns.levels[0] == 'uplift_ts'#in ['uplift_ts', 'income_3m_ts']"
   ]
  },
  {
   "cell_type": "code",
   "execution_count": 65,
   "metadata": {},
   "outputs": [
    {
     "ename": "KeyError",
     "evalue": "'Level uplift_ts not found'",
     "output_type": "error",
     "traceback": [
      "\u001b[1;31m---------------------------------------------------------------------------\u001b[0m",
      "\u001b[1;31mValueError\u001b[0m                                Traceback (most recent call last)",
      "\u001b[1;32m~\\AppData\\Local\\Continuum\\anaconda3_2\\lib\\site-packages\\pandas\\core\\indexes\\multi.py\u001b[0m in \u001b[0;36m_get_level_number\u001b[1;34m(self, level)\u001b[0m\n\u001b[0;32m    654\u001b[0m                                  'level number' % level)\n\u001b[1;32m--> 655\u001b[1;33m             \u001b[0mlevel\u001b[0m \u001b[1;33m=\u001b[0m \u001b[0mself\u001b[0m\u001b[1;33m.\u001b[0m\u001b[0mnames\u001b[0m\u001b[1;33m.\u001b[0m\u001b[0mindex\u001b[0m\u001b[1;33m(\u001b[0m\u001b[0mlevel\u001b[0m\u001b[1;33m)\u001b[0m\u001b[1;33m\u001b[0m\u001b[0m\n\u001b[0m\u001b[0;32m    656\u001b[0m         \u001b[1;32mexcept\u001b[0m \u001b[0mValueError\u001b[0m\u001b[1;33m:\u001b[0m\u001b[1;33m\u001b[0m\u001b[0m\n",
      "\u001b[1;31mValueError\u001b[0m: 'uplift_ts' is not in list",
      "\nDuring handling of the above exception, another exception occurred:\n",
      "\u001b[1;31mKeyError\u001b[0m                                  Traceback (most recent call last)",
      "\u001b[1;32m<ipython-input-65-df0fc5bc3553>\u001b[0m in \u001b[0;36m<module>\u001b[1;34m()\u001b[0m\n\u001b[1;32m----> 1\u001b[1;33m \u001b[0mout_all_stats\u001b[0m\u001b[1;33m.\u001b[0m\u001b[0mcolumns\u001b[0m\u001b[1;33m.\u001b[0m\u001b[0mget_level_values\u001b[0m\u001b[1;33m(\u001b[0m\u001b[1;34m'uplift_ts'\u001b[0m\u001b[1;33m)\u001b[0m\u001b[1;33m\u001b[0m\u001b[0m\n\u001b[0m",
      "\u001b[1;32m~\\AppData\\Local\\Continuum\\anaconda3_2\\lib\\site-packages\\pandas\\core\\indexes\\multi.py\u001b[0m in \u001b[0;36mget_level_values\u001b[1;34m(self, level)\u001b[0m\n\u001b[0;32m    954\u001b[0m         \u001b[0mIndex\u001b[0m\u001b[1;33m(\u001b[0m\u001b[1;33m[\u001b[0m\u001b[1;34m'd'\u001b[0m\u001b[1;33m,\u001b[0m \u001b[1;34m'e'\u001b[0m\u001b[1;33m,\u001b[0m \u001b[1;34m'f'\u001b[0m\u001b[1;33m]\u001b[0m\u001b[1;33m,\u001b[0m \u001b[0mdtype\u001b[0m\u001b[1;33m=\u001b[0m\u001b[1;34m'object'\u001b[0m\u001b[1;33m,\u001b[0m \u001b[0mname\u001b[0m\u001b[1;33m=\u001b[0m\u001b[1;34m'level_2'\u001b[0m\u001b[1;33m)\u001b[0m\u001b[1;33m\u001b[0m\u001b[0m\n\u001b[0;32m    955\u001b[0m         \"\"\"\n\u001b[1;32m--> 956\u001b[1;33m         \u001b[0mlevel\u001b[0m \u001b[1;33m=\u001b[0m \u001b[0mself\u001b[0m\u001b[1;33m.\u001b[0m\u001b[0m_get_level_number\u001b[0m\u001b[1;33m(\u001b[0m\u001b[0mlevel\u001b[0m\u001b[1;33m)\u001b[0m\u001b[1;33m\u001b[0m\u001b[0m\n\u001b[0m\u001b[0;32m    957\u001b[0m         \u001b[0mvalues\u001b[0m \u001b[1;33m=\u001b[0m \u001b[0mself\u001b[0m\u001b[1;33m.\u001b[0m\u001b[0m_get_level_values\u001b[0m\u001b[1;33m(\u001b[0m\u001b[0mlevel\u001b[0m\u001b[1;33m)\u001b[0m\u001b[1;33m\u001b[0m\u001b[0m\n\u001b[0;32m    958\u001b[0m         \u001b[1;32mreturn\u001b[0m \u001b[0mvalues\u001b[0m\u001b[1;33m\u001b[0m\u001b[0m\n",
      "\u001b[1;32m~\\AppData\\Local\\Continuum\\anaconda3_2\\lib\\site-packages\\pandas\\core\\indexes\\multi.py\u001b[0m in \u001b[0;36m_get_level_number\u001b[1;34m(self, level)\u001b[0m\n\u001b[0;32m    656\u001b[0m         \u001b[1;32mexcept\u001b[0m \u001b[0mValueError\u001b[0m\u001b[1;33m:\u001b[0m\u001b[1;33m\u001b[0m\u001b[0m\n\u001b[0;32m    657\u001b[0m             \u001b[1;32mif\u001b[0m \u001b[1;32mnot\u001b[0m \u001b[0misinstance\u001b[0m\u001b[1;33m(\u001b[0m\u001b[0mlevel\u001b[0m\u001b[1;33m,\u001b[0m \u001b[0mint\u001b[0m\u001b[1;33m)\u001b[0m\u001b[1;33m:\u001b[0m\u001b[1;33m\u001b[0m\u001b[0m\n\u001b[1;32m--> 658\u001b[1;33m                 \u001b[1;32mraise\u001b[0m \u001b[0mKeyError\u001b[0m\u001b[1;33m(\u001b[0m\u001b[1;34m'Level %s not found'\u001b[0m \u001b[1;33m%\u001b[0m \u001b[0mstr\u001b[0m\u001b[1;33m(\u001b[0m\u001b[0mlevel\u001b[0m\u001b[1;33m)\u001b[0m\u001b[1;33m)\u001b[0m\u001b[1;33m\u001b[0m\u001b[0m\n\u001b[0m\u001b[0;32m    659\u001b[0m             \u001b[1;32melif\u001b[0m \u001b[0mlevel\u001b[0m \u001b[1;33m<\u001b[0m \u001b[1;36m0\u001b[0m\u001b[1;33m:\u001b[0m\u001b[1;33m\u001b[0m\u001b[0m\n\u001b[0;32m    660\u001b[0m                 \u001b[0mlevel\u001b[0m \u001b[1;33m+=\u001b[0m \u001b[0mself\u001b[0m\u001b[1;33m.\u001b[0m\u001b[0mnlevels\u001b[0m\u001b[1;33m\u001b[0m\u001b[0m\n",
      "\u001b[1;31mKeyError\u001b[0m: 'Level uplift_ts not found'"
     ]
    }
   ],
   "source": [
    "out_all_stats.columns.get_level_values('uplift_ts')"
   ]
  },
  {
   "cell_type": "code",
   "execution_count": 64,
   "metadata": {},
   "outputs": [
    {
     "ename": "KeyError",
     "evalue": "'Level uplift_ts not found'",
     "output_type": "error",
     "traceback": [
      "\u001b[1;31m---------------------------------------------------------------------------\u001b[0m",
      "\u001b[1;31mValueError\u001b[0m                                Traceback (most recent call last)",
      "\u001b[1;32m~\\AppData\\Local\\Continuum\\anaconda3_2\\lib\\site-packages\\pandas\\core\\indexes\\multi.py\u001b[0m in \u001b[0;36m_get_level_number\u001b[1;34m(self, level)\u001b[0m\n\u001b[0;32m    654\u001b[0m                                  'level number' % level)\n\u001b[1;32m--> 655\u001b[1;33m             \u001b[0mlevel\u001b[0m \u001b[1;33m=\u001b[0m \u001b[0mself\u001b[0m\u001b[1;33m.\u001b[0m\u001b[0mnames\u001b[0m\u001b[1;33m.\u001b[0m\u001b[0mindex\u001b[0m\u001b[1;33m(\u001b[0m\u001b[0mlevel\u001b[0m\u001b[1;33m)\u001b[0m\u001b[1;33m\u001b[0m\u001b[0m\n\u001b[0m\u001b[0;32m    656\u001b[0m         \u001b[1;32mexcept\u001b[0m \u001b[0mValueError\u001b[0m\u001b[1;33m:\u001b[0m\u001b[1;33m\u001b[0m\u001b[0m\n",
      "\u001b[1;31mValueError\u001b[0m: 'uplift_ts' is not in list",
      "\nDuring handling of the above exception, another exception occurred:\n",
      "\u001b[1;31mKeyError\u001b[0m                                  Traceback (most recent call last)",
      "\u001b[1;32m<ipython-input-64-668022feec0f>\u001b[0m in \u001b[0;36m<module>\u001b[1;34m()\u001b[0m\n\u001b[1;32m----> 1\u001b[1;33m \u001b[0mout_all_stats\u001b[0m\u001b[1;33m.\u001b[0m\u001b[0miloc\u001b[0m\u001b[1;33m[\u001b[0m\u001b[1;33m:\u001b[0m\u001b[1;33m,\u001b[0m \u001b[0mout_all_stats\u001b[0m\u001b[1;33m.\u001b[0m\u001b[0mcolumns\u001b[0m\u001b[1;33m.\u001b[0m\u001b[0mget_level_values\u001b[0m\u001b[1;33m(\u001b[0m\u001b[1;34m'uplift_ts'\u001b[0m\u001b[1;33m)\u001b[0m\u001b[1;33m]\u001b[0m\u001b[1;33m\u001b[0m\u001b[0m\n\u001b[0m",
      "\u001b[1;32m~\\AppData\\Local\\Continuum\\anaconda3_2\\lib\\site-packages\\pandas\\core\\indexes\\multi.py\u001b[0m in \u001b[0;36mget_level_values\u001b[1;34m(self, level)\u001b[0m\n\u001b[0;32m    954\u001b[0m         \u001b[0mIndex\u001b[0m\u001b[1;33m(\u001b[0m\u001b[1;33m[\u001b[0m\u001b[1;34m'd'\u001b[0m\u001b[1;33m,\u001b[0m \u001b[1;34m'e'\u001b[0m\u001b[1;33m,\u001b[0m \u001b[1;34m'f'\u001b[0m\u001b[1;33m]\u001b[0m\u001b[1;33m,\u001b[0m \u001b[0mdtype\u001b[0m\u001b[1;33m=\u001b[0m\u001b[1;34m'object'\u001b[0m\u001b[1;33m,\u001b[0m \u001b[0mname\u001b[0m\u001b[1;33m=\u001b[0m\u001b[1;34m'level_2'\u001b[0m\u001b[1;33m)\u001b[0m\u001b[1;33m\u001b[0m\u001b[0m\n\u001b[0;32m    955\u001b[0m         \"\"\"\n\u001b[1;32m--> 956\u001b[1;33m         \u001b[0mlevel\u001b[0m \u001b[1;33m=\u001b[0m \u001b[0mself\u001b[0m\u001b[1;33m.\u001b[0m\u001b[0m_get_level_number\u001b[0m\u001b[1;33m(\u001b[0m\u001b[0mlevel\u001b[0m\u001b[1;33m)\u001b[0m\u001b[1;33m\u001b[0m\u001b[0m\n\u001b[0m\u001b[0;32m    957\u001b[0m         \u001b[0mvalues\u001b[0m \u001b[1;33m=\u001b[0m \u001b[0mself\u001b[0m\u001b[1;33m.\u001b[0m\u001b[0m_get_level_values\u001b[0m\u001b[1;33m(\u001b[0m\u001b[0mlevel\u001b[0m\u001b[1;33m)\u001b[0m\u001b[1;33m\u001b[0m\u001b[0m\n\u001b[0;32m    958\u001b[0m         \u001b[1;32mreturn\u001b[0m \u001b[0mvalues\u001b[0m\u001b[1;33m\u001b[0m\u001b[0m\n",
      "\u001b[1;32m~\\AppData\\Local\\Continuum\\anaconda3_2\\lib\\site-packages\\pandas\\core\\indexes\\multi.py\u001b[0m in \u001b[0;36m_get_level_number\u001b[1;34m(self, level)\u001b[0m\n\u001b[0;32m    656\u001b[0m         \u001b[1;32mexcept\u001b[0m \u001b[0mValueError\u001b[0m\u001b[1;33m:\u001b[0m\u001b[1;33m\u001b[0m\u001b[0m\n\u001b[0;32m    657\u001b[0m             \u001b[1;32mif\u001b[0m \u001b[1;32mnot\u001b[0m \u001b[0misinstance\u001b[0m\u001b[1;33m(\u001b[0m\u001b[0mlevel\u001b[0m\u001b[1;33m,\u001b[0m \u001b[0mint\u001b[0m\u001b[1;33m)\u001b[0m\u001b[1;33m:\u001b[0m\u001b[1;33m\u001b[0m\u001b[0m\n\u001b[1;32m--> 658\u001b[1;33m                 \u001b[1;32mraise\u001b[0m \u001b[0mKeyError\u001b[0m\u001b[1;33m(\u001b[0m\u001b[1;34m'Level %s not found'\u001b[0m \u001b[1;33m%\u001b[0m \u001b[0mstr\u001b[0m\u001b[1;33m(\u001b[0m\u001b[0mlevel\u001b[0m\u001b[1;33m)\u001b[0m\u001b[1;33m)\u001b[0m\u001b[1;33m\u001b[0m\u001b[0m\n\u001b[0m\u001b[0;32m    659\u001b[0m             \u001b[1;32melif\u001b[0m \u001b[0mlevel\u001b[0m \u001b[1;33m<\u001b[0m \u001b[1;36m0\u001b[0m\u001b[1;33m:\u001b[0m\u001b[1;33m\u001b[0m\u001b[0m\n\u001b[0;32m    660\u001b[0m                 \u001b[0mlevel\u001b[0m \u001b[1;33m+=\u001b[0m \u001b[0mself\u001b[0m\u001b[1;33m.\u001b[0m\u001b[0mnlevels\u001b[0m\u001b[1;33m\u001b[0m\u001b[0m\n",
      "\u001b[1;31mKeyError\u001b[0m: 'Level uplift_ts not found'"
     ]
    }
   ],
   "source": [
    "out_all_stats.iloc[:, out_all_stats.columns.get_level_values('uplift_ts')]"
   ]
  },
  {
   "cell_type": "code",
   "execution_count": 78,
   "metadata": {},
   "outputs": [
    {
     "ename": "NameError",
     "evalue": "name 'scen_data' is not defined",
     "output_type": "error",
     "traceback": [
      "\u001b[1;31m---------------------------------------------------------------------------\u001b[0m",
      "\u001b[1;31mNameError\u001b[0m                                 Traceback (most recent call last)",
      "\u001b[1;32m<ipython-input-78-469ad4364c90>\u001b[0m in \u001b[0;36m<module>\u001b[1;34m()\u001b[0m\n\u001b[1;32m----> 1\u001b[1;33m \u001b[0mscen_data\u001b[0m\u001b[1;33m\u001b[0m\u001b[0m\n\u001b[0m",
      "\u001b[1;31mNameError\u001b[0m: name 'scen_data' is not defined"
     ]
    }
   ],
   "source": [
    "scen_data"
   ]
  },
  {
   "cell_type": "code",
   "execution_count": null,
   "metadata": {},
   "outputs": [],
   "source": []
  }
 ],
 "metadata": {
  "kernelspec": {
   "display_name": "Python 3",
   "language": "python",
   "name": "python3"
  },
  "language_info": {
   "codemirror_mode": {
    "name": "ipython",
    "version": 3
   },
   "file_extension": ".py",
   "mimetype": "text/x-python",
   "name": "python",
   "nbconvert_exporter": "python",
   "pygments_lexer": "ipython3",
   "version": "3.6.4"
  }
 },
 "nbformat": 4,
 "nbformat_minor": 2
}
