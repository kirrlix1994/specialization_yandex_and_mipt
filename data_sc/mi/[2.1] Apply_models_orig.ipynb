{
 "cells": [
  {
   "cell_type": "code",
   "execution_count": 1,
   "metadata": {},
   "outputs": [],
   "source": [
    "%load_ext autoreload\n",
    "%autoreload 2"
   ]
  },
  {
   "cell_type": "code",
   "execution_count": 2,
   "metadata": {
    "collapsed": true
   },
   "outputs": [],
   "source": [
    "import pandas as pd\n",
    "import numpy as np\n",
    "\n",
    "from sklearn.linear_model import LogisticRegression\n",
    "from sklearn.model_selection import train_test_split\n",
    "from sklearn.preprocessing import StandardScaler\n",
    "from sklearn.model_selection import train_test_split\n",
    "\n",
    "%matplotlib inline\n",
    "import matplotlib.pyplot as plt\n",
    "from matplotlib import cm\n",
    "import matplotlib.image as image\n",
    "\n",
    "import sys\n",
    "sys.path.append('./')\n",
    "from utils import Dummyfier, prepare, evaluate_clf, uplift\n",
    "\n",
    "from IPython.core.debugger import set_trace\n",
    "\n",
    "import warnings\n",
    "warnings.simplefilter(action='ignore', category=FutureWarning)"
   ]
  },
  {
   "cell_type": "code",
   "execution_count": 3,
   "metadata": {},
   "outputs": [
    {
     "name": "stdout",
     "output_type": "stream",
     "text": [
      "Dataset size:  (92691, 212)\n"
     ]
    },
    {
     "data": {
      "text/html": [
       "<div>\n",
       "<style scoped>\n",
       "    .dataframe tbody tr th:only-of-type {\n",
       "        vertical-align: middle;\n",
       "    }\n",
       "\n",
       "    .dataframe tbody tr th {\n",
       "        vertical-align: top;\n",
       "    }\n",
       "\n",
       "    .dataframe thead th {\n",
       "        text-align: right;\n",
       "    }\n",
       "</style>\n",
       "<table border=\"1\" class=\"dataframe\">\n",
       "  <thead>\n",
       "    <tr style=\"text-align: right;\">\n",
       "      <th></th>\n",
       "      <th></th>\n",
       "      <th>11_AddrCity2</th>\n",
       "      <th>11_AddrCountry</th>\n",
       "      <th>12_AddrCity2</th>\n",
       "      <th>12_AddrCountry</th>\n",
       "      <th>13_AddrCity2</th>\n",
       "      <th>13_AddrCountry</th>\n",
       "      <th>BAL</th>\n",
       "      <th>BANK</th>\n",
       "      <th>BIRTH_DATE</th>\n",
       "      <th>CARD_CONTR_COUNT_0</th>\n",
       "      <th>...</th>\n",
       "      <th>TXN_TP_POS_N_180</th>\n",
       "      <th>TXN_TP_POS_N_31</th>\n",
       "      <th>TXN_TP_POS_N_90</th>\n",
       "      <th>TXN_TP_POS_SUM_180</th>\n",
       "      <th>TXN_TP_POS_SUM_31</th>\n",
       "      <th>TXN_TP_POS_SUM_90</th>\n",
       "      <th>TXN_TP_Purposeful credit_MAX_180</th>\n",
       "      <th>TXN_TP_Purposeful credit_MEAN_180</th>\n",
       "      <th>TXN_TP_Purposeful credit_N_180</th>\n",
       "      <th>TXN_TP_Purposeful credit_SUM_180</th>\n",
       "    </tr>\n",
       "    <tr>\n",
       "      <th>CONTRACT_REF</th>\n",
       "      <th>CLIENT_ID</th>\n",
       "      <th></th>\n",
       "      <th></th>\n",
       "      <th></th>\n",
       "      <th></th>\n",
       "      <th></th>\n",
       "      <th></th>\n",
       "      <th></th>\n",
       "      <th></th>\n",
       "      <th></th>\n",
       "      <th></th>\n",
       "      <th></th>\n",
       "      <th></th>\n",
       "      <th></th>\n",
       "      <th></th>\n",
       "      <th></th>\n",
       "      <th></th>\n",
       "      <th></th>\n",
       "      <th></th>\n",
       "      <th></th>\n",
       "      <th></th>\n",
       "      <th></th>\n",
       "    </tr>\n",
       "  </thead>\n",
       "  <tbody>\n",
       "    <tr>\n",
       "      <th>271-P-65145100</th>\n",
       "      <th>113314732</th>\n",
       "      <td>NaN</td>\n",
       "      <td>NaN</td>\n",
       "      <td>NaN</td>\n",
       "      <td>NaN</td>\n",
       "      <td>NaN</td>\n",
       "      <td>NaN</td>\n",
       "      <td>0.0</td>\n",
       "      <td>BBKK</td>\n",
       "      <td>1986-12-29</td>\n",
       "      <td>1</td>\n",
       "      <td>...</td>\n",
       "      <td>0.0</td>\n",
       "      <td>0.0</td>\n",
       "      <td>0.0</td>\n",
       "      <td>0.0</td>\n",
       "      <td>0.0</td>\n",
       "      <td>0.0</td>\n",
       "      <td>0.0</td>\n",
       "      <td>0.0</td>\n",
       "      <td>0</td>\n",
       "      <td>0.0</td>\n",
       "    </tr>\n",
       "    <tr>\n",
       "      <th>271-P-62910309</th>\n",
       "      <th>102105734</th>\n",
       "      <td>NaN</td>\n",
       "      <td>NaN</td>\n",
       "      <td>NaN</td>\n",
       "      <td>NaN</td>\n",
       "      <td>NaN</td>\n",
       "      <td>NaN</td>\n",
       "      <td>0.0</td>\n",
       "      <td>BBKK</td>\n",
       "      <td>1968-03-11</td>\n",
       "      <td>1</td>\n",
       "      <td>...</td>\n",
       "      <td>0.0</td>\n",
       "      <td>0.0</td>\n",
       "      <td>0.0</td>\n",
       "      <td>0.0</td>\n",
       "      <td>0.0</td>\n",
       "      <td>0.0</td>\n",
       "      <td>0.0</td>\n",
       "      <td>0.0</td>\n",
       "      <td>0</td>\n",
       "      <td>0.0</td>\n",
       "    </tr>\n",
       "  </tbody>\n",
       "</table>\n",
       "<p>2 rows × 210 columns</p>\n",
       "</div>"
      ],
      "text/plain": [
       "                         11_AddrCity2 11_AddrCountry 12_AddrCity2  \\\n",
       "CONTRACT_REF   CLIENT_ID                                            \n",
       "271-P-65145100 113314732          NaN            NaN          NaN   \n",
       "271-P-62910309 102105734          NaN            NaN          NaN   \n",
       "\n",
       "                         12_AddrCountry 13_AddrCity2 13_AddrCountry  BAL  \\\n",
       "CONTRACT_REF   CLIENT_ID                                                   \n",
       "271-P-65145100 113314732            NaN          NaN            NaN  0.0   \n",
       "271-P-62910309 102105734            NaN          NaN            NaN  0.0   \n",
       "\n",
       "                          BANK BIRTH_DATE  CARD_CONTR_COUNT_0  \\\n",
       "CONTRACT_REF   CLIENT_ID                                        \n",
       "271-P-65145100 113314732  BBKK 1986-12-29                   1   \n",
       "271-P-62910309 102105734  BBKK 1968-03-11                   1   \n",
       "\n",
       "                                       ...                 TXN_TP_POS_N_180  \\\n",
       "CONTRACT_REF   CLIENT_ID               ...                                    \n",
       "271-P-65145100 113314732               ...                              0.0   \n",
       "271-P-62910309 102105734               ...                              0.0   \n",
       "\n",
       "                          TXN_TP_POS_N_31  TXN_TP_POS_N_90  \\\n",
       "CONTRACT_REF   CLIENT_ID                                     \n",
       "271-P-65145100 113314732              0.0              0.0   \n",
       "271-P-62910309 102105734              0.0              0.0   \n",
       "\n",
       "                          TXN_TP_POS_SUM_180 TXN_TP_POS_SUM_31  \\\n",
       "CONTRACT_REF   CLIENT_ID                                         \n",
       "271-P-65145100 113314732                 0.0               0.0   \n",
       "271-P-62910309 102105734                 0.0               0.0   \n",
       "\n",
       "                         TXN_TP_POS_SUM_90 TXN_TP_Purposeful credit_MAX_180  \\\n",
       "CONTRACT_REF   CLIENT_ID                                                      \n",
       "271-P-65145100 113314732               0.0                              0.0   \n",
       "271-P-62910309 102105734               0.0                              0.0   \n",
       "\n",
       "                         TXN_TP_Purposeful credit_MEAN_180  \\\n",
       "CONTRACT_REF   CLIENT_ID                                     \n",
       "271-P-65145100 113314732                               0.0   \n",
       "271-P-62910309 102105734                               0.0   \n",
       "\n",
       "                         TXN_TP_Purposeful credit_N_180  \\\n",
       "CONTRACT_REF   CLIENT_ID                                  \n",
       "271-P-65145100 113314732                              0   \n",
       "271-P-62910309 102105734                              0   \n",
       "\n",
       "                         TXN_TP_Purposeful credit_SUM_180  \n",
       "CONTRACT_REF   CLIENT_ID                                   \n",
       "271-P-65145100 113314732                              0.0  \n",
       "271-P-62910309 102105734                              0.0  \n",
       "\n",
       "[2 rows x 210 columns]"
      ]
     },
     "execution_count": 3,
     "metadata": {},
     "output_type": "execute_result"
    }
   ],
   "source": [
    "test = pd.read_csv('./test_data/test_dataset.csv', sep='>', na_values='<null>', \n",
    "                 parse_dates=['LAST_CARD_STATUS_DT', 'LAST_CONTR_STATUS_DT', 'BIRTH_DATE', 'START_DATE'])\n",
    "print('Dataset size: ', test.shape)\n",
    "test = test.set_index(['CONTRACT_REF', 'CLIENT_ID'])\n",
    "test.head(2)"
   ]
  },
  {
   "cell_type": "code",
   "execution_count": 4,
   "metadata": {},
   "outputs": [
    {
     "name": "stdout",
     "output_type": "stream",
     "text": [
      "Dataset size:  (114720, 215)\n"
     ]
    },
    {
     "data": {
      "text/html": [
       "<div>\n",
       "<style scoped>\n",
       "    .dataframe tbody tr th:only-of-type {\n",
       "        vertical-align: middle;\n",
       "    }\n",
       "\n",
       "    .dataframe tbody tr th {\n",
       "        vertical-align: top;\n",
       "    }\n",
       "\n",
       "    .dataframe thead th {\n",
       "        text-align: right;\n",
       "    }\n",
       "</style>\n",
       "<table border=\"1\" class=\"dataframe\">\n",
       "  <thead>\n",
       "    <tr style=\"text-align: right;\">\n",
       "      <th></th>\n",
       "      <th>CONTRACT_REF</th>\n",
       "      <th>CLIENT_ID</th>\n",
       "      <th>CONTROL_GROUP_FLG</th>\n",
       "      <th>START_DATE</th>\n",
       "      <th>TARGET</th>\n",
       "      <th>11_AddrCity2</th>\n",
       "      <th>11_AddrCountry</th>\n",
       "      <th>12_AddrCity2</th>\n",
       "      <th>12_AddrCountry</th>\n",
       "      <th>13_AddrCity2</th>\n",
       "      <th>...</th>\n",
       "      <th>TXN_TP_POS_N_180</th>\n",
       "      <th>TXN_TP_POS_N_31</th>\n",
       "      <th>TXN_TP_POS_N_90</th>\n",
       "      <th>TXN_TP_POS_SUM_180</th>\n",
       "      <th>TXN_TP_POS_SUM_31</th>\n",
       "      <th>TXN_TP_POS_SUM_90</th>\n",
       "      <th>TXN_TP_Purposeful credit_MAX_180</th>\n",
       "      <th>TXN_TP_Purposeful credit_MEAN_180</th>\n",
       "      <th>TXN_TP_Purposeful credit_N_180</th>\n",
       "      <th>TXN_TP_Purposeful credit_SUM_180</th>\n",
       "    </tr>\n",
       "  </thead>\n",
       "  <tbody>\n",
       "    <tr>\n",
       "      <th>0</th>\n",
       "      <td>273-P-99431598</td>\n",
       "      <td>105098373</td>\n",
       "      <td>N</td>\n",
       "      <td>2017-01-23</td>\n",
       "      <td>1</td>\n",
       "      <td>ГОРЯЧИЙКЛЮЧ</td>\n",
       "      <td>RU</td>\n",
       "      <td>ГОРЯЧИЙКЛЮЧ</td>\n",
       "      <td>RU</td>\n",
       "      <td>КАМЫШИН</td>\n",
       "      <td>...</td>\n",
       "      <td>0.0</td>\n",
       "      <td>0.0</td>\n",
       "      <td>0.0</td>\n",
       "      <td>0.0</td>\n",
       "      <td>0.0</td>\n",
       "      <td>0.0</td>\n",
       "      <td>0.0</td>\n",
       "      <td>0.0</td>\n",
       "      <td>0.0</td>\n",
       "      <td>0.0</td>\n",
       "    </tr>\n",
       "    <tr>\n",
       "      <th>1</th>\n",
       "      <td>274-P-23967129</td>\n",
       "      <td>101763714</td>\n",
       "      <td>N</td>\n",
       "      <td>2017-04-08</td>\n",
       "      <td>1</td>\n",
       "      <td>МУРМАНСК</td>\n",
       "      <td>RU</td>\n",
       "      <td>МУРМАНСК</td>\n",
       "      <td>RU</td>\n",
       "      <td>АХТУБИНСК</td>\n",
       "      <td>...</td>\n",
       "      <td>0.0</td>\n",
       "      <td>0.0</td>\n",
       "      <td>0.0</td>\n",
       "      <td>0.0</td>\n",
       "      <td>0.0</td>\n",
       "      <td>0.0</td>\n",
       "      <td>0.0</td>\n",
       "      <td>0.0</td>\n",
       "      <td>0.0</td>\n",
       "      <td>0.0</td>\n",
       "    </tr>\n",
       "  </tbody>\n",
       "</table>\n",
       "<p>2 rows × 215 columns</p>\n",
       "</div>"
      ],
      "text/plain": [
       "     CONTRACT_REF  CLIENT_ID CONTROL_GROUP_FLG START_DATE  TARGET  \\\n",
       "0  273-P-99431598  105098373                 N 2017-01-23       1   \n",
       "1  274-P-23967129  101763714                 N 2017-04-08       1   \n",
       "\n",
       "  11_AddrCity2 11_AddrCountry 12_AddrCity2 12_AddrCountry 13_AddrCity2  \\\n",
       "0  ГОРЯЧИЙКЛЮЧ             RU  ГОРЯЧИЙКЛЮЧ             RU      КАМЫШИН   \n",
       "1     МУРМАНСК             RU     МУРМАНСК             RU    АХТУБИНСК   \n",
       "\n",
       "                ...                TXN_TP_POS_N_180  TXN_TP_POS_N_31  \\\n",
       "0               ...                             0.0              0.0   \n",
       "1               ...                             0.0              0.0   \n",
       "\n",
       "  TXN_TP_POS_N_90 TXN_TP_POS_SUM_180  TXN_TP_POS_SUM_31  TXN_TP_POS_SUM_90  \\\n",
       "0             0.0                0.0                0.0                0.0   \n",
       "1             0.0                0.0                0.0                0.0   \n",
       "\n",
       "   TXN_TP_Purposeful credit_MAX_180  TXN_TP_Purposeful credit_MEAN_180  \\\n",
       "0                               0.0                                0.0   \n",
       "1                               0.0                                0.0   \n",
       "\n",
       "   TXN_TP_Purposeful credit_N_180 TXN_TP_Purposeful credit_SUM_180  \n",
       "0                             0.0                              0.0  \n",
       "1                             0.0                              0.0  \n",
       "\n",
       "[2 rows x 215 columns]"
      ]
     },
     "execution_count": 4,
     "metadata": {},
     "output_type": "execute_result"
    }
   ],
   "source": [
    "train = pd.read_csv('./train_data/train_dataset.csv', sep='>', na_values='<null>', \n",
    "                 parse_dates=['START_DATE', 'LAST_CARD_STATUS_DT', 'LAST_CONTR_STATUS_DT', 'BIRTH_DATE'])\n",
    "print('Dataset size: ', train.shape)\n",
    "train.head(2)"
   ]
  },
  {
   "cell_type": "code",
   "execution_count": 5,
   "metadata": {},
   "outputs": [
    {
     "data": {
      "text/plain": [
       "0    0.955483\n",
       "1    0.044517\n",
       "Name: TARGET, dtype: float64"
      ]
     },
     "execution_count": 5,
     "metadata": {},
     "output_type": "execute_result"
    }
   ],
   "source": [
    "train['TARGET'].value_counts(normalize=True)"
   ]
  },
  {
   "cell_type": "code",
   "execution_count": 6,
   "metadata": {},
   "outputs": [
    {
     "data": {
      "text/html": [
       "<div>\n",
       "<style scoped>\n",
       "    .dataframe tbody tr th:only-of-type {\n",
       "        vertical-align: middle;\n",
       "    }\n",
       "\n",
       "    .dataframe tbody tr th {\n",
       "        vertical-align: top;\n",
       "    }\n",
       "\n",
       "    .dataframe thead th {\n",
       "        text-align: right;\n",
       "    }\n",
       "</style>\n",
       "<table border=\"1\" class=\"dataframe\">\n",
       "  <thead>\n",
       "    <tr style=\"text-align: right;\">\n",
       "      <th></th>\n",
       "      <th>TARGET</th>\n",
       "    </tr>\n",
       "    <tr>\n",
       "      <th>CONTROL_GROUP_FLG</th>\n",
       "      <th></th>\n",
       "    </tr>\n",
       "  </thead>\n",
       "  <tbody>\n",
       "    <tr>\n",
       "      <th>N</th>\n",
       "      <td>0.047636</td>\n",
       "    </tr>\n",
       "    <tr>\n",
       "      <th>Y</th>\n",
       "      <td>0.026921</td>\n",
       "    </tr>\n",
       "  </tbody>\n",
       "</table>\n",
       "</div>"
      ],
      "text/plain": [
       "                     TARGET\n",
       "CONTROL_GROUP_FLG          \n",
       "N                  0.047636\n",
       "Y                  0.026921"
      ]
     },
     "execution_count": 6,
     "metadata": {},
     "output_type": "execute_result"
    }
   ],
   "source": [
    "train.groupby('CONTROL_GROUP_FLG').mean()[['TARGET']]"
   ]
  },
  {
   "cell_type": "code",
   "execution_count": 7,
   "metadata": {},
   "outputs": [],
   "source": [
    "dummy = [u'CL_FAM_ST', u'CL_OFF_POS', u'CL_OWN_TYPE', u'LAST_CARD_STATUS', 'CL_ESTATE_TYPE', \n",
    "         'CL_INDUSTR', 'CL_SOC_ST', 'ZODIAC']\n",
    "d = Dummyfier(dummy, drop_old=True)\n",
    "\n",
    "Xy_train = prepare(train)\n",
    "Xy_train = d.fit_transform(Xy_train)\n",
    "\n",
    "na_cols_train = Xy_train.isna().any()\n",
    "na_cols_train = na_cols_train[na_cols_train==True].index.tolist()\n",
    "Xy_train = Xy_train.fillna(value=Xy_train[na_cols_train].mean())\n",
    "\n",
    "y_train = Xy_train['TARGET'].values.flatten()\n",
    "\n",
    "identity = ['CONTRACT_REF', 'CLIENT_ID', 'SCENARIO_NAME_UNI', 'START_DATE']\n",
    "X_train = Xy_train.drop(['TARGET'] + identity, axis=1)\n",
    "\n",
    "\n",
    "X_test = prepare(test)\n",
    "X_test = d.transform(X_test)\n",
    "\n",
    "na_cols_test = X_test.isna().any()\n",
    "na_cols_test = na_cols_test[na_cols_test==True].index.tolist()\n",
    "X_test = X_test.fillna(value=X_test[na_cols_test].mean())\n",
    "\n",
    "X_test = X_test.drop('START_DATE', axis=1)\n",
    "X_test['CONTROL_GROUP_FLG'] = 0\n",
    "\n",
    "X_test = X_test[X_train.columns.tolist()]"
   ]
  },
  {
   "cell_type": "code",
   "execution_count": 8,
   "metadata": {},
   "outputs": [],
   "source": [
    "scaler = StandardScaler()\n",
    "\n",
    "X_train_sc = pd.DataFrame(\n",
    "    scaler.fit_transform(X_train),\n",
    "    columns=X_train.columns,\n",
    "    index=X_train.index\n",
    ")\n",
    "\n",
    "X_test_sc_tg = pd.DataFrame(\n",
    "    scaler.transform(X_test),\n",
    "    columns=X_test.columns,\n",
    "    index=X_test.index\n",
    ")\n",
    "\n",
    "X_test['CONTROL_GROUP_FLG'] = 1\n",
    "X_test_sc_cg = pd.DataFrame(\n",
    "    scaler.transform(X_test),\n",
    "    columns=X_test.columns,\n",
    "    index=X_test.index\n",
    ")"
   ]
  },
  {
   "cell_type": "markdown",
   "metadata": {},
   "source": [
    "# 1 Построение одной модели для тестовой и контрольной групп"
   ]
  },
  {
   "cell_type": "code",
   "execution_count": 9,
   "metadata": {},
   "outputs": [
    {
     "name": "stdout",
     "output_type": "stream",
     "text": [
      "Wall time: 11.5 s\n"
     ]
    }
   ],
   "source": [
    "%%time\n",
    "\n",
    "lr = LogisticRegression().fit(X_train_sc, y_train)\n",
    "\n",
    "test['LR_ONE'] = lr.predict_proba(X_test_sc_tg)[:, 1] - lr.predict_proba(X_test_sc_cg)[:, 1]"
   ]
  },
  {
   "cell_type": "code",
   "execution_count": 10,
   "metadata": {},
   "outputs": [
    {
     "name": "stderr",
     "output_type": "stream",
     "text": [
      "C:\\Users\\SHevchenkoM\\Program_files\\Anaconda3\\lib\\site-packages\\sklearn\\cross_validation.py:44: DeprecationWarning: This module was deprecated in version 0.18 in favor of the model_selection module into which all the refactored classes and functions are moved. Also note that the interface of the new CV iterators are different from that of this module. This module will be removed in 0.20.\n",
      "  \"This module will be removed in 0.20.\", DeprecationWarning)\n"
     ]
    }
   ],
   "source": [
    "import xgboost as xgb\n",
    "\n",
    "boost = xgb.XGBClassifier().fit(X_train_sc, y_train)\n",
    "\n",
    "test['XGB_ONE'] = boost.predict_proba(X_test_sc_tg)[:, 1] - boost.predict_proba(X_test_sc_cg)[:, 1]"
   ]
  },
  {
   "cell_type": "markdown",
   "metadata": {},
   "source": [
    "# 2 Построение двух моделей"
   ]
  },
  {
   "cell_type": "code",
   "execution_count": 11,
   "metadata": {
    "collapsed": true
   },
   "outputs": [],
   "source": [
    "X_train_c = Xy_train[Xy_train['CONTROL_GROUP_FLG']==1].drop(['TARGET', 'CONTROL_GROUP_FLG'] + identity, axis=1)\n",
    "y_train_c = Xy_train[Xy_train['CONTROL_GROUP_FLG']==1]['TARGET'].values.flatten()\n",
    "\n",
    "X_train_t = Xy_train[Xy_train['CONTROL_GROUP_FLG']==0].drop(['TARGET', 'CONTROL_GROUP_FLG'] + identity, axis=1)\n",
    "y_train_t = Xy_train[Xy_train['CONTROL_GROUP_FLG']==0]['TARGET'].values.flatten()"
   ]
  },
  {
   "cell_type": "code",
   "execution_count": 12,
   "metadata": {},
   "outputs": [],
   "source": [
    "scaler_c = StandardScaler()\n",
    "\n",
    "X_train_c_sc = pd.DataFrame(\n",
    "    scaler_c.fit_transform(X_train_c),\n",
    "    columns=X_train_c.columns,\n",
    "    index=X_train_c.index\n",
    ")\n",
    "\n",
    "X_test_c_sc = pd.DataFrame(\n",
    "    scaler_c.transform(X_test.drop(['CONTROL_GROUP_FLG'], axis=1)),\n",
    "    columns=X_test.drop(['CONTROL_GROUP_FLG'], axis=1).columns,\n",
    "    index=X_test.drop(['CONTROL_GROUP_FLG'], axis=1).index\n",
    ")"
   ]
  },
  {
   "cell_type": "code",
   "execution_count": 13,
   "metadata": {
    "collapsed": true
   },
   "outputs": [],
   "source": [
    "lr_c = LogisticRegression().fit(X_train_c_sc, y_train_c)"
   ]
  },
  {
   "cell_type": "code",
   "execution_count": 14,
   "metadata": {
    "collapsed": true
   },
   "outputs": [],
   "source": [
    "boost_c = xgb.XGBClassifier(learning_rate=0.02).fit(X_train_c_sc, y_train_c)"
   ]
  },
  {
   "cell_type": "code",
   "execution_count": 15,
   "metadata": {},
   "outputs": [],
   "source": [
    "scaler_t = StandardScaler()\n",
    "\n",
    "X_train_t_sc = pd.DataFrame(\n",
    "    scaler_t.fit_transform(X_train_t),\n",
    "    columns=X_train_t.columns,\n",
    "    index=X_train_t.index\n",
    ")\n",
    "\n",
    "X_test['CONTROL_GROUP_FLG'] = 0\n",
    "X_test_t_sc = pd.DataFrame(\n",
    "    scaler_t.transform(X_test.drop(['CONTROL_GROUP_FLG'], axis=1)),\n",
    "    columns=(X_test.drop(['CONTROL_GROUP_FLG'], axis=1)).columns,\n",
    "    index=(X_test.drop(['CONTROL_GROUP_FLG'], axis=1)).index\n",
    ")"
   ]
  },
  {
   "cell_type": "code",
   "execution_count": 16,
   "metadata": {
    "collapsed": true
   },
   "outputs": [],
   "source": [
    "lr_t = LogisticRegression().fit(X_train_c_sc, y_train_c)"
   ]
  },
  {
   "cell_type": "code",
   "execution_count": 17,
   "metadata": {
    "collapsed": true
   },
   "outputs": [],
   "source": [
    "boost_t = xgb.XGBClassifier(learning_rate=0.02).fit(X_train_c_sc, y_train_c)"
   ]
  },
  {
   "cell_type": "code",
   "execution_count": 18,
   "metadata": {
    "collapsed": true
   },
   "outputs": [],
   "source": [
    "test['LR_TWO'] = lr_t.predict_proba(X_test_t_sc)[:, 1] - lr_c.predict_proba(X_test_c_sc)[:, 1]\n",
    "test['XGB_TWO'] = boost_t.predict_proba(X_test_t_sc)[:, 1] - boost_c.predict_proba(X_test_c_sc)[:, 1]"
   ]
  },
  {
   "cell_type": "markdown",
   "metadata": {},
   "source": [
    "# 3 Подход \"Class Modification\""
   ]
  },
  {
   "cell_type": "code",
   "execution_count": 19,
   "metadata": {
    "collapsed": true
   },
   "outputs": [],
   "source": [
    "Xy_train_modify = pd.concat([\n",
    "    Xy_train[Xy_train['CONTROL_GROUP_FLG']==0].sample(\n",
    "        n=Xy_train[Xy_train['CONTROL_GROUP_FLG']==1].shape[0],\n",
    "        random_state=555),\n",
    "    Xy_train[Xy_train['CONTROL_GROUP_FLG']==1]\n",
    "])"
   ]
  },
  {
   "cell_type": "code",
   "execution_count": 20,
   "metadata": {},
   "outputs": [],
   "source": [
    "Xy_train_modify['modified_outcome'] = Xy_train_modify['TARGET'] *  (1 - Xy_train_modify['CONTROL_GROUP_FLG']) \\\n",
    "                                 + (1 - Xy_train_modify['TARGET']) * Xy_train_modify['CONTROL_GROUP_FLG']"
   ]
  },
  {
   "cell_type": "code",
   "execution_count": 21,
   "metadata": {},
   "outputs": [],
   "source": [
    "y_train_modify = Xy_train_modify['modified_outcome'].values.flatten()\n",
    "X_train_modify = Xy_train_modify.drop(['TARGET', 'modified_outcome', 'CONTROL_GROUP_FLG'] + identity, axis=1)"
   ]
  },
  {
   "cell_type": "code",
   "execution_count": 22,
   "metadata": {
    "collapsed": true
   },
   "outputs": [],
   "source": [
    "scaler = StandardScaler()\n",
    "\n",
    "X_train_modify_sc = pd.DataFrame(\n",
    "    scaler.fit_transform(X_train_modify),\n",
    "    columns=X_train_modify.columns,\n",
    "    index=X_train_modify.index\n",
    ")\n",
    "\n",
    "X_test_sc = pd.DataFrame(\n",
    "    scaler.transform(X_test.drop(['CONTROL_GROUP_FLG'], axis=1)),\n",
    "    columns=X_test.drop(['CONTROL_GROUP_FLG'], axis=1).columns,\n",
    "    index=X_test.drop(['CONTROL_GROUP_FLG'], axis=1).index\n",
    ")"
   ]
  },
  {
   "cell_type": "code",
   "execution_count": 23,
   "metadata": {},
   "outputs": [],
   "source": [
    "lr_m = LogisticRegression().fit(X_train_modify_sc, y_train_modify)\n",
    "boost_m = xgb.XGBClassifier(learning_rate=0.02).fit(X_train_modify_sc, y_train_modify)"
   ]
  },
  {
   "cell_type": "code",
   "execution_count": 24,
   "metadata": {
    "collapsed": true
   },
   "outputs": [],
   "source": [
    "test['LR_MOD'] = 2*(lr_m.predict_proba(X_test_sc)[:, 1]) - 1\n",
    "test['XGB_MOD'] = 2*(boost_m.predict_proba(X_test_sc)[:, 1]) - 1"
   ]
  },
  {
   "cell_type": "code",
   "execution_count": 25,
   "metadata": {},
   "outputs": [
    {
     "data": {
      "text/html": [
       "<div>\n",
       "<style scoped>\n",
       "    .dataframe tbody tr th:only-of-type {\n",
       "        vertical-align: middle;\n",
       "    }\n",
       "\n",
       "    .dataframe tbody tr th {\n",
       "        vertical-align: top;\n",
       "    }\n",
       "\n",
       "    .dataframe thead th {\n",
       "        text-align: right;\n",
       "    }\n",
       "</style>\n",
       "<table border=\"1\" class=\"dataframe\">\n",
       "  <thead>\n",
       "    <tr style=\"text-align: right;\">\n",
       "      <th></th>\n",
       "      <th></th>\n",
       "      <th>11_AddrCity2</th>\n",
       "      <th>11_AddrCountry</th>\n",
       "      <th>12_AddrCity2</th>\n",
       "      <th>12_AddrCountry</th>\n",
       "      <th>13_AddrCity2</th>\n",
       "      <th>13_AddrCountry</th>\n",
       "      <th>BAL</th>\n",
       "      <th>BANK</th>\n",
       "      <th>BIRTH_DATE</th>\n",
       "      <th>CARD_CONTR_COUNT_0</th>\n",
       "      <th>...</th>\n",
       "      <th>TXN_TP_Purposeful credit_MAX_180</th>\n",
       "      <th>TXN_TP_Purposeful credit_MEAN_180</th>\n",
       "      <th>TXN_TP_Purposeful credit_N_180</th>\n",
       "      <th>TXN_TP_Purposeful credit_SUM_180</th>\n",
       "      <th>LR_ONE</th>\n",
       "      <th>XGB_ONE</th>\n",
       "      <th>LR_TWO</th>\n",
       "      <th>XGB_TWO</th>\n",
       "      <th>LR_MOD</th>\n",
       "      <th>XGB_MOD</th>\n",
       "    </tr>\n",
       "    <tr>\n",
       "      <th>CONTRACT_REF</th>\n",
       "      <th>CLIENT_ID</th>\n",
       "      <th></th>\n",
       "      <th></th>\n",
       "      <th></th>\n",
       "      <th></th>\n",
       "      <th></th>\n",
       "      <th></th>\n",
       "      <th></th>\n",
       "      <th></th>\n",
       "      <th></th>\n",
       "      <th></th>\n",
       "      <th></th>\n",
       "      <th></th>\n",
       "      <th></th>\n",
       "      <th></th>\n",
       "      <th></th>\n",
       "      <th></th>\n",
       "      <th></th>\n",
       "      <th></th>\n",
       "      <th></th>\n",
       "      <th></th>\n",
       "      <th></th>\n",
       "    </tr>\n",
       "  </thead>\n",
       "  <tbody>\n",
       "    <tr>\n",
       "      <th>271-P-65145100</th>\n",
       "      <th>113314732</th>\n",
       "      <td>NaN</td>\n",
       "      <td>NaN</td>\n",
       "      <td>NaN</td>\n",
       "      <td>NaN</td>\n",
       "      <td>NaN</td>\n",
       "      <td>NaN</td>\n",
       "      <td>0.0</td>\n",
       "      <td>BBKK</td>\n",
       "      <td>1986-12-29</td>\n",
       "      <td>1</td>\n",
       "      <td>...</td>\n",
       "      <td>0.0</td>\n",
       "      <td>0.0</td>\n",
       "      <td>0</td>\n",
       "      <td>0.0</td>\n",
       "      <td>0.037820</td>\n",
       "      <td>0.018062</td>\n",
       "      <td>-0.001240</td>\n",
       "      <td>0.025439</td>\n",
       "      <td>0.297749</td>\n",
       "      <td>0.105852</td>\n",
       "    </tr>\n",
       "    <tr>\n",
       "      <th>271-P-62910309</th>\n",
       "      <th>102105734</th>\n",
       "      <td>NaN</td>\n",
       "      <td>NaN</td>\n",
       "      <td>NaN</td>\n",
       "      <td>NaN</td>\n",
       "      <td>NaN</td>\n",
       "      <td>NaN</td>\n",
       "      <td>0.0</td>\n",
       "      <td>BBKK</td>\n",
       "      <td>1968-03-11</td>\n",
       "      <td>1</td>\n",
       "      <td>...</td>\n",
       "      <td>0.0</td>\n",
       "      <td>0.0</td>\n",
       "      <td>0</td>\n",
       "      <td>0.0</td>\n",
       "      <td>0.007612</td>\n",
       "      <td>0.003817</td>\n",
       "      <td>-0.000068</td>\n",
       "      <td>0.013786</td>\n",
       "      <td>0.290125</td>\n",
       "      <td>-0.142399</td>\n",
       "    </tr>\n",
       "    <tr>\n",
       "      <th>274-P-25927584</th>\n",
       "      <th>101702538</th>\n",
       "      <td>МОНЧЕГОРСК</td>\n",
       "      <td>RU</td>\n",
       "      <td>МОНЧЕГОРСК</td>\n",
       "      <td>RU</td>\n",
       "      <td>МОНЧЕГОРСК</td>\n",
       "      <td>RU</td>\n",
       "      <td>0.0</td>\n",
       "      <td>BBKK</td>\n",
       "      <td>1959-12-23</td>\n",
       "      <td>1</td>\n",
       "      <td>...</td>\n",
       "      <td>0.0</td>\n",
       "      <td>0.0</td>\n",
       "      <td>0</td>\n",
       "      <td>0.0</td>\n",
       "      <td>0.003288</td>\n",
       "      <td>0.002642</td>\n",
       "      <td>-0.000024</td>\n",
       "      <td>0.025439</td>\n",
       "      <td>0.194109</td>\n",
       "      <td>-0.135728</td>\n",
       "    </tr>\n",
       "    <tr>\n",
       "      <th>272-P-27516819</th>\n",
       "      <th>104340886</th>\n",
       "      <td>КУДЬМА</td>\n",
       "      <td>RU</td>\n",
       "      <td>КУДЬМА</td>\n",
       "      <td>RU</td>\n",
       "      <td>КУДЬМА</td>\n",
       "      <td>RU</td>\n",
       "      <td>0.0</td>\n",
       "      <td>BBKK</td>\n",
       "      <td>1958-02-24</td>\n",
       "      <td>1</td>\n",
       "      <td>...</td>\n",
       "      <td>0.0</td>\n",
       "      <td>0.0</td>\n",
       "      <td>0</td>\n",
       "      <td>0.0</td>\n",
       "      <td>0.001586</td>\n",
       "      <td>0.001998</td>\n",
       "      <td>-0.000011</td>\n",
       "      <td>0.025439</td>\n",
       "      <td>-0.020901</td>\n",
       "      <td>-0.296702</td>\n",
       "    </tr>\n",
       "    <tr>\n",
       "      <th>271-P-69691662</th>\n",
       "      <th>107356656</th>\n",
       "      <td>NaN</td>\n",
       "      <td>NaN</td>\n",
       "      <td>NaN</td>\n",
       "      <td>NaN</td>\n",
       "      <td>NaN</td>\n",
       "      <td>NaN</td>\n",
       "      <td>7.0</td>\n",
       "      <td>BBKK</td>\n",
       "      <td>1985-03-26</td>\n",
       "      <td>1</td>\n",
       "      <td>...</td>\n",
       "      <td>0.0</td>\n",
       "      <td>0.0</td>\n",
       "      <td>0</td>\n",
       "      <td>0.0</td>\n",
       "      <td>0.010041</td>\n",
       "      <td>0.006360</td>\n",
       "      <td>-0.000435</td>\n",
       "      <td>0.013786</td>\n",
       "      <td>0.279651</td>\n",
       "      <td>-0.179857</td>\n",
       "    </tr>\n",
       "  </tbody>\n",
       "</table>\n",
       "<p>5 rows × 216 columns</p>\n",
       "</div>"
      ],
      "text/plain": [
       "                         11_AddrCity2 11_AddrCountry 12_AddrCity2  \\\n",
       "CONTRACT_REF   CLIENT_ID                                            \n",
       "271-P-65145100 113314732          NaN            NaN          NaN   \n",
       "271-P-62910309 102105734          NaN            NaN          NaN   \n",
       "274-P-25927584 101702538   МОНЧЕГОРСК             RU   МОНЧЕГОРСК   \n",
       "272-P-27516819 104340886       КУДЬМА             RU       КУДЬМА   \n",
       "271-P-69691662 107356656          NaN            NaN          NaN   \n",
       "\n",
       "                         12_AddrCountry 13_AddrCity2 13_AddrCountry  BAL  \\\n",
       "CONTRACT_REF   CLIENT_ID                                                   \n",
       "271-P-65145100 113314732            NaN          NaN            NaN  0.0   \n",
       "271-P-62910309 102105734            NaN          NaN            NaN  0.0   \n",
       "274-P-25927584 101702538             RU   МОНЧЕГОРСК             RU  0.0   \n",
       "272-P-27516819 104340886             RU       КУДЬМА             RU  0.0   \n",
       "271-P-69691662 107356656            NaN          NaN            NaN  7.0   \n",
       "\n",
       "                          BANK BIRTH_DATE  CARD_CONTR_COUNT_0    ...     \\\n",
       "CONTRACT_REF   CLIENT_ID                                         ...      \n",
       "271-P-65145100 113314732  BBKK 1986-12-29                   1    ...      \n",
       "271-P-62910309 102105734  BBKK 1968-03-11                   1    ...      \n",
       "274-P-25927584 101702538  BBKK 1959-12-23                   1    ...      \n",
       "272-P-27516819 104340886  BBKK 1958-02-24                   1    ...      \n",
       "271-P-69691662 107356656  BBKK 1985-03-26                   1    ...      \n",
       "\n",
       "                          TXN_TP_Purposeful credit_MAX_180  \\\n",
       "CONTRACT_REF   CLIENT_ID                                     \n",
       "271-P-65145100 113314732                               0.0   \n",
       "271-P-62910309 102105734                               0.0   \n",
       "274-P-25927584 101702538                               0.0   \n",
       "272-P-27516819 104340886                               0.0   \n",
       "271-P-69691662 107356656                               0.0   \n",
       "\n",
       "                          TXN_TP_Purposeful credit_MEAN_180  \\\n",
       "CONTRACT_REF   CLIENT_ID                                      \n",
       "271-P-65145100 113314732                                0.0   \n",
       "271-P-62910309 102105734                                0.0   \n",
       "274-P-25927584 101702538                                0.0   \n",
       "272-P-27516819 104340886                                0.0   \n",
       "271-P-69691662 107356656                                0.0   \n",
       "\n",
       "                          TXN_TP_Purposeful credit_N_180  \\\n",
       "CONTRACT_REF   CLIENT_ID                                   \n",
       "271-P-65145100 113314732                               0   \n",
       "271-P-62910309 102105734                               0   \n",
       "274-P-25927584 101702538                               0   \n",
       "272-P-27516819 104340886                               0   \n",
       "271-P-69691662 107356656                               0   \n",
       "\n",
       "                          TXN_TP_Purposeful credit_SUM_180    LR_ONE  \\\n",
       "CONTRACT_REF   CLIENT_ID                                               \n",
       "271-P-65145100 113314732                               0.0  0.037820   \n",
       "271-P-62910309 102105734                               0.0  0.007612   \n",
       "274-P-25927584 101702538                               0.0  0.003288   \n",
       "272-P-27516819 104340886                               0.0  0.001586   \n",
       "271-P-69691662 107356656                               0.0  0.010041   \n",
       "\n",
       "                           XGB_ONE    LR_TWO   XGB_TWO    LR_MOD   XGB_MOD  \n",
       "CONTRACT_REF   CLIENT_ID                                                    \n",
       "271-P-65145100 113314732  0.018062 -0.001240  0.025439  0.297749  0.105852  \n",
       "271-P-62910309 102105734  0.003817 -0.000068  0.013786  0.290125 -0.142399  \n",
       "274-P-25927584 101702538  0.002642 -0.000024  0.025439  0.194109 -0.135728  \n",
       "272-P-27516819 104340886  0.001998 -0.000011  0.025439 -0.020901 -0.296702  \n",
       "271-P-69691662 107356656  0.006360 -0.000435  0.013786  0.279651 -0.179857  \n",
       "\n",
       "[5 rows x 216 columns]"
      ]
     },
     "execution_count": 25,
     "metadata": {},
     "output_type": "execute_result"
    }
   ],
   "source": [
    "test.head()"
   ]
  },
  {
   "cell_type": "code",
   "execution_count": 27,
   "metadata": {},
   "outputs": [
    {
     "data": {
      "image/png": "[encoded data removed]",
      "text/plain": [
       "<matplotlib.figure.Figure at 0x2b36b8aec18>"
      ]
     },
     "metadata": {},
     "output_type": "display_data"
    }
   ],
   "source": [
    "fig, axes = plt.subplots(3, 2, figsize=(10, 18))\n",
    "\n",
    "hists = ['LR_ONE', 'XGB_ONE', 'LR_TWO', 'XGB_TWO', 'LR_MOD', 'XGB_MOD']\n",
    "\n",
    "for i, h in enumerate(hists):\n",
    "    axes[i // 2][i % 2].title.set_text('Histogram of Uplift by ' + h)\n",
    "    axes[i // 2][i % 2].hist(test[h], bins=50)"
   ]
  },
  {
   "cell_type": "code",
   "execution_count": 28,
   "metadata": {
    "collapsed": true
   },
   "outputs": [],
   "source": [
    "test[hists].to_csv('result.csv')"
   ]
  }
 ],
 "metadata": {
  "kernelspec": {
   "display_name": "Python 3",
   "language": "python",
   "name": "python3"
  },
  "language_info": {
   "codemirror_mode": {
    "name": "ipython",
    "version": 3
   },
   "file_extension": ".py",
   "mimetype": "text/x-python",
   "name": "python",
   "nbconvert_exporter": "python",
   "pygments_lexer": "ipython3",
   "version": "3.6.4"
  }
 },
 "nbformat": 4,
 "nbformat_minor": 2
}
