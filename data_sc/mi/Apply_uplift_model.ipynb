{
 "cells": [
  {
   "cell_type": "code",
   "execution_count": 1,
   "metadata": {},
   "outputs": [],
   "source": [
    "import pandas as pd\n",
    "import numpy as np\n",
    "\n",
    "from sklearn.linear_model import LogisticRegression\n",
    "from sklearn.model_selection import train_test_split\n",
    "from sklearn.preprocessing import StandardScaler\n",
    "from sklearn.model_selection import train_test_split\n",
    "\n",
    "%matplotlib inline\n",
    "import matplotlib.pyplot as plt\n",
    "from matplotlib import cm\n",
    "from datetime import datetime\n",
    "import matplotlib.image as image\n",
    "\n",
    "import sys\n",
    "sys.path.append('./')\n",
    "from utils import Dummyfier, prepare, evaluate_clf, uplift\n",
    "\n",
    "from IPython.core.debugger import set_trace\n",
    "\n",
    "import warnings\n",
    "warnings.simplefilter(action='ignore', category=FutureWarning)"
   ]
  },
  {
   "cell_type": "code",
   "execution_count": 92,
   "metadata": {
    "scrolled": true
   },
   "outputs": [
    {
     "name": "stdout",
     "output_type": "stream",
     "text": [
      "Dataset size:  (102532, 369)\n"
     ]
    },
    {
     "data": {
      "text/html": [
       "<div>\n",
       "<style scoped>\n",
       "    .dataframe tbody tr th:only-of-type {\n",
       "        vertical-align: middle;\n",
       "    }\n",
       "\n",
       "    .dataframe tbody tr th {\n",
       "        vertical-align: top;\n",
       "    }\n",
       "\n",
       "    .dataframe thead th {\n",
       "        text-align: right;\n",
       "    }\n",
       "</style>\n",
       "<table border=\"1\" class=\"dataframe\">\n",
       "  <thead>\n",
       "    <tr style=\"text-align: right;\">\n",
       "      <th></th>\n",
       "      <th>CLIENT_ID</th>\n",
       "      <th>CONTRACT_REF</th>\n",
       "      <th>BANK</th>\n",
       "      <th>label</th>\n",
       "      <th>TOTAL_BAL_NEG_CHNG_MAX_180</th>\n",
       "      <th>TOTAL_BAL_NEG_CHNG_MAX_31</th>\n",
       "      <th>TOTAL_BAL_NEG_CHNG_MAX_7</th>\n",
       "      <th>TOTAL_BAL_NEG_CHNG_MAX_90</th>\n",
       "      <th>TOTAL_BAL_NEG_CHNG_MIN_180</th>\n",
       "      <th>TOTAL_BAL_NEG_CHNG_MIN_31</th>\n",
       "      <th>...</th>\n",
       "      <th>CL_AMT_ZP</th>\n",
       "      <th>CL_CCY_DOP</th>\n",
       "      <th>CL_AMT_DOP</th>\n",
       "      <th>FL_DIR_UCH</th>\n",
       "      <th>FL_4P</th>\n",
       "      <th>FL_DOC_PROFIT</th>\n",
       "      <th>REP_POPULATION</th>\n",
       "      <th>FL_PENS_DOC</th>\n",
       "      <th>FL_FRNG_PASSP</th>\n",
       "      <th>BIRTH_DT</th>\n",
       "    </tr>\n",
       "  </thead>\n",
       "  <tbody>\n",
       "    <tr>\n",
       "      <th>0</th>\n",
       "      <td>103016707</td>\n",
       "      <td>273-P-90421929</td>\n",
       "      <td>BBKK</td>\n",
       "      <td>1</td>\n",
       "      <td>0.0</td>\n",
       "      <td>0.0</td>\n",
       "      <td>0.0</td>\n",
       "      <td>0.0</td>\n",
       "      <td>0.0</td>\n",
       "      <td>0.0</td>\n",
       "      <td>...</td>\n",
       "      <td>20000.0</td>\n",
       "      <td>NaN</td>\n",
       "      <td>12000.0</td>\n",
       "      <td>N</td>\n",
       "      <td>N</td>\n",
       "      <td>N</td>\n",
       "      <td>746400.0</td>\n",
       "      <td>N</td>\n",
       "      <td>N</td>\n",
       "      <td>1952-08-16 00:00:00</td>\n",
       "    </tr>\n",
       "    <tr>\n",
       "      <th>1</th>\n",
       "      <td>104531162</td>\n",
       "      <td>271-P-21418527</td>\n",
       "      <td>BBKK</td>\n",
       "      <td>1</td>\n",
       "      <td>0.0</td>\n",
       "      <td>0.0</td>\n",
       "      <td>0.0</td>\n",
       "      <td>0.0</td>\n",
       "      <td>0.0</td>\n",
       "      <td>0.0</td>\n",
       "      <td>...</td>\n",
       "      <td>11000.0</td>\n",
       "      <td>RUR</td>\n",
       "      <td>0.0</td>\n",
       "      <td>N</td>\n",
       "      <td>N</td>\n",
       "      <td>N</td>\n",
       "      <td>1255100.0</td>\n",
       "      <td>N</td>\n",
       "      <td>N</td>\n",
       "      <td>1956-08-17 00:00:00</td>\n",
       "    </tr>\n",
       "  </tbody>\n",
       "</table>\n",
       "<p>2 rows × 369 columns</p>\n",
       "</div>"
      ],
      "text/plain": [
       "   CLIENT_ID    CONTRACT_REF  BANK  label  TOTAL_BAL_NEG_CHNG_MAX_180  \\\n",
       "0  103016707  273-P-90421929  BBKK      1                         0.0   \n",
       "1  104531162  271-P-21418527  BBKK      1                         0.0   \n",
       "\n",
       "   TOTAL_BAL_NEG_CHNG_MAX_31  TOTAL_BAL_NEG_CHNG_MAX_7  \\\n",
       "0                        0.0                       0.0   \n",
       "1                        0.0                       0.0   \n",
       "\n",
       "   TOTAL_BAL_NEG_CHNG_MAX_90  TOTAL_BAL_NEG_CHNG_MIN_180  \\\n",
       "0                        0.0                         0.0   \n",
       "1                        0.0                         0.0   \n",
       "\n",
       "   TOTAL_BAL_NEG_CHNG_MIN_31         ...           CL_AMT_ZP  CL_CCY_DOP  \\\n",
       "0                        0.0         ...             20000.0         NaN   \n",
       "1                        0.0         ...             11000.0         RUR   \n",
       "\n",
       "   CL_AMT_DOP  FL_DIR_UCH  FL_4P  FL_DOC_PROFIT  REP_POPULATION  FL_PENS_DOC  \\\n",
       "0     12000.0           N      N              N        746400.0            N   \n",
       "1         0.0           N      N              N       1255100.0            N   \n",
       "\n",
       "   FL_FRNG_PASSP             BIRTH_DT  \n",
       "0              N  1952-08-16 00:00:00  \n",
       "1              N  1956-08-17 00:00:00  \n",
       "\n",
       "[2 rows x 369 columns]"
      ]
     },
     "execution_count": 92,
     "metadata": {},
     "output_type": "execute_result"
    }
   ],
   "source": [
    "test =  pd.read_csv('./test_data_04_2018/test_04_2018.csv/CD_ALL_2018-03-30.csv', sep='>', na_values='<null>', \n",
    "                     parse_dates=['LAST_CARD_STATUS_DT', 'LAST_CONTR_STATUS_DT'], encoding='latin-1')\n",
    "print('Dataset size: ', test.shape)\n",
    "#test = test.set_index(['CONTRACT_REF', 'CLIENT_ID'])\n",
    "test.head(2)"
   ]
  },
  {
   "cell_type": "code",
   "execution_count": 93,
   "metadata": {},
   "outputs": [],
   "source": [
    "#test['BIRTH_DT']"
   ]
  },
  {
   "cell_type": "code",
   "execution_count": 94,
   "metadata": {
    "scrolled": false
   },
   "outputs": [
    {
     "name": "stdout",
     "output_type": "stream",
     "text": [
      "Dataset size:  (114720, 215)\n"
     ]
    },
    {
     "data": {
      "text/html": [
       "<div>\n",
       "<style scoped>\n",
       "    .dataframe tbody tr th:only-of-type {\n",
       "        vertical-align: middle;\n",
       "    }\n",
       "\n",
       "    .dataframe tbody tr th {\n",
       "        vertical-align: top;\n",
       "    }\n",
       "\n",
       "    .dataframe thead th {\n",
       "        text-align: right;\n",
       "    }\n",
       "</style>\n",
       "<table border=\"1\" class=\"dataframe\">\n",
       "  <thead>\n",
       "    <tr style=\"text-align: right;\">\n",
       "      <th></th>\n",
       "      <th>CONTRACT_REF</th>\n",
       "      <th>CLIENT_ID</th>\n",
       "      <th>CONTROL_GROUP_FLG</th>\n",
       "      <th>START_DATE</th>\n",
       "      <th>TARGET</th>\n",
       "      <th>11_AddrCity2</th>\n",
       "      <th>11_AddrCountry</th>\n",
       "      <th>12_AddrCity2</th>\n",
       "      <th>12_AddrCountry</th>\n",
       "      <th>13_AddrCity2</th>\n",
       "      <th>...</th>\n",
       "      <th>TXN_TP_POS_N_180</th>\n",
       "      <th>TXN_TP_POS_N_31</th>\n",
       "      <th>TXN_TP_POS_N_90</th>\n",
       "      <th>TXN_TP_POS_SUM_180</th>\n",
       "      <th>TXN_TP_POS_SUM_31</th>\n",
       "      <th>TXN_TP_POS_SUM_90</th>\n",
       "      <th>TXN_TP_Purposeful credit_MAX_180</th>\n",
       "      <th>TXN_TP_Purposeful credit_MEAN_180</th>\n",
       "      <th>TXN_TP_Purposeful credit_N_180</th>\n",
       "      <th>TXN_TP_Purposeful credit_SUM_180</th>\n",
       "    </tr>\n",
       "  </thead>\n",
       "  <tbody>\n",
       "    <tr>\n",
       "      <th>0</th>\n",
       "      <td>273-P-99431598</td>\n",
       "      <td>105098373</td>\n",
       "      <td>N</td>\n",
       "      <td>2017-01-23</td>\n",
       "      <td>1</td>\n",
       "      <td>ГОРЯЧИЙКЛЮЧ</td>\n",
       "      <td>RU</td>\n",
       "      <td>ГОРЯЧИЙКЛЮЧ</td>\n",
       "      <td>RU</td>\n",
       "      <td>КАМЫШИН</td>\n",
       "      <td>...</td>\n",
       "      <td>0.0</td>\n",
       "      <td>0.0</td>\n",
       "      <td>0.0</td>\n",
       "      <td>0.0</td>\n",
       "      <td>0.0</td>\n",
       "      <td>0.0</td>\n",
       "      <td>0.0</td>\n",
       "      <td>0.0</td>\n",
       "      <td>0.0</td>\n",
       "      <td>0.0</td>\n",
       "    </tr>\n",
       "    <tr>\n",
       "      <th>1</th>\n",
       "      <td>274-P-23967129</td>\n",
       "      <td>101763714</td>\n",
       "      <td>N</td>\n",
       "      <td>2017-04-08</td>\n",
       "      <td>1</td>\n",
       "      <td>МУРМАНСК</td>\n",
       "      <td>RU</td>\n",
       "      <td>МУРМАНСК</td>\n",
       "      <td>RU</td>\n",
       "      <td>АХТУБИНСК</td>\n",
       "      <td>...</td>\n",
       "      <td>0.0</td>\n",
       "      <td>0.0</td>\n",
       "      <td>0.0</td>\n",
       "      <td>0.0</td>\n",
       "      <td>0.0</td>\n",
       "      <td>0.0</td>\n",
       "      <td>0.0</td>\n",
       "      <td>0.0</td>\n",
       "      <td>0.0</td>\n",
       "      <td>0.0</td>\n",
       "    </tr>\n",
       "  </tbody>\n",
       "</table>\n",
       "<p>2 rows × 215 columns</p>\n",
       "</div>"
      ],
      "text/plain": [
       "     CONTRACT_REF  CLIENT_ID CONTROL_GROUP_FLG START_DATE  TARGET  \\\n",
       "0  273-P-99431598  105098373                 N 2017-01-23       1   \n",
       "1  274-P-23967129  101763714                 N 2017-04-08       1   \n",
       "\n",
       "  11_AddrCity2 11_AddrCountry 12_AddrCity2 12_AddrCountry 13_AddrCity2  \\\n",
       "0  ГОРЯЧИЙКЛЮЧ             RU  ГОРЯЧИЙКЛЮЧ             RU      КАМЫШИН   \n",
       "1     МУРМАНСК             RU     МУРМАНСК             RU    АХТУБИНСК   \n",
       "\n",
       "                ...                TXN_TP_POS_N_180  TXN_TP_POS_N_31  \\\n",
       "0               ...                             0.0              0.0   \n",
       "1               ...                             0.0              0.0   \n",
       "\n",
       "  TXN_TP_POS_N_90 TXN_TP_POS_SUM_180  TXN_TP_POS_SUM_31  TXN_TP_POS_SUM_90  \\\n",
       "0             0.0                0.0                0.0                0.0   \n",
       "1             0.0                0.0                0.0                0.0   \n",
       "\n",
       "   TXN_TP_Purposeful credit_MAX_180  TXN_TP_Purposeful credit_MEAN_180  \\\n",
       "0                               0.0                                0.0   \n",
       "1                               0.0                                0.0   \n",
       "\n",
       "   TXN_TP_Purposeful credit_N_180 TXN_TP_Purposeful credit_SUM_180  \n",
       "0                             0.0                              0.0  \n",
       "1                             0.0                              0.0  \n",
       "\n",
       "[2 rows x 215 columns]"
      ]
     },
     "execution_count": 94,
     "metadata": {},
     "output_type": "execute_result"
    }
   ],
   "source": [
    "train = pd.read_csv('./train_data/train_dataset.csv', sep='>', na_values='<null>', \n",
    "                 parse_dates=['START_DATE', 'LAST_CARD_STATUS_DT', 'LAST_CONTR_STATUS_DT', 'BIRTH_DATE'])\n",
    "print('Dataset size: ', train.shape)\n",
    "train.head(2)"
   ]
  },
  {
   "cell_type": "code",
   "execution_count": 95,
   "metadata": {
    "scrolled": false
   },
   "outputs": [
    {
     "name": "stdout",
     "output_type": "stream",
     "text": [
      "159\n",
      "216\n",
      "370\n"
     ]
    }
   ],
   "source": [
    "# cols which are in both datasets\n",
    "cols_intersect = list(set(train.columns).intersection(set(test.columns)))\n",
    "print(len(cols_intersect))\n",
    "print(len(set(train.reset_index().columns)))\n",
    "print(len(set(test.reset_index().columns)))"
   ]
  },
  {
   "cell_type": "code",
   "execution_count": 96,
   "metadata": {
    "scrolled": true
   },
   "outputs": [
    {
     "data": {
      "text/plain": [
       "0    0.955483\n",
       "1    0.044517\n",
       "Name: TARGET, dtype: float64"
      ]
     },
     "execution_count": 96,
     "metadata": {},
     "output_type": "execute_result"
    }
   ],
   "source": [
    "train['TARGET'].value_counts(normalize=True)"
   ]
  },
  {
   "cell_type": "code",
   "execution_count": 97,
   "metadata": {
    "scrolled": true
   },
   "outputs": [
    {
     "name": "stdout",
     "output_type": "stream",
     "text": [
      "(114720, 215)\n",
      "(102532, 369)\n"
     ]
    }
   ],
   "source": [
    "#train = train[['TARGET'] + cols_intersect]\n",
    "#test = test[cols_intersect]\n",
    "print(train.shape)\n",
    "print(test.shape)"
   ]
  },
  {
   "cell_type": "code",
   "execution_count": 105,
   "metadata": {},
   "outputs": [],
   "source": [
    "def fl_pens(series):\n",
    "    if series['FL_PENS'] == 0:\n",
    "        return 0\n",
    "    elif series['FL_PENS_DOC'] == 0:\n",
    "        return 1\n",
    "    else:\n",
    "        return 2\n",
    "\n",
    "def arrange_on_circle(value, unique):\n",
    "    \"\"\"arrange some categorial feature on circle for linear models\"\"\"\n",
    "    angle = np.linspace(0, 2*np.pi, unique)[value]\n",
    "    return np.sin(angle), np.cos(angle)\n",
    "\n",
    "def prepare(df):\n",
    "\n",
    "    df['AGE'] = (datetime.today() - df['BIRTH_DATE']).apply(lambda x: int(x.days/365.25))\n",
    "    df['SIN_BD_MONTH'], df['COS_BD_MONTH'] =zip(*df['BIRTH_DATE'].apply(lambda x: arrange_on_circle(x.month-1, 12)))\n",
    "    #df['ZODIAC'] = df['BIRTH_DATE'].apply(zodiac)\n",
    "\n",
    "    df['FL_PEN_DOC'] = df.apply(lambda row: fl_pens(row), axis=1)\n",
    "\n",
    "    df['LAST_CARD_STATUS_TIME'] = (df['START_DATE'] - df['LAST_CARD_STATUS_DT']).dt.days\n",
    "    df['LAST_CONTR_STATUS_TIME'] = (df['START_DATE'] - df['LAST_CONTR_STATUS_DT']).dt.days\n",
    "    df['CODE_67_90'] = df['CODE_67_N_90'].apply(lambda x: 0 if x == 0 else 1)\n",
    "\n",
    "    # change old features:\n",
    "    df['CODE_67_N_180'] = df['CODE_67_N_180'].apply(lambda x: 3.5 if x >= 3 else x)\n",
    "    df['IS_LOYALTY_AUTO'] = df['IS_LOYALTY_AUTO'].apply(lambda x: 0 if x == 0 else 1)\n",
    "    df['QTY_CHLD'] = df['QTY_CHLD'].apply(lambda x: 4 if x >= 4 else x)\n",
    "#\n",
    "    ##### \n",
    "    education = {\n",
    "        'POS': 7, \n",
    "        'SEC': 11, \n",
    "        'TEC': 11 + 1, \n",
    "        'UND': 11 + 3, \n",
    "        'HIG': 11 + 5, \n",
    "        'TWO': 11 + 5 + 3, \n",
    "                }\n",
    "    df['CL_EDU'] = df['CL_EDU'].map(education)\n",
    "\n",
    "   \n",
    "    card_status = {\n",
    "        14: 14,\n",
    "        176: 176,\n",
    "        100000022: 176,\n",
    "        182: 182,\n",
    "        74: 74,\n",
    "        63: 63,\n",
    "        98: 98,\n",
    "        100000100: 98,\n",
    "        100000094: 98,\n",
    "        100000087: 98,\n",
    "        100000496: 176,\n",
    "        100000576: 176\n",
    "    }\n",
    "\n",
    "    df['LAST_CARD_STATUS'] = df['LAST_CARD_STATUS'].map(card_status)\n",
    "\n",
    "   \n",
    "    sex = {\n",
    "        'F': 0, \n",
    "        'M': 1,\n",
    "        }\n",
    "    df['REP_SEX'] = df['REP_SEX'].map(sex)\n",
    "\n",
    "    #### \n",
    "    binary = {\n",
    "        'N': 0,\n",
    "        'Y': 1,\n",
    "    }\n",
    "    df['FL_GOLD'] = df['FL_GOLD'].map(binary)\n",
    "    df['FL_ZP'] = df['FL_ZP'].map(binary)\n",
    "    df['FL_PENS'] = df['FL_PENS'].map(binary)\n",
    "    df['FL_SOC'] = df['FL_SOC'].map(binary)\n",
    "    df['FL_P24'] = df['FL_P24'].map(binary)\n",
    "    df['FL_MOBB'] = df['FL_MOBB'].map(binary)\n",
    "    df['FL_SMSI'] = df['FL_SMSI'].map(binary)\n",
    "    df['CL_AUTO_EX'] = df['CL_AUTO_EX'].map(binary)\n",
    "    df['FL_4P'] = df['FL_4P'].map(binary)\n",
    "    df['FL_DOC_PROFIT'] = df['FL_DOC_PROFIT'].map(binary)\n",
    "    df['FL_PENS_DOC'] = df['FL_PENS_DOC'].map(binary)\n",
    "    df['FL_FRNG_PASSP'] = df['FL_FRNG_PASSP'].map(binary)\n",
    "    df['FL_FRGN_TRIP'] = df['FL_FRGN_TRIP'].map(binary)\n",
    "\n",
    "    try:\n",
    "        df['CONTROL_GROUP_FLG'] = df['CONTROL_GROUP_FLG'].map(binary)\n",
    "    except:\n",
    "        pass\n",
    "    \n",
    "    df.loc[:, 'CARD_STATUS_14'] = df.loc[:, 'CARD_STATUS_14'].fillna(0)\n",
    "    df.loc[:, 'CARD_STATUS_176'] = df.loc[:, 'CARD_STATUS_176'].fillna(0)\n",
    "    df.loc[:, 'CL_AMT_DOP'] = df.loc[:, 'CL_AMT_DOP'].fillna(0)\n",
    "\n",
    "    return df    "
   ]
  },
  {
   "cell_type": "code",
   "execution_count": 106,
   "metadata": {},
   "outputs": [
    {
     "ename": "ValueError",
     "evalue": "The listed features are not contained in the data",
     "output_type": "error",
     "traceback": [
      "\u001b[1;31m---------------------------------------------------------------------------\u001b[0m",
      "\u001b[1;31mValueError\u001b[0m                                Traceback (most recent call last)",
      "\u001b[1;32m<ipython-input-106-f8eecbb62008>\u001b[0m in \u001b[0;36m<module>\u001b[1;34m()\u001b[0m\n\u001b[0;32m      4\u001b[0m \u001b[1;33m\u001b[0m\u001b[0m\n\u001b[0;32m      5\u001b[0m \u001b[0mXy_train\u001b[0m \u001b[1;33m=\u001b[0m \u001b[0mprepare\u001b[0m\u001b[1;33m(\u001b[0m\u001b[0mtrain\u001b[0m\u001b[1;33m)\u001b[0m\u001b[1;33m\u001b[0m\u001b[0m\n\u001b[1;32m----> 6\u001b[1;33m \u001b[0mXy_train\u001b[0m \u001b[1;33m=\u001b[0m \u001b[0md\u001b[0m\u001b[1;33m.\u001b[0m\u001b[0mfit_transform\u001b[0m\u001b[1;33m(\u001b[0m\u001b[0mXy_train\u001b[0m\u001b[1;33m)\u001b[0m\u001b[1;33m\u001b[0m\u001b[0m\n\u001b[0m\u001b[0;32m      7\u001b[0m \u001b[1;33m\u001b[0m\u001b[0m\n\u001b[0;32m      8\u001b[0m \u001b[0mna_cols_train\u001b[0m \u001b[1;33m=\u001b[0m \u001b[0mXy_train\u001b[0m\u001b[1;33m.\u001b[0m\u001b[0misna\u001b[0m\u001b[1;33m(\u001b[0m\u001b[1;33m)\u001b[0m\u001b[1;33m.\u001b[0m\u001b[0many\u001b[0m\u001b[1;33m(\u001b[0m\u001b[1;33m)\u001b[0m\u001b[1;33m\u001b[0m\u001b[0m\n",
      "\u001b[1;32m~\\Desktop\\microsegm\\utils.py\u001b[0m in \u001b[0;36mfit_transform\u001b[1;34m(self, X)\u001b[0m\n\u001b[0;32m     80\u001b[0m \u001b[1;33m\u001b[0m\u001b[0m\n\u001b[0;32m     81\u001b[0m         \u001b[1;32mif\u001b[0m \u001b[0mlen\u001b[0m\u001b[1;33m(\u001b[0m\u001b[0mset\u001b[0m\u001b[1;33m(\u001b[0m\u001b[0mself\u001b[0m\u001b[1;33m.\u001b[0m\u001b[0mfeatures\u001b[0m\u001b[1;33m)\u001b[0m \u001b[1;33m&\u001b[0m \u001b[0mset\u001b[0m\u001b[1;33m(\u001b[0m\u001b[0mX\u001b[0m\u001b[1;33m.\u001b[0m\u001b[0mcolumns\u001b[0m\u001b[1;33m)\u001b[0m\u001b[1;33m)\u001b[0m \u001b[1;33m!=\u001b[0m \u001b[0mlen\u001b[0m\u001b[1;33m(\u001b[0m\u001b[0mset\u001b[0m\u001b[1;33m(\u001b[0m\u001b[0mself\u001b[0m\u001b[1;33m.\u001b[0m\u001b[0mfeatures\u001b[0m\u001b[1;33m)\u001b[0m\u001b[1;33m)\u001b[0m\u001b[1;33m:\u001b[0m\u001b[1;33m\u001b[0m\u001b[0m\n\u001b[1;32m---> 82\u001b[1;33m             \u001b[1;32mraise\u001b[0m \u001b[0mValueError\u001b[0m\u001b[1;33m(\u001b[0m\u001b[1;34m'The listed features are not contained in the data'\u001b[0m\u001b[1;33m)\u001b[0m\u001b[1;33m\u001b[0m\u001b[0m\n\u001b[0m\u001b[0;32m     83\u001b[0m \u001b[1;33m\u001b[0m\u001b[0m\n\u001b[0;32m     84\u001b[0m         \u001b[1;32mfor\u001b[0m \u001b[0mfeature\u001b[0m \u001b[1;32min\u001b[0m \u001b[0mself\u001b[0m\u001b[1;33m.\u001b[0m\u001b[0mfeatures\u001b[0m\u001b[1;33m:\u001b[0m\u001b[1;33m\u001b[0m\u001b[0m\n",
      "\u001b[1;31mValueError\u001b[0m: The listed features are not contained in the data"
     ]
    }
   ],
   "source": [
    "dummy = [u'CL_FAM_ST', u'CL_OFF_POS', u'CL_OWN_TYPE', u'LAST_CARD_STATUS', 'CL_ESTATE_TYPE', \n",
    "         'CL_INDUSTR', 'CL_SOC_ST', 'ZODIAC']\n",
    "d = Dummyfier(dummy, drop_old=True)\n",
    "\n",
    "Xy_train = prepare(train)\n",
    "Xy_train = d.fit_transform(Xy_train)\n",
    "\n",
    "na_cols_train = Xy_train.isna().any()\n",
    "na_cols_train = na_cols_train[na_cols_train==True].index.tolist()\n",
    "Xy_train = Xy_train.fillna(value=Xy_train[na_cols_train].mean())\n",
    "\n",
    "y_train = Xy_train['TARGET'].values.flatten()\n",
    "\n",
    "identity = ['CONTRACT_REF', 'CLIENT_ID', 'SCENARIO_NAME_UNI', 'START_DATE']\n",
    "X_train = Xy_train.drop(['TARGET'] + identity, axis=1)\n",
    "\n",
    "\n",
    "X_test = prepare(test)\n",
    "X_test = d.transform(X_test)\n",
    "\n",
    "na_cols_test = X_test.isna().any()\n",
    "na_cols_test = na_cols_test[na_cols_test==True].index.tolist()\n",
    "X_test = X_test.fillna(value=X_test[na_cols_test].mean())\n",
    "\n",
    "X_test = X_test.drop('START_DATE', axis=1)\n",
    "X_test['CONTROL_GROUP_FLG'] = 0\n",
    "\n",
    "X_test = X_test[X_train.columns.tolist()]"
   ]
  },
  {
   "cell_type": "code",
   "execution_count": null,
   "metadata": {},
   "outputs": [],
   "source": []
  },
  {
   "cell_type": "code",
   "execution_count": 88,
   "metadata": {},
   "outputs": [
    {
     "ename": "ValueError",
     "evalue": "labels ['CODE_17_MEAN_180' 'CODE_26_MEAN_180' 'CODE_26_SUM_180' 'CODE_2_MEAN_180'\n 'CODE_35_MEAN_180' 'CODE_35_SUM_180' 'CODE_46_MEAN_180'\n 'TXN_CHN_Our ATM_MEAN_180' 'TXN_CHN_Our ATM_N_180' 'TXN_TP_ATM_MEAN_180'\n 'TXN_TP_ATM_N_180' 'TXN_TP_MT_MAX_180' 'TXN_TP_MT_MEAN_180'\n 'TXN_TP_MT_N_180' 'TXN_TP_POS_MAX_90' 'TXN_TP_POS_MEAN_31'\n 'TXN_TP_POS_MEAN_90' 'TXN_TP_POS_N_31' 'TXN_TP_POS_N_90'\n 'TXN_TP_POS_SUM_90'] not contained in axis",
     "output_type": "error",
     "traceback": [
      "\u001b[1;31m---------------------------------------------------------------------------\u001b[0m",
      "\u001b[1;31mValueError\u001b[0m                                Traceback (most recent call last)",
      "\u001b[1;32m<ipython-input-88-7aa4b969c2c8>\u001b[0m in \u001b[0;36m<module>\u001b[1;34m()\u001b[0m\n\u001b[1;32m----> 1\u001b[1;33m \u001b[0mX_test\u001b[0m \u001b[1;33m=\u001b[0m \u001b[0mprepare\u001b[0m\u001b[1;33m(\u001b[0m\u001b[0mtest\u001b[0m\u001b[1;33m)\u001b[0m\u001b[1;33m\u001b[0m\u001b[0m\n\u001b[0m\u001b[0;32m      2\u001b[0m \u001b[1;31m#X_test = d.transform(X_test)\u001b[0m\u001b[1;33m\u001b[0m\u001b[1;33m\u001b[0m\u001b[0m\n",
      "\u001b[1;32m~\\Desktop\\microsegm\\utils.py\u001b[0m in \u001b[0;36mprepare\u001b[1;34m(df)\u001b[0m\n\u001b[0;32m    251\u001b[0m         'TXN_TP_POS_SUM_90', 'TXN_TP_Purposeful credit_SUM_180']\n\u001b[0;32m    252\u001b[0m \u001b[1;33m\u001b[0m\u001b[0m\n\u001b[1;32m--> 253\u001b[1;33m \u001b[1;33m\u001b[0m\u001b[0m\n\u001b[0m\u001b[0;32m    254\u001b[0m     \u001b[1;31m#df = df.drop(tr_to_drop, axis=1)\u001b[0m\u001b[1;33m\u001b[0m\u001b[1;33m\u001b[0m\u001b[0m\n\u001b[0;32m    255\u001b[0m \u001b[1;33m\u001b[0m\u001b[0m\n",
      "\u001b[1;32m~\\AppData\\Local\\Continuum\\anaconda3_2\\lib\\site-packages\\pandas\\core\\generic.py\u001b[0m in \u001b[0;36mdrop\u001b[1;34m(self, labels, axis, index, columns, level, inplace, errors)\u001b[0m\n\u001b[0;32m   2528\u001b[0m         \u001b[1;32mfor\u001b[0m \u001b[0maxis\u001b[0m\u001b[1;33m,\u001b[0m \u001b[0mlabels\u001b[0m \u001b[1;32min\u001b[0m \u001b[0maxes\u001b[0m\u001b[1;33m.\u001b[0m\u001b[0mitems\u001b[0m\u001b[1;33m(\u001b[0m\u001b[1;33m)\u001b[0m\u001b[1;33m:\u001b[0m\u001b[1;33m\u001b[0m\u001b[0m\n\u001b[0;32m   2529\u001b[0m             \u001b[1;32mif\u001b[0m \u001b[0mlabels\u001b[0m \u001b[1;32mis\u001b[0m \u001b[1;32mnot\u001b[0m \u001b[1;32mNone\u001b[0m\u001b[1;33m:\u001b[0m\u001b[1;33m\u001b[0m\u001b[0m\n\u001b[1;32m-> 2530\u001b[1;33m                 \u001b[0mobj\u001b[0m \u001b[1;33m=\u001b[0m \u001b[0mobj\u001b[0m\u001b[1;33m.\u001b[0m\u001b[0m_drop_axis\u001b[0m\u001b[1;33m(\u001b[0m\u001b[0mlabels\u001b[0m\u001b[1;33m,\u001b[0m \u001b[0maxis\u001b[0m\u001b[1;33m,\u001b[0m \u001b[0mlevel\u001b[0m\u001b[1;33m=\u001b[0m\u001b[0mlevel\u001b[0m\u001b[1;33m,\u001b[0m \u001b[0merrors\u001b[0m\u001b[1;33m=\u001b[0m\u001b[0merrors\u001b[0m\u001b[1;33m)\u001b[0m\u001b[1;33m\u001b[0m\u001b[0m\n\u001b[0m\u001b[0;32m   2531\u001b[0m \u001b[1;33m\u001b[0m\u001b[0m\n\u001b[0;32m   2532\u001b[0m         \u001b[1;32mif\u001b[0m \u001b[0minplace\u001b[0m\u001b[1;33m:\u001b[0m\u001b[1;33m\u001b[0m\u001b[0m\n",
      "\u001b[1;32m~\\AppData\\Local\\Continuum\\anaconda3_2\\lib\\site-packages\\pandas\\core\\generic.py\u001b[0m in \u001b[0;36m_drop_axis\u001b[1;34m(self, labels, axis, level, errors)\u001b[0m\n\u001b[0;32m   2560\u001b[0m                 \u001b[0mnew_axis\u001b[0m \u001b[1;33m=\u001b[0m \u001b[0maxis\u001b[0m\u001b[1;33m.\u001b[0m\u001b[0mdrop\u001b[0m\u001b[1;33m(\u001b[0m\u001b[0mlabels\u001b[0m\u001b[1;33m,\u001b[0m \u001b[0mlevel\u001b[0m\u001b[1;33m=\u001b[0m\u001b[0mlevel\u001b[0m\u001b[1;33m,\u001b[0m \u001b[0merrors\u001b[0m\u001b[1;33m=\u001b[0m\u001b[0merrors\u001b[0m\u001b[1;33m)\u001b[0m\u001b[1;33m\u001b[0m\u001b[0m\n\u001b[0;32m   2561\u001b[0m             \u001b[1;32melse\u001b[0m\u001b[1;33m:\u001b[0m\u001b[1;33m\u001b[0m\u001b[0m\n\u001b[1;32m-> 2562\u001b[1;33m                 \u001b[0mnew_axis\u001b[0m \u001b[1;33m=\u001b[0m \u001b[0maxis\u001b[0m\u001b[1;33m.\u001b[0m\u001b[0mdrop\u001b[0m\u001b[1;33m(\u001b[0m\u001b[0mlabels\u001b[0m\u001b[1;33m,\u001b[0m \u001b[0merrors\u001b[0m\u001b[1;33m=\u001b[0m\u001b[0merrors\u001b[0m\u001b[1;33m)\u001b[0m\u001b[1;33m\u001b[0m\u001b[0m\n\u001b[0m\u001b[0;32m   2563\u001b[0m             \u001b[0mdropped\u001b[0m \u001b[1;33m=\u001b[0m \u001b[0mself\u001b[0m\u001b[1;33m.\u001b[0m\u001b[0mreindex\u001b[0m\u001b[1;33m(\u001b[0m\u001b[1;33m**\u001b[0m\u001b[1;33m{\u001b[0m\u001b[0maxis_name\u001b[0m\u001b[1;33m:\u001b[0m \u001b[0mnew_axis\u001b[0m\u001b[1;33m}\u001b[0m\u001b[1;33m)\u001b[0m\u001b[1;33m\u001b[0m\u001b[0m\n\u001b[0;32m   2564\u001b[0m             \u001b[1;32mtry\u001b[0m\u001b[1;33m:\u001b[0m\u001b[1;33m\u001b[0m\u001b[0m\n",
      "\u001b[1;32m~\\AppData\\Local\\Continuum\\anaconda3_2\\lib\\site-packages\\pandas\\core\\indexes\\base.py\u001b[0m in \u001b[0;36mdrop\u001b[1;34m(self, labels, errors)\u001b[0m\n\u001b[0;32m   3742\u001b[0m             \u001b[1;32mif\u001b[0m \u001b[0merrors\u001b[0m \u001b[1;33m!=\u001b[0m \u001b[1;34m'ignore'\u001b[0m\u001b[1;33m:\u001b[0m\u001b[1;33m\u001b[0m\u001b[0m\n\u001b[0;32m   3743\u001b[0m                 raise ValueError('labels %s not contained in axis' %\n\u001b[1;32m-> 3744\u001b[1;33m                                  labels[mask])\n\u001b[0m\u001b[0;32m   3745\u001b[0m             \u001b[0mindexer\u001b[0m \u001b[1;33m=\u001b[0m \u001b[0mindexer\u001b[0m\u001b[1;33m[\u001b[0m\u001b[1;33m~\u001b[0m\u001b[0mmask\u001b[0m\u001b[1;33m]\u001b[0m\u001b[1;33m\u001b[0m\u001b[0m\n\u001b[0;32m   3746\u001b[0m         \u001b[1;32mreturn\u001b[0m \u001b[0mself\u001b[0m\u001b[1;33m.\u001b[0m\u001b[0mdelete\u001b[0m\u001b[1;33m(\u001b[0m\u001b[0mindexer\u001b[0m\u001b[1;33m)\u001b[0m\u001b[1;33m\u001b[0m\u001b[0m\n",
      "\u001b[1;31mValueError\u001b[0m: labels ['CODE_17_MEAN_180' 'CODE_26_MEAN_180' 'CODE_26_SUM_180' 'CODE_2_MEAN_180'\n 'CODE_35_MEAN_180' 'CODE_35_SUM_180' 'CODE_46_MEAN_180'\n 'TXN_CHN_Our ATM_MEAN_180' 'TXN_CHN_Our ATM_N_180' 'TXN_TP_ATM_MEAN_180'\n 'TXN_TP_ATM_N_180' 'TXN_TP_MT_MAX_180' 'TXN_TP_MT_MEAN_180'\n 'TXN_TP_MT_N_180' 'TXN_TP_POS_MAX_90' 'TXN_TP_POS_MEAN_31'\n 'TXN_TP_POS_MEAN_90' 'TXN_TP_POS_N_31' 'TXN_TP_POS_N_90'\n 'TXN_TP_POS_SUM_90'] not contained in axis"
     ]
    }
   ],
   "source": [
    "X_test = prepare(test)\n",
    "#X_test = d.transform(X_test)\n"
   ]
  }
 ],
 "metadata": {
  "kernelspec": {
   "display_name": "Python 3",
   "language": "python",
   "name": "python3"
  },
  "language_info": {
   "codemirror_mode": {
    "name": "ipython",
    "version": 3
   },
   "file_extension": ".py",
   "mimetype": "text/x-python",
   "name": "python",
   "nbconvert_exporter": "python",
   "pygments_lexer": "ipython3",
   "version": "3.6.4"
  }
 },
 "nbformat": 4,
 "nbformat_minor": 2
}
