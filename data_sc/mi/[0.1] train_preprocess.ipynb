{
 "cells": [
  {
   "cell_type": "markdown",
   "metadata": {},
   "source": [
    "** Скрипт, неприменяемый к тестовым данным.**\n",
    "\n",
    "В определенный момент были догружена часть отсутствующих данных по соц-дему - возраст для всех и соцдцем для некоторых. Этот скрипт соядинеят исходный трейн и догрузку, затем сохраняет все в файл _'dataset.csv'_. "
   ]
  },
  {
   "cell_type": "code",
   "execution_count": 1,
   "metadata": {},
   "outputs": [],
   "source": [
    "import pandas as pd\n",
    "import numpy as np"
   ]
  },
  {
   "cell_type": "markdown",
   "metadata": {},
   "source": [
    "Исходный датасет:"
   ]
  },
  {
   "cell_type": "code",
   "execution_count": 22,
   "metadata": {
    "scrolled": true
   },
   "outputs": [
    {
     "name": "stdout",
     "output_type": "stream",
     "text": [
      "Dataset size:  (191763, 214)\n"
     ]
    }
   ],
   "source": [
    "file_path = './train_data/dataset.csv'\n",
    "df = pd.read_csv(file_path, sep='>', na_values='<null>', \n",
    "                 parse_dates=['START_DATE', 'LAST_CARD_STATUS_DT', 'LAST_CONTR_STATUS_DT'])\n",
    "print('Dataset size: ', df.shape)"
   ]
  },
  {
   "cell_type": "code",
   "execution_count": null,
   "metadata": {},
   "outputs": [],
   "source": [
    "#df[df['CONTROL_GROUP_FLG']=='N'].count()"
   ]
  },
  {
   "cell_type": "code",
   "execution_count": 3,
   "metadata": {},
   "outputs": [
    {
     "data": {
      "text/plain": [
       "0    164154\n",
       "1     27609\n",
       "Name: label, dtype: int64"
      ]
     },
     "execution_count": 3,
     "metadata": {},
     "output_type": "execute_result"
    }
   ],
   "source": [
    "df['label'].value_counts()"
   ]
  },
  {
   "cell_type": "code",
   "execution_count": 4,
   "metadata": {},
   "outputs": [
    {
     "data": {
      "text/plain": [
       "POS_3     27250\n",
       "Sc_4      23276\n",
       "POS_1     22874\n",
       "POS_2     20670\n",
       "UVEL_4    19130\n",
       "ATM_3     16394\n",
       "UVEL_1    12577\n",
       "Sc_1       9502\n",
       "UVEL_5     8404\n",
       "Sc_6       7651\n",
       "ATM_2      7648\n",
       "ATM_1      5187\n",
       "UVEL_3     4872\n",
       "UVEL_6     2972\n",
       "UVEL_2     2396\n",
       "Sc_5        642\n",
       "Sc_2        296\n",
       "Sc_3         22\n",
       "Name: SCENARIO_NAME_UNI, dtype: int64"
      ]
     },
     "execution_count": 4,
     "metadata": {},
     "output_type": "execute_result"
    }
   ],
   "source": [
    "df['SCENARIO_NAME_UNI'].value_counts()"
   ]
  },
  {
   "cell_type": "markdown",
   "metadata": {},
   "source": [
    "### Догрузка:\n",
    "\n",
    "#### Возраст"
   ]
  },
  {
   "cell_type": "code",
   "execution_count": 5,
   "metadata": {
    "scrolled": true
   },
   "outputs": [
    {
     "data": {
      "text/html": [
       "<div>\n",
       "<style scoped>\n",
       "    .dataframe tbody tr th:only-of-type {\n",
       "        vertical-align: middle;\n",
       "    }\n",
       "\n",
       "    .dataframe tbody tr th {\n",
       "        vertical-align: top;\n",
       "    }\n",
       "\n",
       "    .dataframe thead th {\n",
       "        text-align: right;\n",
       "    }\n",
       "</style>\n",
       "<table border=\"1\" class=\"dataframe\">\n",
       "  <thead>\n",
       "    <tr style=\"text-align: right;\">\n",
       "      <th></th>\n",
       "      <th>CLIENT_ID</th>\n",
       "      <th>CONTRACT_REF</th>\n",
       "      <th>START_DATE</th>\n",
       "      <th>SCENARIO_NAME</th>\n",
       "      <th>BIRTH_DATE</th>\n",
       "    </tr>\n",
       "  </thead>\n",
       "  <tbody>\n",
       "    <tr>\n",
       "      <th>0</th>\n",
       "      <td>105398814</td>\n",
       "      <td>281-P-1027630</td>\n",
       "      <td>2017-03-05</td>\n",
       "      <td>GRAN_UVEL_1_TRUE_BIN</td>\n",
       "      <td>1958-01-14</td>\n",
       "    </tr>\n",
       "    <tr>\n",
       "      <th>1</th>\n",
       "      <td>105398814</td>\n",
       "      <td>281-P-1027630</td>\n",
       "      <td>2016-11-23</td>\n",
       "      <td>UVEL_POS_1</td>\n",
       "      <td>1958-01-14</td>\n",
       "    </tr>\n",
       "    <tr>\n",
       "      <th>2</th>\n",
       "      <td>105395480</td>\n",
       "      <td>281-P-8372534</td>\n",
       "      <td>2016-11-23</td>\n",
       "      <td>UVEL_POS_1</td>\n",
       "      <td>1964-01-17</td>\n",
       "    </tr>\n",
       "    <tr>\n",
       "      <th>3</th>\n",
       "      <td>103277819</td>\n",
       "      <td>271-P-28406103</td>\n",
       "      <td>2017-02-03</td>\n",
       "      <td>UHOD_0102_ATM_3</td>\n",
       "      <td>1977-03-12</td>\n",
       "    </tr>\n",
       "    <tr>\n",
       "      <th>4</th>\n",
       "      <td>103274498</td>\n",
       "      <td>271-P-76850624</td>\n",
       "      <td>2017-05-03</td>\n",
       "      <td>KAE_GRAN_UVEL_4_TRUE</td>\n",
       "      <td>1960-12-25</td>\n",
       "    </tr>\n",
       "  </tbody>\n",
       "</table>\n",
       "</div>"
      ],
      "text/plain": [
       "   CLIENT_ID    CONTRACT_REF START_DATE         SCENARIO_NAME BIRTH_DATE\n",
       "0  105398814   281-P-1027630 2017-03-05  GRAN_UVEL_1_TRUE_BIN 1958-01-14\n",
       "1  105398814   281-P-1027630 2016-11-23            UVEL_POS_1 1958-01-14\n",
       "2  105395480   281-P-8372534 2016-11-23            UVEL_POS_1 1964-01-17\n",
       "3  103277819  271-P-28406103 2017-02-03       UHOD_0102_ATM_3 1977-03-12\n",
       "4  103274498  271-P-76850624 2017-05-03  KAE_GRAN_UVEL_4_TRUE 1960-12-25"
      ]
     },
     "execution_count": 5,
     "metadata": {},
     "output_type": "execute_result"
    }
   ],
   "source": [
    "file_path = './train_data/birth.csv'\n",
    "age = pd.read_csv(file_path, parse_dates=['START_DATE', 'BIRTH_DATE'], dayfirst=True)\n",
    "age.head()"
   ]
  },
  {
   "cell_type": "code",
   "execution_count": 6,
   "metadata": {
    "scrolled": true
   },
   "outputs": [
    {
     "data": {
      "text/html": [
       "<div>\n",
       "<style scoped>\n",
       "    .dataframe tbody tr th:only-of-type {\n",
       "        vertical-align: middle;\n",
       "    }\n",
       "\n",
       "    .dataframe tbody tr th {\n",
       "        vertical-align: top;\n",
       "    }\n",
       "\n",
       "    .dataframe thead th {\n",
       "        text-align: right;\n",
       "    }\n",
       "</style>\n",
       "<table border=\"1\" class=\"dataframe\">\n",
       "  <thead>\n",
       "    <tr style=\"text-align: right;\">\n",
       "      <th></th>\n",
       "      <th>CLIENT_ID</th>\n",
       "      <th>START_DATE</th>\n",
       "    </tr>\n",
       "  </thead>\n",
       "  <tbody>\n",
       "    <tr>\n",
       "      <th>0</th>\n",
       "      <td>105398814</td>\n",
       "      <td>2017-03-05</td>\n",
       "    </tr>\n",
       "    <tr>\n",
       "      <th>1</th>\n",
       "      <td>105398814</td>\n",
       "      <td>2016-11-23</td>\n",
       "    </tr>\n",
       "    <tr>\n",
       "      <th>2</th>\n",
       "      <td>105395480</td>\n",
       "      <td>2016-11-23</td>\n",
       "    </tr>\n",
       "    <tr>\n",
       "      <th>3</th>\n",
       "      <td>103277819</td>\n",
       "      <td>2017-02-03</td>\n",
       "    </tr>\n",
       "    <tr>\n",
       "      <th>4</th>\n",
       "      <td>103274498</td>\n",
       "      <td>2017-05-03</td>\n",
       "    </tr>\n",
       "  </tbody>\n",
       "</table>\n",
       "</div>"
      ],
      "text/plain": [
       "   CLIENT_ID START_DATE\n",
       "0  105398814 2017-03-05\n",
       "1  105398814 2016-11-23\n",
       "2  105395480 2016-11-23\n",
       "3  103277819 2017-02-03\n",
       "4  103274498 2017-05-03"
      ]
     },
     "execution_count": 6,
     "metadata": {},
     "output_type": "execute_result"
    }
   ],
   "source": [
    "a = age[['CLIENT_ID', 'START_DATE']]\n",
    "a.head()\n",
    "#b = a.groupby(['CLIENT_ID']).sum()\n",
    "#b\n",
    "# example of duplicate: clientId = 105398814"
   ]
  },
  {
   "cell_type": "markdown",
   "metadata": {},
   "source": [
    "Соединими данные"
   ]
  },
  {
   "cell_type": "code",
   "execution_count": null,
   "metadata": {},
   "outputs": [],
   "source": [
    "age.shape"
   ]
  },
  {
   "cell_type": "markdown",
   "metadata": {},
   "source": [
    "MAy be merge by pair = ( CLIENT_ID, START_DATE) ?? !"
   ]
  },
  {
   "cell_type": "code",
   "execution_count": 23,
   "metadata": {
    "scrolled": true
   },
   "outputs": [
    {
     "name": "stdout",
     "output_type": "stream",
     "text": [
      "Dataset size:  (191763, 215)\n"
     ]
    }
   ],
   "source": [
    "df = df.merge(\n",
    "    age[['CLIENT_ID', 'BIRTH_DATE']].drop_duplicates(), \n",
    "    how='left', on=['CLIENT_ID'])\n",
    "\n",
    "# del age\n",
    "print('Dataset size: ', df.shape)"
   ]
  },
  {
   "cell_type": "markdown",
   "metadata": {},
   "source": [
    "#### Потерянный соцдем"
   ]
  },
  {
   "cell_type": "code",
   "execution_count": 24,
   "metadata": {
    "scrolled": false
   },
   "outputs": [
    {
     "data": {
      "text/html": [
       "<div>\n",
       "<style scoped>\n",
       "    .dataframe tbody tr th:only-of-type {\n",
       "        vertical-align: middle;\n",
       "    }\n",
       "\n",
       "    .dataframe tbody tr th {\n",
       "        vertical-align: top;\n",
       "    }\n",
       "\n",
       "    .dataframe thead th {\n",
       "        text-align: right;\n",
       "    }\n",
       "</style>\n",
       "<table border=\"1\" class=\"dataframe\">\n",
       "  <thead>\n",
       "    <tr style=\"text-align: right;\">\n",
       "      <th></th>\n",
       "      <th>client_id_w4</th>\n",
       "      <th>contract_ref</th>\n",
       "      <th>clientid_iq</th>\n",
       "      <th>rep_clid</th>\n",
       "      <th>REP_SEX</th>\n",
       "      <th>FL_GOLD</th>\n",
       "      <th>FL_ZP</th>\n",
       "      <th>FL_PENS</th>\n",
       "      <th>FL_STUD</th>\n",
       "      <th>FL_SOC</th>\n",
       "      <th>...</th>\n",
       "      <th>CL_AMT_ZP</th>\n",
       "      <th>CL_CCY_DOP</th>\n",
       "      <th>CL_AMT_DOP</th>\n",
       "      <th>FL_DIR_UCH</th>\n",
       "      <th>FL_4P</th>\n",
       "      <th>FL_DOC_PROFIT</th>\n",
       "      <th>REP_POPULATION</th>\n",
       "      <th>FL_PENS_DOC</th>\n",
       "      <th>FL_FRNG_PASSP</th>\n",
       "      <th>FL_FRGN_TRIP</th>\n",
       "    </tr>\n",
       "  </thead>\n",
       "  <tbody>\n",
       "    <tr>\n",
       "      <th>0</th>\n",
       "      <td>102237196</td>\n",
       "      <td>273-P-46164631</td>\n",
       "      <td>60437726</td>\n",
       "      <td>60437726</td>\n",
       "      <td>F</td>\n",
       "      <td>N</td>\n",
       "      <td>N</td>\n",
       "      <td>N</td>\n",
       "      <td>N</td>\n",
       "      <td>N</td>\n",
       "      <td>...</td>\n",
       "      <td>0.0</td>\n",
       "      <td>RUR</td>\n",
       "      <td>6000.0</td>\n",
       "      <td>N</td>\n",
       "      <td>N</td>\n",
       "      <td>N</td>\n",
       "      <td>0</td>\n",
       "      <td>N</td>\n",
       "      <td>N</td>\n",
       "      <td>N</td>\n",
       "    </tr>\n",
       "    <tr>\n",
       "      <th>1</th>\n",
       "      <td>102312458</td>\n",
       "      <td>271-P-54530230</td>\n",
       "      <td>60624148</td>\n",
       "      <td>60624148</td>\n",
       "      <td>F</td>\n",
       "      <td>N</td>\n",
       "      <td>N</td>\n",
       "      <td>N</td>\n",
       "      <td>N</td>\n",
       "      <td>N</td>\n",
       "      <td>...</td>\n",
       "      <td>10000.0</td>\n",
       "      <td>RUR</td>\n",
       "      <td>0.0</td>\n",
       "      <td>N</td>\n",
       "      <td>N</td>\n",
       "      <td>N</td>\n",
       "      <td>356400</td>\n",
       "      <td>N</td>\n",
       "      <td>N</td>\n",
       "      <td>N</td>\n",
       "    </tr>\n",
       "    <tr>\n",
       "      <th>2</th>\n",
       "      <td>104021631</td>\n",
       "      <td>271-P-58512622</td>\n",
       "      <td>60630217</td>\n",
       "      <td>60630217</td>\n",
       "      <td>M</td>\n",
       "      <td>N</td>\n",
       "      <td>N</td>\n",
       "      <td>N</td>\n",
       "      <td>N</td>\n",
       "      <td>N</td>\n",
       "      <td>...</td>\n",
       "      <td>0.0</td>\n",
       "      <td>RUR</td>\n",
       "      <td>0.0</td>\n",
       "      <td>N</td>\n",
       "      <td>N</td>\n",
       "      <td>N</td>\n",
       "      <td>416200</td>\n",
       "      <td>N</td>\n",
       "      <td>N</td>\n",
       "      <td>N</td>\n",
       "    </tr>\n",
       "    <tr>\n",
       "      <th>3</th>\n",
       "      <td>102527652</td>\n",
       "      <td>271-P-54443129</td>\n",
       "      <td>1004475980</td>\n",
       "      <td>1004475980</td>\n",
       "      <td>M</td>\n",
       "      <td>Y</td>\n",
       "      <td>N</td>\n",
       "      <td>N</td>\n",
       "      <td>N</td>\n",
       "      <td>N</td>\n",
       "      <td>...</td>\n",
       "      <td>20000.0</td>\n",
       "      <td>NaN</td>\n",
       "      <td>0.0</td>\n",
       "      <td>N</td>\n",
       "      <td>N</td>\n",
       "      <td>N</td>\n",
       "      <td>0</td>\n",
       "      <td>N</td>\n",
       "      <td>N</td>\n",
       "      <td>N</td>\n",
       "    </tr>\n",
       "    <tr>\n",
       "      <th>4</th>\n",
       "      <td>103355253</td>\n",
       "      <td>271-P-39321606</td>\n",
       "      <td>1001967290</td>\n",
       "      <td>1001967290</td>\n",
       "      <td>M</td>\n",
       "      <td>Y</td>\n",
       "      <td>N</td>\n",
       "      <td>N</td>\n",
       "      <td>N</td>\n",
       "      <td>N</td>\n",
       "      <td>...</td>\n",
       "      <td>NaN</td>\n",
       "      <td>NaN</td>\n",
       "      <td>NaN</td>\n",
       "      <td>N</td>\n",
       "      <td>N</td>\n",
       "      <td>N</td>\n",
       "      <td>329900</td>\n",
       "      <td>N</td>\n",
       "      <td>N</td>\n",
       "      <td>N</td>\n",
       "    </tr>\n",
       "  </tbody>\n",
       "</table>\n",
       "<p>5 rows × 35 columns</p>\n",
       "</div>"
      ],
      "text/plain": [
       "   client_id_w4    contract_ref  clientid_iq    rep_clid REP_SEX FL_GOLD  \\\n",
       "0     102237196  273-P-46164631     60437726    60437726       F       N   \n",
       "1     102312458  271-P-54530230     60624148    60624148       F       N   \n",
       "2     104021631  271-P-58512622     60630217    60630217       M       N   \n",
       "3     102527652  271-P-54443129   1004475980  1004475980       M       Y   \n",
       "4     103355253  271-P-39321606   1001967290  1001967290       M       Y   \n",
       "\n",
       "  FL_ZP FL_PENS FL_STUD FL_SOC     ...      CL_AMT_ZP CL_CCY_DOP CL_AMT_DOP  \\\n",
       "0     N       N       N      N     ...            0.0        RUR     6000.0   \n",
       "1     N       N       N      N     ...        10000.0        RUR        0.0   \n",
       "2     N       N       N      N     ...            0.0        RUR        0.0   \n",
       "3     N       N       N      N     ...        20000.0        NaN        0.0   \n",
       "4     N       N       N      N     ...            NaN        NaN        NaN   \n",
       "\n",
       "  FL_DIR_UCH  FL_4P  FL_DOC_PROFIT REP_POPULATION FL_PENS_DOC FL_FRNG_PASSP  \\\n",
       "0          N      N              N              0           N             N   \n",
       "1          N      N              N         356400           N             N   \n",
       "2          N      N              N         416200           N             N   \n",
       "3          N      N              N              0           N             N   \n",
       "4          N      N              N         329900           N             N   \n",
       "\n",
       "  FL_FRGN_TRIP  \n",
       "0            N  \n",
       "1            N  \n",
       "2            N  \n",
       "3            N  \n",
       "4            N  \n",
       "\n",
       "[5 rows x 35 columns]"
      ]
     },
     "execution_count": 24,
     "metadata": {},
     "output_type": "execute_result"
    }
   ],
   "source": [
    "file_path = './train_data/2017-07-17 miss_soc_dem_result.xlsx'\n",
    "soc_dem = pd.read_excel(file_path, na_values='<null>')\n",
    "soc_dem.head()"
   ]
  },
  {
   "cell_type": "code",
   "execution_count": 25,
   "metadata": {
    "scrolled": false
   },
   "outputs": [
    {
     "name": "stdout",
     "output_type": "stream",
     "text": [
      "215\n",
      "185\n"
     ]
    }
   ],
   "source": [
    "print(len(df.columns))\n",
    "print(len(df.columns.difference(soc_dem.columns)))"
   ]
  },
  {
   "cell_type": "code",
   "execution_count": 26,
   "metadata": {},
   "outputs": [
    {
     "data": {
      "text/plain": [
       "F    107522\n",
       "M     62132\n",
       "Name: REP_SEX, dtype: int64"
      ]
     },
     "execution_count": 26,
     "metadata": {},
     "output_type": "execute_result"
    }
   ],
   "source": [
    "df['REP_SEX'].value_counts()"
   ]
  },
  {
   "cell_type": "code",
   "execution_count": 27,
   "metadata": {},
   "outputs": [],
   "source": [
    "df_help = df[df.columns.difference(soc_dem.columns)]\\\n",
    "    .merge(soc_dem.drop(['contract_ref', 'clientid_iq', 'rep_clid', 'QTY_CHLD_16'], axis=1), \n",
    "    how='inner', \n",
    "    left_on=['CLIENT_ID'], \n",
    "    right_on=['client_id_w4']).drop(['client_id_w4'], axis=1)"
   ]
  },
  {
   "cell_type": "code",
   "execution_count": null,
   "metadata": {
    "scrolled": true
   },
   "outputs": [],
   "source": [
    "print('Dataset size: ', df.shape)\n",
    "# IT is always True -??\n",
    "len(df[['CONTRACT_REF', 'START_DATE']]) == df.shape[0]"
   ]
  },
  {
   "cell_type": "code",
   "execution_count": null,
   "metadata": {},
   "outputs": [],
   "source": [
    "set(df.columns) == set(df_help.columns)"
   ]
  },
  {
   "cell_type": "code",
   "execution_count": null,
   "metadata": {
    "scrolled": true
   },
   "outputs": [],
   "source": [
    "# Concatting by names , not by index\n",
    "a = pd.DataFrame({'x1':[1,2],\n",
    "                  'x2':[4,5],\n",
    "                  'x3':[7,8]})\n",
    "\n",
    "b = pd.DataFrame({'x2':[10,30],\n",
    "                  'x1':[-1,-2],\n",
    "                  'x4':[100,300]})\n",
    "\n",
    "c = pd.concat([a,b])\n",
    "c"
   ]
  },
  {
   "cell_type": "code",
   "execution_count": null,
   "metadata": {},
   "outputs": [],
   "source": [
    "#df1 = df.drop_duplicates()\n",
    "#df1.shape"
   ]
  },
  {
   "cell_type": "code",
   "execution_count": null,
   "metadata": {},
   "outputs": [],
   "source": [
    "#df.groupby(['CONTRACT_REF', 'START_DATE']).count()"
   ]
  },
  {
   "cell_type": "markdown",
   "metadata": {},
   "source": [
    "Some rows have identical id pair = (contr_ref, start_date), but dofferent features!\n",
    "How to choose what rows to omit?"
   ]
  },
  {
   "cell_type": "code",
   "execution_count": 28,
   "metadata": {
    "scrolled": true
   },
   "outputs": [
    {
     "name": "stdout",
     "output_type": "stream",
     "text": [
      "Dataset size:  (198182, 215)\n",
      "Dataset size:  (191762, 215)\n"
     ]
    }
   ],
   "source": [
    "df = pd.concat([df, df_help])\n",
    "print('Dataset size: ', df.shape)\n",
    "\n",
    "df = df.drop_duplicates(['CONTRACT_REF', 'START_DATE'], keep='last')\n",
    "print('Dataset size: ', df.shape)"
   ]
  },
  {
   "cell_type": "code",
   "execution_count": null,
   "metadata": {},
   "outputs": [],
   "source": [
    "from datetime import date\n",
    "\n",
    "def calculate_age(born):\n",
    "    today = date.today()\n",
    "    return today.year - born.year - ((today.month, today.day) < (born.month, born.day))\n",
    "\n",
    "age_stat_table = df[df['CONTROL_GROUP_FLG']=='N'][ ['CLIENT_ID', 'START_DATE','CONTRACT_REF', 'BIRTH_DATE','label']]\n",
    "#age_stat_table.label.value_counts(normalize=True)\n",
    "\n",
    "age_stat_table['AGE'] = age_stat_table['BIRTH_DATE'].apply(calculate_age)\n",
    "age_stat_table.drop_duplicates(['CLIENT_ID'], inplace=True)\n",
    "age_stat_table.drop(['BIRTH_DATE']).to_csv('./train_data/age_stats.csv', \n",
    "                                           index=False, sep='>', na_rep='<null>', \n",
    "                                           encoding='utf-8')"
   ]
  },
  {
   "cell_type": "markdown",
   "metadata": {},
   "source": [
    "Удалим леваков (Клиентов со сценарием UHOD)"
   ]
  },
  {
   "cell_type": "code",
   "execution_count": null,
   "metadata": {
    "scrolled": false
   },
   "outputs": [],
   "source": [
    "df[df['CONTROL_GROUP_FLG']=='N'].shape"
   ]
  },
  {
   "cell_type": "code",
   "execution_count": null,
   "metadata": {
    "scrolled": false
   },
   "outputs": [],
   "source": [
    "left = pd.read_excel('./train_data/left.xlsx')\n",
    "left.head(2)"
   ]
  },
  {
   "cell_type": "code",
   "execution_count": null,
   "metadata": {},
   "outputs": [],
   "source": [
    "#df['SCENARIO_NAME_UNI'].value_counts()"
   ]
  },
  {
   "cell_type": "code",
   "execution_count": null,
   "metadata": {},
   "outputs": [],
   "source": [
    "df = df[~df['CONTRACT_REF'].isin(left['CONTRACT_REF'])]"
   ]
  },
  {
   "cell_type": "code",
   "execution_count": null,
   "metadata": {},
   "outputs": [],
   "source": [
    "df.shape"
   ]
  },
  {
   "cell_type": "code",
   "execution_count": null,
   "metadata": {},
   "outputs": [],
   "source": [
    "#df['SCENARIO_NAME_UNI'].value_counts()"
   ]
  },
  {
   "cell_type": "markdown",
   "metadata": {},
   "source": [
    "#### Новая целевая переменная"
   ]
  },
  {
   "cell_type": "code",
   "execution_count": null,
   "metadata": {},
   "outputs": [],
   "source": [
    "target = pd.read_csv('./train_data/target.csv', parse_dates=['START_DATE'], dayfirst=True)\n",
    "target.head(5)"
   ]
  },
  {
   "cell_type": "code",
   "execution_count": null,
   "metadata": {
    "scrolled": false
   },
   "outputs": [],
   "source": [
    "target[target['CONTROL_GROUP_FLG']=='N']['TARGET'].value_counts()"
   ]
  },
  {
   "cell_type": "code",
   "execution_count": null,
   "metadata": {},
   "outputs": [],
   "source": [
    "target.shape"
   ]
  },
  {
   "cell_type": "code",
   "execution_count": null,
   "metadata": {
    "scrolled": true
   },
   "outputs": [],
   "source": [
    "target.head()"
   ]
  },
  {
   "cell_type": "code",
   "execution_count": null,
   "metadata": {},
   "outputs": [],
   "source": [
    "df = target.merge(df.drop('label', axis=1), how='left', \n",
    "    on=['CONTRACT_REF', 'START_DATE', 'CONTROL_GROUP_FLG', 'CLIENT_ID'])\n",
    "print('Dataset size: ', df.shape)\n",
    "print('Test group', df[df['CONTROL_GROUP_FLG'] == 'N'].shape[0])\n",
    "print('Control group', df[df['CONTROL_GROUP_FLG'] == 'Y'].shape[0])"
   ]
  },
  {
   "cell_type": "markdown",
   "metadata": {},
   "source": [
    "# ПРОВЕРКА НА НОРМАЛЬНОСТЬ ДЖОЙНА"
   ]
  },
  {
   "cell_type": "markdown",
   "metadata": {},
   "source": [
    "What is it?"
   ]
  },
  {
   "cell_type": "code",
   "execution_count": null,
   "metadata": {},
   "outputs": [],
   "source": [
    "df[pd.isnull(df['BIRTH_DATE'])]['START_DATE'].value_counts(dropna=False)"
   ]
  },
  {
   "cell_type": "code",
   "execution_count": null,
   "metadata": {},
   "outputs": [],
   "source": [
    "df.dropna(subset=['BIRTH_DATE']).to_csv('./train_data/train_dataset.csv', index=False, sep='>', na_rep='<null>', encoding='utf-8')"
   ]
  }
 ],
 "metadata": {
  "kernelspec": {
   "display_name": "Python 3",
   "language": "python",
   "name": "python3"
  },
  "language_info": {
   "codemirror_mode": {
    "name": "ipython",
    "version": 3
   },
   "file_extension": ".py",
   "mimetype": "text/x-python",
   "name": "python",
   "nbconvert_exporter": "python",
   "pygments_lexer": "ipython3",
   "version": "3.6.4"
  }
 },
 "nbformat": 4,
 "nbformat_minor": 2
}
